{
 "cells": [
  {
   "cell_type": "code",
   "execution_count": null,
   "metadata": {},
   "outputs": [],
   "source": []
  },
  {
   "cell_type": "code",
   "execution_count": 7,
   "metadata": {
    "scrolled": true
   },
   "outputs": [],
   "source": [
    "from __future__ import print_function, unicode_literals, absolute_import, division\n",
    "import numpy as np\n",
    "import matplotlib.pyplot as plt\n",
    "%matplotlib inline\n",
    "%config InlineBackend.figure_format = 'retina'\n",
    "import os\n",
    "import glob\n",
    "\n",
    "from skimage import measure\n",
    "from skimage import filters\n",
    "\n",
    "from skimage.filters import threshold_otsu\n",
    "from keras.models import Model, load_model\n",
    "from keras.layers import Input\n",
    "from keras.layers.core import Lambda\n",
    "from keras.layers.convolutional import Conv2D, Conv2DTranspose\n",
    "from keras.layers.pooling import MaxPooling2D\n",
    "from keras.layers.merge import concatenate\n",
    "from keras.callbacks import EarlyStopping, ModelCheckpoint\n",
    "from keras import backend as K\n",
    "from csbdeep.utils import _raise, Path, axes_check_and_normalize,axes_dict, move_image_axes, move_channel_for_backend, backend_channels_last\n",
    "from externalmodels.unet import *\n",
    "import tensorflow as tf\n",
    "from tifffile import imread\n",
    "from csbdeep.utils import Path, download_and_extract_zip_file, plot_some\n",
    "from csbdeep.io import save_tiff_imagej_compatible\n",
    "from csbdeep.models import CARE\n",
    "from stardist import fill_label_holes"
   ]
  },
  {
   "cell_type": "code",
   "execution_count": 8,
   "metadata": {},
   "outputs": [],
   "source": [
    "basedir = '/data/u934/service_imagerie/v_kapoor/HEARD/NormalizedData/'\n",
    "basedirResults = '/data/u934/service_imagerie/v_kapoor/HEARD/ResultsData/'\n",
    "ModelName = 'CAREResUNet_model'\n",
    "BaseDir = 'models'"
   ]
  },
  {
   "cell_type": "code",
   "execution_count": 9,
   "metadata": {},
   "outputs": [
    {
     "name": "stdout",
     "output_type": "stream",
     "text": [
      "(73, 512, 512)\n",
      "Total number of images to be segmented =  20\n",
      "Image size =  (73, 512, 512)\n",
      "Time dim =  73\n",
      "73\n"
     ]
    }
   ],
   "source": [
    "Path = os.path.join(basedir, '*.tif')\n",
    "X = []\n",
    "Y = []\n",
    "Names = []\n",
    "\n",
    "filesRaw = glob.glob(Path)\n",
    "maxtime = 0\n",
    "for fname in filesRaw:\n",
    "     x = imread(fname)\n",
    "     X.append(x)\n",
    "     Names.append(fname)\n",
    "     if X[0].shape[0] > maxtime:\n",
    "      maxtime =  X[0].shape[0]  \n",
    "X.sort\n",
    "Names.sort\n",
    "SegmentedLabels = [];\n",
    "labels = np.array(X[0])\n",
    "print(labels.shape)\n",
    "for i in range(len(X)):\n",
    "    y = np.zeros((maxtime, X[0].shape[1], X[0].shape[2]))\n",
    "    image = X[i]\n",
    "    \n",
    "    y[:X[i].shape[0],:,:] = image[:,:,:]\n",
    "    Y.append(y) \n",
    "Y.sort\n",
    "axes = 'TYX'\n",
    "smallaxes = 'YX'\n",
    "    \n",
    "print('Total number of images to be segmented = ', len(Y))\n",
    "print('Image size = ', Y[0].shape)\n",
    "print('Time dim = ', maxtime )\n",
    "timerange = maxtime \n",
    "count = min(0, len(Y))\n",
    "print(timerange)\n",
    "\n",
    "\n"
   ]
  },
  {
   "cell_type": "code",
   "execution_count": 10,
   "metadata": {},
   "outputs": [
    {
     "name": "stdout",
     "output_type": "stream",
     "text": [
      "Loading network weights from 'weights_best.h5'.\n"
     ]
    }
   ],
   "source": [
    "\n",
    "model  =  CARE(config  =  None,  name  =  ModelName , basedir = BaseDir)\n",
    "SegmentLabels = []"
   ]
  },
  {
   "cell_type": "code",
   "execution_count": 13,
   "metadata": {},
   "outputs": [],
   "source": [
    "def ApplyAll(modelName,img):\n",
    "      \n",
    "    \n",
    "\n",
    "    for j in range(timerange):\n",
    "      \n",
    "   \n",
    "      smallimg = img[j,:,:]\n",
    "      \n",
    "      segmented = model.predict(smallimg, smallaxes)\n",
    "      thresh = segmented.mean()\n",
    "      binary  =  segmented > thresh\n",
    "      smalllabels = measure.label(binary, background=0)\n",
    "      labels [j,:,:] = fill_label_holes(smalllabels[:,:] )\n",
    "  \n",
    "\n",
    "\n",
    "        \n"
   ]
  },
  {
   "cell_type": "code",
   "execution_count": 14,
   "metadata": {},
   "outputs": [
    {
     "name": "stderr",
     "output_type": "stream",
     "text": [
      "/data/u934/service_imagerie/v_kapoor/anaconda2/envs/tensorflowpy3pt5/lib/python3.5/site-packages/csbdeep/utils/utils.py:209: FutureWarning: Using a non-tuple sequence for multidimensional indexing is deprecated; use `arr[tuple(seq)]` instead of `arr[seq]`. In the future this will be interpreted as an array index, `arr[np.array(seq)]`, which will result either in an error or a different result.\n",
      "  x = x[slices]\n",
      "/data/u934/service_imagerie/v_kapoor/anaconda2/envs/tensorflowpy3pt5/lib/python3.5/site-packages/csbdeep/data/prepare.py:284: FutureWarning: Using a non-tuple sequence for multidimensional indexing is deprecated; use `arr[tuple(seq)]` instead of `arr[seq]`. In the future this will be interpreted as an array index, `arr[np.array(seq)]`, which will result either in an error or a different result.\n",
      "  return x[crop]\n"
     ]
    }
   ],
   "source": [
    "\n",
    "for  i  in  range(0,  len(Y)):\n",
    "    \n",
    "               img = Y[i]\n",
    "               ApplyAll(ModelName,img)   \n",
    "\n",
    "        \n",
    " \n",
    "\n",
    "               save_tiff_imagej_compatible((basedirResults + os.path.basename(Names[i])) , labels, axes)  "
   ]
  },
  {
   "cell_type": "code",
   "execution_count": 15,
   "metadata": {},
   "outputs": [
    {
     "data": {
      "text/plain": [
       "<matplotlib.image.AxesImage at 0x7fb3c7055f60>"
      ]
     },
     "execution_count": 15,
     "metadata": {},
     "output_type": "execute_result"
    },
    {
     "data": {
      "image/png": "[encoded data removed]",
      "text/plain": [
       "<Figure size 432x288 with 1 Axes>"
      ]
     },
     "metadata": {
      "image/png": {
       "height": 251,
       "width": 262
      }
     },
     "output_type": "display_data"
    }
   ],
   "source": [
    "plt.imshow(labels[0,:,:])"
   ]
  },
  {
   "cell_type": "code",
   "execution_count": null,
   "metadata": {},
   "outputs": [],
   "source": []
  },
  {
   "cell_type": "code",
   "execution_count": null,
   "metadata": {},
   "outputs": [],
   "source": []
  }
 ],
 "metadata": {
  "kernelspec": {
   "display_name": "Python [conda env:tensorflowpy3pt5]",
   "language": "python",
   "name": "conda-env-tensorflowpy3pt5-py"
  },
  "language_info": {
   "codemirror_mode": {
    "name": "ipython",
    "version": 3
   },
   "file_extension": ".py",
   "mimetype": "text/x-python",
   "name": "python",
   "nbconvert_exporter": "python",
   "pygments_lexer": "ipython3",
   "version": "3.5.5"
  }
 },
 "nbformat": 4,
 "nbformat_minor": 2
}
