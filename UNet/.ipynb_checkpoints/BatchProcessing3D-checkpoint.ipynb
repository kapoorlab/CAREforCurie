{
 "cells": [
  {
   "cell_type": "code",
   "execution_count": 24,
   "metadata": {},
   "outputs": [
    {
     "name": "stderr",
     "output_type": "stream",
     "text": [
      "/data/u934/service_imagerie/v_kapoor/anaconda2/envs/tensorflowpy3pt5/lib/python3.5/importlib/_bootstrap.py:222: RuntimeWarning: numpy.dtype size changed, may indicate binary incompatibility. Expected 96, got 88\n",
      "  return f(*args, **kwds)\n"
     ]
    }
   ],
   "source": [
    "from __future__ import print_function, unicode_literals, absolute_import, division\n",
    "import numpy as np\n",
    "import matplotlib.pyplot as plt\n",
    "%matplotlib inline\n",
    "%config InlineBackend.figure_format = 'retina'\n",
    "import os\n",
    "import glob\n",
    "\n",
    "from skimage import measure\n",
    "from skimage import filters\n",
    "\n",
    "from skimage.filters import threshold_otsu\n",
    "from keras.models import Model, load_model\n",
    "from keras.layers import Input\n",
    "from keras.layers.core import Lambda\n",
    "from keras.layers.convolutional import Conv2D, Conv2DTranspose\n",
    "from keras.layers.pooling import MaxPooling2D\n",
    "from keras.layers.merge import concatenate\n",
    "from keras.callbacks import EarlyStopping, ModelCheckpoint\n",
    "from keras import backend as K\n",
    "from csbdeep.utils import _raise, Path, axes_check_and_normalize,axes_dict, move_image_axes, move_channel_for_backend, backend_channels_last\n",
    "from externalmodels.unet import *\n",
    "import tensorflow as tf\n",
    "from tifffile import imread\n",
    "from csbdeep.utils import Path, download_and_extract_zip_file, plot_some\n",
    "from csbdeep.io import save_tiff_imagej_compatible\n",
    "from csbdeep.models import CARE"
   ]
  },
  {
   "cell_type": "code",
   "execution_count": 2,
   "metadata": {},
   "outputs": [],
   "source": [
    "basedir = '/data/u934/service_imagerie/v_kapoor/StarDistData/TimeData/'\n",
    "basedirResults = '/data/u934/service_imagerie/v_kapoor/StarDistData/JuliaResultsData/Unet/'\n",
    "ModelName = 'CAREUNet_model'\n",
    "BaseDir = 'models'"
   ]
  },
  {
   "cell_type": "code",
   "execution_count": 20,
   "metadata": {},
   "outputs": [
    {
     "name": "stdout",
     "output_type": "stream",
     "text": [
      "(241, 321, 314)\n",
      "Total number of images to be segmented =  1\n",
      "Image size =  (241, 321, 314)\n",
      "Time dim =  241\n",
      "241\n"
     ]
    }
   ],
   "source": [
    "Path = os.path.join(basedir, '*.tif')\n",
    "X = []\n",
    "Y = []\n",
    "Names = []\n",
    "\n",
    "filesRaw = glob.glob(Path)\n",
    "maxtime = 0\n",
    "for fname in filesRaw:\n",
    "     x = imread(fname)\n",
    "     X.append(x)\n",
    "     Names.append(fname)\n",
    "     if X[0].shape[0] > maxtime:\n",
    "      maxtime =  X[0].shape[0]  \n",
    "X.sort\n",
    "Names.sort\n",
    "SegmentedLabels = [];\n",
    "labels = np.array(X[0])\n",
    "print(labels.shape)\n",
    "for i in range(len(X)):\n",
    "    y = np.zeros((maxtime, X[0].shape[1], X[0].shape[2]))\n",
    "    image = X[i]\n",
    "    \n",
    "    y[:X[i].shape[0],:,:] = image[:,:,:]\n",
    "    Y.append(y) \n",
    "Y.sort\n",
    "axes = 'TYX'\n",
    "smallaxes = 'YX'\n",
    "print('Total number of images to be segmented = ', len(X))\n",
    "print('Image size = ', Y[0].shape)\n",
    "print('Time dim = ', maxtime )\n",
    "timerange = maxtime \n",
    "count = min(0, len(X))\n",
    "print(timerange)"
   ]
  },
  {
   "cell_type": "code",
   "execution_count": 21,
   "metadata": {},
   "outputs": [
    {
     "name": "stdout",
     "output_type": "stream",
     "text": [
      "Loading network weights from 'weights_best.h5'.\n"
     ]
    }
   ],
   "source": [
    "\n",
    "model  =  CARE(config  =  None,  name  =  ModelName , basedir = BaseDir)"
   ]
  },
  {
   "cell_type": "code",
   "execution_count": 29,
   "metadata": {},
   "outputs": [],
   "source": [
    "def ApplyModelovertime(modelName,i):\n",
    "      \n",
    "    img = Y[i]\n",
    "    \n",
    "    for j in range(timerange):\n",
    "      \n",
    "      print('Time point = ' , j, 'Image number = ', i)\n",
    "      smallimg = img[j,:,:]\n",
    "      \n",
    "      segmented = model.predict(smallimg, smallaxes)\n",
    "      thresh = threshold_otsu(segmented)\n",
    "      binary  =  segmented > thresh\n",
    "      smalllabels = measure.label(binary, background=0)\n",
    "      labels [j,:,:] = smalllabels[:,:] \n",
    "     \n",
    "      \n",
    "        \n",
    "        \n",
    "        \n",
    "    SegmentedLabels.append(labels)\n",
    "\n",
    "        \n"
   ]
  },
  {
   "cell_type": "code",
   "execution_count": 30,
   "metadata": {},
   "outputs": [
    {
     "name": "stdout",
     "output_type": "stream",
     "text": [
      "Time point =  0 Image number =  0\n",
      "Time point =  1 Image number =  0\n",
      "Time point =  2 Image number =  0\n"
     ]
    },
    {
     "name": "stderr",
     "output_type": "stream",
     "text": [
      "/data/u934/service_imagerie/v_kapoor/anaconda2/envs/tensorflowpy3pt5/lib/python3.5/site-packages/csbdeep/utils/utils.py:209: FutureWarning: Using a non-tuple sequence for multidimensional indexing is deprecated; use `arr[tuple(seq)]` instead of `arr[seq]`. In the future this will be interpreted as an array index, `arr[np.array(seq)]`, which will result either in an error or a different result.\n",
      "  x = x[slices]\n",
      "/data/u934/service_imagerie/v_kapoor/anaconda2/envs/tensorflowpy3pt5/lib/python3.5/site-packages/csbdeep/data/prepare.py:284: FutureWarning: Using a non-tuple sequence for multidimensional indexing is deprecated; use `arr[tuple(seq)]` instead of `arr[seq]`. In the future this will be interpreted as an array index, `arr[np.array(seq)]`, which will result either in an error or a different result.\n",
      "  return x[crop]\n"
     ]
    },
    {
     "name": "stdout",
     "output_type": "stream",
     "text": [
      "Time point =  3 Image number =  0\n",
      "Time point =  4 Image number =  0\n",
      "Time point =  5 Image number =  0\n",
      "Time point =  6 Image number =  0\n",
      "Time point =  7 Image number =  0\n",
      "Time point =  8 Image number =  0\n",
      "Time point =  9 Image number =  0\n",
      "Time point =  10 Image number =  0\n",
      "Time point =  11 Image number =  0\n",
      "Time point =  12 Image number =  0\n",
      "Time point =  13 Image number =  0\n",
      "Time point =  14 Image number =  0\n",
      "Time point =  15 Image number =  0\n",
      "Time point =  16 Image number =  0\n",
      "Time point =  17 Image number =  0\n",
      "Time point =  18 Image number =  0\n",
      "Time point =  19 Image number =  0\n",
      "Time point =  20 Image number =  0\n",
      "Time point =  21 Image number =  0\n",
      "Time point =  22 Image number =  0\n",
      "Time point =  23 Image number =  0\n",
      "Time point =  24 Image number =  0\n",
      "Time point =  25 Image number =  0\n",
      "Time point =  26 Image number =  0\n",
      "Time point =  27 Image number =  0\n",
      "Time point =  28 Image number =  0\n",
      "Time point =  29 Image number =  0\n",
      "Time point =  30 Image number =  0\n",
      "Time point =  31 Image number =  0\n",
      "Time point =  32 Image number =  0\n",
      "Time point =  33 Image number =  0\n",
      "Time point =  34 Image number =  0\n",
      "Time point =  35 Image number =  0\n",
      "Time point =  36 Image number =  0\n",
      "Time point =  37 Image number =  0\n",
      "Time point =  38 Image number =  0\n",
      "Time point =  39 Image number =  0\n",
      "Time point =  40 Image number =  0\n",
      "Time point =  41 Image number =  0\n",
      "Time point =  42 Image number =  0\n",
      "Time point =  43 Image number =  0\n",
      "Time point =  44 Image number =  0\n",
      "Time point =  45 Image number =  0\n",
      "Time point =  46 Image number =  0\n",
      "Time point =  47 Image number =  0\n",
      "Time point =  48 Image number =  0\n",
      "Time point =  49 Image number =  0\n",
      "Time point =  50 Image number =  0\n",
      "Time point =  51 Image number =  0\n",
      "Time point =  52 Image number =  0\n",
      "Time point =  53 Image number =  0\n",
      "Time point =  54 Image number =  0\n",
      "Time point =  55 Image number =  0\n",
      "Time point =  56 Image number =  0\n",
      "Time point =  57 Image number =  0\n",
      "Time point =  58 Image number =  0\n",
      "Time point =  59 Image number =  0\n",
      "Time point =  60 Image number =  0\n",
      "Time point =  61 Image number =  0\n",
      "Time point =  62 Image number =  0\n",
      "Time point =  63 Image number =  0\n",
      "Time point =  64 Image number =  0\n",
      "Time point =  65 Image number =  0\n",
      "Time point =  66 Image number =  0\n",
      "Time point =  67 Image number =  0\n",
      "Time point =  68 Image number =  0\n",
      "Time point =  69 Image number =  0\n",
      "Time point =  70 Image number =  0\n",
      "Time point =  71 Image number =  0\n",
      "Time point =  72 Image number =  0\n",
      "Time point =  73 Image number =  0\n",
      "Time point =  74 Image number =  0\n",
      "Time point =  75 Image number =  0\n",
      "Time point =  76 Image number =  0\n",
      "Time point =  77 Image number =  0\n",
      "Time point =  78 Image number =  0\n",
      "Time point =  79 Image number =  0\n",
      "Time point =  80 Image number =  0\n",
      "Time point =  81 Image number =  0\n",
      "Time point =  82 Image number =  0\n",
      "Time point =  83 Image number =  0\n",
      "Time point =  84 Image number =  0\n",
      "Time point =  85 Image number =  0\n",
      "Time point =  86 Image number =  0\n",
      "Time point =  87 Image number =  0\n",
      "Time point =  88 Image number =  0\n",
      "Time point =  89 Image number =  0\n",
      "Time point =  90 Image number =  0\n",
      "Time point =  91 Image number =  0\n",
      "Time point =  92 Image number =  0\n",
      "Time point =  93 Image number =  0\n",
      "Time point =  94 Image number =  0\n",
      "Time point =  95 Image number =  0\n",
      "Time point =  96 Image number =  0\n",
      "Time point =  97 Image number =  0\n",
      "Time point =  98 Image number =  0\n",
      "Time point =  99 Image number =  0\n",
      "Time point =  100 Image number =  0\n",
      "Time point =  101 Image number =  0\n",
      "Time point =  102 Image number =  0\n",
      "Time point =  103 Image number =  0\n",
      "Time point =  104 Image number =  0\n",
      "Time point =  105 Image number =  0\n",
      "Time point =  106 Image number =  0\n",
      "Time point =  107 Image number =  0\n",
      "Time point =  108 Image number =  0\n",
      "Time point =  109 Image number =  0\n",
      "Time point =  110 Image number =  0\n",
      "Time point =  111 Image number =  0\n",
      "Time point =  112 Image number =  0\n",
      "Time point =  113 Image number =  0\n",
      "Time point =  114 Image number =  0\n",
      "Time point =  115 Image number =  0\n",
      "Time point =  116 Image number =  0\n",
      "Time point =  117 Image number =  0\n",
      "Time point =  118 Image number =  0\n",
      "Time point =  119 Image number =  0\n",
      "Time point =  120 Image number =  0\n",
      "Time point =  121 Image number =  0\n",
      "Time point =  122 Image number =  0\n",
      "Time point =  123 Image number =  0\n",
      "Time point =  124 Image number =  0\n",
      "Time point =  125 Image number =  0\n",
      "Time point =  126 Image number =  0\n",
      "Time point =  127 Image number =  0\n",
      "Time point =  128 Image number =  0\n",
      "Time point =  129 Image number =  0\n",
      "Time point =  130 Image number =  0\n",
      "Time point =  131 Image number =  0\n",
      "Time point =  132 Image number =  0\n",
      "Time point =  133 Image number =  0\n",
      "Time point =  134 Image number =  0\n",
      "Time point =  135 Image number =  0\n",
      "Time point =  136 Image number =  0\n",
      "Time point =  137 Image number =  0\n",
      "Time point =  138 Image number =  0\n",
      "Time point =  139 Image number =  0\n",
      "Time point =  140 Image number =  0\n",
      "Time point =  141 Image number =  0\n",
      "Time point =  142 Image number =  0\n",
      "Time point =  143 Image number =  0\n",
      "Time point =  144 Image number =  0\n",
      "Time point =  145 Image number =  0\n",
      "Time point =  146 Image number =  0\n",
      "Time point =  147 Image number =  0\n",
      "Time point =  148 Image number =  0\n",
      "Time point =  149 Image number =  0\n",
      "Time point =  150 Image number =  0\n",
      "Time point =  151 Image number =  0\n",
      "Time point =  152 Image number =  0\n",
      "Time point =  153 Image number =  0\n",
      "Time point =  154 Image number =  0\n",
      "Time point =  155 Image number =  0\n",
      "Time point =  156 Image number =  0\n",
      "Time point =  157 Image number =  0\n",
      "Time point =  158 Image number =  0\n",
      "Time point =  159 Image number =  0\n",
      "Time point =  160 Image number =  0\n",
      "Time point =  161 Image number =  0\n",
      "Time point =  162 Image number =  0\n",
      "Time point =  163 Image number =  0\n",
      "Time point =  164 Image number =  0\n",
      "Time point =  165 Image number =  0\n",
      "Time point =  166 Image number =  0\n",
      "Time point =  167 Image number =  0\n",
      "Time point =  168 Image number =  0\n",
      "Time point =  169 Image number =  0\n",
      "Time point =  170 Image number =  0\n",
      "Time point =  171 Image number =  0\n",
      "Time point =  172 Image number =  0\n",
      "Time point =  173 Image number =  0\n",
      "Time point =  174 Image number =  0\n",
      "Time point =  175 Image number =  0\n",
      "Time point =  176 Image number =  0\n",
      "Time point =  177 Image number =  0\n",
      "Time point =  178 Image number =  0\n",
      "Time point =  179 Image number =  0\n",
      "Time point =  180 Image number =  0\n",
      "Time point =  181 Image number =  0\n",
      "Time point =  182 Image number =  0\n",
      "Time point =  183 Image number =  0\n",
      "Time point =  184 Image number =  0\n",
      "Time point =  185 Image number =  0\n",
      "Time point =  186 Image number =  0\n",
      "Time point =  187 Image number =  0\n",
      "Time point =  188 Image number =  0\n",
      "Time point =  189 Image number =  0\n",
      "Time point =  190 Image number =  0\n",
      "Time point =  191 Image number =  0\n",
      "Time point =  192 Image number =  0\n",
      "Time point =  193 Image number =  0\n",
      "Time point =  194 Image number =  0\n",
      "Time point =  195 Image number =  0\n",
      "Time point =  196 Image number =  0\n",
      "Time point =  197 Image number =  0\n",
      "Time point =  198 Image number =  0\n",
      "Time point =  199 Image number =  0\n",
      "Time point =  200 Image number =  0\n",
      "Time point =  201 Image number =  0\n",
      "Time point =  202 Image number =  0\n",
      "Time point =  203 Image number =  0\n",
      "Time point =  204 Image number =  0\n",
      "Time point =  205 Image number =  0\n",
      "Time point =  206 Image number =  0\n",
      "Time point =  207 Image number =  0\n",
      "Time point =  208 Image number =  0\n",
      "Time point =  209 Image number =  0\n",
      "Time point =  210 Image number =  0\n",
      "Time point =  211 Image number =  0\n",
      "Time point =  212 Image number =  0\n",
      "Time point =  213 Image number =  0\n",
      "Time point =  214 Image number =  0\n",
      "Time point =  215 Image number =  0\n",
      "Time point =  216 Image number =  0\n",
      "Time point =  217 Image number =  0\n",
      "Time point =  218 Image number =  0\n",
      "Time point =  219 Image number =  0\n",
      "Time point =  220 Image number =  0\n",
      "Time point =  221 Image number =  0\n",
      "Time point =  222 Image number =  0\n",
      "Time point =  223 Image number =  0\n",
      "Time point =  224 Image number =  0\n",
      "Time point =  225 Image number =  0\n",
      "Time point =  226 Image number =  0\n",
      "Time point =  227 Image number =  0\n",
      "Time point =  228 Image number =  0\n",
      "Time point =  229 Image number =  0\n",
      "Time point =  230 Image number =  0\n",
      "Time point =  231 Image number =  0\n",
      "Time point =  232 Image number =  0\n",
      "Time point =  233 Image number =  0\n"
     ]
    },
    {
     "name": "stdout",
     "output_type": "stream",
     "text": [
      "Time point =  234 Image number =  0\n",
      "Time point =  235 Image number =  0\n",
      "Time point =  236 Image number =  0\n",
      "Time point =  237 Image number =  0\n",
      "Time point =  238 Image number =  0\n",
      "Time point =  239 Image number =  0\n",
      "Time point =  240 Image number =  0\n"
     ]
    }
   ],
   "source": [
    "\n",
    "for  i  in  range(0,  len(Y)):\n",
    "    \n",
    "               ApplyModelovertime(ModelName ,i)\n",
    "\n",
    "     "
   ]
  },
  {
   "cell_type": "code",
   "execution_count": 31,
   "metadata": {},
   "outputs": [
    {
     "name": "stdout",
     "output_type": "stream",
     "text": [
      "Saving file/data/u934/service_imagerie/v_kapoor/StarDistData/JuliaResultsData/Unet/Raw.tif\n"
     ]
    },
    {
     "name": "stderr",
     "output_type": "stream",
     "text": [
      "/data/u934/service_imagerie/v_kapoor/anaconda2/envs/tensorflowpy3pt5/lib/python3.5/site-packages/csbdeep/utils/utils.py:209: FutureWarning: Using a non-tuple sequence for multidimensional indexing is deprecated; use `arr[tuple(seq)]` instead of `arr[seq]`. In the future this will be interpreted as an array index, `arr[np.array(seq)]`, which will result either in an error or a different result.\n",
      "  x = x[slices]\n"
     ]
    },
    {
     "name": "stdout",
     "output_type": "stream",
     "text": [
      "(241, 321, 314) 1\n"
     ]
    }
   ],
   "source": [
    "\n",
    "for i in range(0, len(SegmentedLabels)):\n",
    "           print('Saving file'  + basedirResults  + os.path.basename(Names[i]))\n",
    "           save_tiff_imagej_compatible((basedirResults + os.path.basename(Names[i])) , SegmentedLabels[i], axes)   \n",
    "           print(SegmentedLabels[i].shape,len(SegmentedLabels) )"
   ]
  },
  {
   "cell_type": "code",
   "execution_count": 33,
   "metadata": {},
   "outputs": [
    {
     "data": {
      "text/plain": [
       "Text(0.5,1,'Segmentation (last timepoint of last image)')"
      ]
     },
     "execution_count": 33,
     "metadata": {},
     "output_type": "execute_result"
    },
    {
     "data": {
      "image/png": "[encoded data removed]",
      "text/plain": [
       "<Figure size 1152x720 with 1 Axes>"
      ]
     },
     "metadata": {
      "image/png": {
       "height": 461,
       "width": 448
      }
     },
     "output_type": "display_data"
    }
   ],
   "source": [
    "\n",
    "plt.figure(figsize = (16, 10))\n",
    "\n",
    "Lastimage= SegmentedLabels[len(SegmentedLabels) - 1]\n",
    "smallSegmentedLabels = Lastimage[timerange - 1,:,:]\n",
    "\n",
    "plt.subplot(121); plt.imshow(smallSegmentedLabels , cmap = 'gray'); plt.axis('off'); plt.title('Segmentation (last timepoint of last image)')"
   ]
  },
  {
   "cell_type": "code",
   "execution_count": null,
   "metadata": {},
   "outputs": [],
   "source": []
  }
 ],
 "metadata": {
  "kernelspec": {
   "display_name": "Python [conda env:tensorflowpy3pt5]",
   "language": "python",
   "name": "conda-env-tensorflowpy3pt5-py"
  },
  "language_info": {
   "codemirror_mode": {
    "name": "ipython",
    "version": 3
   },
   "file_extension": ".py",
   "mimetype": "text/x-python",
   "name": "python",
   "nbconvert_exporter": "python",
   "pygments_lexer": "ipython3",
   "version": "3.5.5"
  }
 },
 "nbformat": 4,
 "nbformat_minor": 2
}
