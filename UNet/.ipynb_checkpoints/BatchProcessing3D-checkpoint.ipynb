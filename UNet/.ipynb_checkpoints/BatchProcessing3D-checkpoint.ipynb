{
 "cells": [
  {
   "cell_type": "code",
   "execution_count": null,
   "metadata": {},
   "outputs": [],
   "source": [
    "from __future__ import print_function, unicode_literals, absolute_import, division\n",
    "import numpy as np\n",
    "import matplotlib.pyplot as plt\n",
    "%matplotlib inline\n",
    "%config InlineBackend.figure_format = 'retina'\n",
    "import os\n",
    "import glob\n",
    "\n",
    "from tifffile import imread\n",
    "from csbdeep.utils import Path, download_and_extract_zip_file, plot_some\n",
    "from csbdeep.io import save_tiff_imagej_compatible\n",
    "from csbdeep.models import CARE"
   ]
  },
  {
   "cell_type": "code",
   "execution_count": null,
   "metadata": {},
   "outputs": [],
   "source": [
    "basedir = '/data/u934/service_imagerie/v_kapoor/StarDistData/TimeData/'\n",
    "basedirResults = '/data/u934/service_imagerie/v_kapoor/StarDistData/JuliaResultsData/WithoutShapeCompletion/'\n",
    "ModelName = 'UNet_model'\n",
    "\n",
    "BaseDirModels = 'models'"
   ]
  },
  {
   "cell_type": "code",
   "execution_count": null,
   "metadata": {},
   "outputs": [],
   "source": [
    "Path = os.path.join(basedir, '*.tif')\n",
    "X = []\n",
    "Y = []\n",
    "Names = []\n",
    "\n",
    "filesRaw = glob.glob(Path)\n",
    "maxtime = 0\n",
    "for fname in filesRaw:\n",
    "     x = imread(fname)\n",
    "     X.append(x)\n",
    "     Names.append(fname)\n",
    "     if X[0].shape[0] > maxtime:\n",
    "      maxtime =  X[0].shape[0]  \n",
    "X.sort\n",
    "Names.sort\n",
    "SegmentedLabels = [];\n",
    "\n",
    "\n",
    "for i in range(len(X)):\n",
    "    y = np.zeros((maxtime, X[0].shape[1], X[0].shape[2]))\n",
    "    image = X[i]\n",
    "    \n",
    "    y[:X[i].shape[0],:,:] = image[:,:,:]\n",
    "    Y.append(y) \n",
    "Y.sort\n",
    "axes = 'YX'\n",
    "print('Total number of images to be segmented = ', len(X))\n",
    "print('Image size = ', X[0].shape)\n",
    "print('Time dim = ', maxtime )\n",
    "timerange = maxtime \n",
    "count = min(0, len(X))"
   ]
  },
  {
   "cell_type": "code",
   "execution_count": null,
   "metadata": {},
   "outputs": [],
   "source": [
    "model = CARE(config = None, name = ModelName, basedir = BaseDir)"
   ]
  },
  {
   "cell_type": "code",
   "execution_count": null,
   "metadata": {},
   "outputs": [],
   "source": [
    "def ApplyModelovertime(model,i):\n",
    "      \n",
    "    img = Y[i]\n",
    "    for j in range(timerange):\n",
    "      maxpoints = 0;\n",
    "      secdim = 0;\n",
    "      print('Time point = ' , j, 'Image number = ', i)\n",
    "      smallimg = img[j,:,:]\n",
    "      segmented = model.predict(x, axes);\n",
    "      SegmentedLabels.append(segmented)\n",
    "        \n",
    "        \n",
    "print(len(SegmentedLabels))\n",
    "plt.figure(figsize=(13,10))\n",
    "plt.subplot(121); plt.imshow(smallimg,cmap='gray'); plt.axis('off')\n",
    "plt.subplot(121); plt.imshow(segmented,cmap='gray'); plt.axis('off')"
   ]
  },
  {
   "cell_type": "code",
   "execution_count": null,
   "metadata": {},
   "outputs": [],
   "source": [
    "for i in range(0, len(Y)):\n",
    "    \n",
    "       ApplyModelovertime(ModelName ,i)"
   ]
  },
  {
   "cell_type": "code",
   "execution_count": null,
   "metadata": {},
   "outputs": [],
   "source": [
    "(basedirResults)\n",
    "print(len(SegmentedLabels))\n",
    "for i in range(0, len(SegmentedLabels)):\n",
    "           print('Saving file'  + basedirResults  + os.path.basename(Names[i]))\n",
    "           save_tiff_imagej_compatible((basedirResults + os.path.basename(Names[i])) , SegmentedLabels[i], axes)   \n",
    "           print(SegmentedLabels[i].shape,len(SegmentedLabels) )  "
   ]
  },
  {
   "cell_type": "code",
   "execution_count": null,
   "metadata": {},
   "outputs": [],
   "source": [
    "plt.figure(figsize = (16, 10))\n",
    "smallimg = img[timerange - 1,:,:]\n",
    "Lastimage= SegmentedLabels[len(SegmentedLabels) - 1]\n",
    "smallSegmentedLabels = Lastimage[timerange - 1,:,:]\n",
    "plt.subplot(111); plt.imshow(smallimg, cmap = 'gray'); plt.axis('off'); plt.title('Raw Image')\n",
    "plt.subplot(121); plt.imshow(smallSegmentedLabels , cmap = 'gray'); plt.axis('off'); plt.title('Segmentation (last timepoint of last image)')\n"
   ]
  }
 ],
 "metadata": {
  "kernelspec": {
   "display_name": "Python [conda env:tensorflowpy3pt5]",
   "language": "python",
   "name": "conda-env-tensorflowpy3pt5-py"
  },
  "language_info": {
   "codemirror_mode": {
    "name": "ipython",
    "version": 3
   },
   "file_extension": ".py",
   "mimetype": "text/x-python",
   "name": "python",
   "nbconvert_exporter": "python",
   "pygments_lexer": "ipython3",
   "version": "3.5.5"
  }
 },
 "nbformat": 4,
 "nbformat_minor": 2
}
