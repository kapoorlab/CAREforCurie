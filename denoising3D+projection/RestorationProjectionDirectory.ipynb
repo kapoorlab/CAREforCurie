{
 "cells": [
  {
   "cell_type": "code",
   "execution_count": 2,
   "metadata": {},
   "outputs": [],
   "source": [
    "\n",
    "from __future__ import print_function, unicode_literals, absolute_import, division\n",
    "import numpy as np\n",
    "\n",
    "import os\n",
    "import glob\n",
    "#os.environ[\"CUDA_VISIBLE_DEVICES\"]=\"\"\n",
    "\n",
    "from tifffile import imread\n",
    "from csbdeep.utils import Path, download_and_extract_zip_file, plot_some\n",
    "from csbdeep.io import save_tiff_imagej_compatible\n",
    "from csbdeep.models import CARE, ProjectionCARE"
   ]
  },
  {
   "cell_type": "code",
   "execution_count": 3,
   "metadata": {},
   "outputs": [],
   "source": [
    "masterdirLow = '/data/u934/service_imagerie/v_kapoor/Aude_CycE/20191108_CycE/'\n",
    "\n",
    "RestorationModel = 'BorialisS1S2FlorisMidNoiseModel'\n",
    "ProjectionModel = 'DrosophilaDenoisingProjection'\n",
    "BaseDir = '/data/u934/service_imagerie/v_kapoor/CurieDeepLearningModels/'\n"
   ]
  },
  {
   "cell_type": "code",
   "execution_count": 4,
   "metadata": {},
   "outputs": [
    {
     "name": "stdout",
     "output_type": "stream",
     "text": [
      "Loading network weights from 'weights_best.h5'.\n",
      "Loading network weights from 'weights_best.h5'.\n"
     ]
    }
   ],
   "source": [
    "RestorationModel = CARE(config = None, name = RestorationModel, basedir = BaseDir)\n",
    "\n",
    "ProjectionModel = ProjectionCARE(config = None, name = ProjectionModel, basedir = BaseDir)\n",
    "\n",
    "\n",
    "axes = 'ZYX'\n",
    "\n",
    "saveRestorations = False"
   ]
  },
  {
   "cell_type": "code",
   "execution_count": 5,
   "metadata": {},
   "outputs": [
    {
     "name": "stdout",
     "output_type": "stream",
     "text": [
      "Saving file/data/u934/service_imagerie/v_kapoor/Aude_CycE/20191108_CycE//Projections/%s_CycE_29C_40x_bin1_05_5min_1_w2CSU-488_s5_t17.TIF\n"
     ]
    },
    {
     "name": "stderr",
     "output_type": "stream",
     "text": [
      "100%|██████████| 32/32 [02:51<00:00,  4.51s/it]  \n",
      "100%|██████████| 4/4 [00:07<00:00,  1.79s/it]   \n"
     ]
    },
    {
     "name": "stdout",
     "output_type": "stream",
     "text": [
      "Saving file/data/u934/service_imagerie/v_kapoor/Aude_CycE/20191108_CycE//Projections/%s_CycE_29C_40x_bin1_05_5min_1_w2CSU-488_s6_t55.TIF\n"
     ]
    },
    {
     "name": "stderr",
     "output_type": "stream",
     "text": [
      "100%|██████████| 32/32 [02:33<00:00,  4.52s/it]  \n",
      "100%|██████████| 4/4 [00:07<00:00,  1.79s/it]   \n"
     ]
    },
    {
     "name": "stdout",
     "output_type": "stream",
     "text": [
      "Saving file/data/u934/service_imagerie/v_kapoor/Aude_CycE/20191108_CycE//Projections/%s_CycE_29C_40x_bin1_05_5min_1_w2CSU-488_s7_t8.TIF\n"
     ]
    },
    {
     "name": "stderr",
     "output_type": "stream",
     "text": [
      "100%|██████████| 32/32 [02:33<00:00,  4.50s/it]  \n",
      "100%|██████████| 4/4 [00:07<00:00,  1.81s/it]   \n"
     ]
    },
    {
     "name": "stdout",
     "output_type": "stream",
     "text": [
      "Saving file/data/u934/service_imagerie/v_kapoor/Aude_CycE/20191108_CycE//Projections/%s_CycE_29C_40x_bin1_05_5min_1_w2CSU-488_s13_t166.TIF\n"
     ]
    },
    {
     "name": "stderr",
     "output_type": "stream",
     "text": [
      "100%|██████████| 32/32 [02:33<00:00,  4.52s/it]  \n",
      "100%|██████████| 4/4 [00:07<00:00,  1.80s/it]   \n"
     ]
    },
    {
     "name": "stdout",
     "output_type": "stream",
     "text": [
      "Saving file/data/u934/service_imagerie/v_kapoor/Aude_CycE/20191108_CycE//Projections/%s_CycE_29C_40x_bin1_05_5min_1_w2CSU-488_s3_t93.TIF\n"
     ]
    },
    {
     "name": "stderr",
     "output_type": "stream",
     "text": [
      "100%|██████████| 32/32 [02:33<00:00,  4.49s/it]  \n",
      "100%|██████████| 4/4 [00:07<00:00,  1.80s/it]   \n"
     ]
    },
    {
     "name": "stdout",
     "output_type": "stream",
     "text": [
      "Saving file/data/u934/service_imagerie/v_kapoor/Aude_CycE/20191108_CycE//Projections/%s_CycE_29C_40x_bin1_05_5min_1_w2CSU-488_s3_t42.TIF\n"
     ]
    },
    {
     "name": "stderr",
     "output_type": "stream",
     "text": [
      "100%|██████████| 32/32 [02:33<00:00,  4.51s/it]  \n",
      "100%|██████████| 4/4 [00:07<00:00,  1.80s/it]   \n"
     ]
    },
    {
     "name": "stdout",
     "output_type": "stream",
     "text": [
      "Saving file/data/u934/service_imagerie/v_kapoor/Aude_CycE/20191108_CycE//Projections/%s_CycE_29C_40x_bin1_05_5min_1_w2CSU-488_s6_t84.TIF\n"
     ]
    },
    {
     "name": "stderr",
     "output_type": "stream",
     "text": [
      "100%|██████████| 32/32 [02:33<00:00,  4.50s/it]  \n",
      "100%|██████████| 4/4 [00:07<00:00,  1.80s/it]   \n"
     ]
    },
    {
     "name": "stdout",
     "output_type": "stream",
     "text": [
      "Saving file/data/u934/service_imagerie/v_kapoor/Aude_CycE/20191108_CycE//Projections/%s_CycE_29C_40x_bin1_05_5min_1_w2CSU-488_s7_t177.TIF\n"
     ]
    },
    {
     "name": "stderr",
     "output_type": "stream",
     "text": [
      "100%|██████████| 32/32 [02:33<00:00,  4.51s/it]  \n",
      "100%|██████████| 4/4 [00:07<00:00,  1.80s/it]   \n"
     ]
    },
    {
     "name": "stdout",
     "output_type": "stream",
     "text": [
      "Saving file/data/u934/service_imagerie/v_kapoor/Aude_CycE/20191108_CycE//Projections/%s_CycE_29C_40x_bin1_05_5min_1_w2CSU-488_s6_t178.TIF\n"
     ]
    },
    {
     "name": "stderr",
     "output_type": "stream",
     "text": [
      "100%|██████████| 32/32 [02:33<00:00,  4.50s/it]  \n",
      "100%|██████████| 4/4 [00:07<00:00,  1.78s/it]   \n"
     ]
    },
    {
     "name": "stdout",
     "output_type": "stream",
     "text": [
      "Saving file/data/u934/service_imagerie/v_kapoor/Aude_CycE/20191108_CycE//Projections/%s_CycE_29C_40x_bin1_05_5min_1_w2CSU-488_s1_t129.TIF\n"
     ]
    },
    {
     "name": "stderr",
     "output_type": "stream",
     "text": [
      "100%|██████████| 32/32 [02:33<00:00,  4.52s/it]  \n",
      "100%|██████████| 4/4 [00:07<00:00,  1.80s/it]   \n"
     ]
    },
    {
     "name": "stdout",
     "output_type": "stream",
     "text": [
      "Saving file/data/u934/service_imagerie/v_kapoor/Aude_CycE/20191108_CycE//Projections/%s_CycE_29C_40x_bin1_05_5min_1_w2CSU-488_s13_t18.TIF\n"
     ]
    },
    {
     "name": "stderr",
     "output_type": "stream",
     "text": [
      "100%|██████████| 32/32 [02:33<00:00,  4.49s/it]  \n",
      "100%|██████████| 4/4 [00:07<00:00,  1.80s/it]   \n"
     ]
    },
    {
     "name": "stdout",
     "output_type": "stream",
     "text": [
      "Saving file/data/u934/service_imagerie/v_kapoor/Aude_CycE/20191108_CycE//Projections/%s_CycE_29C_40x_bin1_05_5min_1_w2CSU-488_s7_t93.TIF\n"
     ]
    },
    {
     "name": "stderr",
     "output_type": "stream",
     "text": [
      "100%|██████████| 32/32 [02:33<00:00,  4.51s/it]  \n",
      "100%|██████████| 4/4 [00:07<00:00,  1.80s/it]   \n"
     ]
    },
    {
     "name": "stdout",
     "output_type": "stream",
     "text": [
      "Saving file/data/u934/service_imagerie/v_kapoor/Aude_CycE/20191108_CycE//Projections/%s_CycE_29C_40x_bin1_05_5min_1_w2CSU-488_s2_t55.TIF\n"
     ]
    },
    {
     "name": "stderr",
     "output_type": "stream",
     "text": [
      "100%|██████████| 32/32 [02:33<00:00,  4.49s/it]  \n",
      "100%|██████████| 4/4 [00:07<00:00,  1.80s/it]   \n"
     ]
    },
    {
     "name": "stdout",
     "output_type": "stream",
     "text": [
      "Saving file/data/u934/service_imagerie/v_kapoor/Aude_CycE/20191108_CycE//Projections/%s_CycE_29C_40x_bin1_05_5min_1_w2CSU-488_s1_t17.TIF\n"
     ]
    },
    {
     "name": "stderr",
     "output_type": "stream",
     "text": [
      "100%|██████████| 32/32 [02:34<00:00,  4.51s/it]  \n",
      "100%|██████████| 4/4 [00:07<00:00,  1.80s/it]   \n"
     ]
    },
    {
     "name": "stdout",
     "output_type": "stream",
     "text": [
      "Saving file/data/u934/service_imagerie/v_kapoor/Aude_CycE/20191108_CycE//Projections/%s_CycE_29C_40x_bin1_05_5min_1_w2CSU-488_s9_t10.TIF\n"
     ]
    },
    {
     "name": "stderr",
     "output_type": "stream",
     "text": [
      "100%|██████████| 32/32 [02:33<00:00,  4.50s/it]  \n",
      "100%|██████████| 4/4 [00:07<00:00,  1.80s/it]   \n"
     ]
    },
    {
     "name": "stdout",
     "output_type": "stream",
     "text": [
      "Saving file/data/u934/service_imagerie/v_kapoor/Aude_CycE/20191108_CycE//Projections/%s_CycE_29C_40x_bin1_05_5min_1_w2CSU-488_s5_t140.TIF\n"
     ]
    },
    {
     "name": "stderr",
     "output_type": "stream",
     "text": [
      "100%|██████████| 32/32 [02:33<00:00,  4.52s/it]  \n",
      "100%|██████████| 4/4 [00:07<00:00,  1.80s/it]   \n"
     ]
    },
    {
     "name": "stdout",
     "output_type": "stream",
     "text": [
      "Saving file/data/u934/service_imagerie/v_kapoor/Aude_CycE/20191108_CycE//Projections/%s_CycE_29C_40x_bin1_05_5min_1_w2CSU-488_s2_t84.TIF\n"
     ]
    },
    {
     "name": "stderr",
     "output_type": "stream",
     "text": [
      "100%|██████████| 32/32 [02:33<00:00,  4.48s/it]  \n",
      "100%|██████████| 4/4 [00:07<00:00,  1.80s/it]   \n"
     ]
    },
    {
     "name": "stdout",
     "output_type": "stream",
     "text": [
      "Saving file/data/u934/service_imagerie/v_kapoor/Aude_CycE/20191108_CycE//Projections/%s_CycE_29C_40x_bin1_05_5min_1_w2CSU-488_s2_t111.TIF\n"
     ]
    },
    {
     "name": "stderr",
     "output_type": "stream",
     "text": [
      "100%|██████████| 32/32 [02:33<00:00,  4.51s/it]  \n",
      "100%|██████████| 4/4 [00:07<00:00,  1.80s/it]   \n"
     ]
    },
    {
     "name": "stdout",
     "output_type": "stream",
     "text": [
      "Saving file/data/u934/service_imagerie/v_kapoor/Aude_CycE/20191108_CycE//Projections/%s_CycE_29C_40x_bin1_05_5min_1_w2CSU-488_s12_t169.TIF\n"
     ]
    },
    {
     "name": "stderr",
     "output_type": "stream",
     "text": [
      "100%|██████████| 32/32 [02:33<00:00,  4.48s/it]  \n",
      "100%|██████████| 4/4 [00:07<00:00,  1.79s/it]   \n"
     ]
    },
    {
     "name": "stdout",
     "output_type": "stream",
     "text": [
      "Saving file/data/u934/service_imagerie/v_kapoor/Aude_CycE/20191108_CycE//Projections/%s_CycE_29C_40x_bin1_05_5min_1_w2CSU-488_s7_t42.TIF\n"
     ]
    },
    {
     "name": "stderr",
     "output_type": "stream",
     "text": [
      "100%|██████████| 32/32 [02:33<00:00,  4.52s/it]  \n",
      "100%|██████████| 4/4 [00:07<00:00,  1.80s/it]   \n"
     ]
    },
    {
     "name": "stdout",
     "output_type": "stream",
     "text": [
      "Saving file/data/u934/service_imagerie/v_kapoor/Aude_CycE/20191108_CycE//Projections/%s_CycE_29C_40x_bin1_05_5min_1_w2CSU-488_s6_t29.TIF\n"
     ]
    },
    {
     "name": "stderr",
     "output_type": "stream",
     "text": [
      "100%|██████████| 32/32 [02:33<00:00,  4.49s/it]  \n",
      "100%|██████████| 4/4 [00:07<00:00,  1.81s/it]   \n"
     ]
    },
    {
     "name": "stdout",
     "output_type": "stream",
     "text": [
      "Saving file/data/u934/service_imagerie/v_kapoor/Aude_CycE/20191108_CycE//Projections/%s_CycE_29C_40x_bin1_05_5min_1_w2CSU-488_s9_t178.TIF\n"
     ]
    },
    {
     "name": "stderr",
     "output_type": "stream",
     "text": [
      "100%|██████████| 32/32 [02:34<00:00,  4.53s/it]  \n",
      "100%|██████████| 4/4 [00:07<00:00,  1.82s/it]   \n"
     ]
    },
    {
     "name": "stdout",
     "output_type": "stream",
     "text": [
      "Saving file/data/u934/service_imagerie/v_kapoor/Aude_CycE/20191108_CycE//Projections/%s_CycE_29C_40x_bin1_05_5min_1_w2CSU-488_s4_t133.TIF\n"
     ]
    },
    {
     "name": "stderr",
     "output_type": "stream",
     "text": [
      "100%|██████████| 32/32 [02:34<00:00,  4.51s/it]  \n",
      "100%|██████████| 4/4 [00:07<00:00,  1.81s/it]   \n"
     ]
    },
    {
     "name": "stdout",
     "output_type": "stream",
     "text": [
      "Saving file/data/u934/service_imagerie/v_kapoor/Aude_CycE/20191108_CycE//Projections/%s_CycE_29C_40x_bin1_05_5min_1_w2CSU-488_s3_t162.TIF\n"
     ]
    },
    {
     "name": "stderr",
     "output_type": "stream",
     "text": [
      "100%|██████████| 32/32 [02:34<00:00,  4.52s/it]  \n",
      "100%|██████████| 4/4 [00:07<00:00,  1.80s/it]   \n"
     ]
    },
    {
     "name": "stdout",
     "output_type": "stream",
     "text": [
      "Saving file/data/u934/service_imagerie/v_kapoor/Aude_CycE/20191108_CycE//Projections/%s_CycE_29C_40x_bin1_05_5min_1_w2CSU-488_s10_t7.TIF\n"
     ]
    },
    {
     "name": "stderr",
     "output_type": "stream",
     "text": [
      "100%|██████████| 32/32 [02:34<00:00,  4.51s/it]  \n",
      "100%|██████████| 4/4 [00:07<00:00,  1.82s/it]   \n"
     ]
    },
    {
     "name": "stdout",
     "output_type": "stream",
     "text": [
      "Saving file/data/u934/service_imagerie/v_kapoor/Aude_CycE/20191108_CycE//Projections/%s_CycE_29C_40x_bin1_05_5min_1_w2CSU-488_s10_t122.TIF\n"
     ]
    },
    {
     "name": "stderr",
     "output_type": "stream",
     "text": [
      "100%|██████████| 32/32 [02:34<00:00,  4.54s/it]  \n",
      "100%|██████████| 4/4 [00:07<00:00,  1.80s/it]   \n"
     ]
    },
    {
     "name": "stdout",
     "output_type": "stream",
     "text": [
      "Saving file/data/u934/service_imagerie/v_kapoor/Aude_CycE/20191108_CycE//Projections/%s_CycE_29C_40x_bin1_05_5min_1_w2CSU-488_s12_t73.TIF\n"
     ]
    },
    {
     "name": "stderr",
     "output_type": "stream",
     "text": [
      "100%|██████████| 32/32 [02:33<00:00,  4.50s/it]  \n",
      "100%|██████████| 4/4 [00:07<00:00,  1.81s/it]   \n"
     ]
    },
    {
     "name": "stdout",
     "output_type": "stream",
     "text": [
      "Saving file/data/u934/service_imagerie/v_kapoor/Aude_CycE/20191108_CycE//Projections/%s_CycE_29C_40x_bin1_05_5min_1_w2CSU-488_s7_t94.TIF\n"
     ]
    },
    {
     "name": "stderr",
     "output_type": "stream",
     "text": [
      "100%|██████████| 32/32 [02:34<00:00,  4.54s/it]  \n",
      "100%|██████████| 4/4 [00:07<00:00,  1.82s/it]   \n"
     ]
    },
    {
     "name": "stdout",
     "output_type": "stream",
     "text": [
      "Saving file/data/u934/service_imagerie/v_kapoor/Aude_CycE/20191108_CycE//Projections/%s_CycE_29C_40x_bin1_05_5min_1_w2CSU-488_s2_t52.TIF\n"
     ]
    },
    {
     "name": "stderr",
     "output_type": "stream",
     "text": [
      "100%|██████████| 32/32 [02:34<00:00,  4.50s/it]  \n",
      "100%|██████████| 4/4 [00:07<00:00,  1.85s/it]   \n"
     ]
    },
    {
     "name": "stdout",
     "output_type": "stream",
     "text": [
      "Saving file/data/u934/service_imagerie/v_kapoor/Aude_CycE/20191108_CycE//Projections/%s_CycE_29C_40x_bin1_05_5min_1_w2CSU-488_s1_t10.TIF\n"
     ]
    },
    {
     "name": "stderr",
     "output_type": "stream",
     "text": [
      "100%|██████████| 32/32 [02:34<00:00,  4.53s/it]  \n",
      "100%|██████████| 4/4 [00:07<00:00,  1.81s/it]   \n"
     ]
    },
    {
     "name": "stdout",
     "output_type": "stream",
     "text": [
      "Saving file/data/u934/service_imagerie/v_kapoor/Aude_CycE/20191108_CycE//Projections/%s_CycE_29C_40x_bin1_05_5min_1_w2CSU-488_s2_t116.TIF\n"
     ]
    },
    {
     "name": "stderr",
     "output_type": "stream",
     "text": [
      "100%|██████████| 32/32 [02:33<00:00,  4.48s/it]  \n",
      "100%|██████████| 4/4 [00:07<00:00,  1.80s/it]   \n"
     ]
    },
    {
     "name": "stdout",
     "output_type": "stream",
     "text": [
      "Saving file/data/u934/service_imagerie/v_kapoor/Aude_CycE/20191108_CycE//Projections/%s_CycE_29C_40x_bin1_05_5min_1_w2CSU-488_s5_t147.TIF\n"
     ]
    },
    {
     "name": "stderr",
     "output_type": "stream",
     "text": [
      "100%|██████████| 32/32 [02:33<00:00,  4.51s/it]  \n",
      "100%|██████████| 4/4 [00:07<00:00,  1.80s/it]   \n"
     ]
    },
    {
     "name": "stdout",
     "output_type": "stream",
     "text": [
      "Saving file/data/u934/service_imagerie/v_kapoor/Aude_CycE/20191108_CycE//Projections/%s_CycE_29C_40x_bin1_05_5min_1_w2CSU-488_s2_t83.TIF\n"
     ]
    },
    {
     "name": "stderr",
     "output_type": "stream",
     "text": [
      "100%|██████████| 32/32 [02:33<00:00,  4.49s/it]  \n",
      "100%|██████████| 4/4 [00:07<00:00,  1.80s/it]   \n"
     ]
    },
    {
     "name": "stdout",
     "output_type": "stream",
     "text": [
      "Saving file/data/u934/service_imagerie/v_kapoor/Aude_CycE/20191108_CycE//Projections/%s_CycE_29C_40x_bin1_05_5min_1_w2CSU-488_s9_t17.TIF\n"
     ]
    },
    {
     "name": "stderr",
     "output_type": "stream",
     "text": [
      "100%|██████████| 32/32 [02:33<00:00,  4.51s/it]  \n",
      "100%|██████████| 4/4 [00:07<00:00,  1.81s/it]   \n"
     ]
    },
    {
     "name": "stdout",
     "output_type": "stream",
     "text": [
      "Saving file/data/u934/service_imagerie/v_kapoor/Aude_CycE/20191108_CycE//Projections/%s_CycE_29C_40x_bin1_05_5min_1_w2CSU-488_s7_t45.TIF\n"
     ]
    },
    {
     "name": "stderr",
     "output_type": "stream",
     "text": [
      "100%|██████████| 32/32 [02:33<00:00,  4.49s/it]  \n",
      "100%|██████████| 4/4 [00:07<00:00,  1.80s/it]   \n"
     ]
    },
    {
     "name": "stdout",
     "output_type": "stream",
     "text": [
      "Saving file/data/u934/service_imagerie/v_kapoor/Aude_CycE/20191108_CycE//Projections/%s_CycE_29C_40x_bin1_05_5min_1_w2CSU-488_s3_t165.TIF\n"
     ]
    },
    {
     "name": "stderr",
     "output_type": "stream",
     "text": [
      "100%|██████████| 32/32 [02:33<00:00,  4.52s/it]  \n",
      "100%|██████████| 4/4 [00:07<00:00,  1.81s/it]   \n"
     ]
    },
    {
     "name": "stdout",
     "output_type": "stream",
     "text": [
      "Saving file/data/u934/service_imagerie/v_kapoor/Aude_CycE/20191108_CycE//Projections/%s_CycE_29C_40x_bin1_05_5min_1_w2CSU-488_s4_t134.TIF\n"
     ]
    },
    {
     "name": "stderr",
     "output_type": "stream",
     "text": [
      "100%|██████████| 32/32 [02:33<00:00,  4.49s/it]  \n",
      "100%|██████████| 4/4 [00:07<00:00,  1.79s/it]   \n"
     ]
    },
    {
     "name": "stdout",
     "output_type": "stream",
     "text": [
      "Saving file/data/u934/service_imagerie/v_kapoor/Aude_CycE/20191108_CycE//Projections/%s_CycE_29C_40x_bin1_05_5min_1_w2CSU-488_s3_t39.TIF\n"
     ]
    },
    {
     "name": "stderr",
     "output_type": "stream",
     "text": [
      "100%|██████████| 32/32 [02:33<00:00,  4.52s/it]  \n",
      "100%|██████████| 4/4 [00:07<00:00,  1.81s/it]   \n"
     ]
    },
    {
     "name": "stdout",
     "output_type": "stream",
     "text": [
      "Saving file/data/u934/service_imagerie/v_kapoor/Aude_CycE/20191108_CycE//Projections/%s_CycE_29C_40x_bin1_05_5min_1_w2CSU-488_s10_t125.TIF\n"
     ]
    },
    {
     "name": "stderr",
     "output_type": "stream",
     "text": [
      "100%|██████████| 32/32 [02:33<00:00,  4.49s/it]  \n",
      "100%|██████████| 4/4 [00:07<00:00,  1.80s/it]   \n"
     ]
    },
    {
     "name": "stdout",
     "output_type": "stream",
     "text": [
      "Saving file/data/u934/service_imagerie/v_kapoor/Aude_CycE/20191108_CycE//Projections/%s_CycE_29C_40x_bin1_05_5min_1_w2CSU-488_s12_t74.TIF\n"
     ]
    },
    {
     "name": "stderr",
     "output_type": "stream",
     "text": [
      "100%|██████████| 32/32 [02:33<00:00,  4.51s/it]  \n",
      "100%|██████████| 4/4 [00:07<00:00,  1.80s/it]   \n"
     ]
    },
    {
     "name": "stdout",
     "output_type": "stream",
     "text": [
      "Saving file/data/u934/service_imagerie/v_kapoor/Aude_CycE/20191108_CycE//Projections/%s_CycE_29C_40x_bin1_05_5min_1_w2CSU-488_s10_t21.TIF\n"
     ]
    },
    {
     "name": "stderr",
     "output_type": "stream",
     "text": [
      "100%|██████████| 32/32 [02:33<00:00,  4.50s/it]  \n",
      "100%|██████████| 4/4 [00:07<00:00,  1.80s/it]   \n"
     ]
    },
    {
     "name": "stdout",
     "output_type": "stream",
     "text": [
      "Saving file/data/u934/service_imagerie/v_kapoor/Aude_CycE/20191108_CycE//Projections/%s_CycE_29C_40x_bin1_05_5min_1_w2CSU-488_s6_t103.TIF\n"
     ]
    },
    {
     "name": "stderr",
     "output_type": "stream",
     "text": [
      "100%|██████████| 32/32 [02:34<00:00,  4.51s/it]  \n",
      "100%|██████████| 4/4 [00:07<00:00,  1.80s/it]   \n"
     ]
    },
    {
     "name": "stdout",
     "output_type": "stream",
     "text": [
      "Saving file/data/u934/service_imagerie/v_kapoor/Aude_CycE/20191108_CycE//Projections/%s_CycE_29C_40x_bin1_05_5min_1_w2CSU-488_s1_t152.TIF\n"
     ]
    },
    {
     "name": "stderr",
     "output_type": "stream",
     "text": [
      "100%|██████████| 32/32 [02:33<00:00,  4.51s/it]  \n",
      "100%|██████████| 4/4 [00:07<00:00,  1.79s/it]   \n"
     ]
    },
    {
     "name": "stdout",
     "output_type": "stream",
     "text": [
      "Saving file/data/u934/service_imagerie/v_kapoor/Aude_CycE/20191108_CycE//Projections/%s_CycE_29C_40x_bin1_05_5min_1_w2CSU-488_s13_t63.TIF\n"
     ]
    },
    {
     "name": "stderr",
     "output_type": "stream",
     "text": [
      "100%|██████████| 32/32 [02:33<00:00,  4.52s/it]  \n",
      "100%|██████████| 4/4 [00:07<00:00,  1.81s/it]   \n"
     ]
    },
    {
     "name": "stdout",
     "output_type": "stream",
     "text": [
      "Saving file/data/u934/service_imagerie/v_kapoor/Aude_CycE/20191108_CycE//Projections/%s_CycE_29C_40x_bin1_05_5min_1_w2CSU-488_s8_t170.TIF\n"
     ]
    },
    {
     "name": "stderr",
     "output_type": "stream",
     "text": [
      "100%|██████████| 32/32 [02:33<00:00,  4.48s/it]  \n",
      "100%|██████████| 4/4 [00:07<00:00,  1.80s/it]   \n"
     ]
    },
    {
     "name": "stdout",
     "output_type": "stream",
     "text": [
      "Saving file/data/u934/service_imagerie/v_kapoor/Aude_CycE/20191108_CycE//Projections/%s_CycE_29C_40x_bin1_05_5min_1_w2CSU-488_s1_t183.TIF\n"
     ]
    },
    {
     "name": "stderr",
     "output_type": "stream",
     "text": [
      "100%|██████████| 32/32 [02:33<00:00,  4.51s/it]  \n",
      "100%|██████████| 4/4 [00:07<00:00,  1.80s/it]   \n"
     ]
    },
    {
     "name": "stdout",
     "output_type": "stream",
     "text": [
      "Saving file/data/u934/service_imagerie/v_kapoor/Aude_CycE/20191108_CycE//Projections/%s_CycE_29C_40x_bin1_05_5min_1_w2CSU-488_s7_t39.TIF\n"
     ]
    },
    {
     "name": "stderr",
     "output_type": "stream",
     "text": [
      "100%|██████████| 32/32 [02:33<00:00,  4.49s/it]  \n",
      "100%|██████████| 4/4 [00:07<00:00,  1.79s/it]   \n"
     ]
    },
    {
     "name": "stdout",
     "output_type": "stream",
     "text": [
      "Saving file/data/u934/service_imagerie/v_kapoor/Aude_CycE/20191108_CycE//Projections/%s_CycE_29C_40x_bin1_05_5min_1_w2CSU-488_s12_t112.TIF\n"
     ]
    },
    {
     "name": "stderr",
     "output_type": "stream",
     "text": [
      "100%|██████████| 32/32 [02:33<00:00,  4.51s/it]  \n",
      "100%|██████████| 4/4 [00:07<00:00,  1.81s/it]   \n"
     ]
    },
    {
     "name": "stdout",
     "output_type": "stream",
     "text": [
      "Saving file/data/u934/service_imagerie/v_kapoor/Aude_CycE/20191108_CycE//Projections/%s_CycE_29C_40x_bin1_05_5min_1_w2CSU-488_s5_t10.TIF\n"
     ]
    },
    {
     "name": "stderr",
     "output_type": "stream",
     "text": [
      "100%|██████████| 32/32 [02:33<00:00,  4.49s/it]  \n",
      "100%|██████████| 4/4 [00:07<00:00,  1.80s/it]   \n"
     ]
    },
    {
     "name": "stdout",
     "output_type": "stream",
     "text": [
      "Saving file/data/u934/service_imagerie/v_kapoor/Aude_CycE/20191108_CycE//Projections/%s_CycE_29C_40x_bin1_05_5min_1_w2CSU-488_s9_t103.TIF\n"
     ]
    },
    {
     "name": "stderr",
     "output_type": "stream",
     "text": [
      "100%|██████████| 32/32 [02:33<00:00,  4.51s/it]  \n",
      "100%|██████████| 4/4 [00:07<00:00,  1.80s/it]   \n"
     ]
    },
    {
     "name": "stdout",
     "output_type": "stream",
     "text": [
      "Saving file/data/u934/service_imagerie/v_kapoor/Aude_CycE/20191108_CycE//Projections/%s_CycE_29C_40x_bin1_05_5min_1_w2CSU-488_s13_t161.TIF\n"
     ]
    },
    {
     "name": "stderr",
     "output_type": "stream",
     "text": [
      "100%|██████████| 32/32 [02:33<00:00,  4.49s/it]  \n",
      "100%|██████████| 4/4 [00:07<00:00,  1.80s/it]   \n"
     ]
    },
    {
     "name": "stdout",
     "output_type": "stream",
     "text": [
      "Saving file/data/u934/service_imagerie/v_kapoor/Aude_CycE/20191108_CycE//Projections/%s_CycE_29C_40x_bin1_05_5min_1_w2CSU-488_s6_t52.TIF\n"
     ]
    },
    {
     "name": "stderr",
     "output_type": "stream",
     "text": [
      "100%|██████████| 32/32 [02:33<00:00,  4.51s/it]  \n",
      "100%|██████████| 4/4 [00:07<00:00,  1.79s/it]   \n"
     ]
    },
    {
     "name": "stdout",
     "output_type": "stream",
     "text": [
      "Saving file/data/u934/service_imagerie/v_kapoor/Aude_CycE/20191108_CycE//Projections/%s_CycE_29C_40x_bin1_05_5min_1_w2CSU-488_s4_t148.TIF\n"
     ]
    },
    {
     "name": "stderr",
     "output_type": "stream",
     "text": [
      "100%|██████████| 32/32 [02:33<00:00,  4.49s/it]  \n",
      "100%|██████████| 4/4 [00:07<00:00,  1.80s/it]   \n"
     ]
    },
    {
     "name": "stdout",
     "output_type": "stream",
     "text": [
      "Saving file/data/u934/service_imagerie/v_kapoor/Aude_CycE/20191108_CycE//Projections/%s_CycE_29C_40x_bin1_05_5min_1_w2CSU-488_s3_t119.TIF\n"
     ]
    },
    {
     "name": "stderr",
     "output_type": "stream",
     "text": [
      "100%|██████████| 32/32 [02:33<00:00,  4.51s/it]  \n",
      "100%|██████████| 4/4 [00:07<00:00,  1.80s/it]   \n"
     ]
    },
    {
     "name": "stdout",
     "output_type": "stream",
     "text": [
      "Saving file/data/u934/service_imagerie/v_kapoor/Aude_CycE/20191108_CycE//Projections/%s_CycE_29C_40x_bin1_05_5min_1_w2CSU-488_s3_t94.TIF\n"
     ]
    },
    {
     "name": "stderr",
     "output_type": "stream",
     "text": [
      "100%|██████████| 32/32 [02:33<00:00,  4.50s/it]  \n",
      "100%|██████████| 4/4 [00:07<00:00,  1.81s/it]   \n"
     ]
    },
    {
     "name": "stdout",
     "output_type": "stream",
     "text": [
      "Saving file/data/u934/service_imagerie/v_kapoor/Aude_CycE/20191108_CycE//Projections/%s_CycE_29C_40x_bin1_05_5min_1_w2CSU-488_s10_t159.TIF\n"
     ]
    },
    {
     "name": "stderr",
     "output_type": "stream",
     "text": [
      "100%|██████████| 32/32 [02:33<00:00,  4.52s/it]  \n",
      "100%|██████████| 4/4 [00:07<00:00,  1.81s/it]   \n"
     ]
    },
    {
     "name": "stdout",
     "output_type": "stream",
     "text": [
      "Saving file/data/u934/service_imagerie/v_kapoor/Aude_CycE/20191108_CycE//Projections/%s_CycE_29C_40x_bin1_05_5min_1_w2CSU-488_s3_t45.TIF\n"
     ]
    },
    {
     "name": "stderr",
     "output_type": "stream",
     "text": [
      "100%|██████████| 32/32 [02:33<00:00,  4.49s/it]  \n",
      "100%|██████████| 4/4 [00:07<00:00,  1.79s/it]   \n"
     ]
    },
    {
     "name": "stdout",
     "output_type": "stream",
     "text": [
      "Saving file/data/u934/service_imagerie/v_kapoor/Aude_CycE/20191108_CycE//Projections/%s_CycE_29C_40x_bin1_05_5min_1_w2CSU-488_s6_t83.TIF\n"
     ]
    },
    {
     "name": "stderr",
     "output_type": "stream",
     "text": [
      "100%|██████████| 32/32 [02:34<00:00,  4.52s/it]  \n",
      "100%|██████████| 4/4 [00:07<00:00,  1.81s/it]   \n"
     ]
    },
    {
     "name": "stdout",
     "output_type": "stream",
     "text": [
      "Saving file/data/u934/service_imagerie/v_kapoor/Aude_CycE/20191108_CycE//Projections/%s_CycE_29C_40x_bin1_05_5min_1_w2CSU-488_s7_t170.TIF\n"
     ]
    },
    {
     "name": "stderr",
     "output_type": "stream",
     "text": [
      "100%|██████████| 32/32 [02:33<00:00,  4.48s/it] \n",
      "100%|██████████| 4/4 [00:07<00:00,  1.80s/it]   \n"
     ]
    }
   ],
   "source": [
    "Raw_path = os.path.join(masterdirLow, '*TIF')\n",
    "\n",
    "\n",
    "basedirResults2D = masterdirLow + '/Projections/'\n",
    "\n",
    "Path(basedirResults2D).mkdir(exist_ok = True)\n",
    "    \n",
    "if saveRestorations:\n",
    "     basedirResults3D = masterdirLow + '/3DResults/'\n",
    "     Path(basedirResults3D).mkdir(exist_ok = True)\n",
    "    \n",
    "\n",
    "filesRaw = glob.glob(Raw_path)\n",
    "\n",
    "filesRaw.sort\n",
    "\n",
    "for fname in filesRaw:\n",
    "        y = imread(fname)\n",
    "      \n",
    "        print('Saving file' +  basedirResults2D + '%s_' + os.path.basename(fname))\n",
    "\n",
    "        restored = RestorationModel.predict(y, axes, n_tiles = (1,4,8))\n",
    "        projection = ProjectionModel.predict(restored, axes, n_tiles = (1,2,2)) \n",
    "        axes_restored = axes.replace(ProjectionModel.proj_params.axis, '')\n",
    "        if saveRestorations:\n",
    "          save_tiff_imagej_compatible((basedirResults3D + '%s_' + 'Restored'  + os.path.basename(fname)) % RestorationModel.name, restored, axes)\n",
    "\n",
    "        save_tiff_imagej_compatible((basedirResults2D + '%s_' + 'Projected' +  os.path.basename(fname)) %  ProjectionModel.name , projection, axes_restored)\n",
    "\n",
    "    "
   ]
  },
  {
   "cell_type": "code",
   "execution_count": null,
   "metadata": {},
   "outputs": [],
   "source": []
  }
 ],
 "metadata": {
  "kernelspec": {
   "display_name": "Python [conda env:tensorflowEXP]",
   "language": "python",
   "name": "conda-env-tensorflowEXP-py"
  },
  "language_info": {
   "codemirror_mode": {
    "name": "ipython",
    "version": 3
   },
   "file_extension": ".py",
   "mimetype": "text/x-python",
   "name": "python",
   "nbconvert_exporter": "python",
   "pygments_lexer": "ipython3",
   "version": "3.5.6"
  }
 },
 "nbformat": 4,
 "nbformat_minor": 2
}
