{
 "cells": [
  {
   "cell_type": "code",
   "execution_count": 1,
   "metadata": {},
   "outputs": [
    {
     "name": "stderr",
     "output_type": "stream",
     "text": [
      "Using TensorFlow backend.\n"
     ]
    }
   ],
   "source": [
    "\n",
    "from __future__ import print_function, unicode_literals, absolute_import, division\n",
    "import numpy as np\n",
    "import matplotlib.pyplot as plt\n",
    "%matplotlib inline\n",
    "%config InlineBackend.figure_format = 'retina'\n",
    "import os\n",
    "import glob\n",
    "from csbdeep.utils.tf import limit_gpu_memory\n",
    "\n",
    "from tifffile import imread\n",
    "from csbdeep.utils import Path, download_and_extract_zip_file, plot_some\n",
    "from csbdeep.io import save_tiff_imagej_compatible\n",
    "from csbdeep.models import ProjectionCARE\n"
   ]
  },
  {
   "cell_type": "code",
   "execution_count": null,
   "metadata": {},
   "outputs": [],
   "source": [
    "basedirLow = '/data/u934/service_imagerie/v_kapoor/Fl4-2-Var/dysRNAi_ECadGFPki-hetero_32pre29_bin140x_mov3/ProjectionTest/'\n",
    "basedirResults = '/data/u934/service_imagerie/v_kapoor/Fl4-2-Var/dysRNAi_ECadGFPki-hetero_32pre29_bin140x_mov3/ProjectionResults/'\n",
    "ModelName = 'DrosophilaDenoisingProjection'\n",
    "BaseDir = '/data/u934/service_imagerie/v_kapoor/CurieDeepLearningModels/'"
   ]
  },
  {
   "cell_type": "code",
   "execution_count": null,
   "metadata": {},
   "outputs": [],
   "source": [
    "model = ProjectionCARE(config = None, name = ModelName, basedir = BaseDir)"
   ]
  },
  {
   "cell_type": "code",
   "execution_count": null,
   "metadata": {},
   "outputs": [],
   "source": [
    "%%time\n",
    "\n",
    "Raw_path = os.path.join(basedirLow, '*tif')\n",
    "Path(basedirResults).mkdir(exist_ok = True)\n",
    "axes = 'ZYX'\n",
    "filesRaw = glob.glob(Raw_path)\n",
    "filesRaw.sort\n",
    "for fname in filesRaw:\n",
    "        x = imread(fname)\n",
    "        print('Saving file' +  basedirResults + '%s_' + os.path.basename(fname))\n",
    "        restored = model.predict(x, axes, n_tiles = (1, 8, 16)) \n",
    "        axes_restored = axes.replace(model.proj_params.axis,'')\n",
    "        save_tiff_imagej_compatible((basedirResults + '%s_' + os.path.basename(fname)) % model.name, restored, axes_restored)"
   ]
  }
 ],
 "metadata": {
  "kernelspec": {
   "display_name": "Python [conda env:tensorflowpy3pt5]",
   "language": "python",
   "name": "conda-env-tensorflowpy3pt5-py"
  },
  "language_info": {
   "codemirror_mode": {
    "name": "ipython",
    "version": 3
   },
   "file_extension": ".py",
   "mimetype": "text/x-python",
   "name": "python",
   "nbconvert_exporter": "python",
   "pygments_lexer": "ipython3",
   "version": "3.5.5"
  }
 },
 "nbformat": 4,
 "nbformat_minor": 2
}
