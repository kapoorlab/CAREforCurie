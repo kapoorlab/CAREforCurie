{
 "cells": [
  {
   "cell_type": "code",
   "execution_count": 1,
   "metadata": {},
   "outputs": [
    {
     "name": "stderr",
     "output_type": "stream",
     "text": [
      "Using TensorFlow backend.\n"
     ]
    }
   ],
   "source": [
    "\n",
    "from __future__ import print_function, unicode_literals, absolute_import, division\n",
    "import numpy as np\n",
    "\n",
    "import os\n",
    "import glob\n",
    "os.environ[\"CUDA_VISIBLE_DEVICES\"]=\"\"\n",
    "\n",
    "from tifffile import imread\n",
    "from csbdeep.utils import Path, download_and_extract_zip_file, plot_some\n",
    "from csbdeep.io import save_tiff_imagej_compatible\n",
    "from csbdeep.models import CARE, ProjectionCARE"
   ]
  },
  {
   "cell_type": "code",
   "execution_count": 2,
   "metadata": {},
   "outputs": [],
   "source": [
    "masterdirLow = '/data/u934/service_imagerie/v_kapoor/Aude_CycE/20191108_CycE/'\n",
    "\n",
    "RestorationModel = 'BorialisS1S2FlorisMidNoiseModel'\n",
    "ProjectionModel = 'DrosophilaDenoisingProjection'\n",
    "BaseDir = '/data/u934/service_imagerie/v_kapoor/CurieDeepLearningModels/'\n"
   ]
  },
  {
   "cell_type": "code",
   "execution_count": 3,
   "metadata": {},
   "outputs": [
    {
     "name": "stdout",
     "output_type": "stream",
     "text": [
      "Loading network weights from 'weights_best.h5'.\n",
      "Loading network weights from 'weights_best.h5'.\n"
     ]
    }
   ],
   "source": [
    "RestorationModel = CARE(config = None, name = RestorationModel, basedir = BaseDir)\n",
    "\n",
    "ProjectionModel = ProjectionCARE(config = None, name = ProjectionModel, basedir = BaseDir)\n",
    "\n",
    "\n",
    "axes = 'ZYX'\n",
    "\n",
    "saveRestorations = False"
   ]
  },
  {
   "cell_type": "code",
   "execution_count": 4,
   "metadata": {},
   "outputs": [
    {
     "ename": "IndentationError",
     "evalue": "unexpected indent (<ipython-input-4-f916b4249eee>, line 20)",
     "output_type": "error",
     "traceback": [
      "\u001b[0;36m  File \u001b[0;32m\"<ipython-input-4-f916b4249eee>\"\u001b[0;36m, line \u001b[0;32m20\u001b[0m\n\u001b[0;31m    print('Saving file' +  basedirResults2D + '%s_' + os.path.basename(fname))\u001b[0m\n\u001b[0m    ^\u001b[0m\n\u001b[0;31mIndentationError\u001b[0m\u001b[0;31m:\u001b[0m unexpected indent\n"
     ]
    }
   ],
   "source": [
    "Raw_path = os.path.join(masterdirLow, '*TIF')\n",
    "\n",
    "\n",
    "basedirResults2D = masterdirLow + '/Projections/'\n",
    "\n",
    "Path(basedirResults2D).mkdir(exist_ok = True)\n",
    "    \n",
    "if saveRestorations:\n",
    "     basedirResults3D = masterdirLow + '/3DResults/'\n",
    "     Path(basedirResults3D).mkdir(exist_ok = True)\n",
    "    \n",
    "\n",
    "filesRaw = glob.glob(Raw_path)\n",
    "\n",
    "filesRaw.sort\n",
    "\n",
    "for fname in filesRaw:\n",
    "        y = imread(fname)\n",
    "      \n",
    "        print('Saving file' +  basedirResults2D + '%s_' + os.path.basename(fname))\n",
    "\n",
    "        restored = RestorationModel.predict(y, axes, n_tiles = (1,4,8))\n",
    "        projection = ProjectionModel.predict(restored, axes, n_tiles = (1,2,2)) \n",
    "        axes_restored = axes.replace(ProjectionModel.proj_params.axis, '')\n",
    "        if saveRestorations:\n",
    "          save_tiff_imagej_compatible((basedirResults3D + '%s_' + 'Restored'  + os.path.basename(fname)) % RestorationModel.name, restored, axes)\n",
    "\n",
    "        save_tiff_imagej_compatible((basedirResults2D + '%s_' + 'Projected' +  os.path.basename(fname)) %  ProjectionModel.name , projection, axes_restored)\n",
    "\n",
    "    "
   ]
  },
  {
   "cell_type": "code",
   "execution_count": null,
   "metadata": {},
   "outputs": [],
   "source": []
  }
 ],
 "metadata": {
  "kernelspec": {
   "display_name": "Python [conda env:tensorflowEXP]",
   "language": "python",
   "name": "conda-env-tensorflowEXP-py"
  },
  "language_info": {
   "codemirror_mode": {
    "name": "ipython",
    "version": 3
   },
   "file_extension": ".py",
   "mimetype": "text/x-python",
   "name": "python",
   "nbconvert_exporter": "python",
   "pygments_lexer": "ipython3",
   "version": "3.5.6"
  }
 },
 "nbformat": 4,
 "nbformat_minor": 2
}
