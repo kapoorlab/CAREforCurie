{
 "cells": [
  {
   "cell_type": "code",
   "execution_count": null,
   "metadata": {},
   "outputs": [],
   "source": [
    "from __future__ import print_function, unicode_literals, absolute_import, division\n",
    "import numpy as np\n",
    "import matplotlib.pyplot as plt\n",
    "%matplotlib inline\n",
    "%config InlineBackend.figure_format = 'retina'\n",
    "\n",
    "from tifffile import imread\n",
    "from csbdeep.utils import Path, download_and_extract_zip_file, plot_some\n",
    "from csbdeep.io import save_tiff_imagej_compatible\n",
    "from csbdeep.models import UpsamplingCARE"
   ]
  },
  {
   "cell_type": "code",
   "execution_count": null,
   "metadata": {},
   "outputs": [],
   "source": [
    "basedirGT = '/data/u934/service_imagerie/v_kapoor/PairTestData/GT/'\n",
    "basedirLow = '/data/u934/service_imagerie/v_kapoor/PairTestData/Low/'\n",
    "basedirResults = '/data/u934/service_imagerie/v_kapoor/PairTestData/resultsUpsampling/'"
   ]
  },
  {
   "cell_type": "code",
   "execution_count": null,
   "metadata": {},
   "outputs": [],
   "source": [
    "GT_path = os.path.join(basedirGT, '*tif')\n",
    "GTfiles = []\n",
    "Names = []\n",
    "filesGT = glob.glob(GT_path)\n",
    "for fname in filesGT:\n",
    "      y = imread(fname)\n",
    "    \n",
    "      GTfiles.append(y)\n",
    "Raw_path = os.path.join(basedirLow, '*tif')\n",
    "Rawfiles = []\n",
    "filesRaw = glob.glob(Raw_path)\n",
    "for fname in filesRaw:\n",
    "        x = imread(fname)\n",
    "        Names.append(fname)\n",
    "        print('Filename = ', fname)\n",
    "        Rawfiles.append(x)\n",
    "       \n",
    "GTfiles.sort\n",
    "Rawfiles.sort\n",
    "Names.sort\n",
    "axes = 'ZYX'\n",
    "print('total Low images = ', len(Rawfiles))\n",
    "print('total GT images = ', len(GTfiles))\n",
    "print('image size =', x.shape)\n",
    "print('image axes =', axes)\n",
    "assert(len(Rawfiles) == len(GTfiles))\n",
    "for i in range(0, len(Rawfiles)):\n",
    "     plt.figure(figsize=(16,10))\n",
    "      \n",
    "     plot_some(np.stack([Rawfiles[i],GTfiles[i]]),\n",
    "          title_list=[['low (maximum projection)','GT (maximum projection)']], \n",
    "          pmin=2,pmax=99.8);"
   ]
  },
  {
   "cell_type": "code",
   "execution_count": null,
   "metadata": {},
   "outputs": [],
   "source": [
    "model = UpsamplingCARE(config=None, name='upSampling3DSyntheticLow', basedir='models')"
   ]
  },
  {
   "cell_type": "code",
   "execution_count": null,
   "metadata": {},
   "outputs": [],
   "source": [
    "%%time\n",
    "\n",
    "Restoredfiles = []\n",
    "for x in Rawfiles:\n",
    "     restored = model.predict(x, axes)\n",
    "     Restoredfiles.append(restored)\n",
    "     print('input  size =', x.shape)\n",
    "     print('output size =', restored.shape)\n",
    "     print()"
   ]
  },
  {
   "cell_type": "code",
   "execution_count": null,
   "metadata": {},
   "outputs": [],
   "source": [
    "Path(basedirResults).mkdir(exist_ok=True)\n",
    "for i in range(0, len(Names)):\n",
    "     print((basedirResults + '%s_' + os.path.basename(Names[i]) ))\n",
    "     save_tiff_imagej_compatible((basedirResults + '%s_' + os.path.basename(Names[i]) ) % model.name, Restoredfiles[i], axes)"
   ]
  },
  {
   "cell_type": "code",
   "execution_count": null,
   "metadata": {},
   "outputs": [],
   "source": [
    "for i in range(0, len(Restoredfiles)):\n",
    "      plt.figure(figsize=(16,10))\n",
    "      plot_some(np.stack([Restoredfiles[i]]),\n",
    "          title_list=[['CARE (maximum projection)']], \n",
    "          pmin=2,pmax=99.8);\n",
    "      print('Filename = ', Names[i])"
   ]
  }
 ],
 "metadata": {
  "kernelspec": {
   "display_name": "Python [conda env:tensorflowpy3pt5]",
   "language": "python",
   "name": "conda-env-tensorflowpy3pt5-py"
  },
  "language_info": {
   "codemirror_mode": {
    "name": "ipython",
    "version": 3
   },
   "file_extension": ".py",
   "mimetype": "text/x-python",
   "name": "python",
   "nbconvert_exporter": "python",
   "pygments_lexer": "ipython3",
   "version": "3.5.5"
  }
 },
 "nbformat": 4,
 "nbformat_minor": 2
}
