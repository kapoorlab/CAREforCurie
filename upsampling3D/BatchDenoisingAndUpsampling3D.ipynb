{
 "cells": [
  {
   "cell_type": "code",
   "execution_count": null,
   "metadata": {},
   "outputs": [],
   "source": [
    "from __future__ import print_function, unicode_literals, absolute_import, division\n",
    "import numpy as np\n",
    "import matplotlib.pyplot as plt\n",
    "%matplotlib inline\n",
    "%config InlineBackend.figure_format = 'retina'\n",
    "import os\n",
    "import glob\n",
    "\n",
    "from tifffile import imread\n",
    "from csbdeep.utils import Path, download_and_extract_zip_file, plot_some\n",
    "from csbdeep.io import save_tiff_imagej_compatible\n",
    "from csbdeep.models import CARE"
   ]
  },
  {
   "cell_type": "code",
   "execution_count": null,
   "metadata": {},
   "outputs": [],
   "source": [
    "basedirLow = '/data/u934/service_imagerie/v_kapoor/CAREPairData/part1/'\n",
    "basedirResults = '/data/u934/service_imagerie/v_kapoor/CAREPairData/part1/resultsUpsampling/'\n",
    "ModelName = 'upSampling3DSyntheticLow'\n",
    "BaseDir = 'models'"
   ]
  },
  {
   "cell_type": "code",
   "execution_count": null,
   "metadata": {},
   "outputs": [],
   "source": [
    "Raw_path = os.path.join(basedirLow, '*TIF')\n",
    "Rawfiles = []\n",
    "Names = []\n",
    "filesRaw = glob.glob(Raw_path)\n",
    "for fname in filesRaw:\n",
    "        x = imread(fname)\n",
    "        Names.append(fname)\n",
    "        \n",
    "        Rawfiles.append(x)\n",
    "Rawfiles.sort\n",
    "Names.sort\n",
    "axes = 'ZYX'\n",
    "print('total number of images to be restored = ', len(Rawfiles))\n",
    "print('image size =', x.shape)\n",
    "print('image axes =', axes)\n",
    "#plot first three file data\n",
    "count = min(3, len(Rawfiles))\n",
    "\n",
    "for i in range(0, count):\n",
    "    plt.figure(figsize = (16,10))\n",
    "    plot_some(np.stack([Rawfiles[i]]), title_list= [[ 'Input images (maximum projection)' ]])"
   ]
  },
  {
   "cell_type": "code",
   "execution_count": null,
   "metadata": {},
   "outputs": [],
   "source": [
    "model = UpsamplingCARE(config=None, name=ModelName, basedir='models')"
   ]
  },
  {
   "cell_type": "code",
   "execution_count": null,
   "metadata": {},
   "outputs": [],
   "source": [
    "%%time\n",
    "Restoredfiles = []\n",
    "for x in Rawfiles:\n",
    "    restored = model.predict(x, axes)\n",
    "    Restoredfiles.append(restored)"
   ]
  },
  {
   "cell_type": "code",
   "execution_count": null,
   "metadata": {},
   "outputs": [],
   "source": [
    "Path(basedirResults).mkdir(exist_ok = True)\n",
    "for i in range(0, len(Names)):\n",
    "   print('Saving file' +  basedirResults + os.path.basename(Names[i]))\n",
    "   save_tiff_imagej_compatible((basedirResults  + os.path.basename(Names[i])) % model.name, Restoredfiles[i], axes)"
   ]
  },
  {
   "cell_type": "code",
   "execution_count": null,
   "metadata": {},
   "outputs": [],
   "source": [
    "#Plot some restored files\n",
    "for  i  in  range(0,  count):\n",
    "      plt.figure(figsize=(16,10))\n",
    "      plot_some(np.stack([Restoredfiles[i]]),\n",
    "          title_list=[['CAREUpsampling (maximum projection)']], \n",
    "          pmin=2,pmax=99.8);\n",
    "      print('Filename = ', Names[i])"
   ]
  }
 ],
 "metadata": {
  "kernelspec": {
   "display_name": "Python [conda env:tensorflowpy3pt5]",
   "language": "python",
   "name": "conda-env-tensorflowpy3pt5-py"
  },
  "language_info": {
   "codemirror_mode": {
    "name": "ipython",
    "version": 3
   },
   "file_extension": ".py",
   "mimetype": "text/x-python",
   "name": "python",
   "nbconvert_exporter": "python",
   "pygments_lexer": "ipython3",
   "version": "3.5.5"
  }
 },
 "nbformat": 4,
 "nbformat_minor": 2
}
