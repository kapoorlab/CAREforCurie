{
 "cells": [
  {
   "cell_type": "code",
   "execution_count": 1,
   "metadata": {},
   "outputs": [
    {
     "name": "stderr",
     "output_type": "stream",
     "text": [
      "Using TensorFlow backend.\n"
     ]
    }
   ],
   "source": [
    "from __future__ import print_function, unicode_literals, absolute_import, division\n",
    "import numpy as np\n",
    "import matplotlib.pyplot as plt\n",
    "%matplotlib inline\n",
    "%config InlineBackend.figure_format = 'retina'\n",
    "import os\n",
    "import glob\n",
    "from csbdeep.utils.tf import limit_gpu_memory\n",
    "\n",
    "from tifffile import imread\n",
    "from csbdeep.utils import Path, download_and_extract_zip_file, plot_some\n",
    "from csbdeep.io import save_tiff_imagej_compatible\n",
    "from csbdeep.models import CARE\n",
    "\n"
   ]
  },
  {
   "cell_type": "code",
   "execution_count": 3,
   "metadata": {},
   "outputs": [],
   "source": [
    "basedirLow = '/data/u934/service_imagerie/v_kapoor/Fl4-2-Var/STELLA/priority/WT632PRE29/'\n",
    "basedirResults3D = basedirLow + '/3DResults/'\n",
    "basedirResults2D = basedirLow + '/MaxProjectionResults/'\n",
    "ModelName = 'BorialisS1S2FlorisMidNoiseModel'\n",
    "BaseDir = '/data/u934/service_imagerie/v_kapoor/CurieDeepLearningModels/'\n",
    "Path(basedirResults3D).mkdir(exist_ok = True)\n",
    "Path(basedirResults2D).mkdir(exist_ok = True)"
   ]
  },
  {
   "cell_type": "code",
   "execution_count": 4,
   "metadata": {},
   "outputs": [
    {
     "name": "stdout",
     "output_type": "stream",
     "text": [
      "Loading network weights from 'weights_best.h5'.\n"
     ]
    }
   ],
   "source": [
    "model = CARE(config = None, name = ModelName, basedir = BaseDir)"
   ]
  },
  {
   "cell_type": "code",
   "execution_count": 6,
   "metadata": {
    "scrolled": true
   },
   "outputs": [
    {
     "name": "stdout",
     "output_type": "stream",
     "text": [
      "12\n",
      "(2048, 2048)\n",
      "Saving file/data/u934/service_imagerie/v_kapoor/Fl4-2-Var/STELLA/priority/WT632PRE29//3DResults/%s_40x_bin1_05_5min_1_w1CSU-488_s10_t6.tif\n"
     ]
    },
    {
     "ename": "ValueError",
     "evalue": "axes (ZYX) must be of length 2.",
     "output_type": "error",
     "traceback": [
      "\u001b[0;31m---------------------------------------------------------------------------\u001b[0m",
      "\u001b[0;31mValueError\u001b[0m                                Traceback (most recent call last)",
      "\u001b[0;32m<timed exec>\u001b[0m in \u001b[0;36m<module>\u001b[0;34m()\u001b[0m\n",
      "\u001b[0;32m/data/u934/service_imagerie/v_kapoor/anaconda2/envs/tensorflowLOW/lib/python3.5/site-packages/csbdeep/models/care_standard.py\u001b[0m in \u001b[0;36mpredict\u001b[0;34m(self, img, axes, normalizer, resizer, n_tiles)\u001b[0m\n\u001b[1;32m    346\u001b[0m \u001b[0;34m\u001b[0m\u001b[0m\n\u001b[1;32m    347\u001b[0m         \"\"\"\n\u001b[0;32m--> 348\u001b[0;31m         \u001b[0;32mreturn\u001b[0m \u001b[0mself\u001b[0m\u001b[0;34m.\u001b[0m\u001b[0m_predict_mean_and_scale\u001b[0m\u001b[0;34m(\u001b[0m\u001b[0mimg\u001b[0m\u001b[0;34m,\u001b[0m \u001b[0maxes\u001b[0m\u001b[0;34m,\u001b[0m \u001b[0mnormalizer\u001b[0m\u001b[0;34m,\u001b[0m \u001b[0mresizer\u001b[0m\u001b[0;34m,\u001b[0m \u001b[0mn_tiles\u001b[0m\u001b[0;34m)\u001b[0m\u001b[0;34m[\u001b[0m\u001b[0;36m0\u001b[0m\u001b[0;34m]\u001b[0m\u001b[0;34m\u001b[0m\u001b[0m\n\u001b[0m\u001b[1;32m    349\u001b[0m \u001b[0;34m\u001b[0m\u001b[0m\n\u001b[1;32m    350\u001b[0m \u001b[0;34m\u001b[0m\u001b[0m\n",
      "\u001b[0;32m/data/u934/service_imagerie/v_kapoor/anaconda2/envs/tensorflowLOW/lib/python3.5/site-packages/csbdeep/models/care_standard.py\u001b[0m in \u001b[0;36m_predict_mean_and_scale\u001b[0;34m(self, img, axes, normalizer, resizer, n_tiles)\u001b[0m\n\u001b[1;32m    387\u001b[0m         \u001b[0;31m# different kinds of axes\u001b[0m\u001b[0;34m\u001b[0m\u001b[0;34m\u001b[0m\u001b[0m\n\u001b[1;32m    388\u001b[0m         \u001b[0;31m# -> typical case: net_axes_in = net_axes_out, img_axes_in = img_axes_out\u001b[0m\u001b[0;34m\u001b[0m\u001b[0;34m\u001b[0m\u001b[0m\n\u001b[0;32m--> 389\u001b[0;31m         \u001b[0mimg_axes_in\u001b[0m \u001b[0;34m=\u001b[0m \u001b[0maxes_check_and_normalize\u001b[0m\u001b[0;34m(\u001b[0m\u001b[0maxes\u001b[0m\u001b[0;34m,\u001b[0m\u001b[0mimg\u001b[0m\u001b[0;34m.\u001b[0m\u001b[0mndim\u001b[0m\u001b[0;34m)\u001b[0m\u001b[0;34m\u001b[0m\u001b[0m\n\u001b[0m\u001b[1;32m    390\u001b[0m         \u001b[0mnet_axes_in\u001b[0m \u001b[0;34m=\u001b[0m \u001b[0mself\u001b[0m\u001b[0;34m.\u001b[0m\u001b[0mconfig\u001b[0m\u001b[0;34m.\u001b[0m\u001b[0maxes\u001b[0m\u001b[0;34m\u001b[0m\u001b[0m\n\u001b[1;32m    391\u001b[0m         \u001b[0mnet_axes_out\u001b[0m \u001b[0;34m=\u001b[0m \u001b[0maxes_check_and_normalize\u001b[0m\u001b[0;34m(\u001b[0m\u001b[0mself\u001b[0m\u001b[0;34m.\u001b[0m\u001b[0m_axes_out\u001b[0m\u001b[0;34m)\u001b[0m\u001b[0;34m\u001b[0m\u001b[0m\n",
      "\u001b[0;32m/data/u934/service_imagerie/v_kapoor/anaconda2/envs/tensorflowLOW/lib/python3.5/site-packages/csbdeep/utils/utils.py\u001b[0m in \u001b[0;36maxes_check_and_normalize\u001b[0;34m(axes, length, disallowed, return_allowed)\u001b[0m\n\u001b[1;32m    191\u001b[0m     \u001b[0mdisallowed\u001b[0m \u001b[0;32mis\u001b[0m \u001b[0;32mNone\u001b[0m \u001b[0;32mor\u001b[0m \u001b[0mconsume\u001b[0m\u001b[0;34m(\u001b[0m\u001b[0ma\u001b[0m \u001b[0;32mnot\u001b[0m \u001b[0;32min\u001b[0m \u001b[0mdisallowed\u001b[0m \u001b[0;32mor\u001b[0m \u001b[0m_raise\u001b[0m\u001b[0;34m(\u001b[0m\u001b[0mValueError\u001b[0m\u001b[0;34m(\u001b[0m\u001b[0;34m\"disallowed axis '%s'.\"\u001b[0m\u001b[0;34m%\u001b[0m\u001b[0ma\u001b[0m\u001b[0;34m)\u001b[0m\u001b[0;34m)\u001b[0m \u001b[0;32mfor\u001b[0m \u001b[0ma\u001b[0m \u001b[0;32min\u001b[0m \u001b[0maxes\u001b[0m\u001b[0;34m)\u001b[0m\u001b[0;34m\u001b[0m\u001b[0m\n\u001b[1;32m    192\u001b[0m     \u001b[0mconsume\u001b[0m\u001b[0;34m(\u001b[0m\u001b[0maxes\u001b[0m\u001b[0;34m.\u001b[0m\u001b[0mcount\u001b[0m\u001b[0;34m(\u001b[0m\u001b[0ma\u001b[0m\u001b[0;34m)\u001b[0m\u001b[0;34m==\u001b[0m\u001b[0;36m1\u001b[0m \u001b[0;32mor\u001b[0m \u001b[0m_raise\u001b[0m\u001b[0;34m(\u001b[0m\u001b[0mValueError\u001b[0m\u001b[0;34m(\u001b[0m\u001b[0;34m\"axis '%s' occurs more than once.\"\u001b[0m\u001b[0;34m%\u001b[0m\u001b[0ma\u001b[0m\u001b[0;34m)\u001b[0m\u001b[0;34m)\u001b[0m \u001b[0;32mfor\u001b[0m \u001b[0ma\u001b[0m \u001b[0;32min\u001b[0m \u001b[0maxes\u001b[0m\u001b[0;34m)\u001b[0m\u001b[0;34m\u001b[0m\u001b[0m\n\u001b[0;32m--> 193\u001b[0;31m     \u001b[0mlength\u001b[0m \u001b[0;32mis\u001b[0m \u001b[0;32mNone\u001b[0m \u001b[0;32mor\u001b[0m \u001b[0mlen\u001b[0m\u001b[0;34m(\u001b[0m\u001b[0maxes\u001b[0m\u001b[0;34m)\u001b[0m\u001b[0;34m==\u001b[0m\u001b[0mlength\u001b[0m \u001b[0;32mor\u001b[0m \u001b[0m_raise\u001b[0m\u001b[0;34m(\u001b[0m\u001b[0mValueError\u001b[0m\u001b[0;34m(\u001b[0m\u001b[0;34m'axes (%s) must be of length %d.'\u001b[0m \u001b[0;34m%\u001b[0m \u001b[0;34m(\u001b[0m\u001b[0maxes\u001b[0m\u001b[0;34m,\u001b[0m\u001b[0mlength\u001b[0m\u001b[0;34m)\u001b[0m\u001b[0;34m)\u001b[0m\u001b[0;34m)\u001b[0m\u001b[0;34m\u001b[0m\u001b[0m\n\u001b[0m\u001b[1;32m    194\u001b[0m     \u001b[0;32mreturn\u001b[0m \u001b[0;34m(\u001b[0m\u001b[0maxes\u001b[0m\u001b[0;34m,\u001b[0m\u001b[0mallowed\u001b[0m\u001b[0;34m)\u001b[0m \u001b[0;32mif\u001b[0m \u001b[0mreturn_allowed\u001b[0m \u001b[0;32melse\u001b[0m \u001b[0maxes\u001b[0m\u001b[0;34m\u001b[0m\u001b[0m\n\u001b[1;32m    195\u001b[0m \u001b[0;34m\u001b[0m\u001b[0m\n",
      "\u001b[0;32m/data/u934/service_imagerie/v_kapoor/anaconda2/envs/tensorflowLOW/lib/python3.5/site-packages/csbdeep/utils/utils.py\u001b[0m in \u001b[0;36m_raise\u001b[0;34m(e)\u001b[0m\n\u001b[1;32m     84\u001b[0m \u001b[0;34m\u001b[0m\u001b[0m\n\u001b[1;32m     85\u001b[0m \u001b[0;32mdef\u001b[0m \u001b[0m_raise\u001b[0m\u001b[0;34m(\u001b[0m\u001b[0me\u001b[0m\u001b[0;34m)\u001b[0m\u001b[0;34m:\u001b[0m\u001b[0;34m\u001b[0m\u001b[0m\n\u001b[0;32m---> 86\u001b[0;31m     \u001b[0;32mraise\u001b[0m \u001b[0me\u001b[0m\u001b[0;34m\u001b[0m\u001b[0m\n\u001b[0m\u001b[1;32m     87\u001b[0m \u001b[0;34m\u001b[0m\u001b[0m\n\u001b[1;32m     88\u001b[0m \u001b[0;34m\u001b[0m\u001b[0m\n",
      "\u001b[0;31mValueError\u001b[0m: axes (ZYX) must be of length 2."
     ]
    }
   ],
   "source": [
    "%%time\n",
    "\n",
    "Raw_path = os.path.join(basedirLow, '*tif')\n",
    "\n",
    "\n",
    "axes = 'ZYX'\n",
    "smallaxes = 'YX'\n",
    "filesRaw = glob.glob(Raw_path)\n",
    "\n",
    "filesRaw.sort\n",
    "print(len(filesRaw))\n",
    "for fname in filesRaw:\n",
    " \n",
    "        x = imread(fname)\n",
    "        print(x.shape)\n",
    "        print('Saving file' +  basedirResults3D + '%s_' + os.path.basename(fname))\n",
    "        restored = model.predict(x, axes, n_tiles = (1, 8, 8)) \n",
    "        projected = np.max(restored, axis = 0)\n",
    "        save_tiff_imagej_compatible((basedirResults2D + '%s_' + 'MAXProjected' +  os.path.basename(fname)) %  model.name , projected, smallaxes)\n",
    "\n",
    "        save_tiff_imagej_compatible((basedirResults3D + '%s_' + os.path.basename(fname)) % model.name, restored, axes)\n",
    "\n"
   ]
  },
  {
   "cell_type": "code",
   "execution_count": null,
   "metadata": {},
   "outputs": [],
   "source": []
  },
  {
   "cell_type": "code",
   "execution_count": null,
   "metadata": {},
   "outputs": [],
   "source": [
    "\n",
    "\n",
    "    "
   ]
  },
  {
   "cell_type": "code",
   "execution_count": null,
   "metadata": {},
   "outputs": [],
   "source": []
  },
  {
   "cell_type": "code",
   "execution_count": null,
   "metadata": {},
   "outputs": [],
   "source": []
  },
  {
   "cell_type": "code",
   "execution_count": null,
   "metadata": {},
   "outputs": [],
   "source": []
  }
 ],
 "metadata": {
  "kernelspec": {
   "display_name": "Python 2",
   "language": "python",
   "name": "python2"
  },
  "language_info": {
   "codemirror_mode": {
    "name": "ipython",
    "version": 2
   },
   "file_extension": ".py",
   "mimetype": "text/x-python",
   "name": "python",
   "nbconvert_exporter": "python",
   "pygments_lexer": "ipython2",
   "version": "2.7.14"
  }
 },
 "nbformat": 4,
 "nbformat_minor": 2
}
