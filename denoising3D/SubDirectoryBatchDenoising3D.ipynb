{
 "cells": [
  {
   "cell_type": "code",
   "execution_count": 1,
   "metadata": {},
   "outputs": [
    {
     "name": "stderr",
     "output_type": "stream",
     "text": [
      "Using TensorFlow backend.\n"
     ]
    }
   ],
   "source": [
    "from __future__ import print_function, unicode_literals, absolute_import, division\n",
    "import numpy as np\n",
    "import matplotlib.pyplot as plt\n",
    "%matplotlib inline\n",
    "%config InlineBackend.figure_format = 'retina'\n",
    "import os\n",
    "import glob\n",
    "\n",
    "\n",
    "from tifffile import imread\n",
    "from csbdeep.utils import Path, download_and_extract_zip_file, plot_some\n",
    "from csbdeep.io import save_tiff_imagej_compatible\n",
    "from csbdeep.models import CARE\n",
    "\n"
   ]
  },
  {
   "cell_type": "code",
   "execution_count": 2,
   "metadata": {},
   "outputs": [
    {
     "name": "stdout",
     "output_type": "stream",
     "text": [
      "Loading network weights from 'weights_best.h5'.\n"
     ]
    }
   ],
   "source": [
    "masterdirLow = '/data/u934/service_imagerie/v_kapoor/Fl4-2-Var/STELLA/priority/'\n",
    "\n",
    "subdir = next(os.walk(masterdirLow))\n",
    "\n",
    "ModelName = 'BorialisS1S2FlorisMidNoiseModel'\n",
    "BaseDir = '/data/u934/service_imagerie/v_kapoor/CurieDeepLearningModels/'\n",
    "model = CARE(config = None, name = ModelName, basedir = BaseDir)\n",
    "axes = 'ZYX'\n",
    "smallaxes = 'YX'"
   ]
  },
  {
   "cell_type": "code",
   "execution_count": null,
   "metadata": {},
   "outputs": [
    {
     "name": "stdout",
     "output_type": "stream",
     "text": [
      "Saving file/data/u934/service_imagerie/v_kapoor/Fl4-2-Var/STELLA/priority/wt_ECadGFPki-hetero_30pre29_bin140x_movN10/3DResults/%s_40x_bin1_05_5min_1_w2CSU-488_s17_t195.tif\n"
     ]
    },
    {
     "name": "stderr",
     "output_type": "stream",
     "text": [
      "100%|██████████| 64/64 [03:38<00:00,  2.67s/it]  \n"
     ]
    },
    {
     "name": "stdout",
     "output_type": "stream",
     "text": [
      "Saving file/data/u934/service_imagerie/v_kapoor/Fl4-2-Var/STELLA/priority/wt_ECadGFPki-hetero_30pre29_bin140x_movN10/3DResults/%s_40x_bin1_05_5min_1_w2CSU-488_s14_t28.tif\n"
     ]
    },
    {
     "name": "stderr",
     "output_type": "stream",
     "text": [
      "100%|██████████| 64/64 [03:21<00:00,  2.63s/it]  \n"
     ]
    },
    {
     "name": "stdout",
     "output_type": "stream",
     "text": [
      "Saving file/data/u934/service_imagerie/v_kapoor/Fl4-2-Var/STELLA/priority/wt_ECadGFPki-hetero_30pre29_bin140x_movN10/3DResults/%s_40x_bin1_05_5min_1_w2CSU-488_s17_t144.tif\n"
     ]
    },
    {
     "name": "stderr",
     "output_type": "stream",
     "text": [
      "100%|██████████| 64/64 [03:23<00:00,  2.67s/it]  \n"
     ]
    },
    {
     "name": "stdout",
     "output_type": "stream",
     "text": [
      "Saving file/data/u934/service_imagerie/v_kapoor/Fl4-2-Var/STELLA/priority/wt_ECadGFPki-hetero_30pre29_bin140x_movN10/3DResults/%s_40x_bin1_05_5min_1_w2CSU-488_s15_t218.tif\n"
     ]
    },
    {
     "name": "stderr",
     "output_type": "stream",
     "text": [
      "100%|██████████| 64/64 [03:21<00:00,  2.64s/it]  \n"
     ]
    },
    {
     "name": "stdout",
     "output_type": "stream",
     "text": [
      "Saving file/data/u934/service_imagerie/v_kapoor/Fl4-2-Var/STELLA/priority/wt_ECadGFPki-hetero_30pre29_bin140x_movN10/3DResults/%s_40x_bin1_05_5min_1_w2CSU-488_s16_t137.tif\n"
     ]
    },
    {
     "name": "stderr",
     "output_type": "stream",
     "text": [
      "100%|██████████| 64/64 [03:22<00:00,  2.65s/it]  \n"
     ]
    },
    {
     "name": "stdout",
     "output_type": "stream",
     "text": [
      "Saving file/data/u934/service_imagerie/v_kapoor/Fl4-2-Var/STELLA/priority/wt_ECadGFPki-hetero_30pre29_bin140x_movN10/3DResults/%s_40x_bin1_05_5min_1_w2CSU-488_s15_t43.tif\n"
     ]
    },
    {
     "name": "stderr",
     "output_type": "stream",
     "text": [
      "100%|██████████| 64/64 [03:21<00:00,  2.64s/it]  \n"
     ]
    },
    {
     "name": "stdout",
     "output_type": "stream",
     "text": [
      "Saving file/data/u934/service_imagerie/v_kapoor/Fl4-2-Var/STELLA/priority/wt_ECadGFPki-hetero_30pre29_bin140x_movN10/3DResults/%s_40x_bin1_05_5min_1_w2CSU-488_s16_t220.tif\n"
     ]
    },
    {
     "name": "stderr",
     "output_type": "stream",
     "text": [
      "100%|██████████| 64/64 [03:23<00:00,  2.65s/it]  \n"
     ]
    },
    {
     "name": "stdout",
     "output_type": "stream",
     "text": [
      "Saving file/data/u934/service_imagerie/v_kapoor/Fl4-2-Var/STELLA/priority/wt_ECadGFPki-hetero_30pre29_bin140x_movN10/3DResults/%s_40x_bin1_05_5min_1_w2CSU-488_s15_t92.tif\n"
     ]
    },
    {
     "name": "stderr",
     "output_type": "stream",
     "text": [
      "100%|██████████| 64/64 [03:21<00:00,  2.62s/it]  \n"
     ]
    },
    {
     "name": "stdout",
     "output_type": "stream",
     "text": [
      "Saving file/data/u934/service_imagerie/v_kapoor/Fl4-2-Var/STELLA/priority/wt_ECadGFPki-hetero_30pre29_bin140x_movN10/3DResults/%s_40x_bin1_05_5min_1_w2CSU-488_s14_t85.tif\n"
     ]
    },
    {
     "name": "stderr",
     "output_type": "stream",
     "text": [
      "100%|██████████| 64/64 [03:23<00:00,  2.66s/it]  \n"
     ]
    },
    {
     "name": "stdout",
     "output_type": "stream",
     "text": [
      "Saving file/data/u934/service_imagerie/v_kapoor/Fl4-2-Var/STELLA/priority/wt_ECadGFPki-hetero_30pre29_bin140x_movN10/3DResults/%s_40x_bin1_05_5min_1_w2CSU-488_s14_t100.tif\n"
     ]
    },
    {
     "name": "stderr",
     "output_type": "stream",
     "text": [
      "100%|██████████| 64/64 [03:21<00:00,  2.62s/it]  \n"
     ]
    },
    {
     "name": "stdout",
     "output_type": "stream",
     "text": [
      "Saving file/data/u934/service_imagerie/v_kapoor/Fl4-2-Var/STELLA/priority/wt_ECadGFPki-hetero_30pre29_bin140x_movN10/3DResults/%s_40x_bin1_05_5min_1_w2CSU-488_s17_t138.tif\n"
     ]
    },
    {
     "name": "stderr",
     "output_type": "stream",
     "text": [
      "100%|██████████| 64/64 [03:23<00:00,  2.67s/it]  \n"
     ]
    },
    {
     "name": "stdout",
     "output_type": "stream",
     "text": [
      "Saving file/data/u934/service_imagerie/v_kapoor/Fl4-2-Var/STELLA/priority/wt_ECadGFPki-hetero_30pre29_bin140x_movN10/3DResults/%s_40x_bin1_05_5min_1_w2CSU-488_s14_t217.tif\n"
     ]
    },
    {
     "name": "stderr",
     "output_type": "stream",
     "text": [
      "100%|██████████| 64/64 [03:21<00:00,  2.62s/it]  \n"
     ]
    },
    {
     "name": "stdout",
     "output_type": "stream",
     "text": [
      "Saving file/data/u934/service_imagerie/v_kapoor/Fl4-2-Var/STELLA/priority/wt_ECadGFPki-hetero_30pre29_bin140x_movN10/3DResults/%s_40x_bin1_05_5min_1_w2CSU-488_s14_t54.tif\n"
     ]
    },
    {
     "name": "stderr",
     "output_type": "stream",
     "text": [
      "100%|██████████| 64/64 [03:23<00:00,  2.65s/it]  \n"
     ]
    },
    {
     "name": "stdout",
     "output_type": "stream",
     "text": [
      "Saving file/data/u934/service_imagerie/v_kapoor/Fl4-2-Var/STELLA/priority/wt_ECadGFPki-hetero_30pre29_bin140x_movN10/3DResults/%s_40x_bin1_05_5min_1_w2CSU-488_s17_t16.tif\n"
     ]
    },
    {
     "name": "stderr",
     "output_type": "stream",
     "text": [
      "100%|██████████| 64/64 [03:22<00:00,  2.63s/it]  \n"
     ]
    },
    {
     "name": "stdout",
     "output_type": "stream",
     "text": [
      "Saving file/data/u934/service_imagerie/v_kapoor/Fl4-2-Var/STELLA/priority/wt_ECadGFPki-hetero_30pre29_bin140x_movN10/3DResults/%s_40x_bin1_05_5min_1_w2CSU-488_s15_t173.tif\n"
     ]
    },
    {
     "name": "stderr",
     "output_type": "stream",
     "text": [
      "100%|██████████| 64/64 [03:22<00:00,  2.67s/it]  \n"
     ]
    },
    {
     "name": "stdout",
     "output_type": "stream",
     "text": [
      "Saving file/data/u934/service_imagerie/v_kapoor/Fl4-2-Var/STELLA/priority/wt_ECadGFPki-hetero_30pre29_bin140x_movN10/3DResults/%s_40x_bin1_05_5min_1_w2CSU-488_s14_t82.tif\n"
     ]
    },
    {
     "name": "stderr",
     "output_type": "stream",
     "text": [
      "100%|██████████| 64/64 [03:21<00:00,  2.62s/it]  \n"
     ]
    },
    {
     "name": "stdout",
     "output_type": "stream",
     "text": [
      "Saving file/data/u934/service_imagerie/v_kapoor/Fl4-2-Var/STELLA/priority/wt_ECadGFPki-hetero_30pre29_bin140x_movN10/3DResults/%s_40x_bin1_05_5min_1_w2CSU-488_s17_t228.tif\n"
     ]
    },
    {
     "name": "stderr",
     "output_type": "stream",
     "text": [
      "100%|██████████| 64/64 [03:22<00:00,  2.67s/it]  \n"
     ]
    },
    {
     "name": "stdout",
     "output_type": "stream",
     "text": [
      "Saving file/data/u934/service_imagerie/v_kapoor/Fl4-2-Var/STELLA/priority/wt_ECadGFPki-hetero_30pre29_bin140x_movN10/3DResults/%s_40x_bin1_05_5min_1_w2CSU-488_s14_t107.tif\n"
     ]
    },
    {
     "name": "stderr",
     "output_type": "stream",
     "text": [
      "100%|██████████| 64/64 [03:21<00:00,  2.62s/it]  \n"
     ]
    },
    {
     "name": "stdout",
     "output_type": "stream",
     "text": [
      "Saving file/data/u934/service_imagerie/v_kapoor/Fl4-2-Var/STELLA/priority/wt_ECadGFPki-hetero_30pre29_bin140x_movN10/3DResults/%s_40x_bin1_05_5min_1_w2CSU-488_s14_t53.tif\n"
     ]
    },
    {
     "name": "stderr",
     "output_type": "stream",
     "text": [
      "100%|██████████| 64/64 [03:23<00:00,  2.66s/it]  \n"
     ]
    },
    {
     "name": "stdout",
     "output_type": "stream",
     "text": [
      "Saving file/data/u934/service_imagerie/v_kapoor/Fl4-2-Var/STELLA/priority/wt_ECadGFPki-hetero_30pre29_bin140x_movN10/3DResults/%s_40x_bin1_05_5min_1_w2CSU-488_s14_t210.tif\n"
     ]
    },
    {
     "name": "stderr",
     "output_type": "stream",
     "text": [
      "100%|██████████| 64/64 [03:22<00:00,  2.64s/it]  \n"
     ]
    },
    {
     "name": "stdout",
     "output_type": "stream",
     "text": [
      "Saving file/data/u934/service_imagerie/v_kapoor/Fl4-2-Var/STELLA/priority/wt_ECadGFPki-hetero_30pre29_bin140x_movN10/3DResults/%s_40x_bin1_05_5min_1_w2CSU-488_s17_t11.tif\n"
     ]
    },
    {
     "name": "stderr",
     "output_type": "stream",
     "text": [
      "100%|██████████| 64/64 [03:23<00:00,  2.66s/it]  \n"
     ]
    },
    {
     "name": "stdout",
     "output_type": "stream",
     "text": [
      "Saving file/data/u934/service_imagerie/v_kapoor/Fl4-2-Var/STELLA/priority/wt_ECadGFPki-hetero_30pre29_bin140x_movN10/3DResults/%s_40x_bin1_05_5min_1_w2CSU-488_s15_t38.tif\n"
     ]
    },
    {
     "name": "stderr",
     "output_type": "stream",
     "text": [
      "100%|██████████| 64/64 [03:22<00:00,  2.64s/it]  \n"
     ]
    },
    {
     "name": "stdout",
     "output_type": "stream",
     "text": [
      "Saving file/data/u934/service_imagerie/v_kapoor/Fl4-2-Var/STELLA/priority/wt_ECadGFPki-hetero_30pre29_bin140x_movN10/3DResults/%s_40x_bin1_05_5min_1_w2CSU-488_s15_t174.tif\n"
     ]
    },
    {
     "name": "stderr",
     "output_type": "stream",
     "text": [
      "100%|██████████| 64/64 [03:23<00:00,  2.65s/it]  \n"
     ]
    },
    {
     "name": "stdout",
     "output_type": "stream",
     "text": [
      "Saving file/data/u934/service_imagerie/v_kapoor/Fl4-2-Var/STELLA/priority/wt_ECadGFPki-hetero_30pre29_bin140x_movN10/3DResults/%s_40x_bin1_05_5min_1_w2CSU-488_s17_t192.tif\n"
     ]
    },
    {
     "name": "stderr",
     "output_type": "stream",
     "text": [
      "100%|██████████| 64/64 [03:21<00:00,  2.62s/it]  \n"
     ]
    },
    {
     "name": "stdout",
     "output_type": "stream",
     "text": [
      "Saving file/data/u934/service_imagerie/v_kapoor/Fl4-2-Var/STELLA/priority/wt_ECadGFPki-hetero_30pre29_bin140x_movN10/3DResults/%s_40x_bin1_05_5min_1_w2CSU-488_s17_t143.tif\n"
     ]
    },
    {
     "name": "stderr",
     "output_type": "stream",
     "text": [
      "100%|██████████| 64/64 [03:22<00:00,  2.63s/it]  \n"
     ]
    },
    {
     "name": "stdout",
     "output_type": "stream",
     "text": [
      "Saving file/data/u934/service_imagerie/v_kapoor/Fl4-2-Var/STELLA/priority/wt_ECadGFPki-hetero_30pre29_bin140x_movN10/3DResults/%s_40x_bin1_05_5min_1_w2CSU-488_s16_t130.tif\n"
     ]
    },
    {
     "name": "stderr",
     "output_type": "stream",
     "text": [
      "100%|██████████| 64/64 [03:21<00:00,  2.63s/it]  \n"
     ]
    },
    {
     "name": "stdout",
     "output_type": "stream",
     "text": [
      "Saving file/data/u934/service_imagerie/v_kapoor/Fl4-2-Var/STELLA/priority/wt_ECadGFPki-hetero_30pre29_bin140x_movN10/3DResults/%s_40x_bin1_05_5min_1_w2CSU-488_s15_t44.tif\n"
     ]
    },
    {
     "name": "stderr",
     "output_type": "stream",
     "text": [
      "100%|██████████| 64/64 [03:22<00:00,  2.64s/it]  \n"
     ]
    },
    {
     "name": "stdout",
     "output_type": "stream",
     "text": [
      "Saving file/data/u934/service_imagerie/v_kapoor/Fl4-2-Var/STELLA/priority/wt_ECadGFPki-hetero_30pre29_bin140x_movN10/3DResults/%s_40x_bin1_05_5min_1_w2CSU-488_s15_t108.tif\n"
     ]
    },
    {
     "name": "stderr",
     "output_type": "stream",
     "text": [
      "100%|██████████| 64/64 [03:21<00:00,  2.65s/it]  \n"
     ]
    },
    {
     "name": "stdout",
     "output_type": "stream",
     "text": [
      "Saving file/data/u934/service_imagerie/v_kapoor/Fl4-2-Var/STELLA/priority/wt_ECadGFPki-hetero_30pre29_bin140x_movN10/3DResults/%s_40x_bin1_05_5min_1_w2CSU-488_s16_t227.tif\n"
     ]
    },
    {
     "name": "stderr",
     "output_type": "stream",
     "text": [
      "100%|██████████| 64/64 [03:22<00:00,  2.63s/it]  \n"
     ]
    },
    {
     "name": "stdout",
     "output_type": "stream",
     "text": [
      "Saving file/data/u934/service_imagerie/v_kapoor/Fl4-2-Var/STELLA/priority/wt_ECadGFPki-hetero_30pre29_bin140x_movN10/3DResults/%s_40x_bin1_05_5min_1_w2CSU-488_s15_t95.tif\n"
     ]
    },
    {
     "name": "stderr",
     "output_type": "stream",
     "text": [
      "100%|██████████| 64/64 [03:21<00:00,  2.63s/it]  \n"
     ]
    },
    {
     "name": "stdout",
     "output_type": "stream",
     "text": [
      "Saving file/data/u934/service_imagerie/v_kapoor/Fl4-2-Var/STELLA/priority/wt_ECadGFPki-hetero_30pre29_bin140x_movN10/3DResults/%s_40x_bin1_05_5min_1_w2CSU-488_s17_t226.tif\n"
     ]
    },
    {
     "name": "stderr",
     "output_type": "stream",
     "text": [
      "100%|██████████| 64/64 [03:22<00:00,  2.65s/it]  \n"
     ]
    },
    {
     "name": "stdout",
     "output_type": "stream",
     "text": [
      "Saving file/data/u934/service_imagerie/v_kapoor/Fl4-2-Var/STELLA/priority/wt_ECadGFPki-hetero_30pre29_bin140x_movN10/3DResults/%s_40x_bin1_05_5min_1_w2CSU-488_s14_t109.tif\n"
     ]
    },
    {
     "name": "stderr",
     "output_type": "stream",
     "text": [
      "100%|██████████| 64/64 [03:21<00:00,  2.61s/it]  \n"
     ]
    },
    {
     "name": "stdout",
     "output_type": "stream",
     "text": [
      "Saving file/data/u934/service_imagerie/v_kapoor/Fl4-2-Var/STELLA/priority/wt_ECadGFPki-hetero_30pre29_bin140x_movN10/3DResults/%s_40x_bin1_05_5min_1_w2CSU-488_s17_t131.tif\n"
     ]
    },
    {
     "name": "stderr",
     "output_type": "stream",
     "text": [
      "100%|██████████| 64/64 [03:22<00:00,  2.64s/it]  \n"
     ]
    },
    {
     "name": "stdout",
     "output_type": "stream",
     "text": [
      "Saving file/data/u934/service_imagerie/v_kapoor/Fl4-2-Var/STELLA/priority/wt_ECadGFPki-hetero_30pre29_bin140x_movN10/3DResults/%s_40x_bin1_05_5min_1_w2CSU-488_s16_t74.tif\n"
     ]
    },
    {
     "name": "stderr",
     "output_type": "stream",
     "text": [
      "100%|██████████| 64/64 [03:22<00:00,  2.64s/it]  \n"
     ]
    },
    {
     "name": "stdout",
     "output_type": "stream",
     "text": [
      "Saving file/data/u934/service_imagerie/v_kapoor/Fl4-2-Var/STELLA/priority/wt_ECadGFPki-hetero_30pre29_bin140x_movN10/3DResults/%s_40x_bin1_05_5min_1_w2CSU-488_s15_t36.tif\n"
     ]
    },
    {
     "name": "stderr",
     "output_type": "stream",
     "text": [
      "100%|██████████| 64/64 [03:22<00:00,  2.64s/it]  \n"
     ]
    },
    {
     "name": "stdout",
     "output_type": "stream",
     "text": [
      "Saving file/data/u934/service_imagerie/v_kapoor/Fl4-2-Var/STELLA/priority/wt_ECadGFPki-hetero_30pre29_bin140x_movN10/3DResults/%s_40x_bin1_05_5min_1_w2CSU-488_s16_t142.tif\n"
     ]
    },
    {
     "name": "stderr",
     "output_type": "stream",
     "text": [
      "100%|██████████| 64/64 [03:21<00:00,  2.62s/it]  \n"
     ]
    },
    {
     "name": "stdout",
     "output_type": "stream",
     "text": [
      "Saving file/data/u934/service_imagerie/v_kapoor/Fl4-2-Var/STELLA/priority/wt_ECadGFPki-hetero_30pre29_bin140x_movN10/3DResults/%s_40x_bin1_05_5min_1_w2CSU-488_s16_t5.tif\n"
     ]
    },
    {
     "name": "stderr",
     "output_type": "stream",
     "text": [
      "100%|██████████| 64/64 [03:23<00:00,  2.66s/it]  \n"
     ]
    },
    {
     "name": "stdout",
     "output_type": "stream",
     "text": [
      "Saving file/data/u934/service_imagerie/v_kapoor/Fl4-2-Var/STELLA/priority/wt_ECadGFPki-hetero_30pre29_bin140x_movN10/3DResults/%s_40x_bin1_05_5min_1_w2CSU-488_s16_t193.tif\n"
     ]
    },
    {
     "name": "stderr",
     "output_type": "stream",
     "text": [
      "100%|██████████| 64/64 [03:22<00:00,  2.62s/it]  \n"
     ]
    },
    {
     "name": "stdout",
     "output_type": "stream",
     "text": [
      "Saving file/data/u934/service_imagerie/v_kapoor/Fl4-2-Var/STELLA/priority/wt_ECadGFPki-hetero_30pre29_bin140x_movN10/3DResults/%s_40x_bin1_05_5min_1_w2CSU-488_s14_t175.tif\n"
     ]
    },
    {
     "name": "stderr",
     "output_type": "stream",
     "text": [
      "100%|██████████| 64/64 [03:23<00:00,  2.66s/it]  \n"
     ]
    },
    {
     "name": "stdout",
     "output_type": "stream",
     "text": [
      "Saving file/data/u934/service_imagerie/v_kapoor/Fl4-2-Var/STELLA/priority/wt_ECadGFPki-hetero_30pre29_bin140x_movN10/3DResults/%s_40x_bin1_05_5min_1_w2CSU-488_s14_t21.tif\n"
     ]
    },
    {
     "name": "stderr",
     "output_type": "stream",
     "text": [
      "100%|██████████| 64/64 [03:21<00:00,  2.62s/it]  \n"
     ]
    },
    {
     "name": "stdout",
     "output_type": "stream",
     "text": [
      "Saving file/data/u934/service_imagerie/v_kapoor/Fl4-2-Var/STELLA/priority/wt_ECadGFPki-hetero_30pre29_bin140x_movN10/3DResults/%s_40x_bin1_05_5min_1_w2CSU-488_s17_t63.tif\n"
     ]
    },
    {
     "name": "stderr",
     "output_type": "stream",
     "text": [
      "100%|██████████| 64/64 [03:23<00:00,  2.64s/it]  \n"
     ]
    },
    {
     "name": "stdout",
     "output_type": "stream",
     "text": [
      "Saving file/data/u934/service_imagerie/v_kapoor/Fl4-2-Var/STELLA/priority/wt_ECadGFPki-hetero_30pre29_bin140x_movN10/3DResults/%s_40x_bin1_05_5min_1_w2CSU-488_s15_t211.tif\n"
     ]
    },
    {
     "name": "stderr",
     "output_type": "stream",
     "text": [
      "100%|██████████| 64/64 [03:21<00:00,  2.62s/it]  \n"
     ]
    },
    {
     "name": "stdout",
     "output_type": "stream",
     "text": [
      "Saving file/data/u934/service_imagerie/v_kapoor/Fl4-2-Var/STELLA/priority/wt_ECadGFPki-hetero_30pre29_bin140x_movN10/3DResults/%s_40x_bin1_05_5min_1_w2CSU-488_s15_t106.tif\n"
     ]
    },
    {
     "name": "stderr",
     "output_type": "stream",
     "text": [
      "100%|██████████| 64/64 [03:23<00:00,  2.65s/it]  \n"
     ]
    },
    {
     "name": "stdout",
     "output_type": "stream",
     "text": [
      "Saving file/data/u934/service_imagerie/v_kapoor/Fl4-2-Var/STELLA/priority/wt_ECadGFPki-hetero_30pre29_bin140x_movN10/3DResults/%s_40x_bin1_05_5min_1_w2CSU-488_s16_t229.tif\n"
     ]
    },
    {
     "name": "stderr",
     "output_type": "stream",
     "text": [
      "100%|██████████| 64/64 [03:22<00:00,  2.63s/it]  \n"
     ]
    },
    {
     "name": "stdout",
     "output_type": "stream",
     "text": [
      "Saving file/data/u934/service_imagerie/v_kapoor/Fl4-2-Var/STELLA/priority/wt_ECadGFPki-hetero_30pre29_bin140x_movN10/3DResults/%s_40x_bin1_05_5min_1_w2CSU-488_s14_t172.tif\n"
     ]
    },
    {
     "name": "stderr",
     "output_type": "stream",
     "text": [
      "100%|██████████| 64/64 [03:24<00:00,  2.68s/it]  \n"
     ]
    },
    {
     "name": "stdout",
     "output_type": "stream",
     "text": [
      "Saving file/data/u934/service_imagerie/v_kapoor/Fl4-2-Var/STELLA/priority/wt_ECadGFPki-hetero_30pre29_bin140x_movN10/3DResults/%s_40x_bin1_05_5min_1_w2CSU-488_s14_t26.tif\n"
     ]
    },
    {
     "name": "stderr",
     "output_type": "stream",
     "text": [
      "100%|██████████| 64/64 [03:22<00:00,  2.63s/it]  \n"
     ]
    },
    {
     "name": "stdout",
     "output_type": "stream",
     "text": [
      "Saving file/data/u934/service_imagerie/v_kapoor/Fl4-2-Var/STELLA/priority/wt_ECadGFPki-hetero_30pre29_bin140x_movN10/3DResults/%s_40x_bin1_05_5min_1_w2CSU-488_s17_t64.tif\n"
     ]
    },
    {
     "name": "stderr",
     "output_type": "stream",
     "text": [
      "100%|██████████| 64/64 [03:23<00:00,  2.65s/it]  \n"
     ]
    },
    {
     "name": "stdout",
     "output_type": "stream",
     "text": [
      "Saving file/data/u934/service_imagerie/v_kapoor/Fl4-2-Var/STELLA/priority/wt_ECadGFPki-hetero_30pre29_bin140x_movN10/3DResults/%s_40x_bin1_05_5min_1_w2CSU-488_s15_t216.tif\n"
     ]
    },
    {
     "name": "stderr",
     "output_type": "stream",
     "text": [
      "100%|██████████| 64/64 [03:21<00:00,  2.63s/it]  \n"
     ]
    },
    {
     "name": "stdout",
     "output_type": "stream",
     "text": [
      "Saving file/data/u934/service_imagerie/v_kapoor/Fl4-2-Var/STELLA/priority/wt_ECadGFPki-hetero_30pre29_bin140x_movN10/3DResults/%s_40x_bin1_05_5min_1_w2CSU-488_s16_t139.tif\n"
     ]
    },
    {
     "name": "stderr",
     "output_type": "stream",
     "text": [
      "100%|██████████| 64/64 [03:24<00:00,  2.68s/it]  \n"
     ]
    },
    {
     "name": "stdout",
     "output_type": "stream",
     "text": [
      "Saving file/data/u934/service_imagerie/v_kapoor/Fl4-2-Var/STELLA/priority/wt_ECadGFPki-hetero_30pre29_bin140x_movN10/3DResults/%s_40x_bin1_05_5min_1_w2CSU-488_s15_t101.tif\n"
     ]
    },
    {
     "name": "stderr",
     "output_type": "stream",
     "text": [
      "100%|██████████| 64/64 [03:22<00:00,  2.64s/it]  \n"
     ]
    },
    {
     "name": "stdout",
     "output_type": "stream",
     "text": [
      "Saving file/data/u934/service_imagerie/v_kapoor/Fl4-2-Var/STELLA/priority/wt_ECadGFPki-hetero_30pre29_bin140x_movN10/3DResults/%s_40x_bin1_05_5min_1_w2CSU-488_s17_t221.tif\n"
     ]
    },
    {
     "name": "stderr",
     "output_type": "stream",
     "text": [
      "100%|██████████| 64/64 [03:23<00:00,  2.65s/it]  \n"
     ]
    },
    {
     "name": "stdout",
     "output_type": "stream",
     "text": [
      "Saving file/data/u934/service_imagerie/v_kapoor/Fl4-2-Var/STELLA/priority/wt_ECadGFPki-hetero_30pre29_bin140x_movN10/3DResults/%s_40x_bin1_05_5min_1_w2CSU-488_s17_t18.tif\n"
     ]
    },
    {
     "name": "stderr",
     "output_type": "stream",
     "text": [
      "100%|██████████| 64/64 [03:21<00:00,  2.63s/it]  \n"
     ]
    },
    {
     "name": "stdout",
     "output_type": "stream",
     "text": [
      "Saving file/data/u934/service_imagerie/v_kapoor/Fl4-2-Var/STELLA/priority/wt_ECadGFPki-hetero_30pre29_bin140x_movN10/3DResults/%s_40x_bin1_05_5min_1_w2CSU-488_s17_t136.tif\n"
     ]
    },
    {
     "name": "stderr",
     "output_type": "stream",
     "text": [
      "100%|██████████| 64/64 [03:23<00:00,  2.68s/it]  \n"
     ]
    },
    {
     "name": "stdout",
     "output_type": "stream",
     "text": [
      "Saving file/data/u934/service_imagerie/v_kapoor/Fl4-2-Var/STELLA/priority/wt_ECadGFPki-hetero_30pre29_bin140x_movN10/3DResults/%s_40x_bin1_05_5min_1_w2CSU-488_s14_t219.tif\n"
     ]
    },
    {
     "name": "stderr",
     "output_type": "stream",
     "text": [
      "100%|██████████| 64/64 [03:22<00:00,  2.65s/it]  \n"
     ]
    },
    {
     "name": "stdout",
     "output_type": "stream",
     "text": [
      "Saving file/data/u934/service_imagerie/v_kapoor/Fl4-2-Var/STELLA/priority/wt_ECadGFPki-hetero_30pre29_bin140x_movN10/3DResults/%s_40x_bin1_05_5min_1_w2CSU-488_s16_t73.tif\n"
     ]
    },
    {
     "name": "stderr",
     "output_type": "stream",
     "text": [
      "100%|██████████| 64/64 [03:23<00:00,  2.65s/it]  \n"
     ]
    },
    {
     "name": "stdout",
     "output_type": "stream",
     "text": [
      "Saving file/data/u934/service_imagerie/v_kapoor/Fl4-2-Var/STELLA/priority/wt_ECadGFPki-hetero_30pre29_bin140x_movN10/3DResults/%s_40x_bin1_05_5min_1_w2CSU-488_s15_t31.tif\n"
     ]
    },
    {
     "name": "stderr",
     "output_type": "stream",
     "text": [
      "100%|██████████| 64/64 [03:21<00:00,  2.63s/it]  \n"
     ]
    },
    {
     "name": "stdout",
     "output_type": "stream",
     "text": [
      "Saving file/data/u934/service_imagerie/v_kapoor/Fl4-2-Var/STELLA/priority/wt_ECadGFPki-hetero_30pre29_bin140x_movN10/3DResults/%s_40x_bin1_05_5min_1_w2CSU-488_s16_t145.tif\n"
     ]
    },
    {
     "name": "stderr",
     "output_type": "stream",
     "text": [
      "100%|██████████| 64/64 [03:23<00:00,  2.65s/it]  \n"
     ]
    },
    {
     "name": "stdout",
     "output_type": "stream",
     "text": [
      "Saving file/data/u934/service_imagerie/v_kapoor/Fl4-2-Var/STELLA/priority/wt_ECadGFPki-hetero_30pre29_bin140x_movN10/3DResults/%s_40x_bin1_05_5min_1_w2CSU-488_s16_t2.tif\n"
     ]
    },
    {
     "name": "stderr",
     "output_type": "stream",
     "text": [
      "100%|██████████| 64/64 [03:21<00:00,  2.62s/it]  \n"
     ]
    },
    {
     "name": "stdout",
     "output_type": "stream",
     "text": [
      "Saving file/data/u934/service_imagerie/v_kapoor/Fl4-2-Var/STELLA/priority/wt_ECadGFPki-hetero_30pre29_bin140x_movN10/3DResults/%s_40x_bin1_05_5min_1_w2CSU-488_s16_t194.tif\n"
     ]
    },
    {
     "name": "stderr",
     "output_type": "stream",
     "text": [
      "100%|██████████| 64/64 [03:23<00:00,  2.65s/it]  \n"
     ]
    },
    {
     "name": "stdout",
     "output_type": "stream",
     "text": [
      "Saving file/data/u934/service_imagerie/v_kapoor/Fl4-2-Var/STELLA/priority/wt_ECadGFPki-hetero_30pre29_bin140x_movN10/3DResults/%s_40x_bin1_05_5min_1_w2CSU-488_s14_t13.tif\n"
     ]
    },
    {
     "name": "stderr",
     "output_type": "stream",
     "text": [
      "100%|██████████| 64/64 [03:21<00:00,  2.62s/it]  \n"
     ]
    },
    {
     "name": "stdout",
     "output_type": "stream",
     "text": [
      "Saving file/data/u934/service_imagerie/v_kapoor/Fl4-2-Var/STELLA/priority/wt_ECadGFPki-hetero_30pre29_bin140x_movN10/3DResults/%s_40x_bin1_05_5min_1_w2CSU-488_s15_t6.tif\n"
     ]
    },
    {
     "name": "stderr",
     "output_type": "stream",
     "text": [
      "100%|██████████| 64/64 [03:23<00:00,  2.67s/it]  \n"
     ]
    },
    {
     "name": "stdout",
     "output_type": "stream",
     "text": [
      "Saving file/data/u934/service_imagerie/v_kapoor/Fl4-2-Var/STELLA/priority/wt_ECadGFPki-hetero_30pre29_bin140x_movN10/3DResults/%s_40x_bin1_05_5min_1_w2CSU-488_s17_t51.tif\n"
     ]
    },
    {
     "name": "stderr",
     "output_type": "stream",
     "text": [
      "100%|██████████| 64/64 [03:21<00:00,  2.62s/it]  \n"
     ]
    },
    {
     "name": "stdout",
     "output_type": "stream",
     "text": [
      "Saving file/data/u934/service_imagerie/v_kapoor/Fl4-2-Var/STELLA/priority/wt_ECadGFPki-hetero_30pre29_bin140x_movN10/3DResults/%s_40x_bin1_05_5min_1_w2CSU-488_s14_t196.tif\n"
     ]
    },
    {
     "name": "stderr",
     "output_type": "stream",
     "text": [
      "100%|██████████| 64/64 [03:22<00:00,  2.65s/it]  \n"
     ]
    },
    {
     "name": "stdout",
     "output_type": "stream",
     "text": [
      "Saving file/data/u934/service_imagerie/v_kapoor/Fl4-2-Var/STELLA/priority/wt_ECadGFPki-hetero_30pre29_bin140x_movN10/3DResults/%s_40x_bin1_05_5min_1_w2CSU-488_s14_t147.tif\n"
     ]
    },
    {
     "name": "stderr",
     "output_type": "stream",
     "text": [
      "100%|██████████| 64/64 [03:21<00:00,  2.62s/it]  \n"
     ]
    },
    {
     "name": "stdout",
     "output_type": "stream",
     "text": [
      "Saving file/data/u934/service_imagerie/v_kapoor/Fl4-2-Var/STELLA/priority/wt_ECadGFPki-hetero_30pre29_bin140x_movN10/3DResults/%s_40x_bin1_05_5min_1_w2CSU-488_s17_t80.tif\n"
     ]
    },
    {
     "name": "stderr",
     "output_type": "stream",
     "text": [
      "100%|██████████| 64/64 [03:22<00:00,  2.64s/it]  \n"
     ]
    },
    {
     "name": "stdout",
     "output_type": "stream",
     "text": [
      "Saving file/data/u934/service_imagerie/v_kapoor/Fl4-2-Var/STELLA/priority/wt_ECadGFPki-hetero_30pre29_bin140x_movN10/3DResults/%s_40x_bin1_05_5min_1_w2CSU-488_s15_t134.tif\n"
     ]
    },
    {
     "name": "stderr",
     "output_type": "stream",
     "text": [
      "100%|██████████| 64/64 [03:21<00:00,  2.62s/it]  \n"
     ]
    },
    {
     "name": "stdout",
     "output_type": "stream",
     "text": [
      "Saving file/data/u934/service_imagerie/v_kapoor/Fl4-2-Var/STELLA/priority/wt_ECadGFPki-hetero_30pre29_bin140x_movN10/3DResults/%s_40x_bin1_05_5min_1_w2CSU-488_s15_t78.tif\n"
     ]
    },
    {
     "name": "stderr",
     "output_type": "stream",
     "text": [
      "100%|██████████| 64/64 [03:22<00:00,  2.65s/it]  \n"
     ]
    },
    {
     "name": "stdout",
     "output_type": "stream",
     "text": [
      "Saving file/data/u934/service_imagerie/v_kapoor/Fl4-2-Var/STELLA/priority/wt_ECadGFPki-hetero_30pre29_bin140x_movN10/3DResults/%s_40x_bin1_05_5min_1_w2CSU-488_s15_t223.tif\n"
     ]
    },
    {
     "name": "stderr",
     "output_type": "stream",
     "text": [
      "100%|██████████| 64/64 [03:21<00:00,  2.65s/it]  \n"
     ]
    },
    {
     "name": "stdout",
     "output_type": "stream",
     "text": [
      "Saving file/data/u934/service_imagerie/v_kapoor/Fl4-2-Var/STELLA/priority/wt_ECadGFPki-hetero_30pre29_bin140x_movN10/3DResults/%s_40x_bin1_05_5min_1_w2CSU-488_s17_t103.tif\n"
     ]
    },
    {
     "name": "stderr",
     "output_type": "stream",
     "text": [
      "100%|██████████| 64/64 [03:23<00:00,  2.67s/it]  \n"
     ]
    },
    {
     "name": "stdout",
     "output_type": "stream",
     "text": [
      "Saving file/data/u934/service_imagerie/v_kapoor/Fl4-2-Var/STELLA/priority/wt_ECadGFPki-hetero_30pre29_bin140x_movN10/3DResults/%s_40x_bin1_05_5min_1_w2CSU-488_s17_t214.tif\n"
     ]
    },
    {
     "name": "stderr",
     "output_type": "stream",
     "text": [
      "100%|██████████| 64/64 [03:22<00:00,  2.64s/it]  \n"
     ]
    },
    {
     "name": "stdout",
     "output_type": "stream",
     "text": [
      "Saving file/data/u934/service_imagerie/v_kapoor/Fl4-2-Var/STELLA/priority/wt_ECadGFPki-hetero_30pre29_bin140x_movN10/3DResults/%s_40x_bin1_05_5min_1_w2CSU-488_s16_t97.tif\n"
     ]
    },
    {
     "name": "stderr",
     "output_type": "stream",
     "text": [
      "100%|██████████| 64/64 [03:23<00:00,  2.66s/it]  \n"
     ]
    },
    {
     "name": "stdout",
     "output_type": "stream",
     "text": [
      "Saving file/data/u934/service_imagerie/v_kapoor/Fl4-2-Var/STELLA/priority/wt_ECadGFPki-hetero_30pre29_bin140x_movN10/3DResults/%s_40x_bin1_05_5min_1_w2CSU-488_s15_t148.tif\n"
     ]
    },
    {
     "name": "stderr",
     "output_type": "stream",
     "text": [
      "100%|██████████| 64/64 [03:21<00:00,  2.64s/it]  \n"
     ]
    },
    {
     "name": "stdout",
     "output_type": "stream",
     "text": [
      "Saving file/data/u934/service_imagerie/v_kapoor/Fl4-2-Var/STELLA/priority/wt_ECadGFPki-hetero_30pre29_bin140x_movN10/3DResults/%s_40x_bin1_05_5min_1_w2CSU-488_s15_t199.tif\n"
     ]
    },
    {
     "name": "stderr",
     "output_type": "stream",
     "text": [
      "100%|██████████| 64/64 [03:21<00:00,  2.63s/it]  \n"
     ]
    },
    {
     "name": "stdout",
     "output_type": "stream",
     "text": [
      "Saving file/data/u934/service_imagerie/v_kapoor/Fl4-2-Var/STELLA/priority/wt_ECadGFPki-hetero_30pre29_bin140x_movN10/3DResults/%s_40x_bin1_05_5min_1_w2CSU-488_s16_t46.tif\n"
     ]
    },
    {
     "name": "stderr",
     "output_type": "stream",
     "text": [
      "100%|██████████| 64/64 [03:21<00:00,  2.65s/it]  \n"
     ]
    },
    {
     "name": "stdout",
     "output_type": "stream",
     "text": [
      "Saving file/data/u934/service_imagerie/v_kapoor/Fl4-2-Var/STELLA/priority/wt_ECadGFPki-hetero_30pre29_bin140x_movN10/3DResults/%s_40x_bin1_05_5min_1_w2CSU-488_s16_t170.tif\n"
     ]
    },
    {
     "name": "stderr",
     "output_type": "stream",
     "text": [
      "100%|██████████| 64/64 [03:22<00:00,  2.65s/it]  \n"
     ]
    },
    {
     "name": "stdout",
     "output_type": "stream",
     "text": [
      "Saving file/data/u934/service_imagerie/v_kapoor/Fl4-2-Var/STELLA/priority/wt_ECadGFPki-hetero_30pre29_bin140x_movN10/3DResults/%s_40x_bin1_05_5min_1_w2CSU-488_s17_t104.tif\n"
     ]
    },
    {
     "name": "stderr",
     "output_type": "stream",
     "text": [
      "100%|██████████| 64/64 [03:22<00:00,  2.64s/it]  \n"
     ]
    },
    {
     "name": "stdout",
     "output_type": "stream",
     "text": [
      "Saving file/data/u934/service_imagerie/v_kapoor/Fl4-2-Var/STELLA/priority/wt_ECadGFPki-hetero_30pre29_bin140x_movN10/3DResults/%s_40x_bin1_05_5min_1_w2CSU-488_s14_t68.tif\n"
     ]
    },
    {
     "name": "stderr",
     "output_type": "stream",
     "text": [
      "100%|██████████| 64/64 [03:24<00:00,  2.70s/it]  \n"
     ]
    },
    {
     "name": "stdout",
     "output_type": "stream",
     "text": [
      "Saving file/data/u934/service_imagerie/v_kapoor/Fl4-2-Var/STELLA/priority/wt_ECadGFPki-hetero_30pre29_bin140x_movN10/3DResults/%s_40x_bin1_05_5min_1_w2CSU-488_s17_t213.tif\n"
     ]
    },
    {
     "name": "stderr",
     "output_type": "stream",
     "text": [
      "100%|██████████| 64/64 [03:22<00:00,  2.67s/it]  \n"
     ]
    },
    {
     "name": "stdout",
     "output_type": "stream",
     "text": [
      "Saving file/data/u934/service_imagerie/v_kapoor/Fl4-2-Var/STELLA/priority/wt_ECadGFPki-hetero_30pre29_bin140x_movN10/3DResults/%s_40x_bin1_05_5min_1_w2CSU-488_s16_t90.tif\n"
     ]
    },
    {
     "name": "stderr",
     "output_type": "stream",
     "text": [
      "100%|██████████| 64/64 [03:25<00:00,  2.69s/it]  \n"
     ]
    },
    {
     "name": "stdout",
     "output_type": "stream",
     "text": [
      "Saving file/data/u934/service_imagerie/v_kapoor/Fl4-2-Var/STELLA/priority/wt_ECadGFPki-hetero_30pre29_bin140x_movN10/3DResults/%s_40x_bin1_05_5min_1_w2CSU-488_s16_t41.tif\n"
     ]
    },
    {
     "name": "stderr",
     "output_type": "stream",
     "text": [
      "100%|██████████| 64/64 [03:23<00:00,  2.64s/it]  \n"
     ]
    },
    {
     "name": "stdout",
     "output_type": "stream",
     "text": [
      "Saving file/data/u934/service_imagerie/v_kapoor/Fl4-2-Var/STELLA/priority/wt_ECadGFPki-hetero_30pre29_bin140x_movN10/3DResults/%s_40x_bin1_05_5min_1_w2CSU-488_s16_t177.tif\n"
     ]
    },
    {
     "name": "stderr",
     "output_type": "stream",
     "text": [
      "100%|██████████| 64/64 [03:24<00:00,  2.67s/it]  \n"
     ]
    },
    {
     "name": "stdout",
     "output_type": "stream",
     "text": [
      "Saving file/data/u934/service_imagerie/v_kapoor/Fl4-2-Var/STELLA/priority/wt_ECadGFPki-hetero_30pre29_bin140x_movN10/3DResults/%s_40x_bin1_05_5min_1_w2CSU-488_s14_t14.tif\n"
     ]
    },
    {
     "name": "stderr",
     "output_type": "stream",
     "text": [
      "100%|██████████| 64/64 [03:22<00:00,  2.63s/it]  \n"
     ]
    },
    {
     "name": "stdout",
     "output_type": "stream",
     "text": [
      "Saving file/data/u934/service_imagerie/v_kapoor/Fl4-2-Var/STELLA/priority/wt_ECadGFPki-hetero_30pre29_bin140x_movN10/3DResults/%s_40x_bin1_05_5min_1_w2CSU-488_s17_t178.tif\n"
     ]
    },
    {
     "name": "stderr",
     "output_type": "stream",
     "text": [
      "100%|██████████| 64/64 [03:23<00:00,  2.67s/it]  \n"
     ]
    },
    {
     "name": "stdout",
     "output_type": "stream",
     "text": [
      "Saving file/data/u934/service_imagerie/v_kapoor/Fl4-2-Var/STELLA/priority/wt_ECadGFPki-hetero_30pre29_bin140x_movN10/3DResults/%s_40x_bin1_05_5min_1_w2CSU-488_s17_t56.tif\n"
     ]
    },
    {
     "name": "stderr",
     "output_type": "stream",
     "text": [
      "100%|██████████| 64/64 [03:23<00:00,  2.67s/it]  \n"
     ]
    },
    {
     "name": "stdout",
     "output_type": "stream",
     "text": [
      "Saving file/data/u934/service_imagerie/v_kapoor/Fl4-2-Var/STELLA/priority/wt_ECadGFPki-hetero_30pre29_bin140x_movN10/3DResults/%s_40x_bin1_05_5min_1_w2CSU-488_s15_t1.tif\n"
     ]
    },
    {
     "name": "stderr",
     "output_type": "stream",
     "text": [
      "100%|██████████| 64/64 [03:24<00:00,  2.65s/it]  \n"
     ]
    },
    {
     "name": "stdout",
     "output_type": "stream",
     "text": [
      "Saving file/data/u934/service_imagerie/v_kapoor/Fl4-2-Var/STELLA/priority/wt_ECadGFPki-hetero_30pre29_bin140x_movN10/3DResults/%s_40x_bin1_05_5min_1_w2CSU-488_s14_t191.tif\n"
     ]
    },
    {
     "name": "stderr",
     "output_type": "stream",
     "text": [
      "100%|██████████| 64/64 [03:21<00:00,  2.62s/it]  \n"
     ]
    },
    {
     "name": "stdout",
     "output_type": "stream",
     "text": [
      "Saving file/data/u934/service_imagerie/v_kapoor/Fl4-2-Var/STELLA/priority/wt_ECadGFPki-hetero_30pre29_bin140x_movN10/3DResults/%s_40x_bin1_05_5min_1_w2CSU-488_s14_t140.tif\n"
     ]
    },
    {
     "name": "stderr",
     "output_type": "stream",
     "text": [
      "100%|██████████| 64/64 [03:23<00:00,  2.66s/it]  \n"
     ]
    },
    {
     "name": "stdout",
     "output_type": "stream",
     "text": [
      "Saving file/data/u934/service_imagerie/v_kapoor/Fl4-2-Var/STELLA/priority/wt_ECadGFPki-hetero_30pre29_bin140x_movN10/3DResults/%s_40x_bin1_05_5min_1_w2CSU-488_s17_t87.tif\n"
     ]
    },
    {
     "name": "stderr",
     "output_type": "stream",
     "text": [
      "100%|██████████| 64/64 [03:21<00:00,  2.63s/it]  \n"
     ]
    },
    {
     "name": "stdout",
     "output_type": "stream",
     "text": [
      "Saving file/data/u934/service_imagerie/v_kapoor/Fl4-2-Var/STELLA/priority/wt_ECadGFPki-hetero_30pre29_bin140x_movN10/3DResults/%s_40x_bin1_05_5min_1_w2CSU-488_s15_t133.tif\n"
     ]
    },
    {
     "name": "stderr",
     "output_type": "stream",
     "text": [
      "100%|██████████| 64/64 [03:22<00:00,  2.64s/it]  \n"
     ]
    },
    {
     "name": "stdout",
     "output_type": "stream",
     "text": [
      "Saving file/data/u934/service_imagerie/v_kapoor/Fl4-2-Var/STELLA/priority/wt_ECadGFPki-hetero_30pre29_bin140x_movN10/3DResults/%s_40x_bin1_05_5min_1_w2CSU-488_s15_t224.tif\n"
     ]
    },
    {
     "name": "stderr",
     "output_type": "stream",
     "text": [
      "100%|██████████| 64/64 [03:22<00:00,  2.63s/it]  \n"
     ]
    },
    {
     "name": "stdout",
     "output_type": "stream",
     "text": [
      "Saving file/data/u934/service_imagerie/v_kapoor/Fl4-2-Var/STELLA/priority/wt_ECadGFPki-hetero_30pre29_bin140x_movN10/3DResults/%s_40x_bin1_05_5min_1_w2CSU-488_s14_t66.tif\n"
     ]
    },
    {
     "name": "stderr",
     "output_type": "stream",
     "text": [
      "100%|██████████| 64/64 [03:22<00:00,  2.66s/it]  \n"
     ]
    },
    {
     "name": "stdout",
     "output_type": "stream",
     "text": [
      "Saving file/data/u934/service_imagerie/v_kapoor/Fl4-2-Var/STELLA/priority/wt_ECadGFPki-hetero_30pre29_bin140x_movN10/3DResults/%s_40x_bin1_05_5min_1_w2CSU-488_s14_t225.tif\n"
     ]
    },
    {
     "name": "stderr",
     "output_type": "stream",
     "text": [
      "100%|██████████| 64/64 [03:21<00:00,  2.63s/it]  \n"
     ]
    },
    {
     "name": "stdout",
     "output_type": "stream",
     "text": [
      "Saving file/data/u934/service_imagerie/v_kapoor/Fl4-2-Var/STELLA/priority/wt_ECadGFPki-hetero_30pre29_bin140x_movN10/3DResults/%s_40x_bin1_05_5min_1_w2CSU-488_s17_t24.tif\n"
     ]
    },
    {
     "name": "stderr",
     "output_type": "stream",
     "text": [
      "100%|██████████| 64/64 [03:22<00:00,  2.67s/it]  \n"
     ]
    },
    {
     "name": "stdout",
     "output_type": "stream",
     "text": [
      "Saving file/data/u934/service_imagerie/v_kapoor/Fl4-2-Var/STELLA/priority/wt_ECadGFPki-hetero_30pre29_bin140x_movN10/3DResults/%s_40x_bin1_05_5min_1_w2CSU-488_s14_t132.tif\n"
     ]
    },
    {
     "name": "stderr",
     "output_type": "stream",
     "text": [
      "100%|██████████| 64/64 [03:21<00:00,  2.62s/it]  \n"
     ]
    },
    {
     "name": "stdout",
     "output_type": "stream",
     "text": [
      "Saving file/data/u934/service_imagerie/v_kapoor/Fl4-2-Var/STELLA/priority/wt_ECadGFPki-hetero_30pre29_bin140x_movN10/3DResults/%s_40x_bin1_05_5min_1_w2CSU-488_s15_t141.tif\n"
     ]
    },
    {
     "name": "stderr",
     "output_type": "stream",
     "text": [
      "100%|██████████| 64/64 [03:22<00:00,  2.63s/it]  \n"
     ]
    },
    {
     "name": "stdout",
     "output_type": "stream",
     "text": [
      "Saving file/data/u934/service_imagerie/v_kapoor/Fl4-2-Var/STELLA/priority/wt_ECadGFPki-hetero_30pre29_bin140x_movN10/3DResults/%s_40x_bin1_05_5min_1_w2CSU-488_s15_t190.tif\n"
     ]
    },
    {
     "name": "stderr",
     "output_type": "stream",
     "text": [
      "100%|██████████| 64/64 [03:21<00:00,  2.63s/it]  \n"
     ]
    },
    {
     "name": "stdout",
     "output_type": "stream",
     "text": [
      "Saving file/data/u934/service_imagerie/v_kapoor/Fl4-2-Var/STELLA/priority/wt_ECadGFPki-hetero_30pre29_bin140x_movN10/3DResults/%s_40x_bin1_05_5min_1_w2CSU-488_s16_t179.tif\n"
     ]
    },
    {
     "name": "stderr",
     "output_type": "stream",
     "text": [
      "100%|██████████| 64/64 [03:23<00:00,  2.65s/it]  \n"
     ]
    },
    {
     "name": "stdout",
     "output_type": "stream",
     "text": [
      "Saving file/data/u934/service_imagerie/v_kapoor/Fl4-2-Var/STELLA/priority/wt_ECadGFPki-hetero_30pre29_bin140x_movN10/3DResults/%s_40x_bin1_05_5min_1_w2CSU-488_s17_t58.tif\n"
     ]
    },
    {
     "name": "stderr",
     "output_type": "stream",
     "text": [
      "100%|██████████| 64/64 [03:21<00:00,  2.63s/it]  \n"
     ]
    },
    {
     "name": "stdout",
     "output_type": "stream",
     "text": [
      "Saving file/data/u934/service_imagerie/v_kapoor/Fl4-2-Var/STELLA/priority/wt_ECadGFPki-hetero_30pre29_bin140x_movN10/3DResults/%s_40x_bin1_05_5min_1_w2CSU-488_s17_t176.tif\n"
     ]
    },
    {
     "name": "stderr",
     "output_type": "stream",
     "text": [
      "100%|██████████| 64/64 [03:22<00:00,  2.65s/it]  \n"
     ]
    },
    {
     "name": "stdout",
     "output_type": "stream",
     "text": [
      "Saving file/data/u934/service_imagerie/v_kapoor/Fl4-2-Var/STELLA/priority/wt_ECadGFPki-hetero_30pre29_bin140x_movN10/3DResults/%s_40x_bin1_05_5min_1_w2CSU-488_s17_t89.tif\n"
     ]
    },
    {
     "name": "stderr",
     "output_type": "stream",
     "text": [
      "100%|██████████| 64/64 [03:21<00:00,  2.63s/it]  \n"
     ]
    },
    {
     "name": "stdout",
     "output_type": "stream",
     "text": [
      "Saving file/data/u934/service_imagerie/v_kapoor/Fl4-2-Var/STELLA/priority/wt_ECadGFPki-hetero_30pre29_bin140x_movN10/3DResults/%s_40x_bin1_05_5min_1_w2CSU-488_s16_t212.tif\n"
     ]
    },
    {
     "name": "stderr",
     "output_type": "stream",
     "text": [
      "100%|██████████| 64/64 [03:23<00:00,  2.68s/it]  \n"
     ]
    },
    {
     "name": "stdout",
     "output_type": "stream",
     "text": [
      "Saving file/data/u934/service_imagerie/v_kapoor/Fl4-2-Var/STELLA/priority/wt_ECadGFPki-hetero_30pre29_bin140x_movN10/3DResults/%s_40x_bin1_05_5min_1_w2CSU-488_s16_t33.tif\n"
     ]
    },
    {
     "name": "stderr",
     "output_type": "stream",
     "text": [
      "100%|██████████| 64/64 [03:22<00:00,  2.65s/it]  \n"
     ]
    },
    {
     "name": "stdout",
     "output_type": "stream",
     "text": [
      "Saving file/data/u934/service_imagerie/v_kapoor/Fl4-2-Var/STELLA/priority/wt_ECadGFPki-hetero_30pre29_bin140x_movN10/3DResults/%s_40x_bin1_05_5min_1_w2CSU-488_s15_t71.tif\n"
     ]
    },
    {
     "name": "stderr",
     "output_type": "stream",
     "text": [
      "100%|██████████| 64/64 [03:24<00:00,  2.64s/it]  \n"
     ]
    },
    {
     "name": "stdout",
     "output_type": "stream",
     "text": [
      "Saving file/data/u934/service_imagerie/v_kapoor/Fl4-2-Var/STELLA/priority/wt_ECadGFPki-hetero_30pre29_bin140x_movN10/3DResults/%s_40x_bin1_05_5min_1_w2CSU-488_s16_t105.tif\n"
     ]
    },
    {
     "name": "stderr",
     "output_type": "stream",
     "text": [
      "100%|██████████| 64/64 [03:22<00:00,  2.65s/it]  \n"
     ]
    },
    {
     "name": "stdout",
     "output_type": "stream",
     "text": [
      "Saving file/data/u934/service_imagerie/v_kapoor/Fl4-2-Var/STELLA/priority/wt_ECadGFPki-hetero_30pre29_bin140x_movN10/3DResults/%s_40x_bin1_05_5min_1_w2CSU-488_s15_t8.tif\n"
     ]
    },
    {
     "name": "stderr",
     "output_type": "stream",
     "text": [
      "100%|██████████| 64/64 [03:24<00:00,  2.68s/it]  \n"
     ]
    },
    {
     "name": "stdout",
     "output_type": "stream",
     "text": [
      "Saving file/data/u934/service_imagerie/v_kapoor/Fl4-2-Var/STELLA/priority/wt_ECadGFPki-hetero_30pre29_bin140x_movN10/3DResults/%s_40x_bin1_05_5min_1_w2CSU-488_s17_t171.tif\n"
     ]
    },
    {
     "name": "stderr",
     "output_type": "stream",
     "text": [
      "100%|██████████| 64/64 [03:22<00:00,  2.63s/it]  \n"
     ]
    },
    {
     "name": "stdout",
     "output_type": "stream",
     "text": [
      "Saving file/data/u934/service_imagerie/v_kapoor/Fl4-2-Var/STELLA/priority/wt_ECadGFPki-hetero_30pre29_bin140x_movN10/3DResults/%s_40x_bin1_05_5min_1_w2CSU-488_s14_t198.tif\n"
     ]
    },
    {
     "name": "stderr",
     "output_type": "stream",
     "text": [
      "100%|██████████| 64/64 [03:23<00:00,  2.65s/it]  \n"
     ]
    },
    {
     "name": "stdout",
     "output_type": "stream",
     "text": [
      "Saving file/data/u934/service_imagerie/v_kapoor/Fl4-2-Var/STELLA/priority/wt_ECadGFPki-hetero_30pre29_bin140x_movN10/3DResults/%s_40x_bin1_05_5min_1_w2CSU-488_s14_t149.tif\n"
     ]
    },
    {
     "name": "stderr",
     "output_type": "stream",
     "text": [
      "100%|██████████| 64/64 [03:22<00:00,  2.64s/it]  \n"
     ]
    },
    {
     "name": "stdout",
     "output_type": "stream",
     "text": [
      "Saving file/data/u934/service_imagerie/v_kapoor/Fl4-2-Var/STELLA/priority/wt_ECadGFPki-hetero_30pre29_bin140x_movN10/3DResults/%s_40x_bin1_05_5min_1_w2CSU-488_s16_t215.tif\n"
     ]
    },
    {
     "name": "stderr",
     "output_type": "stream",
     "text": [
      "100%|██████████| 64/64 [03:23<00:00,  2.65s/it]  \n"
     ]
    },
    {
     "name": "stdout",
     "output_type": "stream",
     "text": [
      "Saving file/data/u934/service_imagerie/v_kapoor/Fl4-2-Var/STELLA/priority/wt_ECadGFPki-hetero_30pre29_bin140x_movN10/3DResults/%s_40x_bin1_05_5min_1_w2CSU-488_s16_t34.tif\n"
     ]
    },
    {
     "name": "stderr",
     "output_type": "stream",
     "text": [
      "100%|██████████| 64/64 [03:21<00:00,  2.63s/it]  \n"
     ]
    },
    {
     "name": "stdout",
     "output_type": "stream",
     "text": [
      "Saving file/data/u934/service_imagerie/v_kapoor/Fl4-2-Var/STELLA/priority/wt_ECadGFPki-hetero_30pre29_bin140x_movN10/3DResults/%s_40x_bin1_05_5min_1_w2CSU-488_s15_t76.tif\n"
     ]
    },
    {
     "name": "stderr",
     "output_type": "stream",
     "text": [
      "100%|██████████| 64/64 [03:23<00:00,  2.66s/it]  \n"
     ]
    },
    {
     "name": "stdout",
     "output_type": "stream",
     "text": [
      "Saving file/data/u934/service_imagerie/v_kapoor/Fl4-2-Var/STELLA/priority/wt_ECadGFPki-hetero_30pre29_bin140x_movN10/3DResults/%s_40x_bin1_05_5min_1_w2CSU-488_s16_t102.tif\n"
     ]
    },
    {
     "name": "stderr",
     "output_type": "stream",
     "text": [
      "100%|██████████| 64/64 [03:21<00:00,  2.64s/it]  \n"
     ]
    },
    {
     "name": "stdout",
     "output_type": "stream",
     "text": [
      "Saving file/data/u934/service_imagerie/v_kapoor/Fl4-2-Var/STELLA/priority/wt_ECadGFPki-hetero_30pre29_bin140x_movN10/3DResults/%s_40x_bin1_05_5min_1_w2CSU-488_s14_t222.tif\n"
     ]
    },
    {
     "name": "stderr",
     "output_type": "stream",
     "text": [
      "100%|██████████| 64/64 [03:23<00:00,  2.65s/it]  \n"
     ]
    },
    {
     "name": "stdout",
     "output_type": "stream",
     "text": [
      "Saving file/data/u934/service_imagerie/v_kapoor/Fl4-2-Var/STELLA/priority/wt_ECadGFPki-hetero_30pre29_bin140x_movN10/3DResults/%s_40x_bin1_05_5min_1_w2CSU-488_s14_t61.tif\n"
     ]
    },
    {
     "name": "stderr",
     "output_type": "stream",
     "text": [
      "100%|██████████| 64/64 [03:21<00:00,  2.62s/it]  \n"
     ]
    },
    {
     "name": "stdout",
     "output_type": "stream",
     "text": [
      "Saving file/data/u934/service_imagerie/v_kapoor/Fl4-2-Var/STELLA/priority/wt_ECadGFPki-hetero_30pre29_bin140x_movN10/3DResults/%s_40x_bin1_05_5min_1_w2CSU-488_s17_t23.tif\n"
     ]
    },
    {
     "name": "stderr",
     "output_type": "stream",
     "text": [
      "100%|██████████| 64/64 [03:23<00:00,  2.66s/it]  \n"
     ]
    },
    {
     "name": "stdout",
     "output_type": "stream",
     "text": [
      "Saving file/data/u934/service_imagerie/v_kapoor/Fl4-2-Var/STELLA/priority/wt_ECadGFPki-hetero_30pre29_bin140x_movN10/3DResults/%s_40x_bin1_05_5min_1_w2CSU-488_s14_t135.tif\n"
     ]
    },
    {
     "name": "stderr",
     "output_type": "stream",
     "text": [
      "100%|██████████| 64/64 [03:22<00:00,  2.66s/it]  \n"
     ]
    },
    {
     "name": "stdout",
     "output_type": "stream",
     "text": [
      "Saving file/data/u934/service_imagerie/v_kapoor/Fl4-2-Var/STELLA/priority/wt_ECadGFPki-hetero_30pre29_bin140x_movN10/3DResults/%s_40x_bin1_05_5min_1_w2CSU-488_s16_t99.tif\n"
     ]
    },
    {
     "name": "stderr",
     "output_type": "stream",
     "text": [
      "100%|██████████| 64/64 [03:23<00:00,  2.67s/it]  \n"
     ]
    },
    {
     "name": "stdout",
     "output_type": "stream",
     "text": [
      "Saving file/data/u934/service_imagerie/v_kapoor/Fl4-2-Var/STELLA/priority/wt_ECadGFPki-hetero_30pre29_bin140x_movN10/3DResults/%s_40x_bin1_05_5min_1_w2CSU-488_s15_t146.tif\n"
     ]
    },
    {
     "name": "stderr",
     "output_type": "stream",
     "text": [
      "100%|██████████| 64/64 [03:22<00:00,  2.63s/it]  \n"
     ]
    },
    {
     "name": "stdout",
     "output_type": "stream",
     "text": [
      "Saving file/data/u934/service_imagerie/v_kapoor/Fl4-2-Var/STELLA/priority/wt_ECadGFPki-hetero_30pre29_bin140x_movN10/3DResults/%s_40x_bin1_05_5min_1_w2CSU-488_s15_t197.tif\n"
     ]
    },
    {
     "name": "stderr",
     "output_type": "stream",
     "text": [
      "100%|██████████| 64/64 [03:23<00:00,  2.65s/it]  \n"
     ]
    },
    {
     "name": "stdout",
     "output_type": "stream",
     "text": [
      "Saving file/data/u934/service_imagerie/v_kapoor/Fl4-2-Var/STELLA/priority/wt_ECadGFPki-hetero_30pre29_bin140x_movN10/3DResults/%s_40x_bin1_05_5min_1_w2CSU-488_s16_t48.tif\n"
     ]
    },
    {
     "name": "stderr",
     "output_type": "stream",
     "text": [
      "100%|██████████| 64/64 [03:22<00:00,  2.63s/it]  \n"
     ]
    },
    {
     "name": "stdout",
     "output_type": "stream",
     "text": [
      "Saving file/data/u934/service_imagerie/v_kapoor/Fl4-2-Var/STELLA/priority/wt_ECadGFPki-hetero_30pre29_bin140x_movN10/3DResults/%s_40x_bin1_05_5min_1_w2CSU-488_s15_t67.tif\n"
     ]
    },
    {
     "name": "stderr",
     "output_type": "stream",
     "text": [
      "100%|██████████| 64/64 [03:24<00:00,  2.68s/it]  \n"
     ]
    },
    {
     "name": "stdout",
     "output_type": "stream",
     "text": [
      "Saving file/data/u934/service_imagerie/v_kapoor/Fl4-2-Var/STELLA/priority/wt_ECadGFPki-hetero_30pre29_bin140x_movN10/3DResults/%s_40x_bin1_05_5min_1_w2CSU-488_s16_t113.tif\n"
     ]
    },
    {
     "name": "stderr",
     "output_type": "stream",
     "text": [
      "100%|██████████| 64/64 [03:22<00:00,  2.65s/it]  \n"
     ]
    },
    {
     "name": "stdout",
     "output_type": "stream",
     "text": [
      "Saving file/data/u934/service_imagerie/v_kapoor/Fl4-2-Var/STELLA/priority/wt_ECadGFPki-hetero_30pre29_bin140x_movN10/3DResults/%s_40x_bin1_05_5min_1_w2CSU-488_s16_t25.tif\n"
     ]
    },
    {
     "name": "stderr",
     "output_type": "stream",
     "text": [
      "100%|██████████| 64/64 [03:24<00:00,  2.66s/it]  \n"
     ]
    },
    {
     "name": "stdout",
     "output_type": "stream",
     "text": [
      "Saving file/data/u934/service_imagerie/v_kapoor/Fl4-2-Var/STELLA/priority/wt_ECadGFPki-hetero_30pre29_bin140x_movN10/3DResults/%s_40x_bin1_05_5min_1_w2CSU-488_s16_t204.tif\n"
     ]
    },
    {
     "name": "stderr",
     "output_type": "stream",
     "text": [
      "100%|██████████| 64/64 [03:22<00:00,  2.67s/it]  \n"
     ]
    },
    {
     "name": "stdout",
     "output_type": "stream",
     "text": [
      "Saving file/data/u934/service_imagerie/v_kapoor/Fl4-2-Var/STELLA/priority/wt_ECadGFPki-hetero_30pre29_bin140x_movN10/3DResults/%s_40x_bin1_05_5min_1_w2CSU-488_s14_t158.tif\n"
     ]
    },
    {
     "name": "stderr",
     "output_type": "stream",
     "text": [
      "100%|██████████| 64/64 [03:23<00:00,  2.65s/it]  \n"
     ]
    },
    {
     "name": "stdout",
     "output_type": "stream",
     "text": [
      "Saving file/data/u934/service_imagerie/v_kapoor/Fl4-2-Var/STELLA/priority/wt_ECadGFPki-hetero_30pre29_bin140x_movN10/3DResults/%s_40x_bin1_05_5min_1_w2CSU-488_s17_t160.tif\n"
     ]
    },
    {
     "name": "stderr",
     "output_type": "stream",
     "text": [
      "100%|██████████| 64/64 [03:21<00:00,  2.65s/it]  \n"
     ]
    },
    {
     "name": "stdout",
     "output_type": "stream",
     "text": [
      "Saving file/data/u934/service_imagerie/v_kapoor/Fl4-2-Var/STELLA/priority/wt_ECadGFPki-hetero_30pre29_bin140x_movN10/3DResults/%s_40x_bin1_05_5min_1_w2CSU-488_s14_t189.tif\n"
     ]
    },
    {
     "name": "stderr",
     "output_type": "stream",
     "text": [
      "100%|██████████| 64/64 [03:23<00:00,  2.67s/it]  \n"
     ]
    },
    {
     "name": "stdout",
     "output_type": "stream",
     "text": [
      "Saving file/data/u934/service_imagerie/v_kapoor/Fl4-2-Var/STELLA/priority/wt_ECadGFPki-hetero_30pre29_bin140x_movN10/3DResults/%s_40x_bin1_05_5min_1_w2CSU-488_s15_t186.tif\n"
     ]
    },
    {
     "name": "stderr",
     "output_type": "stream",
     "text": [
      "100%|██████████| 64/64 [03:22<00:00,  2.64s/it]  \n"
     ]
    },
    {
     "name": "stdout",
     "output_type": "stream",
     "text": [
      "Saving file/data/u934/service_imagerie/v_kapoor/Fl4-2-Var/STELLA/priority/wt_ECadGFPki-hetero_30pre29_bin140x_movN10/3DResults/%s_40x_bin1_05_5min_1_w2CSU-488_s16_t59.tif\n"
     ]
    },
    {
     "name": "stderr",
     "output_type": "stream",
     "text": [
      "100%|██████████| 64/64 [03:24<00:00,  2.65s/it]  \n"
     ]
    },
    {
     "name": "stdout",
     "output_type": "stream",
     "text": [
      "Saving file/data/u934/service_imagerie/v_kapoor/Fl4-2-Var/STELLA/priority/wt_ECadGFPki-hetero_30pre29_bin140x_movN10/3DResults/%s_40x_bin1_05_5min_1_w2CSU-488_s15_t240.tif\n"
     ]
    },
    {
     "name": "stderr",
     "output_type": "stream",
     "text": [
      "100%|██████████| 64/64 [03:22<00:00,  2.65s/it]  \n"
     ]
    },
    {
     "name": "stdout",
     "output_type": "stream",
     "text": [
      "Saving file/data/u934/service_imagerie/v_kapoor/Fl4-2-Var/STELLA/priority/wt_ECadGFPki-hetero_30pre29_bin140x_movN10/3DResults/%s_40x_bin1_05_5min_1_w2CSU-488_s16_t88.tif\n"
     ]
    },
    {
     "name": "stderr",
     "output_type": "stream",
     "text": [
      "100%|██████████| 64/64 [03:23<00:00,  2.67s/it]  \n"
     ]
    },
    {
     "name": "stdout",
     "output_type": "stream",
     "text": [
      "Saving file/data/u934/service_imagerie/v_kapoor/Fl4-2-Var/STELLA/priority/wt_ECadGFPki-hetero_30pre29_bin140x_movN10/3DResults/%s_40x_bin1_05_5min_1_w2CSU-488_s15_t157.tif\n"
     ]
    },
    {
     "name": "stderr",
     "output_type": "stream",
     "text": [
      "100%|██████████| 64/64 [03:22<00:00,  2.64s/it]  \n"
     ]
    },
    {
     "name": "stdout",
     "output_type": "stream",
     "text": [
      "Saving file/data/u934/service_imagerie/v_kapoor/Fl4-2-Var/STELLA/priority/wt_ECadGFPki-hetero_30pre29_bin140x_movN10/3DResults/%s_40x_bin1_05_5min_1_w2CSU-488_s14_t124.tif\n"
     ]
    },
    {
     "name": "stderr",
     "output_type": "stream",
     "text": [
      "100%|██████████| 64/64 [03:23<00:00,  2.67s/it]  \n"
     ]
    },
    {
     "name": "stdout",
     "output_type": "stream",
     "text": [
      "Saving file/data/u934/service_imagerie/v_kapoor/Fl4-2-Var/STELLA/priority/wt_ECadGFPki-hetero_30pre29_bin140x_movN10/3DResults/%s_40x_bin1_05_5min_1_w2CSU-488_s17_t32.tif\n"
     ]
    },
    {
     "name": "stderr",
     "output_type": "stream",
     "text": [
      "100%|██████████| 64/64 [03:22<00:00,  2.64s/it]  \n"
     ]
    },
    {
     "name": "stdout",
     "output_type": "stream",
     "text": [
      "Saving file/data/u934/service_imagerie/v_kapoor/Fl4-2-Var/STELLA/priority/wt_ECadGFPki-hetero_30pre29_bin140x_movN10/3DResults/%s_40x_bin1_05_5min_1_w2CSU-488_s14_t233.tif\n"
     ]
    },
    {
     "name": "stderr",
     "output_type": "stream",
     "text": [
      "100%|██████████| 64/64 [03:23<00:00,  2.66s/it]  \n"
     ]
    },
    {
     "name": "stdout",
     "output_type": "stream",
     "text": [
      "Saving file/data/u934/service_imagerie/v_kapoor/Fl4-2-Var/STELLA/priority/wt_ECadGFPki-hetero_30pre29_bin140x_movN10/3DResults/%s_40x_bin1_05_5min_1_w2CSU-488_s14_t70.tif\n"
     ]
    },
    {
     "name": "stderr",
     "output_type": "stream",
     "text": [
      "100%|██████████| 64/64 [03:22<00:00,  2.63s/it]  \n"
     ]
    },
    {
     "name": "stdout",
     "output_type": "stream",
     "text": [
      "Saving file/data/u934/service_imagerie/v_kapoor/Fl4-2-Var/STELLA/priority/wt_ECadGFPki-hetero_30pre29_bin140x_movN10/3DResults/%s_40x_bin1_05_5min_1_w2CSU-488_s15_t181.tif\n"
     ]
    },
    {
     "name": "stderr",
     "output_type": "stream",
     "text": [
      "100%|██████████| 64/64 [03:23<00:00,  2.65s/it]  \n"
     ]
    },
    {
     "name": "stdout",
     "output_type": "stream",
     "text": [
      "Saving file/data/u934/service_imagerie/v_kapoor/Fl4-2-Var/STELLA/priority/wt_ECadGFPki-hetero_30pre29_bin140x_movN10/3DResults/%s_40x_bin1_05_5min_1_w2CSU-488_s15_t247.tif\n"
     ]
    },
    {
     "name": "stderr",
     "output_type": "stream",
     "text": [
      "100%|██████████| 64/64 [03:21<00:00,  2.63s/it]  \n"
     ]
    },
    {
     "name": "stdout",
     "output_type": "stream",
     "text": [
      "Saving file/data/u934/service_imagerie/v_kapoor/Fl4-2-Var/STELLA/priority/wt_ECadGFPki-hetero_30pre29_bin140x_movN10/3DResults/%s_40x_bin1_05_5min_1_w2CSU-488_s16_t168.tif\n"
     ]
    },
    {
     "name": "stderr",
     "output_type": "stream",
     "text": [
      "100%|██████████| 64/64 [03:23<00:00,  2.65s/it]  \n"
     ]
    },
    {
     "name": "stdout",
     "output_type": "stream",
     "text": [
      "Saving file/data/u934/service_imagerie/v_kapoor/Fl4-2-Var/STELLA/priority/wt_ECadGFPki-hetero_30pre29_bin140x_movN10/3DResults/%s_40x_bin1_05_5min_1_w2CSU-488_s15_t150.tif\n"
     ]
    },
    {
     "name": "stderr",
     "output_type": "stream",
     "text": [
      "100%|██████████| 64/64 [03:21<00:00,  2.64s/it]  \n"
     ]
    },
    {
     "name": "stdout",
     "output_type": "stream",
     "text": [
      "Saving file/data/u934/service_imagerie/v_kapoor/Fl4-2-Var/STELLA/priority/wt_ECadGFPki-hetero_30pre29_bin140x_movN10/3DResults/%s_40x_bin1_05_5min_1_w2CSU-488_s14_t123.tif\n"
     ]
    },
    {
     "name": "stderr",
     "output_type": "stream",
     "text": [
      "100%|██████████| 64/64 [03:23<00:00,  2.67s/it]  \n"
     ]
    },
    {
     "name": "stdout",
     "output_type": "stream",
     "text": [
      "Saving file/data/u934/service_imagerie/v_kapoor/Fl4-2-Var/STELLA/priority/wt_ECadGFPki-hetero_30pre29_bin140x_movN10/3DResults/%s_40x_bin1_05_5min_1_w2CSU-488_s17_t35.tif\n"
     ]
    },
    {
     "name": "stderr",
     "output_type": "stream",
     "text": [
      "100%|██████████| 64/64 [03:22<00:00,  2.64s/it]  \n"
     ]
    },
    {
     "name": "stdout",
     "output_type": "stream",
     "text": [
      "Saving file/data/u934/service_imagerie/v_kapoor/Fl4-2-Var/STELLA/priority/wt_ECadGFPki-hetero_30pre29_bin140x_movN10/3DResults/%s_40x_bin1_05_5min_1_w2CSU-488_s14_t77.tif\n"
     ]
    },
    {
     "name": "stderr",
     "output_type": "stream",
     "text": [
      "100%|██████████| 64/64 [03:23<00:00,  2.68s/it]  \n"
     ]
    },
    {
     "name": "stdout",
     "output_type": "stream",
     "text": [
      "Saving file/data/u934/service_imagerie/v_kapoor/Fl4-2-Var/STELLA/priority/wt_ECadGFPki-hetero_30pre29_bin140x_movN10/3DResults/%s_40x_bin1_05_5min_1_w2CSU-488_s14_t234.tif\n"
     ]
    },
    {
     "name": "stderr",
     "output_type": "stream",
     "text": [
      "100%|██████████| 64/64 [03:21<00:00,  2.62s/it]  \n"
     ]
    },
    {
     "name": "stdout",
     "output_type": "stream",
     "text": [
      "Saving file/data/u934/service_imagerie/v_kapoor/Fl4-2-Var/STELLA/priority/wt_ECadGFPki-hetero_30pre29_bin140x_movN10/3DResults/%s_40x_bin1_05_5min_1_w2CSU-488_s15_t60.tif\n"
     ]
    },
    {
     "name": "stderr",
     "output_type": "stream",
     "text": [
      "100%|██████████| 64/64 [03:23<00:00,  2.66s/it]  \n"
     ]
    },
    {
     "name": "stdout",
     "output_type": "stream",
     "text": [
      "Saving file/data/u934/service_imagerie/v_kapoor/Fl4-2-Var/STELLA/priority/wt_ECadGFPki-hetero_30pre29_bin140x_movN10/3DResults/%s_40x_bin1_05_5min_1_w2CSU-488_s16_t114.tif\n"
     ]
    },
    {
     "name": "stderr",
     "output_type": "stream",
     "text": [
      "100%|██████████| 64/64 [03:22<00:00,  2.63s/it]  \n"
     ]
    },
    {
     "name": "stdout",
     "output_type": "stream",
     "text": [
      "Saving file/data/u934/service_imagerie/v_kapoor/Fl4-2-Var/STELLA/priority/wt_ECadGFPki-hetero_30pre29_bin140x_movN10/3DResults/%s_40x_bin1_05_5min_1_w2CSU-488_s16_t22.tif\n"
     ]
    },
    {
     "name": "stderr",
     "output_type": "stream",
     "text": [
      "100%|██████████| 64/64 [03:24<00:00,  2.66s/it]  \n"
     ]
    },
    {
     "name": "stdout",
     "output_type": "stream",
     "text": [
      "Saving file/data/u934/service_imagerie/v_kapoor/Fl4-2-Var/STELLA/priority/wt_ECadGFPki-hetero_30pre29_bin140x_movN10/3DResults/%s_40x_bin1_05_5min_1_w2CSU-488_s16_t203.tif\n"
     ]
    },
    {
     "name": "stderr",
     "output_type": "stream",
     "text": [
      "100%|██████████| 64/64 [03:22<00:00,  2.64s/it]  \n"
     ]
    },
    {
     "name": "stdout",
     "output_type": "stream",
     "text": [
      "Saving file/data/u934/service_imagerie/v_kapoor/Fl4-2-Var/STELLA/priority/wt_ECadGFPki-hetero_30pre29_bin140x_movN10/3DResults/%s_40x_bin1_05_5min_1_w2CSU-488_s17_t98.tif\n"
     ]
    },
    {
     "name": "stderr",
     "output_type": "stream",
     "text": [
      "100%|██████████| 64/64 [03:23<00:00,  2.68s/it]  \n"
     ]
    },
    {
     "name": "stdout",
     "output_type": "stream",
     "text": [
      "Saving file/data/u934/service_imagerie/v_kapoor/Fl4-2-Var/STELLA/priority/wt_ECadGFPki-hetero_30pre29_bin140x_movN10/3DResults/%s_40x_bin1_05_5min_1_w2CSU-488_s17_t167.tif\n"
     ]
    },
    {
     "name": "stderr",
     "output_type": "stream",
     "text": [
      "100%|██████████| 64/64 [03:21<00:00,  2.64s/it]  \n"
     ]
    },
    {
     "name": "stdout",
     "output_type": "stream",
     "text": [
      "Saving file/data/u934/service_imagerie/v_kapoor/Fl4-2-Var/STELLA/priority/wt_ECadGFPki-hetero_30pre29_bin140x_movN10/3DResults/%s_40x_bin1_05_5min_1_w2CSU-488_s14_t248.tif\n"
     ]
    },
    {
     "name": "stderr",
     "output_type": "stream",
     "text": [
      "100%|██████████| 64/64 [03:23<00:00,  2.66s/it]  \n"
     ]
    },
    {
     "name": "stdout",
     "output_type": "stream",
     "text": [
      "Saving file/data/u934/service_imagerie/v_kapoor/Fl4-2-Var/STELLA/priority/wt_ECadGFPki-hetero_30pre29_bin140x_movN10/3DResults/%s_40x_bin1_05_5min_1_w2CSU-488_s17_t49.tif\n"
     ]
    },
    {
     "name": "stderr",
     "output_type": "stream",
     "text": [
      "100%|██████████| 64/64 [03:22<00:00,  2.63s/it]  \n"
     ]
    },
    {
     "name": "stdout",
     "output_type": "stream",
     "text": [
      "Saving file/data/u934/service_imagerie/v_kapoor/Fl4-2-Var/STELLA/priority/wt_ECadGFPki-hetero_30pre29_bin140x_movN10/3DResults/%s_40x_bin1_05_5min_1_w2CSU-488_s16_t166.tif\n"
     ]
    },
    {
     "name": "stderr",
     "output_type": "stream",
     "text": [
      "100%|██████████| 64/64 [03:23<00:00,  2.67s/it]  \n"
     ]
    },
    {
     "name": "stdout",
     "output_type": "stream",
     "text": [
      "Saving file/data/u934/service_imagerie/v_kapoor/Fl4-2-Var/STELLA/priority/wt_ECadGFPki-hetero_30pre29_bin140x_movN10/3DResults/%s_40x_bin1_05_5min_1_w2CSU-488_s15_t12.tif\n"
     ]
    },
    {
     "name": "stderr",
     "output_type": "stream",
     "text": [
      "100%|██████████| 64/64 [03:22<00:00,  2.63s/it]  \n"
     ]
    },
    {
     "name": "stdout",
     "output_type": "stream",
     "text": [
      "Saving file/data/u934/service_imagerie/v_kapoor/Fl4-2-Var/STELLA/priority/wt_ECadGFPki-hetero_30pre29_bin140x_movN10/3DResults/%s_40x_bin1_05_5min_1_w2CSU-488_s16_t50.tif\n"
     ]
    },
    {
     "name": "stderr",
     "output_type": "stream",
     "text": [
      "100%|██████████| 64/64 [03:24<00:00,  2.68s/it]  \n"
     ]
    },
    {
     "name": "stdout",
     "output_type": "stream",
     "text": [
      "Saving file/data/u934/service_imagerie/v_kapoor/Fl4-2-Var/STELLA/priority/wt_ECadGFPki-hetero_30pre29_bin140x_movN10/3DResults/%s_40x_bin1_05_5min_1_w2CSU-488_s16_t81.tif\n"
     ]
    },
    {
     "name": "stderr",
     "output_type": "stream",
     "text": [
      "100%|██████████| 64/64 [03:21<00:00,  2.62s/it]  \n"
     ]
    },
    {
     "name": "stdout",
     "output_type": "stream",
     "text": [
      "Saving file/data/u934/service_imagerie/v_kapoor/Fl4-2-Var/STELLA/priority/wt_ECadGFPki-hetero_30pre29_bin140x_movN10/3DResults/%s_40x_bin1_05_5min_1_w2CSU-488_s14_t2.tif\n"
     ]
    },
    {
     "name": "stderr",
     "output_type": "stream",
     "text": [
      "100%|██████████| 64/64 [03:23<00:00,  2.67s/it]  \n"
     ]
    },
    {
     "name": "stdout",
     "output_type": "stream",
     "text": [
      "Saving file/data/u934/service_imagerie/v_kapoor/Fl4-2-Var/STELLA/priority/wt_ECadGFPki-hetero_30pre29_bin140x_movN10/3DResults/%s_40x_bin1_05_5min_1_w2CSU-488_s17_t202.tif\n"
     ]
    },
    {
     "name": "stderr",
     "output_type": "stream",
     "text": [
      "100%|██████████| 64/64 [03:21<00:00,  2.63s/it]  \n"
     ]
    },
    {
     "name": "stdout",
     "output_type": "stream",
     "text": [
      "Saving file/data/u934/service_imagerie/v_kapoor/Fl4-2-Var/STELLA/priority/wt_ECadGFPki-hetero_30pre29_bin140x_movN10/3DResults/%s_40x_bin1_05_5min_1_w2CSU-488_s14_t79.tif\n"
     ]
    },
    {
     "name": "stderr",
     "output_type": "stream",
     "text": [
      "100%|██████████| 64/64 [03:23<00:00,  2.65s/it]  \n"
     ]
    },
    {
     "name": "stdout",
     "output_type": "stream",
     "text": [
      "Saving file/data/u934/service_imagerie/v_kapoor/Fl4-2-Var/STELLA/priority/wt_ECadGFPki-hetero_30pre29_bin140x_movN10/3DResults/%s_40x_bin1_05_5min_1_w2CSU-488_s17_t115.tif\n"
     ]
    },
    {
     "name": "stderr",
     "output_type": "stream",
     "text": [
      "100%|██████████| 64/64 [03:21<00:00,  2.63s/it]  \n"
     ]
    },
    {
     "name": "stdout",
     "output_type": "stream",
     "text": [
      "Saving file/data/u934/service_imagerie/v_kapoor/Fl4-2-Var/STELLA/priority/wt_ECadGFPki-hetero_30pre29_bin140x_movN10/3DResults/%s_40x_bin1_05_5min_1_w2CSU-488_s15_t235.tif\n"
     ]
    },
    {
     "name": "stderr",
     "output_type": "stream",
     "text": [
      "100%|██████████| 64/64 [03:23<00:00,  2.67s/it]  \n"
     ]
    },
    {
     "name": "stdout",
     "output_type": "stream",
     "text": [
      "Saving file/data/u934/service_imagerie/v_kapoor/Fl4-2-Var/STELLA/priority/wt_ECadGFPki-hetero_30pre29_bin140x_movN10/3DResults/%s_40x_bin1_05_5min_1_w2CSU-488_s15_t122.tif\n"
     ]
    },
    {
     "name": "stderr",
     "output_type": "stream",
     "text": [
      "100%|██████████| 64/64 [03:22<00:00,  2.65s/it]  \n"
     ]
    },
    {
     "name": "stdout",
     "output_type": "stream",
     "text": [
      "Saving file/data/u934/service_imagerie/v_kapoor/Fl4-2-Var/STELLA/priority/wt_ECadGFPki-hetero_30pre29_bin140x_movN10/3DResults/%s_40x_bin1_05_5min_1_w2CSU-488_s14_t151.tif\n"
     ]
    },
    {
     "name": "stderr",
     "output_type": "stream",
     "text": [
      "100%|██████████| 64/64 [03:23<00:00,  2.66s/it]  \n"
     ]
    },
    {
     "name": "stdout",
     "output_type": "stream",
     "text": [
      "Saving file/data/u934/service_imagerie/v_kapoor/Fl4-2-Var/STELLA/priority/wt_ECadGFPki-hetero_30pre29_bin140x_movN10/3DResults/%s_40x_bin1_05_5min_1_w2CSU-488_s17_t96.tif\n"
     ]
    },
    {
     "name": "stderr",
     "output_type": "stream",
     "text": [
      "100%|██████████| 64/64 [03:21<00:00,  2.63s/it]  \n"
     ]
    },
    {
     "name": "stdout",
     "output_type": "stream",
     "text": [
      "Saving file/data/u934/service_imagerie/v_kapoor/Fl4-2-Var/STELLA/priority/wt_ECadGFPki-hetero_30pre29_bin140x_movN10/3DResults/%s_40x_bin1_05_5min_1_w2CSU-488_s17_t47.tif\n"
     ]
    },
    {
     "name": "stderr",
     "output_type": "stream",
     "text": [
      "100%|██████████| 64/64 [03:23<00:00,  2.67s/it]  \n"
     ]
    },
    {
     "name": "stdout",
     "output_type": "stream",
     "text": [
      "Saving file/data/u934/service_imagerie/v_kapoor/Fl4-2-Var/STELLA/priority/wt_ECadGFPki-hetero_30pre29_bin140x_movN10/3DResults/%s_40x_bin1_05_5min_1_w2CSU-488_s17_t169.tif\n"
     ]
    },
    {
     "name": "stderr",
     "output_type": "stream",
     "text": [
      "100%|██████████| 64/64 [03:21<00:00,  2.65s/it]  \n"
     ]
    },
    {
     "name": "stdout",
     "output_type": "stream",
     "text": [
      "Saving file/data/u934/service_imagerie/v_kapoor/Fl4-2-Var/STELLA/priority/wt_ECadGFPki-hetero_30pre29_bin140x_movN10/3DResults/%s_40x_bin1_05_5min_1_w2CSU-488_s14_t246.tif\n"
     ]
    },
    {
     "name": "stderr",
     "output_type": "stream",
     "text": [
      "100%|██████████| 64/64 [03:24<00:00,  2.68s/it]  \n"
     ]
    },
    {
     "name": "stdout",
     "output_type": "stream",
     "text": [
      "Saving file/data/u934/service_imagerie/v_kapoor/Fl4-2-Var/STELLA/priority/wt_ECadGFPki-hetero_30pre29_bin140x_movN10/3DResults/%s_40x_bin1_05_5min_1_w2CSU-488_s14_t180.tif\n"
     ]
    },
    {
     "name": "stderr",
     "output_type": "stream",
     "text": [
      "100%|██████████| 64/64 [03:22<00:00,  2.64s/it]  \n"
     ]
    },
    {
     "name": "stdout",
     "output_type": "stream",
     "text": [
      "Saving file/data/u934/service_imagerie/v_kapoor/Fl4-2-Var/STELLA/priority/wt_ECadGFPki-hetero_30pre29_bin140x_movN10/3DResults/%s_40x_bin1_05_5min_1_w2CSU-488_s15_t232.tif\n"
     ]
    },
    {
     "name": "stderr",
     "output_type": "stream",
     "text": [
      "100%|██████████| 64/64 [03:22<00:00,  2.65s/it]  \n"
     ]
    },
    {
     "name": "stdout",
     "output_type": "stream",
     "text": [
      "Saving file/data/u934/service_imagerie/v_kapoor/Fl4-2-Var/STELLA/priority/wt_ECadGFPki-hetero_30pre29_bin140x_movN10/3DResults/%s_40x_bin1_05_5min_1_w2CSU-488_s15_t69.tif\n"
     ]
    },
    {
     "name": "stderr",
     "output_type": "stream",
     "text": [
      "100%|██████████| 64/64 [03:22<00:00,  2.62s/it]  \n"
     ]
    },
    {
     "name": "stdout",
     "output_type": "stream",
     "text": [
      "Saving file/data/u934/service_imagerie/v_kapoor/Fl4-2-Var/STELLA/priority/wt_ECadGFPki-hetero_30pre29_bin140x_movN10/3DResults/%s_40x_bin1_05_5min_1_w2CSU-488_s15_t125.tif\n"
     ]
    },
    {
     "name": "stderr",
     "output_type": "stream",
     "text": [
      "100%|██████████| 64/64 [03:23<00:00,  2.67s/it]  \n"
     ]
    },
    {
     "name": "stdout",
     "output_type": "stream",
     "text": [
      "Saving file/data/u934/service_imagerie/v_kapoor/Fl4-2-Var/STELLA/priority/wt_ECadGFPki-hetero_30pre29_bin140x_movN10/3DResults/%s_40x_bin1_05_5min_1_w2CSU-488_s14_t156.tif\n"
     ]
    },
    {
     "name": "stderr",
     "output_type": "stream",
     "text": [
      "100%|██████████| 64/64 [03:21<00:00,  2.62s/it]  \n"
     ]
    },
    {
     "name": "stdout",
     "output_type": "stream",
     "text": [
      "Saving file/data/u934/service_imagerie/v_kapoor/Fl4-2-Var/STELLA/priority/wt_ECadGFPki-hetero_30pre29_bin140x_movN10/3DResults/%s_40x_bin1_05_5min_1_w2CSU-488_s17_t91.tif\n"
     ]
    },
    {
     "name": "stderr",
     "output_type": "stream",
     "text": [
      "100%|██████████| 64/64 [03:23<00:00,  2.68s/it]  \n"
     ]
    },
    {
     "name": "stdout",
     "output_type": "stream",
     "text": [
      "Saving file/data/u934/service_imagerie/v_kapoor/Fl4-2-Var/STELLA/priority/wt_ECadGFPki-hetero_30pre29_bin140x_movN10/3DResults/%s_40x_bin1_05_5min_1_w2CSU-488_s17_t40.tif\n"
     ]
    },
    {
     "name": "stderr",
     "output_type": "stream",
     "text": [
      "100%|██████████| 64/64 [03:22<00:00,  2.62s/it]  \n"
     ]
    },
    {
     "name": "stdout",
     "output_type": "stream",
     "text": [
      "Saving file/data/u934/service_imagerie/v_kapoor/Fl4-2-Var/STELLA/priority/wt_ECadGFPki-hetero_30pre29_bin140x_movN10/3DResults/%s_40x_bin1_05_5min_1_w2CSU-488_s14_t241.tif\n"
     ]
    },
    {
     "name": "stderr",
     "output_type": "stream",
     "text": [
      "100%|██████████| 64/64 [03:24<00:00,  2.68s/it]  \n"
     ]
    },
    {
     "name": "stdout",
     "output_type": "stream",
     "text": [
      "Saving file/data/u934/service_imagerie/v_kapoor/Fl4-2-Var/STELLA/priority/wt_ECadGFPki-hetero_30pre29_bin140x_movN10/3DResults/%s_40x_bin1_05_5min_1_w2CSU-488_s14_t187.tif\n"
     ]
    },
    {
     "name": "stderr",
     "output_type": "stream",
     "text": [
      "100%|██████████| 64/64 [03:22<00:00,  2.63s/it]  \n"
     ]
    },
    {
     "name": "stdout",
     "output_type": "stream",
     "text": [
      "Saving file/data/u934/service_imagerie/v_kapoor/Fl4-2-Var/STELLA/priority/wt_ECadGFPki-hetero_30pre29_bin140x_movN10/3DResults/%s_40x_bin1_05_5min_1_w2CSU-488_s15_t188.tif\n"
     ]
    },
    {
     "name": "stderr",
     "output_type": "stream",
     "text": [
      "100%|██████████| 64/64 [03:24<00:00,  2.68s/it]  \n"
     ]
    },
    {
     "name": "stdout",
     "output_type": "stream",
     "text": [
      "Saving file/data/u934/service_imagerie/v_kapoor/Fl4-2-Var/STELLA/priority/wt_ECadGFPki-hetero_30pre29_bin140x_movN10/3DResults/%s_40x_bin1_05_5min_1_w2CSU-488_s16_t161.tif\n"
     ]
    },
    {
     "name": "stderr",
     "output_type": "stream",
     "text": [
      "100%|██████████| 64/64 [03:22<00:00,  2.63s/it]  \n"
     ]
    },
    {
     "name": "stdout",
     "output_type": "stream",
     "text": [
      "Saving file/data/u934/service_imagerie/v_kapoor/Fl4-2-Var/STELLA/priority/wt_ECadGFPki-hetero_30pre29_bin140x_movN10/3DResults/%s_40x_bin1_05_5min_1_w2CSU-488_s15_t15.tif\n"
     ]
    },
    {
     "name": "stderr",
     "output_type": "stream",
     "text": [
      "100%|██████████| 64/64 [03:24<00:00,  2.67s/it]  \n"
     ]
    },
    {
     "name": "stdout",
     "output_type": "stream",
     "text": [
      "Saving file/data/u934/service_imagerie/v_kapoor/Fl4-2-Var/STELLA/priority/wt_ECadGFPki-hetero_30pre29_bin140x_movN10/3DResults/%s_40x_bin1_05_5min_1_w2CSU-488_s16_t57.tif\n"
     ]
    },
    {
     "name": "stderr",
     "output_type": "stream",
     "text": [
      "100%|██████████| 64/64 [03:22<00:00,  2.63s/it]  \n"
     ]
    },
    {
     "name": "stdout",
     "output_type": "stream",
     "text": [
      "Saving file/data/u934/service_imagerie/v_kapoor/Fl4-2-Var/STELLA/priority/wt_ECadGFPki-hetero_30pre29_bin140x_movN10/3DResults/%s_40x_bin1_05_5min_1_w2CSU-488_s16_t86.tif\n"
     ]
    },
    {
     "name": "stderr",
     "output_type": "stream",
     "text": [
      "100%|██████████| 64/64 [03:24<00:00,  2.67s/it]  \n"
     ]
    },
    {
     "name": "stdout",
     "output_type": "stream",
     "text": [
      "Saving file/data/u934/service_imagerie/v_kapoor/Fl4-2-Var/STELLA/priority/wt_ECadGFPki-hetero_30pre29_bin140x_movN10/3DResults/%s_40x_bin1_05_5min_1_w2CSU-488_s14_t5.tif\n"
     ]
    },
    {
     "name": "stderr",
     "output_type": "stream",
     "text": [
      "100%|██████████| 64/64 [03:23<00:00,  2.65s/it]  \n"
     ]
    },
    {
     "name": "stdout",
     "output_type": "stream",
     "text": [
      "Saving file/data/u934/service_imagerie/v_kapoor/Fl4-2-Var/STELLA/priority/wt_ECadGFPki-hetero_30pre29_bin140x_movN10/3DResults/%s_40x_bin1_05_5min_1_w2CSU-488_s15_t159.tif\n"
     ]
    },
    {
     "name": "stderr",
     "output_type": "stream",
     "text": [
      "100%|██████████| 64/64 [03:24<00:00,  2.66s/it]  \n"
     ]
    },
    {
     "name": "stdout",
     "output_type": "stream",
     "text": [
      "Saving file/data/u934/service_imagerie/v_kapoor/Fl4-2-Var/STELLA/priority/wt_ECadGFPki-hetero_30pre29_bin140x_movN10/3DResults/%s_40x_bin1_05_5min_1_w2CSU-488_s17_t205.tif\n"
     ]
    },
    {
     "name": "stderr",
     "output_type": "stream",
     "text": [
      "100%|██████████| 64/64 [03:22<00:00,  2.63s/it]  \n"
     ]
    },
    {
     "name": "stdout",
     "output_type": "stream",
     "text": [
      "Saving file/data/u934/service_imagerie/v_kapoor/Fl4-2-Var/STELLA/priority/wt_ECadGFPki-hetero_30pre29_bin140x_movN10/3DResults/%s_40x_bin1_05_5min_1_w2CSU-488_s17_t112.tif\n"
     ]
    },
    {
     "name": "stderr",
     "output_type": "stream",
     "text": [
      "100%|██████████| 64/64 [03:23<00:00,  2.66s/it]  \n"
     ]
    },
    {
     "name": "stdout",
     "output_type": "stream",
     "text": [
      "Saving file/data/u934/service_imagerie/v_kapoor/Fl4-2-Var/STELLA/priority/wt_ECadGFPki-hetero_30pre29_bin140x_movN10/3DResults/%s_40x_bin1_05_5min_1_w2CSU-488_s15_t110.tif\n"
     ]
    },
    {
     "name": "stderr",
     "output_type": "stream",
     "text": [
      "100%|██████████| 64/64 [03:21<00:00,  2.63s/it]  \n"
     ]
    },
    {
     "name": "stdout",
     "output_type": "stream",
     "text": [
      "Saving file/data/u934/service_imagerie/v_kapoor/Fl4-2-Var/STELLA/priority/wt_ECadGFPki-hetero_30pre29_bin140x_movN10/3DResults/%s_40x_bin1_05_5min_1_w2CSU-488_s16_t128.tif\n"
     ]
    },
    {
     "name": "stderr",
     "output_type": "stream",
     "text": [
      "100%|██████████| 64/64 [03:25<00:00,  2.70s/it]  \n"
     ]
    },
    {
     "name": "stdout",
     "output_type": "stream",
     "text": [
      "Saving file/data/u934/service_imagerie/v_kapoor/Fl4-2-Var/STELLA/priority/wt_ECadGFPki-hetero_30pre29_bin140x_movN10/3DResults/%s_40x_bin1_05_5min_1_w2CSU-488_s15_t207.tif\n"
     ]
    },
    {
     "name": "stderr",
     "output_type": "stream",
     "text": [
      "100%|██████████| 64/64 [03:22<00:00,  2.64s/it]  \n"
     ]
    },
    {
     "name": "stdout",
     "output_type": "stream",
     "text": [
      "Saving file/data/u934/service_imagerie/v_kapoor/Fl4-2-Var/STELLA/priority/wt_ECadGFPki-hetero_30pre29_bin140x_movN10/3DResults/%s_40x_bin1_05_5min_1_w2CSU-488_s17_t75.tif\n"
     ]
    },
    {
     "name": "stderr",
     "output_type": "stream",
     "text": [
      "100%|██████████| 64/64 [03:24<00:00,  2.67s/it]  \n"
     ]
    },
    {
     "name": "stdout",
     "output_type": "stream",
     "text": [
      "Saving file/data/u934/service_imagerie/v_kapoor/Fl4-2-Var/STELLA/priority/wt_ECadGFPki-hetero_30pre29_bin140x_movN10/3DResults/%s_40x_bin1_05_5min_1_w2CSU-488_s14_t37.tif\n"
     ]
    },
    {
     "name": "stderr",
     "output_type": "stream",
     "text": [
      "100%|██████████| 64/64 [03:21<00:00,  2.63s/it]  \n"
     ]
    },
    {
     "name": "stdout",
     "output_type": "stream",
     "text": [
      "Saving file/data/u934/service_imagerie/v_kapoor/Fl4-2-Var/STELLA/priority/wt_ECadGFPki-hetero_30pre29_bin140x_movN10/3DResults/%s_40x_bin1_05_5min_1_w2CSU-488_s17_t1.tif\n"
     ]
    },
    {
     "name": "stderr",
     "output_type": "stream",
     "text": [
      "100%|██████████| 64/64 [03:23<00:00,  2.68s/it]  \n"
     ]
    },
    {
     "name": "stdout",
     "output_type": "stream",
     "text": [
      "Saving file/data/u934/service_imagerie/v_kapoor/Fl4-2-Var/STELLA/priority/wt_ECadGFPki-hetero_30pre29_bin140x_movN10/3DResults/%s_40x_bin1_05_5min_1_w2CSU-488_s14_t163.tif\n"
     ]
    },
    {
     "name": "stderr",
     "output_type": "stream",
     "text": [
      "100%|██████████| 64/64 [03:21<00:00,  2.63s/it]  \n"
     ]
    },
    {
     "name": "stdout",
     "output_type": "stream",
     "text": [
      "Saving file/data/u934/service_imagerie/v_kapoor/Fl4-2-Var/STELLA/priority/wt_ECadGFPki-hetero_30pre29_bin140x_movN10/3DResults/%s_40x_bin1_05_5min_1_w2CSU-488_s16_t243.tif\n"
     ]
    },
    {
     "name": "stderr",
     "output_type": "stream",
     "text": [
      "100%|██████████| 64/64 [03:24<00:00,  2.68s/it]  \n"
     ]
    },
    {
     "name": "stdout",
     "output_type": "stream",
     "text": [
      "Saving file/data/u934/service_imagerie/v_kapoor/Fl4-2-Var/STELLA/priority/wt_ECadGFPki-hetero_30pre29_bin140x_movN10/3DResults/%s_40x_bin1_05_5min_1_w2CSU-488_s16_t185.tif\n"
     ]
    },
    {
     "name": "stderr",
     "output_type": "stream",
     "text": [
      "100%|██████████| 64/64 [03:23<00:00,  2.64s/it]  \n"
     ]
    },
    {
     "name": "stdout",
     "output_type": "stream",
     "text": [
      "Saving file/data/u934/service_imagerie/v_kapoor/Fl4-2-Var/STELLA/priority/wt_ECadGFPki-hetero_30pre29_bin140x_movN10/3DResults/%s_40x_bin1_05_5min_1_w2CSU-488_s15_t20.tif\n"
     ]
    },
    {
     "name": "stderr",
     "output_type": "stream",
     "text": [
      "100%|██████████| 64/64 [03:25<00:00,  2.68s/it]  \n"
     ]
    },
    {
     "name": "stdout",
     "output_type": "stream",
     "text": [
      "Saving file/data/u934/service_imagerie/v_kapoor/Fl4-2-Var/STELLA/priority/wt_ECadGFPki-hetero_30pre29_bin140x_movN10/3DResults/%s_40x_bin1_05_5min_1_w2CSU-488_s16_t154.tif\n"
     ]
    },
    {
     "name": "stderr",
     "output_type": "stream",
     "text": [
      "100%|██████████| 64/64 [03:22<00:00,  2.63s/it]  \n"
     ]
    },
    {
     "name": "stdout",
     "output_type": "stream",
     "text": [
      "Saving file/data/u934/service_imagerie/v_kapoor/Fl4-2-Var/STELLA/priority/wt_ECadGFPki-hetero_30pre29_bin140x_movN10/3DResults/%s_40x_bin1_05_5min_1_w2CSU-488_s16_t62.tif\n"
     ]
    },
    {
     "name": "stderr",
     "output_type": "stream",
     "text": [
      "100%|██████████| 64/64 [03:23<00:00,  2.64s/it]  \n"
     ]
    },
    {
     "name": "stdout",
     "output_type": "stream",
     "text": [
      "Saving file/data/u934/service_imagerie/v_kapoor/Fl4-2-Var/STELLA/priority/wt_ECadGFPki-hetero_30pre29_bin140x_movN10/3DResults/%s_40x_bin1_05_5min_1_w2CSU-488_s14_t208.tif\n"
     ]
    },
    {
     "name": "stderr",
     "output_type": "stream",
     "text": [
      "100%|██████████| 64/64 [03:22<00:00,  2.66s/it]  \n"
     ]
    },
    {
     "name": "stdout",
     "output_type": "stream",
     "text": [
      "Saving file/data/u934/service_imagerie/v_kapoor/Fl4-2-Var/STELLA/priority/wt_ECadGFPki-hetero_30pre29_bin140x_movN10/3DResults/%s_40x_bin1_05_5min_1_w2CSU-488_s17_t127.tif\n"
     ]
    },
    {
     "name": "stderr",
     "output_type": "stream",
     "text": [
      "100%|██████████| 64/64 [03:23<00:00,  2.65s/it]  \n"
     ]
    },
    {
     "name": "stdout",
     "output_type": "stream",
     "text": [
      "Saving file/data/u934/service_imagerie/v_kapoor/Fl4-2-Var/STELLA/priority/wt_ECadGFPki-hetero_30pre29_bin140x_movN10/3DResults/%s_40x_bin1_05_5min_1_w2CSU-488_s17_t230.tif\n"
     ]
    },
    {
     "name": "stderr",
     "output_type": "stream",
     "text": [
      "100%|██████████| 64/64 [03:21<00:00,  2.67s/it]  \n"
     ]
    },
    {
     "name": "stdout",
     "output_type": "stream",
     "text": [
      "Saving file/data/u934/service_imagerie/v_kapoor/Fl4-2-Var/STELLA/priority/wt_ECadGFPki-hetero_30pre29_bin140x_movN10/3DResults/%s_40x_bin1_05_5min_1_w2CSU-488_s16_t244.tif\n"
     ]
    },
    {
     "name": "stderr",
     "output_type": "stream",
     "text": [
      "100%|██████████| 64/64 [03:24<00:00,  2.67s/it]  \n"
     ]
    },
    {
     "name": "stdout",
     "output_type": "stream",
     "text": [
      "Saving file/data/u934/service_imagerie/v_kapoor/Fl4-2-Var/STELLA/priority/wt_ECadGFPki-hetero_30pre29_bin140x_movN10/3DResults/%s_40x_bin1_05_5min_1_w2CSU-488_s16_t182.tif\n"
     ]
    },
    {
     "name": "stderr",
     "output_type": "stream",
     "text": [
      "100%|██████████| 64/64 [03:22<00:00,  2.66s/it]  \n"
     ]
    },
    {
     "name": "stdout",
     "output_type": "stream",
     "text": [
      "Saving file/data/u934/service_imagerie/v_kapoor/Fl4-2-Var/STELLA/priority/wt_ECadGFPki-hetero_30pre29_bin140x_movN10/3DResults/%s_40x_bin1_05_5min_1_w2CSU-488_s15_t27.tif\n"
     ]
    },
    {
     "name": "stderr",
     "output_type": "stream",
     "text": [
      "100%|██████████| 64/64 [03:24<00:00,  2.67s/it]  \n"
     ]
    },
    {
     "name": "stdout",
     "output_type": "stream",
     "text": [
      "Saving file/data/u934/service_imagerie/v_kapoor/Fl4-2-Var/STELLA/priority/wt_ECadGFPki-hetero_30pre29_bin140x_movN10/3DResults/%s_40x_bin1_05_5min_1_w2CSU-488_s16_t153.tif\n"
     ]
    },
    {
     "name": "stderr",
     "output_type": "stream",
     "text": [
      "100%|██████████| 64/64 [03:22<00:00,  2.65s/it]  \n"
     ]
    },
    {
     "name": "stdout",
     "output_type": "stream",
     "text": [
      "Saving file/data/u934/service_imagerie/v_kapoor/Fl4-2-Var/STELLA/priority/wt_ECadGFPki-hetero_30pre29_bin140x_movN10/3DResults/%s_40x_bin1_05_5min_1_w2CSU-488_s16_t65.tif\n"
     ]
    },
    {
     "name": "stderr",
     "output_type": "stream",
     "text": [
      "100%|██████████| 64/64 [03:24<00:00,  2.66s/it]  \n"
     ]
    },
    {
     "name": "stdout",
     "output_type": "stream",
     "text": [
      "Saving file/data/u934/service_imagerie/v_kapoor/Fl4-2-Var/STELLA/priority/wt_ECadGFPki-hetero_30pre29_bin140x_movN10/3DResults/%s_40x_bin1_05_5min_1_w2CSU-488_s17_t120.tif\n"
     ]
    },
    {
     "name": "stderr",
     "output_type": "stream",
     "text": [
      "100%|██████████| 64/64 [03:21<00:00,  2.63s/it]  \n"
     ]
    },
    {
     "name": "stdout",
     "output_type": "stream",
     "text": [
      "Saving file/data/u934/service_imagerie/v_kapoor/Fl4-2-Var/STELLA/priority/wt_ECadGFPki-hetero_30pre29_bin140x_movN10/3DResults/%s_40x_bin1_05_5min_1_w2CSU-488_s14_t118.tif\n"
     ]
    },
    {
     "name": "stderr",
     "output_type": "stream",
     "text": [
      "100%|██████████| 64/64 [03:24<00:00,  2.69s/it]  \n"
     ]
    },
    {
     "name": "stdout",
     "output_type": "stream",
     "text": [
      "Saving file/data/u934/service_imagerie/v_kapoor/Fl4-2-Var/STELLA/priority/wt_ECadGFPki-hetero_30pre29_bin140x_movN10/3DResults/%s_40x_bin1_05_5min_1_w2CSU-488_s17_t237.tif\n"
     ]
    },
    {
     "name": "stderr",
     "output_type": "stream",
     "text": [
      "100%|██████████| 64/64 [03:23<00:00,  2.65s/it]  \n"
     ]
    },
    {
     "name": "stdout",
     "output_type": "stream",
     "text": [
      "Saving file/data/u934/service_imagerie/v_kapoor/Fl4-2-Var/STELLA/priority/wt_ECadGFPki-hetero_30pre29_bin140x_movN10/3DResults/%s_40x_bin1_05_5min_1_w2CSU-488_s16_t238.tif\n"
     ]
    },
    {
     "name": "stderr",
     "output_type": "stream",
     "text": [
      "100%|██████████| 64/64 [03:24<00:00,  2.65s/it]  \n"
     ]
    },
    {
     "name": "stdout",
     "output_type": "stream",
     "text": [
      "Saving file/data/u934/service_imagerie/v_kapoor/Fl4-2-Var/STELLA/priority/wt_ECadGFPki-hetero_30pre29_bin140x_movN10/3DResults/%s_40x_bin1_05_5min_1_w2CSU-488_s15_t117.tif\n"
     ]
    },
    {
     "name": "stderr",
     "output_type": "stream",
     "text": [
      "100%|██████████| 64/64 [03:21<00:00,  2.63s/it]  \n"
     ]
    },
    {
     "name": "stdout",
     "output_type": "stream",
     "text": [
      "Saving file/data/u934/service_imagerie/v_kapoor/Fl4-2-Var/STELLA/priority/wt_ECadGFPki-hetero_30pre29_bin140x_movN10/3DResults/%s_40x_bin1_05_5min_1_w2CSU-488_s16_t19.tif\n"
     ]
    },
    {
     "name": "stderr",
     "output_type": "stream",
     "text": [
      "100%|██████████| 64/64 [03:25<00:00,  2.69s/it]  \n"
     ]
    },
    {
     "name": "stdout",
     "output_type": "stream",
     "text": [
      "Saving file/data/u934/service_imagerie/v_kapoor/Fl4-2-Var/STELLA/priority/wt_ECadGFPki-hetero_30pre29_bin140x_movN10/3DResults/%s_40x_bin1_05_5min_1_w2CSU-488_s15_t200.tif\n"
     ]
    },
    {
     "name": "stderr",
     "output_type": "stream",
     "text": [
      "100%|██████████| 64/64 [03:22<00:00,  2.63s/it]  \n"
     ]
    },
    {
     "name": "stdout",
     "output_type": "stream",
     "text": [
      "Saving file/data/u934/service_imagerie/v_kapoor/Fl4-2-Var/STELLA/priority/wt_ECadGFPki-hetero_30pre29_bin140x_movN10/3DResults/%s_40x_bin1_05_5min_1_w2CSU-488_s17_t72.tif\n"
     ]
    },
    {
     "name": "stderr",
     "output_type": "stream",
     "text": [
      "100%|██████████| 64/64 [03:24<00:00,  2.66s/it]  \n"
     ]
    },
    {
     "name": "stdout",
     "output_type": "stream",
     "text": [
      "Saving file/data/u934/service_imagerie/v_kapoor/Fl4-2-Var/STELLA/priority/wt_ECadGFPki-hetero_30pre29_bin140x_movN10/3DResults/%s_40x_bin1_05_5min_1_w2CSU-488_s14_t30.tif\n"
     ]
    },
    {
     "name": "stderr",
     "output_type": "stream",
     "text": [
      "100%|██████████| 64/64 [03:22<00:00,  2.65s/it]  \n"
     ]
    },
    {
     "name": "stdout",
     "output_type": "stream",
     "text": [
      "Saving file/data/u934/service_imagerie/v_kapoor/Fl4-2-Var/STELLA/priority/wt_ECadGFPki-hetero_30pre29_bin140x_movN10/3DResults/%s_40x_bin1_05_5min_1_w2CSU-488_s17_t6.tif\n"
     ]
    },
    {
     "name": "stderr",
     "output_type": "stream",
     "text": [
      "100%|██████████| 64/64 [03:24<00:00,  2.67s/it]  \n"
     ]
    },
    {
     "name": "stdout",
     "output_type": "stream",
     "text": [
      "Saving file/data/u934/service_imagerie/v_kapoor/Fl4-2-Var/STELLA/priority/wt_ECadGFPki-hetero_30pre29_bin140x_movN10/3DResults/%s_40x_bin1_05_5min_1_w2CSU-488_s14_t164.tif\n"
     ]
    },
    {
     "name": "stderr",
     "output_type": "stream",
     "text": [
      "100%|██████████| 64/64 [03:23<00:00,  2.63s/it]  \n"
     ]
    },
    {
     "name": "stdout",
     "output_type": "stream",
     "text": [
      "Saving file/data/u934/service_imagerie/v_kapoor/Fl4-2-Var/STELLA/priority/wt_ECadGFPki-hetero_30pre29_bin140x_movN10/3DResults/%s_40x_bin1_05_5min_1_w2CSU-488_s15_t165.tif\n"
     ]
    },
    {
     "name": "stderr",
     "output_type": "stream",
     "text": [
      "100%|██████████| 64/64 [03:23<00:00,  2.65s/it]  \n"
     ]
    },
    {
     "name": "stdout",
     "output_type": "stream",
     "text": [
      "Saving file/data/u934/service_imagerie/v_kapoor/Fl4-2-Var/STELLA/priority/wt_ECadGFPki-hetero_30pre29_bin140x_movN10/3DResults/%s_40x_bin1_05_5min_1_w2CSU-488_s15_t29.tif\n"
     ]
    },
    {
     "name": "stderr",
     "output_type": "stream",
     "text": [
      "100%|██████████| 64/64 [03:22<00:00,  2.63s/it]  \n"
     ]
    },
    {
     "name": "stdout",
     "output_type": "stream",
     "text": [
      "Saving file/data/u934/service_imagerie/v_kapoor/Fl4-2-Var/STELLA/priority/wt_ECadGFPki-hetero_30pre29_bin140x_movN10/3DResults/%s_40x_bin1_05_5min_1_w2CSU-488_s14_t42.tif\n"
     ]
    },
    {
     "name": "stderr",
     "output_type": "stream",
     "text": [
      "100%|██████████| 64/64 [03:23<00:00,  2.67s/it]  \n"
     ]
    },
    {
     "name": "stdout",
     "output_type": "stream",
     "text": [
      "Saving file/data/u934/service_imagerie/v_kapoor/Fl4-2-Var/STELLA/priority/wt_ECadGFPki-hetero_30pre29_bin140x_movN10/3DResults/%s_40x_bin1_05_5min_1_w2CSU-488_s14_t201.tif\n"
     ]
    },
    {
     "name": "stderr",
     "output_type": "stream",
     "text": [
      "100%|██████████| 64/64 [03:21<00:00,  2.62s/it]  \n"
     ]
    },
    {
     "name": "stdout",
     "output_type": "stream",
     "text": [
      "Saving file/data/u934/service_imagerie/v_kapoor/Fl4-2-Var/STELLA/priority/wt_ECadGFPki-hetero_30pre29_bin140x_movN10/3DResults/%s_40x_bin1_05_5min_1_w2CSU-488_s14_t93.tif\n"
     ]
    },
    {
     "name": "stderr",
     "output_type": "stream",
     "text": [
      "100%|██████████| 64/64 [03:23<00:00,  2.68s/it]  \n"
     ]
    },
    {
     "name": "stdout",
     "output_type": "stream",
     "text": [
      "Saving file/data/u934/service_imagerie/v_kapoor/Fl4-2-Var/STELLA/priority/wt_ECadGFPki-hetero_30pre29_bin140x_movN10/3DResults/%s_40x_bin1_05_5min_1_w2CSU-488_s14_t116.tif\n"
     ]
    },
    {
     "name": "stderr",
     "output_type": "stream",
     "text": [
      "100%|██████████| 64/64 [03:22<00:00,  2.65s/it]  \n"
     ]
    },
    {
     "name": "stdout",
     "output_type": "stream",
     "text": [
      "Saving file/data/u934/service_imagerie/v_kapoor/Fl4-2-Var/STELLA/priority/wt_ECadGFPki-hetero_30pre29_bin140x_movN10/3DResults/%s_40x_bin1_05_5min_1_w2CSU-488_s17_t239.tif\n"
     ]
    },
    {
     "name": "stderr",
     "output_type": "stream",
     "text": [
      "100%|██████████| 64/64 [03:24<00:00,  2.66s/it]  \n"
     ]
    },
    {
     "name": "stdout",
     "output_type": "stream",
     "text": [
      "Saving file/data/u934/service_imagerie/v_kapoor/Fl4-2-Var/STELLA/priority/wt_ECadGFPki-hetero_30pre29_bin140x_movN10/3DResults/%s_40x_bin1_05_5min_1_w2CSU-488_s16_t236.tif\n"
     ]
    },
    {
     "name": "stderr",
     "output_type": "stream",
     "text": [
      "100%|██████████| 64/64 [03:23<00:00,  2.67s/it]  \n"
     ]
    },
    {
     "name": "stdout",
     "output_type": "stream",
     "text": [
      "Saving file/data/u934/service_imagerie/v_kapoor/Fl4-2-Var/STELLA/priority/wt_ECadGFPki-hetero_30pre29_bin140x_movN10/3DResults/%s_40x_bin1_05_5min_1_w2CSU-488_s15_t119.tif\n"
     ]
    },
    {
     "name": "stderr",
     "output_type": "stream",
     "text": [
      "100%|██████████| 64/64 [03:24<00:00,  2.67s/it]  \n"
     ]
    },
    {
     "name": "stdout",
     "output_type": "stream",
     "text": [
      "Saving file/data/u934/service_imagerie/v_kapoor/Fl4-2-Var/STELLA/priority/wt_ECadGFPki-hetero_30pre29_bin140x_movN10/3DResults/%s_40x_bin1_05_5min_1_w2CSU-488_s15_t84.tif\n"
     ]
    },
    {
     "name": "stderr",
     "output_type": "stream",
     "text": [
      "100%|██████████| 64/64 [03:23<00:00,  2.65s/it]  \n"
     ]
    },
    {
     "name": "stdout",
     "output_type": "stream",
     "text": [
      "Saving file/data/u934/service_imagerie/v_kapoor/Fl4-2-Var/STELLA/priority/wt_ECadGFPki-hetero_30pre29_bin140x_movN10/3DResults/%s_40x_bin1_05_5min_1_w2CSU-488_s16_t121.tif\n"
     ]
    },
    {
     "name": "stderr",
     "output_type": "stream",
     "text": [
      "100%|██████████| 64/64 [03:25<00:00,  2.72s/it]  \n"
     ]
    },
    {
     "name": "stdout",
     "output_type": "stream",
     "text": [
      "Saving file/data/u934/service_imagerie/v_kapoor/Fl4-2-Var/STELLA/priority/wt_ECadGFPki-hetero_30pre29_bin140x_movN10/3DResults/%s_40x_bin1_05_5min_1_w2CSU-488_s15_t55.tif\n"
     ]
    },
    {
     "name": "stderr",
     "output_type": "stream",
     "text": [
      "100%|██████████| 64/64 [03:23<00:00,  2.65s/it]  \n"
     ]
    },
    {
     "name": "stdout",
     "output_type": "stream",
     "text": [
      "Saving file/data/u934/service_imagerie/v_kapoor/Fl4-2-Var/STELLA/priority/wt_ECadGFPki-hetero_30pre29_bin140x_movN10/3DResults/%s_40x_bin1_05_5min_1_w2CSU-488_s16_t17.tif\n"
     ]
    },
    {
     "name": "stderr",
     "output_type": "stream",
     "text": [
      "100%|██████████| 64/64 [03:24<00:00,  2.67s/it]  \n"
     ]
    },
    {
     "name": "stdout",
     "output_type": "stream",
     "text": [
      "Saving file/data/u934/service_imagerie/v_kapoor/Fl4-2-Var/STELLA/priority/wt_ECadGFPki-hetero_30pre29_bin140x_movN10/3DResults/%s_40x_bin1_05_5min_1_w2CSU-488_s17_t152.tif\n"
     ]
    },
    {
     "name": "stderr",
     "output_type": "stream",
     "text": [
      "100%|██████████| 64/64 [03:22<00:00,  2.63s/it]  \n"
     ]
    },
    {
     "name": "stdout",
     "output_type": "stream",
     "text": [
      "Saving file/data/u934/service_imagerie/v_kapoor/Fl4-2-Var/STELLA/priority/wt_ECadGFPki-hetero_30pre29_bin140x_movN10/3DResults/%s_40x_bin1_05_5min_1_w2CSU-488_s17_t8.tif\n"
     ]
    },
    {
     "name": "stderr",
     "output_type": "stream",
     "text": [
      "100%|██████████| 64/64 [03:25<00:00,  2.68s/it]  \n"
     ]
    },
    {
     "name": "stdout",
     "output_type": "stream",
     "text": [
      "Saving file/data/u934/service_imagerie/v_kapoor/Fl4-2-Var/STELLA/priority/wt_ECadGFPki-hetero_30pre29_bin140x_movN10/3DResults/%s_40x_bin1_05_5min_1_w2CSU-488_s17_t183.tif\n"
     ]
    },
    {
     "name": "stderr",
     "output_type": "stream",
     "text": [
      "100%|██████████| 64/64 [03:22<00:00,  2.63s/it]  \n"
     ]
    },
    {
     "name": "stdout",
     "output_type": "stream",
     "text": [
      "Saving file/data/u934/service_imagerie/v_kapoor/Fl4-2-Var/STELLA/priority/wt_ECadGFPki-hetero_30pre29_bin140x_movN10/3DResults/%s_40x_bin1_05_5min_1_w2CSU-488_s17_t245.tif\n"
     ]
    },
    {
     "name": "stderr",
     "output_type": "stream",
     "text": [
      "100%|██████████| 64/64 [03:23<00:00,  2.66s/it]  \n"
     ]
    },
    {
     "name": "stdout",
     "output_type": "stream",
     "text": [
      "Saving file/data/u934/service_imagerie/v_kapoor/Fl4-2-Var/STELLA/priority/wt_ECadGFPki-hetero_30pre29_bin140x_movN10/3DResults/%s_40x_bin1_05_5min_1_w2CSU-488_s16_t231.tif\n"
     ]
    },
    {
     "name": "stderr",
     "output_type": "stream",
     "text": [
      "100%|██████████| 64/64 [03:22<00:00,  2.66s/it]  \n"
     ]
    },
    {
     "name": "stdout",
     "output_type": "stream",
     "text": [
      "Saving file/data/u934/service_imagerie/v_kapoor/Fl4-2-Var/STELLA/priority/wt_ECadGFPki-hetero_30pre29_bin140x_movN10/3DResults/%s_40x_bin1_05_5min_1_w2CSU-488_s15_t83.tif\n"
     ]
    },
    {
     "name": "stderr",
     "output_type": "stream",
     "text": [
      "100%|██████████| 64/64 [03:23<00:00,  2.65s/it]  \n"
     ]
    },
    {
     "name": "stdout",
     "output_type": "stream",
     "text": [
      "Saving file/data/u934/service_imagerie/v_kapoor/Fl4-2-Var/STELLA/priority/wt_ECadGFPki-hetero_30pre29_bin140x_movN10/3DResults/%s_40x_bin1_05_5min_1_w2CSU-488_s16_t126.tif\n"
     ]
    },
    {
     "name": "stderr",
     "output_type": "stream",
     "text": [
      "100%|██████████| 64/64 [03:21<00:00,  2.63s/it]  \n"
     ]
    },
    {
     "name": "stdout",
     "output_type": "stream",
     "text": [
      "Saving file/data/u934/service_imagerie/v_kapoor/Fl4-2-Var/STELLA/priority/wt_ECadGFPki-hetero_30pre29_bin140x_movN10/3DResults/%s_40x_bin1_05_5min_1_w2CSU-488_s15_t52.tif\n"
     ]
    },
    {
     "name": "stderr",
     "output_type": "stream",
     "text": [
      "100%|██████████| 64/64 [03:24<00:00,  2.67s/it]  \n"
     ]
    },
    {
     "name": "stdout",
     "output_type": "stream",
     "text": [
      "Saving file/data/u934/service_imagerie/v_kapoor/Fl4-2-Var/STELLA/priority/wt_ECadGFPki-hetero_30pre29_bin140x_movN10/3DResults/%s_40x_bin1_05_5min_1_w2CSU-488_s15_t209.tif\n"
     ]
    },
    {
     "name": "stderr",
     "output_type": "stream",
     "text": [
      "100%|██████████| 64/64 [03:22<00:00,  2.63s/it]  \n"
     ]
    },
    {
     "name": "stdout",
     "output_type": "stream",
     "text": [
      "Saving file/data/u934/service_imagerie/v_kapoor/Fl4-2-Var/STELLA/priority/wt_ECadGFPki-hetero_30pre29_bin140x_movN10/3DResults/%s_40x_bin1_05_5min_1_w2CSU-488_s16_t10.tif\n"
     ]
    },
    {
     "name": "stderr",
     "output_type": "stream",
     "text": [
      "100%|██████████| 64/64 [03:23<00:00,  2.66s/it]  \n"
     ]
    },
    {
     "name": "stdout",
     "output_type": "stream",
     "text": [
      "Saving file/data/u934/service_imagerie/v_kapoor/Fl4-2-Var/STELLA/priority/wt_ECadGFPki-hetero_30pre29_bin140x_movN10/3DResults/%s_40x_bin1_05_5min_1_w2CSU-488_s17_t155.tif\n"
     ]
    },
    {
     "name": "stderr",
     "output_type": "stream",
     "text": [
      "100%|██████████| 64/64 [03:21<00:00,  2.63s/it]  \n"
     ]
    },
    {
     "name": "stdout",
     "output_type": "stream",
     "text": [
      "Saving file/data/u934/service_imagerie/v_kapoor/Fl4-2-Var/STELLA/priority/wt_ECadGFPki-hetero_30pre29_bin140x_movN10/3DResults/%s_40x_bin1_05_5min_1_w2CSU-488_s14_t39.tif\n"
     ]
    },
    {
     "name": "stderr",
     "output_type": "stream",
     "text": [
      "100%|██████████| 64/64 [03:23<00:00,  2.65s/it]  \n"
     ]
    },
    {
     "name": "stdout",
     "output_type": "stream",
     "text": [
      "Saving file/data/u934/service_imagerie/v_kapoor/Fl4-2-Var/STELLA/priority/wt_ECadGFPki-hetero_30pre29_bin140x_movN10/3DResults/%s_40x_bin1_05_5min_1_w2CSU-488_s17_t184.tif\n"
     ]
    },
    {
     "name": "stderr",
     "output_type": "stream",
     "text": [
      "100%|██████████| 64/64 [03:23<00:00,  2.64s/it]  \n"
     ]
    },
    {
     "name": "stdout",
     "output_type": "stream",
     "text": [
      "Saving file/data/u934/service_imagerie/v_kapoor/Fl4-2-Var/STELLA/priority/wt_ECadGFPki-hetero_30pre29_bin140x_movN10/3DResults/%s_40x_bin1_05_5min_1_w2CSU-488_s17_t242.tif\n"
     ]
    },
    {
     "name": "stderr",
     "output_type": "stream",
     "text": [
      "100%|██████████| 64/64 [03:24<00:00,  2.63s/it]  \n"
     ]
    },
    {
     "name": "stdout",
     "output_type": "stream",
     "text": [
      "Saving file/data/u934/service_imagerie/v_kapoor/Fl4-2-Var/STELLA/priority/wt_ECadGFPki-hetero_30pre29_bin140x_movN10/3DResults/%s_40x_bin1_05_5min_1_w2CSU-488_s15_t162.tif\n"
     ]
    },
    {
     "name": "stderr",
     "output_type": "stream",
     "text": [
      "100%|██████████| 64/64 [03:23<00:00,  2.63s/it]  \n"
     ]
    },
    {
     "name": "stdout",
     "output_type": "stream",
     "text": [
      "Saving file/data/u934/service_imagerie/v_kapoor/Fl4-2-Var/STELLA/priority/wt_ECadGFPki-hetero_30pre29_bin140x_movN10/3DResults/%s_40x_bin1_05_5min_1_w2CSU-488_s14_t206.tif\n"
     ]
    },
    {
     "name": "stderr",
     "output_type": "stream",
     "text": [
      "100%|██████████| 64/64 [03:23<00:00,  2.67s/it]  \n"
     ]
    },
    {
     "name": "stdout",
     "output_type": "stream",
     "text": [
      "Saving file/data/u934/service_imagerie/v_kapoor/Fl4-2-Var/STELLA/priority/wt_ECadGFPki-hetero_30pre29_bin140x_movN10/3DResults/%s_40x_bin1_05_5min_1_w2CSU-488_s14_t45.tif\n"
     ]
    },
    {
     "name": "stderr",
     "output_type": "stream",
     "text": [
      "100%|██████████| 64/64 [03:22<00:00,  2.69s/it]  \n"
     ]
    },
    {
     "name": "stdout",
     "output_type": "stream",
     "text": [
      "Saving file/data/u934/service_imagerie/v_kapoor/Fl4-2-Var/STELLA/priority/wt_ECadGFPki-hetero_30pre29_bin140x_movN10/3DResults/%s_40x_bin1_05_5min_1_w2CSU-488_s17_t129.tif\n"
     ]
    },
    {
     "name": "stderr",
     "output_type": "stream",
     "text": [
      "100%|██████████| 64/64 [03:24<00:00,  2.69s/it]  \n"
     ]
    },
    {
     "name": "stdout",
     "output_type": "stream",
     "text": [
      "Saving file/data/u934/service_imagerie/v_kapoor/Fl4-2-Var/STELLA/priority/wt_ECadGFPki-hetero_30pre29_bin140x_movN10/3DResults/%s_40x_bin1_05_5min_1_w2CSU-488_s14_t94.tif\n"
     ]
    },
    {
     "name": "stderr",
     "output_type": "stream",
     "text": [
      "100%|██████████| 64/64 [03:23<00:00,  2.65s/it]  \n"
     ]
    },
    {
     "name": "stdout",
     "output_type": "stream",
     "text": [
      "Saving file/data/u934/service_imagerie/v_kapoor/Fl4-2-Var/STELLA/priority/wt_ECadGFPki-hetero_30pre29_bin140x_movN10/3DResults/%s_40x_bin1_05_5min_1_w2CSU-488_s14_t111.tif\n"
     ]
    },
    {
     "name": "stderr",
     "output_type": "stream",
     "text": [
      "100%|██████████| 64/64 [03:23<00:00,  2.68s/it]  \n"
     ]
    },
    {
     "name": "stdout",
     "output_type": "stream",
     "text": [
      "Saving file/data/u934/service_imagerie/v_kapoor/Fl4-2-Var/STELLA/priority/wt_ECadGFPki-hetero_30pre29_bin140x_movN10/3DResults/%s_40x_bin1_05_5min_1_w2CSU-488_s17_t170.tif\n"
     ]
    },
    {
     "name": "stderr",
     "output_type": "stream",
     "text": [
      "100%|██████████| 64/64 [03:21<00:00,  2.63s/it]  \n"
     ]
    },
    {
     "name": "stdout",
     "output_type": "stream",
     "text": [
      "Saving file/data/u934/service_imagerie/v_kapoor/Fl4-2-Var/STELLA/priority/wt_ECadGFPki-hetero_30pre29_bin140x_movN10/3DResults/%s_40x_bin1_05_5min_1_w2CSU-488_s15_t9.tif\n"
     ]
    },
    {
     "name": "stderr",
     "output_type": "stream",
     "text": [
      "100%|██████████| 64/64 [03:23<00:00,  2.66s/it]  \n"
     ]
    },
    {
     "name": "stdout",
     "output_type": "stream",
     "text": [
      "Saving file/data/u934/service_imagerie/v_kapoor/Fl4-2-Var/STELLA/priority/wt_ECadGFPki-hetero_30pre29_bin140x_movN10/3DResults/%s_40x_bin1_05_5min_1_w2CSU-488_s14_t199.tif\n"
     ]
    },
    {
     "name": "stderr",
     "output_type": "stream",
     "text": [
      "100%|██████████| 64/64 [03:22<00:00,  2.63s/it]  \n"
     ]
    },
    {
     "name": "stdout",
     "output_type": "stream",
     "text": [
      "Saving file/data/u934/service_imagerie/v_kapoor/Fl4-2-Var/STELLA/priority/wt_ECadGFPki-hetero_30pre29_bin140x_movN10/3DResults/%s_40x_bin1_05_5min_1_w2CSU-488_s14_t148.tif\n"
     ]
    },
    {
     "name": "stderr",
     "output_type": "stream",
     "text": [
      "100%|██████████| 64/64 [03:24<00:00,  2.69s/it]  \n"
     ]
    },
    {
     "name": "stdout",
     "output_type": "stream",
     "text": [
      "Saving file/data/u934/service_imagerie/v_kapoor/Fl4-2-Var/STELLA/priority/wt_ECadGFPki-hetero_30pre29_bin140x_movN10/3DResults/%s_40x_bin1_05_5min_1_w2CSU-488_s16_t214.tif\n"
     ]
    },
    {
     "name": "stderr",
     "output_type": "stream",
     "text": [
      "100%|██████████| 64/64 [03:22<00:00,  2.63s/it]  \n"
     ]
    },
    {
     "name": "stdout",
     "output_type": "stream",
     "text": [
      "Saving file/data/u934/service_imagerie/v_kapoor/Fl4-2-Var/STELLA/priority/wt_ECadGFPki-hetero_30pre29_bin140x_movN10/3DResults/%s_40x_bin1_05_5min_1_w2CSU-488_s16_t103.tif\n"
     ]
    },
    {
     "name": "stderr",
     "output_type": "stream",
     "text": [
      "100%|██████████| 64/64 [03:23<00:00,  2.65s/it]  \n"
     ]
    },
    {
     "name": "stdout",
     "output_type": "stream",
     "text": [
      "Saving file/data/u934/service_imagerie/v_kapoor/Fl4-2-Var/STELLA/priority/wt_ECadGFPki-hetero_30pre29_bin140x_movN10/3DResults/%s_40x_bin1_05_5min_1_w2CSU-488_s15_t77.tif\n"
     ]
    },
    {
     "name": "stderr",
     "output_type": "stream",
     "text": [
      "100%|██████████| 64/64 [03:22<00:00,  2.66s/it]  \n"
     ]
    },
    {
     "name": "stdout",
     "output_type": "stream",
     "text": [
      "Saving file/data/u934/service_imagerie/v_kapoor/Fl4-2-Var/STELLA/priority/wt_ECadGFPki-hetero_30pre29_bin140x_movN10/3DResults/%s_40x_bin1_05_5min_1_w2CSU-488_s16_t35.tif\n"
     ]
    },
    {
     "name": "stderr",
     "output_type": "stream",
     "text": [
      "100%|██████████| 64/64 [03:24<00:00,  2.66s/it]  \n"
     ]
    },
    {
     "name": "stdout",
     "output_type": "stream",
     "text": [
      "Saving file/data/u934/service_imagerie/v_kapoor/Fl4-2-Var/STELLA/priority/wt_ECadGFPki-hetero_30pre29_bin140x_movN10/3DResults/%s_40x_bin1_05_5min_1_w2CSU-488_s17_t22.tif\n"
     ]
    },
    {
     "name": "stderr",
     "output_type": "stream",
     "text": [
      "100%|██████████| 64/64 [03:22<00:00,  2.62s/it]  \n"
     ]
    },
    {
     "name": "stdout",
     "output_type": "stream",
     "text": [
      "Saving file/data/u934/service_imagerie/v_kapoor/Fl4-2-Var/STELLA/priority/wt_ECadGFPki-hetero_30pre29_bin140x_movN10/3DResults/%s_40x_bin1_05_5min_1_w2CSU-488_s14_t223.tif\n"
     ]
    },
    {
     "name": "stderr",
     "output_type": "stream",
     "text": [
      "100%|██████████| 64/64 [03:23<00:00,  2.67s/it]  \n"
     ]
    },
    {
     "name": "stdout",
     "output_type": "stream",
     "text": [
      "Saving file/data/u934/service_imagerie/v_kapoor/Fl4-2-Var/STELLA/priority/wt_ECadGFPki-hetero_30pre29_bin140x_movN10/3DResults/%s_40x_bin1_05_5min_1_w2CSU-488_s14_t60.tif\n"
     ]
    },
    {
     "name": "stderr",
     "output_type": "stream",
     "text": [
      "100%|██████████| 64/64 [03:22<00:00,  2.64s/it]  \n"
     ]
    },
    {
     "name": "stdout",
     "output_type": "stream",
     "text": [
      "Saving file/data/u934/service_imagerie/v_kapoor/Fl4-2-Var/STELLA/priority/wt_ECadGFPki-hetero_30pre29_bin140x_movN10/3DResults/%s_40x_bin1_05_5min_1_w2CSU-488_s14_t134.tif\n"
     ]
    },
    {
     "name": "stderr",
     "output_type": "stream",
     "text": [
      "100%|██████████| 64/64 [03:23<00:00,  2.66s/it]  \n"
     ]
    },
    {
     "name": "stdout",
     "output_type": "stream",
     "text": [
      "Saving file/data/u934/service_imagerie/v_kapoor/Fl4-2-Var/STELLA/priority/wt_ECadGFPki-hetero_30pre29_bin140x_movN10/3DResults/%s_40x_bin1_05_5min_1_w2CSU-488_s16_t98.tif\n"
     ]
    },
    {
     "name": "stderr",
     "output_type": "stream",
     "text": [
      "100%|██████████| 64/64 [03:23<00:00,  2.65s/it]  \n"
     ]
    },
    {
     "name": "stdout",
     "output_type": "stream",
     "text": [
      "Saving file/data/u934/service_imagerie/v_kapoor/Fl4-2-Var/STELLA/priority/wt_ECadGFPki-hetero_30pre29_bin140x_movN10/3DResults/%s_40x_bin1_05_5min_1_w2CSU-488_s15_t147.tif\n"
     ]
    },
    {
     "name": "stderr",
     "output_type": "stream",
     "text": [
      "100%|██████████| 64/64 [03:24<00:00,  2.64s/it]  \n"
     ]
    },
    {
     "name": "stdout",
     "output_type": "stream",
     "text": [
      "Saving file/data/u934/service_imagerie/v_kapoor/Fl4-2-Var/STELLA/priority/wt_ECadGFPki-hetero_30pre29_bin140x_movN10/3DResults/%s_40x_bin1_05_5min_1_w2CSU-488_s15_t196.tif\n"
     ]
    },
    {
     "name": "stderr",
     "output_type": "stream",
     "text": [
      "100%|██████████| 64/64 [03:22<00:00,  2.64s/it]  \n"
     ]
    },
    {
     "name": "stdout",
     "output_type": "stream",
     "text": [
      "Saving file/data/u934/service_imagerie/v_kapoor/Fl4-2-Var/STELLA/priority/wt_ECadGFPki-hetero_30pre29_bin140x_movN10/3DResults/%s_40x_bin1_05_5min_1_w2CSU-488_s16_t49.tif\n"
     ]
    },
    {
     "name": "stderr",
     "output_type": "stream",
     "text": [
      "100%|██████████| 64/64 [03:24<00:00,  2.66s/it]  \n"
     ]
    },
    {
     "name": "stdout",
     "output_type": "stream",
     "text": [
      "Saving file/data/u934/service_imagerie/v_kapoor/Fl4-2-Var/STELLA/priority/wt_ECadGFPki-hetero_30pre29_bin140x_movN10/3DResults/%s_40x_bin1_05_5min_1_w2CSU-488_s17_t25.tif\n"
     ]
    },
    {
     "name": "stderr",
     "output_type": "stream",
     "text": [
      "100%|██████████| 64/64 [03:21<00:00,  2.63s/it]  \n"
     ]
    },
    {
     "name": "stdout",
     "output_type": "stream",
     "text": [
      "Saving file/data/u934/service_imagerie/v_kapoor/Fl4-2-Var/STELLA/priority/wt_ECadGFPki-hetero_30pre29_bin140x_movN10/3DResults/%s_40x_bin1_05_5min_1_w2CSU-488_s14_t67.tif\n"
     ]
    },
    {
     "name": "stderr",
     "output_type": "stream",
     "text": [
      "100%|██████████| 64/64 [03:23<00:00,  2.65s/it]  \n"
     ]
    },
    {
     "name": "stdout",
     "output_type": "stream",
     "text": [
      "Saving file/data/u934/service_imagerie/v_kapoor/Fl4-2-Var/STELLA/priority/wt_ECadGFPki-hetero_30pre29_bin140x_movN10/3DResults/%s_40x_bin1_05_5min_1_w2CSU-488_s14_t224.tif\n"
     ]
    },
    {
     "name": "stderr",
     "output_type": "stream",
     "text": [
      "100%|██████████| 64/64 [03:21<00:00,  2.64s/it]  \n"
     ]
    },
    {
     "name": "stdout",
     "output_type": "stream",
     "text": [
      "Saving file/data/u934/service_imagerie/v_kapoor/Fl4-2-Var/STELLA/priority/wt_ECadGFPki-hetero_30pre29_bin140x_movN10/3DResults/%s_40x_bin1_05_5min_1_w2CSU-488_s14_t133.tif\n"
     ]
    },
    {
     "name": "stderr",
     "output_type": "stream",
     "text": [
      "100%|██████████| 64/64 [03:24<00:00,  2.67s/it]  \n"
     ]
    },
    {
     "name": "stdout",
     "output_type": "stream",
     "text": [
      "Saving file/data/u934/service_imagerie/v_kapoor/Fl4-2-Var/STELLA/priority/wt_ECadGFPki-hetero_30pre29_bin140x_movN10/3DResults/%s_40x_bin1_05_5min_1_w2CSU-488_s15_t140.tif\n"
     ]
    },
    {
     "name": "stderr",
     "output_type": "stream",
     "text": [
      "100%|██████████| 64/64 [03:22<00:00,  2.65s/it]  \n"
     ]
    },
    {
     "name": "stdout",
     "output_type": "stream",
     "text": [
      "Saving file/data/u934/service_imagerie/v_kapoor/Fl4-2-Var/STELLA/priority/wt_ECadGFPki-hetero_30pre29_bin140x_movN10/3DResults/%s_40x_bin1_05_5min_1_w2CSU-488_s15_t191.tif\n"
     ]
    },
    {
     "name": "stderr",
     "output_type": "stream",
     "text": [
      "100%|██████████| 64/64 [03:24<00:00,  2.69s/it]  \n"
     ]
    },
    {
     "name": "stdout",
     "output_type": "stream",
     "text": [
      "Saving file/data/u934/service_imagerie/v_kapoor/Fl4-2-Var/STELLA/priority/wt_ECadGFPki-hetero_30pre29_bin140x_movN10/3DResults/%s_40x_bin1_05_5min_1_w2CSU-488_s16_t178.tif\n"
     ]
    },
    {
     "name": "stderr",
     "output_type": "stream",
     "text": [
      "100%|██████████| 64/64 [03:22<00:00,  2.63s/it]  \n"
     ]
    },
    {
     "name": "stdout",
     "output_type": "stream",
     "text": [
      "Saving file/data/u934/service_imagerie/v_kapoor/Fl4-2-Var/STELLA/priority/wt_ECadGFPki-hetero_30pre29_bin140x_movN10/3DResults/%s_40x_bin1_05_5min_1_w2CSU-488_s17_t177.tif\n"
     ]
    },
    {
     "name": "stderr",
     "output_type": "stream",
     "text": [
      "100%|██████████| 64/64 [03:23<00:00,  2.68s/it]  \n"
     ]
    },
    {
     "name": "stdout",
     "output_type": "stream",
     "text": [
      "Saving file/data/u934/service_imagerie/v_kapoor/Fl4-2-Var/STELLA/priority/wt_ECadGFPki-hetero_30pre29_bin140x_movN10/3DResults/%s_40x_bin1_05_5min_1_w2CSU-488_s17_t59.tif\n"
     ]
    },
    {
     "name": "stderr",
     "output_type": "stream",
     "text": [
      "100%|██████████| 64/64 [03:21<00:00,  2.65s/it]  \n"
     ]
    },
    {
     "name": "stdout",
     "output_type": "stream",
     "text": [
      "Saving file/data/u934/service_imagerie/v_kapoor/Fl4-2-Var/STELLA/priority/wt_ECadGFPki-hetero_30pre29_bin140x_movN10/3DResults/%s_40x_bin1_05_5min_1_w2CSU-488_s17_t88.tif\n"
     ]
    },
    {
     "name": "stderr",
     "output_type": "stream",
     "text": [
      "100%|██████████| 64/64 [03:24<00:00,  2.67s/it]  \n"
     ]
    },
    {
     "name": "stdout",
     "output_type": "stream",
     "text": [
      "Saving file/data/u934/service_imagerie/v_kapoor/Fl4-2-Var/STELLA/priority/wt_ECadGFPki-hetero_30pre29_bin140x_movN10/3DResults/%s_40x_bin1_05_5min_1_w2CSU-488_s16_t213.tif\n"
     ]
    },
    {
     "name": "stderr",
     "output_type": "stream",
     "text": [
      "100%|██████████| 64/64 [03:23<00:00,  2.63s/it]  \n"
     ]
    },
    {
     "name": "stdout",
     "output_type": "stream",
     "text": [
      "Saving file/data/u934/service_imagerie/v_kapoor/Fl4-2-Var/STELLA/priority/wt_ECadGFPki-hetero_30pre29_bin140x_movN10/3DResults/%s_40x_bin1_05_5min_1_w2CSU-488_s16_t104.tif\n"
     ]
    },
    {
     "name": "stderr",
     "output_type": "stream",
     "text": [
      "100%|██████████| 64/64 [03:25<00:00,  2.68s/it]  \n"
     ]
    },
    {
     "name": "stdout",
     "output_type": "stream",
     "text": [
      "Saving file/data/u934/service_imagerie/v_kapoor/Fl4-2-Var/STELLA/priority/wt_ECadGFPki-hetero_30pre29_bin140x_movN10/3DResults/%s_40x_bin1_05_5min_1_w2CSU-488_s15_t70.tif\n"
     ]
    },
    {
     "name": "stderr",
     "output_type": "stream",
     "text": [
      "100%|██████████| 64/64 [03:22<00:00,  2.64s/it]  \n"
     ]
    },
    {
     "name": "stdout",
     "output_type": "stream",
     "text": [
      "Saving file/data/u934/service_imagerie/v_kapoor/Fl4-2-Var/STELLA/priority/wt_ECadGFPki-hetero_30pre29_bin140x_movN10/3DResults/%s_40x_bin1_05_5min_1_w2CSU-488_s16_t32.tif\n"
     ]
    },
    {
     "name": "stderr",
     "output_type": "stream",
     "text": [
      "100%|██████████| 64/64 [03:24<00:00,  2.66s/it]  \n"
     ]
    },
    {
     "name": "stdout",
     "output_type": "stream",
     "text": [
      "Saving file/data/u934/service_imagerie/v_kapoor/Fl4-2-Var/STELLA/priority/wt_ECadGFPki-hetero_30pre29_bin140x_movN10/3DResults/%s_40x_bin1_05_5min_1_w2CSU-488_s14_t69.tif\n"
     ]
    },
    {
     "name": "stderr",
     "output_type": "stream",
     "text": [
      "100%|██████████| 64/64 [03:21<00:00,  2.63s/it]  \n"
     ]
    },
    {
     "name": "stdout",
     "output_type": "stream",
     "text": [
      "Saving file/data/u934/service_imagerie/v_kapoor/Fl4-2-Var/STELLA/priority/wt_ECadGFPki-hetero_30pre29_bin140x_movN10/3DResults/%s_40x_bin1_05_5min_1_w2CSU-488_s17_t105.tif\n"
     ]
    },
    {
     "name": "stderr",
     "output_type": "stream",
     "text": [
      "100%|██████████| 64/64 [03:23<00:00,  2.66s/it]  \n"
     ]
    },
    {
     "name": "stdout",
     "output_type": "stream",
     "text": [
      "Saving file/data/u934/service_imagerie/v_kapoor/Fl4-2-Var/STELLA/priority/wt_ECadGFPki-hetero_30pre29_bin140x_movN10/3DResults/%s_40x_bin1_05_5min_1_w2CSU-488_s17_t212.tif\n"
     ]
    },
    {
     "name": "stderr",
     "output_type": "stream",
     "text": [
      "100%|██████████| 64/64 [03:22<00:00,  2.67s/it]  \n"
     ]
    },
    {
     "name": "stdout",
     "output_type": "stream",
     "text": [
      "Saving file/data/u934/service_imagerie/v_kapoor/Fl4-2-Var/STELLA/priority/wt_ECadGFPki-hetero_30pre29_bin140x_movN10/3DResults/%s_40x_bin1_05_5min_1_w2CSU-488_s16_t91.tif\n"
     ]
    },
    {
     "name": "stderr",
     "output_type": "stream",
     "text": [
      "100%|██████████| 64/64 [03:24<00:00,  2.64s/it]  \n"
     ]
    },
    {
     "name": "stdout",
     "output_type": "stream",
     "text": [
      "Saving file/data/u934/service_imagerie/v_kapoor/Fl4-2-Var/STELLA/priority/wt_ECadGFPki-hetero_30pre29_bin140x_movN10/3DResults/%s_40x_bin1_05_5min_1_w2CSU-488_s16_t176.tif\n"
     ]
    },
    {
     "name": "stderr",
     "output_type": "stream",
     "text": [
      "100%|██████████| 64/64 [03:21<00:00,  2.63s/it]  \n"
     ]
    },
    {
     "name": "stdout",
     "output_type": "stream",
     "text": [
      "Saving file/data/u934/service_imagerie/v_kapoor/Fl4-2-Var/STELLA/priority/wt_ECadGFPki-hetero_30pre29_bin140x_movN10/3DResults/%s_40x_bin1_05_5min_1_w2CSU-488_s16_t40.tif\n"
     ]
    },
    {
     "name": "stderr",
     "output_type": "stream",
     "text": [
      "100%|██████████| 64/64 [03:23<00:00,  2.69s/it]  \n"
     ]
    },
    {
     "name": "stdout",
     "output_type": "stream",
     "text": [
      "Saving file/data/u934/service_imagerie/v_kapoor/Fl4-2-Var/STELLA/priority/wt_ECadGFPki-hetero_30pre29_bin140x_movN10/3DResults/%s_40x_bin1_05_5min_1_w2CSU-488_s17_t57.tif\n"
     ]
    },
    {
     "name": "stderr",
     "output_type": "stream",
     "text": [
      "100%|██████████| 64/64 [03:21<00:00,  2.63s/it]  \n"
     ]
    },
    {
     "name": "stdout",
     "output_type": "stream",
     "text": [
      "Saving file/data/u934/service_imagerie/v_kapoor/Fl4-2-Var/STELLA/priority/wt_ECadGFPki-hetero_30pre29_bin140x_movN10/3DResults/%s_40x_bin1_05_5min_1_w2CSU-488_s17_t179.tif\n"
     ]
    },
    {
     "name": "stderr",
     "output_type": "stream",
     "text": [
      "100%|██████████| 64/64 [03:22<00:00,  2.65s/it]  \n"
     ]
    },
    {
     "name": "stdout",
     "output_type": "stream",
     "text": [
      "Saving file/data/u934/service_imagerie/v_kapoor/Fl4-2-Var/STELLA/priority/wt_ECadGFPki-hetero_30pre29_bin140x_movN10/3DResults/%s_40x_bin1_05_5min_1_w2CSU-488_s14_t15.tif\n"
     ]
    },
    {
     "name": "stderr",
     "output_type": "stream",
     "text": [
      "100%|██████████| 64/64 [03:21<00:00,  2.63s/it]  \n"
     ]
    },
    {
     "name": "stdout",
     "output_type": "stream",
     "text": [
      "Saving file/data/u934/service_imagerie/v_kapoor/Fl4-2-Var/STELLA/priority/wt_ECadGFPki-hetero_30pre29_bin140x_movN10/3DResults/%s_40x_bin1_05_5min_1_w2CSU-488_s14_t190.tif\n"
     ]
    },
    {
     "name": "stderr",
     "output_type": "stream",
     "text": [
      "100%|██████████| 64/64 [03:23<00:00,  2.67s/it]  \n"
     ]
    },
    {
     "name": "stdout",
     "output_type": "stream",
     "text": [
      "Saving file/data/u934/service_imagerie/v_kapoor/Fl4-2-Var/STELLA/priority/wt_ECadGFPki-hetero_30pre29_bin140x_movN10/3DResults/%s_40x_bin1_05_5min_1_w2CSU-488_s14_t141.tif\n"
     ]
    },
    {
     "name": "stderr",
     "output_type": "stream",
     "text": [
      "100%|██████████| 64/64 [03:22<00:00,  2.64s/it]  \n"
     ]
    },
    {
     "name": "stdout",
     "output_type": "stream",
     "text": [
      "Saving file/data/u934/service_imagerie/v_kapoor/Fl4-2-Var/STELLA/priority/wt_ECadGFPki-hetero_30pre29_bin140x_movN10/3DResults/%s_40x_bin1_05_5min_1_w2CSU-488_s17_t86.tif\n"
     ]
    },
    {
     "name": "stderr",
     "output_type": "stream",
     "text": [
      "100%|██████████| 64/64 [03:23<00:00,  2.68s/it]  \n"
     ]
    },
    {
     "name": "stdout",
     "output_type": "stream",
     "text": [
      "Saving file/data/u934/service_imagerie/v_kapoor/Fl4-2-Var/STELLA/priority/wt_ECadGFPki-hetero_30pre29_bin140x_movN10/3DResults/%s_40x_bin1_05_5min_1_w2CSU-488_s15_t132.tif\n"
     ]
    },
    {
     "name": "stderr",
     "output_type": "stream",
     "text": [
      "100%|██████████| 64/64 [03:22<00:00,  2.65s/it]  \n"
     ]
    },
    {
     "name": "stdout",
     "output_type": "stream",
     "text": [
      "Saving file/data/u934/service_imagerie/v_kapoor/Fl4-2-Var/STELLA/priority/wt_ECadGFPki-hetero_30pre29_bin140x_movN10/3DResults/%s_40x_bin1_05_5min_1_w2CSU-488_s15_t225.tif\n"
     ]
    },
    {
     "name": "stderr",
     "output_type": "stream",
     "text": [
      "100%|██████████| 64/64 [03:23<00:00,  2.67s/it]  \n"
     ]
    },
    {
     "name": "stdout",
     "output_type": "stream",
     "text": [
      "Saving file/data/u934/service_imagerie/v_kapoor/Fl4-2-Var/STELLA/priority/wt_ECadGFPki-hetero_30pre29_bin140x_movN10/3DResults/%s_40x_bin1_05_5min_1_w2CSU-488_s17_t50.tif\n"
     ]
    },
    {
     "name": "stderr",
     "output_type": "stream",
     "text": [
      "100%|██████████| 64/64 [03:21<00:00,  2.62s/it]  \n"
     ]
    },
    {
     "name": "stdout",
     "output_type": "stream",
     "text": [
      "Saving file/data/u934/service_imagerie/v_kapoor/Fl4-2-Var/STELLA/priority/wt_ECadGFPki-hetero_30pre29_bin140x_movN10/3DResults/%s_40x_bin1_05_5min_1_w2CSU-488_s15_t7.tif\n"
     ]
    },
    {
     "name": "stderr",
     "output_type": "stream",
     "text": [
      "100%|██████████| 64/64 [03:24<00:00,  2.66s/it]  \n"
     ]
    },
    {
     "name": "stdout",
     "output_type": "stream",
     "text": [
      "Saving file/data/u934/service_imagerie/v_kapoor/Fl4-2-Var/STELLA/priority/wt_ECadGFPki-hetero_30pre29_bin140x_movN10/3DResults/%s_40x_bin1_05_5min_1_w2CSU-488_s14_t12.tif\n"
     ]
    },
    {
     "name": "stderr",
     "output_type": "stream",
     "text": [
      "100%|██████████| 64/64 [03:21<00:00,  2.62s/it]  \n"
     ]
    },
    {
     "name": "stdout",
     "output_type": "stream",
     "text": [
      "Saving file/data/u934/service_imagerie/v_kapoor/Fl4-2-Var/STELLA/priority/wt_ECadGFPki-hetero_30pre29_bin140x_movN10/3DResults/%s_40x_bin1_05_5min_1_w2CSU-488_s14_t197.tif\n"
     ]
    },
    {
     "name": "stderr",
     "output_type": "stream",
     "text": [
      "100%|██████████| 64/64 [03:23<00:00,  2.67s/it]  \n"
     ]
    },
    {
     "name": "stdout",
     "output_type": "stream",
     "text": [
      "Saving file/data/u934/service_imagerie/v_kapoor/Fl4-2-Var/STELLA/priority/wt_ECadGFPki-hetero_30pre29_bin140x_movN10/3DResults/%s_40x_bin1_05_5min_1_w2CSU-488_s14_t146.tif\n"
     ]
    },
    {
     "name": "stderr",
     "output_type": "stream",
     "text": [
      "100%|██████████| 64/64 [03:21<00:00,  2.63s/it]  \n"
     ]
    },
    {
     "name": "stdout",
     "output_type": "stream",
     "text": [
      "Saving file/data/u934/service_imagerie/v_kapoor/Fl4-2-Var/STELLA/priority/wt_ECadGFPki-hetero_30pre29_bin140x_movN10/3DResults/%s_40x_bin1_05_5min_1_w2CSU-488_s17_t81.tif\n"
     ]
    },
    {
     "name": "stderr",
     "output_type": "stream",
     "text": [
      "100%|██████████| 64/64 [03:23<00:00,  2.66s/it]  \n"
     ]
    },
    {
     "name": "stdout",
     "output_type": "stream",
     "text": [
      "Saving file/data/u934/service_imagerie/v_kapoor/Fl4-2-Var/STELLA/priority/wt_ECadGFPki-hetero_30pre29_bin140x_movN10/3DResults/%s_40x_bin1_05_5min_1_w2CSU-488_s15_t135.tif\n"
     ]
    },
    {
     "name": "stderr",
     "output_type": "stream",
     "text": [
      "100%|██████████| 64/64 [03:22<00:00,  2.67s/it]  \n"
     ]
    },
    {
     "name": "stdout",
     "output_type": "stream",
     "text": [
      "Saving file/data/u934/service_imagerie/v_kapoor/Fl4-2-Var/STELLA/priority/wt_ECadGFPki-hetero_30pre29_bin140x_movN10/3DResults/%s_40x_bin1_05_5min_1_w2CSU-488_s15_t222.tif\n"
     ]
    },
    {
     "name": "stderr",
     "output_type": "stream",
     "text": [
      "100%|██████████| 64/64 [03:23<00:00,  2.65s/it]  \n"
     ]
    },
    {
     "name": "stdout",
     "output_type": "stream",
     "text": [
      "Saving file/data/u934/service_imagerie/v_kapoor/Fl4-2-Var/STELLA/priority/wt_ECadGFPki-hetero_30pre29_bin140x_movN10/3DResults/%s_40x_bin1_05_5min_1_w2CSU-488_s15_t79.tif\n"
     ]
    },
    {
     "name": "stderr",
     "output_type": "stream",
     "text": [
      "100%|██████████| 64/64 [03:22<00:00,  2.65s/it]  \n"
     ]
    },
    {
     "name": "stdout",
     "output_type": "stream",
     "text": [
      "Saving file/data/u934/service_imagerie/v_kapoor/Fl4-2-Var/STELLA/priority/wt_ECadGFPki-hetero_30pre29_bin140x_movN10/3DResults/%s_40x_bin1_05_5min_1_w2CSU-488_s17_t102.tif\n"
     ]
    },
    {
     "name": "stderr",
     "output_type": "stream",
     "text": [
      "100%|██████████| 64/64 [03:25<00:00,  2.68s/it]  \n"
     ]
    },
    {
     "name": "stdout",
     "output_type": "stream",
     "text": [
      "Saving file/data/u934/service_imagerie/v_kapoor/Fl4-2-Var/STELLA/priority/wt_ECadGFPki-hetero_30pre29_bin140x_movN10/3DResults/%s_40x_bin1_05_5min_1_w2CSU-488_s17_t215.tif\n"
     ]
    },
    {
     "name": "stderr",
     "output_type": "stream",
     "text": [
      "100%|██████████| 64/64 [03:22<00:00,  2.64s/it]  \n"
     ]
    },
    {
     "name": "stdout",
     "output_type": "stream",
     "text": [
      "Saving file/data/u934/service_imagerie/v_kapoor/Fl4-2-Var/STELLA/priority/wt_ECadGFPki-hetero_30pre29_bin140x_movN10/3DResults/%s_40x_bin1_05_5min_1_w2CSU-488_s16_t96.tif\n"
     ]
    },
    {
     "name": "stderr",
     "output_type": "stream",
     "text": [
      "100%|██████████| 64/64 [03:25<00:00,  2.69s/it]  \n"
     ]
    },
    {
     "name": "stdout",
     "output_type": "stream",
     "text": [
      "Saving file/data/u934/service_imagerie/v_kapoor/Fl4-2-Var/STELLA/priority/wt_ECadGFPki-hetero_30pre29_bin140x_movN10/3DResults/%s_40x_bin1_05_5min_1_w2CSU-488_s15_t149.tif\n"
     ]
    },
    {
     "name": "stderr",
     "output_type": "stream",
     "text": [
      " 66%|██████▌   | 42/64 [02:13<01:12,  3.31s/it]  "
     ]
    }
   ],
   "source": [
    "for x in subdir[1]:\n",
    "    currentdir = masterdirLow + x\n",
    "    \n",
    "    basedirResults3D = currentdir + '/3DResults/'\n",
    "    basedirResults2D = currentdir + '/MaxProjectionResults/'\n",
    "    Path(basedirResults3D).mkdir(exist_ok = True)\n",
    "    Path(basedirResults2D).mkdir(exist_ok = True)\n",
    "    \n",
    "\n",
    "\n",
    "    Raw_path = os.path.join(currentdir, '*tif')\n",
    "\n",
    "\n",
    "\n",
    "    filesRaw = glob.glob(Raw_path)\n",
    "\n",
    "\n",
    "\n",
    "    for fname in filesRaw:\n",
    " \n",
    "        y = imread(fname)\n",
    "      \n",
    "        print('Saving file' +  basedirResults3D + '%s_' + os.path.basename(fname))\n",
    "        restored = model.predict(y, axes, n_tiles = (1, 8, 8)) \n",
    "        projected = np.max(restored, axis = 0)\n",
    "        save_tiff_imagej_compatible((basedirResults2D + '%s_' + 'MAXProjected' +  os.path.basename(fname)) %  model.name , projected, smallaxes)\n",
    "\n",
    "        save_tiff_imagej_compatible((basedirResults3D + '%s_' + os.path.basename(fname)) % model.name, restored, axes)\n",
    "\n",
    "\n",
    "    \n",
    "    \n",
    "   "
   ]
  },
  {
   "cell_type": "code",
   "execution_count": null,
   "metadata": {},
   "outputs": [],
   "source": []
  }
 ],
 "metadata": {
  "kernelspec": {
   "display_name": "Python [conda env:tensorflowLOW]",
   "language": "python",
   "name": "conda-env-tensorflowLOW-py"
  },
  "language_info": {
   "codemirror_mode": {
    "name": "ipython",
    "version": 3
   },
   "file_extension": ".py",
   "mimetype": "text/x-python",
   "name": "python",
   "nbconvert_exporter": "python",
   "pygments_lexer": "ipython3",
   "version": "3.5.6"
  }
 },
 "nbformat": 4,
 "nbformat_minor": 2
}
