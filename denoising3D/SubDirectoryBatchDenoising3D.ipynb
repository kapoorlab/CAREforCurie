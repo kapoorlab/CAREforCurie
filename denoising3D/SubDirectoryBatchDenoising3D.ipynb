{
 "cells": [
  {
   "cell_type": "code",
   "execution_count": 1,
   "metadata": {},
   "outputs": [
    {
     "name": "stderr",
     "output_type": "stream",
     "text": [
      "Using TensorFlow backend.\n"
     ]
    }
   ],
   "source": [
    "from __future__ import print_function, unicode_literals, absolute_import, division\n",
    "import numpy as np\n",
    "import matplotlib.pyplot as plt\n",
    "%matplotlib inline\n",
    "%config InlineBackend.figure_format = 'retina'\n",
    "import os\n",
    "import glob\n",
    "\n",
    "\n",
    "from tifffile import imread\n",
    "from csbdeep.utils import Path, download_and_extract_zip_file, plot_some\n",
    "from csbdeep.io import save_tiff_imagej_compatible\n",
    "from csbdeep.models import CARE\n",
    "\n"
   ]
  },
  {
   "cell_type": "code",
   "execution_count": 2,
   "metadata": {},
   "outputs": [
    {
     "name": "stdout",
     "output_type": "stream",
     "text": [
      "Loading network weights from 'weights_best.h5'.\n"
     ]
    }
   ],
   "source": [
    "masterdirLow = '/data/u934/service_imagerie/v_kapoor/Fl4-2-Var/STELLA/priority/WT632PRE29/'\n",
    "\n",
    "subdir = next(os.walk(masterdirLow))\n",
    "\n",
    "ModelName = 'BorialisS1S2FlorisMidNoiseModel'\n",
    "BaseDir = '/data/u934/service_imagerie/v_kapoor/CurieDeepLearningModels/'\n",
    "model = CARE(config = None, name = ModelName, basedir = BaseDir)\n",
    "axes = 'ZYX'\n",
    "smallaxes = 'YX'"
   ]
  },
  {
   "cell_type": "code",
   "execution_count": 3,
   "metadata": {},
   "outputs": [],
   "source": [
    "for x in subdir[1]:\n",
    "    currentdir = masterdirLow + x\n",
    "    \n",
    "    basedirResults3D = currentdir + '/3DResults/'\n",
    "    basedirResults2D = currentdir + '/MaxProjectionResults/'\n",
    "    Path(basedirResults3D).mkdir(exist_ok = True)\n",
    "    Path(basedirResults2D).mkdir(exist_ok = True)\n",
    "    \n",
    "\n",
    "\n",
    "    Raw_path = os.path.join(currentdir, '*tif')\n",
    "\n",
    "\n",
    "\n",
    "    filesRaw = glob.glob(Raw_path)\n",
    "\n",
    "\n",
    "\n",
    "    for fname in filesRaw:\n",
    " \n",
    "        y = imread(fname)\n",
    "      \n",
    "        print('Saving file' +  basedirResults3D + '%s_' + os.path.basename(fname))\n",
    "        restored = model.predict(y, axes, n_tiles = (1, 8, 8)) \n",
    "        projected = np.max(restored, axis = 0)\n",
    "        save_tiff_imagej_compatible((basedirResults2D + '%s_' + 'MAXProjected' +  os.path.basename(fname)) %  model.name , projected, smallaxes)\n",
    "\n",
    "        save_tiff_imagej_compatible((basedirResults3D + '%s_' + os.path.basename(fname)) % model.name, restored, axes)\n",
    "\n",
    "\n",
    "    \n",
    "    \n",
    "   "
   ]
  },
  {
   "cell_type": "code",
   "execution_count": null,
   "metadata": {},
   "outputs": [],
   "source": []
  }
 ],
 "metadata": {
  "kernelspec": {
   "display_name": "Python [conda env:tensorflowLOW]",
   "language": "python",
   "name": "conda-env-tensorflowLOW-py"
  },
  "language_info": {
   "codemirror_mode": {
    "name": "ipython",
    "version": 3
   },
   "file_extension": ".py",
   "mimetype": "text/x-python",
   "name": "python",
   "nbconvert_exporter": "python",
   "pygments_lexer": "ipython3",
   "version": "3.5.6"
  }
 },
 "nbformat": 4,
 "nbformat_minor": 2
}
