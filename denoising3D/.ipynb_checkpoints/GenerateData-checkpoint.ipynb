{
 "cells": [
  {
   "cell_type": "code",
   "execution_count": 1,
   "metadata": {},
   "outputs": [],
   "source": [
    "import sys\n",
    "sys.path.insert(0, \"/data/u934/service_imagerie/v_kapoor/anaconda2/bin/CSBDeep/examples/CAREforCurie/HelperFunctions\")\n",
    "from __future__ import print_function, unicode_literals, absolute_import, division\n",
    "import numpy as np\n",
    "import matplotlib.pyplot as plt\n",
    "%matplotlib inline\n",
    "%config InlineBackend.figure_format = 'retina'\n",
    "import tensorflow\n",
    "from tifffile import imread\n",
    "from csbdeep.utils import download_and_extract_zip_file, plot_some\n",
    "from csbdeep.data import RawData, create_patches\n",
    "from selectrawdata import SelectRawData"
   ]
  },
  {
   "cell_type": "code",
   "execution_count": 2,
   "metadata": {},
   "outputs": [
    {
     "name": "stdout",
     "output_type": "stream",
     "text": [
      "['40x_bin1_05_5min_s1-4Cg_s5-6esg_1_w2CSU-488_s1_t193.tif', '40x_bin1_05_5min_s1-4Cg_s5-6esg_1_w2CSU-488_s1_t152.tif', '40x_bin1_05_5min_s1-4Cg_s5-6esg_1_w2CSU-488_s1_t156.tif', '40x_bin1_05_5min_s1-4Cg_s5-6esg_1_w2CSU-488_s1_t139.tif', '40x_bin1_05_5min_s1-4Cg_s5-6esg_1_w2CSU-488_s1_t178.tif', '40x_bin1_05_5min_s1-4Cg_s5-6esg_1_w2CSU-488_s1_t10.tif', '40x_bin1_05_5min_s1-4Cg_s5-6esg_1_w2CSU-488_s2_t50.tif', '40x_bin1_05_5min_s1-4Cg_s5-6esg_1_w2CSU-488_s1_t24.tif', '40x_bin1_05_5min_s1-4Cg_s5-6esg_1_w2CSU-488_s1_t157.tif', '40x_bin1_05_5min_s1-4Cg_s5-6esg_1_w2CSU-488_s2_t84.tif', '40x_bin1_05_5min_s1-4Cg_s5-6esg_1_w2CSU-488_s1_t183.tif', '40x_bin1_05_5min_s1-4Cg_s5-6esg_1_w2CSU-488_s1_t136.tif', '40x_bin1_05_5min_s1-4Cg_s5-6esg_1_w2CSU-488_s1_t144.tif', '40x_bin1_05_5min_s1-4Cg_s5-6esg_1_w2CSU-488_s1_t14.tif', '40x_bin1_05_5min_s1-4Cg_s5-6esg_1_w2CSU-488_s2_t187.tif', '40x_bin1_05_5min_s1-4Cg_s5-6esg_1_w2CSU-488_s1_t158.tif', '40x_bin1_05_5min_s1-4Cg_s5-6esg_1_w2CSU-488_s2_t115.tif', '40x_bin1_05_5min_s1-4Cg_s5-6esg_1_w2CSU-488_s2_t176.tif', '40x_bin1_05_5min_s1-4Cg_s5-6esg_1_w2CSU-488_s2_t87.tif', '40x_bin1_05_5min_s1-4Cg_s5-6esg_1_w2CSU-488_s2_t165.tif', '40x_bin1_05_5min_s1-4Cg_s5-6esg_1_w2CSU-488_s2_t148.tif', '40x_bin1_05_5min_s1-4Cg_s5-6esg_1_w2CSU-488_s1_t17.tif', '40x_bin1_05_5min_s1-4Cg_s5-6esg_1_w2CSU-488_s1_t190.tif', '40x_bin1_05_5min_s1-4Cg_s5-6esg_1_w2CSU-488_s2_t6.tif', '40x_bin1_05_5min_s1-4Cg_s5-6esg_1_w2CSU-488_s1_t138.tif', '40x_bin1_05_5min_s1-4Cg_s5-6esg_1_w2CSU-488_s2_t28.tif', '40x_bin1_05_5min_s1-4Cg_s5-6esg_1_w2CSU-488_s1_t179.tif', '40x_bin1_05_5min_s1-4Cg_s5-6esg_1_w2CSU-488_s2_t42.tif', '40x_bin1_05_5min_s1-4Cg_s5-6esg_1_w2CSU-488_s1_t198.tif', '40x_bin1_05_5min_s1-4Cg_s5-6esg_1_w2CSU-488_s1_t159.tif', '40x_bin1_05_5min_s1-4Cg_s5-6esg_1_w2CSU-488_s2_t90.tif', '40x_bin1_05_5min_s1-4Cg_s5-6esg_1_w2CSU-488_s2_t5.tif', '40x_bin1_05_5min_s1-4Cg_s5-6esg_1_w2CSU-488_s2_t9.tif', '40x_bin1_05_5min_s1-4Cg_s5-6esg_1_w2CSU-488_s2_t153.tif', '40x_bin1_05_5min_s1-4Cg_s5-6esg_1_w2CSU-488_s1_t169.tif', '40x_bin1_05_5min_s1-4Cg_s5-6esg_1_w2CSU-488_s1_t175.tif', '40x_bin1_05_5min_s1-4Cg_s5-6esg_1_w2CSU-488_s2_t74.tif', '40x_bin1_05_5min_s1-4Cg_s5-6esg_1_w2CSU-488_s1_t20.tif', '40x_bin1_05_5min_s1-4Cg_s5-6esg_1_w2CSU-488_s1_t7.tif', '40x_bin1_05_5min_s1-4Cg_s5-6esg_1_w2CSU-488_s1_t131.tif', '40x_bin1_05_5min_s1-4Cg_s5-6esg_1_w2CSU-488_s1_t192.tif', '40x_bin1_05_5min_s1-4Cg_s5-6esg_1_w2CSU-488_s1_t188.tif', '40x_bin1_05_5min_s1-4Cg_s5-6esg_1_w2CSU-488_s2_t71.tif', '40x_bin1_05_5min_s1-4Cg_s5-6esg_1_w2CSU-488_s1_t8.tif', '40x_bin1_05_5min_s1-4Cg_s5-6esg_1_w2CSU-488_s2_t57.tif', '40x_bin1_05_5min_s1-4Cg_s5-6esg_1_w2CSU-488_s1_t143.tif', '40x_bin1_05_5min_s1-4Cg_s5-6esg_1_w2CSU-488_s1_t189.tif', '40x_bin1_05_5min_s1-4Cg_s5-6esg_1_w2CSU-488_s1_t135.tif', '40x_bin1_05_5min_s1-4Cg_s5-6esg_1_w2CSU-488_s1_t171.tif', '40x_bin1_05_5min_s1-4Cg_s5-6esg_1_w2CSU-488_s2_t154.tif', '40x_bin1_05_5min_s1-4Cg_s5-6esg_1_w2CSU-488_s2_t182.tif', '40x_bin1_05_5min_s1-4Cg_s5-6esg_1_w2CSU-488_s2_t85.tif', '40x_bin1_05_5min_s1-4Cg_s5-6esg_1_w2CSU-488_s2_t101.tif', '40x_bin1_05_5min_s1-4Cg_s5-6esg_1_w2CSU-488_s1_t163.tif', '40x_bin1_05_5min_s1-4Cg_s5-6esg_1_w2CSU-488_s1_t12.tif', '40x_bin1_05_5min_s1-4Cg_s5-6esg_1_w2CSU-488_s2_t159.tif', '40x_bin1_05_5min_s1-4Cg_s5-6esg_1_w2CSU-488_s1_t15.tif', '40x_bin1_05_5min_s1-4Cg_s5-6esg_1_w2CSU-488_s1_t187.tif', '40x_bin1_05_5min_s1-4Cg_s5-6esg_1_w2CSU-488_s2_t161.tif', '40x_bin1_05_5min_s1-4Cg_s5-6esg_1_w2CSU-488_s2_t125.tif', '40x_bin1_05_5min_s1-4Cg_s5-6esg_1_w2CSU-488_s2_t49.tif', '40x_bin1_05_5min_s1-4Cg_s5-6esg_1_w2CSU-488_s1_t174.tif', '40x_bin1_05_5min_s1-4Cg_s5-6esg_1_w2CSU-488_s2_t10.tif', '40x_bin1_05_5min_s1-4Cg_s5-6esg_1_w2CSU-488_s2_t77.tif', '40x_bin1_05_5min_s1-4Cg_s5-6esg_1_w2CSU-488_s2_t142.tif', '40x_bin1_05_5min_s1-4Cg_s5-6esg_1_w2CSU-488_s2_t36.tif', '40x_bin1_05_5min_s1-4Cg_s5-6esg_1_w2CSU-488_s2_t79.tif', '40x_bin1_05_5min_s1-4Cg_s5-6esg_1_w2CSU-488_s2_t86.tif', '40x_bin1_05_5min_s1-4Cg_s5-6esg_1_w2CSU-488_s1_t153.tif', '40x_bin1_05_5min_s1-4Cg_s5-6esg_1_w2CSU-488_s2_t118.tif', '40x_bin1_05_5min_s1-4Cg_s5-6esg_1_w2CSU-488_s1_t5.tif', '40x_bin1_05_5min_s1-4Cg_s5-6esg_1_w2CSU-488_s2_t11.tif', '40x_bin1_05_5min_s1-4Cg_s5-6esg_1_w2CSU-488_s2_t31.tif', '40x_bin1_05_5min_s1-4Cg_s5-6esg_1_w2CSU-488_s2_t65.tif', '40x_bin1_05_5min_s1-4Cg_s5-6esg_1_w2CSU-488_s1_t126.tif', '40x_bin1_05_5min_s1-4Cg_s5-6esg_1_w2CSU-488_s2_t170.tif', '40x_bin1_05_5min_s1-4Cg_s5-6esg_1_w2CSU-488_s2_t88.tif', '40x_bin1_05_5min_s1-4Cg_s5-6esg_1_w2CSU-488_s2_t136.tif', '40x_bin1_05_5min_s1-4Cg_s5-6esg_1_w2CSU-488_s2_t114.tif', '40x_bin1_05_5min_s1-4Cg_s5-6esg_1_w2CSU-488_s2_t129.tif', '40x_bin1_05_5min_s1-4Cg_s5-6esg_1_w2CSU-488_s2_t8.tif', '40x_bin1_05_5min_s1-4Cg_s5-6esg_1_w2CSU-488_s2_t2.tif', '40x_bin1_05_5min_s1-4Cg_s5-6esg_1_w2CSU-488_s1_t162.tif', '40x_bin1_05_5min_s1-4Cg_s5-6esg_1_w2CSU-488_s2_t124.tif', '40x_bin1_05_5min_s1-4Cg_s5-6esg_1_w2CSU-488_s2_t107.tif', '40x_bin1_05_5min_s1-4Cg_s5-6esg_1_w2CSU-488_s1_t142.tif', '40x_bin1_05_5min_s1-4Cg_s5-6esg_1_w2CSU-488_s2_t54.tif', '40x_bin1_05_5min_s1-4Cg_s5-6esg_1_w2CSU-488_s2_t193.tif', '40x_bin1_05_5min_s1-4Cg_s5-6esg_1_w2CSU-488_s2_t43.tif', '40x_bin1_05_5min_s1-4Cg_s5-6esg_1_w2CSU-488_s1_t181.tif', '40x_bin1_05_5min_s1-4Cg_s5-6esg_1_w2CSU-488_s2_t30.tif', '40x_bin1_05_5min_s1-4Cg_s5-6esg_1_w2CSU-488_s1_t18.tif', '40x_bin1_05_5min_s1-4Cg_s5-6esg_1_w2CSU-488_s2_t63.tif', '40x_bin1_05_5min_s1-4Cg_s5-6esg_1_w2CSU-488_s2_t119.tif', '40x_bin1_05_5min_s1-4Cg_s5-6esg_1_w2CSU-488_s2_t139.tif', '40x_bin1_05_5min_s1-4Cg_s5-6esg_1_w2CSU-488_s1_t200.tif', '40x_bin1_05_5min_s1-4Cg_s5-6esg_1_w2CSU-488_s2_t120.tif', '40x_bin1_05_5min_s1-4Cg_s5-6esg_1_w2CSU-488_s1_t3.tif', '40x_bin1_05_5min_s1-4Cg_s5-6esg_1_w2CSU-488_s2_t52.tif', '40x_bin1_05_5min_s1-4Cg_s5-6esg_1_w2CSU-488_s2_t130.tif', '40x_bin1_05_5min_s1-4Cg_s5-6esg_1_w2CSU-488_s1_t130.tif', '40x_bin1_05_5min_s1-4Cg_s5-6esg_1_w2CSU-488_s1_t13.tif', '40x_bin1_05_5min_s1-4Cg_s5-6esg_1_w2CSU-488_s2_t175.tif', '40x_bin1_05_5min_s1-4Cg_s5-6esg_1_w2CSU-488_s2_t32.tif', '40x_bin1_05_5min_s1-4Cg_s5-6esg_1_w2CSU-488_s2_t12.tif', '40x_bin1_05_5min_s1-4Cg_s5-6esg_1_w2CSU-488_s2_t189.tif', '40x_bin1_05_5min_s1-4Cg_s5-6esg_1_w2CSU-488_s2_t33.tif', '40x_bin1_05_5min_s1-4Cg_s5-6esg_1_w2CSU-488_s1_t23.tif', '40x_bin1_05_5min_s1-4Cg_s5-6esg_1_w2CSU-488_s2_t126.tif', '40x_bin1_05_5min_s1-4Cg_s5-6esg_1_w2CSU-488_s2_t26.tif', '40x_bin1_05_5min_s1-4Cg_s5-6esg_1_w2CSU-488_s1_t161.tif', '40x_bin1_05_5min_s1-4Cg_s5-6esg_1_w2CSU-488_s2_t14.tif', '40x_bin1_05_5min_s1-4Cg_s5-6esg_1_w2CSU-488_s2_t83.tif', '40x_bin1_05_5min_s1-4Cg_s5-6esg_1_w2CSU-488_s1_t11.tif', '40x_bin1_05_5min_s1-4Cg_s5-6esg_1_w2CSU-488_s1_t129.tif', '40x_bin1_05_5min_s1-4Cg_s5-6esg_1_w2CSU-488_s2_t141.tif', '40x_bin1_05_5min_s1-4Cg_s5-6esg_1_w2CSU-488_s1_t160.tif', '40x_bin1_05_5min_s1-4Cg_s5-6esg_1_w2CSU-488_s2_t99.tif', '40x_bin1_05_5min_s1-4Cg_s5-6esg_1_w2CSU-488_s2_t164.tif', '40x_bin1_05_5min_s1-4Cg_s5-6esg_1_w2CSU-488_s2_t4.tif', '40x_bin1_05_5min_s1-4Cg_s5-6esg_1_w2CSU-488_s2_t179.tif', '40x_bin1_05_5min_s1-4Cg_s5-6esg_1_w2CSU-488_s2_t21.tif', '40x_bin1_05_5min_s1-4Cg_s5-6esg_1_w2CSU-488_s2_t95.tif', '40x_bin1_05_5min_s1-4Cg_s5-6esg_1_w2CSU-488_s1_t145.tif', '40x_bin1_05_5min_s1-4Cg_s5-6esg_1_w2CSU-488_s2_t35.tif', '40x_bin1_05_5min_s1-4Cg_s5-6esg_1_w2CSU-488_s2_t82.tif', '40x_bin1_05_5min_s1-4Cg_s5-6esg_1_w2CSU-488_s2_t55.tif', '40x_bin1_05_5min_s1-4Cg_s5-6esg_1_w2CSU-488_s2_t94.tif', '40x_bin1_05_5min_s1-4Cg_s5-6esg_1_w2CSU-488_s2_t158.tif', '40x_bin1_05_5min_s1-4Cg_s5-6esg_1_w2CSU-488_s1_t180.tif', '40x_bin1_05_5min_s1-4Cg_s5-6esg_1_w2CSU-488_s2_t146.tif', '40x_bin1_05_5min_s1-4Cg_s5-6esg_1_w2CSU-488_s1_t150.tif', '40x_bin1_05_5min_s1-4Cg_s5-6esg_1_w2CSU-488_s2_t180.tif', '40x_bin1_05_5min_s1-4Cg_s5-6esg_1_w2CSU-488_s2_t61.tif', '40x_bin1_05_5min_s1-4Cg_s5-6esg_1_w2CSU-488_s2_t45.tif', '40x_bin1_05_5min_s1-4Cg_s5-6esg_1_w2CSU-488_s2_t184.tif', '40x_bin1_05_5min_s1-4Cg_s5-6esg_1_w2CSU-488_s2_t51.tif', '40x_bin1_05_5min_s1-4Cg_s5-6esg_1_w2CSU-488_s2_t155.tif', '40x_bin1_05_5min_s1-4Cg_s5-6esg_1_w2CSU-488_s1_t170.tif', '40x_bin1_05_5min_s1-4Cg_s5-6esg_1_w2CSU-488_s2_t58.tif', '40x_bin1_05_5min_s1-4Cg_s5-6esg_1_w2CSU-488_s1_t184.tif', '40x_bin1_05_5min_s1-4Cg_s5-6esg_1_w2CSU-488_s2_t167.tif', '40x_bin1_05_5min_s1-4Cg_s5-6esg_1_w2CSU-488_s2_t183.tif', '40x_bin1_05_5min_s1-4Cg_s5-6esg_1_w2CSU-488_s2_t25.tif', '40x_bin1_05_5min_s1-4Cg_s5-6esg_1_w2CSU-488_s2_t69.tif', '40x_bin1_05_5min_s1-4Cg_s5-6esg_1_w2CSU-488_s2_t113.tif', '40x_bin1_05_5min_s1-4Cg_s5-6esg_1_w2CSU-488_s2_t104.tif', '40x_bin1_05_5min_s1-4Cg_s5-6esg_1_w2CSU-488_s1_t151.tif', '40x_bin1_05_5min_s1-4Cg_s5-6esg_1_w2CSU-488_s1_t167.tif', '40x_bin1_05_5min_s1-4Cg_s5-6esg_1_w2CSU-488_s1_t147.tif', '40x_bin1_05_5min_s1-4Cg_s5-6esg_1_w2CSU-488_s1_t127.tif', '40x_bin1_05_5min_s1-4Cg_s5-6esg_1_w2CSU-488_s2_t93.tif', '40x_bin1_05_5min_s1-4Cg_s5-6esg_1_w2CSU-488_s2_t19.tif', '40x_bin1_05_5min_s1-4Cg_s5-6esg_1_w2CSU-488_s1_t154.tif', '40x_bin1_05_5min_s1-4Cg_s5-6esg_1_w2CSU-488_s2_t181.tif', '40x_bin1_05_5min_s1-4Cg_s5-6esg_1_w2CSU-488_s2_t112.tif', '40x_bin1_05_5min_s1-4Cg_s5-6esg_1_w2CSU-488_s2_t133.tif', '40x_bin1_05_5min_s1-4Cg_s5-6esg_1_w2CSU-488_s2_t1.tif', '40x_bin1_05_5min_s1-4Cg_s5-6esg_1_w2CSU-488_s2_t41.tif', '40x_bin1_05_5min_s1-4Cg_s5-6esg_1_w2CSU-488_s2_t121.tif', '40x_bin1_05_5min_s1-4Cg_s5-6esg_1_w2CSU-488_s2_t166.tif', '40x_bin1_05_5min_s1-4Cg_s5-6esg_1_w2CSU-488_s2_t70.tif', '40x_bin1_05_5min_s1-4Cg_s5-6esg_1_w2CSU-488_s1_t134.tif', '40x_bin1_05_5min_s1-4Cg_s5-6esg_1_w2CSU-488_s1_t166.tif', '40x_bin1_05_5min_s1-4Cg_s5-6esg_1_w2CSU-488_s2_t60.tif', '40x_bin1_05_5min_s1-4Cg_s5-6esg_1_w2CSU-488_s2_t128.tif', '40x_bin1_05_5min_s1-4Cg_s5-6esg_1_w2CSU-488_s1_t4.tif', '40x_bin1_05_5min_s1-4Cg_s5-6esg_1_w2CSU-488_s2_t38.tif', '40x_bin1_05_5min_s1-4Cg_s5-6esg_1_w2CSU-488_s1_t1.tif', '40x_bin1_05_5min_s1-4Cg_s5-6esg_1_w2CSU-488_s2_t66.tif', '40x_bin1_05_5min_s1-4Cg_s5-6esg_1_w2CSU-488_s2_t3.tif', '40x_bin1_05_5min_s1-4Cg_s5-6esg_1_w2CSU-488_s1_t132.tif', '40x_bin1_05_5min_s1-4Cg_s5-6esg_1_w2CSU-488_s2_t59.tif', '40x_bin1_05_5min_s1-4Cg_s5-6esg_1_w2CSU-488_s2_t20.tif', '40x_bin1_05_5min_s1-4Cg_s5-6esg_1_w2CSU-488_s1_t194.tif', '40x_bin1_05_5min_s1-4Cg_s5-6esg_1_w2CSU-488_s2_t111.tif', '40x_bin1_05_5min_s1-4Cg_s5-6esg_1_w2CSU-488_s2_t100.tif', '40x_bin1_05_5min_s1-4Cg_s5-6esg_1_w2CSU-488_s2_t157.tif', '40x_bin1_05_5min_s1-4Cg_s5-6esg_1_w2CSU-488_s2_t137.tif', '40x_bin1_05_5min_s1-4Cg_s5-6esg_1_w2CSU-488_s2_t190.tif', '40x_bin1_05_5min_s1-4Cg_s5-6esg_1_w2CSU-488_s1_t191.tif', '40x_bin1_05_5min_s1-4Cg_s5-6esg_1_w2CSU-488_s2_t102.tif', '40x_bin1_05_5min_s1-4Cg_s5-6esg_1_w2CSU-488_s1_t173.tif', '40x_bin1_05_5min_s1-4Cg_s5-6esg_1_w2CSU-488_s2_t96.tif', '40x_bin1_05_5min_s1-4Cg_s5-6esg_1_w2CSU-488_s2_t89.tif', '40x_bin1_05_5min_s1-4Cg_s5-6esg_1_w2CSU-488_s1_t2.tif', '40x_bin1_05_5min_s1-4Cg_s5-6esg_1_w2CSU-488_s1_t140.tif', '40x_bin1_05_5min_s1-4Cg_s5-6esg_1_w2CSU-488_s1_t168.tif', '40x_bin1_05_5min_s1-4Cg_s5-6esg_1_w2CSU-488_s2_t105.tif', '40x_bin1_05_5min_s1-4Cg_s5-6esg_1_w2CSU-488_s2_t64.tif', '40x_bin1_05_5min_s1-4Cg_s5-6esg_1_w2CSU-488_s1_t182.tif', '40x_bin1_05_5min_s1-4Cg_s5-6esg_1_w2CSU-488_s1_t172.tif', '40x_bin1_05_5min_s1-4Cg_s5-6esg_1_w2CSU-488_s1_t176.tif', '40x_bin1_05_5min_s1-4Cg_s5-6esg_1_w2CSU-488_s2_t22.tif', '40x_bin1_05_5min_s1-4Cg_s5-6esg_1_w2CSU-488_s2_t108.tif', '40x_bin1_05_5min_s1-4Cg_s5-6esg_1_w2CSU-488_s1_t165.tif', '40x_bin1_05_5min_s1-4Cg_s5-6esg_1_w2CSU-488_s2_t186.tif', '40x_bin1_05_5min_s1-4Cg_s5-6esg_1_w2CSU-488_s2_t127.tif', '40x_bin1_05_5min_s1-4Cg_s5-6esg_1_w2CSU-488_s2_t132.tif', '40x_bin1_05_5min_s1-4Cg_s5-6esg_1_w2CSU-488_s1_t133.tif', '40x_bin1_05_5min_s1-4Cg_s5-6esg_1_w2CSU-488_s1_t16.tif', '40x_bin1_05_5min_s1-4Cg_s5-6esg_1_w2CSU-488_s2_t75.tif', '40x_bin1_05_5min_s1-4Cg_s5-6esg_1_w2CSU-488_s2_t76.tif', '40x_bin1_05_5min_s1-4Cg_s5-6esg_1_w2CSU-488_s2_t17.tif', '40x_bin1_05_5min_s1-4Cg_s5-6esg_1_w2CSU-488_s2_t18.tif', '40x_bin1_05_5min_s1-4Cg_s5-6esg_1_w2CSU-488_s2_t145.tif', '40x_bin1_05_5min_s1-4Cg_s5-6esg_1_w2CSU-488_s2_t98.tif', '40x_bin1_05_5min_s1-4Cg_s5-6esg_1_w2CSU-488_s2_t78.tif', '40x_bin1_05_5min_s1-4Cg_s5-6esg_1_w2CSU-488_s1_t196.tif', '40x_bin1_05_5min_s1-4Cg_s5-6esg_1_w2CSU-488_s2_t197.tif', '40x_bin1_05_5min_s1-4Cg_s5-6esg_1_w2CSU-488_s1_t128.tif', '40x_bin1_05_5min_s1-4Cg_s5-6esg_1_w2CSU-488_s1_t149.tif', '40x_bin1_05_5min_s1-4Cg_s5-6esg_1_w2CSU-488_s2_t13.tif', '40x_bin1_05_5min_s1-4Cg_s5-6esg_1_w2CSU-488_s2_t156.tif', '40x_bin1_05_5min_s1-4Cg_s5-6esg_1_w2CSU-488_s2_t109.tif', '40x_bin1_05_5min_s1-4Cg_s5-6esg_1_w2CSU-488_s2_t192.tif', '40x_bin1_05_5min_s1-4Cg_s5-6esg_1_w2CSU-488_s2_t116.tif', '40x_bin1_05_5min_s1-4Cg_s5-6esg_1_w2CSU-488_s2_t177.tif', '40x_bin1_05_5min_s1-4Cg_s5-6esg_1_w2CSU-488_s2_t138.tif', '40x_bin1_05_5min_s1-4Cg_s5-6esg_1_w2CSU-488_s2_t134.tif', '40x_bin1_05_5min_s1-4Cg_s5-6esg_1_w2CSU-488_s2_t110.tif', '40x_bin1_05_5min_s1-4Cg_s5-6esg_1_w2CSU-488_s2_t152.tif', '40x_bin1_05_5min_s1-4Cg_s5-6esg_1_w2CSU-488_s2_t29.tif', '40x_bin1_05_5min_s1-4Cg_s5-6esg_1_w2CSU-488_s1_t22.tif', '40x_bin1_05_5min_s1-4Cg_s5-6esg_1_w2CSU-488_s2_t68.tif', '40x_bin1_05_5min_s1-4Cg_s5-6esg_1_w2CSU-488_s1_t195.tif', '40x_bin1_05_5min_s1-4Cg_s5-6esg_1_w2CSU-488_s2_t188.tif', '40x_bin1_05_5min_s1-4Cg_s5-6esg_1_w2CSU-488_s1_t6.tif', '40x_bin1_05_5min_s1-4Cg_s5-6esg_1_w2CSU-488_s1_t164.tif', '40x_bin1_05_5min_s1-4Cg_s5-6esg_1_w2CSU-488_s2_t198.tif', '40x_bin1_05_5min_s1-4Cg_s5-6esg_1_w2CSU-488_s2_t44.tif', '40x_bin1_05_5min_s1-4Cg_s5-6esg_1_w2CSU-488_s2_t195.tif', '40x_bin1_05_5min_s1-4Cg_s5-6esg_1_w2CSU-488_s2_t80.tif', '40x_bin1_05_5min_s1-4Cg_s5-6esg_1_w2CSU-488_s2_t168.tif', '40x_bin1_05_5min_s1-4Cg_s5-6esg_1_w2CSU-488_s2_t162.tif', '40x_bin1_05_5min_s1-4Cg_s5-6esg_1_w2CSU-488_s2_t122.tif', '40x_bin1_05_5min_s1-4Cg_s5-6esg_1_w2CSU-488_s2_t171.tif', '40x_bin1_05_5min_s1-4Cg_s5-6esg_1_w2CSU-488_s2_t40.tif', '40x_bin1_05_5min_s1-4Cg_s5-6esg_1_w2CSU-488_s2_t62.tif', '40x_bin1_05_5min_s1-4Cg_s5-6esg_1_w2CSU-488_s2_t46.tif', '40x_bin1_05_5min_s1-4Cg_s5-6esg_1_w2CSU-488_s1_t9.tif', '40x_bin1_05_5min_s1-4Cg_s5-6esg_1_w2CSU-488_s2_t39.tif', '40x_bin1_05_5min_s1-4Cg_s5-6esg_1_w2CSU-488_s2_t191.tif', '40x_bin1_05_5min_s1-4Cg_s5-6esg_1_w2CSU-488_s1_t185.tif', '40x_bin1_05_5min_s1-4Cg_s5-6esg_1_w2CSU-488_s2_t200.tif', '40x_bin1_05_5min_s1-4Cg_s5-6esg_1_w2CSU-488_s2_t106.tif', '40x_bin1_05_5min_s1-4Cg_s5-6esg_1_w2CSU-488_s2_t73.tif', '40x_bin1_05_5min_s1-4Cg_s5-6esg_1_w2CSU-488_s2_t7.tif', '40x_bin1_05_5min_s1-4Cg_s5-6esg_1_w2CSU-488_s2_t97.tif', '40x_bin1_05_5min_s1-4Cg_s5-6esg_1_w2CSU-488_s1_t155.tif', '40x_bin1_05_5min_s1-4Cg_s5-6esg_1_w2CSU-488_s2_t67.tif', '40x_bin1_05_5min_s1-4Cg_s5-6esg_1_w2CSU-488_s2_t196.tif', '40x_bin1_05_5min_s1-4Cg_s5-6esg_1_w2CSU-488_s2_t103.tif', '40x_bin1_05_5min_s1-4Cg_s5-6esg_1_w2CSU-488_s1_t146.tif', '40x_bin1_05_5min_s1-4Cg_s5-6esg_1_w2CSU-488_s2_t149.tif', '40x_bin1_05_5min_s1-4Cg_s5-6esg_1_w2CSU-488_s2_t123.tif', '40x_bin1_05_5min_s1-4Cg_s5-6esg_1_w2CSU-488_s2_t147.tif', '40x_bin1_05_5min_s1-4Cg_s5-6esg_1_w2CSU-488_s2_t117.tif', '40x_bin1_05_5min_s1-4Cg_s5-6esg_1_w2CSU-488_s2_t178.tif', '40x_bin1_05_5min_s1-4Cg_s5-6esg_1_w2CSU-488_s1_t148.tif', '40x_bin1_05_5min_s1-4Cg_s5-6esg_1_w2CSU-488_s2_t23.tif', '40x_bin1_05_5min_s1-4Cg_s5-6esg_1_w2CSU-488_s2_t194.tif', '40x_bin1_05_5min_s1-4Cg_s5-6esg_1_w2CSU-488_s2_t174.tif', '40x_bin1_05_5min_s1-4Cg_s5-6esg_1_w2CSU-488_s2_t56.tif', '40x_bin1_05_5min_s1-4Cg_s5-6esg_1_w2CSU-488_s1_t141.tif', '40x_bin1_05_5min_s1-4Cg_s5-6esg_1_w2CSU-488_s2_t91.tif', '40x_bin1_05_5min_s1-4Cg_s5-6esg_1_w2CSU-488_s2_t34.tif', '40x_bin1_05_5min_s1-4Cg_s5-6esg_1_w2CSU-488_s2_t15.tif', '40x_bin1_05_5min_s1-4Cg_s5-6esg_1_w2CSU-488_s2_t92.tif', '40x_bin1_05_5min_s1-4Cg_s5-6esg_1_w2CSU-488_s2_t151.tif', '40x_bin1_05_5min_s1-4Cg_s5-6esg_1_w2CSU-488_s2_t53.tif', '40x_bin1_05_5min_s1-4Cg_s5-6esg_1_w2CSU-488_s2_t199.tif', '40x_bin1_05_5min_s1-4Cg_s5-6esg_1_w2CSU-488_s2_t37.tif', '40x_bin1_05_5min_s1-4Cg_s5-6esg_1_w2CSU-488_s2_t140.tif', '40x_bin1_05_5min_s1-4Cg_s5-6esg_1_w2CSU-488_s2_t81.tif', '40x_bin1_05_5min_s1-4Cg_s5-6esg_1_w2CSU-488_s1_t197.tif', '40x_bin1_05_5min_s1-4Cg_s5-6esg_1_w2CSU-488_s2_t150.tif', '40x_bin1_05_5min_s1-4Cg_s5-6esg_1_w2CSU-488_s2_t27.tif', '40x_bin1_05_5min_s1-4Cg_s5-6esg_1_w2CSU-488_s2_t169.tif', '40x_bin1_05_5min_s1-4Cg_s5-6esg_1_w2CSU-488_s2_t160.tif', '40x_bin1_05_5min_s1-4Cg_s5-6esg_1_w2CSU-488_s1_t186.tif', '40x_bin1_05_5min_s1-4Cg_s5-6esg_1_w2CSU-488_s2_t72.tif', '40x_bin1_05_5min_s1-4Cg_s5-6esg_1_w2CSU-488_s1_t177.tif', '40x_bin1_05_5min_s1-4Cg_s5-6esg_1_w2CSU-488_s2_t16.tif', '40x_bin1_05_5min_s1-4Cg_s5-6esg_1_w2CSU-488_s2_t163.tif', '40x_bin1_05_5min_s1-4Cg_s5-6esg_1_w2CSU-488_s2_t131.tif', '40x_bin1_05_5min_s1-4Cg_s5-6esg_1_w2CSU-488_s1_t21.tif', '40x_bin1_05_5min_s1-4Cg_s5-6esg_1_w2CSU-488_s1_t19.tif', '40x_bin1_05_5min_s1-4Cg_s5-6esg_1_w2CSU-488_s2_t47.tif', '40x_bin1_05_5min_s1-4Cg_s5-6esg_1_w2CSU-488_s1_t199.tif', '40x_bin1_05_5min_s1-4Cg_s5-6esg_1_w2CSU-488_s2_t143.tif', '40x_bin1_05_5min_s1-4Cg_s5-6esg_1_w2CSU-488_s1_t137.tif', '40x_bin1_05_5min_s1-4Cg_s5-6esg_1_w2CSU-488_s2_t135.tif', '40x_bin1_05_5min_s1-4Cg_s5-6esg_1_w2CSU-488_s2_t48.tif', '40x_bin1_05_5min_s1-4Cg_s5-6esg_1_w2CSU-488_s2_t144.tif', '40x_bin1_05_5min_s1-4Cg_s5-6esg_1_w2CSU-488_s2_t172.tif', '40x_bin1_05_5min_s1-4Cg_s5-6esg_1_w2CSU-488_s2_t173.tif', '40x_bin1_05_5min_s1-4Cg_s5-6esg_1_w2CSU-488_s2_t24.tif', '40x_bin1_05_5min_s1-4Cg_s5-6esg_1_w2CSU-488_s2_t185.tif']\n",
      "299\n"
     ]
    }
   ],
   "source": [
    "raw_data = SelectRawData.from_folder (\n",
    "    basepath    = '/data/u934/service_imagerie/v_kapoor/CurieTrainingDatasets/Raw_Datasets/BorialisS1S2/ModelT300/',\n",
    "    source_dirs = ['Low'],\n",
    "    target_dir  = 'GT',\n",
    "    axes        = 'ZYX',\n",
    "    NumTrain = 100\n",
    ")"
   ]
  },
  {
   "cell_type": "code",
   "execution_count": null,
   "metadata": {},
   "outputs": [],
   "source": [
    "X, Y, XY_axes = create_patches (\n",
    "    raw_data            = raw_data,\n",
    "    patch_size          = (16,64,64),\n",
    "    n_patches_per_image = 512,\n",
    "    save_file           = '/data/u934/service_imagerie/v_kapoor/CurieTrainingDatasets/Drosophilla/BorialisSiS2Train.npz',\n",
    ")"
   ]
  },
  {
   "cell_type": "code",
   "execution_count": null,
   "metadata": {},
   "outputs": [],
   "source": [
    "assert X.shape == Y.shape\n",
    "print(\"shape of X,Y =\", X.shape)\n",
    "print(\"axes  of X,Y =\", XY_axes)"
   ]
  },
  {
   "cell_type": "code",
   "execution_count": null,
   "metadata": {
    "scrolled": true
   },
   "outputs": [],
   "source": [
    "for i in range(2):\n",
    "    plt.figure(figsize=(16,4))\n",
    "    sl = slice(8*i, 8*(i+1)), 0\n",
    "    plot_some(X[sl],Y[sl],title_list=[np.arange(sl[0].start,sl[0].stop)])\n",
    "    plt.show()\n",
    "None;"
   ]
  },
  {
   "cell_type": "code",
   "execution_count": null,
   "metadata": {},
   "outputs": [],
   "source": []
  },
  {
   "cell_type": "code",
   "execution_count": null,
   "metadata": {},
   "outputs": [],
   "source": []
  }
 ],
 "metadata": {
  "kernelspec": {
   "display_name": "Python [conda env:tensorflowpy3pt5]",
   "language": "python",
   "name": "conda-env-tensorflowpy3pt5-py"
  },
  "language_info": {
   "codemirror_mode": {
    "name": "ipython",
    "version": 3
   },
   "file_extension": ".py",
   "mimetype": "text/x-python",
   "name": "python",
   "nbconvert_exporter": "python",
   "pygments_lexer": "ipython3",
   "version": "3.5.5"
  }
 },
 "nbformat": 4,
 "nbformat_minor": 2
}
