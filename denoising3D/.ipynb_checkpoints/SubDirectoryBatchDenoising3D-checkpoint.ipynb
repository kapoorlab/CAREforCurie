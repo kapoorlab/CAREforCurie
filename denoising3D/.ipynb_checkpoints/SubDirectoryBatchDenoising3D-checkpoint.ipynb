{
 "cells": [
  {
   "cell_type": "code",
   "execution_count": 1,
   "metadata": {},
   "outputs": [
    {
     "name": "stderr",
     "output_type": "stream",
     "text": [
      "Using TensorFlow backend.\n"
     ]
    }
   ],
   "source": [
    "from __future__ import print_function, unicode_literals, absolute_import, division\n",
    "import numpy as np\n",
    "import matplotlib.pyplot as plt\n",
    "%matplotlib inline\n",
    "%config InlineBackend.figure_format = 'retina'\n",
    "import os\n",
    "import glob\n",
    "\n",
    "\n",
    "from tifffile import imread\n",
    "from csbdeep.utils import Path, download_and_extract_zip_file, plot_some\n",
    "from csbdeep.io import save_tiff_imagej_compatible\n",
    "from csbdeep.models import CARE\n",
    "\n"
   ]
  },
  {
   "cell_type": "code",
   "execution_count": 2,
   "metadata": {},
   "outputs": [
    {
     "name": "stdout",
     "output_type": "stream",
     "text": [
      "Loading network weights from 'weights_best.h5'.\n"
     ]
    }
   ],
   "source": [
    "masterdirLow = '/data/u934/service_imagerie/v_kapoor/Fl4-2-Var/STELLA/priority/'\n",
    "\n",
    "subdir = next(os.walk(masterdirLow))\n",
    "\n",
    "ModelName = 'BorialisS1S2FlorisMidNoiseModel'\n",
    "BaseDir = '/data/u934/service_imagerie/v_kapoor/CurieDeepLearningModels/'\n",
    "model = CARE(config = None, name = ModelName, basedir = BaseDir)\n",
    "axes = 'ZYX'\n",
    "smallaxes = 'YX'"
   ]
  },
  {
   "cell_type": "code",
   "execution_count": null,
   "metadata": {},
   "outputs": [
    {
     "name": "stdout",
     "output_type": "stream",
     "text": [
      "Saving file/data/u934/service_imagerie/v_kapoor/Fl4-2-Var/forFOLDERFutureRestoration/wt_ECadGFPki-hetero_24pre29_bin140x_mov6/3DResults/%s_40x_bin1_05_5min_1_w2CSU-488_s9_t122.tif\n"
     ]
    },
    {
     "name": "stderr",
     "output_type": "stream",
     "text": [
      "100%|██████████| 64/64 [03:35<00:00,  2.63s/it]  \n"
     ]
    },
    {
     "name": "stdout",
     "output_type": "stream",
     "text": [
      "Saving file/data/u934/service_imagerie/v_kapoor/Fl4-2-Var/forFOLDERFutureRestoration/wt_ECadGFPki-hetero_24pre29_bin140x_mov6/3DResults/%s_40x_bin1_05_5min_1_w2CSU-488_s9_t235.tif\n"
     ]
    },
    {
     "name": "stderr",
     "output_type": "stream",
     "text": [
      "100%|██████████| 64/64 [03:23<00:00,  2.65s/it]  \n"
     ]
    },
    {
     "name": "stdout",
     "output_type": "stream",
     "text": [
      "Saving file/data/u934/service_imagerie/v_kapoor/Fl4-2-Var/forFOLDERFutureRestoration/wt_ECadGFPki-hetero_24pre29_bin140x_mov6/3DResults/%s_40x_bin1_05_5min_1_w2CSU-488_s9_t31.tif\n"
     ]
    },
    {
     "name": "stderr",
     "output_type": "stream",
     "text": [
      "100%|██████████| 64/64 [03:21<00:00,  2.63s/it]  \n"
     ]
    },
    {
     "name": "stdout",
     "output_type": "stream",
     "text": [
      "Saving file/data/u934/service_imagerie/v_kapoor/Fl4-2-Var/forFOLDERFutureRestoration/wt_ECadGFPki-hetero_24pre29_bin140x_mov6/3DResults/%s_40x_bin1_05_5min_1_w2CSU-488_s9_t1.tif\n"
     ]
    },
    {
     "name": "stderr",
     "output_type": "stream",
     "text": [
      "100%|██████████| 64/64 [03:24<00:00,  2.69s/it]  \n"
     ]
    },
    {
     "name": "stdout",
     "output_type": "stream",
     "text": [
      "Saving file/data/u934/service_imagerie/v_kapoor/Fl4-2-Var/forFOLDERFutureRestoration/wt_ECadGFPki-hetero_24pre29_bin140x_mov6/3DResults/%s_40x_bin1_05_5min_1_w2CSU-488_s9_t159.tif\n"
     ]
    },
    {
     "name": "stderr",
     "output_type": "stream",
     "text": [
      "100%|██████████| 64/64 [03:22<00:00,  2.65s/it]  \n"
     ]
    },
    {
     "name": "stdout",
     "output_type": "stream",
     "text": [
      "Saving file/data/u934/service_imagerie/v_kapoor/Fl4-2-Var/forFOLDERFutureRestoration/wt_ECadGFPki-hetero_24pre29_bin140x_mov6/3DResults/%s_40x_bin1_05_5min_1_w2CSU-488_s9_t36.tif\n"
     ]
    },
    {
     "name": "stderr",
     "output_type": "stream",
     "text": [
      "100%|██████████| 64/64 [03:24<00:00,  2.67s/it]  \n"
     ]
    },
    {
     "name": "stdout",
     "output_type": "stream",
     "text": [
      "Saving file/data/u934/service_imagerie/v_kapoor/Fl4-2-Var/forFOLDERFutureRestoration/wt_ECadGFPki-hetero_24pre29_bin140x_mov6/3DResults/%s_40x_bin1_05_5min_1_w2CSU-488_s9_t188.tif\n"
     ]
    },
    {
     "name": "stderr",
     "output_type": "stream",
     "text": [
      "100%|██████████| 64/64 [03:23<00:00,  2.65s/it]  \n"
     ]
    },
    {
     "name": "stdout",
     "output_type": "stream",
     "text": [
      "Saving file/data/u934/service_imagerie/v_kapoor/Fl4-2-Var/forFOLDERFutureRestoration/wt_ECadGFPki-hetero_24pre29_bin140x_mov6/3DResults/%s_40x_bin1_05_5min_1_w2CSU-488_s9_t6.tif\n"
     ]
    },
    {
     "name": "stderr",
     "output_type": "stream",
     "text": [
      "100%|██████████| 64/64 [03:24<00:00,  2.65s/it]  \n"
     ]
    },
    {
     "name": "stdout",
     "output_type": "stream",
     "text": [
      "Saving file/data/u934/service_imagerie/v_kapoor/Fl4-2-Var/forFOLDERFutureRestoration/wt_ECadGFPki-hetero_24pre29_bin140x_mov6/3DResults/%s_40x_bin1_05_5min_1_w2CSU-488_s9_t125.tif\n"
     ]
    },
    {
     "name": "stderr",
     "output_type": "stream",
     "text": [
      "100%|██████████| 64/64 [03:23<00:00,  2.63s/it]  \n"
     ]
    },
    {
     "name": "stdout",
     "output_type": "stream",
     "text": [
      "Saving file/data/u934/service_imagerie/v_kapoor/Fl4-2-Var/forFOLDERFutureRestoration/wt_ECadGFPki-hetero_24pre29_bin140x_mov6/3DResults/%s_40x_bin1_05_5min_1_w2CSU-488_s9_t232.tif\n"
     ]
    },
    {
     "name": "stderr",
     "output_type": "stream",
     "text": [
      "100%|██████████| 64/64 [03:24<00:00,  2.69s/it]  \n"
     ]
    },
    {
     "name": "stdout",
     "output_type": "stream",
     "text": [
      "Saving file/data/u934/service_imagerie/v_kapoor/Fl4-2-Var/forFOLDERFutureRestoration/wt_ECadGFPki-hetero_24pre29_bin140x_mov6/3DResults/%s_40x_bin1_05_5min_1_w2CSU-488_s9_t38.tif\n"
     ]
    },
    {
     "name": "stderr",
     "output_type": "stream",
     "text": [
      "100%|██████████| 64/64 [03:22<00:00,  2.67s/it]  \n"
     ]
    },
    {
     "name": "stdout",
     "output_type": "stream",
     "text": [
      "Saving file/data/u934/service_imagerie/v_kapoor/Fl4-2-Var/forFOLDERFutureRestoration/wt_ECadGFPki-hetero_24pre29_bin140x_mov6/3DResults/%s_40x_bin1_05_5min_1_w2CSU-488_s9_t157.tif\n"
     ]
    },
    {
     "name": "stderr",
     "output_type": "stream",
     "text": [
      "100%|██████████| 64/64 [03:24<00:00,  2.66s/it]  \n"
     ]
    },
    {
     "name": "stdout",
     "output_type": "stream",
     "text": [
      "Saving file/data/u934/service_imagerie/v_kapoor/Fl4-2-Var/forFOLDERFutureRestoration/wt_ECadGFPki-hetero_24pre29_bin140x_mov6/3DResults/%s_40x_bin1_05_5min_1_w2CSU-488_s9_t240.tif\n"
     ]
    },
    {
     "name": "stderr",
     "output_type": "stream",
     "text": [
      "100%|██████████| 64/64 [03:22<00:00,  2.63s/it]  \n"
     ]
    },
    {
     "name": "stdout",
     "output_type": "stream",
     "text": [
      "Saving file/data/u934/service_imagerie/v_kapoor/Fl4-2-Var/forFOLDERFutureRestoration/wt_ECadGFPki-hetero_24pre29_bin140x_mov6/3DResults/%s_40x_bin1_05_5min_1_w2CSU-488_s9_t186.tif\n"
     ]
    },
    {
     "name": "stderr",
     "output_type": "stream",
     "text": [
      "100%|██████████| 64/64 [03:24<00:00,  2.66s/it]  \n"
     ]
    },
    {
     "name": "stdout",
     "output_type": "stream",
     "text": [
      "Saving file/data/u934/service_imagerie/v_kapoor/Fl4-2-Var/forFOLDERFutureRestoration/wt_ECadGFPki-hetero_24pre29_bin140x_mov6/3DResults/%s_40x_bin1_05_5min_1_w2CSU-488_s9_t8.tif\n"
     ]
    },
    {
     "name": "stderr",
     "output_type": "stream",
     "text": [
      "100%|██████████| 64/64 [03:21<00:00,  2.64s/it] \n"
     ]
    },
    {
     "name": "stdout",
     "output_type": "stream",
     "text": [
      "Saving file/data/u934/service_imagerie/v_kapoor/Fl4-2-Var/forFOLDERFutureRestoration/wt_ECadGFPki-hetero_24pre29_bin140x_mov6/3DResults/%s_40x_bin1_05_5min_1_w2CSU-488_s9_t44.tif\n"
     ]
    },
    {
     "name": "stderr",
     "output_type": "stream",
     "text": [
      "100%|██████████| 64/64 [03:24<00:00,  2.67s/it]  \n"
     ]
    },
    {
     "name": "stdout",
     "output_type": "stream",
     "text": [
      "Saving file/data/u934/service_imagerie/v_kapoor/Fl4-2-Var/forFOLDERFutureRestoration/wt_ECadGFPki-hetero_24pre29_bin140x_mov6/3DResults/%s_40x_bin1_05_5min_1_w2CSU-488_s9_t95.tif\n"
     ]
    },
    {
     "name": "stderr",
     "output_type": "stream",
     "text": [
      "100%|██████████| 64/64 [03:22<00:00,  2.66s/it]  \n"
     ]
    },
    {
     "name": "stdout",
     "output_type": "stream",
     "text": [
      "Saving file/data/u934/service_imagerie/v_kapoor/Fl4-2-Var/forFOLDERFutureRestoration/wt_ECadGFPki-hetero_24pre29_bin140x_mov6/3DResults/%s_40x_bin1_05_5min_1_w2CSU-488_s9_t43.tif\n"
     ]
    },
    {
     "name": "stderr",
     "output_type": "stream",
     "text": [
      "100%|██████████| 64/64 [03:24<00:00,  2.66s/it]  \n"
     ]
    },
    {
     "name": "stdout",
     "output_type": "stream",
     "text": [
      "Saving file/data/u934/service_imagerie/v_kapoor/Fl4-2-Var/forFOLDERFutureRestoration/wt_ECadGFPki-hetero_24pre29_bin140x_mov6/3DResults/%s_40x_bin1_05_5min_1_w2CSU-488_s9_t92.tif\n"
     ]
    },
    {
     "name": "stderr",
     "output_type": "stream",
     "text": [
      "100%|██████████| 64/64 [03:22<00:00,  2.64s/it]  \n"
     ]
    },
    {
     "name": "stdout",
     "output_type": "stream",
     "text": [
      "Saving file/data/u934/service_imagerie/v_kapoor/Fl4-2-Var/forFOLDERFutureRestoration/wt_ECadGFPki-hetero_24pre29_bin140x_mov6/3DResults/%s_40x_bin1_05_5min_1_w2CSU-488_s9_t150.tif\n"
     ]
    },
    {
     "name": "stderr",
     "output_type": "stream",
     "text": [
      "100%|██████████| 64/64 [03:24<00:00,  2.66s/it]  \n"
     ]
    },
    {
     "name": "stdout",
     "output_type": "stream",
     "text": [
      "Saving file/data/u934/service_imagerie/v_kapoor/Fl4-2-Var/forFOLDERFutureRestoration/wt_ECadGFPki-hetero_24pre29_bin140x_mov6/3DResults/%s_40x_bin1_05_5min_1_w2CSU-488_s9_t181.tif\n"
     ]
    },
    {
     "name": "stderr",
     "output_type": "stream",
     "text": [
      "100%|██████████| 64/64 [03:22<00:00,  2.64s/it]  \n"
     ]
    },
    {
     "name": "stdout",
     "output_type": "stream",
     "text": [
      "Saving file/data/u934/service_imagerie/v_kapoor/Fl4-2-Var/forFOLDERFutureRestoration/wt_ECadGFPki-hetero_24pre29_bin140x_mov6/3DResults/%s_40x_bin1_05_5min_1_w2CSU-488_s9_t119.tif\n"
     ]
    },
    {
     "name": "stderr",
     "output_type": "stream",
     "text": [
      "100%|██████████| 64/64 [03:24<00:00,  2.69s/it]  \n"
     ]
    },
    {
     "name": "stdout",
     "output_type": "stream",
     "text": [
      "Saving file/data/u934/service_imagerie/v_kapoor/Fl4-2-Var/forFOLDERFutureRestoration/wt_ECadGFPki-hetero_24pre29_bin140x_mov6/3DResults/%s_40x_bin1_05_5min_1_w2CSU-488_s9_t76.tif\n"
     ]
    },
    {
     "name": "stderr",
     "output_type": "stream",
     "text": [
      "100%|██████████| 64/64 [03:23<00:00,  2.66s/it]  \n"
     ]
    },
    {
     "name": "stdout",
     "output_type": "stream",
     "text": [
      "Saving file/data/u934/service_imagerie/v_kapoor/Fl4-2-Var/forFOLDERFutureRestoration/wt_ECadGFPki-hetero_24pre29_bin140x_mov6/3DResults/%s_40x_bin1_05_5min_1_w2CSU-488_s9_t165.tif\n"
     ]
    },
    {
     "name": "stderr",
     "output_type": "stream",
     "text": [
      "100%|██████████| 64/64 [03:24<00:00,  2.66s/it]  \n"
     ]
    },
    {
     "name": "stdout",
     "output_type": "stream",
     "text": [
      "Saving file/data/u934/service_imagerie/v_kapoor/Fl4-2-Var/forFOLDERFutureRestoration/wt_ECadGFPki-hetero_24pre29_bin140x_mov6/3DResults/%s_40x_bin1_05_5min_1_w2CSU-488_s9_t162.tif\n"
     ]
    },
    {
     "name": "stderr",
     "output_type": "stream",
     "text": [
      "100%|██████████| 64/64 [03:23<00:00,  2.64s/it]  \n"
     ]
    },
    {
     "name": "stdout",
     "output_type": "stream",
     "text": [
      "Saving file/data/u934/service_imagerie/v_kapoor/Fl4-2-Var/forFOLDERFutureRestoration/wt_ECadGFPki-hetero_24pre29_bin140x_mov6/3DResults/%s_40x_bin1_05_5min_1_w2CSU-488_s9_t209.tif\n"
     ]
    },
    {
     "name": "stderr",
     "output_type": "stream",
     "text": [
      "100%|██████████| 64/64 [03:24<00:00,  2.69s/it]  \n"
     ]
    },
    {
     "name": "stdout",
     "output_type": "stream",
     "text": [
      "Saving file/data/u934/service_imagerie/v_kapoor/Fl4-2-Var/forFOLDERFutureRestoration/wt_ECadGFPki-hetero_24pre29_bin140x_mov6/3DResults/%s_40x_bin1_05_5min_1_w2CSU-488_s9_t71.tif\n"
     ]
    },
    {
     "name": "stderr",
     "output_type": "stream",
     "text": [
      "100%|██████████| 64/64 [03:23<00:00,  2.65s/it]  \n"
     ]
    },
    {
     "name": "stdout",
     "output_type": "stream",
     "text": [
      "Saving file/data/u934/service_imagerie/v_kapoor/Fl4-2-Var/forFOLDERFutureRestoration/wt_ECadGFPki-hetero_24pre29_bin140x_mov6/3DResults/%s_40x_bin1_05_5min_1_w2CSU-488_s9_t207.tif\n"
     ]
    },
    {
     "name": "stderr",
     "output_type": "stream",
     "text": [
      "100%|██████████| 64/64 [03:23<00:00,  2.65s/it]  \n"
     ]
    },
    {
     "name": "stdout",
     "output_type": "stream",
     "text": [
      "Saving file/data/u934/service_imagerie/v_kapoor/Fl4-2-Var/forFOLDERFutureRestoration/wt_ECadGFPki-hetero_24pre29_bin140x_mov6/3DResults/%s_40x_bin1_05_5min_1_w2CSU-488_s9_t110.tif\n"
     ]
    },
    {
     "name": "stderr",
     "output_type": "stream",
     "text": [
      "100%|██████████| 64/64 [03:23<00:00,  2.64s/it]  \n"
     ]
    },
    {
     "name": "stdout",
     "output_type": "stream",
     "text": [
      "Saving file/data/u934/service_imagerie/v_kapoor/Fl4-2-Var/forFOLDERFutureRestoration/wt_ECadGFPki-hetero_24pre29_bin140x_mov6/3DResults/%s_40x_bin1_05_5min_1_w2CSU-488_s9_t200.tif\n"
     ]
    },
    {
     "name": "stderr",
     "output_type": "stream",
     "text": [
      "100%|██████████| 64/64 [03:24<00:00,  2.67s/it]  \n"
     ]
    },
    {
     "name": "stdout",
     "output_type": "stream",
     "text": [
      "Saving file/data/u934/service_imagerie/v_kapoor/Fl4-2-Var/forFOLDERFutureRestoration/wt_ECadGFPki-hetero_24pre29_bin140x_mov6/3DResults/%s_40x_bin1_05_5min_1_w2CSU-488_s9_t78.tif\n"
     ]
    },
    {
     "name": "stderr",
     "output_type": "stream",
     "text": [
      "100%|██████████| 64/64 [03:23<00:00,  2.65s/it]  \n"
     ]
    },
    {
     "name": "stdout",
     "output_type": "stream",
     "text": [
      "Saving file/data/u934/service_imagerie/v_kapoor/Fl4-2-Var/forFOLDERFutureRestoration/wt_ECadGFPki-hetero_24pre29_bin140x_mov6/3DResults/%s_40x_bin1_05_5min_1_w2CSU-488_s9_t117.tif\n"
     ]
    },
    {
     "name": "stderr",
     "output_type": "stream",
     "text": [
      "100%|██████████| 64/64 [03:24<00:00,  2.69s/it]  \n"
     ]
    },
    {
     "name": "stdout",
     "output_type": "stream",
     "text": [
      "Saving file/data/u934/service_imagerie/v_kapoor/Fl4-2-Var/forFOLDERFutureRestoration/wt_ECadGFPki-hetero_24pre29_bin140x_mov6/3DResults/%s_40x_bin1_05_5min_1_w2CSU-488_s9_t106.tif\n"
     ]
    },
    {
     "name": "stderr",
     "output_type": "stream",
     "text": [
      "100%|██████████| 64/64 [03:22<00:00,  2.64s/it]  \n"
     ]
    },
    {
     "name": "stdout",
     "output_type": "stream",
     "text": [
      "Saving file/data/u934/service_imagerie/v_kapoor/Fl4-2-Var/forFOLDERFutureRestoration/wt_ECadGFPki-hetero_24pre29_bin140x_mov6/3DResults/%s_40x_bin1_05_5min_1_w2CSU-488_s9_t69.tif\n"
     ]
    },
    {
     "name": "stderr",
     "output_type": "stream",
     "text": [
      "100%|██████████| 64/64 [03:24<00:00,  2.67s/it]  \n"
     ]
    },
    {
     "name": "stdout",
     "output_type": "stream",
     "text": [
      "Saving file/data/u934/service_imagerie/v_kapoor/Fl4-2-Var/forFOLDERFutureRestoration/wt_ECadGFPki-hetero_24pre29_bin140x_mov6/3DResults/%s_40x_bin1_05_5min_1_w2CSU-488_s9_t211.tif\n"
     ]
    },
    {
     "name": "stderr",
     "output_type": "stream",
     "text": [
      "100%|██████████| 64/64 [03:22<00:00,  2.65s/it]  \n"
     ]
    },
    {
     "name": "stdout",
     "output_type": "stream",
     "text": [
      "Saving file/data/u934/service_imagerie/v_kapoor/Fl4-2-Var/forFOLDERFutureRestoration/wt_ECadGFPki-hetero_24pre29_bin140x_mov6/3DResults/%s_40x_bin1_05_5min_1_w2CSU-488_s9_t15.tif\n"
     ]
    },
    {
     "name": "stderr",
     "output_type": "stream",
     "text": [
      "100%|██████████| 64/64 [03:24<00:00,  2.65s/it]  \n"
     ]
    },
    {
     "name": "stdout",
     "output_type": "stream",
     "text": [
      "Saving file/data/u934/service_imagerie/v_kapoor/Fl4-2-Var/forFOLDERFutureRestoration/wt_ECadGFPki-hetero_24pre29_bin140x_mov6/3DResults/%s_40x_bin1_05_5min_1_w2CSU-488_s9_t12.tif\n"
     ]
    },
    {
     "name": "stderr",
     "output_type": "stream",
     "text": [
      "100%|██████████| 64/64 [03:23<00:00,  2.65s/it]  \n"
     ]
    },
    {
     "name": "stdout",
     "output_type": "stream",
     "text": [
      "Saving file/data/u934/service_imagerie/v_kapoor/Fl4-2-Var/forFOLDERFutureRestoration/wt_ECadGFPki-hetero_24pre29_bin140x_mov6/3DResults/%s_40x_bin1_05_5min_1_w2CSU-488_s9_t101.tif\n"
     ]
    },
    {
     "name": "stderr",
     "output_type": "stream",
     "text": [
      "100%|██████████| 64/64 [03:24<00:00,  2.66s/it]  \n"
     ]
    },
    {
     "name": "stdout",
     "output_type": "stream",
     "text": [
      "Saving file/data/u934/service_imagerie/v_kapoor/Fl4-2-Var/forFOLDERFutureRestoration/wt_ECadGFPki-hetero_24pre29_bin140x_mov6/3DResults/%s_40x_bin1_05_5min_1_w2CSU-488_s9_t216.tif\n"
     ]
    },
    {
     "name": "stderr",
     "output_type": "stream",
     "text": [
      "100%|██████████| 64/64 [03:23<00:00,  2.66s/it]  \n"
     ]
    },
    {
     "name": "stdout",
     "output_type": "stream",
     "text": [
      "Saving file/data/u934/service_imagerie/v_kapoor/Fl4-2-Var/forFOLDERFutureRestoration/wt_ECadGFPki-hetero_24pre29_bin140x_mov6/3DResults/%s_40x_bin1_05_5min_1_w2CSU-488_s9_t173.tif\n"
     ]
    },
    {
     "name": "stderr",
     "output_type": "stream",
     "text": [
      "100%|██████████| 64/64 [03:25<00:00,  2.67s/it]  \n"
     ]
    },
    {
     "name": "stdout",
     "output_type": "stream",
     "text": [
      "Saving file/data/u934/service_imagerie/v_kapoor/Fl4-2-Var/forFOLDERFutureRestoration/wt_ECadGFPki-hetero_24pre29_bin140x_mov6/3DResults/%s_40x_bin1_05_5min_1_w2CSU-488_s9_t60.tif\n"
     ]
    },
    {
     "name": "stderr",
     "output_type": "stream",
     "text": [
      "100%|██████████| 64/64 [03:23<00:00,  2.65s/it]  \n"
     ]
    },
    {
     "name": "stdout",
     "output_type": "stream",
     "text": [
      "Saving file/data/u934/service_imagerie/v_kapoor/Fl4-2-Var/forFOLDERFutureRestoration/wt_ECadGFPki-hetero_24pre29_bin140x_mov6/3DResults/%s_40x_bin1_05_5min_1_w2CSU-488_s9_t218.tif\n"
     ]
    },
    {
     "name": "stderr",
     "output_type": "stream",
     "text": [
      "100%|██████████| 64/64 [03:25<00:00,  2.66s/it]  \n"
     ]
    },
    {
     "name": "stdout",
     "output_type": "stream",
     "text": [
      "Saving file/data/u934/service_imagerie/v_kapoor/Fl4-2-Var/forFOLDERFutureRestoration/wt_ECadGFPki-hetero_24pre29_bin140x_mov6/3DResults/%s_40x_bin1_05_5min_1_w2CSU-488_s9_t67.tif\n"
     ]
    },
    {
     "name": "stderr",
     "output_type": "stream",
     "text": [
      "100%|██████████| 64/64 [03:22<00:00,  2.64s/it]  \n"
     ]
    },
    {
     "name": "stdout",
     "output_type": "stream",
     "text": [
      "Saving file/data/u934/service_imagerie/v_kapoor/Fl4-2-Var/forFOLDERFutureRestoration/wt_ECadGFPki-hetero_24pre29_bin140x_mov6/3DResults/%s_40x_bin1_05_5min_1_w2CSU-488_s9_t108.tif\n"
     ]
    },
    {
     "name": "stderr",
     "output_type": "stream",
     "text": [
      "100%|██████████| 64/64 [03:24<00:00,  2.65s/it]  \n"
     ]
    },
    {
     "name": "stdout",
     "output_type": "stream",
     "text": [
      "Saving file/data/u934/service_imagerie/v_kapoor/Fl4-2-Var/forFOLDERFutureRestoration/wt_ECadGFPki-hetero_24pre29_bin140x_mov6/3DResults/%s_40x_bin1_05_5min_1_w2CSU-488_s9_t174.tif\n"
     ]
    },
    {
     "name": "stderr",
     "output_type": "stream",
     "text": [
      "100%|██████████| 64/64 [03:22<00:00,  2.64s/it]  \n"
     ]
    },
    {
     "name": "stdout",
     "output_type": "stream",
     "text": [
      "Saving file/data/u934/service_imagerie/v_kapoor/Fl4-2-Var/forFOLDERFutureRestoration/wt_ECadGFPki-hetero_24pre29_bin140x_mov6/3DResults/%s_40x_bin1_05_5min_1_w2CSU-488_s9_t83.tif\n"
     ]
    },
    {
     "name": "stderr",
     "output_type": "stream",
     "text": [
      "100%|██████████| 64/64 [03:25<00:00,  2.69s/it]  \n"
     ]
    },
    {
     "name": "stdout",
     "output_type": "stream",
     "text": [
      "Saving file/data/u934/service_imagerie/v_kapoor/Fl4-2-Var/forFOLDERFutureRestoration/wt_ECadGFPki-hetero_24pre29_bin140x_mov6/3DResults/%s_40x_bin1_05_5min_1_w2CSU-488_s9_t52.tif\n"
     ]
    },
    {
     "name": "stderr",
     "output_type": "stream",
     "text": [
      "100%|██████████| 64/64 [03:22<00:00,  2.64s/it]  \n"
     ]
    },
    {
     "name": "stdout",
     "output_type": "stream",
     "text": [
      "Saving file/data/u934/service_imagerie/v_kapoor/Fl4-2-Var/forFOLDERFutureRestoration/wt_ECadGFPki-hetero_24pre29_bin140x_mov6/3DResults/%s_40x_bin1_05_5min_1_w2CSU-488_s9_t190.tif\n"
     ]
    },
    {
     "name": "stderr",
     "output_type": "stream",
     "text": [
      "100%|██████████| 64/64 [03:24<00:00,  2.66s/it]  \n"
     ]
    },
    {
     "name": "stdout",
     "output_type": "stream",
     "text": [
      "Saving file/data/u934/service_imagerie/v_kapoor/Fl4-2-Var/forFOLDERFutureRestoration/wt_ECadGFPki-hetero_24pre29_bin140x_mov6/3DResults/%s_40x_bin1_05_5min_1_w2CSU-488_s9_t141.tif\n"
     ]
    },
    {
     "name": "stderr",
     "output_type": "stream",
     "text": [
      "100%|██████████| 64/64 [03:21<00:00,  2.64s/it]  \n"
     ]
    },
    {
     "name": "stdout",
     "output_type": "stream",
     "text": [
      "Saving file/data/u934/service_imagerie/v_kapoor/Fl4-2-Var/forFOLDERFutureRestoration/wt_ECadGFPki-hetero_24pre29_bin140x_mov6/3DResults/%s_40x_bin1_05_5min_1_w2CSU-488_s9_t197.tif\n"
     ]
    },
    {
     "name": "stderr",
     "output_type": "stream",
     "text": [
      "100%|██████████| 64/64 [03:24<00:00,  2.68s/it]  \n"
     ]
    },
    {
     "name": "stdout",
     "output_type": "stream",
     "text": [
      "Saving file/data/u934/service_imagerie/v_kapoor/Fl4-2-Var/forFOLDERFutureRestoration/wt_ECadGFPki-hetero_24pre29_bin140x_mov6/3DResults/%s_40x_bin1_05_5min_1_w2CSU-488_s9_t146.tif\n"
     ]
    },
    {
     "name": "stderr",
     "output_type": "stream",
     "text": [
      "100%|██████████| 64/64 [03:23<00:00,  2.67s/it]  \n"
     ]
    },
    {
     "name": "stdout",
     "output_type": "stream",
     "text": [
      "Saving file/data/u934/service_imagerie/v_kapoor/Fl4-2-Var/forFOLDERFutureRestoration/wt_ECadGFPki-hetero_24pre29_bin140x_mov6/3DResults/%s_40x_bin1_05_5min_1_w2CSU-488_s9_t29.tif\n"
     ]
    },
    {
     "name": "stderr",
     "output_type": "stream",
     "text": [
      "100%|██████████| 64/64 [03:24<00:00,  2.68s/it]  \n"
     ]
    },
    {
     "name": "stdout",
     "output_type": "stream",
     "text": [
      "Saving file/data/u934/service_imagerie/v_kapoor/Fl4-2-Var/forFOLDERFutureRestoration/wt_ECadGFPki-hetero_24pre29_bin140x_mov6/3DResults/%s_40x_bin1_05_5min_1_w2CSU-488_s9_t84.tif\n"
     ]
    },
    {
     "name": "stderr",
     "output_type": "stream",
     "text": [
      "100%|██████████| 64/64 [03:22<00:00,  2.63s/it]  \n"
     ]
    },
    {
     "name": "stdout",
     "output_type": "stream",
     "text": [
      "Saving file/data/u934/service_imagerie/v_kapoor/Fl4-2-Var/forFOLDERFutureRestoration/wt_ECadGFPki-hetero_24pre29_bin140x_mov6/3DResults/%s_40x_bin1_05_5min_1_w2CSU-488_s9_t55.tif\n"
     ]
    },
    {
     "name": "stderr",
     "output_type": "stream",
     "text": [
      "100%|██████████| 64/64 [03:23<00:00,  2.67s/it]  \n"
     ]
    },
    {
     "name": "stdout",
     "output_type": "stream",
     "text": [
      "Saving file/data/u934/service_imagerie/v_kapoor/Fl4-2-Var/forFOLDERFutureRestoration/wt_ECadGFPki-hetero_24pre29_bin140x_mov6/3DResults/%s_40x_bin1_05_5min_1_w2CSU-488_s9_t199.tif\n"
     ]
    },
    {
     "name": "stderr",
     "output_type": "stream",
     "text": [
      "100%|██████████| 64/64 [03:22<00:00,  2.63s/it]  \n"
     ]
    },
    {
     "name": "stdout",
     "output_type": "stream",
     "text": [
      "Saving file/data/u934/service_imagerie/v_kapoor/Fl4-2-Var/forFOLDERFutureRestoration/wt_ECadGFPki-hetero_24pre29_bin140x_mov6/3DResults/%s_40x_bin1_05_5min_1_w2CSU-488_s9_t27.tif\n"
     ]
    },
    {
     "name": "stderr",
     "output_type": "stream",
     "text": [
      "100%|██████████| 64/64 [03:23<00:00,  2.66s/it]  \n"
     ]
    },
    {
     "name": "stdout",
     "output_type": "stream",
     "text": [
      "Saving file/data/u934/service_imagerie/v_kapoor/Fl4-2-Var/forFOLDERFutureRestoration/wt_ECadGFPki-hetero_24pre29_bin140x_mov6/3DResults/%s_40x_bin1_05_5min_1_w2CSU-488_s9_t148.tif\n"
     ]
    },
    {
     "name": "stderr",
     "output_type": "stream",
     "text": [
      "100%|██████████| 64/64 [03:21<00:00,  2.64s/it]  \n"
     ]
    },
    {
     "name": "stdout",
     "output_type": "stream",
     "text": [
      "Saving file/data/u934/service_imagerie/v_kapoor/Fl4-2-Var/forFOLDERFutureRestoration/wt_ECadGFPki-hetero_24pre29_bin140x_mov6/3DResults/%s_40x_bin1_05_5min_1_w2CSU-488_s9_t223.tif\n"
     ]
    },
    {
     "name": "stderr",
     "output_type": "stream",
     "text": [
      "100%|██████████| 64/64 [03:23<00:00,  2.66s/it]  \n"
     ]
    },
    {
     "name": "stdout",
     "output_type": "stream",
     "text": [
      "Saving file/data/u934/service_imagerie/v_kapoor/Fl4-2-Var/forFOLDERFutureRestoration/wt_ECadGFPki-hetero_24pre29_bin140x_mov6/3DResults/%s_40x_bin1_05_5min_1_w2CSU-488_s9_t134.tif\n"
     ]
    },
    {
     "name": "stderr",
     "output_type": "stream",
     "text": [
      "100%|██████████| 64/64 [03:22<00:00,  2.64s/it]  \n"
     ]
    },
    {
     "name": "stdout",
     "output_type": "stream",
     "text": [
      "Saving file/data/u934/service_imagerie/v_kapoor/Fl4-2-Var/forFOLDERFutureRestoration/wt_ECadGFPki-hetero_24pre29_bin140x_mov6/3DResults/%s_40x_bin1_05_5min_1_w2CSU-488_s9_t224.tif\n"
     ]
    },
    {
     "name": "stderr",
     "output_type": "stream",
     "text": [
      "100%|██████████| 64/64 [03:24<00:00,  2.66s/it]  \n"
     ]
    },
    {
     "name": "stdout",
     "output_type": "stream",
     "text": [
      "Saving file/data/u934/service_imagerie/v_kapoor/Fl4-2-Var/forFOLDERFutureRestoration/wt_ECadGFPki-hetero_24pre29_bin140x_mov6/3DResults/%s_40x_bin1_05_5min_1_w2CSU-488_s9_t133.tif\n"
     ]
    },
    {
     "name": "stderr",
     "output_type": "stream",
     "text": [
      "100%|██████████| 64/64 [03:23<00:00,  2.67s/it]  \n"
     ]
    },
    {
     "name": "stdout",
     "output_type": "stream",
     "text": [
      "Saving file/data/u934/service_imagerie/v_kapoor/Fl4-2-Var/forFOLDERFutureRestoration/wt_ECadGFPki-hetero_24pre29_bin140x_mov6/3DResults/%s_40x_bin1_05_5min_1_w2CSU-488_s9_t20.tif\n"
     ]
    },
    {
     "name": "stderr",
     "output_type": "stream",
     "text": [
      "100%|██████████| 64/64 [03:24<00:00,  2.68s/it]  \n"
     ]
    },
    {
     "name": "stdout",
     "output_type": "stream",
     "text": [
      "Saving file/data/u934/service_imagerie/v_kapoor/Fl4-2-Var/forFOLDERFutureRestoration/wt_ECadGFPki-hetero_24pre29_bin140x_mov6/3DResults/%s_40x_bin1_05_5min_1_w2CSU-488_s9_t201.tif\n"
     ]
    },
    {
     "name": "stderr",
     "output_type": "stream",
     "text": [
      "100%|██████████| 64/64 [03:24<00:00,  2.65s/it]  \n"
     ]
    },
    {
     "name": "stdout",
     "output_type": "stream",
     "text": [
      "Saving file/data/u934/service_imagerie/v_kapoor/Fl4-2-Var/forFOLDERFutureRestoration/wt_ECadGFPki-hetero_24pre29_bin140x_mov6/3DResults/%s_40x_bin1_05_5min_1_w2CSU-488_s9_t116.tif\n"
     ]
    },
    {
     "name": "stderr",
     "output_type": "stream",
     "text": [
      "100%|██████████| 64/64 [03:24<00:00,  2.69s/it]  \n"
     ]
    },
    {
     "name": "stdout",
     "output_type": "stream",
     "text": [
      "Saving file/data/u934/service_imagerie/v_kapoor/Fl4-2-Var/forFOLDERFutureRestoration/wt_ECadGFPki-hetero_24pre29_bin140x_mov6/3DResults/%s_40x_bin1_05_5min_1_w2CSU-488_s9_t79.tif\n"
     ]
    },
    {
     "name": "stderr",
     "output_type": "stream",
     "text": [
      "100%|██████████| 64/64 [03:23<00:00,  2.67s/it]  \n"
     ]
    },
    {
     "name": "stdout",
     "output_type": "stream",
     "text": [
      "Saving file/data/u934/service_imagerie/v_kapoor/Fl4-2-Var/forFOLDERFutureRestoration/wt_ECadGFPki-hetero_24pre29_bin140x_mov6/3DResults/%s_40x_bin1_05_5min_1_w2CSU-488_s9_t206.tif\n"
     ]
    },
    {
     "name": "stderr",
     "output_type": "stream",
     "text": [
      "100%|██████████| 64/64 [03:25<00:00,  2.66s/it]  \n"
     ]
    },
    {
     "name": "stdout",
     "output_type": "stream",
     "text": [
      "Saving file/data/u934/service_imagerie/v_kapoor/Fl4-2-Var/forFOLDERFutureRestoration/wt_ECadGFPki-hetero_24pre29_bin140x_mov6/3DResults/%s_40x_bin1_05_5min_1_w2CSU-488_s9_t111.tif\n"
     ]
    },
    {
     "name": "stderr",
     "output_type": "stream",
     "text": [
      "100%|██████████| 64/64 [03:22<00:00,  2.66s/it]  \n"
     ]
    },
    {
     "name": "stdout",
     "output_type": "stream",
     "text": [
      "Saving file/data/u934/service_imagerie/v_kapoor/Fl4-2-Var/forFOLDERFutureRestoration/wt_ECadGFPki-hetero_24pre29_bin140x_mov6/3DResults/%s_40x_bin1_05_5min_1_w2CSU-488_s9_t163.tif\n"
     ]
    },
    {
     "name": "stderr",
     "output_type": "stream",
     "text": [
      "100%|██████████| 64/64 [03:24<00:00,  2.67s/it]  \n"
     ]
    },
    {
     "name": "stdout",
     "output_type": "stream",
     "text": [
      "Saving file/data/u934/service_imagerie/v_kapoor/Fl4-2-Var/forFOLDERFutureRestoration/wt_ECadGFPki-hetero_24pre29_bin140x_mov6/3DResults/%s_40x_bin1_05_5min_1_w2CSU-488_s9_t208.tif\n"
     ]
    },
    {
     "name": "stderr",
     "output_type": "stream",
     "text": [
      "100%|██████████| 64/64 [03:23<00:00,  2.68s/it]  \n"
     ]
    },
    {
     "name": "stdout",
     "output_type": "stream",
     "text": [
      "Saving file/data/u934/service_imagerie/v_kapoor/Fl4-2-Var/forFOLDERFutureRestoration/wt_ECadGFPki-hetero_24pre29_bin140x_mov6/3DResults/%s_40x_bin1_05_5min_1_w2CSU-488_s9_t70.tif\n"
     ]
    },
    {
     "name": "stderr",
     "output_type": "stream",
     "text": [
      "100%|██████████| 64/64 [03:24<00:00,  2.65s/it]  \n"
     ]
    },
    {
     "name": "stdout",
     "output_type": "stream",
     "text": [
      "Saving file/data/u934/service_imagerie/v_kapoor/Fl4-2-Var/forFOLDERFutureRestoration/wt_ECadGFPki-hetero_24pre29_bin140x_mov6/3DResults/%s_40x_bin1_05_5min_1_w2CSU-488_s9_t77.tif\n"
     ]
    },
    {
     "name": "stderr",
     "output_type": "stream",
     "text": [
      "100%|██████████| 64/64 [03:23<00:00,  2.67s/it]  \n"
     ]
    },
    {
     "name": "stdout",
     "output_type": "stream",
     "text": [
      "Saving file/data/u934/service_imagerie/v_kapoor/Fl4-2-Var/forFOLDERFutureRestoration/wt_ECadGFPki-hetero_24pre29_bin140x_mov6/3DResults/%s_40x_bin1_05_5min_1_w2CSU-488_s9_t118.tif\n"
     ]
    },
    {
     "name": "stderr",
     "output_type": "stream",
     "text": [
      "100%|██████████| 64/64 [03:25<00:00,  2.65s/it]  \n"
     ]
    },
    {
     "name": "stdout",
     "output_type": "stream",
     "text": [
      "Saving file/data/u934/service_imagerie/v_kapoor/Fl4-2-Var/forFOLDERFutureRestoration/wt_ECadGFPki-hetero_24pre29_bin140x_mov6/3DResults/%s_40x_bin1_05_5min_1_w2CSU-488_s9_t164.tif\n"
     ]
    },
    {
     "name": "stderr",
     "output_type": "stream",
     "text": [
      "100%|██████████| 64/64 [03:22<00:00,  2.63s/it]  \n"
     ]
    },
    {
     "name": "stdout",
     "output_type": "stream",
     "text": [
      "Saving file/data/u934/service_imagerie/v_kapoor/Fl4-2-Var/forFOLDERFutureRestoration/wt_ECadGFPki-hetero_24pre29_bin140x_mov6/3DResults/%s_40x_bin1_05_5min_1_w2CSU-488_s9_t42.tif\n"
     ]
    },
    {
     "name": "stderr",
     "output_type": "stream",
     "text": [
      "100%|██████████| 64/64 [03:24<00:00,  2.65s/it]  \n"
     ]
    },
    {
     "name": "stdout",
     "output_type": "stream",
     "text": [
      "Saving file/data/u934/service_imagerie/v_kapoor/Fl4-2-Var/forFOLDERFutureRestoration/wt_ECadGFPki-hetero_24pre29_bin140x_mov6/3DResults/%s_40x_bin1_05_5min_1_w2CSU-488_s9_t93.tif\n"
     ]
    },
    {
     "name": "stderr",
     "output_type": "stream",
     "text": [
      "100%|██████████| 64/64 [03:22<00:00,  2.64s/it]  \n"
     ]
    },
    {
     "name": "stdout",
     "output_type": "stream",
     "text": [
      "Saving file/data/u934/service_imagerie/v_kapoor/Fl4-2-Var/forFOLDERFutureRestoration/wt_ECadGFPki-hetero_24pre29_bin140x_mov6/3DResults/%s_40x_bin1_05_5min_1_w2CSU-488_s9_t151.tif\n"
     ]
    },
    {
     "name": "stderr",
     "output_type": "stream",
     "text": [
      "100%|██████████| 64/64 [03:24<00:00,  2.66s/it]  \n"
     ]
    },
    {
     "name": "stdout",
     "output_type": "stream",
     "text": [
      "Saving file/data/u934/service_imagerie/v_kapoor/Fl4-2-Var/forFOLDERFutureRestoration/wt_ECadGFPki-hetero_24pre29_bin140x_mov6/3DResults/%s_40x_bin1_05_5min_1_w2CSU-488_s9_t180.tif\n"
     ]
    },
    {
     "name": "stderr",
     "output_type": "stream",
     "text": [
      "100%|██████████| 64/64 [03:23<00:00,  2.67s/it]  \n"
     ]
    },
    {
     "name": "stdout",
     "output_type": "stream",
     "text": [
      "Saving file/data/u934/service_imagerie/v_kapoor/Fl4-2-Var/forFOLDERFutureRestoration/wt_ECadGFPki-hetero_24pre29_bin140x_mov6/3DResults/%s_40x_bin1_05_5min_1_w2CSU-488_s9_t156.tif\n"
     ]
    },
    {
     "name": "stderr",
     "output_type": "stream",
     "text": [
      "100%|██████████| 64/64 [03:25<00:00,  2.66s/it]  \n"
     ]
    },
    {
     "name": "stdout",
     "output_type": "stream",
     "text": [
      "Saving file/data/u934/service_imagerie/v_kapoor/Fl4-2-Var/forFOLDERFutureRestoration/wt_ECadGFPki-hetero_24pre29_bin140x_mov6/3DResults/%s_40x_bin1_05_5min_1_w2CSU-488_s9_t39.tif\n"
     ]
    },
    {
     "name": "stderr",
     "output_type": "stream",
     "text": [
      "100%|██████████| 64/64 [03:22<00:00,  2.64s/it]  \n"
     ]
    },
    {
     "name": "stdout",
     "output_type": "stream",
     "text": [
      "Saving file/data/u934/service_imagerie/v_kapoor/Fl4-2-Var/forFOLDERFutureRestoration/wt_ECadGFPki-hetero_24pre29_bin140x_mov6/3DResults/%s_40x_bin1_05_5min_1_w2CSU-488_s9_t241.tif\n"
     ]
    },
    {
     "name": "stderr",
     "output_type": "stream",
     "text": [
      "100%|██████████| 64/64 [03:25<00:00,  2.66s/it]  \n"
     ]
    },
    {
     "name": "stdout",
     "output_type": "stream",
     "text": [
      "Saving file/data/u934/service_imagerie/v_kapoor/Fl4-2-Var/forFOLDERFutureRestoration/wt_ECadGFPki-hetero_24pre29_bin140x_mov6/3DResults/%s_40x_bin1_05_5min_1_w2CSU-488_s9_t187.tif\n"
     ]
    },
    {
     "name": "stderr",
     "output_type": "stream",
     "text": [
      "100%|██████████| 64/64 [03:23<00:00,  2.68s/it]  \n"
     ]
    },
    {
     "name": "stdout",
     "output_type": "stream",
     "text": [
      "Saving file/data/u934/service_imagerie/v_kapoor/Fl4-2-Var/forFOLDERFutureRestoration/wt_ECadGFPki-hetero_24pre29_bin140x_mov6/3DResults/%s_40x_bin1_05_5min_1_w2CSU-488_s9_t9.tif\n"
     ]
    },
    {
     "name": "stderr",
     "output_type": "stream",
     "text": [
      "100%|██████████| 64/64 [03:25<00:00,  2.67s/it]  \n"
     ]
    },
    {
     "name": "stdout",
     "output_type": "stream",
     "text": [
      "Saving file/data/u934/service_imagerie/v_kapoor/Fl4-2-Var/forFOLDERFutureRestoration/wt_ECadGFPki-hetero_24pre29_bin140x_mov6/3DResults/%s_40x_bin1_05_5min_1_w2CSU-488_s9_t45.tif\n"
     ]
    },
    {
     "name": "stderr",
     "output_type": "stream",
     "text": [
      "100%|██████████| 64/64 [03:23<00:00,  2.66s/it]  \n"
     ]
    },
    {
     "name": "stdout",
     "output_type": "stream",
     "text": [
      "Saving file/data/u934/service_imagerie/v_kapoor/Fl4-2-Var/forFOLDERFutureRestoration/wt_ECadGFPki-hetero_24pre29_bin140x_mov6/3DResults/%s_40x_bin1_05_5min_1_w2CSU-488_s9_t94.tif\n"
     ]
    },
    {
     "name": "stderr",
     "output_type": "stream",
     "text": [
      "100%|██████████| 64/64 [03:25<00:00,  2.68s/it]  \n"
     ]
    },
    {
     "name": "stdout",
     "output_type": "stream",
     "text": [
      "Saving file/data/u934/service_imagerie/v_kapoor/Fl4-2-Var/forFOLDERFutureRestoration/wt_ECadGFPki-hetero_24pre29_bin140x_mov6/3DResults/%s_40x_bin1_05_5min_1_w2CSU-488_s9_t37.tif\n"
     ]
    },
    {
     "name": "stderr",
     "output_type": "stream",
     "text": [
      "100%|██████████| 64/64 [03:22<00:00,  2.66s/it]  \n"
     ]
    },
    {
     "name": "stdout",
     "output_type": "stream",
     "text": [
      "Saving file/data/u934/service_imagerie/v_kapoor/Fl4-2-Var/forFOLDERFutureRestoration/wt_ECadGFPki-hetero_24pre29_bin140x_mov6/3DResults/%s_40x_bin1_05_5min_1_w2CSU-488_s9_t158.tif\n"
     ]
    },
    {
     "name": "stderr",
     "output_type": "stream",
     "text": [
      "100%|██████████| 64/64 [03:23<00:00,  2.64s/it]  \n"
     ]
    },
    {
     "name": "stdout",
     "output_type": "stream",
     "text": [
      "Saving file/data/u934/service_imagerie/v_kapoor/Fl4-2-Var/forFOLDERFutureRestoration/wt_ECadGFPki-hetero_24pre29_bin140x_mov6/3DResults/%s_40x_bin1_05_5min_1_w2CSU-488_s9_t189.tif\n"
     ]
    },
    {
     "name": "stderr",
     "output_type": "stream",
     "text": [
      "100%|██████████| 64/64 [03:21<00:00,  2.63s/it]  \n"
     ]
    },
    {
     "name": "stdout",
     "output_type": "stream",
     "text": [
      "Saving file/data/u934/service_imagerie/v_kapoor/Fl4-2-Var/forFOLDERFutureRestoration/wt_ECadGFPki-hetero_24pre29_bin140x_mov6/3DResults/%s_40x_bin1_05_5min_1_w2CSU-488_s9_t7.tif\n"
     ]
    },
    {
     "name": "stderr",
     "output_type": "stream",
     "text": [
      "100%|██████████| 64/64 [03:23<00:00,  2.65s/it]  \n"
     ]
    },
    {
     "name": "stdout",
     "output_type": "stream",
     "text": [
      "Saving file/data/u934/service_imagerie/v_kapoor/Fl4-2-Var/forFOLDERFutureRestoration/wt_ECadGFPki-hetero_24pre29_bin140x_mov6/3DResults/%s_40x_bin1_05_5min_1_w2CSU-488_s9_t124.tif\n"
     ]
    },
    {
     "name": "stderr",
     "output_type": "stream",
     "text": [
      "100%|██████████| 64/64 [03:22<00:00,  2.64s/it]  \n"
     ]
    },
    {
     "name": "stdout",
     "output_type": "stream",
     "text": [
      "Saving file/data/u934/service_imagerie/v_kapoor/Fl4-2-Var/forFOLDERFutureRestoration/wt_ECadGFPki-hetero_24pre29_bin140x_mov6/3DResults/%s_40x_bin1_05_5min_1_w2CSU-488_s9_t233.tif\n"
     ]
    },
    {
     "name": "stderr",
     "output_type": "stream",
     "text": [
      "100%|██████████| 64/64 [03:24<00:00,  2.66s/it]  \n"
     ]
    },
    {
     "name": "stdout",
     "output_type": "stream",
     "text": [
      "Saving file/data/u934/service_imagerie/v_kapoor/Fl4-2-Var/forFOLDERFutureRestoration/wt_ECadGFPki-hetero_24pre29_bin140x_mov6/3DResults/%s_40x_bin1_05_5min_1_w2CSU-488_s9_t123.tif\n"
     ]
    },
    {
     "name": "stderr",
     "output_type": "stream",
     "text": [
      "100%|██████████| 64/64 [03:22<00:00,  2.64s/it]  \n"
     ]
    },
    {
     "name": "stdout",
     "output_type": "stream",
     "text": [
      "Saving file/data/u934/service_imagerie/v_kapoor/Fl4-2-Var/forFOLDERFutureRestoration/wt_ECadGFPki-hetero_24pre29_bin140x_mov6/3DResults/%s_40x_bin1_05_5min_1_w2CSU-488_s9_t234.tif\n"
     ]
    },
    {
     "name": "stderr",
     "output_type": "stream",
     "text": [
      "100%|██████████| 64/64 [03:24<00:00,  2.68s/it]  \n"
     ]
    },
    {
     "name": "stdout",
     "output_type": "stream",
     "text": [
      "Saving file/data/u934/service_imagerie/v_kapoor/Fl4-2-Var/forFOLDERFutureRestoration/wt_ECadGFPki-hetero_24pre29_bin140x_mov6/3DResults/%s_40x_bin1_05_5min_1_w2CSU-488_s9_t30.tif\n"
     ]
    },
    {
     "name": "stderr",
     "output_type": "stream",
     "text": [
      "100%|██████████| 64/64 [03:22<00:00,  2.64s/it]  \n"
     ]
    },
    {
     "name": "stdout",
     "output_type": "stream",
     "text": [
      "Saving file/data/u934/service_imagerie/v_kapoor/Fl4-2-Var/forFOLDERFutureRestoration/wt_ECadGFPki-hetero_24pre29_bin140x_mov6/3DResults/%s_40x_bin1_05_5min_1_w2CSU-488_s9_t225.tif\n"
     ]
    },
    {
     "name": "stderr",
     "output_type": "stream",
     "text": [
      "100%|██████████| 64/64 [03:24<00:00,  2.69s/it]  \n"
     ]
    },
    {
     "name": "stdout",
     "output_type": "stream",
     "text": [
      "Saving file/data/u934/service_imagerie/v_kapoor/Fl4-2-Var/forFOLDERFutureRestoration/wt_ECadGFPki-hetero_24pre29_bin140x_mov6/3DResults/%s_40x_bin1_05_5min_1_w2CSU-488_s9_t132.tif\n"
     ]
    },
    {
     "name": "stderr",
     "output_type": "stream",
     "text": [
      "100%|██████████| 64/64 [03:23<00:00,  2.65s/it]  \n"
     ]
    },
    {
     "name": "stdout",
     "output_type": "stream",
     "text": [
      "Saving file/data/u934/service_imagerie/v_kapoor/Fl4-2-Var/forFOLDERFutureRestoration/wt_ECadGFPki-hetero_24pre29_bin140x_mov6/3DResults/%s_40x_bin1_05_5min_1_w2CSU-488_s9_t21.tif\n"
     ]
    },
    {
     "name": "stderr",
     "output_type": "stream",
     "text": [
      "100%|██████████| 64/64 [03:24<00:00,  2.70s/it]  \n"
     ]
    },
    {
     "name": "stdout",
     "output_type": "stream",
     "text": [
      "Saving file/data/u934/service_imagerie/v_kapoor/Fl4-2-Var/forFOLDERFutureRestoration/wt_ECadGFPki-hetero_24pre29_bin140x_mov6/3DResults/%s_40x_bin1_05_5min_1_w2CSU-488_s9_t198.tif\n"
     ]
    },
    {
     "name": "stderr",
     "output_type": "stream",
     "text": [
      "100%|██████████| 64/64 [03:23<00:00,  2.63s/it]  \n"
     ]
    },
    {
     "name": "stdout",
     "output_type": "stream",
     "text": [
      "Saving file/data/u934/service_imagerie/v_kapoor/Fl4-2-Var/forFOLDERFutureRestoration/wt_ECadGFPki-hetero_24pre29_bin140x_mov6/3DResults/%s_40x_bin1_05_5min_1_w2CSU-488_s9_t149.tif\n"
     ]
    },
    {
     "name": "stderr",
     "output_type": "stream",
     "text": [
      "100%|██████████| 64/64 [03:25<00:00,  2.67s/it]  \n"
     ]
    },
    {
     "name": "stdout",
     "output_type": "stream",
     "text": [
      "Saving file/data/u934/service_imagerie/v_kapoor/Fl4-2-Var/forFOLDERFutureRestoration/wt_ECadGFPki-hetero_24pre29_bin140x_mov6/3DResults/%s_40x_bin1_05_5min_1_w2CSU-488_s9_t26.tif\n"
     ]
    },
    {
     "name": "stderr",
     "output_type": "stream",
     "text": [
      "100%|██████████| 64/64 [03:22<00:00,  2.63s/it]  \n"
     ]
    },
    {
     "name": "stdout",
     "output_type": "stream",
     "text": [
      "Saving file/data/u934/service_imagerie/v_kapoor/Fl4-2-Var/forFOLDERFutureRestoration/wt_ECadGFPki-hetero_24pre29_bin140x_mov6/3DResults/%s_40x_bin1_05_5min_1_w2CSU-488_s9_t222.tif\n"
     ]
    },
    {
     "name": "stderr",
     "output_type": "stream",
     "text": [
      "100%|██████████| 64/64 [03:24<00:00,  2.66s/it]  \n"
     ]
    },
    {
     "name": "stdout",
     "output_type": "stream",
     "text": [
      "Saving file/data/u934/service_imagerie/v_kapoor/Fl4-2-Var/forFOLDERFutureRestoration/wt_ECadGFPki-hetero_24pre29_bin140x_mov6/3DResults/%s_40x_bin1_05_5min_1_w2CSU-488_s9_t135.tif\n"
     ]
    },
    {
     "name": "stderr",
     "output_type": "stream",
     "text": [
      "100%|██████████| 64/64 [03:22<00:00,  2.64s/it]  \n"
     ]
    },
    {
     "name": "stdout",
     "output_type": "stream",
     "text": [
      "Saving file/data/u934/service_imagerie/v_kapoor/Fl4-2-Var/forFOLDERFutureRestoration/wt_ECadGFPki-hetero_24pre29_bin140x_mov6/3DResults/%s_40x_bin1_05_5min_1_w2CSU-488_s9_t196.tif\n"
     ]
    },
    {
     "name": "stderr",
     "output_type": "stream",
     "text": [
      "100%|██████████| 64/64 [03:25<00:00,  2.70s/it]  \n"
     ]
    },
    {
     "name": "stdout",
     "output_type": "stream",
     "text": [
      "Saving file/data/u934/service_imagerie/v_kapoor/Fl4-2-Var/forFOLDERFutureRestoration/wt_ECadGFPki-hetero_24pre29_bin140x_mov6/3DResults/%s_40x_bin1_05_5min_1_w2CSU-488_s9_t28.tif\n"
     ]
    },
    {
     "name": "stderr",
     "output_type": "stream",
     "text": [
      "100%|██████████| 64/64 [03:23<00:00,  2.67s/it]  \n"
     ]
    },
    {
     "name": "stdout",
     "output_type": "stream",
     "text": [
      "Saving file/data/u934/service_imagerie/v_kapoor/Fl4-2-Var/forFOLDERFutureRestoration/wt_ECadGFPki-hetero_24pre29_bin140x_mov6/3DResults/%s_40x_bin1_05_5min_1_w2CSU-488_s9_t147.tif\n"
     ]
    },
    {
     "name": "stderr",
     "output_type": "stream",
     "text": [
      "100%|██████████| 64/64 [03:24<00:00,  2.68s/it]  \n"
     ]
    },
    {
     "name": "stdout",
     "output_type": "stream",
     "text": [
      "Saving file/data/u934/service_imagerie/v_kapoor/Fl4-2-Var/forFOLDERFutureRestoration/wt_ECadGFPki-hetero_24pre29_bin140x_mov6/3DResults/%s_40x_bin1_05_5min_1_w2CSU-488_s9_t85.tif\n"
     ]
    },
    {
     "name": "stderr",
     "output_type": "stream",
     "text": [
      "100%|██████████| 64/64 [03:22<00:00,  2.64s/it]  \n"
     ]
    },
    {
     "name": "stdout",
     "output_type": "stream",
     "text": [
      "Saving file/data/u934/service_imagerie/v_kapoor/Fl4-2-Var/forFOLDERFutureRestoration/wt_ECadGFPki-hetero_24pre29_bin140x_mov6/3DResults/%s_40x_bin1_05_5min_1_w2CSU-488_s9_t54.tif\n"
     ]
    },
    {
     "name": "stderr",
     "output_type": "stream",
     "text": [
      "100%|██████████| 64/64 [03:23<00:00,  2.65s/it]  \n"
     ]
    },
    {
     "name": "stdout",
     "output_type": "stream",
     "text": [
      "Saving file/data/u934/service_imagerie/v_kapoor/Fl4-2-Var/forFOLDERFutureRestoration/wt_ECadGFPki-hetero_24pre29_bin140x_mov6/3DResults/%s_40x_bin1_05_5min_1_w2CSU-488_s9_t82.tif\n"
     ]
    },
    {
     "name": "stderr",
     "output_type": "stream",
     "text": [
      "100%|██████████| 64/64 [03:22<00:00,  2.64s/it]  \n"
     ]
    },
    {
     "name": "stdout",
     "output_type": "stream",
     "text": [
      "Saving file/data/u934/service_imagerie/v_kapoor/Fl4-2-Var/forFOLDERFutureRestoration/wt_ECadGFPki-hetero_24pre29_bin140x_mov6/3DResults/%s_40x_bin1_05_5min_1_w2CSU-488_s9_t53.tif\n"
     ]
    },
    {
     "name": "stderr",
     "output_type": "stream",
     "text": [
      "100%|██████████| 64/64 [03:23<00:00,  2.65s/it]  \n"
     ]
    },
    {
     "name": "stdout",
     "output_type": "stream",
     "text": [
      "Saving file/data/u934/service_imagerie/v_kapoor/Fl4-2-Var/forFOLDERFutureRestoration/wt_ECadGFPki-hetero_24pre29_bin140x_mov6/3DResults/%s_40x_bin1_05_5min_1_w2CSU-488_s9_t191.tif\n"
     ]
    },
    {
     "name": "stderr",
     "output_type": "stream",
     "text": [
      "100%|██████████| 64/64 [03:21<00:00,  2.63s/it]  \n"
     ]
    },
    {
     "name": "stdout",
     "output_type": "stream",
     "text": [
      "Saving file/data/u934/service_imagerie/v_kapoor/Fl4-2-Var/forFOLDERFutureRestoration/wt_ECadGFPki-hetero_24pre29_bin140x_mov6/3DResults/%s_40x_bin1_05_5min_1_w2CSU-488_s9_t140.tif\n"
     ]
    },
    {
     "name": "stderr",
     "output_type": "stream",
     "text": [
      "100%|██████████| 64/64 [03:24<00:00,  2.66s/it]  \n"
     ]
    },
    {
     "name": "stdout",
     "output_type": "stream",
     "text": [
      "Saving file/data/u934/service_imagerie/v_kapoor/Fl4-2-Var/forFOLDERFutureRestoration/wt_ECadGFPki-hetero_24pre29_bin140x_mov6/3DResults/%s_40x_bin1_05_5min_1_w2CSU-488_s9_t109.tif\n"
     ]
    },
    {
     "name": "stderr",
     "output_type": "stream",
     "text": [
      "100%|██████████| 64/64 [03:22<00:00,  2.63s/it]  \n"
     ]
    },
    {
     "name": "stdout",
     "output_type": "stream",
     "text": [
      "Saving file/data/u934/service_imagerie/v_kapoor/Fl4-2-Var/forFOLDERFutureRestoration/wt_ECadGFPki-hetero_24pre29_bin140x_mov6/3DResults/%s_40x_bin1_05_5min_1_w2CSU-488_s9_t66.tif\n"
     ]
    },
    {
     "name": "stderr",
     "output_type": "stream",
     "text": [
      "100%|██████████| 64/64 [03:24<00:00,  2.66s/it]  \n"
     ]
    },
    {
     "name": "stdout",
     "output_type": "stream",
     "text": [
      "Saving file/data/u934/service_imagerie/v_kapoor/Fl4-2-Var/forFOLDERFutureRestoration/wt_ECadGFPki-hetero_24pre29_bin140x_mov6/3DResults/%s_40x_bin1_05_5min_1_w2CSU-488_s9_t175.tif\n"
     ]
    },
    {
     "name": "stderr",
     "output_type": "stream",
     "text": [
      "100%|██████████| 64/64 [03:21<00:00,  2.64s/it]  \n"
     ]
    },
    {
     "name": "stdout",
     "output_type": "stream",
     "text": [
      "Saving file/data/u934/service_imagerie/v_kapoor/Fl4-2-Var/forFOLDERFutureRestoration/wt_ECadGFPki-hetero_24pre29_bin140x_mov6/3DResults/%s_40x_bin1_05_5min_1_w2CSU-488_s9_t172.tif\n"
     ]
    },
    {
     "name": "stderr",
     "output_type": "stream",
     "text": [
      "100%|██████████| 64/64 [03:24<00:00,  2.70s/it]  \n"
     ]
    },
    {
     "name": "stdout",
     "output_type": "stream",
     "text": [
      "Saving file/data/u934/service_imagerie/v_kapoor/Fl4-2-Var/forFOLDERFutureRestoration/wt_ECadGFPki-hetero_24pre29_bin140x_mov6/3DResults/%s_40x_bin1_05_5min_1_w2CSU-488_s9_t61.tif\n"
     ]
    },
    {
     "name": "stderr",
     "output_type": "stream",
     "text": [
      "100%|██████████| 64/64 [03:22<00:00,  2.65s/it]  \n"
     ]
    },
    {
     "name": "stdout",
     "output_type": "stream",
     "text": [
      "Saving file/data/u934/service_imagerie/v_kapoor/Fl4-2-Var/forFOLDERFutureRestoration/wt_ECadGFPki-hetero_24pre29_bin140x_mov6/3DResults/%s_40x_bin1_05_5min_1_w2CSU-488_s9_t219.tif\n"
     ]
    },
    {
     "name": "stderr",
     "output_type": "stream",
     "text": [
      "100%|██████████| 64/64 [03:24<00:00,  2.66s/it]  \n"
     ]
    },
    {
     "name": "stdout",
     "output_type": "stream",
     "text": [
      "Saving file/data/u934/service_imagerie/v_kapoor/Fl4-2-Var/forFOLDERFutureRestoration/wt_ECadGFPki-hetero_24pre29_bin140x_mov6/3DResults/%s_40x_bin1_05_5min_1_w2CSU-488_s9_t13.tif\n"
     ]
    },
    {
     "name": "stderr",
     "output_type": "stream",
     "text": [
      "100%|██████████| 64/64 [03:22<00:00,  2.63s/it]  \n"
     ]
    },
    {
     "name": "stdout",
     "output_type": "stream",
     "text": [
      "Saving file/data/u934/service_imagerie/v_kapoor/Fl4-2-Var/forFOLDERFutureRestoration/wt_ECadGFPki-hetero_24pre29_bin140x_mov6/3DResults/%s_40x_bin1_05_5min_1_w2CSU-488_s9_t100.tif\n"
     ]
    },
    {
     "name": "stderr",
     "output_type": "stream",
     "text": [
      "100%|██████████| 64/64 [03:23<00:00,  2.65s/it]  \n"
     ]
    },
    {
     "name": "stdout",
     "output_type": "stream",
     "text": [
      "Saving file/data/u934/service_imagerie/v_kapoor/Fl4-2-Var/forFOLDERFutureRestoration/wt_ECadGFPki-hetero_24pre29_bin140x_mov6/3DResults/%s_40x_bin1_05_5min_1_w2CSU-488_s9_t217.tif\n"
     ]
    },
    {
     "name": "stderr",
     "output_type": "stream",
     "text": [
      "100%|██████████| 64/64 [03:22<00:00,  2.65s/it]  \n"
     ]
    },
    {
     "name": "stdout",
     "output_type": "stream",
     "text": [
      "Saving file/data/u934/service_imagerie/v_kapoor/Fl4-2-Var/forFOLDERFutureRestoration/wt_ECadGFPki-hetero_24pre29_bin140x_mov6/3DResults/%s_40x_bin1_05_5min_1_w2CSU-488_s9_t68.tif\n"
     ]
    },
    {
     "name": "stderr",
     "output_type": "stream",
     "text": [
      "100%|██████████| 64/64 [03:24<00:00,  2.66s/it]  \n"
     ]
    },
    {
     "name": "stdout",
     "output_type": "stream",
     "text": [
      "Saving file/data/u934/service_imagerie/v_kapoor/Fl4-2-Var/forFOLDERFutureRestoration/wt_ECadGFPki-hetero_24pre29_bin140x_mov6/3DResults/%s_40x_bin1_05_5min_1_w2CSU-488_s9_t107.tif\n"
     ]
    },
    {
     "name": "stderr",
     "output_type": "stream",
     "text": [
      "100%|██████████| 64/64 [03:22<00:00,  2.64s/it]  \n"
     ]
    },
    {
     "name": "stdout",
     "output_type": "stream",
     "text": [
      "Saving file/data/u934/service_imagerie/v_kapoor/Fl4-2-Var/forFOLDERFutureRestoration/wt_ECadGFPki-hetero_24pre29_bin140x_mov6/3DResults/%s_40x_bin1_05_5min_1_w2CSU-488_s9_t210.tif\n"
     ]
    },
    {
     "name": "stderr",
     "output_type": "stream",
     "text": [
      "100%|██████████| 64/64 [03:24<00:00,  2.66s/it]  \n"
     ]
    },
    {
     "name": "stdout",
     "output_type": "stream",
     "text": [
      "Saving file/data/u934/service_imagerie/v_kapoor/Fl4-2-Var/forFOLDERFutureRestoration/wt_ECadGFPki-hetero_24pre29_bin140x_mov6/3DResults/%s_40x_bin1_05_5min_1_w2CSU-488_s9_t14.tif\n"
     ]
    },
    {
     "name": "stderr",
     "output_type": "stream",
     "text": [
      "100%|██████████| 64/64 [03:21<00:00,  2.63s/it]  \n"
     ]
    },
    {
     "name": "stdout",
     "output_type": "stream",
     "text": [
      "Saving file/data/u934/service_imagerie/v_kapoor/Fl4-2-Var/forFOLDERFutureRestoration/wt_ECadGFPki-hetero_24pre29_bin140x_mov6/3DResults/%s_40x_bin1_05_5min_1_w2CSU-488_s9_t25.tif\n"
     ]
    },
    {
     "name": "stderr",
     "output_type": "stream",
     "text": [
      "100%|██████████| 64/64 [03:23<00:00,  2.65s/it]  \n"
     ]
    },
    {
     "name": "stdout",
     "output_type": "stream",
     "text": [
      "Saving file/data/u934/service_imagerie/v_kapoor/Fl4-2-Var/forFOLDERFutureRestoration/wt_ECadGFPki-hetero_24pre29_bin140x_mov6/3DResults/%s_40x_bin1_05_5min_1_w2CSU-488_s9_t88.tif\n"
     ]
    },
    {
     "name": "stderr",
     "output_type": "stream",
     "text": [
      "100%|██████████| 64/64 [03:22<00:00,  2.65s/it]  \n"
     ]
    },
    {
     "name": "stdout",
     "output_type": "stream",
     "text": [
      "Saving file/data/u934/service_imagerie/v_kapoor/Fl4-2-Var/forFOLDERFutureRestoration/wt_ECadGFPki-hetero_24pre29_bin140x_mov6/3DResults/%s_40x_bin1_05_5min_1_w2CSU-488_s9_t221.tif\n"
     ]
    },
    {
     "name": "stderr",
     "output_type": "stream",
     "text": [
      "100%|██████████| 64/64 [03:24<00:00,  2.68s/it]  \n"
     ]
    },
    {
     "name": "stdout",
     "output_type": "stream",
     "text": [
      "Saving file/data/u934/service_imagerie/v_kapoor/Fl4-2-Var/forFOLDERFutureRestoration/wt_ECadGFPki-hetero_24pre29_bin140x_mov6/3DResults/%s_40x_bin1_05_5min_1_w2CSU-488_s9_t136.tif\n"
     ]
    },
    {
     "name": "stderr",
     "output_type": "stream",
     "text": [
      "100%|██████████| 64/64 [03:22<00:00,  2.65s/it]  \n"
     ]
    },
    {
     "name": "stdout",
     "output_type": "stream",
     "text": [
      "Saving file/data/u934/service_imagerie/v_kapoor/Fl4-2-Var/forFOLDERFutureRestoration/wt_ECadGFPki-hetero_24pre29_bin140x_mov6/3DResults/%s_40x_bin1_05_5min_1_w2CSU-488_s9_t59.tif\n"
     ]
    },
    {
     "name": "stderr",
     "output_type": "stream",
     "text": [
      "100%|██████████| 64/64 [03:24<00:00,  2.67s/it]  \n"
     ]
    },
    {
     "name": "stdout",
     "output_type": "stream",
     "text": [
      "Saving file/data/u934/service_imagerie/v_kapoor/Fl4-2-Var/forFOLDERFutureRestoration/wt_ECadGFPki-hetero_24pre29_bin140x_mov6/3DResults/%s_40x_bin1_05_5min_1_w2CSU-488_s9_t226.tif\n"
     ]
    },
    {
     "name": "stderr",
     "output_type": "stream",
     "text": [
      "100%|██████████| 64/64 [03:22<00:00,  2.66s/it]  \n"
     ]
    },
    {
     "name": "stdout",
     "output_type": "stream",
     "text": [
      "Saving file/data/u934/service_imagerie/v_kapoor/Fl4-2-Var/forFOLDERFutureRestoration/wt_ECadGFPki-hetero_24pre29_bin140x_mov6/3DResults/%s_40x_bin1_05_5min_1_w2CSU-488_s9_t131.tif\n"
     ]
    },
    {
     "name": "stderr",
     "output_type": "stream",
     "text": [
      "100%|██████████| 64/64 [03:25<00:00,  2.72s/it]  \n"
     ]
    },
    {
     "name": "stdout",
     "output_type": "stream",
     "text": [
      "Saving file/data/u934/service_imagerie/v_kapoor/Fl4-2-Var/forFOLDERFutureRestoration/wt_ECadGFPki-hetero_24pre29_bin140x_mov6/3DResults/%s_40x_bin1_05_5min_1_w2CSU-488_s9_t22.tif\n"
     ]
    },
    {
     "name": "stderr",
     "output_type": "stream",
     "text": [
      "100%|██████████| 64/64 [03:22<00:00,  2.63s/it]  \n"
     ]
    },
    {
     "name": "stdout",
     "output_type": "stream",
     "text": [
      "Saving file/data/u934/service_imagerie/v_kapoor/Fl4-2-Var/forFOLDERFutureRestoration/wt_ECadGFPki-hetero_24pre29_bin140x_mov6/3DResults/%s_40x_bin1_05_5min_1_w2CSU-488_s9_t81.tif\n"
     ]
    },
    {
     "name": "stderr",
     "output_type": "stream",
     "text": [
      "100%|██████████| 64/64 [03:24<00:00,  2.66s/it]  \n"
     ]
    },
    {
     "name": "stdout",
     "output_type": "stream",
     "text": [
      "Saving file/data/u934/service_imagerie/v_kapoor/Fl4-2-Var/forFOLDERFutureRestoration/wt_ECadGFPki-hetero_24pre29_bin140x_mov6/3DResults/%s_40x_bin1_05_5min_1_w2CSU-488_s9_t228.tif\n"
     ]
    },
    {
     "name": "stderr",
     "output_type": "stream",
     "text": [
      "100%|██████████| 64/64 [03:22<00:00,  2.64s/it]  \n"
     ]
    },
    {
     "name": "stdout",
     "output_type": "stream",
     "text": [
      "Saving file/data/u934/service_imagerie/v_kapoor/Fl4-2-Var/forFOLDERFutureRestoration/wt_ECadGFPki-hetero_24pre29_bin140x_mov6/3DResults/%s_40x_bin1_05_5min_1_w2CSU-488_s9_t50.tif\n"
     ]
    },
    {
     "name": "stderr",
     "output_type": "stream",
     "text": [
      "100%|██████████| 64/64 [03:24<00:00,  2.66s/it]  \n"
     ]
    },
    {
     "name": "stdout",
     "output_type": "stream",
     "text": [
      "Saving file/data/u934/service_imagerie/v_kapoor/Fl4-2-Var/forFOLDERFutureRestoration/wt_ECadGFPki-hetero_24pre29_bin140x_mov6/3DResults/%s_40x_bin1_05_5min_1_w2CSU-488_s9_t192.tif\n"
     ]
    },
    {
     "name": "stderr",
     "output_type": "stream",
     "text": [
      "100%|██████████| 64/64 [03:22<00:00,  2.66s/it]  \n"
     ]
    },
    {
     "name": "stdout",
     "output_type": "stream",
     "text": [
      "Saving file/data/u934/service_imagerie/v_kapoor/Fl4-2-Var/forFOLDERFutureRestoration/wt_ECadGFPki-hetero_24pre29_bin140x_mov6/3DResults/%s_40x_bin1_05_5min_1_w2CSU-488_s9_t143.tif\n"
     ]
    },
    {
     "name": "stderr",
     "output_type": "stream",
     "text": [
      "100%|██████████| 64/64 [03:24<00:00,  2.67s/it]  \n"
     ]
    },
    {
     "name": "stdout",
     "output_type": "stream",
     "text": [
      "Saving file/data/u934/service_imagerie/v_kapoor/Fl4-2-Var/forFOLDERFutureRestoration/wt_ECadGFPki-hetero_24pre29_bin140x_mov6/3DResults/%s_40x_bin1_05_5min_1_w2CSU-488_s9_t195.tif\n"
     ]
    },
    {
     "name": "stderr",
     "output_type": "stream",
     "text": [
      "100%|██████████| 64/64 [03:22<00:00,  2.65s/it]  \n"
     ]
    },
    {
     "name": "stdout",
     "output_type": "stream",
     "text": [
      "Saving file/data/u934/service_imagerie/v_kapoor/Fl4-2-Var/forFOLDERFutureRestoration/wt_ECadGFPki-hetero_24pre29_bin140x_mov6/3DResults/%s_40x_bin1_05_5min_1_w2CSU-488_s9_t144.tif\n"
     ]
    },
    {
     "name": "stderr",
     "output_type": "stream",
     "text": [
      "100%|██████████| 64/64 [03:24<00:00,  2.70s/it]  \n"
     ]
    },
    {
     "name": "stdout",
     "output_type": "stream",
     "text": [
      "Saving file/data/u934/service_imagerie/v_kapoor/Fl4-2-Var/forFOLDERFutureRestoration/wt_ECadGFPki-hetero_24pre29_bin140x_mov6/3DResults/%s_40x_bin1_05_5min_1_w2CSU-488_s9_t86.tif\n"
     ]
    },
    {
     "name": "stderr",
     "output_type": "stream",
     "text": [
      "100%|██████████| 64/64 [03:23<00:00,  2.66s/it]  \n"
     ]
    },
    {
     "name": "stdout",
     "output_type": "stream",
     "text": [
      "Saving file/data/u934/service_imagerie/v_kapoor/Fl4-2-Var/forFOLDERFutureRestoration/wt_ECadGFPki-hetero_24pre29_bin140x_mov6/3DResults/%s_40x_bin1_05_5min_1_w2CSU-488_s9_t57.tif\n"
     ]
    },
    {
     "name": "stderr",
     "output_type": "stream",
     "text": [
      "100%|██████████| 64/64 [03:24<00:00,  2.65s/it]  \n"
     ]
    },
    {
     "name": "stdout",
     "output_type": "stream",
     "text": [
      "Saving file/data/u934/service_imagerie/v_kapoor/Fl4-2-Var/forFOLDERFutureRestoration/wt_ECadGFPki-hetero_24pre29_bin140x_mov6/3DResults/%s_40x_bin1_05_5min_1_w2CSU-488_s9_t138.tif\n"
     ]
    },
    {
     "name": "stderr",
     "output_type": "stream",
     "text": [
      "100%|██████████| 64/64 [03:22<00:00,  2.63s/it]  \n"
     ]
    },
    {
     "name": "stdout",
     "output_type": "stream",
     "text": [
      "Saving file/data/u934/service_imagerie/v_kapoor/Fl4-2-Var/forFOLDERFutureRestoration/wt_ECadGFPki-hetero_24pre29_bin140x_mov6/3DResults/%s_40x_bin1_05_5min_1_w2CSU-488_s9_t171.tif\n"
     ]
    },
    {
     "name": "stderr",
     "output_type": "stream",
     "text": [
      "100%|██████████| 64/64 [03:24<00:00,  2.66s/it]  \n"
     ]
    },
    {
     "name": "stdout",
     "output_type": "stream",
     "text": [
      "Saving file/data/u934/service_imagerie/v_kapoor/Fl4-2-Var/forFOLDERFutureRestoration/wt_ECadGFPki-hetero_24pre29_bin140x_mov6/3DResults/%s_40x_bin1_05_5min_1_w2CSU-488_s9_t62.tif\n"
     ]
    },
    {
     "name": "stderr",
     "output_type": "stream",
     "text": [
      "100%|██████████| 64/64 [03:23<00:00,  2.68s/it]  \n"
     ]
    },
    {
     "name": "stdout",
     "output_type": "stream",
     "text": [
      "Saving file/data/u934/service_imagerie/v_kapoor/Fl4-2-Var/forFOLDERFutureRestoration/wt_ECadGFPki-hetero_24pre29_bin140x_mov6/3DResults/%s_40x_bin1_05_5min_1_w2CSU-488_s9_t65.tif\n"
     ]
    },
    {
     "name": "stderr",
     "output_type": "stream",
     "text": [
      "100%|██████████| 64/64 [03:23<00:00,  2.66s/it]  \n"
     ]
    },
    {
     "name": "stdout",
     "output_type": "stream",
     "text": [
      "Saving file/data/u934/service_imagerie/v_kapoor/Fl4-2-Var/forFOLDERFutureRestoration/wt_ECadGFPki-hetero_24pre29_bin140x_mov6/3DResults/%s_40x_bin1_05_5min_1_w2CSU-488_s9_t176.tif\n"
     ]
    },
    {
     "name": "stderr",
     "output_type": "stream",
     "text": [
      "100%|██████████| 64/64 [03:22<00:00,  2.64s/it]  \n"
     ]
    },
    {
     "name": "stdout",
     "output_type": "stream",
     "text": [
      "Saving file/data/u934/service_imagerie/v_kapoor/Fl4-2-Var/forFOLDERFutureRestoration/wt_ECadGFPki-hetero_24pre29_bin140x_mov6/3DResults/%s_40x_bin1_05_5min_1_w2CSU-488_s9_t19.tif\n"
     ]
    },
    {
     "name": "stderr",
     "output_type": "stream",
     "text": [
      "100%|██████████| 64/64 [03:24<00:00,  2.65s/it]  \n"
     ]
    },
    {
     "name": "stdout",
     "output_type": "stream",
     "text": [
      "Saving file/data/u934/service_imagerie/v_kapoor/Fl4-2-Var/forFOLDERFutureRestoration/wt_ECadGFPki-hetero_24pre29_bin140x_mov6/3DResults/%s_40x_bin1_05_5min_1_w2CSU-488_s9_t104.tif\n"
     ]
    },
    {
     "name": "stderr",
     "output_type": "stream",
     "text": [
      "100%|██████████| 64/64 [03:21<00:00,  2.63s/it]  \n"
     ]
    },
    {
     "name": "stdout",
     "output_type": "stream",
     "text": [
      "Saving file/data/u934/service_imagerie/v_kapoor/Fl4-2-Var/forFOLDERFutureRestoration/wt_ECadGFPki-hetero_24pre29_bin140x_mov6/3DResults/%s_40x_bin1_05_5min_1_w2CSU-488_s9_t213.tif\n"
     ]
    },
    {
     "name": "stderr",
     "output_type": "stream",
     "text": [
      "100%|██████████| 64/64 [03:23<00:00,  2.66s/it]  \n"
     ]
    },
    {
     "name": "stdout",
     "output_type": "stream",
     "text": [
      "Saving file/data/u934/service_imagerie/v_kapoor/Fl4-2-Var/forFOLDERFutureRestoration/wt_ECadGFPki-hetero_24pre29_bin140x_mov6/3DResults/%s_40x_bin1_05_5min_1_w2CSU-488_s9_t17.tif\n"
     ]
    },
    {
     "name": "stderr",
     "output_type": "stream",
     "text": [
      "100%|██████████| 64/64 [03:21<00:00,  2.63s/it]  \n"
     ]
    },
    {
     "name": "stdout",
     "output_type": "stream",
     "text": [
      "Saving file/data/u934/service_imagerie/v_kapoor/Fl4-2-Var/forFOLDERFutureRestoration/wt_ECadGFPki-hetero_24pre29_bin140x_mov6/3DResults/%s_40x_bin1_05_5min_1_w2CSU-488_s9_t178.tif\n"
     ]
    },
    {
     "name": "stderr",
     "output_type": "stream",
     "text": [
      "100%|██████████| 64/64 [03:24<00:00,  2.67s/it]  \n"
     ]
    },
    {
     "name": "stdout",
     "output_type": "stream",
     "text": [
      "Saving file/data/u934/service_imagerie/v_kapoor/Fl4-2-Var/forFOLDERFutureRestoration/wt_ECadGFPki-hetero_24pre29_bin140x_mov6/3DResults/%s_40x_bin1_05_5min_1_w2CSU-488_s9_t10.tif\n"
     ]
    },
    {
     "name": "stderr",
     "output_type": "stream",
     "text": [
      "100%|██████████| 64/64 [03:21<00:00,  2.63s/it]  \n"
     ]
    },
    {
     "name": "stdout",
     "output_type": "stream",
     "text": [
      "Saving file/data/u934/service_imagerie/v_kapoor/Fl4-2-Var/forFOLDERFutureRestoration/wt_ECadGFPki-hetero_24pre29_bin140x_mov6/3DResults/%s_40x_bin1_05_5min_1_w2CSU-488_s9_t103.tif\n"
     ]
    },
    {
     "name": "stderr",
     "output_type": "stream",
     "text": [
      "100%|██████████| 64/64 [03:24<00:00,  2.68s/it]  \n"
     ]
    },
    {
     "name": "stdout",
     "output_type": "stream",
     "text": [
      "Saving file/data/u934/service_imagerie/v_kapoor/Fl4-2-Var/forFOLDERFutureRestoration/wt_ECadGFPki-hetero_24pre29_bin140x_mov6/3DResults/%s_40x_bin1_05_5min_1_w2CSU-488_s9_t214.tif\n"
     ]
    },
    {
     "name": "stderr",
     "output_type": "stream",
     "text": [
      "100%|██████████| 64/64 [03:23<00:00,  2.65s/it]  \n"
     ]
    },
    {
     "name": "stdout",
     "output_type": "stream",
     "text": [
      "Saving file/data/u934/service_imagerie/v_kapoor/Fl4-2-Var/forFOLDERFutureRestoration/wt_ECadGFPki-hetero_24pre29_bin140x_mov6/3DResults/%s_40x_bin1_05_5min_1_w2CSU-488_s9_t205.tif\n"
     ]
    },
    {
     "name": "stderr",
     "output_type": "stream",
     "text": [
      "100%|██████████| 64/64 [03:25<00:00,  2.68s/it]  \n"
     ]
    },
    {
     "name": "stdout",
     "output_type": "stream",
     "text": [
      "Saving file/data/u934/service_imagerie/v_kapoor/Fl4-2-Var/forFOLDERFutureRestoration/wt_ECadGFPki-hetero_24pre29_bin140x_mov6/3DResults/%s_40x_bin1_05_5min_1_w2CSU-488_s9_t112.tif\n"
     ]
    },
    {
     "name": "stderr",
     "output_type": "stream",
     "text": [
      "100%|██████████| 64/64 [03:22<00:00,  2.63s/it]  \n"
     ]
    },
    {
     "name": "stdout",
     "output_type": "stream",
     "text": [
      "Saving file/data/u934/service_imagerie/v_kapoor/Fl4-2-Var/forFOLDERFutureRestoration/wt_ECadGFPki-hetero_24pre29_bin140x_mov6/3DResults/%s_40x_bin1_05_5min_1_w2CSU-488_s9_t202.tif\n"
     ]
    },
    {
     "name": "stderr",
     "output_type": "stream",
     "text": [
      "100%|██████████| 64/64 [03:24<00:00,  2.68s/it]  \n"
     ]
    },
    {
     "name": "stdout",
     "output_type": "stream",
     "text": [
      "Saving file/data/u934/service_imagerie/v_kapoor/Fl4-2-Var/forFOLDERFutureRestoration/wt_ECadGFPki-hetero_24pre29_bin140x_mov6/3DResults/%s_40x_bin1_05_5min_1_w2CSU-488_s9_t115.tif\n"
     ]
    },
    {
     "name": "stderr",
     "output_type": "stream",
     "text": [
      "100%|██████████| 64/64 [03:22<00:00,  2.66s/it]  \n"
     ]
    },
    {
     "name": "stdout",
     "output_type": "stream",
     "text": [
      "Saving file/data/u934/service_imagerie/v_kapoor/Fl4-2-Var/forFOLDERFutureRestoration/wt_ECadGFPki-hetero_24pre29_bin140x_mov6/3DResults/%s_40x_bin1_05_5min_1_w2CSU-488_s9_t169.tif\n"
     ]
    },
    {
     "name": "stderr",
     "output_type": "stream",
     "text": [
      "100%|██████████| 64/64 [03:23<00:00,  2.65s/it]  \n"
     ]
    },
    {
     "name": "stdout",
     "output_type": "stream",
     "text": [
      "Saving file/data/u934/service_imagerie/v_kapoor/Fl4-2-Var/forFOLDERFutureRestoration/wt_ECadGFPki-hetero_24pre29_bin140x_mov6/3DResults/%s_40x_bin1_05_5min_1_w2CSU-488_s9_t74.tif\n"
     ]
    },
    {
     "name": "stderr",
     "output_type": "stream",
     "text": [
      "100%|██████████| 64/64 [03:21<00:00,  2.63s/it]  \n"
     ]
    },
    {
     "name": "stdout",
     "output_type": "stream",
     "text": [
      "Saving file/data/u934/service_imagerie/v_kapoor/Fl4-2-Var/forFOLDERFutureRestoration/wt_ECadGFPki-hetero_24pre29_bin140x_mov6/3DResults/%s_40x_bin1_05_5min_1_w2CSU-488_s9_t167.tif\n"
     ]
    },
    {
     "name": "stderr",
     "output_type": "stream",
     "text": [
      "100%|██████████| 64/64 [03:23<00:00,  2.65s/it]  \n"
     ]
    },
    {
     "name": "stdout",
     "output_type": "stream",
     "text": [
      "Saving file/data/u934/service_imagerie/v_kapoor/Fl4-2-Var/forFOLDERFutureRestoration/wt_ECadGFPki-hetero_24pre29_bin140x_mov6/3DResults/%s_40x_bin1_05_5min_1_w2CSU-488_s9_t160.tif\n"
     ]
    },
    {
     "name": "stderr",
     "output_type": "stream",
     "text": [
      "100%|██████████| 64/64 [03:22<00:00,  2.62s/it]  \n"
     ]
    },
    {
     "name": "stdout",
     "output_type": "stream",
     "text": [
      "Saving file/data/u934/service_imagerie/v_kapoor/Fl4-2-Var/forFOLDERFutureRestoration/wt_ECadGFPki-hetero_24pre29_bin140x_mov6/3DResults/%s_40x_bin1_05_5min_1_w2CSU-488_s9_t73.tif\n"
     ]
    },
    {
     "name": "stderr",
     "output_type": "stream",
     "text": [
      "100%|██████████| 64/64 [03:24<00:00,  2.67s/it]  \n"
     ]
    },
    {
     "name": "stdout",
     "output_type": "stream",
     "text": [
      "Saving file/data/u934/service_imagerie/v_kapoor/Fl4-2-Var/forFOLDERFutureRestoration/wt_ECadGFPki-hetero_24pre29_bin140x_mov6/3DResults/%s_40x_bin1_05_5min_1_w2CSU-488_s9_t155.tif\n"
     ]
    },
    {
     "name": "stderr",
     "output_type": "stream",
     "text": [
      "100%|██████████| 64/64 [03:21<00:00,  2.64s/it]  \n"
     ]
    },
    {
     "name": "stdout",
     "output_type": "stream",
     "text": [
      "Saving file/data/u934/service_imagerie/v_kapoor/Fl4-2-Var/forFOLDERFutureRestoration/wt_ECadGFPki-hetero_24pre29_bin140x_mov6/3DResults/%s_40x_bin1_05_5min_1_w2CSU-488_s9_t184.tif\n"
     ]
    },
    {
     "name": "stderr",
     "output_type": "stream",
     "text": [
      "100%|██████████| 64/64 [03:24<00:00,  2.69s/it]  \n"
     ]
    },
    {
     "name": "stdout",
     "output_type": "stream",
     "text": [
      "Saving file/data/u934/service_imagerie/v_kapoor/Fl4-2-Var/forFOLDERFutureRestoration/wt_ECadGFPki-hetero_24pre29_bin140x_mov6/3DResults/%s_40x_bin1_05_5min_1_w2CSU-488_s9_t129.tif\n"
     ]
    },
    {
     "name": "stderr",
     "output_type": "stream",
     "text": [
      "100%|██████████| 64/64 [03:22<00:00,  2.66s/it]  \n"
     ]
    },
    {
     "name": "stdout",
     "output_type": "stream",
     "text": [
      "Saving file/data/u934/service_imagerie/v_kapoor/Fl4-2-Var/forFOLDERFutureRestoration/wt_ECadGFPki-hetero_24pre29_bin140x_mov6/3DResults/%s_40x_bin1_05_5min_1_w2CSU-488_s9_t46.tif\n"
     ]
    },
    {
     "name": "stderr",
     "output_type": "stream",
     "text": [
      "100%|██████████| 64/64 [03:23<00:00,  2.65s/it]  \n"
     ]
    },
    {
     "name": "stdout",
     "output_type": "stream",
     "text": [
      "Saving file/data/u934/service_imagerie/v_kapoor/Fl4-2-Var/forFOLDERFutureRestoration/wt_ECadGFPki-hetero_24pre29_bin140x_mov6/3DResults/%s_40x_bin1_05_5min_1_w2CSU-488_s9_t97.tif\n"
     ]
    },
    {
     "name": "stderr",
     "output_type": "stream",
     "text": [
      "100%|██████████| 64/64 [03:22<00:00,  2.64s/it]  \n"
     ]
    },
    {
     "name": "stdout",
     "output_type": "stream",
     "text": [
      "Saving file/data/u934/service_imagerie/v_kapoor/Fl4-2-Var/forFOLDERFutureRestoration/wt_ECadGFPki-hetero_24pre29_bin140x_mov6/3DResults/%s_40x_bin1_05_5min_1_w2CSU-488_s9_t41.tif\n"
     ]
    },
    {
     "name": "stderr",
     "output_type": "stream",
     "text": [
      "100%|██████████| 64/64 [03:23<00:00,  2.68s/it]  \n"
     ]
    },
    {
     "name": "stdout",
     "output_type": "stream",
     "text": [
      "Saving file/data/u934/service_imagerie/v_kapoor/Fl4-2-Var/forFOLDERFutureRestoration/wt_ECadGFPki-hetero_24pre29_bin140x_mov6/3DResults/%s_40x_bin1_05_5min_1_w2CSU-488_s9_t90.tif\n"
     ]
    },
    {
     "name": "stderr",
     "output_type": "stream",
     "text": [
      "100%|██████████| 64/64 [03:23<00:00,  2.66s/it]  \n"
     ]
    },
    {
     "name": "stdout",
     "output_type": "stream",
     "text": [
      "Saving file/data/u934/service_imagerie/v_kapoor/Fl4-2-Var/forFOLDERFutureRestoration/wt_ECadGFPki-hetero_24pre29_bin140x_mov6/3DResults/%s_40x_bin1_05_5min_1_w2CSU-488_s9_t239.tif\n"
     ]
    },
    {
     "name": "stderr",
     "output_type": "stream",
     "text": [
      "100%|██████████| 64/64 [03:23<00:00,  2.64s/it]  \n"
     ]
    },
    {
     "name": "stdout",
     "output_type": "stream",
     "text": [
      "Saving file/data/u934/service_imagerie/v_kapoor/Fl4-2-Var/forFOLDERFutureRestoration/wt_ECadGFPki-hetero_24pre29_bin140x_mov6/3DResults/%s_40x_bin1_05_5min_1_w2CSU-488_s9_t152.tif\n"
     ]
    },
    {
     "name": "stderr",
     "output_type": "stream",
     "text": [
      "100%|██████████| 64/64 [03:23<00:00,  2.68s/it]  \n"
     ]
    },
    {
     "name": "stdout",
     "output_type": "stream",
     "text": [
      "Saving file/data/u934/service_imagerie/v_kapoor/Fl4-2-Var/forFOLDERFutureRestoration/wt_ECadGFPki-hetero_24pre29_bin140x_mov6/3DResults/%s_40x_bin1_05_5min_1_w2CSU-488_s9_t183.tif\n"
     ]
    },
    {
     "name": "stderr",
     "output_type": "stream",
     "text": [
      "100%|██████████| 64/64 [03:24<00:00,  2.66s/it]  \n"
     ]
    },
    {
     "name": "stdout",
     "output_type": "stream",
     "text": [
      "Saving file/data/u934/service_imagerie/v_kapoor/Fl4-2-Var/forFOLDERFutureRestoration/wt_ECadGFPki-hetero_24pre29_bin140x_mov6/3DResults/%s_40x_bin1_05_5min_1_w2CSU-488_s9_t120.tif\n"
     ]
    },
    {
     "name": "stderr",
     "output_type": "stream",
     "text": [
      "100%|██████████| 64/64 [03:23<00:00,  2.63s/it]  \n"
     ]
    },
    {
     "name": "stdout",
     "output_type": "stream",
     "text": [
      "Saving file/data/u934/service_imagerie/v_kapoor/Fl4-2-Var/forFOLDERFutureRestoration/wt_ECadGFPki-hetero_24pre29_bin140x_mov6/3DResults/%s_40x_bin1_05_5min_1_w2CSU-488_s9_t237.tif\n"
     ]
    },
    {
     "name": "stderr",
     "output_type": "stream",
     "text": [
      "100%|██████████| 64/64 [03:23<00:00,  2.66s/it]  \n"
     ]
    },
    {
     "name": "stdout",
     "output_type": "stream",
     "text": [
      "Saving file/data/u934/service_imagerie/v_kapoor/Fl4-2-Var/forFOLDERFutureRestoration/wt_ECadGFPki-hetero_24pre29_bin140x_mov6/3DResults/%s_40x_bin1_05_5min_1_w2CSU-488_s9_t33.tif\n"
     ]
    },
    {
     "name": "stderr",
     "output_type": "stream",
     "text": [
      "100%|██████████| 64/64 [03:23<00:00,  2.64s/it]  \n"
     ]
    },
    {
     "name": "stdout",
     "output_type": "stream",
     "text": [
      "Saving file/data/u934/service_imagerie/v_kapoor/Fl4-2-Var/forFOLDERFutureRestoration/wt_ECadGFPki-hetero_24pre29_bin140x_mov6/3DResults/%s_40x_bin1_05_5min_1_w2CSU-488_s9_t3.tif\n"
     ]
    },
    {
     "name": "stderr",
     "output_type": "stream",
     "text": [
      "100%|██████████| 64/64 [03:24<00:00,  2.66s/it]  \n"
     ]
    },
    {
     "name": "stdout",
     "output_type": "stream",
     "text": [
      "Saving file/data/u934/service_imagerie/v_kapoor/Fl4-2-Var/forFOLDERFutureRestoration/wt_ECadGFPki-hetero_24pre29_bin140x_mov6/3DResults/%s_40x_bin1_05_5min_1_w2CSU-488_s9_t34.tif\n"
     ]
    },
    {
     "name": "stderr",
     "output_type": "stream",
     "text": [
      "100%|██████████| 64/64 [03:22<00:00,  2.67s/it]  \n"
     ]
    },
    {
     "name": "stdout",
     "output_type": "stream",
     "text": [
      "Saving file/data/u934/service_imagerie/v_kapoor/Fl4-2-Var/forFOLDERFutureRestoration/wt_ECadGFPki-hetero_24pre29_bin140x_mov6/3DResults/%s_40x_bin1_05_5min_1_w2CSU-488_s9_t4.tif\n"
     ]
    },
    {
     "name": "stderr",
     "output_type": "stream",
     "text": [
      "100%|██████████| 64/64 [03:23<00:00,  2.66s/it]  \n"
     ]
    },
    {
     "name": "stdout",
     "output_type": "stream",
     "text": [
      "Saving file/data/u934/service_imagerie/v_kapoor/Fl4-2-Var/forFOLDERFutureRestoration/wt_ECadGFPki-hetero_24pre29_bin140x_mov6/3DResults/%s_40x_bin1_05_5min_1_w2CSU-488_s9_t48.tif\n"
     ]
    },
    {
     "name": "stderr",
     "output_type": "stream",
     "text": [
      "100%|██████████| 64/64 [03:23<00:00,  2.68s/it]  \n"
     ]
    },
    {
     "name": "stdout",
     "output_type": "stream",
     "text": [
      "Saving file/data/u934/service_imagerie/v_kapoor/Fl4-2-Var/forFOLDERFutureRestoration/wt_ECadGFPki-hetero_24pre29_bin140x_mov6/3DResults/%s_40x_bin1_05_5min_1_w2CSU-488_s9_t127.tif\n"
     ]
    },
    {
     "name": "stderr",
     "output_type": "stream",
     "text": [
      "100%|██████████| 64/64 [03:24<00:00,  2.65s/it]  \n"
     ]
    },
    {
     "name": "stdout",
     "output_type": "stream",
     "text": [
      "Saving file/data/u934/service_imagerie/v_kapoor/Fl4-2-Var/forFOLDERFutureRestoration/wt_ECadGFPki-hetero_24pre29_bin140x_mov6/3DResults/%s_40x_bin1_05_5min_1_w2CSU-488_s9_t99.tif\n"
     ]
    },
    {
     "name": "stderr",
     "output_type": "stream",
     "text": [
      "100%|██████████| 64/64 [03:23<00:00,  2.64s/it]  \n"
     ]
    },
    {
     "name": "stdout",
     "output_type": "stream",
     "text": [
      "Saving file/data/u934/service_imagerie/v_kapoor/Fl4-2-Var/forFOLDERFutureRestoration/wt_ECadGFPki-hetero_24pre29_bin140x_mov6/3DResults/%s_40x_bin1_05_5min_1_w2CSU-488_s9_t230.tif\n"
     ]
    },
    {
     "name": "stderr",
     "output_type": "stream",
     "text": [
      "100%|██████████| 64/64 [03:23<00:00,  2.67s/it]  \n"
     ]
    },
    {
     "name": "stdout",
     "output_type": "stream",
     "text": [
      "Saving file/data/u934/service_imagerie/v_kapoor/Fl4-2-Var/forFOLDERFutureRestoration/wt_ECadGFPki-hetero_24pre29_bin140x_mov6/3DResults/%s_40x_bin1_05_5min_1_w2CSU-488_s9_t11.tif\n"
     ]
    },
    {
     "name": "stderr",
     "output_type": "stream",
     "text": [
      "100%|██████████| 64/64 [03:21<00:00,  2.62s/it]  \n"
     ]
    },
    {
     "name": "stdout",
     "output_type": "stream",
     "text": [
      "Saving file/data/u934/service_imagerie/v_kapoor/Fl4-2-Var/forFOLDERFutureRestoration/wt_ECadGFPki-hetero_24pre29_bin140x_mov6/3DResults/%s_40x_bin1_05_5min_1_w2CSU-488_s9_t102.tif\n"
     ]
    },
    {
     "name": "stderr",
     "output_type": "stream",
     "text": [
      "100%|██████████| 64/64 [03:24<00:00,  2.65s/it]  \n"
     ]
    },
    {
     "name": "stdout",
     "output_type": "stream",
     "text": [
      "Saving file/data/u934/service_imagerie/v_kapoor/Fl4-2-Var/forFOLDERFutureRestoration/wt_ECadGFPki-hetero_24pre29_bin140x_mov6/3DResults/%s_40x_bin1_05_5min_1_w2CSU-488_s9_t215.tif\n"
     ]
    },
    {
     "name": "stderr",
     "output_type": "stream",
     "text": [
      "100%|██████████| 64/64 [03:22<00:00,  2.64s/it]  \n"
     ]
    },
    {
     "name": "stdout",
     "output_type": "stream",
     "text": [
      "Saving file/data/u934/service_imagerie/v_kapoor/Fl4-2-Var/forFOLDERFutureRestoration/wt_ECadGFPki-hetero_24pre29_bin140x_mov6/3DResults/%s_40x_bin1_05_5min_1_w2CSU-488_s9_t105.tif\n"
     ]
    },
    {
     "name": "stderr",
     "output_type": "stream",
     "text": [
      "100%|██████████| 64/64 [03:24<00:00,  2.66s/it]  \n"
     ]
    },
    {
     "name": "stdout",
     "output_type": "stream",
     "text": [
      "Saving file/data/u934/service_imagerie/v_kapoor/Fl4-2-Var/forFOLDERFutureRestoration/wt_ECadGFPki-hetero_24pre29_bin140x_mov6/3DResults/%s_40x_bin1_05_5min_1_w2CSU-488_s9_t212.tif\n"
     ]
    },
    {
     "name": "stderr",
     "output_type": "stream",
     "text": [
      "100%|██████████| 64/64 [03:22<00:00,  2.65s/it]  \n"
     ]
    },
    {
     "name": "stdout",
     "output_type": "stream",
     "text": [
      "Saving file/data/u934/service_imagerie/v_kapoor/Fl4-2-Var/forFOLDERFutureRestoration/wt_ECadGFPki-hetero_24pre29_bin140x_mov6/3DResults/%s_40x_bin1_05_5min_1_w2CSU-488_s9_t179.tif\n"
     ]
    },
    {
     "name": "stderr",
     "output_type": "stream",
     "text": [
      "100%|██████████| 64/64 [03:23<00:00,  2.66s/it]  \n"
     ]
    },
    {
     "name": "stdout",
     "output_type": "stream",
     "text": [
      "Saving file/data/u934/service_imagerie/v_kapoor/Fl4-2-Var/forFOLDERFutureRestoration/wt_ECadGFPki-hetero_24pre29_bin140x_mov6/3DResults/%s_40x_bin1_05_5min_1_w2CSU-488_s9_t16.tif\n"
     ]
    },
    {
     "name": "stderr",
     "output_type": "stream",
     "text": [
      "100%|██████████| 64/64 [03:22<00:00,  2.68s/it]  \n"
     ]
    },
    {
     "name": "stdout",
     "output_type": "stream",
     "text": [
      "Saving file/data/u934/service_imagerie/v_kapoor/Fl4-2-Var/forFOLDERFutureRestoration/wt_ECadGFPki-hetero_24pre29_bin140x_mov6/3DResults/%s_40x_bin1_05_5min_1_w2CSU-488_s9_t64.tif\n"
     ]
    },
    {
     "name": "stderr",
     "output_type": "stream",
     "text": [
      "100%|██████████| 64/64 [03:25<00:00,  2.65s/it]  \n"
     ]
    },
    {
     "name": "stdout",
     "output_type": "stream",
     "text": [
      "Saving file/data/u934/service_imagerie/v_kapoor/Fl4-2-Var/forFOLDERFutureRestoration/wt_ECadGFPki-hetero_24pre29_bin140x_mov6/3DResults/%s_40x_bin1_05_5min_1_w2CSU-488_s9_t18.tif\n"
     ]
    },
    {
     "name": "stderr",
     "output_type": "stream",
     "text": [
      "100%|██████████| 64/64 [03:23<00:00,  2.67s/it]  \n"
     ]
    },
    {
     "name": "stdout",
     "output_type": "stream",
     "text": [
      "Saving file/data/u934/service_imagerie/v_kapoor/Fl4-2-Var/forFOLDERFutureRestoration/wt_ECadGFPki-hetero_24pre29_bin140x_mov6/3DResults/%s_40x_bin1_05_5min_1_w2CSU-488_s9_t177.tif\n"
     ]
    },
    {
     "name": "stderr",
     "output_type": "stream",
     "text": [
      "100%|██████████| 64/64 [03:24<00:00,  2.67s/it]  \n"
     ]
    },
    {
     "name": "stdout",
     "output_type": "stream",
     "text": [
      "Saving file/data/u934/service_imagerie/v_kapoor/Fl4-2-Var/forFOLDERFutureRestoration/wt_ECadGFPki-hetero_24pre29_bin140x_mov6/3DResults/%s_40x_bin1_05_5min_1_w2CSU-488_s9_t170.tif\n"
     ]
    },
    {
     "name": "stderr",
     "output_type": "stream",
     "text": [
      "100%|██████████| 64/64 [03:23<00:00,  2.64s/it]  \n"
     ]
    },
    {
     "name": "stdout",
     "output_type": "stream",
     "text": [
      "Saving file/data/u934/service_imagerie/v_kapoor/Fl4-2-Var/forFOLDERFutureRestoration/wt_ECadGFPki-hetero_24pre29_bin140x_mov6/3DResults/%s_40x_bin1_05_5min_1_w2CSU-488_s9_t63.tif\n"
     ]
    },
    {
     "name": "stderr",
     "output_type": "stream",
     "text": [
      "100%|██████████| 64/64 [03:24<00:00,  2.66s/it]  \n"
     ]
    },
    {
     "name": "stdout",
     "output_type": "stream",
     "text": [
      "Saving file/data/u934/service_imagerie/v_kapoor/Fl4-2-Var/forFOLDERFutureRestoration/wt_ECadGFPki-hetero_24pre29_bin140x_mov6/3DResults/%s_40x_bin1_05_5min_1_w2CSU-488_s9_t194.tif\n"
     ]
    },
    {
     "name": "stderr",
     "output_type": "stream",
     "text": [
      "100%|██████████| 64/64 [03:22<00:00,  2.64s/it]  \n"
     ]
    },
    {
     "name": "stdout",
     "output_type": "stream",
     "text": [
      "Saving file/data/u934/service_imagerie/v_kapoor/Fl4-2-Var/forFOLDERFutureRestoration/wt_ECadGFPki-hetero_24pre29_bin140x_mov6/3DResults/%s_40x_bin1_05_5min_1_w2CSU-488_s9_t145.tif\n"
     ]
    },
    {
     "name": "stderr",
     "output_type": "stream",
     "text": [
      "100%|██████████| 64/64 [03:24<00:00,  2.68s/it]  \n"
     ]
    },
    {
     "name": "stdout",
     "output_type": "stream",
     "text": [
      "Saving file/data/u934/service_imagerie/v_kapoor/Fl4-2-Var/forFOLDERFutureRestoration/wt_ECadGFPki-hetero_24pre29_bin140x_mov6/3DResults/%s_40x_bin1_05_5min_1_w2CSU-488_s9_t87.tif\n"
     ]
    },
    {
     "name": "stderr",
     "output_type": "stream",
     "text": [
      "100%|██████████| 64/64 [03:23<00:00,  2.66s/it]  \n"
     ]
    },
    {
     "name": "stdout",
     "output_type": "stream",
     "text": [
      "Saving file/data/u934/service_imagerie/v_kapoor/Fl4-2-Var/forFOLDERFutureRestoration/wt_ECadGFPki-hetero_24pre29_bin140x_mov6/3DResults/%s_40x_bin1_05_5min_1_w2CSU-488_s9_t139.tif\n"
     ]
    },
    {
     "name": "stderr",
     "output_type": "stream",
     "text": [
      "100%|██████████| 64/64 [03:25<00:00,  2.68s/it]  \n"
     ]
    },
    {
     "name": "stdout",
     "output_type": "stream",
     "text": [
      "Saving file/data/u934/service_imagerie/v_kapoor/Fl4-2-Var/forFOLDERFutureRestoration/wt_ECadGFPki-hetero_24pre29_bin140x_mov6/3DResults/%s_40x_bin1_05_5min_1_w2CSU-488_s9_t56.tif\n"
     ]
    },
    {
     "name": "stderr",
     "output_type": "stream",
     "text": [
      "100%|██████████| 64/64 [03:24<00:00,  2.66s/it]  \n"
     ]
    },
    {
     "name": "stdout",
     "output_type": "stream",
     "text": [
      "Saving file/data/u934/service_imagerie/v_kapoor/Fl4-2-Var/forFOLDERFutureRestoration/wt_ECadGFPki-hetero_24pre29_bin140x_mov6/3DResults/%s_40x_bin1_05_5min_1_w2CSU-488_s9_t80.tif\n"
     ]
    },
    {
     "name": "stderr",
     "output_type": "stream",
     "text": [
      "100%|██████████| 64/64 [03:24<00:00,  2.66s/it]  \n"
     ]
    },
    {
     "name": "stdout",
     "output_type": "stream",
     "text": [
      "Saving file/data/u934/service_imagerie/v_kapoor/Fl4-2-Var/forFOLDERFutureRestoration/wt_ECadGFPki-hetero_24pre29_bin140x_mov6/3DResults/%s_40x_bin1_05_5min_1_w2CSU-488_s9_t229.tif\n"
     ]
    },
    {
     "name": "stderr",
     "output_type": "stream",
     "text": [
      "100%|██████████| 64/64 [03:23<00:00,  2.66s/it]  \n"
     ]
    },
    {
     "name": "stdout",
     "output_type": "stream",
     "text": [
      "Saving file/data/u934/service_imagerie/v_kapoor/Fl4-2-Var/forFOLDERFutureRestoration/wt_ECadGFPki-hetero_24pre29_bin140x_mov6/3DResults/%s_40x_bin1_05_5min_1_w2CSU-488_s9_t51.tif\n"
     ]
    },
    {
     "name": "stderr",
     "output_type": "stream",
     "text": [
      "100%|██████████| 64/64 [03:23<00:00,  2.65s/it]  \n"
     ]
    },
    {
     "name": "stdout",
     "output_type": "stream",
     "text": [
      "Saving file/data/u934/service_imagerie/v_kapoor/Fl4-2-Var/forFOLDERFutureRestoration/wt_ECadGFPki-hetero_24pre29_bin140x_mov6/3DResults/%s_40x_bin1_05_5min_1_w2CSU-488_s9_t193.tif\n"
     ]
    },
    {
     "name": "stderr",
     "output_type": "stream",
     "text": [
      "100%|██████████| 64/64 [03:21<00:00,  2.63s/it]  \n"
     ]
    },
    {
     "name": "stdout",
     "output_type": "stream",
     "text": [
      "Saving file/data/u934/service_imagerie/v_kapoor/Fl4-2-Var/forFOLDERFutureRestoration/wt_ECadGFPki-hetero_24pre29_bin140x_mov6/3DResults/%s_40x_bin1_05_5min_1_w2CSU-488_s9_t142.tif\n"
     ]
    },
    {
     "name": "stderr",
     "output_type": "stream",
     "text": [
      "100%|██████████| 64/64 [03:23<00:00,  2.65s/it]  \n"
     ]
    },
    {
     "name": "stdout",
     "output_type": "stream",
     "text": [
      "Saving file/data/u934/service_imagerie/v_kapoor/Fl4-2-Var/forFOLDERFutureRestoration/wt_ECadGFPki-hetero_24pre29_bin140x_mov6/3DResults/%s_40x_bin1_05_5min_1_w2CSU-488_s9_t227.tif\n"
     ]
    },
    {
     "name": "stderr",
     "output_type": "stream",
     "text": [
      "100%|██████████| 64/64 [03:21<00:00,  2.63s/it]  \n"
     ]
    },
    {
     "name": "stdout",
     "output_type": "stream",
     "text": [
      "Saving file/data/u934/service_imagerie/v_kapoor/Fl4-2-Var/forFOLDERFutureRestoration/wt_ECadGFPki-hetero_24pre29_bin140x_mov6/3DResults/%s_40x_bin1_05_5min_1_w2CSU-488_s9_t130.tif\n"
     ]
    },
    {
     "name": "stderr",
     "output_type": "stream",
     "text": [
      "100%|██████████| 64/64 [03:23<00:00,  2.65s/it]  \n"
     ]
    },
    {
     "name": "stdout",
     "output_type": "stream",
     "text": [
      "Saving file/data/u934/service_imagerie/v_kapoor/Fl4-2-Var/forFOLDERFutureRestoration/wt_ECadGFPki-hetero_24pre29_bin140x_mov6/3DResults/%s_40x_bin1_05_5min_1_w2CSU-488_s9_t23.tif\n"
     ]
    },
    {
     "name": "stderr",
     "output_type": "stream",
     "text": [
      "100%|██████████| 64/64 [03:22<00:00,  2.62s/it]  \n"
     ]
    },
    {
     "name": "stdout",
     "output_type": "stream",
     "text": [
      "Saving file/data/u934/service_imagerie/v_kapoor/Fl4-2-Var/forFOLDERFutureRestoration/wt_ECadGFPki-hetero_24pre29_bin140x_mov6/3DResults/%s_40x_bin1_05_5min_1_w2CSU-488_s9_t24.tif\n"
     ]
    },
    {
     "name": "stderr",
     "output_type": "stream",
     "text": [
      "100%|██████████| 64/64 [03:23<00:00,  2.67s/it]  \n"
     ]
    },
    {
     "name": "stdout",
     "output_type": "stream",
     "text": [
      "Saving file/data/u934/service_imagerie/v_kapoor/Fl4-2-Var/forFOLDERFutureRestoration/wt_ECadGFPki-hetero_24pre29_bin140x_mov6/3DResults/%s_40x_bin1_05_5min_1_w2CSU-488_s9_t89.tif\n"
     ]
    },
    {
     "name": "stderr",
     "output_type": "stream",
     "text": [
      "100%|██████████| 64/64 [03:21<00:00,  2.63s/it]  \n"
     ]
    },
    {
     "name": "stdout",
     "output_type": "stream",
     "text": [
      "Saving file/data/u934/service_imagerie/v_kapoor/Fl4-2-Var/forFOLDERFutureRestoration/wt_ECadGFPki-hetero_24pre29_bin140x_mov6/3DResults/%s_40x_bin1_05_5min_1_w2CSU-488_s9_t220.tif\n"
     ]
    },
    {
     "name": "stderr",
     "output_type": "stream",
     "text": [
      "100%|██████████| 64/64 [03:23<00:00,  2.66s/it]  \n"
     ]
    },
    {
     "name": "stdout",
     "output_type": "stream",
     "text": [
      "Saving file/data/u934/service_imagerie/v_kapoor/Fl4-2-Var/forFOLDERFutureRestoration/wt_ECadGFPki-hetero_24pre29_bin140x_mov6/3DResults/%s_40x_bin1_05_5min_1_w2CSU-488_s9_t58.tif\n"
     ]
    },
    {
     "name": "stderr",
     "output_type": "stream",
     "text": [
      "100%|██████████| 64/64 [03:22<00:00,  2.63s/it]  \n"
     ]
    },
    {
     "name": "stdout",
     "output_type": "stream",
     "text": [
      "Saving file/data/u934/service_imagerie/v_kapoor/Fl4-2-Var/forFOLDERFutureRestoration/wt_ECadGFPki-hetero_24pre29_bin140x_mov6/3DResults/%s_40x_bin1_05_5min_1_w2CSU-488_s9_t137.tif\n"
     ]
    },
    {
     "name": "stderr",
     "output_type": "stream",
     "text": [
      "100%|██████████| 64/64 [03:24<00:00,  2.66s/it]  \n"
     ]
    },
    {
     "name": "stdout",
     "output_type": "stream",
     "text": [
      "Saving file/data/u934/service_imagerie/v_kapoor/Fl4-2-Var/forFOLDERFutureRestoration/wt_ECadGFPki-hetero_24pre29_bin140x_mov6/3DResults/%s_40x_bin1_05_5min_1_w2CSU-488_s9_t35.tif\n"
     ]
    },
    {
     "name": "stderr",
     "output_type": "stream",
     "text": [
      "100%|██████████| 64/64 [03:22<00:00,  2.65s/it]  \n"
     ]
    },
    {
     "name": "stdout",
     "output_type": "stream",
     "text": [
      "Saving file/data/u934/service_imagerie/v_kapoor/Fl4-2-Var/forFOLDERFutureRestoration/wt_ECadGFPki-hetero_24pre29_bin140x_mov6/3DResults/%s_40x_bin1_05_5min_1_w2CSU-488_s9_t5.tif\n"
     ]
    },
    {
     "name": "stderr",
     "output_type": "stream",
     "text": [
      "100%|██████████| 64/64 [03:24<00:00,  2.67s/it]  \n"
     ]
    },
    {
     "name": "stdout",
     "output_type": "stream",
     "text": [
      "Saving file/data/u934/service_imagerie/v_kapoor/Fl4-2-Var/forFOLDERFutureRestoration/wt_ECadGFPki-hetero_24pre29_bin140x_mov6/3DResults/%s_40x_bin1_05_5min_1_w2CSU-488_s9_t126.tif\n"
     ]
    },
    {
     "name": "stderr",
     "output_type": "stream",
     "text": [
      "100%|██████████| 64/64 [03:22<00:00,  2.63s/it]  \n"
     ]
    },
    {
     "name": "stdout",
     "output_type": "stream",
     "text": [
      "Saving file/data/u934/service_imagerie/v_kapoor/Fl4-2-Var/forFOLDERFutureRestoration/wt_ECadGFPki-hetero_24pre29_bin140x_mov6/3DResults/%s_40x_bin1_05_5min_1_w2CSU-488_s9_t49.tif\n"
     ]
    },
    {
     "name": "stderr",
     "output_type": "stream",
     "text": [
      "100%|██████████| 64/64 [03:24<00:00,  2.66s/it]  \n"
     ]
    },
    {
     "name": "stdout",
     "output_type": "stream",
     "text": [
      "Saving file/data/u934/service_imagerie/v_kapoor/Fl4-2-Var/forFOLDERFutureRestoration/wt_ECadGFPki-hetero_24pre29_bin140x_mov6/3DResults/%s_40x_bin1_05_5min_1_w2CSU-488_s9_t98.tif\n"
     ]
    },
    {
     "name": "stderr",
     "output_type": "stream",
     "text": [
      "100%|██████████| 64/64 [03:23<00:00,  2.66s/it]  \n"
     ]
    },
    {
     "name": "stdout",
     "output_type": "stream",
     "text": [
      "Saving file/data/u934/service_imagerie/v_kapoor/Fl4-2-Var/forFOLDERFutureRestoration/wt_ECadGFPki-hetero_24pre29_bin140x_mov6/3DResults/%s_40x_bin1_05_5min_1_w2CSU-488_s9_t231.tif\n"
     ]
    },
    {
     "name": "stderr",
     "output_type": "stream",
     "text": [
      "100%|██████████| 64/64 [03:24<00:00,  2.66s/it]  \n"
     ]
    },
    {
     "name": "stdout",
     "output_type": "stream",
     "text": [
      "Saving file/data/u934/service_imagerie/v_kapoor/Fl4-2-Var/forFOLDERFutureRestoration/wt_ECadGFPki-hetero_24pre29_bin140x_mov6/3DResults/%s_40x_bin1_05_5min_1_w2CSU-488_s9_t121.tif\n"
     ]
    },
    {
     "name": "stderr",
     "output_type": "stream",
     "text": [
      "100%|██████████| 64/64 [03:22<00:00,  2.66s/it]  \n"
     ]
    },
    {
     "name": "stdout",
     "output_type": "stream",
     "text": [
      "Saving file/data/u934/service_imagerie/v_kapoor/Fl4-2-Var/forFOLDERFutureRestoration/wt_ECadGFPki-hetero_24pre29_bin140x_mov6/3DResults/%s_40x_bin1_05_5min_1_w2CSU-488_s9_t236.tif\n"
     ]
    },
    {
     "name": "stderr",
     "output_type": "stream",
     "text": [
      "100%|██████████| 64/64 [03:24<00:00,  2.70s/it]  \n"
     ]
    },
    {
     "name": "stdout",
     "output_type": "stream",
     "text": [
      "Saving file/data/u934/service_imagerie/v_kapoor/Fl4-2-Var/forFOLDERFutureRestoration/wt_ECadGFPki-hetero_24pre29_bin140x_mov6/3DResults/%s_40x_bin1_05_5min_1_w2CSU-488_s9_t32.tif\n"
     ]
    },
    {
     "name": "stderr",
     "output_type": "stream",
     "text": [
      "100%|██████████| 64/64 [03:24<00:00,  2.68s/it]  \n"
     ]
    },
    {
     "name": "stdout",
     "output_type": "stream",
     "text": [
      "Saving file/data/u934/service_imagerie/v_kapoor/Fl4-2-Var/forFOLDERFutureRestoration/wt_ECadGFPki-hetero_24pre29_bin140x_mov6/3DResults/%s_40x_bin1_05_5min_1_w2CSU-488_s9_t2.tif\n"
     ]
    },
    {
     "name": "stderr",
     "output_type": "stream",
     "text": [
      "100%|██████████| 64/64 [03:24<00:00,  2.66s/it]  \n"
     ]
    },
    {
     "name": "stdout",
     "output_type": "stream",
     "text": [
      "Saving file/data/u934/service_imagerie/v_kapoor/Fl4-2-Var/forFOLDERFutureRestoration/wt_ECadGFPki-hetero_24pre29_bin140x_mov6/3DResults/%s_40x_bin1_05_5min_1_w2CSU-488_s9_t40.tif\n"
     ]
    },
    {
     "name": "stderr",
     "output_type": "stream",
     "text": [
      "100%|██████████| 64/64 [03:23<00:00,  2.65s/it]  \n"
     ]
    },
    {
     "name": "stdout",
     "output_type": "stream",
     "text": [
      "Saving file/data/u934/service_imagerie/v_kapoor/Fl4-2-Var/forFOLDERFutureRestoration/wt_ECadGFPki-hetero_24pre29_bin140x_mov6/3DResults/%s_40x_bin1_05_5min_1_w2CSU-488_s9_t91.tif\n"
     ]
    },
    {
     "name": "stderr",
     "output_type": "stream",
     "text": [
      "100%|██████████| 64/64 [03:25<00:00,  2.68s/it]  \n"
     ]
    },
    {
     "name": "stdout",
     "output_type": "stream",
     "text": [
      "Saving file/data/u934/service_imagerie/v_kapoor/Fl4-2-Var/forFOLDERFutureRestoration/wt_ECadGFPki-hetero_24pre29_bin140x_mov6/3DResults/%s_40x_bin1_05_5min_1_w2CSU-488_s9_t238.tif\n"
     ]
    },
    {
     "name": "stderr",
     "output_type": "stream",
     "text": [
      "100%|██████████| 64/64 [03:22<00:00,  2.66s/it]  \n"
     ]
    },
    {
     "name": "stdout",
     "output_type": "stream",
     "text": [
      "Saving file/data/u934/service_imagerie/v_kapoor/Fl4-2-Var/forFOLDERFutureRestoration/wt_ECadGFPki-hetero_24pre29_bin140x_mov6/3DResults/%s_40x_bin1_05_5min_1_w2CSU-488_s9_t153.tif\n"
     ]
    },
    {
     "name": "stderr",
     "output_type": "stream",
     "text": [
      "100%|██████████| 64/64 [03:24<00:00,  2.68s/it]  \n"
     ]
    },
    {
     "name": "stdout",
     "output_type": "stream",
     "text": [
      "Saving file/data/u934/service_imagerie/v_kapoor/Fl4-2-Var/forFOLDERFutureRestoration/wt_ECadGFPki-hetero_24pre29_bin140x_mov6/3DResults/%s_40x_bin1_05_5min_1_w2CSU-488_s9_t182.tif\n"
     ]
    },
    {
     "name": "stderr",
     "output_type": "stream",
     "text": [
      "100%|██████████| 64/64 [03:24<00:00,  2.64s/it]  \n"
     ]
    },
    {
     "name": "stdout",
     "output_type": "stream",
     "text": [
      "Saving file/data/u934/service_imagerie/v_kapoor/Fl4-2-Var/forFOLDERFutureRestoration/wt_ECadGFPki-hetero_24pre29_bin140x_mov6/3DResults/%s_40x_bin1_05_5min_1_w2CSU-488_s9_t154.tif\n"
     ]
    },
    {
     "name": "stderr",
     "output_type": "stream",
     "text": [
      "100%|██████████| 64/64 [03:23<00:00,  2.66s/it]  \n"
     ]
    },
    {
     "name": "stdout",
     "output_type": "stream",
     "text": [
      "Saving file/data/u934/service_imagerie/v_kapoor/Fl4-2-Var/forFOLDERFutureRestoration/wt_ECadGFPki-hetero_24pre29_bin140x_mov6/3DResults/%s_40x_bin1_05_5min_1_w2CSU-488_s9_t185.tif\n"
     ]
    },
    {
     "name": "stderr",
     "output_type": "stream",
     "text": [
      "100%|██████████| 64/64 [03:21<00:00,  2.63s/it]  \n"
     ]
    },
    {
     "name": "stdout",
     "output_type": "stream",
     "text": [
      "Saving file/data/u934/service_imagerie/v_kapoor/Fl4-2-Var/forFOLDERFutureRestoration/wt_ECadGFPki-hetero_24pre29_bin140x_mov6/3DResults/%s_40x_bin1_05_5min_1_w2CSU-488_s9_t47.tif\n"
     ]
    },
    {
     "name": "stderr",
     "output_type": "stream",
     "text": [
      "100%|██████████| 64/64 [03:23<00:00,  2.67s/it]  \n"
     ]
    },
    {
     "name": "stdout",
     "output_type": "stream",
     "text": [
      "Saving file/data/u934/service_imagerie/v_kapoor/Fl4-2-Var/forFOLDERFutureRestoration/wt_ECadGFPki-hetero_24pre29_bin140x_mov6/3DResults/%s_40x_bin1_05_5min_1_w2CSU-488_s9_t128.tif\n"
     ]
    },
    {
     "name": "stderr",
     "output_type": "stream",
     "text": [
      "100%|██████████| 64/64 [03:22<00:00,  2.64s/it]  \n"
     ]
    },
    {
     "name": "stdout",
     "output_type": "stream",
     "text": [
      "Saving file/data/u934/service_imagerie/v_kapoor/Fl4-2-Var/forFOLDERFutureRestoration/wt_ECadGFPki-hetero_24pre29_bin140x_mov6/3DResults/%s_40x_bin1_05_5min_1_w2CSU-488_s9_t96.tif\n"
     ]
    },
    {
     "name": "stderr",
     "output_type": "stream",
     "text": [
      "100%|██████████| 64/64 [03:23<00:00,  2.66s/it]  \n"
     ]
    },
    {
     "name": "stdout",
     "output_type": "stream",
     "text": [
      "Saving file/data/u934/service_imagerie/v_kapoor/Fl4-2-Var/forFOLDERFutureRestoration/wt_ECadGFPki-hetero_24pre29_bin140x_mov6/3DResults/%s_40x_bin1_05_5min_1_w2CSU-488_s9_t161.tif\n"
     ]
    },
    {
     "name": "stderr",
     "output_type": "stream",
     "text": [
      "100%|██████████| 64/64 [03:23<00:00,  2.66s/it]  \n"
     ]
    },
    {
     "name": "stdout",
     "output_type": "stream",
     "text": [
      "Saving file/data/u934/service_imagerie/v_kapoor/Fl4-2-Var/forFOLDERFutureRestoration/wt_ECadGFPki-hetero_24pre29_bin140x_mov6/3DResults/%s_40x_bin1_05_5min_1_w2CSU-488_s9_t72.tif\n"
     ]
    },
    {
     "name": "stderr",
     "output_type": "stream",
     "text": [
      "100%|██████████| 64/64 [03:24<00:00,  2.68s/it]  \n"
     ]
    },
    {
     "name": "stdout",
     "output_type": "stream",
     "text": [
      "Saving file/data/u934/service_imagerie/v_kapoor/Fl4-2-Var/forFOLDERFutureRestoration/wt_ECadGFPki-hetero_24pre29_bin140x_mov6/3DResults/%s_40x_bin1_05_5min_1_w2CSU-488_s9_t75.tif\n"
     ]
    },
    {
     "name": "stderr",
     "output_type": "stream",
     "text": [
      "100%|██████████| 64/64 [03:22<00:00,  2.64s/it]  \n"
     ]
    },
    {
     "name": "stdout",
     "output_type": "stream",
     "text": [
      "Saving file/data/u934/service_imagerie/v_kapoor/Fl4-2-Var/forFOLDERFutureRestoration/wt_ECadGFPki-hetero_24pre29_bin140x_mov6/3DResults/%s_40x_bin1_05_5min_1_w2CSU-488_s9_t166.tif\n"
     ]
    },
    {
     "name": "stderr",
     "output_type": "stream",
     "text": [
      "100%|██████████| 64/64 [03:23<00:00,  2.68s/it]  \n"
     ]
    },
    {
     "name": "stdout",
     "output_type": "stream",
     "text": [
      "Saving file/data/u934/service_imagerie/v_kapoor/Fl4-2-Var/forFOLDERFutureRestoration/wt_ECadGFPki-hetero_24pre29_bin140x_mov6/3DResults/%s_40x_bin1_05_5min_1_w2CSU-488_s9_t203.tif\n"
     ]
    },
    {
     "name": "stderr",
     "output_type": "stream",
     "text": [
      "100%|██████████| 64/64 [03:23<00:00,  2.67s/it]  \n"
     ]
    },
    {
     "name": "stdout",
     "output_type": "stream",
     "text": [
      "Saving file/data/u934/service_imagerie/v_kapoor/Fl4-2-Var/forFOLDERFutureRestoration/wt_ECadGFPki-hetero_24pre29_bin140x_mov6/3DResults/%s_40x_bin1_05_5min_1_w2CSU-488_s9_t114.tif\n"
     ]
    },
    {
     "name": "stderr",
     "output_type": "stream",
     "text": [
      "100%|██████████| 64/64 [03:25<00:00,  2.69s/it]  \n"
     ]
    },
    {
     "name": "stdout",
     "output_type": "stream",
     "text": [
      "Saving file/data/u934/service_imagerie/v_kapoor/Fl4-2-Var/forFOLDERFutureRestoration/wt_ECadGFPki-hetero_24pre29_bin140x_mov6/3DResults/%s_40x_bin1_05_5min_1_w2CSU-488_s9_t168.tif\n"
     ]
    },
    {
     "name": "stderr",
     "output_type": "stream",
     "text": [
      "100%|██████████| 64/64 [03:22<00:00,  2.63s/it]  \n"
     ]
    },
    {
     "name": "stdout",
     "output_type": "stream",
     "text": [
      "Saving file/data/u934/service_imagerie/v_kapoor/Fl4-2-Var/forFOLDERFutureRestoration/wt_ECadGFPki-hetero_24pre29_bin140x_mov6/3DResults/%s_40x_bin1_05_5min_1_w2CSU-488_s9_t204.tif\n"
     ]
    },
    {
     "name": "stderr",
     "output_type": "stream",
     "text": [
      "100%|██████████| 64/64 [03:23<00:00,  2.66s/it]  \n"
     ]
    },
    {
     "name": "stdout",
     "output_type": "stream",
     "text": [
      "Saving file/data/u934/service_imagerie/v_kapoor/Fl4-2-Var/forFOLDERFutureRestoration/wt_ECadGFPki-hetero_24pre29_bin140x_mov6/3DResults/%s_40x_bin1_05_5min_1_w2CSU-488_s9_t113.tif\n"
     ]
    },
    {
     "name": "stderr",
     "output_type": "stream",
     "text": [
      "100%|██████████| 64/64 [03:23<00:00,  2.63s/it]  \n"
     ]
    },
    {
     "name": "stdout",
     "output_type": "stream",
     "text": [
      "Saving file/data/u934/service_imagerie/v_kapoor/Fl4-2-Var/forFOLDERFutureRestoration/pnrG4_ECadGFPki-hetero_30pre29_bin140x_mov4/3DResults/%s_40x_bin1_05_5min_1-2-3dys_3-4-5-6-7wt_1_w2CSU-488_s6_t35.tif\n"
     ]
    },
    {
     "name": "stderr",
     "output_type": "stream",
     "text": [
      "100%|██████████| 64/64 [03:23<00:00,  2.66s/it]  \n"
     ]
    },
    {
     "name": "stdout",
     "output_type": "stream",
     "text": [
      "Saving file/data/u934/service_imagerie/v_kapoor/Fl4-2-Var/forFOLDERFutureRestoration/pnrG4_ECadGFPki-hetero_30pre29_bin140x_mov4/3DResults/%s_40x_bin1_05_5min_1-2-3dys_3-4-5-6-7wt_1_w2CSU-488_s6_t135.tif\n"
     ]
    },
    {
     "name": "stderr",
     "output_type": "stream",
     "text": [
      "100%|██████████| 64/64 [03:23<00:00,  2.65s/it]  \n"
     ]
    },
    {
     "name": "stdout",
     "output_type": "stream",
     "text": [
      "Saving file/data/u934/service_imagerie/v_kapoor/Fl4-2-Var/forFOLDERFutureRestoration/pnrG4_ECadGFPki-hetero_30pre29_bin140x_mov4/3DResults/%s_40x_bin1_05_5min_1-2-3dys_3-4-5-6-7wt_1_w2CSU-488_s6_t49.tif\n"
     ]
    },
    {
     "name": "stderr",
     "output_type": "stream",
     "text": [
      "100%|██████████| 64/64 [03:25<00:00,  2.66s/it]  \n"
     ]
    },
    {
     "name": "stdout",
     "output_type": "stream",
     "text": [
      "Saving file/data/u934/service_imagerie/v_kapoor/Fl4-2-Var/forFOLDERFutureRestoration/pnrG4_ECadGFPki-hetero_30pre29_bin140x_mov4/3DResults/%s_40x_bin1_05_5min_1-2-3dys_3-4-5-6-7wt_1_w2CSU-488_s6_t149.tif\n"
     ]
    },
    {
     "name": "stderr",
     "output_type": "stream",
     "text": [
      "100%|██████████| 64/64 [03:22<00:00,  2.63s/it]  \n"
     ]
    },
    {
     "name": "stdout",
     "output_type": "stream",
     "text": [
      "Saving file/data/u934/service_imagerie/v_kapoor/Fl4-2-Var/forFOLDERFutureRestoration/pnrG4_ECadGFPki-hetero_30pre29_bin140x_mov4/3DResults/%s_40x_bin1_05_5min_1-2-3dys_3-4-5-6-7wt_1_w2CSU-488_s6_t198.tif\n"
     ]
    },
    {
     "name": "stderr",
     "output_type": "stream",
     "text": [
      "100%|██████████| 64/64 [03:23<00:00,  2.65s/it]  \n"
     ]
    },
    {
     "name": "stdout",
     "output_type": "stream",
     "text": [
      "Saving file/data/u934/service_imagerie/v_kapoor/Fl4-2-Var/forFOLDERFutureRestoration/pnrG4_ECadGFPki-hetero_30pre29_bin140x_mov4/3DResults/%s_40x_bin1_05_5min_1-2-3dys_3-4-5-6-7wt_1_w2CSU-488_s6_t98.tif\n"
     ]
    },
    {
     "name": "stderr",
     "output_type": "stream",
     "text": [
      "100%|██████████| 64/64 [03:22<00:00,  2.63s/it]  \n"
     ]
    },
    {
     "name": "stdout",
     "output_type": "stream",
     "text": [
      "Saving file/data/u934/service_imagerie/v_kapoor/Fl4-2-Var/forFOLDERFutureRestoration/pnrG4_ECadGFPki-hetero_30pre29_bin140x_mov4/3DResults/%s_40x_bin1_05_5min_1-2-3dys_3-4-5-6-7wt_1_w2CSU-488_s6_t32.tif\n"
     ]
    },
    {
     "name": "stderr",
     "output_type": "stream",
     "text": [
      "100%|██████████| 64/64 [03:23<00:00,  2.65s/it]  \n"
     ]
    },
    {
     "name": "stdout",
     "output_type": "stream",
     "text": [
      "Saving file/data/u934/service_imagerie/v_kapoor/Fl4-2-Var/forFOLDERFutureRestoration/pnrG4_ECadGFPki-hetero_30pre29_bin140x_mov4/3DResults/%s_40x_bin1_05_5min_1-2-3dys_3-4-5-6-7wt_1_w2CSU-488_s6_t132.tif\n"
     ]
    },
    {
     "name": "stderr",
     "output_type": "stream",
     "text": [
      "100%|██████████| 64/64 [03:21<00:00,  2.64s/it]  \n"
     ]
    },
    {
     "name": "stdout",
     "output_type": "stream",
     "text": [
      "Saving file/data/u934/service_imagerie/v_kapoor/Fl4-2-Var/forFOLDERFutureRestoration/pnrG4_ECadGFPki-hetero_30pre29_bin140x_mov4/3DResults/%s_40x_bin1_05_5min_1-2-3dys_3-4-5-6-7wt_1_w2CSU-488_s6_t40.tif\n"
     ]
    },
    {
     "name": "stderr",
     "output_type": "stream",
     "text": [
      "100%|██████████| 64/64 [03:23<00:00,  2.65s/it]  \n"
     ]
    },
    {
     "name": "stdout",
     "output_type": "stream",
     "text": [
      "Saving file/data/u934/service_imagerie/v_kapoor/Fl4-2-Var/forFOLDERFutureRestoration/pnrG4_ECadGFPki-hetero_30pre29_bin140x_mov4/3DResults/%s_40x_bin1_05_5min_1-2-3dys_3-4-5-6-7wt_1_w2CSU-488_s6_t140.tif\n"
     ]
    },
    {
     "name": "stderr",
     "output_type": "stream",
     "text": [
      "100%|██████████| 64/64 [03:21<00:00,  2.63s/it]  \n"
     ]
    },
    {
     "name": "stdout",
     "output_type": "stream",
     "text": [
      "Saving file/data/u934/service_imagerie/v_kapoor/Fl4-2-Var/forFOLDERFutureRestoration/pnrG4_ECadGFPki-hetero_30pre29_bin140x_mov4/3DResults/%s_40x_bin1_05_5min_1-2-3dys_3-4-5-6-7wt_1_w2CSU-488_s6_t191.tif\n"
     ]
    },
    {
     "name": "stderr",
     "output_type": "stream",
     "text": [
      "100%|██████████| 64/64 [03:23<00:00,  2.67s/it]  \n"
     ]
    },
    {
     "name": "stdout",
     "output_type": "stream",
     "text": [
      "Saving file/data/u934/service_imagerie/v_kapoor/Fl4-2-Var/forFOLDERFutureRestoration/pnrG4_ECadGFPki-hetero_30pre29_bin140x_mov4/3DResults/%s_40x_bin1_05_5min_1-2-3dys_3-4-5-6-7wt_1_w2CSU-488_s6_t91.tif\n"
     ]
    },
    {
     "name": "stderr",
     "output_type": "stream",
     "text": [
      "100%|██████████| 64/64 [03:23<00:00,  2.64s/it]  \n"
     ]
    },
    {
     "name": "stdout",
     "output_type": "stream",
     "text": [
      "Saving file/data/u934/service_imagerie/v_kapoor/Fl4-2-Var/forFOLDERFutureRestoration/pnrG4_ECadGFPki-hetero_30pre29_bin140x_mov4/3DResults/%s_40x_bin1_05_5min_1-2-3dys_3-4-5-6-7wt_1_w2CSU-488_s6_t47.tif\n"
     ]
    },
    {
     "name": "stderr",
     "output_type": "stream",
     "text": [
      "100%|██████████| 64/64 [03:23<00:00,  2.65s/it]  \n"
     ]
    },
    {
     "name": "stdout",
     "output_type": "stream",
     "text": [
      "Saving file/data/u934/service_imagerie/v_kapoor/Fl4-2-Var/forFOLDERFutureRestoration/pnrG4_ECadGFPki-hetero_30pre29_bin140x_mov4/3DResults/%s_40x_bin1_05_5min_1-2-3dys_3-4-5-6-7wt_1_w2CSU-488_s6_t147.tif\n"
     ]
    },
    {
     "name": "stderr",
     "output_type": "stream",
     "text": [
      "100%|██████████| 64/64 [03:22<00:00,  2.63s/it]  \n"
     ]
    },
    {
     "name": "stdout",
     "output_type": "stream",
     "text": [
      "Saving file/data/u934/service_imagerie/v_kapoor/Fl4-2-Var/forFOLDERFutureRestoration/pnrG4_ECadGFPki-hetero_30pre29_bin140x_mov4/3DResults/%s_40x_bin1_05_5min_1-2-3dys_3-4-5-6-7wt_1_w2CSU-488_s6_t196.tif\n"
     ]
    },
    {
     "name": "stderr",
     "output_type": "stream",
     "text": [
      "100%|██████████| 64/64 [03:24<00:00,  2.67s/it]  \n"
     ]
    },
    {
     "name": "stdout",
     "output_type": "stream",
     "text": [
      "Saving file/data/u934/service_imagerie/v_kapoor/Fl4-2-Var/forFOLDERFutureRestoration/pnrG4_ECadGFPki-hetero_30pre29_bin140x_mov4/3DResults/%s_40x_bin1_05_5min_1-2-3dys_3-4-5-6-7wt_1_w2CSU-488_s6_t96.tif\n"
     ]
    },
    {
     "name": "stderr",
     "output_type": "stream",
     "text": [
      "100%|██████████| 64/64 [03:22<00:00,  2.64s/it]  \n"
     ]
    },
    {
     "name": "stdout",
     "output_type": "stream",
     "text": [
      "Saving file/data/u934/service_imagerie/v_kapoor/Fl4-2-Var/forFOLDERFutureRestoration/pnrG4_ECadGFPki-hetero_30pre29_bin140x_mov4/3DResults/%s_40x_bin1_05_5min_1-2-3dys_3-4-5-6-7wt_1_w2CSU-488_s6_t172.tif\n"
     ]
    },
    {
     "name": "stderr",
     "output_type": "stream",
     "text": [
      "100%|██████████| 64/64 [03:24<00:00,  2.67s/it]  \n"
     ]
    },
    {
     "name": "stdout",
     "output_type": "stream",
     "text": [
      "Saving file/data/u934/service_imagerie/v_kapoor/Fl4-2-Var/forFOLDERFutureRestoration/pnrG4_ECadGFPki-hetero_30pre29_bin140x_mov4/3DResults/%s_40x_bin1_05_5min_1-2-3dys_3-4-5-6-7wt_1_w2CSU-488_s6_t72.tif\n"
     ]
    },
    {
     "name": "stderr",
     "output_type": "stream",
     "text": [
      "100%|██████████| 64/64 [03:22<00:00,  2.66s/it]  \n"
     ]
    },
    {
     "name": "stdout",
     "output_type": "stream",
     "text": [
      "Saving file/data/u934/service_imagerie/v_kapoor/Fl4-2-Var/forFOLDERFutureRestoration/pnrG4_ECadGFPki-hetero_30pre29_bin140x_mov4/3DResults/%s_40x_bin1_05_5min_1-2-3dys_3-4-5-6-7wt_1_w2CSU-488_s6_t175.tif\n"
     ]
    },
    {
     "name": "stderr",
     "output_type": "stream",
     "text": [
      "100%|██████████| 64/64 [03:23<00:00,  2.65s/it]  \n"
     ]
    },
    {
     "name": "stdout",
     "output_type": "stream",
     "text": [
      "Saving file/data/u934/service_imagerie/v_kapoor/Fl4-2-Var/forFOLDERFutureRestoration/pnrG4_ECadGFPki-hetero_30pre29_bin140x_mov4/3DResults/%s_40x_bin1_05_5min_1-2-3dys_3-4-5-6-7wt_1_w2CSU-488_s6_t75.tif\n"
     ]
    },
    {
     "name": "stderr",
     "output_type": "stream",
     "text": [
      "100%|██████████| 64/64 [03:21<00:00,  2.63s/it]  \n"
     ]
    },
    {
     "name": "stdout",
     "output_type": "stream",
     "text": [
      "Saving file/data/u934/service_imagerie/v_kapoor/Fl4-2-Var/forFOLDERFutureRestoration/pnrG4_ECadGFPki-hetero_30pre29_bin140x_mov4/3DResults/%s_40x_bin1_05_5min_1-2-3dys_3-4-5-6-7wt_1_w2CSU-488_s6_t109.tif\n"
     ]
    },
    {
     "name": "stderr",
     "output_type": "stream",
     "text": [
      "100%|██████████| 64/64 [03:24<00:00,  2.66s/it]  \n"
     ]
    },
    {
     "name": "stdout",
     "output_type": "stream",
     "text": [
      "Saving file/data/u934/service_imagerie/v_kapoor/Fl4-2-Var/forFOLDERFutureRestoration/pnrG4_ECadGFPki-hetero_30pre29_bin140x_mov4/3DResults/%s_40x_bin1_05_5min_1-2-3dys_3-4-5-6-7wt_1_w2CSU-488_s6_t210.tif\n"
     ]
    },
    {
     "name": "stderr",
     "output_type": "stream",
     "text": [
      "100%|██████████| 64/64 [03:22<00:00,  2.63s/it]  \n"
     ]
    },
    {
     "name": "stdout",
     "output_type": "stream",
     "text": [
      "Saving file/data/u934/service_imagerie/v_kapoor/Fl4-2-Var/forFOLDERFutureRestoration/pnrG4_ECadGFPki-hetero_30pre29_bin140x_mov4/3DResults/%s_40x_bin1_05_5min_1-2-3dys_3-4-5-6-7wt_1_w2CSU-488_s6_t107.tif\n"
     ]
    },
    {
     "name": "stderr",
     "output_type": "stream",
     "text": [
      "100%|██████████| 64/64 [03:23<00:00,  2.65s/it]  \n"
     ]
    },
    {
     "name": "stdout",
     "output_type": "stream",
     "text": [
      "Saving file/data/u934/service_imagerie/v_kapoor/Fl4-2-Var/forFOLDERFutureRestoration/pnrG4_ECadGFPki-hetero_30pre29_bin140x_mov4/3DResults/%s_40x_bin1_05_5min_1-2-3dys_3-4-5-6-7wt_1_w2CSU-488_s6_t100.tif\n"
     ]
    },
    {
     "name": "stderr",
     "output_type": "stream",
     "text": [
      "100%|██████████| 64/64 [03:22<00:00,  2.64s/it]  \n"
     ]
    },
    {
     "name": "stdout",
     "output_type": "stream",
     "text": [
      "Saving file/data/u934/service_imagerie/v_kapoor/Fl4-2-Var/forFOLDERFutureRestoration/pnrG4_ECadGFPki-hetero_30pre29_bin140x_mov4/3DResults/%s_40x_bin1_05_5min_1-2-3dys_3-4-5-6-7wt_1_w2CSU-488_s6_t111.tif\n"
     ]
    },
    {
     "name": "stderr",
     "output_type": "stream",
     "text": [
      "100%|██████████| 64/64 [03:24<00:00,  2.67s/it]  \n"
     ]
    },
    {
     "name": "stdout",
     "output_type": "stream",
     "text": [
      "Saving file/data/u934/service_imagerie/v_kapoor/Fl4-2-Var/forFOLDERFutureRestoration/pnrG4_ECadGFPki-hetero_30pre29_bin140x_mov4/3DResults/%s_40x_bin1_05_5min_1-2-3dys_3-4-5-6-7wt_1_w2CSU-488_s6_t11.tif\n"
     ]
    },
    {
     "name": "stderr",
     "output_type": "stream",
     "text": [
      "100%|██████████| 64/64 [03:23<00:00,  2.64s/it]  \n"
     ]
    },
    {
     "name": "stdout",
     "output_type": "stream",
     "text": [
      "Saving file/data/u934/service_imagerie/v_kapoor/Fl4-2-Var/forFOLDERFutureRestoration/pnrG4_ECadGFPki-hetero_30pre29_bin140x_mov4/3DResults/%s_40x_bin1_05_5min_1-2-3dys_3-4-5-6-7wt_1_w2CSU-488_s6_t206.tif\n"
     ]
    },
    {
     "name": "stderr",
     "output_type": "stream",
     "text": [
      "100%|██████████| 64/64 [03:24<00:00,  2.66s/it]  \n"
     ]
    },
    {
     "name": "stdout",
     "output_type": "stream",
     "text": [
      "Saving file/data/u934/service_imagerie/v_kapoor/Fl4-2-Var/forFOLDERFutureRestoration/pnrG4_ECadGFPki-hetero_30pre29_bin140x_mov4/3DResults/%s_40x_bin1_05_5min_1-2-3dys_3-4-5-6-7wt_1_w2CSU-488_s6_t116.tif\n"
     ]
    },
    {
     "name": "stderr",
     "output_type": "stream",
     "text": [
      "100%|██████████| 64/64 [03:22<00:00,  2.62s/it]  \n"
     ]
    },
    {
     "name": "stdout",
     "output_type": "stream",
     "text": [
      "Saving file/data/u934/service_imagerie/v_kapoor/Fl4-2-Var/forFOLDERFutureRestoration/pnrG4_ECadGFPki-hetero_30pre29_bin140x_mov4/3DResults/%s_40x_bin1_05_5min_1-2-3dys_3-4-5-6-7wt_1_w2CSU-488_s6_t16.tif\n"
     ]
    },
    {
     "name": "stderr",
     "output_type": "stream",
     "text": [
      "100%|██████████| 64/64 [03:24<00:00,  2.66s/it]  \n"
     ]
    },
    {
     "name": "stdout",
     "output_type": "stream",
     "text": [
      "Saving file/data/u934/service_imagerie/v_kapoor/Fl4-2-Var/forFOLDERFutureRestoration/pnrG4_ECadGFPki-hetero_30pre29_bin140x_mov4/3DResults/%s_40x_bin1_05_5min_1-2-3dys_3-4-5-6-7wt_1_w2CSU-488_s6_t201.tif\n"
     ]
    },
    {
     "name": "stderr",
     "output_type": "stream",
     "text": [
      "100%|██████████| 64/64 [03:21<00:00,  2.62s/it]  \n"
     ]
    },
    {
     "name": "stdout",
     "output_type": "stream",
     "text": [
      "Saving file/data/u934/service_imagerie/v_kapoor/Fl4-2-Var/forFOLDERFutureRestoration/pnrG4_ECadGFPki-hetero_30pre29_bin140x_mov4/3DResults/%s_40x_bin1_05_5min_1-2-3dys_3-4-5-6-7wt_1_w2CSU-488_s6_t164.tif\n"
     ]
    },
    {
     "name": "stderr",
     "output_type": "stream",
     "text": [
      "100%|██████████| 64/64 [03:24<00:00,  2.65s/it]  \n"
     ]
    },
    {
     "name": "stdout",
     "output_type": "stream",
     "text": [
      "Saving file/data/u934/service_imagerie/v_kapoor/Fl4-2-Var/forFOLDERFutureRestoration/pnrG4_ECadGFPki-hetero_30pre29_bin140x_mov4/3DResults/%s_40x_bin1_05_5min_1-2-3dys_3-4-5-6-7wt_1_w2CSU-488_s6_t64.tif\n"
     ]
    },
    {
     "name": "stderr",
     "output_type": "stream",
     "text": [
      "100%|██████████| 64/64 [03:22<00:00,  2.63s/it]  \n"
     ]
    },
    {
     "name": "stdout",
     "output_type": "stream",
     "text": [
      "Saving file/data/u934/service_imagerie/v_kapoor/Fl4-2-Var/forFOLDERFutureRestoration/pnrG4_ECadGFPki-hetero_30pre29_bin140x_mov4/3DResults/%s_40x_bin1_05_5min_1-2-3dys_3-4-5-6-7wt_1_w2CSU-488_s6_t118.tif\n"
     ]
    },
    {
     "name": "stderr",
     "output_type": "stream",
     "text": [
      "100%|██████████| 64/64 [03:23<00:00,  2.68s/it]  \n"
     ]
    },
    {
     "name": "stdout",
     "output_type": "stream",
     "text": [
      "Saving file/data/u934/service_imagerie/v_kapoor/Fl4-2-Var/forFOLDERFutureRestoration/pnrG4_ECadGFPki-hetero_30pre29_bin140x_mov4/3DResults/%s_40x_bin1_05_5min_1-2-3dys_3-4-5-6-7wt_1_w2CSU-488_s6_t18.tif\n"
     ]
    },
    {
     "name": "stderr",
     "output_type": "stream",
     "text": [
      "100%|██████████| 64/64 [03:22<00:00,  2.63s/it]  \n"
     ]
    },
    {
     "name": "stdout",
     "output_type": "stream",
     "text": [
      "Saving file/data/u934/service_imagerie/v_kapoor/Fl4-2-Var/forFOLDERFutureRestoration/pnrG4_ECadGFPki-hetero_30pre29_bin140x_mov4/3DResults/%s_40x_bin1_05_5min_1-2-3dys_3-4-5-6-7wt_1_w2CSU-488_s6_t208.tif\n"
     ]
    },
    {
     "name": "stderr",
     "output_type": "stream",
     "text": [
      "100%|██████████| 64/64 [03:23<00:00,  2.66s/it]  \n"
     ]
    },
    {
     "name": "stdout",
     "output_type": "stream",
     "text": [
      "Saving file/data/u934/service_imagerie/v_kapoor/Fl4-2-Var/forFOLDERFutureRestoration/pnrG4_ECadGFPki-hetero_30pre29_bin140x_mov4/3DResults/%s_40x_bin1_05_5min_1-2-3dys_3-4-5-6-7wt_1_w2CSU-488_s6_t163.tif\n"
     ]
    },
    {
     "name": "stderr",
     "output_type": "stream",
     "text": [
      "100%|██████████| 64/64 [03:22<00:00,  2.63s/it]  \n"
     ]
    },
    {
     "name": "stdout",
     "output_type": "stream",
     "text": [
      "Saving file/data/u934/service_imagerie/v_kapoor/Fl4-2-Var/forFOLDERFutureRestoration/pnrG4_ECadGFPki-hetero_30pre29_bin140x_mov4/3DResults/%s_40x_bin1_05_5min_1-2-3dys_3-4-5-6-7wt_1_w2CSU-488_s6_t63.tif\n"
     ]
    },
    {
     "name": "stderr",
     "output_type": "stream",
     "text": [
      "100%|██████████| 64/64 [03:24<00:00,  2.65s/it]  \n"
     ]
    },
    {
     "name": "stdout",
     "output_type": "stream",
     "text": [
      "Saving file/data/u934/service_imagerie/v_kapoor/Fl4-2-Var/forFOLDERFutureRestoration/pnrG4_ECadGFPki-hetero_30pre29_bin140x_mov4/3DResults/%s_40x_bin1_05_5min_1-2-3dys_3-4-5-6-7wt_1_w2CSU-488_s6_t187.tif\n"
     ]
    },
    {
     "name": "stderr",
     "output_type": "stream",
     "text": [
      "100%|██████████| 64/64 [03:22<00:00,  2.65s/it]  \n"
     ]
    },
    {
     "name": "stdout",
     "output_type": "stream",
     "text": [
      "Saving file/data/u934/service_imagerie/v_kapoor/Fl4-2-Var/forFOLDERFutureRestoration/pnrG4_ECadGFPki-hetero_30pre29_bin140x_mov4/3DResults/%s_40x_bin1_05_5min_1-2-3dys_3-4-5-6-7wt_1_w2CSU-488_s6_t87.tif\n"
     ]
    },
    {
     "name": "stderr",
     "output_type": "stream",
     "text": [
      "100%|██████████| 64/64 [03:24<00:00,  2.66s/it]  \n"
     ]
    },
    {
     "name": "stdout",
     "output_type": "stream",
     "text": [
      "Saving file/data/u934/service_imagerie/v_kapoor/Fl4-2-Var/forFOLDERFutureRestoration/pnrG4_ECadGFPki-hetero_30pre29_bin140x_mov4/3DResults/%s_40x_bin1_05_5min_1-2-3dys_3-4-5-6-7wt_1_w2CSU-488_s6_t56.tif\n"
     ]
    },
    {
     "name": "stderr",
     "output_type": "stream",
     "text": [
      "100%|██████████| 64/64 [03:22<00:00,  2.63s/it]  \n"
     ]
    },
    {
     "name": "stdout",
     "output_type": "stream",
     "text": [
      "Saving file/data/u934/service_imagerie/v_kapoor/Fl4-2-Var/forFOLDERFutureRestoration/pnrG4_ECadGFPki-hetero_30pre29_bin140x_mov4/3DResults/%s_40x_bin1_05_5min_1-2-3dys_3-4-5-6-7wt_1_w2CSU-488_s6_t156.tif\n"
     ]
    },
    {
     "name": "stderr",
     "output_type": "stream",
     "text": [
      "100%|██████████| 64/64 [03:24<00:00,  2.66s/it]  \n"
     ]
    },
    {
     "name": "stdout",
     "output_type": "stream",
     "text": [
      "Saving file/data/u934/service_imagerie/v_kapoor/Fl4-2-Var/forFOLDERFutureRestoration/pnrG4_ECadGFPki-hetero_30pre29_bin140x_mov4/3DResults/%s_40x_bin1_05_5min_1-2-3dys_3-4-5-6-7wt_1_w2CSU-488_s6_t180.tif\n"
     ]
    },
    {
     "name": "stderr",
     "output_type": "stream",
     "text": [
      "100%|██████████| 64/64 [03:22<00:00,  2.64s/it]  \n"
     ]
    },
    {
     "name": "stdout",
     "output_type": "stream",
     "text": [
      "Saving file/data/u934/service_imagerie/v_kapoor/Fl4-2-Var/forFOLDERFutureRestoration/pnrG4_ECadGFPki-hetero_30pre29_bin140x_mov4/3DResults/%s_40x_bin1_05_5min_1-2-3dys_3-4-5-6-7wt_1_w2CSU-488_s6_t80.tif\n"
     ]
    },
    {
     "name": "stderr",
     "output_type": "stream",
     "text": [
      "100%|██████████| 64/64 [03:23<00:00,  2.67s/it]  \n"
     ]
    },
    {
     "name": "stdout",
     "output_type": "stream",
     "text": [
      "Saving file/data/u934/service_imagerie/v_kapoor/Fl4-2-Var/forFOLDERFutureRestoration/pnrG4_ECadGFPki-hetero_30pre29_bin140x_mov4/3DResults/%s_40x_bin1_05_5min_1-2-3dys_3-4-5-6-7wt_1_w2CSU-488_s6_t51.tif\n"
     ]
    },
    {
     "name": "stderr",
     "output_type": "stream",
     "text": [
      "100%|██████████| 64/64 [03:22<00:00,  2.63s/it]  \n"
     ]
    },
    {
     "name": "stdout",
     "output_type": "stream",
     "text": [
      "Saving file/data/u934/service_imagerie/v_kapoor/Fl4-2-Var/forFOLDERFutureRestoration/pnrG4_ECadGFPki-hetero_30pre29_bin140x_mov4/3DResults/%s_40x_bin1_05_5min_1-2-3dys_3-4-5-6-7wt_1_w2CSU-488_s6_t151.tif\n"
     ]
    },
    {
     "name": "stderr",
     "output_type": "stream",
     "text": [
      "100%|██████████| 64/64 [03:23<00:00,  2.68s/it]  \n"
     ]
    },
    {
     "name": "stdout",
     "output_type": "stream",
     "text": [
      "Saving file/data/u934/service_imagerie/v_kapoor/Fl4-2-Var/forFOLDERFutureRestoration/pnrG4_ECadGFPki-hetero_30pre29_bin140x_mov4/3DResults/%s_40x_bin1_05_5min_1-2-3dys_3-4-5-6-7wt_1_w2CSU-488_s6_t7.tif\n"
     ]
    },
    {
     "name": "stderr",
     "output_type": "stream",
     "text": [
      "100%|██████████| 64/64 [03:22<00:00,  2.63s/it]  \n"
     ]
    },
    {
     "name": "stdout",
     "output_type": "stream",
     "text": [
      "Saving file/data/u934/service_imagerie/v_kapoor/Fl4-2-Var/forFOLDERFutureRestoration/pnrG4_ECadGFPki-hetero_30pre29_bin140x_mov4/3DResults/%s_40x_bin1_05_5min_1-2-3dys_3-4-5-6-7wt_1_w2CSU-488_s6_t23.tif\n"
     ]
    },
    {
     "name": "stderr",
     "output_type": "stream",
     "text": [
      "100%|██████████| 64/64 [03:25<00:00,  2.69s/it]  \n"
     ]
    },
    {
     "name": "stdout",
     "output_type": "stream",
     "text": [
      "Saving file/data/u934/service_imagerie/v_kapoor/Fl4-2-Var/forFOLDERFutureRestoration/pnrG4_ECadGFPki-hetero_30pre29_bin140x_mov4/3DResults/%s_40x_bin1_05_5min_1-2-3dys_3-4-5-6-7wt_1_w2CSU-488_s6_t123.tif\n"
     ]
    },
    {
     "name": "stderr",
     "output_type": "stream",
     "text": [
      "100%|██████████| 64/64 [03:21<00:00,  2.63s/it]  \n"
     ]
    },
    {
     "name": "stdout",
     "output_type": "stream",
     "text": [
      "Saving file/data/u934/service_imagerie/v_kapoor/Fl4-2-Var/forFOLDERFutureRestoration/pnrG4_ECadGFPki-hetero_30pre29_bin140x_mov4/3DResults/%s_40x_bin1_05_5min_1-2-3dys_3-4-5-6-7wt_1_w2CSU-488_s6_t9.tif\n"
     ]
    },
    {
     "name": "stderr",
     "output_type": "stream",
     "text": [
      "100%|██████████| 64/64 [03:24<00:00,  2.67s/it]  \n"
     ]
    },
    {
     "name": "stdout",
     "output_type": "stream",
     "text": [
      "Saving file/data/u934/service_imagerie/v_kapoor/Fl4-2-Var/forFOLDERFutureRestoration/pnrG4_ECadGFPki-hetero_30pre29_bin140x_mov4/3DResults/%s_40x_bin1_05_5min_1-2-3dys_3-4-5-6-7wt_1_w2CSU-488_s6_t24.tif\n"
     ]
    },
    {
     "name": "stderr",
     "output_type": "stream",
     "text": [
      "100%|██████████| 64/64 [03:22<00:00,  2.64s/it]  \n"
     ]
    },
    {
     "name": "stdout",
     "output_type": "stream",
     "text": [
      "Saving file/data/u934/service_imagerie/v_kapoor/Fl4-2-Var/forFOLDERFutureRestoration/pnrG4_ECadGFPki-hetero_30pre29_bin140x_mov4/3DResults/%s_40x_bin1_05_5min_1-2-3dys_3-4-5-6-7wt_1_w2CSU-488_s6_t124.tif\n"
     ]
    },
    {
     "name": "stderr",
     "output_type": "stream",
     "text": [
      "100%|██████████| 64/64 [03:23<00:00,  2.66s/it]  \n"
     ]
    },
    {
     "name": "stdout",
     "output_type": "stream",
     "text": [
      "Saving file/data/u934/service_imagerie/v_kapoor/Fl4-2-Var/forFOLDERFutureRestoration/pnrG4_ECadGFPki-hetero_30pre29_bin140x_mov4/3DResults/%s_40x_bin1_05_5min_1-2-3dys_3-4-5-6-7wt_1_w2CSU-488_s6_t189.tif\n"
     ]
    },
    {
     "name": "stderr",
     "output_type": "stream",
     "text": [
      "100%|██████████| 64/64 [03:21<00:00,  2.63s/it]  \n"
     ]
    },
    {
     "name": "stdout",
     "output_type": "stream",
     "text": [
      "Saving file/data/u934/service_imagerie/v_kapoor/Fl4-2-Var/forFOLDERFutureRestoration/pnrG4_ECadGFPki-hetero_30pre29_bin140x_mov4/3DResults/%s_40x_bin1_05_5min_1-2-3dys_3-4-5-6-7wt_1_w2CSU-488_s6_t89.tif\n"
     ]
    },
    {
     "name": "stderr",
     "output_type": "stream",
     "text": [
      "100%|██████████| 64/64 [03:23<00:00,  2.65s/it]  \n"
     ]
    },
    {
     "name": "stdout",
     "output_type": "stream",
     "text": [
      "Saving file/data/u934/service_imagerie/v_kapoor/Fl4-2-Var/forFOLDERFutureRestoration/pnrG4_ECadGFPki-hetero_30pre29_bin140x_mov4/3DResults/%s_40x_bin1_05_5min_1-2-3dys_3-4-5-6-7wt_1_w2CSU-488_s6_t58.tif\n"
     ]
    },
    {
     "name": "stderr",
     "output_type": "stream",
     "text": [
      "100%|██████████| 64/64 [03:21<00:00,  2.63s/it]  \n"
     ]
    },
    {
     "name": "stdout",
     "output_type": "stream",
     "text": [
      "Saving file/data/u934/service_imagerie/v_kapoor/Fl4-2-Var/forFOLDERFutureRestoration/pnrG4_ECadGFPki-hetero_30pre29_bin140x_mov4/3DResults/%s_40x_bin1_05_5min_1-2-3dys_3-4-5-6-7wt_1_w2CSU-488_s6_t158.tif\n"
     ]
    },
    {
     "name": "stderr",
     "output_type": "stream",
     "text": [
      "100%|██████████| 64/64 [03:23<00:00,  2.67s/it]  \n"
     ]
    },
    {
     "name": "stdout",
     "output_type": "stream",
     "text": [
      "Saving file/data/u934/service_imagerie/v_kapoor/Fl4-2-Var/forFOLDERFutureRestoration/pnrG4_ECadGFPki-hetero_30pre29_bin140x_mov4/3DResults/%s_40x_bin1_05_5min_1-2-3dys_3-4-5-6-7wt_1_w2CSU-488_s6_t101.tif\n"
     ]
    },
    {
     "name": "stderr",
     "output_type": "stream",
     "text": [
      "100%|██████████| 64/64 [03:22<00:00,  2.64s/it]  \n"
     ]
    },
    {
     "name": "stdout",
     "output_type": "stream",
     "text": [
      "Saving file/data/u934/service_imagerie/v_kapoor/Fl4-2-Var/forFOLDERFutureRestoration/pnrG4_ECadGFPki-hetero_30pre29_bin140x_mov4/3DResults/%s_40x_bin1_05_5min_1-2-3dys_3-4-5-6-7wt_1_w2CSU-488_s6_t211.tif\n"
     ]
    },
    {
     "name": "stderr",
     "output_type": "stream",
     "text": [
      "100%|██████████| 64/64 [03:23<00:00,  2.65s/it]  \n"
     ]
    },
    {
     "name": "stdout",
     "output_type": "stream",
     "text": [
      "Saving file/data/u934/service_imagerie/v_kapoor/Fl4-2-Var/forFOLDERFutureRestoration/pnrG4_ECadGFPki-hetero_30pre29_bin140x_mov4/3DResults/%s_40x_bin1_05_5min_1-2-3dys_3-4-5-6-7wt_1_w2CSU-488_s6_t106.tif\n"
     ]
    },
    {
     "name": "stderr",
     "output_type": "stream",
     "text": [
      "100%|██████████| 64/64 [03:22<00:00,  2.63s/it]  \n"
     ]
    },
    {
     "name": "stdout",
     "output_type": "stream",
     "text": [
      "Saving file/data/u934/service_imagerie/v_kapoor/Fl4-2-Var/forFOLDERFutureRestoration/pnrG4_ECadGFPki-hetero_30pre29_bin140x_mov4/3DResults/%s_40x_bin1_05_5min_1-2-3dys_3-4-5-6-7wt_1_w2CSU-488_s6_t174.tif\n"
     ]
    },
    {
     "name": "stderr",
     "output_type": "stream",
     "text": [
      "100%|██████████| 64/64 [03:23<00:00,  2.65s/it]  \n"
     ]
    },
    {
     "name": "stdout",
     "output_type": "stream",
     "text": [
      "Saving file/data/u934/service_imagerie/v_kapoor/Fl4-2-Var/forFOLDERFutureRestoration/pnrG4_ECadGFPki-hetero_30pre29_bin140x_mov4/3DResults/%s_40x_bin1_05_5min_1-2-3dys_3-4-5-6-7wt_1_w2CSU-488_s6_t74.tif\n"
     ]
    },
    {
     "name": "stderr",
     "output_type": "stream",
     "text": [
      "100%|██████████| 64/64 [03:22<00:00,  2.63s/it]  \n"
     ]
    },
    {
     "name": "stdout",
     "output_type": "stream",
     "text": [
      "Saving file/data/u934/service_imagerie/v_kapoor/Fl4-2-Var/forFOLDERFutureRestoration/pnrG4_ECadGFPki-hetero_30pre29_bin140x_mov4/3DResults/%s_40x_bin1_05_5min_1-2-3dys_3-4-5-6-7wt_1_w2CSU-488_s6_t108.tif\n"
     ]
    },
    {
     "name": "stderr",
     "output_type": "stream",
     "text": [
      "100%|██████████| 64/64 [03:24<00:00,  2.70s/it]  \n"
     ]
    },
    {
     "name": "stdout",
     "output_type": "stream",
     "text": [
      "Saving file/data/u934/service_imagerie/v_kapoor/Fl4-2-Var/forFOLDERFutureRestoration/pnrG4_ECadGFPki-hetero_30pre29_bin140x_mov4/3DResults/%s_40x_bin1_05_5min_1-2-3dys_3-4-5-6-7wt_1_w2CSU-488_s6_t173.tif\n"
     ]
    },
    {
     "name": "stderr",
     "output_type": "stream",
     "text": [
      "100%|██████████| 64/64 [03:23<00:00,  2.65s/it]  \n"
     ]
    },
    {
     "name": "stdout",
     "output_type": "stream",
     "text": [
      "Saving file/data/u934/service_imagerie/v_kapoor/Fl4-2-Var/forFOLDERFutureRestoration/pnrG4_ECadGFPki-hetero_30pre29_bin140x_mov4/3DResults/%s_40x_bin1_05_5min_1-2-3dys_3-4-5-6-7wt_1_w2CSU-488_s6_t73.tif\n"
     ]
    },
    {
     "name": "stderr",
     "output_type": "stream",
     "text": [
      "100%|██████████| 64/64 [03:24<00:00,  2.68s/it]  \n"
     ]
    },
    {
     "name": "stdout",
     "output_type": "stream",
     "text": [
      "Saving file/data/u934/service_imagerie/v_kapoor/Fl4-2-Var/forFOLDERFutureRestoration/pnrG4_ECadGFPki-hetero_30pre29_bin140x_mov4/3DResults/%s_40x_bin1_05_5min_1-2-3dys_3-4-5-6-7wt_1_w2CSU-488_s6_t46.tif\n"
     ]
    },
    {
     "name": "stderr",
     "output_type": "stream",
     "text": [
      "100%|██████████| 64/64 [03:22<00:00,  2.63s/it]  \n"
     ]
    },
    {
     "name": "stdout",
     "output_type": "stream",
     "text": [
      "Saving file/data/u934/service_imagerie/v_kapoor/Fl4-2-Var/forFOLDERFutureRestoration/pnrG4_ECadGFPki-hetero_30pre29_bin140x_mov4/3DResults/%s_40x_bin1_05_5min_1-2-3dys_3-4-5-6-7wt_1_w2CSU-488_s6_t146.tif\n"
     ]
    },
    {
     "name": "stderr",
     "output_type": "stream",
     "text": [
      "100%|██████████| 64/64 [03:23<00:00,  2.65s/it]  \n"
     ]
    },
    {
     "name": "stdout",
     "output_type": "stream",
     "text": [
      "Saving file/data/u934/service_imagerie/v_kapoor/Fl4-2-Var/forFOLDERFutureRestoration/pnrG4_ECadGFPki-hetero_30pre29_bin140x_mov4/3DResults/%s_40x_bin1_05_5min_1-2-3dys_3-4-5-6-7wt_1_w2CSU-488_s6_t197.tif\n"
     ]
    },
    {
     "name": "stderr",
     "output_type": "stream",
     "text": [
      "100%|██████████| 64/64 [03:22<00:00,  2.65s/it]  \n"
     ]
    },
    {
     "name": "stdout",
     "output_type": "stream",
     "text": [
      "Saving file/data/u934/service_imagerie/v_kapoor/Fl4-2-Var/forFOLDERFutureRestoration/pnrG4_ECadGFPki-hetero_30pre29_bin140x_mov4/3DResults/%s_40x_bin1_05_5min_1-2-3dys_3-4-5-6-7wt_1_w2CSU-488_s6_t97.tif\n"
     ]
    },
    {
     "name": "stderr",
     "output_type": "stream",
     "text": [
      "100%|██████████| 64/64 [03:23<00:00,  2.64s/it]  \n"
     ]
    },
    {
     "name": "stdout",
     "output_type": "stream",
     "text": [
      "Saving file/data/u934/service_imagerie/v_kapoor/Fl4-2-Var/forFOLDERFutureRestoration/pnrG4_ECadGFPki-hetero_30pre29_bin140x_mov4/3DResults/%s_40x_bin1_05_5min_1-2-3dys_3-4-5-6-7wt_1_w2CSU-488_s6_t41.tif\n"
     ]
    },
    {
     "name": "stderr",
     "output_type": "stream",
     "text": [
      "100%|██████████| 64/64 [03:22<00:00,  2.64s/it]  \n"
     ]
    },
    {
     "name": "stdout",
     "output_type": "stream",
     "text": [
      "Saving file/data/u934/service_imagerie/v_kapoor/Fl4-2-Var/forFOLDERFutureRestoration/pnrG4_ECadGFPki-hetero_30pre29_bin140x_mov4/3DResults/%s_40x_bin1_05_5min_1-2-3dys_3-4-5-6-7wt_1_w2CSU-488_s6_t141.tif\n"
     ]
    },
    {
     "name": "stderr",
     "output_type": "stream",
     "text": [
      "100%|██████████| 64/64 [03:23<00:00,  2.66s/it]  \n"
     ]
    },
    {
     "name": "stdout",
     "output_type": "stream",
     "text": [
      "Saving file/data/u934/service_imagerie/v_kapoor/Fl4-2-Var/forFOLDERFutureRestoration/pnrG4_ECadGFPki-hetero_30pre29_bin140x_mov4/3DResults/%s_40x_bin1_05_5min_1-2-3dys_3-4-5-6-7wt_1_w2CSU-488_s6_t190.tif\n"
     ]
    },
    {
     "name": "stderr",
     "output_type": "stream",
     "text": [
      "100%|██████████| 64/64 [03:22<00:00,  2.64s/it]  \n"
     ]
    },
    {
     "name": "stdout",
     "output_type": "stream",
     "text": [
      "Saving file/data/u934/service_imagerie/v_kapoor/Fl4-2-Var/forFOLDERFutureRestoration/pnrG4_ECadGFPki-hetero_30pre29_bin140x_mov4/3DResults/%s_40x_bin1_05_5min_1-2-3dys_3-4-5-6-7wt_1_w2CSU-488_s6_t90.tif\n"
     ]
    },
    {
     "name": "stderr",
     "output_type": "stream",
     "text": [
      "100%|██████████| 64/64 [03:23<00:00,  2.66s/it]  \n"
     ]
    },
    {
     "name": "stdout",
     "output_type": "stream",
     "text": [
      "Saving file/data/u934/service_imagerie/v_kapoor/Fl4-2-Var/forFOLDERFutureRestoration/pnrG4_ECadGFPki-hetero_30pre29_bin140x_mov4/3DResults/%s_40x_bin1_05_5min_1-2-3dys_3-4-5-6-7wt_1_w2CSU-488_s6_t33.tif\n"
     ]
    },
    {
     "name": "stderr",
     "output_type": "stream",
     "text": [
      "100%|██████████| 64/64 [03:22<00:00,  2.63s/it]  \n"
     ]
    },
    {
     "name": "stdout",
     "output_type": "stream",
     "text": [
      "Saving file/data/u934/service_imagerie/v_kapoor/Fl4-2-Var/forFOLDERFutureRestoration/pnrG4_ECadGFPki-hetero_30pre29_bin140x_mov4/3DResults/%s_40x_bin1_05_5min_1-2-3dys_3-4-5-6-7wt_1_w2CSU-488_s6_t133.tif\n"
     ]
    },
    {
     "name": "stderr",
     "output_type": "stream",
     "text": [
      "100%|██████████| 64/64 [03:24<00:00,  2.65s/it]  \n"
     ]
    },
    {
     "name": "stdout",
     "output_type": "stream",
     "text": [
      "Saving file/data/u934/service_imagerie/v_kapoor/Fl4-2-Var/forFOLDERFutureRestoration/pnrG4_ECadGFPki-hetero_30pre29_bin140x_mov4/3DResults/%s_40x_bin1_05_5min_1-2-3dys_3-4-5-6-7wt_1_w2CSU-488_s6_t34.tif\n"
     ]
    },
    {
     "name": "stderr",
     "output_type": "stream",
     "text": [
      "100%|██████████| 64/64 [03:22<00:00,  2.63s/it]  \n"
     ]
    },
    {
     "name": "stdout",
     "output_type": "stream",
     "text": [
      "Saving file/data/u934/service_imagerie/v_kapoor/Fl4-2-Var/forFOLDERFutureRestoration/pnrG4_ECadGFPki-hetero_30pre29_bin140x_mov4/3DResults/%s_40x_bin1_05_5min_1-2-3dys_3-4-5-6-7wt_1_w2CSU-488_s6_t134.tif\n"
     ]
    },
    {
     "name": "stderr",
     "output_type": "stream",
     "text": [
      "100%|██████████| 64/64 [03:24<00:00,  2.67s/it]  \n"
     ]
    },
    {
     "name": "stdout",
     "output_type": "stream",
     "text": [
      "Saving file/data/u934/service_imagerie/v_kapoor/Fl4-2-Var/forFOLDERFutureRestoration/pnrG4_ECadGFPki-hetero_30pre29_bin140x_mov4/3DResults/%s_40x_bin1_05_5min_1-2-3dys_3-4-5-6-7wt_1_w2CSU-488_s6_t48.tif\n"
     ]
    },
    {
     "name": "stderr",
     "output_type": "stream",
     "text": [
      "100%|██████████| 64/64 [03:22<00:00,  2.63s/it]  \n"
     ]
    },
    {
     "name": "stdout",
     "output_type": "stream",
     "text": [
      "Saving file/data/u934/service_imagerie/v_kapoor/Fl4-2-Var/forFOLDERFutureRestoration/pnrG4_ECadGFPki-hetero_30pre29_bin140x_mov4/3DResults/%s_40x_bin1_05_5min_1-2-3dys_3-4-5-6-7wt_1_w2CSU-488_s6_t148.tif\n"
     ]
    },
    {
     "name": "stderr",
     "output_type": "stream",
     "text": [
      "100%|██████████| 64/64 [03:23<00:00,  2.67s/it]  \n"
     ]
    },
    {
     "name": "stdout",
     "output_type": "stream",
     "text": [
      "Saving file/data/u934/service_imagerie/v_kapoor/Fl4-2-Var/forFOLDERFutureRestoration/pnrG4_ECadGFPki-hetero_30pre29_bin140x_mov4/3DResults/%s_40x_bin1_05_5min_1-2-3dys_3-4-5-6-7wt_1_w2CSU-488_s6_t199.tif\n"
     ]
    },
    {
     "name": "stderr",
     "output_type": "stream",
     "text": [
      "100%|██████████| 64/64 [03:22<00:00,  2.63s/it]  \n"
     ]
    },
    {
     "name": "stdout",
     "output_type": "stream",
     "text": [
      "Saving file/data/u934/service_imagerie/v_kapoor/Fl4-2-Var/forFOLDERFutureRestoration/pnrG4_ECadGFPki-hetero_30pre29_bin140x_mov4/3DResults/%s_40x_bin1_05_5min_1-2-3dys_3-4-5-6-7wt_1_w2CSU-488_s6_t99.tif\n"
     ]
    },
    {
     "name": "stderr",
     "output_type": "stream",
     "text": [
      "100%|██████████| 64/64 [03:23<00:00,  2.66s/it]  \n"
     ]
    },
    {
     "name": "stdout",
     "output_type": "stream",
     "text": [
      "Saving file/data/u934/service_imagerie/v_kapoor/Fl4-2-Var/forFOLDERFutureRestoration/pnrG4_ECadGFPki-hetero_30pre29_bin140x_mov4/3DResults/%s_40x_bin1_05_5min_1-2-3dys_3-4-5-6-7wt_1_w2CSU-488_s6_t25.tif\n"
     ]
    },
    {
     "name": "stderr",
     "output_type": "stream",
     "text": [
      "100%|██████████| 64/64 [03:21<00:00,  2.63s/it]  \n"
     ]
    },
    {
     "name": "stdout",
     "output_type": "stream",
     "text": [
      "Saving file/data/u934/service_imagerie/v_kapoor/Fl4-2-Var/forFOLDERFutureRestoration/pnrG4_ECadGFPki-hetero_30pre29_bin140x_mov4/3DResults/%s_40x_bin1_05_5min_1-2-3dys_3-4-5-6-7wt_1_w2CSU-488_s6_t125.tif\n"
     ]
    },
    {
     "name": "stderr",
     "output_type": "stream",
     "text": [
      "100%|██████████| 64/64 [03:23<00:00,  2.67s/it]  \n"
     ]
    },
    {
     "name": "stdout",
     "output_type": "stream",
     "text": [
      "Saving file/data/u934/service_imagerie/v_kapoor/Fl4-2-Var/forFOLDERFutureRestoration/pnrG4_ECadGFPki-hetero_30pre29_bin140x_mov4/3DResults/%s_40x_bin1_05_5min_1-2-3dys_3-4-5-6-7wt_1_w2CSU-488_s6_t188.tif\n"
     ]
    },
    {
     "name": "stderr",
     "output_type": "stream",
     "text": [
      "100%|██████████| 64/64 [03:22<00:00,  2.65s/it]  \n"
     ]
    },
    {
     "name": "stdout",
     "output_type": "stream",
     "text": [
      "Saving file/data/u934/service_imagerie/v_kapoor/Fl4-2-Var/forFOLDERFutureRestoration/pnrG4_ECadGFPki-hetero_30pre29_bin140x_mov4/3DResults/%s_40x_bin1_05_5min_1-2-3dys_3-4-5-6-7wt_1_w2CSU-488_s6_t88.tif\n"
     ]
    },
    {
     "name": "stderr",
     "output_type": "stream",
     "text": [
      "100%|██████████| 64/64 [03:24<00:00,  2.65s/it]  \n"
     ]
    },
    {
     "name": "stdout",
     "output_type": "stream",
     "text": [
      "Saving file/data/u934/service_imagerie/v_kapoor/Fl4-2-Var/forFOLDERFutureRestoration/pnrG4_ECadGFPki-hetero_30pre29_bin140x_mov4/3DResults/%s_40x_bin1_05_5min_1-2-3dys_3-4-5-6-7wt_1_w2CSU-488_s6_t59.tif\n"
     ]
    },
    {
     "name": "stderr",
     "output_type": "stream",
     "text": [
      "100%|██████████| 64/64 [03:21<00:00,  2.63s/it]  \n"
     ]
    },
    {
     "name": "stdout",
     "output_type": "stream",
     "text": [
      "Saving file/data/u934/service_imagerie/v_kapoor/Fl4-2-Var/forFOLDERFutureRestoration/pnrG4_ECadGFPki-hetero_30pre29_bin140x_mov4/3DResults/%s_40x_bin1_05_5min_1-2-3dys_3-4-5-6-7wt_1_w2CSU-488_s6_t159.tif\n"
     ]
    },
    {
     "name": "stderr",
     "output_type": "stream",
     "text": [
      "100%|██████████| 64/64 [03:24<00:00,  2.66s/it]  \n"
     ]
    },
    {
     "name": "stdout",
     "output_type": "stream",
     "text": [
      "Saving file/data/u934/service_imagerie/v_kapoor/Fl4-2-Var/forFOLDERFutureRestoration/pnrG4_ECadGFPki-hetero_30pre29_bin140x_mov4/3DResults/%s_40x_bin1_05_5min_1-2-3dys_3-4-5-6-7wt_1_w2CSU-488_s6_t22.tif\n"
     ]
    },
    {
     "name": "stderr",
     "output_type": "stream",
     "text": [
      "100%|██████████| 64/64 [03:22<00:00,  2.63s/it]  \n"
     ]
    },
    {
     "name": "stdout",
     "output_type": "stream",
     "text": [
      "Saving file/data/u934/service_imagerie/v_kapoor/Fl4-2-Var/forFOLDERFutureRestoration/pnrG4_ECadGFPki-hetero_30pre29_bin140x_mov4/3DResults/%s_40x_bin1_05_5min_1-2-3dys_3-4-5-6-7wt_1_w2CSU-488_s6_t122.tif\n"
     ]
    },
    {
     "name": "stderr",
     "output_type": "stream",
     "text": [
      "100%|██████████| 64/64 [03:24<00:00,  2.66s/it]  \n"
     ]
    },
    {
     "name": "stdout",
     "output_type": "stream",
     "text": [
      "Saving file/data/u934/service_imagerie/v_kapoor/Fl4-2-Var/forFOLDERFutureRestoration/pnrG4_ECadGFPki-hetero_30pre29_bin140x_mov4/3DResults/%s_40x_bin1_05_5min_1-2-3dys_3-4-5-6-7wt_1_w2CSU-488_s6_t8.tif\n"
     ]
    },
    {
     "name": "stderr",
     "output_type": "stream",
     "text": [
      "100%|██████████| 64/64 [03:22<00:00,  2.64s/it]  \n"
     ]
    },
    {
     "name": "stdout",
     "output_type": "stream",
     "text": [
      "Saving file/data/u934/service_imagerie/v_kapoor/Fl4-2-Var/forFOLDERFutureRestoration/pnrG4_ECadGFPki-hetero_30pre29_bin140x_mov4/3DResults/%s_40x_bin1_05_5min_1-2-3dys_3-4-5-6-7wt_1_w2CSU-488_s6_t181.tif\n"
     ]
    },
    {
     "name": "stderr",
     "output_type": "stream",
     "text": [
      "100%|██████████| 64/64 [03:24<00:00,  2.65s/it]  \n"
     ]
    },
    {
     "name": "stdout",
     "output_type": "stream",
     "text": [
      "Saving file/data/u934/service_imagerie/v_kapoor/Fl4-2-Var/forFOLDERFutureRestoration/pnrG4_ECadGFPki-hetero_30pre29_bin140x_mov4/3DResults/%s_40x_bin1_05_5min_1-2-3dys_3-4-5-6-7wt_1_w2CSU-488_s6_t81.tif\n"
     ]
    },
    {
     "name": "stderr",
     "output_type": "stream",
     "text": [
      "100%|██████████| 64/64 [03:21<00:00,  2.63s/it]  \n"
     ]
    },
    {
     "name": "stdout",
     "output_type": "stream",
     "text": [
      "Saving file/data/u934/service_imagerie/v_kapoor/Fl4-2-Var/forFOLDERFutureRestoration/pnrG4_ECadGFPki-hetero_30pre29_bin140x_mov4/3DResults/%s_40x_bin1_05_5min_1-2-3dys_3-4-5-6-7wt_1_w2CSU-488_s6_t50.tif\n"
     ]
    },
    {
     "name": "stderr",
     "output_type": "stream",
     "text": [
      "100%|██████████| 64/64 [03:23<00:00,  2.67s/it]  \n"
     ]
    },
    {
     "name": "stdout",
     "output_type": "stream",
     "text": [
      "Saving file/data/u934/service_imagerie/v_kapoor/Fl4-2-Var/forFOLDERFutureRestoration/pnrG4_ECadGFPki-hetero_30pre29_bin140x_mov4/3DResults/%s_40x_bin1_05_5min_1-2-3dys_3-4-5-6-7wt_1_w2CSU-488_s6_t150.tif\n"
     ]
    },
    {
     "name": "stderr",
     "output_type": "stream",
     "text": [
      "100%|██████████| 64/64 [03:22<00:00,  2.63s/it]  \n"
     ]
    },
    {
     "name": "stdout",
     "output_type": "stream",
     "text": [
      "Saving file/data/u934/service_imagerie/v_kapoor/Fl4-2-Var/forFOLDERFutureRestoration/pnrG4_ECadGFPki-hetero_30pre29_bin140x_mov4/3DResults/%s_40x_bin1_05_5min_1-2-3dys_3-4-5-6-7wt_1_w2CSU-488_s6_t6.tif\n"
     ]
    },
    {
     "name": "stderr",
     "output_type": "stream",
     "text": [
      "100%|██████████| 64/64 [03:23<00:00,  2.66s/it]  \n"
     ]
    },
    {
     "name": "stdout",
     "output_type": "stream",
     "text": [
      "Saving file/data/u934/service_imagerie/v_kapoor/Fl4-2-Var/forFOLDERFutureRestoration/pnrG4_ECadGFPki-hetero_30pre29_bin140x_mov4/3DResults/%s_40x_bin1_05_5min_1-2-3dys_3-4-5-6-7wt_1_w2CSU-488_s6_t1.tif\n"
     ]
    },
    {
     "name": "stderr",
     "output_type": "stream",
     "text": [
      "100%|██████████| 64/64 [03:21<00:00,  2.64s/it]  \n"
     ]
    },
    {
     "name": "stdout",
     "output_type": "stream",
     "text": [
      "Saving file/data/u934/service_imagerie/v_kapoor/Fl4-2-Var/forFOLDERFutureRestoration/pnrG4_ECadGFPki-hetero_30pre29_bin140x_mov4/3DResults/%s_40x_bin1_05_5min_1-2-3dys_3-4-5-6-7wt_1_w2CSU-488_s6_t186.tif\n"
     ]
    },
    {
     "name": "stderr",
     "output_type": "stream",
     "text": [
      "100%|██████████| 64/64 [03:24<00:00,  2.66s/it]  \n"
     ]
    },
    {
     "name": "stdout",
     "output_type": "stream",
     "text": [
      "Saving file/data/u934/service_imagerie/v_kapoor/Fl4-2-Var/forFOLDERFutureRestoration/pnrG4_ECadGFPki-hetero_30pre29_bin140x_mov4/3DResults/%s_40x_bin1_05_5min_1-2-3dys_3-4-5-6-7wt_1_w2CSU-488_s6_t86.tif\n"
     ]
    },
    {
     "name": "stderr",
     "output_type": "stream",
     "text": [
      "100%|██████████| 64/64 [03:21<00:00,  2.63s/it]  \n"
     ]
    },
    {
     "name": "stdout",
     "output_type": "stream",
     "text": [
      "Saving file/data/u934/service_imagerie/v_kapoor/Fl4-2-Var/forFOLDERFutureRestoration/pnrG4_ECadGFPki-hetero_30pre29_bin140x_mov4/3DResults/%s_40x_bin1_05_5min_1-2-3dys_3-4-5-6-7wt_1_w2CSU-488_s6_t57.tif\n"
     ]
    },
    {
     "name": "stderr",
     "output_type": "stream",
     "text": [
      "100%|██████████| 64/64 [03:24<00:00,  2.66s/it]  \n"
     ]
    },
    {
     "name": "stdout",
     "output_type": "stream",
     "text": [
      "Saving file/data/u934/service_imagerie/v_kapoor/Fl4-2-Var/forFOLDERFutureRestoration/pnrG4_ECadGFPki-hetero_30pre29_bin140x_mov4/3DResults/%s_40x_bin1_05_5min_1-2-3dys_3-4-5-6-7wt_1_w2CSU-488_s6_t157.tif\n"
     ]
    },
    {
     "name": "stderr",
     "output_type": "stream",
     "text": [
      "100%|██████████| 64/64 [03:22<00:00,  2.63s/it]  \n"
     ]
    },
    {
     "name": "stdout",
     "output_type": "stream",
     "text": [
      "Saving file/data/u934/service_imagerie/v_kapoor/Fl4-2-Var/forFOLDERFutureRestoration/pnrG4_ECadGFPki-hetero_30pre29_bin140x_mov4/3DResults/%s_40x_bin1_05_5min_1-2-3dys_3-4-5-6-7wt_1_w2CSU-488_s6_t209.tif\n"
     ]
    },
    {
     "name": "stderr",
     "output_type": "stream",
     "text": [
      "100%|██████████| 64/64 [03:24<00:00,  2.66s/it]  \n"
     ]
    },
    {
     "name": "stdout",
     "output_type": "stream",
     "text": [
      "Saving file/data/u934/service_imagerie/v_kapoor/Fl4-2-Var/forFOLDERFutureRestoration/pnrG4_ECadGFPki-hetero_30pre29_bin140x_mov4/3DResults/%s_40x_bin1_05_5min_1-2-3dys_3-4-5-6-7wt_1_w2CSU-488_s6_t162.tif\n"
     ]
    },
    {
     "name": "stderr",
     "output_type": "stream",
     "text": [
      "100%|██████████| 64/64 [03:22<00:00,  2.63s/it]  \n"
     ]
    },
    {
     "name": "stdout",
     "output_type": "stream",
     "text": [
      "Saving file/data/u934/service_imagerie/v_kapoor/Fl4-2-Var/forFOLDERFutureRestoration/pnrG4_ECadGFPki-hetero_30pre29_bin140x_mov4/3DResults/%s_40x_bin1_05_5min_1-2-3dys_3-4-5-6-7wt_1_w2CSU-488_s6_t62.tif\n"
     ]
    },
    {
     "name": "stderr",
     "output_type": "stream",
     "text": [
      "100%|██████████| 64/64 [03:23<00:00,  2.66s/it]  \n"
     ]
    },
    {
     "name": "stdout",
     "output_type": "stream",
     "text": [
      "Saving file/data/u934/service_imagerie/v_kapoor/Fl4-2-Var/forFOLDERFutureRestoration/pnrG4_ECadGFPki-hetero_30pre29_bin140x_mov4/3DResults/%s_40x_bin1_05_5min_1-2-3dys_3-4-5-6-7wt_1_w2CSU-488_s6_t165.tif\n"
     ]
    },
    {
     "name": "stderr",
     "output_type": "stream",
     "text": [
      "100%|██████████| 64/64 [03:22<00:00,  2.65s/it]  \n"
     ]
    },
    {
     "name": "stdout",
     "output_type": "stream",
     "text": [
      "Saving file/data/u934/service_imagerie/v_kapoor/Fl4-2-Var/forFOLDERFutureRestoration/pnrG4_ECadGFPki-hetero_30pre29_bin140x_mov4/3DResults/%s_40x_bin1_05_5min_1-2-3dys_3-4-5-6-7wt_1_w2CSU-488_s6_t65.tif\n"
     ]
    },
    {
     "name": "stderr",
     "output_type": "stream",
     "text": [
      "100%|██████████| 64/64 [03:23<00:00,  2.67s/it]  \n"
     ]
    },
    {
     "name": "stdout",
     "output_type": "stream",
     "text": [
      "Saving file/data/u934/service_imagerie/v_kapoor/Fl4-2-Var/forFOLDERFutureRestoration/pnrG4_ECadGFPki-hetero_30pre29_bin140x_mov4/3DResults/%s_40x_bin1_05_5min_1-2-3dys_3-4-5-6-7wt_1_w2CSU-488_s6_t119.tif\n"
     ]
    },
    {
     "name": "stderr",
     "output_type": "stream",
     "text": [
      "100%|██████████| 64/64 [03:22<00:00,  2.62s/it]  \n"
     ]
    },
    {
     "name": "stdout",
     "output_type": "stream",
     "text": [
      "Saving file/data/u934/service_imagerie/v_kapoor/Fl4-2-Var/forFOLDERFutureRestoration/pnrG4_ECadGFPki-hetero_30pre29_bin140x_mov4/3DResults/%s_40x_bin1_05_5min_1-2-3dys_3-4-5-6-7wt_1_w2CSU-488_s6_t19.tif\n"
     ]
    },
    {
     "name": "stderr",
     "output_type": "stream",
     "text": [
      "100%|██████████| 64/64 [03:23<00:00,  2.66s/it]  \n"
     ]
    },
    {
     "name": "stdout",
     "output_type": "stream",
     "text": [
      "Saving file/data/u934/service_imagerie/v_kapoor/Fl4-2-Var/forFOLDERFutureRestoration/pnrG4_ECadGFPki-hetero_30pre29_bin140x_mov4/3DResults/%s_40x_bin1_05_5min_1-2-3dys_3-4-5-6-7wt_1_w2CSU-488_s6_t117.tif\n"
     ]
    },
    {
     "name": "stderr",
     "output_type": "stream",
     "text": [
      "100%|██████████| 64/64 [03:22<00:00,  2.64s/it]  \n"
     ]
    },
    {
     "name": "stdout",
     "output_type": "stream",
     "text": [
      "Saving file/data/u934/service_imagerie/v_kapoor/Fl4-2-Var/forFOLDERFutureRestoration/pnrG4_ECadGFPki-hetero_30pre29_bin140x_mov4/3DResults/%s_40x_bin1_05_5min_1-2-3dys_3-4-5-6-7wt_1_w2CSU-488_s6_t17.tif\n"
     ]
    },
    {
     "name": "stderr",
     "output_type": "stream",
     "text": [
      "100%|██████████| 64/64 [03:23<00:00,  2.65s/it]  \n"
     ]
    },
    {
     "name": "stdout",
     "output_type": "stream",
     "text": [
      "Saving file/data/u934/service_imagerie/v_kapoor/Fl4-2-Var/forFOLDERFutureRestoration/pnrG4_ECadGFPki-hetero_30pre29_bin140x_mov4/3DResults/%s_40x_bin1_05_5min_1-2-3dys_3-4-5-6-7wt_1_w2CSU-488_s6_t200.tif\n"
     ]
    },
    {
     "name": "stderr",
     "output_type": "stream",
     "text": [
      "100%|██████████| 64/64 [03:22<00:00,  2.63s/it]  \n"
     ]
    },
    {
     "name": "stdout",
     "output_type": "stream",
     "text": [
      "Saving file/data/u934/service_imagerie/v_kapoor/Fl4-2-Var/forFOLDERFutureRestoration/pnrG4_ECadGFPki-hetero_30pre29_bin140x_mov4/3DResults/%s_40x_bin1_05_5min_1-2-3dys_3-4-5-6-7wt_1_w2CSU-488_s6_t110.tif\n"
     ]
    },
    {
     "name": "stderr",
     "output_type": "stream",
     "text": [
      "100%|██████████| 64/64 [03:23<00:00,  2.67s/it]  \n"
     ]
    },
    {
     "name": "stdout",
     "output_type": "stream",
     "text": [
      "Saving file/data/u934/service_imagerie/v_kapoor/Fl4-2-Var/forFOLDERFutureRestoration/pnrG4_ECadGFPki-hetero_30pre29_bin140x_mov4/3DResults/%s_40x_bin1_05_5min_1-2-3dys_3-4-5-6-7wt_1_w2CSU-488_s6_t10.tif\n"
     ]
    },
    {
     "name": "stderr",
     "output_type": "stream",
     "text": [
      "100%|██████████| 64/64 [03:21<00:00,  2.63s/it]  \n"
     ]
    },
    {
     "name": "stdout",
     "output_type": "stream",
     "text": [
      "Saving file/data/u934/service_imagerie/v_kapoor/Fl4-2-Var/forFOLDERFutureRestoration/pnrG4_ECadGFPki-hetero_30pre29_bin140x_mov4/3DResults/%s_40x_bin1_05_5min_1-2-3dys_3-4-5-6-7wt_1_w2CSU-488_s6_t207.tif\n"
     ]
    },
    {
     "name": "stderr",
     "output_type": "stream",
     "text": [
      "100%|██████████| 64/64 [03:23<00:00,  2.65s/it]  \n"
     ]
    },
    {
     "name": "stdout",
     "output_type": "stream",
     "text": [
      "Saving file/data/u934/service_imagerie/v_kapoor/Fl4-2-Var/forFOLDERFutureRestoration/pnrG4_ECadGFPki-hetero_30pre29_bin140x_mov4/3DResults/%s_40x_bin1_05_5min_1-2-3dys_3-4-5-6-7wt_1_w2CSU-488_s6_t121.tif\n"
     ]
    },
    {
     "name": "stderr",
     "output_type": "stream",
     "text": [
      "100%|██████████| 64/64 [03:22<00:00,  2.65s/it]  \n"
     ]
    },
    {
     "name": "stdout",
     "output_type": "stream",
     "text": [
      "Saving file/data/u934/service_imagerie/v_kapoor/Fl4-2-Var/forFOLDERFutureRestoration/pnrG4_ECadGFPki-hetero_30pre29_bin140x_mov4/3DResults/%s_40x_bin1_05_5min_1-2-3dys_3-4-5-6-7wt_1_w2CSU-488_s6_t21.tif\n"
     ]
    },
    {
     "name": "stderr",
     "output_type": "stream",
     "text": [
      "100%|██████████| 64/64 [03:24<00:00,  2.68s/it]  \n"
     ]
    },
    {
     "name": "stdout",
     "output_type": "stream",
     "text": [
      "Saving file/data/u934/service_imagerie/v_kapoor/Fl4-2-Var/forFOLDERFutureRestoration/pnrG4_ECadGFPki-hetero_30pre29_bin140x_mov4/3DResults/%s_40x_bin1_05_5min_1-2-3dys_3-4-5-6-7wt_1_w2CSU-488_s6_t126.tif\n"
     ]
    },
    {
     "name": "stderr",
     "output_type": "stream",
     "text": [
      "100%|██████████| 64/64 [03:23<00:00,  2.66s/it]  \n"
     ]
    },
    {
     "name": "stdout",
     "output_type": "stream",
     "text": [
      "Saving file/data/u934/service_imagerie/v_kapoor/Fl4-2-Var/forFOLDERFutureRestoration/pnrG4_ECadGFPki-hetero_30pre29_bin140x_mov4/3DResults/%s_40x_bin1_05_5min_1-2-3dys_3-4-5-6-7wt_1_w2CSU-488_s6_t26.tif\n"
     ]
    },
    {
     "name": "stderr",
     "output_type": "stream",
     "text": [
      "100%|██████████| 64/64 [03:25<00:00,  2.69s/it]  \n"
     ]
    },
    {
     "name": "stdout",
     "output_type": "stream",
     "text": [
      "Saving file/data/u934/service_imagerie/v_kapoor/Fl4-2-Var/forFOLDERFutureRestoration/pnrG4_ECadGFPki-hetero_30pre29_bin140x_mov4/3DResults/%s_40x_bin1_05_5min_1-2-3dys_3-4-5-6-7wt_1_w2CSU-488_s6_t128.tif\n"
     ]
    },
    {
     "name": "stderr",
     "output_type": "stream",
     "text": [
      "100%|██████████| 64/64 [03:22<00:00,  2.63s/it]  \n"
     ]
    },
    {
     "name": "stdout",
     "output_type": "stream",
     "text": [
      "Saving file/data/u934/service_imagerie/v_kapoor/Fl4-2-Var/forFOLDERFutureRestoration/pnrG4_ECadGFPki-hetero_30pre29_bin140x_mov4/3DResults/%s_40x_bin1_05_5min_1-2-3dys_3-4-5-6-7wt_1_w2CSU-488_s6_t28.tif\n"
     ]
    },
    {
     "name": "stderr",
     "output_type": "stream",
     "text": [
      "100%|██████████| 64/64 [03:25<00:00,  2.70s/it]  \n"
     ]
    },
    {
     "name": "stdout",
     "output_type": "stream",
     "text": [
      "Saving file/data/u934/service_imagerie/v_kapoor/Fl4-2-Var/forFOLDERFutureRestoration/pnrG4_ECadGFPki-hetero_30pre29_bin140x_mov4/3DResults/%s_40x_bin1_05_5min_1-2-3dys_3-4-5-6-7wt_1_w2CSU-488_s6_t2.tif\n"
     ]
    },
    {
     "name": "stderr",
     "output_type": "stream",
     "text": [
      "100%|██████████| 64/64 [03:23<00:00,  2.65s/it]  \n"
     ]
    },
    {
     "name": "stdout",
     "output_type": "stream",
     "text": [
      "Saving file/data/u934/service_imagerie/v_kapoor/Fl4-2-Var/forFOLDERFutureRestoration/pnrG4_ECadGFPki-hetero_30pre29_bin140x_mov4/3DResults/%s_40x_bin1_05_5min_1-2-3dys_3-4-5-6-7wt_1_w2CSU-488_s6_t85.tif\n"
     ]
    },
    {
     "name": "stderr",
     "output_type": "stream",
     "text": [
      "100%|██████████| 64/64 [03:24<00:00,  2.65s/it]  \n"
     ]
    },
    {
     "name": "stdout",
     "output_type": "stream",
     "text": [
      "Saving file/data/u934/service_imagerie/v_kapoor/Fl4-2-Var/forFOLDERFutureRestoration/pnrG4_ECadGFPki-hetero_30pre29_bin140x_mov4/3DResults/%s_40x_bin1_05_5min_1-2-3dys_3-4-5-6-7wt_1_w2CSU-488_s6_t185.tif\n"
     ]
    },
    {
     "name": "stderr",
     "output_type": "stream",
     "text": [
      "100%|██████████| 64/64 [03:21<00:00,  2.63s/it]  \n"
     ]
    },
    {
     "name": "stdout",
     "output_type": "stream",
     "text": [
      "Saving file/data/u934/service_imagerie/v_kapoor/Fl4-2-Var/forFOLDERFutureRestoration/pnrG4_ECadGFPki-hetero_30pre29_bin140x_mov4/3DResults/%s_40x_bin1_05_5min_1-2-3dys_3-4-5-6-7wt_1_w2CSU-488_s6_t154.tif\n"
     ]
    },
    {
     "name": "stderr",
     "output_type": "stream",
     "text": [
      "100%|██████████| 64/64 [03:23<00:00,  2.65s/it]  \n"
     ]
    },
    {
     "name": "stdout",
     "output_type": "stream",
     "text": [
      "Saving file/data/u934/service_imagerie/v_kapoor/Fl4-2-Var/forFOLDERFutureRestoration/pnrG4_ECadGFPki-hetero_30pre29_bin140x_mov4/3DResults/%s_40x_bin1_05_5min_1-2-3dys_3-4-5-6-7wt_1_w2CSU-488_s6_t54.tif\n"
     ]
    },
    {
     "name": "stderr",
     "output_type": "stream",
     "text": [
      "100%|██████████| 64/64 [03:21<00:00,  2.63s/it]  \n"
     ]
    },
    {
     "name": "stdout",
     "output_type": "stream",
     "text": [
      "Saving file/data/u934/service_imagerie/v_kapoor/Fl4-2-Var/forFOLDERFutureRestoration/pnrG4_ECadGFPki-hetero_30pre29_bin140x_mov4/3DResults/%s_40x_bin1_05_5min_1-2-3dys_3-4-5-6-7wt_1_w2CSU-488_s6_t82.tif\n"
     ]
    },
    {
     "name": "stderr",
     "output_type": "stream",
     "text": [
      "100%|██████████| 64/64 [03:23<00:00,  2.67s/it]  \n"
     ]
    },
    {
     "name": "stdout",
     "output_type": "stream",
     "text": [
      "Saving file/data/u934/service_imagerie/v_kapoor/Fl4-2-Var/forFOLDERFutureRestoration/pnrG4_ECadGFPki-hetero_30pre29_bin140x_mov4/3DResults/%s_40x_bin1_05_5min_1-2-3dys_3-4-5-6-7wt_1_w2CSU-488_s6_t182.tif\n"
     ]
    },
    {
     "name": "stderr",
     "output_type": "stream",
     "text": [
      "100%|██████████| 64/64 [03:22<00:00,  2.65s/it]  \n"
     ]
    },
    {
     "name": "stdout",
     "output_type": "stream",
     "text": [
      "Saving file/data/u934/service_imagerie/v_kapoor/Fl4-2-Var/forFOLDERFutureRestoration/pnrG4_ECadGFPki-hetero_30pre29_bin140x_mov4/3DResults/%s_40x_bin1_05_5min_1-2-3dys_3-4-5-6-7wt_1_w2CSU-488_s6_t153.tif\n"
     ]
    },
    {
     "name": "stderr",
     "output_type": "stream",
     "text": [
      "100%|██████████| 64/64 [03:24<00:00,  2.65s/it]  \n"
     ]
    },
    {
     "name": "stdout",
     "output_type": "stream",
     "text": [
      "Saving file/data/u934/service_imagerie/v_kapoor/Fl4-2-Var/forFOLDERFutureRestoration/pnrG4_ECadGFPki-hetero_30pre29_bin140x_mov4/3DResults/%s_40x_bin1_05_5min_1-2-3dys_3-4-5-6-7wt_1_w2CSU-488_s6_t53.tif\n"
     ]
    },
    {
     "name": "stderr",
     "output_type": "stream",
     "text": [
      "100%|██████████| 64/64 [03:21<00:00,  2.63s/it]  \n"
     ]
    },
    {
     "name": "stdout",
     "output_type": "stream",
     "text": [
      "Saving file/data/u934/service_imagerie/v_kapoor/Fl4-2-Var/forFOLDERFutureRestoration/pnrG4_ECadGFPki-hetero_30pre29_bin140x_mov4/3DResults/%s_40x_bin1_05_5min_1-2-3dys_3-4-5-6-7wt_1_w2CSU-488_s6_t5.tif\n"
     ]
    },
    {
     "name": "stderr",
     "output_type": "stream",
     "text": [
      "100%|██████████| 64/64 [03:23<00:00,  2.66s/it]  \n"
     ]
    },
    {
     "name": "stdout",
     "output_type": "stream",
     "text": [
      "Saving file/data/u934/service_imagerie/v_kapoor/Fl4-2-Var/forFOLDERFutureRestoration/pnrG4_ECadGFPki-hetero_30pre29_bin140x_mov4/3DResults/%s_40x_bin1_05_5min_1-2-3dys_3-4-5-6-7wt_1_w2CSU-488_s6_t66.tif\n"
     ]
    },
    {
     "name": "stderr",
     "output_type": "stream",
     "text": [
      "100%|██████████| 64/64 [03:21<00:00,  2.64s/it]  \n"
     ]
    },
    {
     "name": "stdout",
     "output_type": "stream",
     "text": [
      "Saving file/data/u934/service_imagerie/v_kapoor/Fl4-2-Var/forFOLDERFutureRestoration/pnrG4_ECadGFPki-hetero_30pre29_bin140x_mov4/3DResults/%s_40x_bin1_05_5min_1-2-3dys_3-4-5-6-7wt_1_w2CSU-488_s6_t166.tif\n"
     ]
    },
    {
     "name": "stderr",
     "output_type": "stream",
     "text": [
      "100%|██████████| 64/64 [03:24<00:00,  2.66s/it]  \n"
     ]
    },
    {
     "name": "stdout",
     "output_type": "stream",
     "text": [
      "Saving file/data/u934/service_imagerie/v_kapoor/Fl4-2-Var/forFOLDERFutureRestoration/pnrG4_ECadGFPki-hetero_30pre29_bin140x_mov4/3DResults/%s_40x_bin1_05_5min_1-2-3dys_3-4-5-6-7wt_1_w2CSU-488_s6_t61.tif\n"
     ]
    },
    {
     "name": "stderr",
     "output_type": "stream",
     "text": [
      "100%|██████████| 64/64 [03:23<00:00,  2.64s/it]  \n"
     ]
    },
    {
     "name": "stdout",
     "output_type": "stream",
     "text": [
      "Saving file/data/u934/service_imagerie/v_kapoor/Fl4-2-Var/forFOLDERFutureRestoration/pnrG4_ECadGFPki-hetero_30pre29_bin140x_mov4/3DResults/%s_40x_bin1_05_5min_1-2-3dys_3-4-5-6-7wt_1_w2CSU-488_s6_t161.tif\n"
     ]
    },
    {
     "name": "stderr",
     "output_type": "stream",
     "text": [
      "100%|██████████| 64/64 [03:23<00:00,  2.64s/it]  \n"
     ]
    },
    {
     "name": "stdout",
     "output_type": "stream",
     "text": [
      "Saving file/data/u934/service_imagerie/v_kapoor/Fl4-2-Var/forFOLDERFutureRestoration/pnrG4_ECadGFPki-hetero_30pre29_bin140x_mov4/3DResults/%s_40x_bin1_05_5min_1-2-3dys_3-4-5-6-7wt_1_w2CSU-488_s6_t13.tif\n"
     ]
    },
    {
     "name": "stderr",
     "output_type": "stream",
     "text": [
      "100%|██████████| 64/64 [03:22<00:00,  2.64s/it]  \n"
     ]
    },
    {
     "name": "stdout",
     "output_type": "stream",
     "text": [
      "Saving file/data/u934/service_imagerie/v_kapoor/Fl4-2-Var/forFOLDERFutureRestoration/pnrG4_ECadGFPki-hetero_30pre29_bin140x_mov4/3DResults/%s_40x_bin1_05_5min_1-2-3dys_3-4-5-6-7wt_1_w2CSU-488_s6_t113.tif\n"
     ]
    },
    {
     "name": "stderr",
     "output_type": "stream",
     "text": [
      "100%|██████████| 64/64 [03:24<00:00,  2.65s/it]  \n"
     ]
    },
    {
     "name": "stdout",
     "output_type": "stream",
     "text": [
      "Saving file/data/u934/service_imagerie/v_kapoor/Fl4-2-Var/forFOLDERFutureRestoration/pnrG4_ECadGFPki-hetero_30pre29_bin140x_mov4/3DResults/%s_40x_bin1_05_5min_1-2-3dys_3-4-5-6-7wt_1_w2CSU-488_s6_t204.tif\n"
     ]
    },
    {
     "name": "stderr",
     "output_type": "stream",
     "text": [
      "100%|██████████| 64/64 [03:22<00:00,  2.63s/it]  \n"
     ]
    },
    {
     "name": "stdout",
     "output_type": "stream",
     "text": [
      "Saving file/data/u934/service_imagerie/v_kapoor/Fl4-2-Var/forFOLDERFutureRestoration/pnrG4_ECadGFPki-hetero_30pre29_bin140x_mov4/3DResults/%s_40x_bin1_05_5min_1-2-3dys_3-4-5-6-7wt_1_w2CSU-488_s6_t68.tif\n"
     ]
    },
    {
     "name": "stderr",
     "output_type": "stream",
     "text": [
      "100%|██████████| 64/64 [03:23<00:00,  2.64s/it]  \n"
     ]
    },
    {
     "name": "stdout",
     "output_type": "stream",
     "text": [
      "Saving file/data/u934/service_imagerie/v_kapoor/Fl4-2-Var/forFOLDERFutureRestoration/pnrG4_ECadGFPki-hetero_30pre29_bin140x_mov4/3DResults/%s_40x_bin1_05_5min_1-2-3dys_3-4-5-6-7wt_1_w2CSU-488_s6_t168.tif\n"
     ]
    },
    {
     "name": "stderr",
     "output_type": "stream",
     "text": [
      "100%|██████████| 64/64 [03:22<00:00,  2.63s/it]  \n"
     ]
    },
    {
     "name": "stdout",
     "output_type": "stream",
     "text": [
      "Saving file/data/u934/service_imagerie/v_kapoor/Fl4-2-Var/forFOLDERFutureRestoration/pnrG4_ECadGFPki-hetero_30pre29_bin140x_mov4/3DResults/%s_40x_bin1_05_5min_1-2-3dys_3-4-5-6-7wt_1_w2CSU-488_s6_t14.tif\n"
     ]
    },
    {
     "name": "stderr",
     "output_type": "stream",
     "text": [
      "100%|██████████| 64/64 [03:24<00:00,  2.65s/it]  \n"
     ]
    },
    {
     "name": "stdout",
     "output_type": "stream",
     "text": [
      "Saving file/data/u934/service_imagerie/v_kapoor/Fl4-2-Var/forFOLDERFutureRestoration/pnrG4_ECadGFPki-hetero_30pre29_bin140x_mov4/3DResults/%s_40x_bin1_05_5min_1-2-3dys_3-4-5-6-7wt_1_w2CSU-488_s6_t114.tif\n"
     ]
    },
    {
     "name": "stderr",
     "output_type": "stream",
     "text": [
      "100%|██████████| 64/64 [03:22<00:00,  2.63s/it]  \n"
     ]
    },
    {
     "name": "stdout",
     "output_type": "stream",
     "text": [
      "Saving file/data/u934/service_imagerie/v_kapoor/Fl4-2-Var/forFOLDERFutureRestoration/pnrG4_ECadGFPki-hetero_30pre29_bin140x_mov4/3DResults/%s_40x_bin1_05_5min_1-2-3dys_3-4-5-6-7wt_1_w2CSU-488_s6_t203.tif\n"
     ]
    },
    {
     "name": "stderr",
     "output_type": "stream",
     "text": [
      "100%|██████████| 64/64 [03:22<00:00,  2.64s/it]  \n"
     ]
    },
    {
     "name": "stdout",
     "output_type": "stream",
     "text": [
      "Saving file/data/u934/service_imagerie/v_kapoor/Fl4-2-Var/forFOLDERFutureRestoration/pnrG4_ECadGFPki-hetero_30pre29_bin140x_mov4/3DResults/%s_40x_bin1_05_5min_1-2-3dys_3-4-5-6-7wt_1_w2CSU-488_s6_t79.tif\n"
     ]
    },
    {
     "name": "stderr",
     "output_type": "stream",
     "text": [
      "100%|██████████| 64/64 [03:21<00:00,  2.64s/it]  \n"
     ]
    },
    {
     "name": "stdout",
     "output_type": "stream",
     "text": [
      "Saving file/data/u934/service_imagerie/v_kapoor/Fl4-2-Var/forFOLDERFutureRestoration/pnrG4_ECadGFPki-hetero_30pre29_bin140x_mov4/3DResults/%s_40x_bin1_05_5min_1-2-3dys_3-4-5-6-7wt_1_w2CSU-488_s6_t179.tif\n"
     ]
    },
    {
     "name": "stderr",
     "output_type": "stream",
     "text": [
      "100%|██████████| 64/64 [03:23<00:00,  2.65s/it]  \n"
     ]
    },
    {
     "name": "stdout",
     "output_type": "stream",
     "text": [
      "Saving file/data/u934/service_imagerie/v_kapoor/Fl4-2-Var/forFOLDERFutureRestoration/pnrG4_ECadGFPki-hetero_30pre29_bin140x_mov4/3DResults/%s_40x_bin1_05_5min_1-2-3dys_3-4-5-6-7wt_1_w2CSU-488_s6_t212.tif\n"
     ]
    },
    {
     "name": "stderr",
     "output_type": "stream",
     "text": [
      "100%|██████████| 64/64 [03:21<00:00,  2.63s/it]  \n"
     ]
    },
    {
     "name": "stdout",
     "output_type": "stream",
     "text": [
      "Saving file/data/u934/service_imagerie/v_kapoor/Fl4-2-Var/forFOLDERFutureRestoration/pnrG4_ECadGFPki-hetero_30pre29_bin140x_mov4/3DResults/%s_40x_bin1_05_5min_1-2-3dys_3-4-5-6-7wt_1_w2CSU-488_s6_t105.tif\n"
     ]
    },
    {
     "name": "stderr",
     "output_type": "stream",
     "text": [
      "100%|██████████| 64/64 [03:23<00:00,  2.66s/it]  \n"
     ]
    },
    {
     "name": "stdout",
     "output_type": "stream",
     "text": [
      "Saving file/data/u934/service_imagerie/v_kapoor/Fl4-2-Var/forFOLDERFutureRestoration/pnrG4_ECadGFPki-hetero_30pre29_bin140x_mov4/3DResults/%s_40x_bin1_05_5min_1-2-3dys_3-4-5-6-7wt_1_w2CSU-488_s6_t102.tif\n"
     ]
    },
    {
     "name": "stderr",
     "output_type": "stream",
     "text": [
      "100%|██████████| 64/64 [03:22<00:00,  2.65s/it]  \n"
     ]
    },
    {
     "name": "stdout",
     "output_type": "stream",
     "text": [
      "Saving file/data/u934/service_imagerie/v_kapoor/Fl4-2-Var/forFOLDERFutureRestoration/pnrG4_ECadGFPki-hetero_30pre29_bin140x_mov4/3DResults/%s_40x_bin1_05_5min_1-2-3dys_3-4-5-6-7wt_1_w2CSU-488_s6_t70.tif\n"
     ]
    },
    {
     "name": "stderr",
     "output_type": "stream",
     "text": [
      "100%|██████████| 64/64 [03:23<00:00,  2.65s/it]  \n"
     ]
    },
    {
     "name": "stdout",
     "output_type": "stream",
     "text": [
      "Saving file/data/u934/service_imagerie/v_kapoor/Fl4-2-Var/forFOLDERFutureRestoration/pnrG4_ECadGFPki-hetero_30pre29_bin140x_mov4/3DResults/%s_40x_bin1_05_5min_1-2-3dys_3-4-5-6-7wt_1_w2CSU-488_s6_t170.tif\n"
     ]
    },
    {
     "name": "stderr",
     "output_type": "stream",
     "text": [
      "100%|██████████| 64/64 [03:21<00:00,  2.63s/it]  \n"
     ]
    },
    {
     "name": "stdout",
     "output_type": "stream",
     "text": [
      "Saving file/data/u934/service_imagerie/v_kapoor/Fl4-2-Var/forFOLDERFutureRestoration/pnrG4_ECadGFPki-hetero_30pre29_bin140x_mov4/3DResults/%s_40x_bin1_05_5min_1-2-3dys_3-4-5-6-7wt_1_w2CSU-488_s6_t77.tif\n"
     ]
    },
    {
     "name": "stderr",
     "output_type": "stream",
     "text": [
      "100%|██████████| 64/64 [03:23<00:00,  2.66s/it]  \n"
     ]
    },
    {
     "name": "stdout",
     "output_type": "stream",
     "text": [
      "Saving file/data/u934/service_imagerie/v_kapoor/Fl4-2-Var/forFOLDERFutureRestoration/pnrG4_ECadGFPki-hetero_30pre29_bin140x_mov4/3DResults/%s_40x_bin1_05_5min_1-2-3dys_3-4-5-6-7wt_1_w2CSU-488_s6_t177.tif\n"
     ]
    },
    {
     "name": "stderr",
     "output_type": "stream",
     "text": [
      "100%|██████████| 64/64 [03:21<00:00,  2.65s/it]  \n"
     ]
    },
    {
     "name": "stdout",
     "output_type": "stream",
     "text": [
      "Saving file/data/u934/service_imagerie/v_kapoor/Fl4-2-Var/forFOLDERFutureRestoration/pnrG4_ECadGFPki-hetero_30pre29_bin140x_mov4/3DResults/%s_40x_bin1_05_5min_1-2-3dys_3-4-5-6-7wt_1_w2CSU-488_s6_t142.tif\n"
     ]
    },
    {
     "name": "stderr",
     "output_type": "stream",
     "text": [
      "100%|██████████| 64/64 [03:24<00:00,  2.65s/it]  \n"
     ]
    },
    {
     "name": "stdout",
     "output_type": "stream",
     "text": [
      "Saving file/data/u934/service_imagerie/v_kapoor/Fl4-2-Var/forFOLDERFutureRestoration/pnrG4_ECadGFPki-hetero_30pre29_bin140x_mov4/3DResults/%s_40x_bin1_05_5min_1-2-3dys_3-4-5-6-7wt_1_w2CSU-488_s6_t42.tif\n"
     ]
    },
    {
     "name": "stderr",
     "output_type": "stream",
     "text": [
      "100%|██████████| 64/64 [03:22<00:00,  2.63s/it]  \n"
     ]
    },
    {
     "name": "stdout",
     "output_type": "stream",
     "text": [
      "Saving file/data/u934/service_imagerie/v_kapoor/Fl4-2-Var/forFOLDERFutureRestoration/pnrG4_ECadGFPki-hetero_30pre29_bin140x_mov4/3DResults/%s_40x_bin1_05_5min_1-2-3dys_3-4-5-6-7wt_1_w2CSU-488_s6_t93.tif\n"
     ]
    },
    {
     "name": "stderr",
     "output_type": "stream",
     "text": [
      "100%|██████████| 64/64 [03:23<00:00,  2.66s/it]  \n"
     ]
    },
    {
     "name": "stdout",
     "output_type": "stream",
     "text": [
      "Saving file/data/u934/service_imagerie/v_kapoor/Fl4-2-Var/forFOLDERFutureRestoration/pnrG4_ECadGFPki-hetero_30pre29_bin140x_mov4/3DResults/%s_40x_bin1_05_5min_1-2-3dys_3-4-5-6-7wt_1_w2CSU-488_s6_t193.tif\n"
     ]
    },
    {
     "name": "stderr",
     "output_type": "stream",
     "text": [
      "100%|██████████| 64/64 [03:22<00:00,  2.63s/it]  \n"
     ]
    },
    {
     "name": "stdout",
     "output_type": "stream",
     "text": [
      "Saving file/data/u934/service_imagerie/v_kapoor/Fl4-2-Var/forFOLDERFutureRestoration/pnrG4_ECadGFPki-hetero_30pre29_bin140x_mov4/3DResults/%s_40x_bin1_05_5min_1-2-3dys_3-4-5-6-7wt_1_w2CSU-488_s6_t139.tif\n"
     ]
    },
    {
     "name": "stderr",
     "output_type": "stream",
     "text": [
      "100%|██████████| 64/64 [03:23<00:00,  2.66s/it]  \n"
     ]
    },
    {
     "name": "stdout",
     "output_type": "stream",
     "text": [
      "Saving file/data/u934/service_imagerie/v_kapoor/Fl4-2-Var/forFOLDERFutureRestoration/pnrG4_ECadGFPki-hetero_30pre29_bin140x_mov4/3DResults/%s_40x_bin1_05_5min_1-2-3dys_3-4-5-6-7wt_1_w2CSU-488_s6_t39.tif\n"
     ]
    },
    {
     "name": "stderr",
     "output_type": "stream",
     "text": [
      "100%|██████████| 64/64 [03:21<00:00,  2.63s/it]  \n"
     ]
    },
    {
     "name": "stdout",
     "output_type": "stream",
     "text": [
      "Saving file/data/u934/service_imagerie/v_kapoor/Fl4-2-Var/forFOLDERFutureRestoration/pnrG4_ECadGFPki-hetero_30pre29_bin140x_mov4/3DResults/%s_40x_bin1_05_5min_1-2-3dys_3-4-5-6-7wt_1_w2CSU-488_s6_t145.tif\n"
     ]
    },
    {
     "name": "stderr",
     "output_type": "stream",
     "text": [
      "100%|██████████| 64/64 [03:24<00:00,  2.64s/it]  \n"
     ]
    },
    {
     "name": "stdout",
     "output_type": "stream",
     "text": [
      "Saving file/data/u934/service_imagerie/v_kapoor/Fl4-2-Var/forFOLDERFutureRestoration/pnrG4_ECadGFPki-hetero_30pre29_bin140x_mov4/3DResults/%s_40x_bin1_05_5min_1-2-3dys_3-4-5-6-7wt_1_w2CSU-488_s6_t45.tif\n"
     ]
    },
    {
     "name": "stderr",
     "output_type": "stream",
     "text": [
      "100%|██████████| 64/64 [03:22<00:00,  2.67s/it]  \n"
     ]
    },
    {
     "name": "stdout",
     "output_type": "stream",
     "text": [
      "Saving file/data/u934/service_imagerie/v_kapoor/Fl4-2-Var/forFOLDERFutureRestoration/pnrG4_ECadGFPki-hetero_30pre29_bin140x_mov4/3DResults/%s_40x_bin1_05_5min_1-2-3dys_3-4-5-6-7wt_1_w2CSU-488_s6_t94.tif\n"
     ]
    },
    {
     "name": "stderr",
     "output_type": "stream",
     "text": [
      "100%|██████████| 64/64 [03:24<00:00,  2.66s/it]  \n"
     ]
    },
    {
     "name": "stdout",
     "output_type": "stream",
     "text": [
      "Saving file/data/u934/service_imagerie/v_kapoor/Fl4-2-Var/forFOLDERFutureRestoration/pnrG4_ECadGFPki-hetero_30pre29_bin140x_mov4/3DResults/%s_40x_bin1_05_5min_1-2-3dys_3-4-5-6-7wt_1_w2CSU-488_s6_t194.tif\n"
     ]
    },
    {
     "name": "stderr",
     "output_type": "stream",
     "text": [
      "100%|██████████| 64/64 [03:22<00:00,  2.64s/it]  \n"
     ]
    },
    {
     "name": "stdout",
     "output_type": "stream",
     "text": [
      "Saving file/data/u934/service_imagerie/v_kapoor/Fl4-2-Var/forFOLDERFutureRestoration/pnrG4_ECadGFPki-hetero_30pre29_bin140x_mov4/3DResults/%s_40x_bin1_05_5min_1-2-3dys_3-4-5-6-7wt_1_w2CSU-488_s6_t137.tif\n"
     ]
    },
    {
     "name": "stderr",
     "output_type": "stream",
     "text": [
      "100%|██████████| 64/64 [03:23<00:00,  2.65s/it]  \n"
     ]
    },
    {
     "name": "stdout",
     "output_type": "stream",
     "text": [
      "Saving file/data/u934/service_imagerie/v_kapoor/Fl4-2-Var/forFOLDERFutureRestoration/pnrG4_ECadGFPki-hetero_30pre29_bin140x_mov4/3DResults/%s_40x_bin1_05_5min_1-2-3dys_3-4-5-6-7wt_1_w2CSU-488_s6_t37.tif\n"
     ]
    },
    {
     "name": "stderr",
     "output_type": "stream",
     "text": [
      "100%|██████████| 64/64 [03:21<00:00,  2.64s/it]  \n"
     ]
    },
    {
     "name": "stdout",
     "output_type": "stream",
     "text": [
      "Saving file/data/u934/service_imagerie/v_kapoor/Fl4-2-Var/forFOLDERFutureRestoration/pnrG4_ECadGFPki-hetero_30pre29_bin140x_mov4/3DResults/%s_40x_bin1_05_5min_1-2-3dys_3-4-5-6-7wt_1_w2CSU-488_s6_t130.tif\n"
     ]
    },
    {
     "name": "stderr",
     "output_type": "stream",
     "text": [
      "100%|██████████| 64/64 [03:24<00:00,  2.66s/it]  \n"
     ]
    },
    {
     "name": "stdout",
     "output_type": "stream",
     "text": [
      "Saving file/data/u934/service_imagerie/v_kapoor/Fl4-2-Var/forFOLDERFutureRestoration/pnrG4_ECadGFPki-hetero_30pre29_bin140x_mov4/3DResults/%s_40x_bin1_05_5min_1-2-3dys_3-4-5-6-7wt_1_w2CSU-488_s6_t30.tif\n"
     ]
    },
    {
     "name": "stderr",
     "output_type": "stream",
     "text": [
      "100%|██████████| 64/64 [03:22<00:00,  2.67s/it]  \n"
     ]
    },
    {
     "name": "stdout",
     "output_type": "stream",
     "text": [
      "Saving file/data/u934/service_imagerie/v_kapoor/Fl4-2-Var/forFOLDERFutureRestoration/pnrG4_ECadGFPki-hetero_30pre29_bin140x_mov4/3DResults/%s_40x_bin1_05_5min_1-2-3dys_3-4-5-6-7wt_1_w2CSU-488_s6_t69.tif\n"
     ]
    },
    {
     "name": "stderr",
     "output_type": "stream",
     "text": [
      "100%|██████████| 64/64 [03:24<00:00,  2.66s/it]  \n"
     ]
    },
    {
     "name": "stdout",
     "output_type": "stream",
     "text": [
      "Saving file/data/u934/service_imagerie/v_kapoor/Fl4-2-Var/forFOLDERFutureRestoration/pnrG4_ECadGFPki-hetero_30pre29_bin140x_mov4/3DResults/%s_40x_bin1_05_5min_1-2-3dys_3-4-5-6-7wt_1_w2CSU-488_s6_t169.tif\n"
     ]
    },
    {
     "name": "stderr",
     "output_type": "stream",
     "text": [
      "100%|██████████| 64/64 [03:23<00:00,  2.65s/it]  \n"
     ]
    },
    {
     "name": "stdout",
     "output_type": "stream",
     "text": [
      "Saving file/data/u934/service_imagerie/v_kapoor/Fl4-2-Var/forFOLDERFutureRestoration/pnrG4_ECadGFPki-hetero_30pre29_bin140x_mov4/3DResults/%s_40x_bin1_05_5min_1-2-3dys_3-4-5-6-7wt_1_w2CSU-488_s6_t15.tif\n"
     ]
    },
    {
     "name": "stderr",
     "output_type": "stream",
     "text": [
      "100%|██████████| 64/64 [03:25<00:00,  2.66s/it]  \n"
     ]
    },
    {
     "name": "stdout",
     "output_type": "stream",
     "text": [
      "Saving file/data/u934/service_imagerie/v_kapoor/Fl4-2-Var/forFOLDERFutureRestoration/pnrG4_ECadGFPki-hetero_30pre29_bin140x_mov4/3DResults/%s_40x_bin1_05_5min_1-2-3dys_3-4-5-6-7wt_1_w2CSU-488_s6_t115.tif\n"
     ]
    },
    {
     "name": "stderr",
     "output_type": "stream",
     "text": [
      "100%|██████████| 64/64 [03:22<00:00,  2.64s/it]  \n"
     ]
    },
    {
     "name": "stdout",
     "output_type": "stream",
     "text": [
      "Saving file/data/u934/service_imagerie/v_kapoor/Fl4-2-Var/forFOLDERFutureRestoration/pnrG4_ECadGFPki-hetero_30pre29_bin140x_mov4/3DResults/%s_40x_bin1_05_5min_1-2-3dys_3-4-5-6-7wt_1_w2CSU-488_s6_t202.tif\n"
     ]
    },
    {
     "name": "stderr",
     "output_type": "stream",
     "text": [
      "100%|██████████| 64/64 [03:23<00:00,  2.65s/it]  \n"
     ]
    },
    {
     "name": "stdout",
     "output_type": "stream",
     "text": [
      "Saving file/data/u934/service_imagerie/v_kapoor/Fl4-2-Var/forFOLDERFutureRestoration/pnrG4_ECadGFPki-hetero_30pre29_bin140x_mov4/3DResults/%s_40x_bin1_05_5min_1-2-3dys_3-4-5-6-7wt_1_w2CSU-488_s6_t12.tif\n"
     ]
    },
    {
     "name": "stderr",
     "output_type": "stream",
     "text": [
      "100%|██████████| 64/64 [03:22<00:00,  2.63s/it] \n"
     ]
    },
    {
     "name": "stdout",
     "output_type": "stream",
     "text": [
      "Saving file/data/u934/service_imagerie/v_kapoor/Fl4-2-Var/forFOLDERFutureRestoration/pnrG4_ECadGFPki-hetero_30pre29_bin140x_mov4/3DResults/%s_40x_bin1_05_5min_1-2-3dys_3-4-5-6-7wt_1_w2CSU-488_s6_t112.tif\n"
     ]
    },
    {
     "name": "stderr",
     "output_type": "stream",
     "text": [
      "100%|██████████| 64/64 [03:23<00:00,  2.66s/it]  \n"
     ]
    },
    {
     "name": "stdout",
     "output_type": "stream",
     "text": [
      "Saving file/data/u934/service_imagerie/v_kapoor/Fl4-2-Var/forFOLDERFutureRestoration/pnrG4_ECadGFPki-hetero_30pre29_bin140x_mov4/3DResults/%s_40x_bin1_05_5min_1-2-3dys_3-4-5-6-7wt_1_w2CSU-488_s6_t205.tif\n"
     ]
    },
    {
     "name": "stderr",
     "output_type": "stream",
     "text": [
      "100%|██████████| 64/64 [03:22<00:00,  2.63s/it]  \n"
     ]
    },
    {
     "name": "stdout",
     "output_type": "stream",
     "text": [
      "Saving file/data/u934/service_imagerie/v_kapoor/Fl4-2-Var/forFOLDERFutureRestoration/pnrG4_ECadGFPki-hetero_30pre29_bin140x_mov4/3DResults/%s_40x_bin1_05_5min_1-2-3dys_3-4-5-6-7wt_1_w2CSU-488_s6_t60.tif\n"
     ]
    },
    {
     "name": "stderr",
     "output_type": "stream",
     "text": [
      "100%|██████████| 64/64 [03:23<00:00,  2.66s/it]  \n"
     ]
    },
    {
     "name": "stdout",
     "output_type": "stream",
     "text": [
      "Saving file/data/u934/service_imagerie/v_kapoor/Fl4-2-Var/forFOLDERFutureRestoration/pnrG4_ECadGFPki-hetero_30pre29_bin140x_mov4/3DResults/%s_40x_bin1_05_5min_1-2-3dys_3-4-5-6-7wt_1_w2CSU-488_s6_t160.tif\n"
     ]
    },
    {
     "name": "stderr",
     "output_type": "stream",
     "text": [
      "100%|██████████| 64/64 [03:21<00:00,  2.63s/it]  \n"
     ]
    },
    {
     "name": "stdout",
     "output_type": "stream",
     "text": [
      "Saving file/data/u934/service_imagerie/v_kapoor/Fl4-2-Var/forFOLDERFutureRestoration/pnrG4_ECadGFPki-hetero_30pre29_bin140x_mov4/3DResults/%s_40x_bin1_05_5min_1-2-3dys_3-4-5-6-7wt_1_w2CSU-488_s6_t67.tif\n"
     ]
    },
    {
     "name": "stderr",
     "output_type": "stream",
     "text": [
      "100%|██████████| 64/64 [03:23<00:00,  2.66s/it]  \n"
     ]
    },
    {
     "name": "stdout",
     "output_type": "stream",
     "text": [
      "Saving file/data/u934/service_imagerie/v_kapoor/Fl4-2-Var/forFOLDERFutureRestoration/pnrG4_ECadGFPki-hetero_30pre29_bin140x_mov4/3DResults/%s_40x_bin1_05_5min_1-2-3dys_3-4-5-6-7wt_1_w2CSU-488_s6_t167.tif\n"
     ]
    },
    {
     "name": "stderr",
     "output_type": "stream",
     "text": [
      "100%|██████████| 64/64 [03:22<00:00,  2.66s/it]  \n"
     ]
    },
    {
     "name": "stdout",
     "output_type": "stream",
     "text": [
      "Saving file/data/u934/service_imagerie/v_kapoor/Fl4-2-Var/forFOLDERFutureRestoration/pnrG4_ECadGFPki-hetero_30pre29_bin140x_mov4/3DResults/%s_40x_bin1_05_5min_1-2-3dys_3-4-5-6-7wt_1_w2CSU-488_s6_t83.tif\n"
     ]
    },
    {
     "name": "stderr",
     "output_type": "stream",
     "text": [
      "100%|██████████| 64/64 [03:23<00:00,  2.66s/it]  \n"
     ]
    },
    {
     "name": "stdout",
     "output_type": "stream",
     "text": [
      "Saving file/data/u934/service_imagerie/v_kapoor/Fl4-2-Var/forFOLDERFutureRestoration/pnrG4_ECadGFPki-hetero_30pre29_bin140x_mov4/3DResults/%s_40x_bin1_05_5min_1-2-3dys_3-4-5-6-7wt_1_w2CSU-488_s6_t183.tif\n"
     ]
    },
    {
     "name": "stderr",
     "output_type": "stream",
     "text": [
      "100%|██████████| 64/64 [03:21<00:00,  2.63s/it] \n"
     ]
    },
    {
     "name": "stdout",
     "output_type": "stream",
     "text": [
      "Saving file/data/u934/service_imagerie/v_kapoor/Fl4-2-Var/forFOLDERFutureRestoration/pnrG4_ECadGFPki-hetero_30pre29_bin140x_mov4/3DResults/%s_40x_bin1_05_5min_1-2-3dys_3-4-5-6-7wt_1_w2CSU-488_s6_t152.tif\n"
     ]
    },
    {
     "name": "stderr",
     "output_type": "stream",
     "text": [
      "100%|██████████| 64/64 [03:24<00:00,  2.65s/it]  \n"
     ]
    },
    {
     "name": "stdout",
     "output_type": "stream",
     "text": [
      "Saving file/data/u934/service_imagerie/v_kapoor/Fl4-2-Var/forFOLDERFutureRestoration/pnrG4_ECadGFPki-hetero_30pre29_bin140x_mov4/3DResults/%s_40x_bin1_05_5min_1-2-3dys_3-4-5-6-7wt_1_w2CSU-488_s6_t52.tif\n"
     ]
    },
    {
     "name": "stderr",
     "output_type": "stream",
     "text": [
      "100%|██████████| 64/64 [03:23<00:00,  2.63s/it]  \n"
     ]
    },
    {
     "name": "stdout",
     "output_type": "stream",
     "text": [
      "Saving file/data/u934/service_imagerie/v_kapoor/Fl4-2-Var/forFOLDERFutureRestoration/pnrG4_ECadGFPki-hetero_30pre29_bin140x_mov4/3DResults/%s_40x_bin1_05_5min_1-2-3dys_3-4-5-6-7wt_1_w2CSU-488_s6_t4.tif\n"
     ]
    },
    {
     "name": "stderr",
     "output_type": "stream",
     "text": [
      "100%|██████████| 64/64 [03:24<00:00,  2.66s/it]  \n"
     ]
    },
    {
     "name": "stdout",
     "output_type": "stream",
     "text": [
      "Saving file/data/u934/service_imagerie/v_kapoor/Fl4-2-Var/forFOLDERFutureRestoration/pnrG4_ECadGFPki-hetero_30pre29_bin140x_mov4/3DResults/%s_40x_bin1_05_5min_1-2-3dys_3-4-5-6-7wt_1_w2CSU-488_s6_t129.tif\n"
     ]
    },
    {
     "name": "stderr",
     "output_type": "stream",
     "text": [
      "100%|██████████| 64/64 [03:22<00:00,  2.64s/it]  \n"
     ]
    },
    {
     "name": "stdout",
     "output_type": "stream",
     "text": [
      "Saving file/data/u934/service_imagerie/v_kapoor/Fl4-2-Var/forFOLDERFutureRestoration/pnrG4_ECadGFPki-hetero_30pre29_bin140x_mov4/3DResults/%s_40x_bin1_05_5min_1-2-3dys_3-4-5-6-7wt_1_w2CSU-488_s6_t29.tif\n"
     ]
    },
    {
     "name": "stderr",
     "output_type": "stream",
     "text": [
      "100%|██████████| 64/64 [03:23<00:00,  2.65s/it]  \n"
     ]
    },
    {
     "name": "stdout",
     "output_type": "stream",
     "text": [
      "Saving file/data/u934/service_imagerie/v_kapoor/Fl4-2-Var/forFOLDERFutureRestoration/pnrG4_ECadGFPki-hetero_30pre29_bin140x_mov4/3DResults/%s_40x_bin1_05_5min_1-2-3dys_3-4-5-6-7wt_1_w2CSU-488_s6_t3.tif\n"
     ]
    },
    {
     "name": "stderr",
     "output_type": "stream",
     "text": [
      "100%|██████████| 64/64 [03:22<00:00,  2.64s/it]  \n"
     ]
    },
    {
     "name": "stdout",
     "output_type": "stream",
     "text": [
      "Saving file/data/u934/service_imagerie/v_kapoor/Fl4-2-Var/forFOLDERFutureRestoration/pnrG4_ECadGFPki-hetero_30pre29_bin140x_mov4/3DResults/%s_40x_bin1_05_5min_1-2-3dys_3-4-5-6-7wt_1_w2CSU-488_s6_t84.tif\n"
     ]
    },
    {
     "name": "stderr",
     "output_type": "stream",
     "text": [
      "100%|██████████| 64/64 [03:23<00:00,  2.65s/it]  \n"
     ]
    },
    {
     "name": "stdout",
     "output_type": "stream",
     "text": [
      "Saving file/data/u934/service_imagerie/v_kapoor/Fl4-2-Var/forFOLDERFutureRestoration/pnrG4_ECadGFPki-hetero_30pre29_bin140x_mov4/3DResults/%s_40x_bin1_05_5min_1-2-3dys_3-4-5-6-7wt_1_w2CSU-488_s6_t184.tif\n"
     ]
    },
    {
     "name": "stderr",
     "output_type": "stream",
     "text": [
      "100%|██████████| 64/64 [03:21<00:00,  2.62s/it]  \n"
     ]
    },
    {
     "name": "stdout",
     "output_type": "stream",
     "text": [
      "Saving file/data/u934/service_imagerie/v_kapoor/Fl4-2-Var/forFOLDERFutureRestoration/pnrG4_ECadGFPki-hetero_30pre29_bin140x_mov4/3DResults/%s_40x_bin1_05_5min_1-2-3dys_3-4-5-6-7wt_1_w2CSU-488_s6_t155.tif\n"
     ]
    },
    {
     "name": "stderr",
     "output_type": "stream",
     "text": [
      "100%|██████████| 64/64 [03:23<00:00,  2.65s/it]  \n"
     ]
    },
    {
     "name": "stdout",
     "output_type": "stream",
     "text": [
      "Saving file/data/u934/service_imagerie/v_kapoor/Fl4-2-Var/forFOLDERFutureRestoration/pnrG4_ECadGFPki-hetero_30pre29_bin140x_mov4/3DResults/%s_40x_bin1_05_5min_1-2-3dys_3-4-5-6-7wt_1_w2CSU-488_s6_t55.tif\n"
     ]
    },
    {
     "name": "stderr",
     "output_type": "stream",
     "text": [
      "100%|██████████| 64/64 [03:22<00:00,  2.64s/it]  \n"
     ]
    },
    {
     "name": "stdout",
     "output_type": "stream",
     "text": [
      "Saving file/data/u934/service_imagerie/v_kapoor/Fl4-2-Var/forFOLDERFutureRestoration/pnrG4_ECadGFPki-hetero_30pre29_bin140x_mov4/3DResults/%s_40x_bin1_05_5min_1-2-3dys_3-4-5-6-7wt_1_w2CSU-488_s6_t127.tif\n"
     ]
    },
    {
     "name": "stderr",
     "output_type": "stream",
     "text": [
      "100%|██████████| 64/64 [03:24<00:00,  2.68s/it]  \n"
     ]
    },
    {
     "name": "stdout",
     "output_type": "stream",
     "text": [
      "Saving file/data/u934/service_imagerie/v_kapoor/Fl4-2-Var/forFOLDERFutureRestoration/pnrG4_ECadGFPki-hetero_30pre29_bin140x_mov4/3DResults/%s_40x_bin1_05_5min_1-2-3dys_3-4-5-6-7wt_1_w2CSU-488_s6_t27.tif\n"
     ]
    },
    {
     "name": "stderr",
     "output_type": "stream",
     "text": [
      "100%|██████████| 64/64 [03:23<00:00,  2.66s/it]  \n"
     ]
    },
    {
     "name": "stdout",
     "output_type": "stream",
     "text": [
      "Saving file/data/u934/service_imagerie/v_kapoor/Fl4-2-Var/forFOLDERFutureRestoration/pnrG4_ECadGFPki-hetero_30pre29_bin140x_mov4/3DResults/%s_40x_bin1_05_5min_1-2-3dys_3-4-5-6-7wt_1_w2CSU-488_s6_t120.tif\n"
     ]
    },
    {
     "name": "stderr",
     "output_type": "stream",
     "text": [
      "100%|██████████| 64/64 [03:24<00:00,  2.66s/it]  \n"
     ]
    },
    {
     "name": "stdout",
     "output_type": "stream",
     "text": [
      "Saving file/data/u934/service_imagerie/v_kapoor/Fl4-2-Var/forFOLDERFutureRestoration/pnrG4_ECadGFPki-hetero_30pre29_bin140x_mov4/3DResults/%s_40x_bin1_05_5min_1-2-3dys_3-4-5-6-7wt_1_w2CSU-488_s6_t20.tif\n"
     ]
    },
    {
     "name": "stderr",
     "output_type": "stream",
     "text": [
      "100%|██████████| 64/64 [03:21<00:00,  2.63s/it]  \n"
     ]
    },
    {
     "name": "stdout",
     "output_type": "stream",
     "text": [
      "Saving file/data/u934/service_imagerie/v_kapoor/Fl4-2-Var/forFOLDERFutureRestoration/pnrG4_ECadGFPki-hetero_30pre29_bin140x_mov4/3DResults/%s_40x_bin1_05_5min_1-2-3dys_3-4-5-6-7wt_1_w2CSU-488_s6_t131.tif\n"
     ]
    },
    {
     "name": "stderr",
     "output_type": "stream",
     "text": [
      "100%|██████████| 64/64 [03:23<00:00,  2.66s/it]  \n"
     ]
    },
    {
     "name": "stdout",
     "output_type": "stream",
     "text": [
      "Saving file/data/u934/service_imagerie/v_kapoor/Fl4-2-Var/forFOLDERFutureRestoration/pnrG4_ECadGFPki-hetero_30pre29_bin140x_mov4/3DResults/%s_40x_bin1_05_5min_1-2-3dys_3-4-5-6-7wt_1_w2CSU-488_s6_t31.tif\n"
     ]
    },
    {
     "name": "stderr",
     "output_type": "stream",
     "text": [
      "100%|██████████| 64/64 [03:23<00:00,  2.65s/it]  \n"
     ]
    },
    {
     "name": "stdout",
     "output_type": "stream",
     "text": [
      "Saving file/data/u934/service_imagerie/v_kapoor/Fl4-2-Var/forFOLDERFutureRestoration/pnrG4_ECadGFPki-hetero_30pre29_bin140x_mov4/3DResults/%s_40x_bin1_05_5min_1-2-3dys_3-4-5-6-7wt_1_w2CSU-488_s6_t136.tif\n"
     ]
    },
    {
     "name": "stderr",
     "output_type": "stream",
     "text": [
      "100%|██████████| 64/64 [03:24<00:00,  2.66s/it]  \n"
     ]
    },
    {
     "name": "stdout",
     "output_type": "stream",
     "text": [
      "Saving file/data/u934/service_imagerie/v_kapoor/Fl4-2-Var/forFOLDERFutureRestoration/pnrG4_ECadGFPki-hetero_30pre29_bin140x_mov4/3DResults/%s_40x_bin1_05_5min_1-2-3dys_3-4-5-6-7wt_1_w2CSU-488_s6_t36.tif\n"
     ]
    },
    {
     "name": "stderr",
     "output_type": "stream",
     "text": [
      "100%|██████████| 64/64 [03:23<00:00,  2.66s/it]  \n"
     ]
    },
    {
     "name": "stdout",
     "output_type": "stream",
     "text": [
      "Saving file/data/u934/service_imagerie/v_kapoor/Fl4-2-Var/forFOLDERFutureRestoration/pnrG4_ECadGFPki-hetero_30pre29_bin140x_mov4/3DResults/%s_40x_bin1_05_5min_1-2-3dys_3-4-5-6-7wt_1_w2CSU-488_s6_t138.tif\n"
     ]
    },
    {
     "name": "stderr",
     "output_type": "stream",
     "text": [
      "100%|██████████| 64/64 [03:24<00:00,  2.66s/it]  \n"
     ]
    },
    {
     "name": "stdout",
     "output_type": "stream",
     "text": [
      "Saving file/data/u934/service_imagerie/v_kapoor/Fl4-2-Var/forFOLDERFutureRestoration/pnrG4_ECadGFPki-hetero_30pre29_bin140x_mov4/3DResults/%s_40x_bin1_05_5min_1-2-3dys_3-4-5-6-7wt_1_w2CSU-488_s6_t38.tif\n"
     ]
    },
    {
     "name": "stderr",
     "output_type": "stream",
     "text": [
      "100%|██████████| 64/64 [03:23<00:00,  2.64s/it]  \n"
     ]
    },
    {
     "name": "stdout",
     "output_type": "stream",
     "text": [
      "Saving file/data/u934/service_imagerie/v_kapoor/Fl4-2-Var/forFOLDERFutureRestoration/pnrG4_ECadGFPki-hetero_30pre29_bin140x_mov4/3DResults/%s_40x_bin1_05_5min_1-2-3dys_3-4-5-6-7wt_1_w2CSU-488_s6_t144.tif\n"
     ]
    },
    {
     "name": "stderr",
     "output_type": "stream",
     "text": [
      "100%|██████████| 64/64 [03:24<00:00,  2.67s/it]  \n"
     ]
    },
    {
     "name": "stdout",
     "output_type": "stream",
     "text": [
      "Saving file/data/u934/service_imagerie/v_kapoor/Fl4-2-Var/forFOLDERFutureRestoration/pnrG4_ECadGFPki-hetero_30pre29_bin140x_mov4/3DResults/%s_40x_bin1_05_5min_1-2-3dys_3-4-5-6-7wt_1_w2CSU-488_s6_t44.tif\n"
     ]
    },
    {
     "name": "stderr",
     "output_type": "stream",
     "text": [
      "100%|██████████| 64/64 [03:22<00:00,  2.64s/it]  \n"
     ]
    },
    {
     "name": "stdout",
     "output_type": "stream",
     "text": [
      "Saving file/data/u934/service_imagerie/v_kapoor/Fl4-2-Var/forFOLDERFutureRestoration/pnrG4_ECadGFPki-hetero_30pre29_bin140x_mov4/3DResults/%s_40x_bin1_05_5min_1-2-3dys_3-4-5-6-7wt_1_w2CSU-488_s6_t95.tif\n"
     ]
    },
    {
     "name": "stderr",
     "output_type": "stream",
     "text": [
      "100%|██████████| 64/64 [03:23<00:00,  2.66s/it]  \n"
     ]
    },
    {
     "name": "stdout",
     "output_type": "stream",
     "text": [
      "Saving file/data/u934/service_imagerie/v_kapoor/Fl4-2-Var/forFOLDERFutureRestoration/pnrG4_ECadGFPki-hetero_30pre29_bin140x_mov4/3DResults/%s_40x_bin1_05_5min_1-2-3dys_3-4-5-6-7wt_1_w2CSU-488_s6_t195.tif\n"
     ]
    },
    {
     "name": "stderr",
     "output_type": "stream",
     "text": [
      "100%|██████████| 64/64 [03:21<00:00,  2.62s/it]  \n"
     ]
    },
    {
     "name": "stdout",
     "output_type": "stream",
     "text": [
      "Saving file/data/u934/service_imagerie/v_kapoor/Fl4-2-Var/forFOLDERFutureRestoration/pnrG4_ECadGFPki-hetero_30pre29_bin140x_mov4/3DResults/%s_40x_bin1_05_5min_1-2-3dys_3-4-5-6-7wt_1_w2CSU-488_s6_t143.tif\n"
     ]
    },
    {
     "name": "stderr",
     "output_type": "stream",
     "text": [
      "100%|██████████| 64/64 [03:25<00:00,  2.66s/it]  \n"
     ]
    },
    {
     "name": "stdout",
     "output_type": "stream",
     "text": [
      "Saving file/data/u934/service_imagerie/v_kapoor/Fl4-2-Var/forFOLDERFutureRestoration/pnrG4_ECadGFPki-hetero_30pre29_bin140x_mov4/3DResults/%s_40x_bin1_05_5min_1-2-3dys_3-4-5-6-7wt_1_w2CSU-488_s6_t43.tif\n"
     ]
    },
    {
     "name": "stderr",
     "output_type": "stream",
     "text": [
      "100%|██████████| 64/64 [03:23<00:00,  2.65s/it]  \n"
     ]
    },
    {
     "name": "stdout",
     "output_type": "stream",
     "text": [
      "Saving file/data/u934/service_imagerie/v_kapoor/Fl4-2-Var/forFOLDERFutureRestoration/pnrG4_ECadGFPki-hetero_30pre29_bin140x_mov4/3DResults/%s_40x_bin1_05_5min_1-2-3dys_3-4-5-6-7wt_1_w2CSU-488_s6_t92.tif\n"
     ]
    },
    {
     "name": "stderr",
     "output_type": "stream",
     "text": [
      "100%|██████████| 64/64 [03:24<00:00,  2.65s/it]  \n"
     ]
    },
    {
     "name": "stdout",
     "output_type": "stream",
     "text": [
      "Saving file/data/u934/service_imagerie/v_kapoor/Fl4-2-Var/forFOLDERFutureRestoration/pnrG4_ECadGFPki-hetero_30pre29_bin140x_mov4/3DResults/%s_40x_bin1_05_5min_1-2-3dys_3-4-5-6-7wt_1_w2CSU-488_s6_t192.tif\n"
     ]
    },
    {
     "name": "stderr",
     "output_type": "stream",
     "text": [
      "100%|██████████| 64/64 [03:22<00:00,  2.69s/it]  \n"
     ]
    },
    {
     "name": "stdout",
     "output_type": "stream",
     "text": [
      "Saving file/data/u934/service_imagerie/v_kapoor/Fl4-2-Var/forFOLDERFutureRestoration/pnrG4_ECadGFPki-hetero_30pre29_bin140x_mov4/3DResults/%s_40x_bin1_05_5min_1-2-3dys_3-4-5-6-7wt_1_w2CSU-488_s6_t76.tif\n"
     ]
    },
    {
     "name": "stderr",
     "output_type": "stream",
     "text": [
      "100%|██████████| 64/64 [03:25<00:00,  2.66s/it]  \n"
     ]
    },
    {
     "name": "stdout",
     "output_type": "stream",
     "text": [
      "Saving file/data/u934/service_imagerie/v_kapoor/Fl4-2-Var/forFOLDERFutureRestoration/pnrG4_ECadGFPki-hetero_30pre29_bin140x_mov4/3DResults/%s_40x_bin1_05_5min_1-2-3dys_3-4-5-6-7wt_1_w2CSU-488_s6_t176.tif\n"
     ]
    },
    {
     "name": "stderr",
     "output_type": "stream",
     "text": [
      "100%|██████████| 64/64 [03:22<00:00,  2.63s/it]  \n"
     ]
    },
    {
     "name": "stdout",
     "output_type": "stream",
     "text": [
      "Saving file/data/u934/service_imagerie/v_kapoor/Fl4-2-Var/forFOLDERFutureRestoration/pnrG4_ECadGFPki-hetero_30pre29_bin140x_mov4/3DResults/%s_40x_bin1_05_5min_1-2-3dys_3-4-5-6-7wt_1_w2CSU-488_s6_t71.tif\n"
     ]
    },
    {
     "name": "stderr",
     "output_type": "stream",
     "text": [
      "100%|██████████| 64/64 [03:23<00:00,  2.68s/it]  \n"
     ]
    },
    {
     "name": "stdout",
     "output_type": "stream",
     "text": [
      "Saving file/data/u934/service_imagerie/v_kapoor/Fl4-2-Var/forFOLDERFutureRestoration/pnrG4_ECadGFPki-hetero_30pre29_bin140x_mov4/3DResults/%s_40x_bin1_05_5min_1-2-3dys_3-4-5-6-7wt_1_w2CSU-488_s6_t171.tif\n"
     ]
    },
    {
     "name": "stderr",
     "output_type": "stream",
     "text": [
      "100%|██████████| 64/64 [03:22<00:00,  2.63s/it]  \n"
     ]
    },
    {
     "name": "stdout",
     "output_type": "stream",
     "text": [
      "Saving file/data/u934/service_imagerie/v_kapoor/Fl4-2-Var/forFOLDERFutureRestoration/pnrG4_ECadGFPki-hetero_30pre29_bin140x_mov4/3DResults/%s_40x_bin1_05_5min_1-2-3dys_3-4-5-6-7wt_1_w2CSU-488_s6_t103.tif\n"
     ]
    },
    {
     "name": "stderr",
     "output_type": "stream",
     "text": [
      "100%|██████████| 64/64 [03:24<00:00,  2.66s/it]  \n"
     ]
    },
    {
     "name": "stdout",
     "output_type": "stream",
     "text": [
      "Saving file/data/u934/service_imagerie/v_kapoor/Fl4-2-Var/forFOLDERFutureRestoration/pnrG4_ECadGFPki-hetero_30pre29_bin140x_mov4/3DResults/%s_40x_bin1_05_5min_1-2-3dys_3-4-5-6-7wt_1_w2CSU-488_s6_t78.tif\n"
     ]
    },
    {
     "name": "stderr",
     "output_type": "stream",
     "text": [
      "100%|██████████| 64/64 [03:22<00:00,  2.65s/it]  \n"
     ]
    },
    {
     "name": "stdout",
     "output_type": "stream",
     "text": [
      "Saving file/data/u934/service_imagerie/v_kapoor/Fl4-2-Var/forFOLDERFutureRestoration/pnrG4_ECadGFPki-hetero_30pre29_bin140x_mov4/3DResults/%s_40x_bin1_05_5min_1-2-3dys_3-4-5-6-7wt_1_w2CSU-488_s6_t178.tif\n"
     ]
    },
    {
     "name": "stderr",
     "output_type": "stream",
     "text": [
      "100%|██████████| 64/64 [03:25<00:00,  2.69s/it]  \n"
     ]
    },
    {
     "name": "stdout",
     "output_type": "stream",
     "text": [
      "Saving file/data/u934/service_imagerie/v_kapoor/Fl4-2-Var/forFOLDERFutureRestoration/pnrG4_ECadGFPki-hetero_30pre29_bin140x_mov4/3DResults/%s_40x_bin1_05_5min_1-2-3dys_3-4-5-6-7wt_1_w2CSU-488_s6_t104.tif\n"
     ]
    },
    {
     "name": "stderr",
     "output_type": "stream",
     "text": [
      "100%|██████████| 64/64 [03:23<00:00,  2.65s/it]  \n"
     ]
    },
    {
     "name": "stdout",
     "output_type": "stream",
     "text": [
      "Saving file/data/u934/service_imagerie/v_kapoor/Fl4-2-Var/forFOLDERFutureRestoration/pnrG4_ECadGFPki-hetero_30pre29_bin140x_mov3/3DResults/%s_40x_bin1_05_5min_1-2-3dys_3-4-5-6-7wt_1_w2CSU-488_s5_t168.tif\n"
     ]
    },
    {
     "name": "stderr",
     "output_type": "stream",
     "text": [
      "100%|██████████| 64/64 [03:25<00:00,  2.68s/it]  \n"
     ]
    },
    {
     "name": "stdout",
     "output_type": "stream",
     "text": [
      "Saving file/data/u934/service_imagerie/v_kapoor/Fl4-2-Var/forFOLDERFutureRestoration/pnrG4_ECadGFPki-hetero_30pre29_bin140x_mov3/3DResults/%s_40x_bin1_05_5min_1-2-3dys_3-4-5-6-7wt_1_w2CSU-488_s5_t203.tif\n"
     ]
    },
    {
     "name": "stderr",
     "output_type": "stream",
     "text": [
      "100%|██████████| 64/64 [03:22<00:00,  2.67s/it]  \n"
     ]
    },
    {
     "name": "stdout",
     "output_type": "stream",
     "text": [
      "Saving file/data/u934/service_imagerie/v_kapoor/Fl4-2-Var/forFOLDERFutureRestoration/pnrG4_ECadGFPki-hetero_30pre29_bin140x_mov3/3DResults/%s_40x_bin1_05_5min_1-2-3dys_3-4-5-6-7wt_1_w2CSU-488_s5_t114.tif\n"
     ]
    },
    {
     "name": "stderr",
     "output_type": "stream",
     "text": [
      "100%|██████████| 64/64 [03:24<00:00,  2.66s/it]  \n"
     ]
    },
    {
     "name": "stdout",
     "output_type": "stream",
     "text": [
      "Saving file/data/u934/service_imagerie/v_kapoor/Fl4-2-Var/forFOLDERFutureRestoration/pnrG4_ECadGFPki-hetero_30pre29_bin140x_mov3/3DResults/%s_40x_bin1_05_5min_1-2-3dys_3-4-5-6-7wt_1_w2CSU-488_s5_t60.tif\n"
     ]
    },
    {
     "name": "stderr",
     "output_type": "stream",
     "text": [
      "100%|██████████| 64/64 [03:21<00:00,  2.64s/it]  \n"
     ]
    },
    {
     "name": "stdout",
     "output_type": "stream",
     "text": [
      "Saving file/data/u934/service_imagerie/v_kapoor/Fl4-2-Var/forFOLDERFutureRestoration/pnrG4_ECadGFPki-hetero_30pre29_bin140x_mov3/3DResults/%s_40x_bin1_05_5min_1-2-3dys_3-4-5-6-7wt_1_w2CSU-488_s5_t204.tif\n"
     ]
    },
    {
     "name": "stderr",
     "output_type": "stream",
     "text": [
      "100%|██████████| 64/64 [03:23<00:00,  2.65s/it]  \n"
     ]
    },
    {
     "name": "stdout",
     "output_type": "stream",
     "text": [
      "Saving file/data/u934/service_imagerie/v_kapoor/Fl4-2-Var/forFOLDERFutureRestoration/pnrG4_ECadGFPki-hetero_30pre29_bin140x_mov3/3DResults/%s_40x_bin1_05_5min_1-2-3dys_3-4-5-6-7wt_1_w2CSU-488_s5_t113.tif\n"
     ]
    },
    {
     "name": "stderr",
     "output_type": "stream",
     "text": [
      "100%|██████████| 64/64 [03:22<00:00,  2.64s/it]  \n"
     ]
    },
    {
     "name": "stdout",
     "output_type": "stream",
     "text": [
      "Saving file/data/u934/service_imagerie/v_kapoor/Fl4-2-Var/forFOLDERFutureRestoration/pnrG4_ECadGFPki-hetero_30pre29_bin140x_mov3/3DResults/%s_40x_bin1_05_5min_1-2-3dys_3-4-5-6-7wt_1_w2CSU-488_s5_t67.tif\n"
     ]
    },
    {
     "name": "stderr",
     "output_type": "stream",
     "text": [
      "100%|██████████| 64/64 [03:24<00:00,  2.71s/it]  \n"
     ]
    },
    {
     "name": "stdout",
     "output_type": "stream",
     "text": [
      "Saving file/data/u934/service_imagerie/v_kapoor/Fl4-2-Var/forFOLDERFutureRestoration/pnrG4_ECadGFPki-hetero_30pre29_bin140x_mov3/3DResults/%s_40x_bin1_05_5min_1-2-3dys_3-4-5-6-7wt_1_w2CSU-488_s5_t69.tif\n"
     ]
    },
    {
     "name": "stderr",
     "output_type": "stream",
     "text": [
      "100%|██████████| 64/64 [03:23<00:00,  2.64s/it]  \n"
     ]
    },
    {
     "name": "stdout",
     "output_type": "stream",
     "text": [
      "Saving file/data/u934/service_imagerie/v_kapoor/Fl4-2-Var/forFOLDERFutureRestoration/pnrG4_ECadGFPki-hetero_30pre29_bin140x_mov3/3DResults/%s_40x_bin1_05_5min_1-2-3dys_3-4-5-6-7wt_1_w2CSU-488_s5_t161.tif\n"
     ]
    },
    {
     "name": "stderr",
     "output_type": "stream",
     "text": [
      "100%|██████████| 64/64 [03:25<00:00,  2.69s/it]  \n"
     ]
    },
    {
     "name": "stdout",
     "output_type": "stream",
     "text": [
      "Saving file/data/u934/service_imagerie/v_kapoor/Fl4-2-Var/forFOLDERFutureRestoration/pnrG4_ECadGFPki-hetero_30pre29_bin140x_mov3/3DResults/%s_40x_bin1_05_5min_1-2-3dys_3-4-5-6-7wt_1_w2CSU-488_s5_t15.tif\n"
     ]
    },
    {
     "name": "stderr",
     "output_type": "stream",
     "text": [
      "100%|██████████| 64/64 [03:22<00:00,  2.64s/it]  \n"
     ]
    },
    {
     "name": "stdout",
     "output_type": "stream",
     "text": [
      "Saving file/data/u934/service_imagerie/v_kapoor/Fl4-2-Var/forFOLDERFutureRestoration/pnrG4_ECadGFPki-hetero_30pre29_bin140x_mov3/3DResults/%s_40x_bin1_05_5min_1-2-3dys_3-4-5-6-7wt_1_w2CSU-488_s5_t166.tif\n"
     ]
    },
    {
     "name": "stderr",
     "output_type": "stream",
     "text": [
      "100%|██████████| 64/64 [03:24<00:00,  2.66s/it]  \n"
     ]
    },
    {
     "name": "stdout",
     "output_type": "stream",
     "text": [
      "Saving file/data/u934/service_imagerie/v_kapoor/Fl4-2-Var/forFOLDERFutureRestoration/pnrG4_ECadGFPki-hetero_30pre29_bin140x_mov3/3DResults/%s_40x_bin1_05_5min_1-2-3dys_3-4-5-6-7wt_1_w2CSU-488_s5_t12.tif\n"
     ]
    },
    {
     "name": "stderr",
     "output_type": "stream",
     "text": [
      "100%|██████████| 64/64 [03:22<00:00,  2.64s/it]  \n"
     ]
    },
    {
     "name": "stdout",
     "output_type": "stream",
     "text": [
      "Saving file/data/u934/service_imagerie/v_kapoor/Fl4-2-Var/forFOLDERFutureRestoration/pnrG4_ECadGFPki-hetero_30pre29_bin140x_mov3/3DResults/%s_40x_bin1_05_5min_1-2-3dys_3-4-5-6-7wt_1_w2CSU-488_s5_t2.tif\n"
     ]
    },
    {
     "name": "stderr",
     "output_type": "stream",
     "text": [
      "100%|██████████| 64/64 [03:24<00:00,  2.67s/it]  \n"
     ]
    },
    {
     "name": "stdout",
     "output_type": "stream",
     "text": [
      "Saving file/data/u934/service_imagerie/v_kapoor/Fl4-2-Var/forFOLDERFutureRestoration/pnrG4_ECadGFPki-hetero_30pre29_bin140x_mov3/3DResults/%s_40x_bin1_05_5min_1-2-3dys_3-4-5-6-7wt_1_w2CSU-488_s5_t27.tif\n"
     ]
    },
    {
     "name": "stderr",
     "output_type": "stream",
     "text": [
      "100%|██████████| 64/64 [03:22<00:00,  2.64s/it]  \n"
     ]
    },
    {
     "name": "stdout",
     "output_type": "stream",
     "text": [
      "Saving file/data/u934/service_imagerie/v_kapoor/Fl4-2-Var/forFOLDERFutureRestoration/pnrG4_ECadGFPki-hetero_30pre29_bin140x_mov3/3DResults/%s_40x_bin1_05_5min_1-2-3dys_3-4-5-6-7wt_1_w2CSU-488_s5_t153.tif\n"
     ]
    },
    {
     "name": "stderr",
     "output_type": "stream",
     "text": [
      "100%|██████████| 64/64 [03:23<00:00,  2.66s/it]  \n"
     ]
    },
    {
     "name": "stdout",
     "output_type": "stream",
     "text": [
      "Saving file/data/u934/service_imagerie/v_kapoor/Fl4-2-Var/forFOLDERFutureRestoration/pnrG4_ECadGFPki-hetero_30pre29_bin140x_mov3/3DResults/%s_40x_bin1_05_5min_1-2-3dys_3-4-5-6-7wt_1_w2CSU-488_s5_t182.tif\n"
     ]
    },
    {
     "name": "stderr",
     "output_type": "stream",
     "text": [
      "100%|██████████| 64/64 [03:22<00:00,  2.66s/it]  \n"
     ]
    },
    {
     "name": "stdout",
     "output_type": "stream",
     "text": [
      "Saving file/data/u934/service_imagerie/v_kapoor/Fl4-2-Var/forFOLDERFutureRestoration/pnrG4_ECadGFPki-hetero_30pre29_bin140x_mov3/3DResults/%s_40x_bin1_05_5min_1-2-3dys_3-4-5-6-7wt_1_w2CSU-488_s5_t128.tif\n"
     ]
    },
    {
     "name": "stderr",
     "output_type": "stream",
     "text": [
      "100%|██████████| 64/64 [03:24<00:00,  2.66s/it]  \n"
     ]
    },
    {
     "name": "stdout",
     "output_type": "stream",
     "text": [
      "Saving file/data/u934/service_imagerie/v_kapoor/Fl4-2-Var/forFOLDERFutureRestoration/pnrG4_ECadGFPki-hetero_30pre29_bin140x_mov3/3DResults/%s_40x_bin1_05_5min_1-2-3dys_3-4-5-6-7wt_1_w2CSU-488_s5_t5.tif\n"
     ]
    },
    {
     "name": "stderr",
     "output_type": "stream",
     "text": [
      "100%|██████████| 64/64 [03:23<00:00,  2.66s/it]  \n"
     ]
    },
    {
     "name": "stdout",
     "output_type": "stream",
     "text": [
      "Saving file/data/u934/service_imagerie/v_kapoor/Fl4-2-Var/forFOLDERFutureRestoration/pnrG4_ECadGFPki-hetero_30pre29_bin140x_mov3/3DResults/%s_40x_bin1_05_5min_1-2-3dys_3-4-5-6-7wt_1_w2CSU-488_s5_t20.tif\n"
     ]
    },
    {
     "name": "stderr",
     "output_type": "stream",
     "text": [
      "100%|██████████| 64/64 [03:24<00:00,  2.65s/it]  \n"
     ]
    },
    {
     "name": "stdout",
     "output_type": "stream",
     "text": [
      "Saving file/data/u934/service_imagerie/v_kapoor/Fl4-2-Var/forFOLDERFutureRestoration/pnrG4_ECadGFPki-hetero_30pre29_bin140x_mov3/3DResults/%s_40x_bin1_05_5min_1-2-3dys_3-4-5-6-7wt_1_w2CSU-488_s5_t154.tif\n"
     ]
    },
    {
     "name": "stderr",
     "output_type": "stream",
     "text": [
      "100%|██████████| 64/64 [03:22<00:00,  2.64s/it]  \n"
     ]
    },
    {
     "name": "stdout",
     "output_type": "stream",
     "text": [
      "Saving file/data/u934/service_imagerie/v_kapoor/Fl4-2-Var/forFOLDERFutureRestoration/pnrG4_ECadGFPki-hetero_30pre29_bin140x_mov3/3DResults/%s_40x_bin1_05_5min_1-2-3dys_3-4-5-6-7wt_1_w2CSU-488_s5_t185.tif\n"
     ]
    },
    {
     "name": "stderr",
     "output_type": "stream",
     "text": [
      "100%|██████████| 64/64 [03:24<00:00,  2.67s/it]  \n"
     ]
    },
    {
     "name": "stdout",
     "output_type": "stream",
     "text": [
      "Saving file/data/u934/service_imagerie/v_kapoor/Fl4-2-Var/forFOLDERFutureRestoration/pnrG4_ECadGFPki-hetero_30pre29_bin140x_mov3/3DResults/%s_40x_bin1_05_5min_1-2-3dys_3-4-5-6-7wt_1_w2CSU-488_s5_t52.tif\n"
     ]
    },
    {
     "name": "stderr",
     "output_type": "stream",
     "text": [
      "100%|██████████| 64/64 [03:23<00:00,  2.68s/it]  \n"
     ]
    },
    {
     "name": "stdout",
     "output_type": "stream",
     "text": [
      "Saving file/data/u934/service_imagerie/v_kapoor/Fl4-2-Var/forFOLDERFutureRestoration/pnrG4_ECadGFPki-hetero_30pre29_bin140x_mov3/3DResults/%s_40x_bin1_05_5min_1-2-3dys_3-4-5-6-7wt_1_w2CSU-488_s5_t126.tif\n"
     ]
    },
    {
     "name": "stderr",
     "output_type": "stream",
     "text": [
      "100%|██████████| 64/64 [03:25<00:00,  2.64s/it]  \n"
     ]
    },
    {
     "name": "stdout",
     "output_type": "stream",
     "text": [
      "Saving file/data/u934/service_imagerie/v_kapoor/Fl4-2-Var/forFOLDERFutureRestoration/pnrG4_ECadGFPki-hetero_30pre29_bin140x_mov3/3DResults/%s_40x_bin1_05_5min_1-2-3dys_3-4-5-6-7wt_1_w2CSU-488_s5_t83.tif\n"
     ]
    },
    {
     "name": "stderr",
     "output_type": "stream",
     "text": [
      "100%|██████████| 64/64 [03:23<00:00,  2.67s/it]  \n"
     ]
    },
    {
     "name": "stdout",
     "output_type": "stream",
     "text": [
      "Saving file/data/u934/service_imagerie/v_kapoor/Fl4-2-Var/forFOLDERFutureRestoration/pnrG4_ECadGFPki-hetero_30pre29_bin140x_mov3/3DResults/%s_40x_bin1_05_5min_1-2-3dys_3-4-5-6-7wt_1_w2CSU-488_s5_t29.tif\n"
     ]
    },
    {
     "name": "stderr",
     "output_type": "stream",
     "text": [
      "100%|██████████| 64/64 [03:26<00:00,  2.67s/it]  \n"
     ]
    },
    {
     "name": "stdout",
     "output_type": "stream",
     "text": [
      "Saving file/data/u934/service_imagerie/v_kapoor/Fl4-2-Var/forFOLDERFutureRestoration/pnrG4_ECadGFPki-hetero_30pre29_bin140x_mov3/3DResults/%s_40x_bin1_05_5min_1-2-3dys_3-4-5-6-7wt_1_w2CSU-488_s5_t55.tif\n"
     ]
    },
    {
     "name": "stderr",
     "output_type": "stream",
     "text": [
      "100%|██████████| 64/64 [03:22<00:00,  2.63s/it]  \n"
     ]
    },
    {
     "name": "stdout",
     "output_type": "stream",
     "text": [
      "Saving file/data/u934/service_imagerie/v_kapoor/Fl4-2-Var/forFOLDERFutureRestoration/pnrG4_ECadGFPki-hetero_30pre29_bin140x_mov3/3DResults/%s_40x_bin1_05_5min_1-2-3dys_3-4-5-6-7wt_1_w2CSU-488_s5_t121.tif\n"
     ]
    },
    {
     "name": "stderr",
     "output_type": "stream",
     "text": [
      "100%|██████████| 64/64 [03:23<00:00,  2.65s/it]  \n"
     ]
    },
    {
     "name": "stdout",
     "output_type": "stream",
     "text": [
      "Saving file/data/u934/service_imagerie/v_kapoor/Fl4-2-Var/forFOLDERFutureRestoration/pnrG4_ECadGFPki-hetero_30pre29_bin140x_mov3/3DResults/%s_40x_bin1_05_5min_1-2-3dys_3-4-5-6-7wt_1_w2CSU-488_s5_t84.tif\n"
     ]
    },
    {
     "name": "stderr",
     "output_type": "stream",
     "text": [
      "100%|██████████| 64/64 [03:21<00:00,  2.63s/it]  \n"
     ]
    },
    {
     "name": "stdout",
     "output_type": "stream",
     "text": [
      "Saving file/data/u934/service_imagerie/v_kapoor/Fl4-2-Var/forFOLDERFutureRestoration/pnrG4_ECadGFPki-hetero_30pre29_bin140x_mov3/3DResults/%s_40x_bin1_05_5min_1-2-3dys_3-4-5-6-7wt_1_w2CSU-488_s5_t38.tif\n"
     ]
    },
    {
     "name": "stderr",
     "output_type": "stream",
     "text": [
      "100%|██████████| 64/64 [03:24<00:00,  2.68s/it]  \n"
     ]
    },
    {
     "name": "stdout",
     "output_type": "stream",
     "text": [
      "Saving file/data/u934/service_imagerie/v_kapoor/Fl4-2-Var/forFOLDERFutureRestoration/pnrG4_ECadGFPki-hetero_30pre29_bin140x_mov3/3DResults/%s_40x_bin1_05_5min_1-2-3dys_3-4-5-6-7wt_1_w2CSU-488_s5_t95.tif\n"
     ]
    },
    {
     "name": "stderr",
     "output_type": "stream",
     "text": [
      "100%|██████████| 64/64 [03:22<00:00,  2.69s/it]  \n"
     ]
    },
    {
     "name": "stdout",
     "output_type": "stream",
     "text": [
      "Saving file/data/u934/service_imagerie/v_kapoor/Fl4-2-Var/forFOLDERFutureRestoration/pnrG4_ECadGFPki-hetero_30pre29_bin140x_mov3/3DResults/%s_40x_bin1_05_5min_1-2-3dys_3-4-5-6-7wt_1_w2CSU-488_s5_t44.tif\n"
     ]
    },
    {
     "name": "stderr",
     "output_type": "stream",
     "text": [
      "100%|██████████| 64/64 [03:24<00:00,  2.66s/it]  \n"
     ]
    },
    {
     "name": "stdout",
     "output_type": "stream",
     "text": [
      "Saving file/data/u934/service_imagerie/v_kapoor/Fl4-2-Var/forFOLDERFutureRestoration/pnrG4_ECadGFPki-hetero_30pre29_bin140x_mov3/3DResults/%s_40x_bin1_05_5min_1-2-3dys_3-4-5-6-7wt_1_w2CSU-488_s5_t130.tif\n"
     ]
    },
    {
     "name": "stderr",
     "output_type": "stream",
     "text": [
      "100%|██████████| 64/64 [03:22<00:00,  2.65s/it]  \n"
     ]
    },
    {
     "name": "stdout",
     "output_type": "stream",
     "text": [
      "Saving file/data/u934/service_imagerie/v_kapoor/Fl4-2-Var/forFOLDERFutureRestoration/pnrG4_ECadGFPki-hetero_30pre29_bin140x_mov3/3DResults/%s_40x_bin1_05_5min_1-2-3dys_3-4-5-6-7wt_1_w2CSU-488_s5_t92.tif\n"
     ]
    },
    {
     "name": "stderr",
     "output_type": "stream",
     "text": [
      "100%|██████████| 64/64 [03:23<00:00,  2.65s/it]  \n"
     ]
    },
    {
     "name": "stdout",
     "output_type": "stream",
     "text": [
      "Saving file/data/u934/service_imagerie/v_kapoor/Fl4-2-Var/forFOLDERFutureRestoration/pnrG4_ECadGFPki-hetero_30pre29_bin140x_mov3/3DResults/%s_40x_bin1_05_5min_1-2-3dys_3-4-5-6-7wt_1_w2CSU-488_s5_t43.tif\n"
     ]
    },
    {
     "name": "stderr",
     "output_type": "stream",
     "text": [
      "100%|██████████| 64/64 [03:22<00:00,  2.66s/it]  \n"
     ]
    },
    {
     "name": "stdout",
     "output_type": "stream",
     "text": [
      "Saving file/data/u934/service_imagerie/v_kapoor/Fl4-2-Var/forFOLDERFutureRestoration/pnrG4_ECadGFPki-hetero_30pre29_bin140x_mov3/3DResults/%s_40x_bin1_05_5min_1-2-3dys_3-4-5-6-7wt_1_w2CSU-488_s5_t137.tif\n"
     ]
    },
    {
     "name": "stderr",
     "output_type": "stream",
     "text": [
      "100%|██████████| 64/64 [03:24<00:00,  2.66s/it]  \n"
     ]
    },
    {
     "name": "stdout",
     "output_type": "stream",
     "text": [
      "Saving file/data/u934/service_imagerie/v_kapoor/Fl4-2-Var/forFOLDERFutureRestoration/pnrG4_ECadGFPki-hetero_30pre29_bin140x_mov3/3DResults/%s_40x_bin1_05_5min_1-2-3dys_3-4-5-6-7wt_1_w2CSU-488_s5_t139.tif\n"
     ]
    },
    {
     "name": "stderr",
     "output_type": "stream",
     "text": [
      "100%|██████████| 64/64 [03:22<00:00,  2.64s/it]  \n"
     ]
    },
    {
     "name": "stdout",
     "output_type": "stream",
     "text": [
      "Saving file/data/u934/service_imagerie/v_kapoor/Fl4-2-Var/forFOLDERFutureRestoration/pnrG4_ECadGFPki-hetero_30pre29_bin140x_mov3/3DResults/%s_40x_bin1_05_5min_1-2-3dys_3-4-5-6-7wt_1_w2CSU-488_s5_t194.tif\n"
     ]
    },
    {
     "name": "stderr",
     "output_type": "stream",
     "text": [
      "100%|██████████| 64/64 [03:25<00:00,  2.65s/it]  \n"
     ]
    },
    {
     "name": "stdout",
     "output_type": "stream",
     "text": [
      "Saving file/data/u934/service_imagerie/v_kapoor/Fl4-2-Var/forFOLDERFutureRestoration/pnrG4_ECadGFPki-hetero_30pre29_bin140x_mov3/3DResults/%s_40x_bin1_05_5min_1-2-3dys_3-4-5-6-7wt_1_w2CSU-488_s5_t31.tif\n"
     ]
    },
    {
     "name": "stderr",
     "output_type": "stream",
     "text": [
      "100%|██████████| 64/64 [03:22<00:00,  2.65s/it]  \n"
     ]
    },
    {
     "name": "stdout",
     "output_type": "stream",
     "text": [
      "Saving file/data/u934/service_imagerie/v_kapoor/Fl4-2-Var/forFOLDERFutureRestoration/pnrG4_ECadGFPki-hetero_30pre29_bin140x_mov3/3DResults/%s_40x_bin1_05_5min_1-2-3dys_3-4-5-6-7wt_1_w2CSU-488_s5_t145.tif\n"
     ]
    },
    {
     "name": "stderr",
     "output_type": "stream",
     "text": [
      "100%|██████████| 64/64 [03:23<00:00,  2.67s/it]  \n"
     ]
    },
    {
     "name": "stdout",
     "output_type": "stream",
     "text": [
      "Saving file/data/u934/service_imagerie/v_kapoor/Fl4-2-Var/forFOLDERFutureRestoration/pnrG4_ECadGFPki-hetero_30pre29_bin140x_mov3/3DResults/%s_40x_bin1_05_5min_1-2-3dys_3-4-5-6-7wt_1_w2CSU-488_s5_t193.tif\n"
     ]
    },
    {
     "name": "stderr",
     "output_type": "stream",
     "text": [
      "100%|██████████| 64/64 [03:22<00:00,  2.66s/it]  \n"
     ]
    },
    {
     "name": "stdout",
     "output_type": "stream",
     "text": [
      "Saving file/data/u934/service_imagerie/v_kapoor/Fl4-2-Var/forFOLDERFutureRestoration/pnrG4_ECadGFPki-hetero_30pre29_bin140x_mov3/3DResults/%s_40x_bin1_05_5min_1-2-3dys_3-4-5-6-7wt_1_w2CSU-488_s5_t36.tif\n"
     ]
    },
    {
     "name": "stderr",
     "output_type": "stream",
     "text": [
      "100%|██████████| 64/64 [03:25<00:00,  2.68s/it]  \n"
     ]
    },
    {
     "name": "stdout",
     "output_type": "stream",
     "text": [
      "Saving file/data/u934/service_imagerie/v_kapoor/Fl4-2-Var/forFOLDERFutureRestoration/pnrG4_ECadGFPki-hetero_30pre29_bin140x_mov3/3DResults/%s_40x_bin1_05_5min_1-2-3dys_3-4-5-6-7wt_1_w2CSU-488_s5_t142.tif\n"
     ]
    },
    {
     "name": "stderr",
     "output_type": "stream",
     "text": [
      "100%|██████████| 64/64 [03:22<00:00,  2.64s/it]  \n"
     ]
    },
    {
     "name": "stdout",
     "output_type": "stream",
     "text": [
      "Saving file/data/u934/service_imagerie/v_kapoor/Fl4-2-Var/forFOLDERFutureRestoration/pnrG4_ECadGFPki-hetero_30pre29_bin140x_mov3/3DResults/%s_40x_bin1_05_5min_1-2-3dys_3-4-5-6-7wt_1_w2CSU-488_s5_t177.tif\n"
     ]
    },
    {
     "name": "stderr",
     "output_type": "stream",
     "text": [
      "100%|██████████| 64/64 [03:23<00:00,  2.69s/it]  \n"
     ]
    },
    {
     "name": "stdout",
     "output_type": "stream",
     "text": [
      "Saving file/data/u934/service_imagerie/v_kapoor/Fl4-2-Var/forFOLDERFutureRestoration/pnrG4_ECadGFPki-hetero_30pre29_bin140x_mov3/3DResults/%s_40x_bin1_05_5min_1-2-3dys_3-4-5-6-7wt_1_w2CSU-488_s5_t78.tif\n"
     ]
    },
    {
     "name": "stderr",
     "output_type": "stream",
     "text": [
      "100%|██████████| 64/64 [03:23<00:00,  2.64s/it]  \n"
     ]
    },
    {
     "name": "stdout",
     "output_type": "stream",
     "text": [
      "Saving file/data/u934/service_imagerie/v_kapoor/Fl4-2-Var/forFOLDERFutureRestoration/pnrG4_ECadGFPki-hetero_30pre29_bin140x_mov3/3DResults/%s_40x_bin1_05_5min_1-2-3dys_3-4-5-6-7wt_1_w2CSU-488_s5_t170.tif\n"
     ]
    },
    {
     "name": "stderr",
     "output_type": "stream",
     "text": [
      "100%|██████████| 64/64 [03:24<00:00,  2.68s/it]  \n"
     ]
    },
    {
     "name": "stdout",
     "output_type": "stream",
     "text": [
      "Saving file/data/u934/service_imagerie/v_kapoor/Fl4-2-Var/forFOLDERFutureRestoration/pnrG4_ECadGFPki-hetero_30pre29_bin140x_mov3/3DResults/%s_40x_bin1_05_5min_1-2-3dys_3-4-5-6-7wt_1_w2CSU-488_s5_t102.tif\n"
     ]
    },
    {
     "name": "stderr",
     "output_type": "stream",
     "text": [
      "100%|██████████| 64/64 [03:22<00:00,  2.63s/it]  \n"
     ]
    },
    {
     "name": "stdout",
     "output_type": "stream",
     "text": [
      "Saving file/data/u934/service_imagerie/v_kapoor/Fl4-2-Var/forFOLDERFutureRestoration/pnrG4_ECadGFPki-hetero_30pre29_bin140x_mov3/3DResults/%s_40x_bin1_05_5min_1-2-3dys_3-4-5-6-7wt_1_w2CSU-488_s5_t76.tif\n"
     ]
    },
    {
     "name": "stderr",
     "output_type": "stream",
     "text": [
      "100%|██████████| 64/64 [03:23<00:00,  2.66s/it]  \n"
     ]
    },
    {
     "name": "stdout",
     "output_type": "stream",
     "text": [
      "Saving file/data/u934/service_imagerie/v_kapoor/Fl4-2-Var/forFOLDERFutureRestoration/pnrG4_ECadGFPki-hetero_30pre29_bin140x_mov3/3DResults/%s_40x_bin1_05_5min_1-2-3dys_3-4-5-6-7wt_1_w2CSU-488_s5_t179.tif\n"
     ]
    },
    {
     "name": "stderr",
     "output_type": "stream",
     "text": [
      "100%|██████████| 64/64 [03:22<00:00,  2.65s/it]  \n"
     ]
    },
    {
     "name": "stdout",
     "output_type": "stream",
     "text": [
      "Saving file/data/u934/service_imagerie/v_kapoor/Fl4-2-Var/forFOLDERFutureRestoration/pnrG4_ECadGFPki-hetero_30pre29_bin140x_mov3/3DResults/%s_40x_bin1_05_5min_1-2-3dys_3-4-5-6-7wt_1_w2CSU-488_s5_t105.tif\n"
     ]
    },
    {
     "name": "stderr",
     "output_type": "stream",
     "text": [
      "100%|██████████| 64/64 [03:25<00:00,  2.70s/it]  \n"
     ]
    },
    {
     "name": "stdout",
     "output_type": "stream",
     "text": [
      "Saving file/data/u934/service_imagerie/v_kapoor/Fl4-2-Var/forFOLDERFutureRestoration/pnrG4_ECadGFPki-hetero_30pre29_bin140x_mov3/3DResults/%s_40x_bin1_05_5min_1-2-3dys_3-4-5-6-7wt_1_w2CSU-488_s5_t71.tif\n"
     ]
    },
    {
     "name": "stderr",
     "output_type": "stream",
     "text": [
      "100%|██████████| 64/64 [03:22<00:00,  2.70s/it]  \n"
     ]
    },
    {
     "name": "stdout",
     "output_type": "stream",
     "text": [
      "Saving file/data/u934/service_imagerie/v_kapoor/Fl4-2-Var/forFOLDERFutureRestoration/pnrG4_ECadGFPki-hetero_30pre29_bin140x_mov3/3DResults/%s_40x_bin1_05_5min_1-2-3dys_3-4-5-6-7wt_1_w2CSU-488_s5_t212.tif\n"
     ]
    },
    {
     "name": "stderr",
     "output_type": "stream",
     "text": [
      "100%|██████████| 64/64 [03:25<00:00,  2.68s/it]  \n"
     ]
    },
    {
     "name": "stdout",
     "output_type": "stream",
     "text": [
      "Saving file/data/u934/service_imagerie/v_kapoor/Fl4-2-Var/forFOLDERFutureRestoration/pnrG4_ECadGFPki-hetero_30pre29_bin140x_mov3/3DResults/%s_40x_bin1_05_5min_1-2-3dys_3-4-5-6-7wt_1_w2CSU-488_s5_t28.tif\n"
     ]
    },
    {
     "name": "stderr",
     "output_type": "stream",
     "text": [
      "100%|██████████| 64/64 [03:23<00:00,  2.64s/it]  \n"
     ]
    },
    {
     "name": "stdout",
     "output_type": "stream",
     "text": [
      "Saving file/data/u934/service_imagerie/v_kapoor/Fl4-2-Var/forFOLDERFutureRestoration/pnrG4_ECadGFPki-hetero_30pre29_bin140x_mov3/3DResults/%s_40x_bin1_05_5min_1-2-3dys_3-4-5-6-7wt_1_w2CSU-488_s5_t54.tif\n"
     ]
    },
    {
     "name": "stderr",
     "output_type": "stream",
     "text": [
      "100%|██████████| 64/64 [03:24<00:00,  2.65s/it]  \n"
     ]
    },
    {
     "name": "stdout",
     "output_type": "stream",
     "text": [
      "Saving file/data/u934/service_imagerie/v_kapoor/Fl4-2-Var/forFOLDERFutureRestoration/pnrG4_ECadGFPki-hetero_30pre29_bin140x_mov3/3DResults/%s_40x_bin1_05_5min_1-2-3dys_3-4-5-6-7wt_1_w2CSU-488_s5_t120.tif\n"
     ]
    },
    {
     "name": "stderr",
     "output_type": "stream",
     "text": [
      "100%|██████████| 64/64 [03:22<00:00,  2.66s/it]  \n"
     ]
    },
    {
     "name": "stdout",
     "output_type": "stream",
     "text": [
      "Saving file/data/u934/service_imagerie/v_kapoor/Fl4-2-Var/forFOLDERFutureRestoration/pnrG4_ECadGFPki-hetero_30pre29_bin140x_mov3/3DResults/%s_40x_bin1_05_5min_1-2-3dys_3-4-5-6-7wt_1_w2CSU-488_s5_t85.tif\n"
     ]
    },
    {
     "name": "stderr",
     "output_type": "stream",
     "text": [
      "100%|██████████| 64/64 [03:25<00:00,  2.68s/it]  \n"
     ]
    },
    {
     "name": "stdout",
     "output_type": "stream",
     "text": [
      "Saving file/data/u934/service_imagerie/v_kapoor/Fl4-2-Var/forFOLDERFutureRestoration/pnrG4_ECadGFPki-hetero_30pre29_bin140x_mov3/3DResults/%s_40x_bin1_05_5min_1-2-3dys_3-4-5-6-7wt_1_w2CSU-488_s5_t53.tif\n"
     ]
    },
    {
     "name": "stderr",
     "output_type": "stream",
     "text": [
      "100%|██████████| 64/64 [03:22<00:00,  2.65s/it]  \n"
     ]
    },
    {
     "name": "stdout",
     "output_type": "stream",
     "text": [
      "Saving file/data/u934/service_imagerie/v_kapoor/Fl4-2-Var/forFOLDERFutureRestoration/pnrG4_ECadGFPki-hetero_30pre29_bin140x_mov3/3DResults/%s_40x_bin1_05_5min_1-2-3dys_3-4-5-6-7wt_1_w2CSU-488_s5_t127.tif\n"
     ]
    },
    {
     "name": "stderr",
     "output_type": "stream",
     "text": [
      "100%|██████████| 64/64 [03:24<00:00,  2.68s/it]  \n"
     ]
    },
    {
     "name": "stdout",
     "output_type": "stream",
     "text": [
      "Saving file/data/u934/service_imagerie/v_kapoor/Fl4-2-Var/forFOLDERFutureRestoration/pnrG4_ECadGFPki-hetero_30pre29_bin140x_mov3/3DResults/%s_40x_bin1_05_5min_1-2-3dys_3-4-5-6-7wt_1_w2CSU-488_s5_t82.tif\n"
     ]
    },
    {
     "name": "stderr",
     "output_type": "stream",
     "text": [
      "100%|██████████| 64/64 [03:22<00:00,  2.64s/it]  \n"
     ]
    },
    {
     "name": "stdout",
     "output_type": "stream",
     "text": [
      "Saving file/data/u934/service_imagerie/v_kapoor/Fl4-2-Var/forFOLDERFutureRestoration/pnrG4_ECadGFPki-hetero_30pre29_bin140x_mov3/3DResults/%s_40x_bin1_05_5min_1-2-3dys_3-4-5-6-7wt_1_w2CSU-488_s5_t129.tif\n"
     ]
    },
    {
     "name": "stderr",
     "output_type": "stream",
     "text": [
      "100%|██████████| 64/64 [03:24<00:00,  2.65s/it]  \n"
     ]
    },
    {
     "name": "stdout",
     "output_type": "stream",
     "text": [
      "Saving file/data/u934/service_imagerie/v_kapoor/Fl4-2-Var/forFOLDERFutureRestoration/pnrG4_ECadGFPki-hetero_30pre29_bin140x_mov3/3DResults/%s_40x_bin1_05_5min_1-2-3dys_3-4-5-6-7wt_1_w2CSU-488_s5_t4.tif\n"
     ]
    },
    {
     "name": "stderr",
     "output_type": "stream",
     "text": [
      "100%|██████████| 64/64 [03:22<00:00,  2.64s/it]  \n"
     ]
    },
    {
     "name": "stdout",
     "output_type": "stream",
     "text": [
      "Saving file/data/u934/service_imagerie/v_kapoor/Fl4-2-Var/forFOLDERFutureRestoration/pnrG4_ECadGFPki-hetero_30pre29_bin140x_mov3/3DResults/%s_40x_bin1_05_5min_1-2-3dys_3-4-5-6-7wt_1_w2CSU-488_s5_t21.tif\n"
     ]
    },
    {
     "name": "stderr",
     "output_type": "stream",
     "text": [
      "100%|██████████| 64/64 [03:23<00:00,  2.66s/it]  \n"
     ]
    },
    {
     "name": "stdout",
     "output_type": "stream",
     "text": [
      "Saving file/data/u934/service_imagerie/v_kapoor/Fl4-2-Var/forFOLDERFutureRestoration/pnrG4_ECadGFPki-hetero_30pre29_bin140x_mov3/3DResults/%s_40x_bin1_05_5min_1-2-3dys_3-4-5-6-7wt_1_w2CSU-488_s5_t155.tif\n"
     ]
    },
    {
     "name": "stderr",
     "output_type": "stream",
     "text": [
      "100%|██████████| 64/64 [03:22<00:00,  2.66s/it]  \n"
     ]
    },
    {
     "name": "stdout",
     "output_type": "stream",
     "text": [
      "Saving file/data/u934/service_imagerie/v_kapoor/Fl4-2-Var/forFOLDERFutureRestoration/pnrG4_ECadGFPki-hetero_30pre29_bin140x_mov3/3DResults/%s_40x_bin1_05_5min_1-2-3dys_3-4-5-6-7wt_1_w2CSU-488_s5_t184.tif\n"
     ]
    },
    {
     "name": "stderr",
     "output_type": "stream",
     "text": [
      "100%|██████████| 64/64 [03:23<00:00,  2.64s/it]  \n"
     ]
    },
    {
     "name": "stdout",
     "output_type": "stream",
     "text": [
      "Saving file/data/u934/service_imagerie/v_kapoor/Fl4-2-Var/forFOLDERFutureRestoration/pnrG4_ECadGFPki-hetero_30pre29_bin140x_mov3/3DResults/%s_40x_bin1_05_5min_1-2-3dys_3-4-5-6-7wt_1_w2CSU-488_s5_t3.tif\n"
     ]
    },
    {
     "name": "stderr",
     "output_type": "stream",
     "text": [
      "100%|██████████| 64/64 [03:21<00:00,  2.64s/it]  \n"
     ]
    },
    {
     "name": "stdout",
     "output_type": "stream",
     "text": [
      "Saving file/data/u934/service_imagerie/v_kapoor/Fl4-2-Var/forFOLDERFutureRestoration/pnrG4_ECadGFPki-hetero_30pre29_bin140x_mov3/3DResults/%s_40x_bin1_05_5min_1-2-3dys_3-4-5-6-7wt_1_w2CSU-488_s5_t26.tif\n"
     ]
    },
    {
     "name": "stderr",
     "output_type": "stream",
     "text": [
      "100%|██████████| 64/64 [03:23<00:00,  2.65s/it]  \n"
     ]
    },
    {
     "name": "stdout",
     "output_type": "stream",
     "text": [
      "Saving file/data/u934/service_imagerie/v_kapoor/Fl4-2-Var/forFOLDERFutureRestoration/pnrG4_ECadGFPki-hetero_30pre29_bin140x_mov3/3DResults/%s_40x_bin1_05_5min_1-2-3dys_3-4-5-6-7wt_1_w2CSU-488_s5_t152.tif\n"
     ]
    },
    {
     "name": "stderr",
     "output_type": "stream",
     "text": [
      "100%|██████████| 64/64 [03:23<00:00,  2.67s/it]  \n"
     ]
    },
    {
     "name": "stdout",
     "output_type": "stream",
     "text": [
      "Saving file/data/u934/service_imagerie/v_kapoor/Fl4-2-Var/forFOLDERFutureRestoration/pnrG4_ECadGFPki-hetero_30pre29_bin140x_mov3/3DResults/%s_40x_bin1_05_5min_1-2-3dys_3-4-5-6-7wt_1_w2CSU-488_s5_t183.tif\n"
     ]
    },
    {
     "name": "stderr",
     "output_type": "stream",
     "text": [
      "100%|██████████| 64/64 [03:25<00:00,  2.67s/it]  \n"
     ]
    },
    {
     "name": "stdout",
     "output_type": "stream",
     "text": [
      "Saving file/data/u934/service_imagerie/v_kapoor/Fl4-2-Var/forFOLDERFutureRestoration/pnrG4_ECadGFPki-hetero_30pre29_bin140x_mov3/3DResults/%s_40x_bin1_05_5min_1-2-3dys_3-4-5-6-7wt_1_w2CSU-488_s5_t167.tif\n"
     ]
    },
    {
     "name": "stderr",
     "output_type": "stream",
     "text": [
      "100%|██████████| 64/64 [03:22<00:00,  2.65s/it]  \n"
     ]
    },
    {
     "name": "stdout",
     "output_type": "stream",
     "text": [
      "Saving file/data/u934/service_imagerie/v_kapoor/Fl4-2-Var/forFOLDERFutureRestoration/pnrG4_ECadGFPki-hetero_30pre29_bin140x_mov3/3DResults/%s_40x_bin1_05_5min_1-2-3dys_3-4-5-6-7wt_1_w2CSU-488_s5_t13.tif\n"
     ]
    },
    {
     "name": "stderr",
     "output_type": "stream",
     "text": [
      "100%|██████████| 64/64 [03:25<00:00,  2.67s/it]  \n"
     ]
    },
    {
     "name": "stdout",
     "output_type": "stream",
     "text": [
      "Saving file/data/u934/service_imagerie/v_kapoor/Fl4-2-Var/forFOLDERFutureRestoration/pnrG4_ECadGFPki-hetero_30pre29_bin140x_mov3/3DResults/%s_40x_bin1_05_5min_1-2-3dys_3-4-5-6-7wt_1_w2CSU-488_s5_t68.tif\n"
     ]
    },
    {
     "name": "stderr",
     "output_type": "stream",
     "text": [
      "100%|██████████| 64/64 [03:23<00:00,  2.66s/it]  \n"
     ]
    },
    {
     "name": "stdout",
     "output_type": "stream",
     "text": [
      "Saving file/data/u934/service_imagerie/v_kapoor/Fl4-2-Var/forFOLDERFutureRestoration/pnrG4_ECadGFPki-hetero_30pre29_bin140x_mov3/3DResults/%s_40x_bin1_05_5min_1-2-3dys_3-4-5-6-7wt_1_w2CSU-488_s5_t160.tif\n"
     ]
    },
    {
     "name": "stderr",
     "output_type": "stream",
     "text": [
      "100%|██████████| 64/64 [03:24<00:00,  2.65s/it]  \n"
     ]
    },
    {
     "name": "stdout",
     "output_type": "stream",
     "text": [
      "Saving file/data/u934/service_imagerie/v_kapoor/Fl4-2-Var/forFOLDERFutureRestoration/pnrG4_ECadGFPki-hetero_30pre29_bin140x_mov3/3DResults/%s_40x_bin1_05_5min_1-2-3dys_3-4-5-6-7wt_1_w2CSU-488_s5_t14.tif\n"
     ]
    },
    {
     "name": "stderr",
     "output_type": "stream",
     "text": [
      "100%|██████████| 64/64 [03:22<00:00,  2.64s/it]  \n"
     ]
    },
    {
     "name": "stdout",
     "output_type": "stream",
     "text": [
      "Saving file/data/u934/service_imagerie/v_kapoor/Fl4-2-Var/forFOLDERFutureRestoration/pnrG4_ECadGFPki-hetero_30pre29_bin140x_mov3/3DResults/%s_40x_bin1_05_5min_1-2-3dys_3-4-5-6-7wt_1_w2CSU-488_s5_t205.tif\n"
     ]
    },
    {
     "name": "stderr",
     "output_type": "stream",
     "text": [
      "100%|██████████| 64/64 [03:24<00:00,  2.66s/it]  \n"
     ]
    },
    {
     "name": "stdout",
     "output_type": "stream",
     "text": [
      "Saving file/data/u934/service_imagerie/v_kapoor/Fl4-2-Var/forFOLDERFutureRestoration/pnrG4_ECadGFPki-hetero_30pre29_bin140x_mov3/3DResults/%s_40x_bin1_05_5min_1-2-3dys_3-4-5-6-7wt_1_w2CSU-488_s5_t112.tif\n"
     ]
    },
    {
     "name": "stderr",
     "output_type": "stream",
     "text": [
      "100%|██████████| 64/64 [03:22<00:00,  2.63s/it]  \n"
     ]
    },
    {
     "name": "stdout",
     "output_type": "stream",
     "text": [
      "Saving file/data/u934/service_imagerie/v_kapoor/Fl4-2-Var/forFOLDERFutureRestoration/pnrG4_ECadGFPki-hetero_30pre29_bin140x_mov3/3DResults/%s_40x_bin1_05_5min_1-2-3dys_3-4-5-6-7wt_1_w2CSU-488_s5_t66.tif\n"
     ]
    },
    {
     "name": "stderr",
     "output_type": "stream",
     "text": [
      "100%|██████████| 64/64 [03:24<00:00,  2.68s/it]  \n"
     ]
    },
    {
     "name": "stdout",
     "output_type": "stream",
     "text": [
      "Saving file/data/u934/service_imagerie/v_kapoor/Fl4-2-Var/forFOLDERFutureRestoration/pnrG4_ECadGFPki-hetero_30pre29_bin140x_mov3/3DResults/%s_40x_bin1_05_5min_1-2-3dys_3-4-5-6-7wt_1_w2CSU-488_s5_t169.tif\n"
     ]
    },
    {
     "name": "stderr",
     "output_type": "stream",
     "text": [
      "100%|██████████| 64/64 [03:22<00:00,  2.62s/it]  \n"
     ]
    },
    {
     "name": "stdout",
     "output_type": "stream",
     "text": [
      "Saving file/data/u934/service_imagerie/v_kapoor/Fl4-2-Var/forFOLDERFutureRestoration/pnrG4_ECadGFPki-hetero_30pre29_bin140x_mov3/3DResults/%s_40x_bin1_05_5min_1-2-3dys_3-4-5-6-7wt_1_w2CSU-488_s5_t202.tif\n"
     ]
    },
    {
     "name": "stderr",
     "output_type": "stream",
     "text": [
      "100%|██████████| 64/64 [03:24<00:00,  2.68s/it]  \n"
     ]
    },
    {
     "name": "stdout",
     "output_type": "stream",
     "text": [
      "Saving file/data/u934/service_imagerie/v_kapoor/Fl4-2-Var/forFOLDERFutureRestoration/pnrG4_ECadGFPki-hetero_30pre29_bin140x_mov3/3DResults/%s_40x_bin1_05_5min_1-2-3dys_3-4-5-6-7wt_1_w2CSU-488_s5_t115.tif\n"
     ]
    },
    {
     "name": "stderr",
     "output_type": "stream",
     "text": [
      "100%|██████████| 64/64 [03:21<00:00,  2.63s/it]  \n"
     ]
    },
    {
     "name": "stdout",
     "output_type": "stream",
     "text": [
      "Saving file/data/u934/service_imagerie/v_kapoor/Fl4-2-Var/forFOLDERFutureRestoration/pnrG4_ECadGFPki-hetero_30pre29_bin140x_mov3/3DResults/%s_40x_bin1_05_5min_1-2-3dys_3-4-5-6-7wt_1_w2CSU-488_s5_t61.tif\n"
     ]
    },
    {
     "name": "stderr",
     "output_type": "stream",
     "text": [
      "100%|██████████| 64/64 [03:24<00:00,  2.66s/it]  \n"
     ]
    },
    {
     "name": "stdout",
     "output_type": "stream",
     "text": [
      "Saving file/data/u934/service_imagerie/v_kapoor/Fl4-2-Var/forFOLDERFutureRestoration/pnrG4_ECadGFPki-hetero_30pre29_bin140x_mov3/3DResults/%s_40x_bin1_05_5min_1-2-3dys_3-4-5-6-7wt_1_w2CSU-488_s5_t178.tif\n"
     ]
    },
    {
     "name": "stderr",
     "output_type": "stream",
     "text": [
      "100%|██████████| 64/64 [03:22<00:00,  2.66s/it]  \n"
     ]
    },
    {
     "name": "stdout",
     "output_type": "stream",
     "text": [
      "Saving file/data/u934/service_imagerie/v_kapoor/Fl4-2-Var/forFOLDERFutureRestoration/pnrG4_ECadGFPki-hetero_30pre29_bin140x_mov3/3DResults/%s_40x_bin1_05_5min_1-2-3dys_3-4-5-6-7wt_1_w2CSU-488_s5_t104.tif\n"
     ]
    },
    {
     "name": "stderr",
     "output_type": "stream",
     "text": [
      "100%|██████████| 64/64 [03:23<00:00,  2.65s/it]  \n"
     ]
    },
    {
     "name": "stdout",
     "output_type": "stream",
     "text": [
      "Saving file/data/u934/service_imagerie/v_kapoor/Fl4-2-Var/forFOLDERFutureRestoration/pnrG4_ECadGFPki-hetero_30pre29_bin140x_mov3/3DResults/%s_40x_bin1_05_5min_1-2-3dys_3-4-5-6-7wt_1_w2CSU-488_s5_t70.tif\n"
     ]
    },
    {
     "name": "stderr",
     "output_type": "stream",
     "text": [
      "100%|██████████| 64/64 [03:22<00:00,  2.64s/it]  \n"
     ]
    },
    {
     "name": "stdout",
     "output_type": "stream",
     "text": [
      "Saving file/data/u934/service_imagerie/v_kapoor/Fl4-2-Var/forFOLDERFutureRestoration/pnrG4_ECadGFPki-hetero_30pre29_bin140x_mov3/3DResults/%s_40x_bin1_05_5min_1-2-3dys_3-4-5-6-7wt_1_w2CSU-488_s5_t103.tif\n"
     ]
    },
    {
     "name": "stderr",
     "output_type": "stream",
     "text": [
      "100%|██████████| 64/64 [03:23<00:00,  2.65s/it]  \n"
     ]
    },
    {
     "name": "stdout",
     "output_type": "stream",
     "text": [
      "Saving file/data/u934/service_imagerie/v_kapoor/Fl4-2-Var/forFOLDERFutureRestoration/pnrG4_ECadGFPki-hetero_30pre29_bin140x_mov3/3DResults/%s_40x_bin1_05_5min_1-2-3dys_3-4-5-6-7wt_1_w2CSU-488_s5_t77.tif\n"
     ]
    },
    {
     "name": "stderr",
     "output_type": "stream",
     "text": [
      "100%|██████████| 64/64 [03:22<00:00,  2.63s/it]  \n"
     ]
    },
    {
     "name": "stdout",
     "output_type": "stream",
     "text": [
      "Saving file/data/u934/service_imagerie/v_kapoor/Fl4-2-Var/forFOLDERFutureRestoration/pnrG4_ECadGFPki-hetero_30pre29_bin140x_mov3/3DResults/%s_40x_bin1_05_5min_1-2-3dys_3-4-5-6-7wt_1_w2CSU-488_s5_t79.tif\n"
     ]
    },
    {
     "name": "stderr",
     "output_type": "stream",
     "text": [
      "100%|██████████| 64/64 [03:23<00:00,  2.66s/it]  \n"
     ]
    },
    {
     "name": "stdout",
     "output_type": "stream",
     "text": [
      "Saving file/data/u934/service_imagerie/v_kapoor/Fl4-2-Var/forFOLDERFutureRestoration/pnrG4_ECadGFPki-hetero_30pre29_bin140x_mov3/3DResults/%s_40x_bin1_05_5min_1-2-3dys_3-4-5-6-7wt_1_w2CSU-488_s5_t171.tif\n"
     ]
    },
    {
     "name": "stderr",
     "output_type": "stream",
     "text": [
      "100%|██████████| 64/64 [03:22<00:00,  2.64s/it]  \n"
     ]
    },
    {
     "name": "stdout",
     "output_type": "stream",
     "text": [
      "Saving file/data/u934/service_imagerie/v_kapoor/Fl4-2-Var/forFOLDERFutureRestoration/pnrG4_ECadGFPki-hetero_30pre29_bin140x_mov3/3DResults/%s_40x_bin1_05_5min_1-2-3dys_3-4-5-6-7wt_1_w2CSU-488_s5_t176.tif\n"
     ]
    },
    {
     "name": "stderr",
     "output_type": "stream",
     "text": [
      "100%|██████████| 64/64 [03:23<00:00,  2.67s/it]  \n"
     ]
    },
    {
     "name": "stdout",
     "output_type": "stream",
     "text": [
      "Saving file/data/u934/service_imagerie/v_kapoor/Fl4-2-Var/forFOLDERFutureRestoration/pnrG4_ECadGFPki-hetero_30pre29_bin140x_mov3/3DResults/%s_40x_bin1_05_5min_1-2-3dys_3-4-5-6-7wt_1_w2CSU-488_s5_t192.tif\n"
     ]
    },
    {
     "name": "stderr",
     "output_type": "stream",
     "text": [
      "100%|██████████| 64/64 [03:23<00:00,  2.65s/it]  \n"
     ]
    },
    {
     "name": "stdout",
     "output_type": "stream",
     "text": [
      "Saving file/data/u934/service_imagerie/v_kapoor/Fl4-2-Var/forFOLDERFutureRestoration/pnrG4_ECadGFPki-hetero_30pre29_bin140x_mov3/3DResults/%s_40x_bin1_05_5min_1-2-3dys_3-4-5-6-7wt_1_w2CSU-488_s5_t37.tif\n"
     ]
    },
    {
     "name": "stderr",
     "output_type": "stream",
     "text": [
      "100%|██████████| 64/64 [03:23<00:00,  2.66s/it]  \n"
     ]
    },
    {
     "name": "stdout",
     "output_type": "stream",
     "text": [
      "Saving file/data/u934/service_imagerie/v_kapoor/Fl4-2-Var/forFOLDERFutureRestoration/pnrG4_ECadGFPki-hetero_30pre29_bin140x_mov3/3DResults/%s_40x_bin1_05_5min_1-2-3dys_3-4-5-6-7wt_1_w2CSU-488_s5_t143.tif\n"
     ]
    },
    {
     "name": "stderr",
     "output_type": "stream",
     "text": [
      "100%|██████████| 64/64 [03:21<00:00,  2.63s/it]  \n"
     ]
    },
    {
     "name": "stdout",
     "output_type": "stream",
     "text": [
      "Saving file/data/u934/service_imagerie/v_kapoor/Fl4-2-Var/forFOLDERFutureRestoration/pnrG4_ECadGFPki-hetero_30pre29_bin140x_mov3/3DResults/%s_40x_bin1_05_5min_1-2-3dys_3-4-5-6-7wt_1_w2CSU-488_s5_t138.tif\n"
     ]
    },
    {
     "name": "stderr",
     "output_type": "stream",
     "text": [
      "100%|██████████| 64/64 [03:24<00:00,  2.69s/it]  \n"
     ]
    },
    {
     "name": "stdout",
     "output_type": "stream",
     "text": [
      "Saving file/data/u934/service_imagerie/v_kapoor/Fl4-2-Var/forFOLDERFutureRestoration/pnrG4_ECadGFPki-hetero_30pre29_bin140x_mov3/3DResults/%s_40x_bin1_05_5min_1-2-3dys_3-4-5-6-7wt_1_w2CSU-488_s5_t195.tif\n"
     ]
    },
    {
     "name": "stderr",
     "output_type": "stream",
     "text": [
      "100%|██████████| 64/64 [03:22<00:00,  2.63s/it]  \n"
     ]
    },
    {
     "name": "stdout",
     "output_type": "stream",
     "text": [
      "Saving file/data/u934/service_imagerie/v_kapoor/Fl4-2-Var/forFOLDERFutureRestoration/pnrG4_ECadGFPki-hetero_30pre29_bin140x_mov3/3DResults/%s_40x_bin1_05_5min_1-2-3dys_3-4-5-6-7wt_1_w2CSU-488_s5_t30.tif\n"
     ]
    },
    {
     "name": "stderr",
     "output_type": "stream",
     "text": [
      "100%|██████████| 64/64 [03:22<00:00,  2.66s/it]  \n"
     ]
    },
    {
     "name": "stdout",
     "output_type": "stream",
     "text": [
      "Saving file/data/u934/service_imagerie/v_kapoor/Fl4-2-Var/forFOLDERFutureRestoration/pnrG4_ECadGFPki-hetero_30pre29_bin140x_mov3/3DResults/%s_40x_bin1_05_5min_1-2-3dys_3-4-5-6-7wt_1_w2CSU-488_s5_t144.tif\n"
     ]
    },
    {
     "name": "stderr",
     "output_type": "stream",
     "text": [
      "100%|██████████| 64/64 [03:21<00:00,  2.64s/it]  \n"
     ]
    },
    {
     "name": "stdout",
     "output_type": "stream",
     "text": [
      "Saving file/data/u934/service_imagerie/v_kapoor/Fl4-2-Var/forFOLDERFutureRestoration/pnrG4_ECadGFPki-hetero_30pre29_bin140x_mov3/3DResults/%s_40x_bin1_05_5min_1-2-3dys_3-4-5-6-7wt_1_w2CSU-488_s5_t93.tif\n"
     ]
    },
    {
     "name": "stderr",
     "output_type": "stream",
     "text": [
      "100%|██████████| 64/64 [03:23<00:00,  2.65s/it]  \n"
     ]
    },
    {
     "name": "stdout",
     "output_type": "stream",
     "text": [
      "Saving file/data/u934/service_imagerie/v_kapoor/Fl4-2-Var/forFOLDERFutureRestoration/pnrG4_ECadGFPki-hetero_30pre29_bin140x_mov3/3DResults/%s_40x_bin1_05_5min_1-2-3dys_3-4-5-6-7wt_1_w2CSU-488_s5_t42.tif\n"
     ]
    },
    {
     "name": "stderr",
     "output_type": "stream",
     "text": [
      "100%|██████████| 64/64 [03:21<00:00,  2.64s/it]  \n"
     ]
    },
    {
     "name": "stdout",
     "output_type": "stream",
     "text": [
      "Saving file/data/u934/service_imagerie/v_kapoor/Fl4-2-Var/forFOLDERFutureRestoration/pnrG4_ECadGFPki-hetero_30pre29_bin140x_mov3/3DResults/%s_40x_bin1_05_5min_1-2-3dys_3-4-5-6-7wt_1_w2CSU-488_s5_t136.tif\n"
     ]
    },
    {
     "name": "stderr",
     "output_type": "stream",
     "text": [
      "100%|██████████| 64/64 [03:23<00:00,  2.65s/it]  \n"
     ]
    },
    {
     "name": "stdout",
     "output_type": "stream",
     "text": [
      "Saving file/data/u934/service_imagerie/v_kapoor/Fl4-2-Var/forFOLDERFutureRestoration/pnrG4_ECadGFPki-hetero_30pre29_bin140x_mov3/3DResults/%s_40x_bin1_05_5min_1-2-3dys_3-4-5-6-7wt_1_w2CSU-488_s5_t39.tif\n"
     ]
    },
    {
     "name": "stderr",
     "output_type": "stream",
     "text": [
      "100%|██████████| 64/64 [03:22<00:00,  2.64s/it]  \n"
     ]
    },
    {
     "name": "stdout",
     "output_type": "stream",
     "text": [
      "Saving file/data/u934/service_imagerie/v_kapoor/Fl4-2-Var/forFOLDERFutureRestoration/pnrG4_ECadGFPki-hetero_30pre29_bin140x_mov3/3DResults/%s_40x_bin1_05_5min_1-2-3dys_3-4-5-6-7wt_1_w2CSU-488_s5_t94.tif\n"
     ]
    },
    {
     "name": "stderr",
     "output_type": "stream",
     "text": [
      "100%|██████████| 64/64 [03:24<00:00,  2.67s/it]  \n"
     ]
    },
    {
     "name": "stdout",
     "output_type": "stream",
     "text": [
      "Saving file/data/u934/service_imagerie/v_kapoor/Fl4-2-Var/forFOLDERFutureRestoration/pnrG4_ECadGFPki-hetero_30pre29_bin140x_mov3/3DResults/%s_40x_bin1_05_5min_1-2-3dys_3-4-5-6-7wt_1_w2CSU-488_s5_t45.tif\n"
     ]
    },
    {
     "name": "stderr",
     "output_type": "stream",
     "text": [
      "100%|██████████| 64/64 [03:22<00:00,  2.63s/it]  \n"
     ]
    },
    {
     "name": "stdout",
     "output_type": "stream",
     "text": [
      "Saving file/data/u934/service_imagerie/v_kapoor/Fl4-2-Var/forFOLDERFutureRestoration/pnrG4_ECadGFPki-hetero_30pre29_bin140x_mov3/3DResults/%s_40x_bin1_05_5min_1-2-3dys_3-4-5-6-7wt_1_w2CSU-488_s5_t131.tif\n"
     ]
    },
    {
     "name": "stderr",
     "output_type": "stream",
     "text": [
      "100%|██████████| 64/64 [03:22<00:00,  2.64s/it]  \n"
     ]
    },
    {
     "name": "stdout",
     "output_type": "stream",
     "text": [
      "Saving file/data/u934/service_imagerie/v_kapoor/Fl4-2-Var/forFOLDERFutureRestoration/pnrG4_ECadGFPki-hetero_30pre29_bin140x_mov3/3DResults/%s_40x_bin1_05_5min_1-2-3dys_3-4-5-6-7wt_1_w2CSU-488_s5_t74.tif\n"
     ]
    },
    {
     "name": "stderr",
     "output_type": "stream",
     "text": [
      "100%|██████████| 64/64 [03:21<00:00,  2.64s/it]  \n"
     ]
    },
    {
     "name": "stdout",
     "output_type": "stream",
     "text": [
      "Saving file/data/u934/service_imagerie/v_kapoor/Fl4-2-Var/forFOLDERFutureRestoration/pnrG4_ECadGFPki-hetero_30pre29_bin140x_mov3/3DResults/%s_40x_bin1_05_5min_1-2-3dys_3-4-5-6-7wt_1_w2CSU-488_s5_t100.tif\n"
     ]
    },
    {
     "name": "stderr",
     "output_type": "stream",
     "text": [
      "100%|██████████| 64/64 [03:24<00:00,  2.66s/it]  \n"
     ]
    },
    {
     "name": "stdout",
     "output_type": "stream",
     "text": [
      "Saving file/data/u934/service_imagerie/v_kapoor/Fl4-2-Var/forFOLDERFutureRestoration/pnrG4_ECadGFPki-hetero_30pre29_bin140x_mov3/3DResults/%s_40x_bin1_05_5min_1-2-3dys_3-4-5-6-7wt_1_w2CSU-488_s5_t73.tif\n"
     ]
    },
    {
     "name": "stderr",
     "output_type": "stream",
     "text": [
      "100%|██████████| 64/64 [03:22<00:00,  2.63s/it]  \n"
     ]
    },
    {
     "name": "stdout",
     "output_type": "stream",
     "text": [
      "Saving file/data/u934/service_imagerie/v_kapoor/Fl4-2-Var/forFOLDERFutureRestoration/pnrG4_ECadGFPki-hetero_30pre29_bin140x_mov3/3DResults/%s_40x_bin1_05_5min_1-2-3dys_3-4-5-6-7wt_1_w2CSU-488_s5_t107.tif\n"
     ]
    },
    {
     "name": "stderr",
     "output_type": "stream",
     "text": [
      "100%|██████████| 64/64 [03:24<00:00,  2.66s/it]  \n"
     ]
    },
    {
     "name": "stdout",
     "output_type": "stream",
     "text": [
      "Saving file/data/u934/service_imagerie/v_kapoor/Fl4-2-Var/forFOLDERFutureRestoration/pnrG4_ECadGFPki-hetero_30pre29_bin140x_mov3/3DResults/%s_40x_bin1_05_5min_1-2-3dys_3-4-5-6-7wt_1_w2CSU-488_s5_t210.tif\n"
     ]
    },
    {
     "name": "stderr",
     "output_type": "stream",
     "text": [
      "100%|██████████| 64/64 [03:22<00:00,  2.64s/it]  \n"
     ]
    },
    {
     "name": "stdout",
     "output_type": "stream",
     "text": [
      "Saving file/data/u934/service_imagerie/v_kapoor/Fl4-2-Var/forFOLDERFutureRestoration/pnrG4_ECadGFPki-hetero_30pre29_bin140x_mov3/3DResults/%s_40x_bin1_05_5min_1-2-3dys_3-4-5-6-7wt_1_w2CSU-488_s5_t175.tif\n"
     ]
    },
    {
     "name": "stderr",
     "output_type": "stream",
     "text": [
      "100%|██████████| 64/64 [03:23<00:00,  2.66s/it]  \n"
     ]
    },
    {
     "name": "stdout",
     "output_type": "stream",
     "text": [
      "Saving file/data/u934/service_imagerie/v_kapoor/Fl4-2-Var/forFOLDERFutureRestoration/pnrG4_ECadGFPki-hetero_30pre29_bin140x_mov3/3DResults/%s_40x_bin1_05_5min_1-2-3dys_3-4-5-6-7wt_1_w2CSU-488_s5_t109.tif\n"
     ]
    },
    {
     "name": "stderr",
     "output_type": "stream",
     "text": [
      "100%|██████████| 64/64 [03:21<00:00,  2.65s/it]  \n"
     ]
    },
    {
     "name": "stdout",
     "output_type": "stream",
     "text": [
      "Saving file/data/u934/service_imagerie/v_kapoor/Fl4-2-Var/forFOLDERFutureRestoration/pnrG4_ECadGFPki-hetero_30pre29_bin140x_mov3/3DResults/%s_40x_bin1_05_5min_1-2-3dys_3-4-5-6-7wt_1_w2CSU-488_s5_t172.tif\n"
     ]
    },
    {
     "name": "stderr",
     "output_type": "stream",
     "text": [
      "100%|██████████| 64/64 [03:23<00:00,  2.65s/it]  \n"
     ]
    },
    {
     "name": "stdout",
     "output_type": "stream",
     "text": [
      "Saving file/data/u934/service_imagerie/v_kapoor/Fl4-2-Var/forFOLDERFutureRestoration/pnrG4_ECadGFPki-hetero_30pre29_bin140x_mov3/3DResults/%s_40x_bin1_05_5min_1-2-3dys_3-4-5-6-7wt_1_w2CSU-488_s5_t196.tif\n"
     ]
    },
    {
     "name": "stderr",
     "output_type": "stream",
     "text": [
      "100%|██████████| 64/64 [03:21<00:00,  2.63s/it]  \n"
     ]
    },
    {
     "name": "stdout",
     "output_type": "stream",
     "text": [
      "Saving file/data/u934/service_imagerie/v_kapoor/Fl4-2-Var/forFOLDERFutureRestoration/pnrG4_ECadGFPki-hetero_30pre29_bin140x_mov3/3DResults/%s_40x_bin1_05_5min_1-2-3dys_3-4-5-6-7wt_1_w2CSU-488_s5_t147.tif\n"
     ]
    },
    {
     "name": "stderr",
     "output_type": "stream",
     "text": [
      "100%|██████████| 64/64 [03:23<00:00,  2.65s/it]  \n"
     ]
    },
    {
     "name": "stdout",
     "output_type": "stream",
     "text": [
      "Saving file/data/u934/service_imagerie/v_kapoor/Fl4-2-Var/forFOLDERFutureRestoration/pnrG4_ECadGFPki-hetero_30pre29_bin140x_mov3/3DResults/%s_40x_bin1_05_5min_1-2-3dys_3-4-5-6-7wt_1_w2CSU-488_s5_t33.tif\n"
     ]
    },
    {
     "name": "stderr",
     "output_type": "stream",
     "text": [
      "100%|██████████| 64/64 [03:22<00:00,  2.64s/it]  \n"
     ]
    },
    {
     "name": "stdout",
     "output_type": "stream",
     "text": [
      "Saving file/data/u934/service_imagerie/v_kapoor/Fl4-2-Var/forFOLDERFutureRestoration/pnrG4_ECadGFPki-hetero_30pre29_bin140x_mov3/3DResults/%s_40x_bin1_05_5min_1-2-3dys_3-4-5-6-7wt_1_w2CSU-488_s5_t191.tif\n"
     ]
    },
    {
     "name": "stderr",
     "output_type": "stream",
     "text": [
      "100%|██████████| 64/64 [03:23<00:00,  2.66s/it]  \n"
     ]
    },
    {
     "name": "stdout",
     "output_type": "stream",
     "text": [
      "Saving file/data/u934/service_imagerie/v_kapoor/Fl4-2-Var/forFOLDERFutureRestoration/pnrG4_ECadGFPki-hetero_30pre29_bin140x_mov3/3DResults/%s_40x_bin1_05_5min_1-2-3dys_3-4-5-6-7wt_1_w2CSU-488_s5_t140.tif\n"
     ]
    },
    {
     "name": "stderr",
     "output_type": "stream",
     "text": [
      "100%|██████████| 64/64 [03:21<00:00,  2.63s/it]  \n"
     ]
    },
    {
     "name": "stdout",
     "output_type": "stream",
     "text": [
      "Saving file/data/u934/service_imagerie/v_kapoor/Fl4-2-Var/forFOLDERFutureRestoration/pnrG4_ECadGFPki-hetero_30pre29_bin140x_mov3/3DResults/%s_40x_bin1_05_5min_1-2-3dys_3-4-5-6-7wt_1_w2CSU-488_s5_t34.tif\n"
     ]
    },
    {
     "name": "stderr",
     "output_type": "stream",
     "text": [
      "100%|██████████| 64/64 [03:23<00:00,  2.65s/it]  \n"
     ]
    },
    {
     "name": "stdout",
     "output_type": "stream",
     "text": [
      "Saving file/data/u934/service_imagerie/v_kapoor/Fl4-2-Var/forFOLDERFutureRestoration/pnrG4_ECadGFPki-hetero_30pre29_bin140x_mov3/3DResults/%s_40x_bin1_05_5min_1-2-3dys_3-4-5-6-7wt_1_w2CSU-488_s5_t99.tif\n"
     ]
    },
    {
     "name": "stderr",
     "output_type": "stream",
     "text": [
      "100%|██████████| 64/64 [03:21<00:00,  2.63s/it]  \n"
     ]
    },
    {
     "name": "stdout",
     "output_type": "stream",
     "text": [
      "Saving file/data/u934/service_imagerie/v_kapoor/Fl4-2-Var/forFOLDERFutureRestoration/pnrG4_ECadGFPki-hetero_30pre29_bin140x_mov3/3DResults/%s_40x_bin1_05_5min_1-2-3dys_3-4-5-6-7wt_1_w2CSU-488_s5_t48.tif\n"
     ]
    },
    {
     "name": "stderr",
     "output_type": "stream",
     "text": [
      "100%|██████████| 64/64 [03:24<00:00,  2.68s/it]  \n"
     ]
    },
    {
     "name": "stdout",
     "output_type": "stream",
     "text": [
      "Saving file/data/u934/service_imagerie/v_kapoor/Fl4-2-Var/forFOLDERFutureRestoration/pnrG4_ECadGFPki-hetero_30pre29_bin140x_mov3/3DResults/%s_40x_bin1_05_5min_1-2-3dys_3-4-5-6-7wt_1_w2CSU-488_s5_t97.tif\n"
     ]
    },
    {
     "name": "stderr",
     "output_type": "stream",
     "text": [
      "100%|██████████| 64/64 [03:22<00:00,  2.63s/it]  \n"
     ]
    },
    {
     "name": "stdout",
     "output_type": "stream",
     "text": [
      "Saving file/data/u934/service_imagerie/v_kapoor/Fl4-2-Var/forFOLDERFutureRestoration/pnrG4_ECadGFPki-hetero_30pre29_bin140x_mov3/3DResults/%s_40x_bin1_05_5min_1-2-3dys_3-4-5-6-7wt_1_w2CSU-488_s5_t132.tif\n"
     ]
    },
    {
     "name": "stderr",
     "output_type": "stream",
     "text": [
      "100%|██████████| 64/64 [03:23<00:00,  2.65s/it]  \n"
     ]
    },
    {
     "name": "stdout",
     "output_type": "stream",
     "text": [
      "Saving file/data/u934/service_imagerie/v_kapoor/Fl4-2-Var/forFOLDERFutureRestoration/pnrG4_ECadGFPki-hetero_30pre29_bin140x_mov3/3DResults/%s_40x_bin1_05_5min_1-2-3dys_3-4-5-6-7wt_1_w2CSU-488_s5_t46.tif\n"
     ]
    },
    {
     "name": "stderr",
     "output_type": "stream",
     "text": [
      "100%|██████████| 64/64 [03:22<00:00,  2.64s/it]  \n"
     ]
    },
    {
     "name": "stdout",
     "output_type": "stream",
     "text": [
      "Saving file/data/u934/service_imagerie/v_kapoor/Fl4-2-Var/forFOLDERFutureRestoration/pnrG4_ECadGFPki-hetero_30pre29_bin140x_mov3/3DResults/%s_40x_bin1_05_5min_1-2-3dys_3-4-5-6-7wt_1_w2CSU-488_s5_t90.tif\n"
     ]
    },
    {
     "name": "stderr",
     "output_type": "stream",
     "text": [
      "100%|██████████| 64/64 [03:23<00:00,  2.67s/it]  \n"
     ]
    },
    {
     "name": "stdout",
     "output_type": "stream",
     "text": [
      "Saving file/data/u934/service_imagerie/v_kapoor/Fl4-2-Var/forFOLDERFutureRestoration/pnrG4_ECadGFPki-hetero_30pre29_bin140x_mov3/3DResults/%s_40x_bin1_05_5min_1-2-3dys_3-4-5-6-7wt_1_w2CSU-488_s5_t135.tif\n"
     ]
    },
    {
     "name": "stderr",
     "output_type": "stream",
     "text": [
      "100%|██████████| 64/64 [03:21<00:00,  2.63s/it]  \n"
     ]
    },
    {
     "name": "stdout",
     "output_type": "stream",
     "text": [
      "Saving file/data/u934/service_imagerie/v_kapoor/Fl4-2-Var/forFOLDERFutureRestoration/pnrG4_ECadGFPki-hetero_30pre29_bin140x_mov3/3DResults/%s_40x_bin1_05_5min_1-2-3dys_3-4-5-6-7wt_1_w2CSU-488_s5_t41.tif\n"
     ]
    },
    {
     "name": "stderr",
     "output_type": "stream",
     "text": [
      "100%|██████████| 64/64 [03:23<00:00,  2.65s/it]  \n"
     ]
    },
    {
     "name": "stdout",
     "output_type": "stream",
     "text": [
      "Saving file/data/u934/service_imagerie/v_kapoor/Fl4-2-Var/forFOLDERFutureRestoration/pnrG4_ECadGFPki-hetero_30pre29_bin140x_mov3/3DResults/%s_40x_bin1_05_5min_1-2-3dys_3-4-5-6-7wt_1_w2CSU-488_s5_t198.tif\n"
     ]
    },
    {
     "name": "stderr",
     "output_type": "stream",
     "text": [
      "100%|██████████| 64/64 [03:21<00:00,  2.63s/it]  \n"
     ]
    },
    {
     "name": "stdout",
     "output_type": "stream",
     "text": [
      "Saving file/data/u934/service_imagerie/v_kapoor/Fl4-2-Var/forFOLDERFutureRestoration/pnrG4_ECadGFPki-hetero_30pre29_bin140x_mov3/3DResults/%s_40x_bin1_05_5min_1-2-3dys_3-4-5-6-7wt_1_w2CSU-488_s5_t149.tif\n"
     ]
    },
    {
     "name": "stderr",
     "output_type": "stream",
     "text": [
      "100%|██████████| 64/64 [03:24<00:00,  2.66s/it]  \n"
     ]
    },
    {
     "name": "stdout",
     "output_type": "stream",
     "text": [
      "Saving file/data/u934/service_imagerie/v_kapoor/Fl4-2-Var/forFOLDERFutureRestoration/pnrG4_ECadGFPki-hetero_30pre29_bin140x_mov3/3DResults/%s_40x_bin1_05_5min_1-2-3dys_3-4-5-6-7wt_1_w2CSU-488_s5_t124.tif\n"
     ]
    },
    {
     "name": "stderr",
     "output_type": "stream",
     "text": [
      "100%|██████████| 64/64 [03:21<00:00,  2.62s/it]  \n"
     ]
    },
    {
     "name": "stdout",
     "output_type": "stream",
     "text": [
      "Saving file/data/u934/service_imagerie/v_kapoor/Fl4-2-Var/forFOLDERFutureRestoration/pnrG4_ECadGFPki-hetero_30pre29_bin140x_mov3/3DResults/%s_40x_bin1_05_5min_1-2-3dys_3-4-5-6-7wt_1_w2CSU-488_s5_t50.tif\n"
     ]
    },
    {
     "name": "stderr",
     "output_type": "stream",
     "text": [
      "100%|██████████| 64/64 [03:23<00:00,  2.64s/it]  \n"
     ]
    },
    {
     "name": "stdout",
     "output_type": "stream",
     "text": [
      "Saving file/data/u934/service_imagerie/v_kapoor/Fl4-2-Var/forFOLDERFutureRestoration/pnrG4_ECadGFPki-hetero_30pre29_bin140x_mov3/3DResults/%s_40x_bin1_05_5min_1-2-3dys_3-4-5-6-7wt_1_w2CSU-488_s5_t81.tif\n"
     ]
    },
    {
     "name": "stderr",
     "output_type": "stream",
     "text": [
      "100%|██████████| 64/64 [03:22<00:00,  2.65s/it]  \n"
     ]
    },
    {
     "name": "stdout",
     "output_type": "stream",
     "text": [
      "Saving file/data/u934/service_imagerie/v_kapoor/Fl4-2-Var/forFOLDERFutureRestoration/pnrG4_ECadGFPki-hetero_30pre29_bin140x_mov3/3DResults/%s_40x_bin1_05_5min_1-2-3dys_3-4-5-6-7wt_1_w2CSU-488_s5_t9.tif\n"
     ]
    },
    {
     "name": "stderr",
     "output_type": "stream",
     "text": [
      "100%|██████████| 64/64 [03:23<00:00,  2.65s/it]  \n"
     ]
    },
    {
     "name": "stdout",
     "output_type": "stream",
     "text": [
      "Saving file/data/u934/service_imagerie/v_kapoor/Fl4-2-Var/forFOLDERFutureRestoration/pnrG4_ECadGFPki-hetero_30pre29_bin140x_mov3/3DResults/%s_40x_bin1_05_5min_1-2-3dys_3-4-5-6-7wt_1_w2CSU-488_s5_t158.tif\n"
     ]
    },
    {
     "name": "stderr",
     "output_type": "stream",
     "text": [
      "100%|██████████| 64/64 [03:21<00:00,  2.62s/it]  \n"
     ]
    },
    {
     "name": "stdout",
     "output_type": "stream",
     "text": [
      "Saving file/data/u934/service_imagerie/v_kapoor/Fl4-2-Var/forFOLDERFutureRestoration/pnrG4_ECadGFPki-hetero_30pre29_bin140x_mov3/3DResults/%s_40x_bin1_05_5min_1-2-3dys_3-4-5-6-7wt_1_w2CSU-488_s5_t189.tif\n"
     ]
    },
    {
     "name": "stderr",
     "output_type": "stream",
     "text": [
      "100%|██████████| 64/64 [03:24<00:00,  2.66s/it]  \n"
     ]
    },
    {
     "name": "stdout",
     "output_type": "stream",
     "text": [
      "Saving file/data/u934/service_imagerie/v_kapoor/Fl4-2-Var/forFOLDERFutureRestoration/pnrG4_ECadGFPki-hetero_30pre29_bin140x_mov3/3DResults/%s_40x_bin1_05_5min_1-2-3dys_3-4-5-6-7wt_1_w2CSU-488_s5_t123.tif\n"
     ]
    },
    {
     "name": "stderr",
     "output_type": "stream",
     "text": [
      "100%|██████████| 64/64 [03:22<00:00,  2.65s/it]  \n"
     ]
    },
    {
     "name": "stdout",
     "output_type": "stream",
     "text": [
      "Saving file/data/u934/service_imagerie/v_kapoor/Fl4-2-Var/forFOLDERFutureRestoration/pnrG4_ECadGFPki-hetero_30pre29_bin140x_mov3/3DResults/%s_40x_bin1_05_5min_1-2-3dys_3-4-5-6-7wt_1_w2CSU-488_s5_t57.tif\n"
     ]
    },
    {
     "name": "stderr",
     "output_type": "stream",
     "text": [
      "100%|██████████| 64/64 [03:24<00:00,  2.65s/it]  \n"
     ]
    },
    {
     "name": "stdout",
     "output_type": "stream",
     "text": [
      "Saving file/data/u934/service_imagerie/v_kapoor/Fl4-2-Var/forFOLDERFutureRestoration/pnrG4_ECadGFPki-hetero_30pre29_bin140x_mov3/3DResults/%s_40x_bin1_05_5min_1-2-3dys_3-4-5-6-7wt_1_w2CSU-488_s5_t86.tif\n"
     ]
    },
    {
     "name": "stderr",
     "output_type": "stream",
     "text": [
      "100%|██████████| 64/64 [03:21<00:00,  2.65s/it]  \n"
     ]
    },
    {
     "name": "stdout",
     "output_type": "stream",
     "text": [
      "Saving file/data/u934/service_imagerie/v_kapoor/Fl4-2-Var/forFOLDERFutureRestoration/pnrG4_ECadGFPki-hetero_30pre29_bin140x_mov3/3DResults/%s_40x_bin1_05_5min_1-2-3dys_3-4-5-6-7wt_1_w2CSU-488_s5_t151.tif\n"
     ]
    },
    {
     "name": "stderr",
     "output_type": "stream",
     "text": [
      "100%|██████████| 64/64 [03:23<00:00,  2.64s/it]  \n"
     ]
    },
    {
     "name": "stdout",
     "output_type": "stream",
     "text": [
      "Saving file/data/u934/service_imagerie/v_kapoor/Fl4-2-Var/forFOLDERFutureRestoration/pnrG4_ECadGFPki-hetero_30pre29_bin140x_mov3/3DResults/%s_40x_bin1_05_5min_1-2-3dys_3-4-5-6-7wt_1_w2CSU-488_s5_t25.tif\n"
     ]
    },
    {
     "name": "stderr",
     "output_type": "stream",
     "text": [
      "100%|██████████| 64/64 [03:21<00:00,  2.64s/it]  \n"
     ]
    },
    {
     "name": "stdout",
     "output_type": "stream",
     "text": [
      "Saving file/data/u934/service_imagerie/v_kapoor/Fl4-2-Var/forFOLDERFutureRestoration/pnrG4_ECadGFPki-hetero_30pre29_bin140x_mov3/3DResults/%s_40x_bin1_05_5min_1-2-3dys_3-4-5-6-7wt_1_w2CSU-488_s5_t180.tif\n"
     ]
    },
    {
     "name": "stderr",
     "output_type": "stream",
     "text": [
      "100%|██████████| 64/64 [03:23<00:00,  2.67s/it]  \n"
     ]
    },
    {
     "name": "stdout",
     "output_type": "stream",
     "text": [
      "Saving file/data/u934/service_imagerie/v_kapoor/Fl4-2-Var/forFOLDERFutureRestoration/pnrG4_ECadGFPki-hetero_30pre29_bin140x_mov3/3DResults/%s_40x_bin1_05_5min_1-2-3dys_3-4-5-6-7wt_1_w2CSU-488_s5_t59.tif\n"
     ]
    },
    {
     "name": "stderr",
     "output_type": "stream",
     "text": [
      "100%|██████████| 64/64 [03:22<00:00,  2.64s/it]  \n"
     ]
    },
    {
     "name": "stdout",
     "output_type": "stream",
     "text": [
      "Saving file/data/u934/service_imagerie/v_kapoor/Fl4-2-Var/forFOLDERFutureRestoration/pnrG4_ECadGFPki-hetero_30pre29_bin140x_mov3/3DResults/%s_40x_bin1_05_5min_1-2-3dys_3-4-5-6-7wt_1_w2CSU-488_s5_t88.tif\n"
     ]
    },
    {
     "name": "stderr",
     "output_type": "stream",
     "text": [
      "100%|██████████| 64/64 [03:24<00:00,  2.67s/it]  \n"
     ]
    },
    {
     "name": "stdout",
     "output_type": "stream",
     "text": [
      "Saving file/data/u934/service_imagerie/v_kapoor/Fl4-2-Var/forFOLDERFutureRestoration/pnrG4_ECadGFPki-hetero_30pre29_bin140x_mov3/3DResults/%s_40x_bin1_05_5min_1-2-3dys_3-4-5-6-7wt_1_w2CSU-488_s5_t7.tif\n"
     ]
    },
    {
     "name": "stderr",
     "output_type": "stream",
     "text": [
      "100%|██████████| 64/64 [03:22<00:00,  2.63s/it]  \n"
     ]
    },
    {
     "name": "stdout",
     "output_type": "stream",
     "text": [
      "Saving file/data/u934/service_imagerie/v_kapoor/Fl4-2-Var/forFOLDERFutureRestoration/pnrG4_ECadGFPki-hetero_30pre29_bin140x_mov3/3DResults/%s_40x_bin1_05_5min_1-2-3dys_3-4-5-6-7wt_1_w2CSU-488_s5_t156.tif\n"
     ]
    },
    {
     "name": "stderr",
     "output_type": "stream",
     "text": [
      "100%|██████████| 64/64 [03:24<00:00,  2.66s/it]  \n"
     ]
    },
    {
     "name": "stdout",
     "output_type": "stream",
     "text": [
      "Saving file/data/u934/service_imagerie/v_kapoor/Fl4-2-Var/forFOLDERFutureRestoration/pnrG4_ECadGFPki-hetero_30pre29_bin140x_mov3/3DResults/%s_40x_bin1_05_5min_1-2-3dys_3-4-5-6-7wt_1_w2CSU-488_s5_t22.tif\n"
     ]
    },
    {
     "name": "stderr",
     "output_type": "stream",
     "text": [
      "100%|██████████| 64/64 [03:22<00:00,  2.63s/it]  \n"
     ]
    },
    {
     "name": "stdout",
     "output_type": "stream",
     "text": [
      "Saving file/data/u934/service_imagerie/v_kapoor/Fl4-2-Var/forFOLDERFutureRestoration/pnrG4_ECadGFPki-hetero_30pre29_bin140x_mov3/3DResults/%s_40x_bin1_05_5min_1-2-3dys_3-4-5-6-7wt_1_w2CSU-488_s5_t187.tif\n"
     ]
    },
    {
     "name": "stderr",
     "output_type": "stream",
     "text": [
      "100%|██████████| 64/64 [03:24<00:00,  2.66s/it]  \n"
     ]
    },
    {
     "name": "stdout",
     "output_type": "stream",
     "text": [
      "Saving file/data/u934/service_imagerie/v_kapoor/Fl4-2-Var/forFOLDERFutureRestoration/pnrG4_ECadGFPki-hetero_30pre29_bin140x_mov3/3DResults/%s_40x_bin1_05_5min_1-2-3dys_3-4-5-6-7wt_1_w2CSU-488_s5_t208.tif\n"
     ]
    },
    {
     "name": "stderr",
     "output_type": "stream",
     "text": [
      "100%|██████████| 64/64 [03:21<00:00,  2.63s/it]  \n"
     ]
    },
    {
     "name": "stdout",
     "output_type": "stream",
     "text": [
      "Saving file/data/u934/service_imagerie/v_kapoor/Fl4-2-Var/forFOLDERFutureRestoration/pnrG4_ECadGFPki-hetero_30pre29_bin140x_mov3/3DResults/%s_40x_bin1_05_5min_1-2-3dys_3-4-5-6-7wt_1_w2CSU-488_s5_t17.tif\n"
     ]
    },
    {
     "name": "stderr",
     "output_type": "stream",
     "text": [
      "100%|██████████| 64/64 [03:24<00:00,  2.66s/it]  \n"
     ]
    },
    {
     "name": "stdout",
     "output_type": "stream",
     "text": [
      "Saving file/data/u934/service_imagerie/v_kapoor/Fl4-2-Var/forFOLDERFutureRestoration/pnrG4_ECadGFPki-hetero_30pre29_bin140x_mov3/3DResults/%s_40x_bin1_05_5min_1-2-3dys_3-4-5-6-7wt_1_w2CSU-488_s5_t163.tif\n"
     ]
    },
    {
     "name": "stderr",
     "output_type": "stream",
     "text": [
      "100%|██████████| 64/64 [03:22<00:00,  2.63s/it]  \n"
     ]
    },
    {
     "name": "stdout",
     "output_type": "stream",
     "text": [
      "Saving file/data/u934/service_imagerie/v_kapoor/Fl4-2-Var/forFOLDERFutureRestoration/pnrG4_ECadGFPki-hetero_30pre29_bin140x_mov3/3DResults/%s_40x_bin1_05_5min_1-2-3dys_3-4-5-6-7wt_1_w2CSU-488_s5_t10.tif\n"
     ]
    },
    {
     "name": "stderr",
     "output_type": "stream",
     "text": [
      "100%|██████████| 64/64 [03:24<00:00,  2.67s/it]  \n"
     ]
    },
    {
     "name": "stdout",
     "output_type": "stream",
     "text": [
      "Saving file/data/u934/service_imagerie/v_kapoor/Fl4-2-Var/forFOLDERFutureRestoration/pnrG4_ECadGFPki-hetero_30pre29_bin140x_mov3/3DResults/%s_40x_bin1_05_5min_1-2-3dys_3-4-5-6-7wt_1_w2CSU-488_s5_t164.tif\n"
     ]
    },
    {
     "name": "stderr",
     "output_type": "stream",
     "text": [
      "100%|██████████| 64/64 [03:22<00:00,  2.67s/it]  \n"
     ]
    },
    {
     "name": "stdout",
     "output_type": "stream",
     "text": [
      "Saving file/data/u934/service_imagerie/v_kapoor/Fl4-2-Var/forFOLDERFutureRestoration/pnrG4_ECadGFPki-hetero_30pre29_bin140x_mov3/3DResults/%s_40x_bin1_05_5min_1-2-3dys_3-4-5-6-7wt_1_w2CSU-488_s5_t118.tif\n"
     ]
    },
    {
     "name": "stderr",
     "output_type": "stream",
     "text": [
      "100%|██████████| 64/64 [03:24<00:00,  2.65s/it]  \n"
     ]
    },
    {
     "name": "stdout",
     "output_type": "stream",
     "text": [
      "Saving file/data/u934/service_imagerie/v_kapoor/Fl4-2-Var/forFOLDERFutureRestoration/pnrG4_ECadGFPki-hetero_30pre29_bin140x_mov3/3DResults/%s_40x_bin1_05_5min_1-2-3dys_3-4-5-6-7wt_1_w2CSU-488_s5_t201.tif\n"
     ]
    },
    {
     "name": "stderr",
     "output_type": "stream",
     "text": [
      "100%|██████████| 64/64 [03:21<00:00,  2.64s/it]  \n"
     ]
    },
    {
     "name": "stdout",
     "output_type": "stream",
     "text": [
      "Saving file/data/u934/service_imagerie/v_kapoor/Fl4-2-Var/forFOLDERFutureRestoration/pnrG4_ECadGFPki-hetero_30pre29_bin140x_mov3/3DResults/%s_40x_bin1_05_5min_1-2-3dys_3-4-5-6-7wt_1_w2CSU-488_s5_t62.tif\n"
     ]
    },
    {
     "name": "stderr",
     "output_type": "stream",
     "text": [
      "100%|██████████| 64/64 [03:23<00:00,  2.66s/it]  \n"
     ]
    },
    {
     "name": "stdout",
     "output_type": "stream",
     "text": [
      "Saving file/data/u934/service_imagerie/v_kapoor/Fl4-2-Var/forFOLDERFutureRestoration/pnrG4_ECadGFPki-hetero_30pre29_bin140x_mov3/3DResults/%s_40x_bin1_05_5min_1-2-3dys_3-4-5-6-7wt_1_w2CSU-488_s5_t116.tif\n"
     ]
    },
    {
     "name": "stderr",
     "output_type": "stream",
     "text": [
      "100%|██████████| 64/64 [03:22<00:00,  2.64s/it]  \n"
     ]
    },
    {
     "name": "stdout",
     "output_type": "stream",
     "text": [
      "Saving file/data/u934/service_imagerie/v_kapoor/Fl4-2-Var/forFOLDERFutureRestoration/pnrG4_ECadGFPki-hetero_30pre29_bin140x_mov3/3DResults/%s_40x_bin1_05_5min_1-2-3dys_3-4-5-6-7wt_1_w2CSU-488_s5_t206.tif\n"
     ]
    },
    {
     "name": "stderr",
     "output_type": "stream",
     "text": [
      "100%|██████████| 64/64 [03:23<00:00,  2.64s/it]  \n"
     ]
    },
    {
     "name": "stdout",
     "output_type": "stream",
     "text": [
      "Saving file/data/u934/service_imagerie/v_kapoor/Fl4-2-Var/forFOLDERFutureRestoration/pnrG4_ECadGFPki-hetero_30pre29_bin140x_mov3/3DResults/%s_40x_bin1_05_5min_1-2-3dys_3-4-5-6-7wt_1_w2CSU-488_s5_t65.tif\n"
     ]
    },
    {
     "name": "stderr",
     "output_type": "stream",
     "text": [
      "100%|██████████| 64/64 [03:22<00:00,  2.66s/it]  \n"
     ]
    },
    {
     "name": "stdout",
     "output_type": "stream",
     "text": [
      "Saving file/data/u934/service_imagerie/v_kapoor/Fl4-2-Var/forFOLDERFutureRestoration/pnrG4_ECadGFPki-hetero_30pre29_bin140x_mov3/3DResults/%s_40x_bin1_05_5min_1-2-3dys_3-4-5-6-7wt_1_w2CSU-488_s5_t111.tif\n"
     ]
    },
    {
     "name": "stderr",
     "output_type": "stream",
     "text": [
      "100%|██████████| 64/64 [03:23<00:00,  2.65s/it]  \n"
     ]
    },
    {
     "name": "stdout",
     "output_type": "stream",
     "text": [
      "Saving file/data/u934/service_imagerie/v_kapoor/Fl4-2-Var/forFOLDERFutureRestoration/pnrG4_ECadGFPki-hetero_30pre29_bin140x_mov3/3DResults/%s_40x_bin1_05_5min_1-2-3dys_3-4-5-6-7wt_1_w2CSU-488_s5_t19.tif\n"
     ]
    },
    {
     "name": "stderr",
     "output_type": "stream",
     "text": [
      "100%|██████████| 64/64 [03:21<00:00,  2.64s/it]  \n"
     ]
    },
    {
     "name": "stdout",
     "output_type": "stream",
     "text": [
      "Saving file/data/u934/service_imagerie/v_kapoor/Fl4-2-Var/forFOLDERFutureRestoration/pnrG4_ECadGFPki-hetero_30pre29_bin140x_mov3/3DResults/%s_40x_bin1_05_5min_1-2-3dys_3-4-5-6-7wt_1_w2CSU-488_s5_t91.tif\n"
     ]
    },
    {
     "name": "stderr",
     "output_type": "stream",
     "text": [
      "100%|██████████| 64/64 [03:23<00:00,  2.65s/it]  \n"
     ]
    },
    {
     "name": "stdout",
     "output_type": "stream",
     "text": [
      "Saving file/data/u934/service_imagerie/v_kapoor/Fl4-2-Var/forFOLDERFutureRestoration/pnrG4_ECadGFPki-hetero_30pre29_bin140x_mov3/3DResults/%s_40x_bin1_05_5min_1-2-3dys_3-4-5-6-7wt_1_w2CSU-488_s5_t134.tif\n"
     ]
    },
    {
     "name": "stderr",
     "output_type": "stream",
     "text": [
      "100%|██████████| 64/64 [03:21<00:00,  2.63s/it]  \n"
     ]
    },
    {
     "name": "stdout",
     "output_type": "stream",
     "text": [
      "Saving file/data/u934/service_imagerie/v_kapoor/Fl4-2-Var/forFOLDERFutureRestoration/pnrG4_ECadGFPki-hetero_30pre29_bin140x_mov3/3DResults/%s_40x_bin1_05_5min_1-2-3dys_3-4-5-6-7wt_1_w2CSU-488_s5_t40.tif\n"
     ]
    },
    {
     "name": "stderr",
     "output_type": "stream",
     "text": [
      "100%|██████████| 64/64 [03:24<00:00,  2.65s/it]  \n"
     ]
    },
    {
     "name": "stdout",
     "output_type": "stream",
     "text": [
      "Saving file/data/u934/service_imagerie/v_kapoor/Fl4-2-Var/forFOLDERFutureRestoration/pnrG4_ECadGFPki-hetero_30pre29_bin140x_mov3/3DResults/%s_40x_bin1_05_5min_1-2-3dys_3-4-5-6-7wt_1_w2CSU-488_s5_t199.tif\n"
     ]
    },
    {
     "name": "stderr",
     "output_type": "stream",
     "text": [
      "100%|██████████| 64/64 [03:22<00:00,  2.64s/it]  \n"
     ]
    },
    {
     "name": "stdout",
     "output_type": "stream",
     "text": [
      "Saving file/data/u934/service_imagerie/v_kapoor/Fl4-2-Var/forFOLDERFutureRestoration/pnrG4_ECadGFPki-hetero_30pre29_bin140x_mov3/3DResults/%s_40x_bin1_05_5min_1-2-3dys_3-4-5-6-7wt_1_w2CSU-488_s5_t148.tif\n"
     ]
    },
    {
     "name": "stderr",
     "output_type": "stream",
     "text": [
      "100%|██████████| 64/64 [03:23<00:00,  2.67s/it]  \n"
     ]
    },
    {
     "name": "stdout",
     "output_type": "stream",
     "text": [
      "Saving file/data/u934/service_imagerie/v_kapoor/Fl4-2-Var/forFOLDERFutureRestoration/pnrG4_ECadGFPki-hetero_30pre29_bin140x_mov3/3DResults/%s_40x_bin1_05_5min_1-2-3dys_3-4-5-6-7wt_1_w2CSU-488_s5_t96.tif\n"
     ]
    },
    {
     "name": "stderr",
     "output_type": "stream",
     "text": [
      "100%|██████████| 64/64 [03:21<00:00,  2.64s/it]  \n"
     ]
    },
    {
     "name": "stdout",
     "output_type": "stream",
     "text": [
      "Saving file/data/u934/service_imagerie/v_kapoor/Fl4-2-Var/forFOLDERFutureRestoration/pnrG4_ECadGFPki-hetero_30pre29_bin140x_mov3/3DResults/%s_40x_bin1_05_5min_1-2-3dys_3-4-5-6-7wt_1_w2CSU-488_s5_t133.tif\n"
     ]
    },
    {
     "name": "stderr",
     "output_type": "stream",
     "text": [
      "100%|██████████| 64/64 [03:23<00:00,  2.68s/it]  \n"
     ]
    },
    {
     "name": "stdout",
     "output_type": "stream",
     "text": [
      "Saving file/data/u934/service_imagerie/v_kapoor/Fl4-2-Var/forFOLDERFutureRestoration/pnrG4_ECadGFPki-hetero_30pre29_bin140x_mov3/3DResults/%s_40x_bin1_05_5min_1-2-3dys_3-4-5-6-7wt_1_w2CSU-488_s5_t47.tif\n"
     ]
    },
    {
     "name": "stderr",
     "output_type": "stream",
     "text": [
      "100%|██████████| 64/64 [03:21<00:00,  2.62s/it]  \n"
     ]
    },
    {
     "name": "stdout",
     "output_type": "stream",
     "text": [
      "Saving file/data/u934/service_imagerie/v_kapoor/Fl4-2-Var/forFOLDERFutureRestoration/pnrG4_ECadGFPki-hetero_30pre29_bin140x_mov3/3DResults/%s_40x_bin1_05_5min_1-2-3dys_3-4-5-6-7wt_1_w2CSU-488_s5_t190.tif\n"
     ]
    },
    {
     "name": "stderr",
     "output_type": "stream",
     "text": [
      "100%|██████████| 64/64 [03:23<00:00,  2.67s/it]  \n"
     ]
    },
    {
     "name": "stdout",
     "output_type": "stream",
     "text": [
      "Saving file/data/u934/service_imagerie/v_kapoor/Fl4-2-Var/forFOLDERFutureRestoration/pnrG4_ECadGFPki-hetero_30pre29_bin140x_mov3/3DResults/%s_40x_bin1_05_5min_1-2-3dys_3-4-5-6-7wt_1_w2CSU-488_s5_t141.tif\n"
     ]
    },
    {
     "name": "stderr",
     "output_type": "stream",
     "text": [
      "100%|██████████| 64/64 [03:21<00:00,  2.63s/it]  \n"
     ]
    },
    {
     "name": "stdout",
     "output_type": "stream",
     "text": [
      "Saving file/data/u934/service_imagerie/v_kapoor/Fl4-2-Var/forFOLDERFutureRestoration/pnrG4_ECadGFPki-hetero_30pre29_bin140x_mov3/3DResults/%s_40x_bin1_05_5min_1-2-3dys_3-4-5-6-7wt_1_w2CSU-488_s5_t35.tif\n"
     ]
    },
    {
     "name": "stderr",
     "output_type": "stream",
     "text": [
      "100%|██████████| 64/64 [03:24<00:00,  2.68s/it]  \n"
     ]
    },
    {
     "name": "stdout",
     "output_type": "stream",
     "text": [
      "Saving file/data/u934/service_imagerie/v_kapoor/Fl4-2-Var/forFOLDERFutureRestoration/pnrG4_ECadGFPki-hetero_30pre29_bin140x_mov3/3DResults/%s_40x_bin1_05_5min_1-2-3dys_3-4-5-6-7wt_1_w2CSU-488_s5_t98.tif\n"
     ]
    },
    {
     "name": "stderr",
     "output_type": "stream",
     "text": [
      "100%|██████████| 64/64 [03:22<00:00,  2.63s/it]  \n"
     ]
    },
    {
     "name": "stdout",
     "output_type": "stream",
     "text": [
      "Saving file/data/u934/service_imagerie/v_kapoor/Fl4-2-Var/forFOLDERFutureRestoration/pnrG4_ECadGFPki-hetero_30pre29_bin140x_mov3/3DResults/%s_40x_bin1_05_5min_1-2-3dys_3-4-5-6-7wt_1_w2CSU-488_s5_t49.tif\n"
     ]
    },
    {
     "name": "stderr",
     "output_type": "stream",
     "text": [
      "100%|██████████| 64/64 [03:24<00:00,  2.66s/it]  \n"
     ]
    },
    {
     "name": "stdout",
     "output_type": "stream",
     "text": [
      "Saving file/data/u934/service_imagerie/v_kapoor/Fl4-2-Var/forFOLDERFutureRestoration/pnrG4_ECadGFPki-hetero_30pre29_bin140x_mov3/3DResults/%s_40x_bin1_05_5min_1-2-3dys_3-4-5-6-7wt_1_w2CSU-488_s5_t197.tif\n"
     ]
    },
    {
     "name": "stderr",
     "output_type": "stream",
     "text": [
      "100%|██████████| 64/64 [03:22<00:00,  2.65s/it]  \n"
     ]
    },
    {
     "name": "stdout",
     "output_type": "stream",
     "text": [
      "Saving file/data/u934/service_imagerie/v_kapoor/Fl4-2-Var/forFOLDERFutureRestoration/pnrG4_ECadGFPki-hetero_30pre29_bin140x_mov3/3DResults/%s_40x_bin1_05_5min_1-2-3dys_3-4-5-6-7wt_1_w2CSU-488_s5_t146.tif\n"
     ]
    },
    {
     "name": "stderr",
     "output_type": "stream",
     "text": [
      "100%|██████████| 64/64 [03:23<00:00,  2.66s/it]  \n"
     ]
    },
    {
     "name": "stdout",
     "output_type": "stream",
     "text": [
      "Saving file/data/u934/service_imagerie/v_kapoor/Fl4-2-Var/forFOLDERFutureRestoration/pnrG4_ECadGFPki-hetero_30pre29_bin140x_mov3/3DResults/%s_40x_bin1_05_5min_1-2-3dys_3-4-5-6-7wt_1_w2CSU-488_s5_t32.tif\n"
     ]
    },
    {
     "name": "stderr",
     "output_type": "stream",
     "text": [
      "100%|██████████| 64/64 [03:22<00:00,  2.63s/it]  \n"
     ]
    },
    {
     "name": "stdout",
     "output_type": "stream",
     "text": [
      "Saving file/data/u934/service_imagerie/v_kapoor/Fl4-2-Var/forFOLDERFutureRestoration/pnrG4_ECadGFPki-hetero_30pre29_bin140x_mov3/3DResults/%s_40x_bin1_05_5min_1-2-3dys_3-4-5-6-7wt_1_w2CSU-488_s5_t173.tif\n"
     ]
    },
    {
     "name": "stderr",
     "output_type": "stream",
     "text": [
      "100%|██████████| 64/64 [03:23<00:00,  2.66s/it]  \n"
     ]
    },
    {
     "name": "stdout",
     "output_type": "stream",
     "text": [
      "Saving file/data/u934/service_imagerie/v_kapoor/Fl4-2-Var/forFOLDERFutureRestoration/pnrG4_ECadGFPki-hetero_30pre29_bin140x_mov3/3DResults/%s_40x_bin1_05_5min_1-2-3dys_3-4-5-6-7wt_1_w2CSU-488_s5_t174.tif\n"
     ]
    },
    {
     "name": "stderr",
     "output_type": "stream",
     "text": [
      "100%|██████████| 64/64 [03:21<00:00,  2.64s/it]  \n"
     ]
    },
    {
     "name": "stdout",
     "output_type": "stream",
     "text": [
      "Saving file/data/u934/service_imagerie/v_kapoor/Fl4-2-Var/forFOLDERFutureRestoration/pnrG4_ECadGFPki-hetero_30pre29_bin140x_mov3/3DResults/%s_40x_bin1_05_5min_1-2-3dys_3-4-5-6-7wt_1_w2CSU-488_s5_t108.tif\n"
     ]
    },
    {
     "name": "stderr",
     "output_type": "stream",
     "text": [
      "100%|██████████| 64/64 [03:24<00:00,  2.69s/it]  \n"
     ]
    },
    {
     "name": "stdout",
     "output_type": "stream",
     "text": [
      "Saving file/data/u934/service_imagerie/v_kapoor/Fl4-2-Var/forFOLDERFutureRestoration/pnrG4_ECadGFPki-hetero_30pre29_bin140x_mov3/3DResults/%s_40x_bin1_05_5min_1-2-3dys_3-4-5-6-7wt_1_w2CSU-488_s5_t72.tif\n"
     ]
    },
    {
     "name": "stderr",
     "output_type": "stream",
     "text": [
      "100%|██████████| 64/64 [03:22<00:00,  2.66s/it]  \n"
     ]
    },
    {
     "name": "stdout",
     "output_type": "stream",
     "text": [
      "Saving file/data/u934/service_imagerie/v_kapoor/Fl4-2-Var/forFOLDERFutureRestoration/pnrG4_ECadGFPki-hetero_30pre29_bin140x_mov3/3DResults/%s_40x_bin1_05_5min_1-2-3dys_3-4-5-6-7wt_1_w2CSU-488_s5_t106.tif\n"
     ]
    },
    {
     "name": "stderr",
     "output_type": "stream",
     "text": [
      "100%|██████████| 64/64 [03:24<00:00,  2.68s/it]  \n"
     ]
    },
    {
     "name": "stdout",
     "output_type": "stream",
     "text": [
      "Saving file/data/u934/service_imagerie/v_kapoor/Fl4-2-Var/forFOLDERFutureRestoration/pnrG4_ECadGFPki-hetero_30pre29_bin140x_mov3/3DResults/%s_40x_bin1_05_5min_1-2-3dys_3-4-5-6-7wt_1_w2CSU-488_s5_t211.tif\n"
     ]
    },
    {
     "name": "stderr",
     "output_type": "stream",
     "text": [
      "100%|██████████| 64/64 [03:22<00:00,  2.63s/it]  \n"
     ]
    },
    {
     "name": "stdout",
     "output_type": "stream",
     "text": [
      "Saving file/data/u934/service_imagerie/v_kapoor/Fl4-2-Var/forFOLDERFutureRestoration/pnrG4_ECadGFPki-hetero_30pre29_bin140x_mov3/3DResults/%s_40x_bin1_05_5min_1-2-3dys_3-4-5-6-7wt_1_w2CSU-488_s5_t75.tif\n"
     ]
    },
    {
     "name": "stderr",
     "output_type": "stream",
     "text": [
      "100%|██████████| 64/64 [03:24<00:00,  2.66s/it]  \n"
     ]
    },
    {
     "name": "stdout",
     "output_type": "stream",
     "text": [
      "Saving file/data/u934/service_imagerie/v_kapoor/Fl4-2-Var/forFOLDERFutureRestoration/pnrG4_ECadGFPki-hetero_30pre29_bin140x_mov3/3DResults/%s_40x_bin1_05_5min_1-2-3dys_3-4-5-6-7wt_1_w2CSU-488_s5_t101.tif\n"
     ]
    },
    {
     "name": "stderr",
     "output_type": "stream",
     "text": [
      "100%|██████████| 64/64 [03:23<00:00,  2.68s/it]  \n"
     ]
    },
    {
     "name": "stdout",
     "output_type": "stream",
     "text": [
      "Saving file/data/u934/service_imagerie/v_kapoor/Fl4-2-Var/forFOLDERFutureRestoration/pnrG4_ECadGFPki-hetero_30pre29_bin140x_mov3/3DResults/%s_40x_bin1_05_5min_1-2-3dys_3-4-5-6-7wt_1_w2CSU-488_s5_t207.tif\n"
     ]
    },
    {
     "name": "stderr",
     "output_type": "stream",
     "text": [
      "100%|██████████| 64/64 [03:24<00:00,  2.68s/it]  \n"
     ]
    },
    {
     "name": "stdout",
     "output_type": "stream",
     "text": [
      "Saving file/data/u934/service_imagerie/v_kapoor/Fl4-2-Var/forFOLDERFutureRestoration/pnrG4_ECadGFPki-hetero_30pre29_bin140x_mov3/3DResults/%s_40x_bin1_05_5min_1-2-3dys_3-4-5-6-7wt_1_w2CSU-488_s5_t64.tif\n"
     ]
    },
    {
     "name": "stderr",
     "output_type": "stream",
     "text": [
      "100%|██████████| 64/64 [03:22<00:00,  2.64s/it]  \n"
     ]
    },
    {
     "name": "stdout",
     "output_type": "stream",
     "text": [
      "Saving file/data/u934/service_imagerie/v_kapoor/Fl4-2-Var/forFOLDERFutureRestoration/pnrG4_ECadGFPki-hetero_30pre29_bin140x_mov3/3DResults/%s_40x_bin1_05_5min_1-2-3dys_3-4-5-6-7wt_1_w2CSU-488_s5_t110.tif\n"
     ]
    },
    {
     "name": "stderr",
     "output_type": "stream",
     "text": [
      "100%|██████████| 64/64 [03:24<00:00,  2.66s/it]  \n"
     ]
    },
    {
     "name": "stdout",
     "output_type": "stream",
     "text": [
      "Saving file/data/u934/service_imagerie/v_kapoor/Fl4-2-Var/forFOLDERFutureRestoration/pnrG4_ECadGFPki-hetero_30pre29_bin140x_mov3/3DResults/%s_40x_bin1_05_5min_1-2-3dys_3-4-5-6-7wt_1_w2CSU-488_s5_t18.tif\n"
     ]
    },
    {
     "name": "stderr",
     "output_type": "stream",
     "text": [
      "100%|██████████| 64/64 [03:22<00:00,  2.67s/it]  \n"
     ]
    },
    {
     "name": "stdout",
     "output_type": "stream",
     "text": [
      "Saving file/data/u934/service_imagerie/v_kapoor/Fl4-2-Var/forFOLDERFutureRestoration/pnrG4_ECadGFPki-hetero_30pre29_bin140x_mov3/3DResults/%s_40x_bin1_05_5min_1-2-3dys_3-4-5-6-7wt_1_w2CSU-488_s5_t200.tif\n"
     ]
    },
    {
     "name": "stderr",
     "output_type": "stream",
     "text": [
      "100%|██████████| 64/64 [03:24<00:00,  2.67s/it]  \n"
     ]
    },
    {
     "name": "stdout",
     "output_type": "stream",
     "text": [
      "Saving file/data/u934/service_imagerie/v_kapoor/Fl4-2-Var/forFOLDERFutureRestoration/pnrG4_ECadGFPki-hetero_30pre29_bin140x_mov3/3DResults/%s_40x_bin1_05_5min_1-2-3dys_3-4-5-6-7wt_1_w2CSU-488_s5_t63.tif\n"
     ]
    },
    {
     "name": "stderr",
     "output_type": "stream",
     "text": [
      "100%|██████████| 64/64 [03:22<00:00,  2.66s/it]  \n"
     ]
    },
    {
     "name": "stdout",
     "output_type": "stream",
     "text": [
      "Saving file/data/u934/service_imagerie/v_kapoor/Fl4-2-Var/forFOLDERFutureRestoration/pnrG4_ECadGFPki-hetero_30pre29_bin140x_mov3/3DResults/%s_40x_bin1_05_5min_1-2-3dys_3-4-5-6-7wt_1_w2CSU-488_s5_t117.tif\n"
     ]
    },
    {
     "name": "stderr",
     "output_type": "stream",
     "text": [
      "100%|██████████| 64/64 [03:24<00:00,  2.69s/it]  \n"
     ]
    },
    {
     "name": "stdout",
     "output_type": "stream",
     "text": [
      "Saving file/data/u934/service_imagerie/v_kapoor/Fl4-2-Var/forFOLDERFutureRestoration/pnrG4_ECadGFPki-hetero_30pre29_bin140x_mov3/3DResults/%s_40x_bin1_05_5min_1-2-3dys_3-4-5-6-7wt_1_w2CSU-488_s5_t11.tif\n"
     ]
    },
    {
     "name": "stderr",
     "output_type": "stream",
     "text": [
      "100%|██████████| 64/64 [03:23<00:00,  2.66s/it]  \n"
     ]
    },
    {
     "name": "stdout",
     "output_type": "stream",
     "text": [
      "Saving file/data/u934/service_imagerie/v_kapoor/Fl4-2-Var/forFOLDERFutureRestoration/pnrG4_ECadGFPki-hetero_30pre29_bin140x_mov3/3DResults/%s_40x_bin1_05_5min_1-2-3dys_3-4-5-6-7wt_1_w2CSU-488_s5_t165.tif\n"
     ]
    },
    {
     "name": "stderr",
     "output_type": "stream",
     "text": [
      "100%|██████████| 64/64 [03:24<00:00,  2.66s/it]  \n"
     ]
    },
    {
     "name": "stdout",
     "output_type": "stream",
     "text": [
      "Saving file/data/u934/service_imagerie/v_kapoor/Fl4-2-Var/forFOLDERFutureRestoration/pnrG4_ECadGFPki-hetero_30pre29_bin140x_mov3/3DResults/%s_40x_bin1_05_5min_1-2-3dys_3-4-5-6-7wt_1_w2CSU-488_s5_t119.tif\n"
     ]
    },
    {
     "name": "stderr",
     "output_type": "stream",
     "text": [
      "100%|██████████| 64/64 [03:23<00:00,  2.65s/it]  \n"
     ]
    },
    {
     "name": "stdout",
     "output_type": "stream",
     "text": [
      "Saving file/data/u934/service_imagerie/v_kapoor/Fl4-2-Var/forFOLDERFutureRestoration/pnrG4_ECadGFPki-hetero_30pre29_bin140x_mov3/3DResults/%s_40x_bin1_05_5min_1-2-3dys_3-4-5-6-7wt_1_w2CSU-488_s5_t209.tif\n"
     ]
    },
    {
     "name": "stderr",
     "output_type": "stream",
     "text": [
      "100%|██████████| 64/64 [03:23<00:00,  2.65s/it]  \n"
     ]
    },
    {
     "name": "stdout",
     "output_type": "stream",
     "text": [
      "Saving file/data/u934/service_imagerie/v_kapoor/Fl4-2-Var/forFOLDERFutureRestoration/pnrG4_ECadGFPki-hetero_30pre29_bin140x_mov3/3DResults/%s_40x_bin1_05_5min_1-2-3dys_3-4-5-6-7wt_1_w2CSU-488_s5_t16.tif\n"
     ]
    },
    {
     "name": "stderr",
     "output_type": "stream",
     "text": [
      "100%|██████████| 64/64 [03:21<00:00,  2.63s/it]  \n"
     ]
    },
    {
     "name": "stdout",
     "output_type": "stream",
     "text": [
      "Saving file/data/u934/service_imagerie/v_kapoor/Fl4-2-Var/forFOLDERFutureRestoration/pnrG4_ECadGFPki-hetero_30pre29_bin140x_mov3/3DResults/%s_40x_bin1_05_5min_1-2-3dys_3-4-5-6-7wt_1_w2CSU-488_s5_t162.tif\n"
     ]
    },
    {
     "name": "stderr",
     "output_type": "stream",
     "text": [
      "100%|██████████| 64/64 [03:23<00:00,  2.66s/it]  \n"
     ]
    },
    {
     "name": "stdout",
     "output_type": "stream",
     "text": [
      "Saving file/data/u934/service_imagerie/v_kapoor/Fl4-2-Var/forFOLDERFutureRestoration/pnrG4_ECadGFPki-hetero_30pre29_bin140x_mov3/3DResults/%s_40x_bin1_05_5min_1-2-3dys_3-4-5-6-7wt_1_w2CSU-488_s5_t6.tif\n"
     ]
    },
    {
     "name": "stderr",
     "output_type": "stream",
     "text": [
      "100%|██████████| 64/64 [03:22<00:00,  2.65s/it]  \n"
     ]
    },
    {
     "name": "stdout",
     "output_type": "stream",
     "text": [
      "Saving file/data/u934/service_imagerie/v_kapoor/Fl4-2-Var/forFOLDERFutureRestoration/pnrG4_ECadGFPki-hetero_30pre29_bin140x_mov3/3DResults/%s_40x_bin1_05_5min_1-2-3dys_3-4-5-6-7wt_1_w2CSU-488_s5_t157.tif\n"
     ]
    },
    {
     "name": "stderr",
     "output_type": "stream",
     "text": [
      "100%|██████████| 64/64 [03:24<00:00,  2.68s/it]  \n"
     ]
    },
    {
     "name": "stdout",
     "output_type": "stream",
     "text": [
      "Saving file/data/u934/service_imagerie/v_kapoor/Fl4-2-Var/forFOLDERFutureRestoration/pnrG4_ECadGFPki-hetero_30pre29_bin140x_mov3/3DResults/%s_40x_bin1_05_5min_1-2-3dys_3-4-5-6-7wt_1_w2CSU-488_s5_t23.tif\n"
     ]
    },
    {
     "name": "stderr",
     "output_type": "stream",
     "text": [
      "100%|██████████| 64/64 [03:22<00:00,  2.67s/it]  \n"
     ]
    },
    {
     "name": "stdout",
     "output_type": "stream",
     "text": [
      "Saving file/data/u934/service_imagerie/v_kapoor/Fl4-2-Var/forFOLDERFutureRestoration/pnrG4_ECadGFPki-hetero_30pre29_bin140x_mov3/3DResults/%s_40x_bin1_05_5min_1-2-3dys_3-4-5-6-7wt_1_w2CSU-488_s5_t186.tif\n"
     ]
    },
    {
     "name": "stderr",
     "output_type": "stream",
     "text": [
      "100%|██████████| 64/64 [03:24<00:00,  2.66s/it]  \n"
     ]
    },
    {
     "name": "stdout",
     "output_type": "stream",
     "text": [
      "Saving file/data/u934/service_imagerie/v_kapoor/Fl4-2-Var/forFOLDERFutureRestoration/pnrG4_ECadGFPki-hetero_30pre29_bin140x_mov3/3DResults/%s_40x_bin1_05_5min_1-2-3dys_3-4-5-6-7wt_1_w2CSU-488_s5_t1.tif\n"
     ]
    },
    {
     "name": "stderr",
     "output_type": "stream",
     "text": [
      "100%|██████████| 64/64 [03:22<00:00,  2.66s/it]  \n"
     ]
    },
    {
     "name": "stdout",
     "output_type": "stream",
     "text": [
      "Saving file/data/u934/service_imagerie/v_kapoor/Fl4-2-Var/forFOLDERFutureRestoration/pnrG4_ECadGFPki-hetero_30pre29_bin140x_mov3/3DResults/%s_40x_bin1_05_5min_1-2-3dys_3-4-5-6-7wt_1_w2CSU-488_s5_t150.tif\n"
     ]
    },
    {
     "name": "stderr",
     "output_type": "stream",
     "text": [
      "100%|██████████| 64/64 [03:23<00:00,  2.65s/it]  \n"
     ]
    },
    {
     "name": "stdout",
     "output_type": "stream",
     "text": [
      "Saving file/data/u934/service_imagerie/v_kapoor/Fl4-2-Var/forFOLDERFutureRestoration/pnrG4_ECadGFPki-hetero_30pre29_bin140x_mov3/3DResults/%s_40x_bin1_05_5min_1-2-3dys_3-4-5-6-7wt_1_w2CSU-488_s5_t24.tif\n"
     ]
    },
    {
     "name": "stderr",
     "output_type": "stream",
     "text": [
      "100%|██████████| 64/64 [03:22<00:00,  2.62s/it]  \n"
     ]
    },
    {
     "name": "stdout",
     "output_type": "stream",
     "text": [
      "Saving file/data/u934/service_imagerie/v_kapoor/Fl4-2-Var/forFOLDERFutureRestoration/pnrG4_ECadGFPki-hetero_30pre29_bin140x_mov3/3DResults/%s_40x_bin1_05_5min_1-2-3dys_3-4-5-6-7wt_1_w2CSU-488_s5_t181.tif\n"
     ]
    },
    {
     "name": "stderr",
     "output_type": "stream",
     "text": [
      "100%|██████████| 64/64 [03:23<00:00,  2.66s/it]  \n"
     ]
    },
    {
     "name": "stdout",
     "output_type": "stream",
     "text": [
      "Saving file/data/u934/service_imagerie/v_kapoor/Fl4-2-Var/forFOLDERFutureRestoration/pnrG4_ECadGFPki-hetero_30pre29_bin140x_mov3/3DResults/%s_40x_bin1_05_5min_1-2-3dys_3-4-5-6-7wt_1_w2CSU-488_s5_t58.tif\n"
     ]
    },
    {
     "name": "stderr",
     "output_type": "stream",
     "text": [
      "100%|██████████| 64/64 [03:21<00:00,  2.64s/it]  \n"
     ]
    },
    {
     "name": "stdout",
     "output_type": "stream",
     "text": [
      "Saving file/data/u934/service_imagerie/v_kapoor/Fl4-2-Var/forFOLDERFutureRestoration/pnrG4_ECadGFPki-hetero_30pre29_bin140x_mov3/3DResults/%s_40x_bin1_05_5min_1-2-3dys_3-4-5-6-7wt_1_w2CSU-488_s5_t89.tif\n"
     ]
    },
    {
     "name": "stderr",
     "output_type": "stream",
     "text": [
      "100%|██████████| 64/64 [03:24<00:00,  2.66s/it]  \n"
     ]
    },
    {
     "name": "stdout",
     "output_type": "stream",
     "text": [
      "Saving file/data/u934/service_imagerie/v_kapoor/Fl4-2-Var/forFOLDERFutureRestoration/pnrG4_ECadGFPki-hetero_30pre29_bin140x_mov3/3DResults/%s_40x_bin1_05_5min_1-2-3dys_3-4-5-6-7wt_1_w2CSU-488_s5_t122.tif\n"
     ]
    },
    {
     "name": "stderr",
     "output_type": "stream",
     "text": [
      "100%|██████████| 64/64 [03:22<00:00,  2.67s/it]  \n"
     ]
    },
    {
     "name": "stdout",
     "output_type": "stream",
     "text": [
      "Saving file/data/u934/service_imagerie/v_kapoor/Fl4-2-Var/forFOLDERFutureRestoration/pnrG4_ECadGFPki-hetero_30pre29_bin140x_mov3/3DResults/%s_40x_bin1_05_5min_1-2-3dys_3-4-5-6-7wt_1_w2CSU-488_s5_t56.tif\n"
     ]
    },
    {
     "name": "stderr",
     "output_type": "stream",
     "text": [
      "100%|██████████| 64/64 [03:24<00:00,  2.66s/it]  \n"
     ]
    },
    {
     "name": "stdout",
     "output_type": "stream",
     "text": [
      "Saving file/data/u934/service_imagerie/v_kapoor/Fl4-2-Var/forFOLDERFutureRestoration/pnrG4_ECadGFPki-hetero_30pre29_bin140x_mov3/3DResults/%s_40x_bin1_05_5min_1-2-3dys_3-4-5-6-7wt_1_w2CSU-488_s5_t87.tif\n"
     ]
    },
    {
     "name": "stderr",
     "output_type": "stream",
     "text": [
      "100%|██████████| 64/64 [03:22<00:00,  2.64s/it]  \n"
     ]
    },
    {
     "name": "stdout",
     "output_type": "stream",
     "text": [
      "Saving file/data/u934/service_imagerie/v_kapoor/Fl4-2-Var/forFOLDERFutureRestoration/pnrG4_ECadGFPki-hetero_30pre29_bin140x_mov3/3DResults/%s_40x_bin1_05_5min_1-2-3dys_3-4-5-6-7wt_1_w2CSU-488_s5_t125.tif\n"
     ]
    },
    {
     "name": "stderr",
     "output_type": "stream",
     "text": [
      "100%|██████████| 64/64 [03:24<00:00,  2.66s/it]  \n"
     ]
    },
    {
     "name": "stdout",
     "output_type": "stream",
     "text": [
      "Saving file/data/u934/service_imagerie/v_kapoor/Fl4-2-Var/forFOLDERFutureRestoration/pnrG4_ECadGFPki-hetero_30pre29_bin140x_mov3/3DResults/%s_40x_bin1_05_5min_1-2-3dys_3-4-5-6-7wt_1_w2CSU-488_s5_t51.tif\n"
     ]
    },
    {
     "name": "stderr",
     "output_type": "stream",
     "text": [
      "100%|██████████| 64/64 [03:22<00:00,  2.66s/it]  \n"
     ]
    },
    {
     "name": "stdout",
     "output_type": "stream",
     "text": [
      "Saving file/data/u934/service_imagerie/v_kapoor/Fl4-2-Var/forFOLDERFutureRestoration/pnrG4_ECadGFPki-hetero_30pre29_bin140x_mov3/3DResults/%s_40x_bin1_05_5min_1-2-3dys_3-4-5-6-7wt_1_w2CSU-488_s5_t80.tif\n"
     ]
    },
    {
     "name": "stderr",
     "output_type": "stream",
     "text": [
      "100%|██████████| 64/64 [03:24<00:00,  2.65s/it]  \n"
     ]
    },
    {
     "name": "stdout",
     "output_type": "stream",
     "text": [
      "Saving file/data/u934/service_imagerie/v_kapoor/Fl4-2-Var/forFOLDERFutureRestoration/pnrG4_ECadGFPki-hetero_30pre29_bin140x_mov3/3DResults/%s_40x_bin1_05_5min_1-2-3dys_3-4-5-6-7wt_1_w2CSU-488_s5_t8.tif\n"
     ]
    },
    {
     "name": "stderr",
     "output_type": "stream",
     "text": [
      "100%|██████████| 64/64 [03:22<00:00,  2.63s/it]  \n"
     ]
    },
    {
     "name": "stdout",
     "output_type": "stream",
     "text": [
      "Saving file/data/u934/service_imagerie/v_kapoor/Fl4-2-Var/forFOLDERFutureRestoration/pnrG4_ECadGFPki-hetero_30pre29_bin140x_mov3/3DResults/%s_40x_bin1_05_5min_1-2-3dys_3-4-5-6-7wt_1_w2CSU-488_s5_t159.tif\n"
     ]
    },
    {
     "name": "stderr",
     "output_type": "stream",
     "text": [
      "100%|██████████| 64/64 [03:23<00:00,  2.66s/it]  \n"
     ]
    },
    {
     "name": "stdout",
     "output_type": "stream",
     "text": [
      "Saving file/data/u934/service_imagerie/v_kapoor/Fl4-2-Var/forFOLDERFutureRestoration/pnrG4_ECadGFPki-hetero_30pre29_bin140x_mov3/3DResults/%s_40x_bin1_05_5min_1-2-3dys_3-4-5-6-7wt_1_w2CSU-488_s5_t188.tif\n"
     ]
    },
    {
     "name": "stderr",
     "output_type": "stream",
     "text": [
      "100%|██████████| 64/64 [03:22<00:00,  2.66s/it]  \n"
     ]
    },
    {
     "name": "stdout",
     "output_type": "stream",
     "text": [
      "Saving file/data/u934/service_imagerie/v_kapoor/Fl4-2-Var/forFOLDERFutureRestoration/AzotKO_ubiEcadGFPEx1hetero_29_mov3/3DResults/%s_40x_bin1_05_5min_3_w2CSU-488_s2_t4.tif\n"
     ]
    },
    {
     "name": "stderr",
     "output_type": "stream",
     "text": [
      "100%|██████████| 64/64 [03:23<00:00,  2.67s/it]  \n"
     ]
    },
    {
     "name": "stdout",
     "output_type": "stream",
     "text": [
      "Saving file/data/u934/service_imagerie/v_kapoor/Fl4-2-Var/forFOLDERFutureRestoration/AzotKO_ubiEcadGFPEx1hetero_29_mov3/3DResults/%s_40x_bin1_05_5min_3_w2CSU-488_s6_t222.tif\n"
     ]
    },
    {
     "name": "stderr",
     "output_type": "stream",
     "text": [
      "100%|██████████| 64/64 [03:21<00:00,  2.63s/it]  \n"
     ]
    },
    {
     "name": "stdout",
     "output_type": "stream",
     "text": [
      "Saving file/data/u934/service_imagerie/v_kapoor/Fl4-2-Var/forFOLDERFutureRestoration/AzotKO_ubiEcadGFPEx1hetero_29_mov3/3DResults/%s_40x_bin1_05_5min_3_w2CSU-488_s1_t164.tif\n"
     ]
    },
    {
     "name": "stderr",
     "output_type": "stream",
     "text": [
      "100%|██████████| 64/64 [03:24<00:00,  2.65s/it]  \n"
     ]
    },
    {
     "name": "stdout",
     "output_type": "stream",
     "text": [
      "Saving file/data/u934/service_imagerie/v_kapoor/Fl4-2-Var/forFOLDERFutureRestoration/AzotKO_ubiEcadGFPEx1hetero_29_mov3/3DResults/%s_40x_bin1_05_5min_3_w2CSU-488_s6_t135.tif\n"
     ]
    },
    {
     "name": "stderr",
     "output_type": "stream",
     "text": [
      "100%|██████████| 64/64 [03:21<00:00,  2.63s/it]  \n"
     ]
    },
    {
     "name": "stdout",
     "output_type": "stream",
     "text": [
      "Saving file/data/u934/service_imagerie/v_kapoor/Fl4-2-Var/forFOLDERFutureRestoration/AzotKO_ubiEcadGFPEx1hetero_29_mov3/3DResults/%s_40x_bin1_05_5min_3_w2CSU-488_s3_t34.tif\n"
     ]
    },
    {
     "name": "stderr",
     "output_type": "stream",
     "text": [
      "100%|██████████| 64/64 [03:24<00:00,  2.68s/it]  \n"
     ]
    },
    {
     "name": "stdout",
     "output_type": "stream",
     "text": [
      "Saving file/data/u934/service_imagerie/v_kapoor/Fl4-2-Var/forFOLDERFutureRestoration/AzotKO_ubiEcadGFPEx1hetero_29_mov3/3DResults/%s_40x_bin1_05_5min_3_w2CSU-488_s6_t23.tif\n"
     ]
    },
    {
     "name": "stderr",
     "output_type": "stream",
     "text": [
      "100%|██████████| 64/64 [03:22<00:00,  2.64s/it]  \n"
     ]
    },
    {
     "name": "stdout",
     "output_type": "stream",
     "text": [
      "Saving file/data/u934/service_imagerie/v_kapoor/Fl4-2-Var/forFOLDERFutureRestoration/AzotKO_ubiEcadGFPEx1hetero_29_mov3/3DResults/%s_40x_bin1_05_5min_3_w2CSU-488_s5_t61.tif\n"
     ]
    },
    {
     "name": "stderr",
     "output_type": "stream",
     "text": [
      "100%|██████████| 64/64 [03:23<00:00,  2.66s/it]  \n"
     ]
    },
    {
     "name": "stdout",
     "output_type": "stream",
     "text": [
      "Saving file/data/u934/service_imagerie/v_kapoor/Fl4-2-Var/forFOLDERFutureRestoration/AzotKO_ubiEcadGFPEx1hetero_29_mov3/3DResults/%s_40x_bin1_05_5min_3_w2CSU-488_s6_t198.tif\n"
     ]
    },
    {
     "name": "stderr",
     "output_type": "stream",
     "text": [
      "100%|██████████| 64/64 [03:22<00:00,  2.64s/it]  \n"
     ]
    },
    {
     "name": "stdout",
     "output_type": "stream",
     "text": [
      "Saving file/data/u934/service_imagerie/v_kapoor/Fl4-2-Var/forFOLDERFutureRestoration/AzotKO_ubiEcadGFPEx1hetero_29_mov3/3DResults/%s_40x_bin1_05_5min_3_w2CSU-488_s4_t76.tif\n"
     ]
    },
    {
     "name": "stderr",
     "output_type": "stream",
     "text": [
      "100%|██████████| 64/64 [03:23<00:00,  2.64s/it]  \n"
     ]
    },
    {
     "name": "stdout",
     "output_type": "stream",
     "text": [
      "Saving file/data/u934/service_imagerie/v_kapoor/Fl4-2-Var/forFOLDERFutureRestoration/AzotKO_ubiEcadGFPEx1hetero_29_mov3/3DResults/%s_40x_bin1_05_5min_3_w2CSU-488_s5_t171.tif\n"
     ]
    },
    {
     "name": "stderr",
     "output_type": "stream",
     "text": [
      "100%|██████████| 64/64 [03:22<00:00,  2.64s/it]  \n"
     ]
    },
    {
     "name": "stdout",
     "output_type": "stream",
     "text": [
      "Saving file/data/u934/service_imagerie/v_kapoor/Fl4-2-Var/forFOLDERFutureRestoration/AzotKO_ubiEcadGFPEx1hetero_29_mov3/3DResults/%s_40x_bin1_05_5min_3_w2CSU-488_s2_t120.tif\n"
     ]
    },
    {
     "name": "stderr",
     "output_type": "stream",
     "text": [
      "100%|██████████| 64/64 [03:23<00:00,  2.66s/it]  \n"
     ]
    },
    {
     "name": "stdout",
     "output_type": "stream",
     "text": [
      "Saving file/data/u934/service_imagerie/v_kapoor/Fl4-2-Var/forFOLDERFutureRestoration/AzotKO_ubiEcadGFPEx1hetero_29_mov3/3DResults/%s_40x_bin1_05_5min_3_w2CSU-488_s6_t149.tif\n"
     ]
    },
    {
     "name": "stderr",
     "output_type": "stream",
     "text": [
      "100%|██████████| 64/64 [03:22<00:00,  2.63s/it]  \n"
     ]
    },
    {
     "name": "stdout",
     "output_type": "stream",
     "text": [
      "Saving file/data/u934/service_imagerie/v_kapoor/Fl4-2-Var/forFOLDERFutureRestoration/AzotKO_ubiEcadGFPEx1hetero_29_mov3/3DResults/%s_40x_bin1_05_5min_3_w2CSU-488_s1_t118.tif\n"
     ]
    },
    {
     "name": "stderr",
     "output_type": "stream",
     "text": [
      "100%|██████████| 64/64 [03:25<00:00,  2.69s/it]  \n"
     ]
    },
    {
     "name": "stdout",
     "output_type": "stream",
     "text": [
      "Saving file/data/u934/service_imagerie/v_kapoor/Fl4-2-Var/forFOLDERFutureRestoration/AzotKO_ubiEcadGFPEx1hetero_29_mov3/3DResults/%s_40x_bin1_05_5min_3_w2CSU-488_s1_t61.tif\n"
     ]
    },
    {
     "name": "stderr",
     "output_type": "stream",
     "text": [
      "100%|██████████| 64/64 [03:22<00:00,  2.64s/it]  \n"
     ]
    },
    {
     "name": "stdout",
     "output_type": "stream",
     "text": [
      "Saving file/data/u934/service_imagerie/v_kapoor/Fl4-2-Var/forFOLDERFutureRestoration/AzotKO_ubiEcadGFPEx1hetero_29_mov3/3DResults/%s_40x_bin1_05_5min_3_w2CSU-488_s2_t23.tif\n"
     ]
    },
    {
     "name": "stderr",
     "output_type": "stream",
     "text": [
      "100%|██████████| 64/64 [03:23<00:00,  2.66s/it]  \n"
     ]
    },
    {
     "name": "stdout",
     "output_type": "stream",
     "text": [
      "Saving file/data/u934/service_imagerie/v_kapoor/Fl4-2-Var/forFOLDERFutureRestoration/AzotKO_ubiEcadGFPEx1hetero_29_mov3/3DResults/%s_40x_bin1_05_5min_3_w2CSU-488_s4_t215.tif\n"
     ]
    },
    {
     "name": "stderr",
     "output_type": "stream",
     "text": [
      "100%|██████████| 64/64 [03:22<00:00,  2.64s/it]  \n"
     ]
    },
    {
     "name": "stdout",
     "output_type": "stream",
     "text": [
      "Saving file/data/u934/service_imagerie/v_kapoor/Fl4-2-Var/forFOLDERFutureRestoration/AzotKO_ubiEcadGFPEx1hetero_29_mov3/3DResults/%s_40x_bin1_05_5min_3_w2CSU-488_s3_t48.tif\n"
     ]
    },
    {
     "name": "stderr",
     "output_type": "stream",
     "text": [
      "100%|██████████| 64/64 [03:23<00:00,  2.65s/it]  \n"
     ]
    },
    {
     "name": "stdout",
     "output_type": "stream",
     "text": [
      "Saving file/data/u934/service_imagerie/v_kapoor/Fl4-2-Var/forFOLDERFutureRestoration/AzotKO_ubiEcadGFPEx1hetero_29_mov3/3DResults/%s_40x_bin1_05_5min_3_w2CSU-488_s3_t182.tif\n"
     ]
    },
    {
     "name": "stderr",
     "output_type": "stream",
     "text": [
      "100%|██████████| 64/64 [03:21<00:00,  2.63s/it]  \n"
     ]
    },
    {
     "name": "stdout",
     "output_type": "stream",
     "text": [
      "Saving file/data/u934/service_imagerie/v_kapoor/Fl4-2-Var/forFOLDERFutureRestoration/AzotKO_ubiEcadGFPEx1hetero_29_mov3/3DResults/%s_40x_bin1_05_5min_3_w2CSU-488_s4_t102.tif\n"
     ]
    },
    {
     "name": "stderr",
     "output_type": "stream",
     "text": [
      "100%|██████████| 64/64 [03:23<00:00,  2.65s/it]  \n"
     ]
    },
    {
     "name": "stdout",
     "output_type": "stream",
     "text": [
      "Saving file/data/u934/service_imagerie/v_kapoor/Fl4-2-Var/forFOLDERFutureRestoration/AzotKO_ubiEcadGFPEx1hetero_29_mov3/3DResults/%s_40x_bin1_05_5min_3_w2CSU-488_s3_t153.tif\n"
     ]
    },
    {
     "name": "stderr",
     "output_type": "stream",
     "text": [
      "100%|██████████| 64/64 [03:22<00:00,  2.65s/it]  \n"
     ]
    },
    {
     "name": "stdout",
     "output_type": "stream",
     "text": [
      "Saving file/data/u934/service_imagerie/v_kapoor/Fl4-2-Var/forFOLDERFutureRestoration/AzotKO_ubiEcadGFPEx1hetero_29_mov3/3DResults/%s_40x_bin1_05_5min_3_w2CSU-488_s3_t99.tif\n"
     ]
    },
    {
     "name": "stderr",
     "output_type": "stream",
     "text": [
      "100%|██████████| 64/64 [03:23<00:00,  2.65s/it]  \n"
     ]
    },
    {
     "name": "stdout",
     "output_type": "stream",
     "text": [
      "Saving file/data/u934/service_imagerie/v_kapoor/Fl4-2-Var/forFOLDERFutureRestoration/AzotKO_ubiEcadGFPEx1hetero_29_mov3/3DResults/%s_40x_bin1_05_5min_3_w2CSU-488_s4_t71.tif\n"
     ]
    },
    {
     "name": "stderr",
     "output_type": "stream",
     "text": [
      "100%|██████████| 64/64 [03:22<00:00,  2.65s/it]  \n"
     ]
    },
    {
     "name": "stdout",
     "output_type": "stream",
     "text": [
      "Saving file/data/u934/service_imagerie/v_kapoor/Fl4-2-Var/forFOLDERFutureRestoration/AzotKO_ubiEcadGFPEx1hetero_29_mov3/3DResults/%s_40x_bin1_05_5min_3_w2CSU-488_s2_t127.tif\n"
     ]
    },
    {
     "name": "stderr",
     "output_type": "stream",
     "text": [
      "100%|██████████| 64/64 [03:23<00:00,  2.65s/it]  \n"
     ]
    },
    {
     "name": "stdout",
     "output_type": "stream",
     "text": [
      "Saving file/data/u934/service_imagerie/v_kapoor/Fl4-2-Var/forFOLDERFutureRestoration/AzotKO_ubiEcadGFPEx1hetero_29_mov3/3DResults/%s_40x_bin1_05_5min_3_w2CSU-488_s1_t208.tif\n"
     ]
    },
    {
     "name": "stderr",
     "output_type": "stream",
     "text": [
      "100%|██████████| 64/64 [03:22<00:00,  2.63s/it]  \n"
     ]
    },
    {
     "name": "stdout",
     "output_type": "stream",
     "text": [
      "Saving file/data/u934/service_imagerie/v_kapoor/Fl4-2-Var/forFOLDERFutureRestoration/AzotKO_ubiEcadGFPEx1hetero_29_mov3/3DResults/%s_40x_bin1_05_5min_3_w2CSU-488_s5_t176.tif\n"
     ]
    },
    {
     "name": "stderr",
     "output_type": "stream",
     "text": [
      "100%|██████████| 64/64 [03:23<00:00,  2.65s/it]  \n"
     ]
    },
    {
     "name": "stdout",
     "output_type": "stream",
     "text": [
      "Saving file/data/u934/service_imagerie/v_kapoor/Fl4-2-Var/forFOLDERFutureRestoration/AzotKO_ubiEcadGFPEx1hetero_29_mov3/3DResults/%s_40x_bin1_05_5min_3_w2CSU-488_s1_t66.tif\n"
     ]
    },
    {
     "name": "stderr",
     "output_type": "stream",
     "text": [
      "100%|██████████| 64/64 [03:21<00:00,  2.66s/it]  \n"
     ]
    },
    {
     "name": "stdout",
     "output_type": "stream",
     "text": [
      "Saving file/data/u934/service_imagerie/v_kapoor/Fl4-2-Var/forFOLDERFutureRestoration/AzotKO_ubiEcadGFPEx1hetero_29_mov3/3DResults/%s_40x_bin1_05_5min_3_w2CSU-488_s2_t24.tif\n"
     ]
    },
    {
     "name": "stderr",
     "output_type": "stream",
     "text": [
      "100%|██████████| 64/64 [03:23<00:00,  2.66s/it]  \n"
     ]
    },
    {
     "name": "stdout",
     "output_type": "stream",
     "text": [
      "Saving file/data/u934/service_imagerie/v_kapoor/Fl4-2-Var/forFOLDERFutureRestoration/AzotKO_ubiEcadGFPEx1hetero_29_mov3/3DResults/%s_40x_bin1_05_5min_3_w2CSU-488_s4_t212.tif\n"
     ]
    },
    {
     "name": "stderr",
     "output_type": "stream",
     "text": [
      "100%|██████████| 64/64 [03:22<00:00,  2.66s/it]  \n"
     ]
    },
    {
     "name": "stdout",
     "output_type": "stream",
     "text": [
      "Saving file/data/u934/service_imagerie/v_kapoor/Fl4-2-Var/forFOLDERFutureRestoration/AzotKO_ubiEcadGFPEx1hetero_29_mov3/3DResults/%s_40x_bin1_05_5min_3_w2CSU-488_s3_t185.tif\n"
     ]
    },
    {
     "name": "stderr",
     "output_type": "stream",
     "text": [
      "100%|██████████| 64/64 [03:24<00:00,  2.69s/it]  \n"
     ]
    },
    {
     "name": "stdout",
     "output_type": "stream",
     "text": [
      "Saving file/data/u934/service_imagerie/v_kapoor/Fl4-2-Var/forFOLDERFutureRestoration/AzotKO_ubiEcadGFPEx1hetero_29_mov3/3DResults/%s_40x_bin1_05_5min_3_w2CSU-488_s6_t89.tif\n"
     ]
    },
    {
     "name": "stderr",
     "output_type": "stream",
     "text": [
      "100%|██████████| 64/64 [03:21<00:00,  2.63s/it]  \n"
     ]
    },
    {
     "name": "stdout",
     "output_type": "stream",
     "text": [
      "Saving file/data/u934/service_imagerie/v_kapoor/Fl4-2-Var/forFOLDERFutureRestoration/AzotKO_ubiEcadGFPEx1hetero_29_mov3/3DResults/%s_40x_bin1_05_5min_3_w2CSU-488_s6_t58.tif\n"
     ]
    },
    {
     "name": "stderr",
     "output_type": "stream",
     "text": [
      "100%|██████████| 64/64 [03:24<00:00,  2.67s/it]  \n"
     ]
    },
    {
     "name": "stdout",
     "output_type": "stream",
     "text": [
      "Saving file/data/u934/service_imagerie/v_kapoor/Fl4-2-Var/forFOLDERFutureRestoration/AzotKO_ubiEcadGFPEx1hetero_29_mov3/3DResults/%s_40x_bin1_05_5min_3_w2CSU-488_s3_t154.tif\n"
     ]
    },
    {
     "name": "stderr",
     "output_type": "stream",
     "text": [
      "100%|██████████| 64/64 [03:22<00:00,  2.64s/it]  \n"
     ]
    },
    {
     "name": "stdout",
     "output_type": "stream",
     "text": [
      "Saving file/data/u934/service_imagerie/v_kapoor/Fl4-2-Var/forFOLDERFutureRestoration/AzotKO_ubiEcadGFPEx1hetero_29_mov3/3DResults/%s_40x_bin1_05_5min_3_w2CSU-488_s4_t105.tif\n"
     ]
    },
    {
     "name": "stderr",
     "output_type": "stream",
     "text": [
      "100%|██████████| 64/64 [03:23<00:00,  2.66s/it]  \n"
     ]
    },
    {
     "name": "stdout",
     "output_type": "stream",
     "text": [
      "Saving file/data/u934/service_imagerie/v_kapoor/Fl4-2-Var/forFOLDERFutureRestoration/AzotKO_ubiEcadGFPEx1hetero_29_mov3/3DResults/%s_40x_bin1_05_5min_3_w2CSU-488_s5_t8.tif\n"
     ]
    },
    {
     "name": "stderr",
     "output_type": "stream",
     "text": [
      "100%|██████████| 64/64 [03:22<00:00,  2.63s/it]  \n"
     ]
    },
    {
     "name": "stdout",
     "output_type": "stream",
     "text": [
      "Saving file/data/u934/service_imagerie/v_kapoor/Fl4-2-Var/forFOLDERFutureRestoration/AzotKO_ubiEcadGFPEx1hetero_29_mov3/3DResults/%s_40x_bin1_05_5min_3_w2CSU-488_s2_t3.tif\n"
     ]
    },
    {
     "name": "stderr",
     "output_type": "stream",
     "text": [
      "100%|██████████| 64/64 [03:23<00:00,  2.66s/it]  \n"
     ]
    },
    {
     "name": "stdout",
     "output_type": "stream",
     "text": [
      "Saving file/data/u934/service_imagerie/v_kapoor/Fl4-2-Var/forFOLDERFutureRestoration/AzotKO_ubiEcadGFPEx1hetero_29_mov3/3DResults/%s_40x_bin1_05_5min_3_w2CSU-488_s2_t89.tif\n"
     ]
    },
    {
     "name": "stderr",
     "output_type": "stream",
     "text": [
      "100%|██████████| 64/64 [03:22<00:00,  2.63s/it]  \n"
     ]
    },
    {
     "name": "stdout",
     "output_type": "stream",
     "text": [
      "Saving file/data/u934/service_imagerie/v_kapoor/Fl4-2-Var/forFOLDERFutureRestoration/AzotKO_ubiEcadGFPEx1hetero_29_mov3/3DResults/%s_40x_bin1_05_5min_3_w2CSU-488_s6_t225.tif\n"
     ]
    },
    {
     "name": "stderr",
     "output_type": "stream",
     "text": [
      "100%|██████████| 64/64 [03:23<00:00,  2.66s/it]  \n"
     ]
    },
    {
     "name": "stdout",
     "output_type": "stream",
     "text": [
      "Saving file/data/u934/service_imagerie/v_kapoor/Fl4-2-Var/forFOLDERFutureRestoration/AzotKO_ubiEcadGFPEx1hetero_29_mov3/3DResults/%s_40x_bin1_05_5min_3_w2CSU-488_s2_t58.tif\n"
     ]
    },
    {
     "name": "stderr",
     "output_type": "stream",
     "text": [
      "100%|██████████| 64/64 [03:22<00:00,  2.64s/it]  \n"
     ]
    },
    {
     "name": "stdout",
     "output_type": "stream",
     "text": [
      "Saving file/data/u934/service_imagerie/v_kapoor/Fl4-2-Var/forFOLDERFutureRestoration/AzotKO_ubiEcadGFPEx1hetero_29_mov3/3DResults/%s_40x_bin1_05_5min_3_w2CSU-488_s6_t132.tif\n"
     ]
    },
    {
     "name": "stderr",
     "output_type": "stream",
     "text": [
      "100%|██████████| 64/64 [03:23<00:00,  2.66s/it]  \n"
     ]
    },
    {
     "name": "stdout",
     "output_type": "stream",
     "text": [
      "Saving file/data/u934/service_imagerie/v_kapoor/Fl4-2-Var/forFOLDERFutureRestoration/AzotKO_ubiEcadGFPEx1hetero_29_mov3/3DResults/%s_40x_bin1_05_5min_3_w2CSU-488_s1_t163.tif\n"
     ]
    },
    {
     "name": "stderr",
     "output_type": "stream",
     "text": [
      "100%|██████████| 64/64 [03:22<00:00,  2.63s/it]  \n"
     ]
    },
    {
     "name": "stdout",
     "output_type": "stream",
     "text": [
      "Saving file/data/u934/service_imagerie/v_kapoor/Fl4-2-Var/forFOLDERFutureRestoration/AzotKO_ubiEcadGFPEx1hetero_29_mov3/3DResults/%s_40x_bin1_05_5min_3_w2CSU-488_s3_t33.tif\n"
     ]
    },
    {
     "name": "stderr",
     "output_type": "stream",
     "text": [
      "100%|██████████| 64/64 [03:25<00:00,  2.71s/it]  \n"
     ]
    },
    {
     "name": "stdout",
     "output_type": "stream",
     "text": [
      "Saving file/data/u934/service_imagerie/v_kapoor/Fl4-2-Var/forFOLDERFutureRestoration/AzotKO_ubiEcadGFPEx1hetero_29_mov3/3DResults/%s_40x_bin1_05_5min_3_w2CSU-488_s6_t24.tif\n"
     ]
    },
    {
     "name": "stderr",
     "output_type": "stream",
     "text": [
      "100%|██████████| 64/64 [03:22<00:00,  2.64s/it] \n"
     ]
    },
    {
     "name": "stdout",
     "output_type": "stream",
     "text": [
      "Saving file/data/u934/service_imagerie/v_kapoor/Fl4-2-Var/forFOLDERFutureRestoration/AzotKO_ubiEcadGFPEx1hetero_29_mov3/3DResults/%s_40x_bin1_05_5min_3_w2CSU-488_s4_t179.tif\n"
     ]
    },
    {
     "name": "stderr",
     "output_type": "stream",
     "text": [
      "100%|██████████| 64/64 [03:24<00:00,  2.69s/it]  \n"
     ]
    },
    {
     "name": "stdout",
     "output_type": "stream",
     "text": [
      "Saving file/data/u934/service_imagerie/v_kapoor/Fl4-2-Var/forFOLDERFutureRestoration/AzotKO_ubiEcadGFPEx1hetero_29_mov3/3DResults/%s_40x_bin1_05_5min_3_w2CSU-488_s3_t128.tif\n"
     ]
    },
    {
     "name": "stderr",
     "output_type": "stream",
     "text": [
      "100%|██████████| 64/64 [03:22<00:00,  2.66s/it]  \n"
     ]
    },
    {
     "name": "stdout",
     "output_type": "stream",
     "text": [
      "Saving file/data/u934/service_imagerie/v_kapoor/Fl4-2-Var/forFOLDERFutureRestoration/AzotKO_ubiEcadGFPEx1hetero_29_mov3/3DResults/%s_40x_bin1_05_5min_3_w2CSU-488_s5_t66.tif\n"
     ]
    },
    {
     "name": "stderr",
     "output_type": "stream",
     "text": [
      "100%|██████████| 64/64 [03:24<00:00,  2.69s/it]  \n"
     ]
    },
    {
     "name": "stdout",
     "output_type": "stream",
     "text": [
      "Saving file/data/u934/service_imagerie/v_kapoor/Fl4-2-Var/forFOLDERFutureRestoration/AzotKO_ubiEcadGFPEx1hetero_29_mov3/3DResults/%s_40x_bin1_05_5min_3_w2CSU-488_s6_t191.tif\n"
     ]
    },
    {
     "name": "stderr",
     "output_type": "stream",
     "text": [
      "100%|██████████| 64/64 [03:22<00:00,  2.63s/it]  \n"
     ]
    },
    {
     "name": "stdout",
     "output_type": "stream",
     "text": [
      "Saving file/data/u934/service_imagerie/v_kapoor/Fl4-2-Var/forFOLDERFutureRestoration/AzotKO_ubiEcadGFPEx1hetero_29_mov3/3DResults/%s_40x_bin1_05_5min_3_w2CSU-488_s2_t129.tif\n"
     ]
    },
    {
     "name": "stderr",
     "output_type": "stream",
     "text": [
      "100%|██████████| 64/64 [03:23<00:00,  2.66s/it]  \n"
     ]
    },
    {
     "name": "stdout",
     "output_type": "stream",
     "text": [
      "Saving file/data/u934/service_imagerie/v_kapoor/Fl4-2-Var/forFOLDERFutureRestoration/AzotKO_ubiEcadGFPEx1hetero_29_mov3/3DResults/%s_40x_bin1_05_5min_3_w2CSU-488_s5_t178.tif\n"
     ]
    },
    {
     "name": "stderr",
     "output_type": "stream",
     "text": [
      "100%|██████████| 64/64 [03:22<00:00,  2.64s/it]  \n"
     ]
    },
    {
     "name": "stdout",
     "output_type": "stream",
     "text": [
      "Saving file/data/u934/service_imagerie/v_kapoor/Fl4-2-Var/forFOLDERFutureRestoration/AzotKO_ubiEcadGFPEx1hetero_29_mov3/3DResults/%s_40x_bin1_05_5min_3_w2CSU-488_s1_t206.tif\n"
     ]
    },
    {
     "name": "stderr",
     "output_type": "stream",
     "text": [
      "100%|██████████| 64/64 [03:23<00:00,  2.66s/it]  \n"
     ]
    },
    {
     "name": "stdout",
     "output_type": "stream",
     "text": [
      "Saving file/data/u934/service_imagerie/v_kapoor/Fl4-2-Var/forFOLDERFutureRestoration/AzotKO_ubiEcadGFPEx1hetero_29_mov3/3DResults/%s_40x_bin1_05_5min_3_w2CSU-488_s1_t68.tif\n"
     ]
    },
    {
     "name": "stderr",
     "output_type": "stream",
     "text": [
      "100%|██████████| 64/64 [03:23<00:00,  2.63s/it]  \n"
     ]
    },
    {
     "name": "stdout",
     "output_type": "stream",
     "text": [
      "Saving file/data/u934/service_imagerie/v_kapoor/Fl4-2-Var/forFOLDERFutureRestoration/AzotKO_ubiEcadGFPEx1hetero_29_mov3/3DResults/%s_40x_bin1_05_5min_3_w2CSU-488_s1_t111.tif\n"
     ]
    },
    {
     "name": "stderr",
     "output_type": "stream",
     "text": [
      "100%|██████████| 64/64 [03:24<00:00,  2.66s/it]  \n"
     ]
    },
    {
     "name": "stdout",
     "output_type": "stream",
     "text": [
      "Saving file/data/u934/service_imagerie/v_kapoor/Fl4-2-Var/forFOLDERFutureRestoration/AzotKO_ubiEcadGFPEx1hetero_29_mov3/3DResults/%s_40x_bin1_05_5min_3_w2CSU-488_s6_t140.tif\n"
     ]
    },
    {
     "name": "stderr",
     "output_type": "stream",
     "text": [
      "100%|██████████| 64/64 [03:21<00:00,  2.63s/it]  \n"
     ]
    },
    {
     "name": "stdout",
     "output_type": "stream",
     "text": [
      "Saving file/data/u934/service_imagerie/v_kapoor/Fl4-2-Var/forFOLDERFutureRestoration/AzotKO_ubiEcadGFPEx1hetero_29_mov3/3DResults/%s_40x_bin1_05_5min_3_w2CSU-488_s3_t41.tif\n"
     ]
    },
    {
     "name": "stderr",
     "output_type": "stream",
     "text": [
      "100%|██████████| 64/64 [03:23<00:00,  2.66s/it]  \n"
     ]
    },
    {
     "name": "stdout",
     "output_type": "stream",
     "text": [
      "Saving file/data/u934/service_imagerie/v_kapoor/Fl4-2-Var/forFOLDERFutureRestoration/AzotKO_ubiEcadGFPEx1hetero_29_mov3/3DResults/%s_40x_bin1_05_5min_3_w2CSU-488_s6_t87.tif\n"
     ]
    },
    {
     "name": "stderr",
     "output_type": "stream",
     "text": [
      "100%|██████████| 64/64 [03:22<00:00,  2.63s/it]  \n"
     ]
    },
    {
     "name": "stdout",
     "output_type": "stream",
     "text": [
      "Saving file/data/u934/service_imagerie/v_kapoor/Fl4-2-Var/forFOLDERFutureRestoration/AzotKO_ubiEcadGFPEx1hetero_29_mov3/3DResults/%s_40x_bin1_05_5min_3_w2CSU-488_s6_t56.tif\n"
     ]
    },
    {
     "name": "stderr",
     "output_type": "stream",
     "text": [
      "100%|██████████| 64/64 [03:24<00:00,  2.66s/it]  \n"
     ]
    },
    {
     "name": "stdout",
     "output_type": "stream",
     "text": [
      "Saving file/data/u934/service_imagerie/v_kapoor/Fl4-2-Var/forFOLDERFutureRestoration/AzotKO_ubiEcadGFPEx1hetero_29_mov3/3DResults/%s_40x_bin1_05_5min_3_w2CSU-488_s5_t14.tif\n"
     ]
    },
    {
     "name": "stderr",
     "output_type": "stream",
     "text": [
      "100%|██████████| 64/64 [03:22<00:00,  2.65s/it]  \n"
     ]
    },
    {
     "name": "stdout",
     "output_type": "stream",
     "text": [
      "Saving file/data/u934/service_imagerie/v_kapoor/Fl4-2-Var/forFOLDERFutureRestoration/AzotKO_ubiEcadGFPEx1hetero_29_mov3/3DResults/%s_40x_bin1_05_5min_3_w2CSU-488_s3_t90.tif\n"
     ]
    },
    {
     "name": "stderr",
     "output_type": "stream",
     "text": [
      "100%|██████████| 64/64 [03:24<00:00,  2.66s/it]  \n"
     ]
    },
    {
     "name": "stdout",
     "output_type": "stream",
     "text": [
      "Saving file/data/u934/service_imagerie/v_kapoor/Fl4-2-Var/forFOLDERFutureRestoration/AzotKO_ubiEcadGFPEx1hetero_29_mov3/3DResults/%s_40x_bin1_05_5min_3_w2CSU-488_s2_t87.tif\n"
     ]
    },
    {
     "name": "stderr",
     "output_type": "stream",
     "text": [
      "100%|██████████| 64/64 [03:22<00:00,  2.67s/it]  \n"
     ]
    },
    {
     "name": "stdout",
     "output_type": "stream",
     "text": [
      "Saving file/data/u934/service_imagerie/v_kapoor/Fl4-2-Var/forFOLDERFutureRestoration/AzotKO_ubiEcadGFPEx1hetero_29_mov3/3DResults/%s_40x_bin1_05_5min_3_w2CSU-488_s5_t6.tif\n"
     ]
    },
    {
     "name": "stderr",
     "output_type": "stream",
     "text": [
      "100%|██████████| 64/64 [03:24<00:00,  2.66s/it]  \n"
     ]
    },
    {
     "name": "stdout",
     "output_type": "stream",
     "text": [
      "Saving file/data/u934/service_imagerie/v_kapoor/Fl4-2-Var/forFOLDERFutureRestoration/AzotKO_ubiEcadGFPEx1hetero_29_mov3/3DResults/%s_40x_bin1_05_5min_3_w2CSU-488_s5_t104.tif\n"
     ]
    },
    {
     "name": "stderr",
     "output_type": "stream",
     "text": [
      "100%|██████████| 64/64 [03:21<00:00,  2.62s/it]  \n"
     ]
    },
    {
     "name": "stdout",
     "output_type": "stream",
     "text": [
      "Saving file/data/u934/service_imagerie/v_kapoor/Fl4-2-Var/forFOLDERFutureRestoration/AzotKO_ubiEcadGFPEx1hetero_29_mov3/3DResults/%s_40x_bin1_05_5min_3_w2CSU-488_s2_t155.tif\n"
     ]
    },
    {
     "name": "stderr",
     "output_type": "stream",
     "text": [
      "100%|██████████| 64/64 [03:24<00:00,  2.66s/it]  \n"
     ]
    },
    {
     "name": "stdout",
     "output_type": "stream",
     "text": [
      "Saving file/data/u934/service_imagerie/v_kapoor/Fl4-2-Var/forFOLDERFutureRestoration/AzotKO_ubiEcadGFPEx1hetero_29_mov3/3DResults/%s_40x_bin1_05_5min_3_w2CSU-488_s2_t184.tif\n"
     ]
    },
    {
     "name": "stderr",
     "output_type": "stream",
     "text": [
      "100%|██████████| 64/64 [03:22<00:00,  2.63s/it]  \n"
     ]
    },
    {
     "name": "stdout",
     "output_type": "stream",
     "text": [
      "Saving file/data/u934/service_imagerie/v_kapoor/Fl4-2-Var/forFOLDERFutureRestoration/AzotKO_ubiEcadGFPEx1hetero_29_mov3/3DResults/%s_40x_bin1_05_5min_3_w2CSU-488_s1_t14.tif\n"
     ]
    },
    {
     "name": "stderr",
     "output_type": "stream",
     "text": [
      "100%|██████████| 64/64 [03:24<00:00,  2.67s/it]  \n"
     ]
    },
    {
     "name": "stdout",
     "output_type": "stream",
     "text": [
      "Saving file/data/u934/service_imagerie/v_kapoor/Fl4-2-Var/forFOLDERFutureRestoration/AzotKO_ubiEcadGFPEx1hetero_29_mov3/3DResults/%s_40x_bin1_05_5min_3_w2CSU-488_s5_t213.tif\n"
     ]
    },
    {
     "name": "stderr",
     "output_type": "stream",
     "text": [
      "100%|██████████| 64/64 [03:23<00:00,  2.63s/it]  \n"
     ]
    },
    {
     "name": "stdout",
     "output_type": "stream",
     "text": [
      "Saving file/data/u934/service_imagerie/v_kapoor/Fl4-2-Var/forFOLDERFutureRestoration/AzotKO_ubiEcadGFPEx1hetero_29_mov3/3DResults/%s_40x_bin1_05_5min_3_w2CSU-488_s2_t56.tif\n"
     ]
    },
    {
     "name": "stderr",
     "output_type": "stream",
     "text": [
      "100%|██████████| 64/64 [03:24<00:00,  2.67s/it]  \n"
     ]
    },
    {
     "name": "stdout",
     "output_type": "stream",
     "text": [
      "Saving file/data/u934/service_imagerie/v_kapoor/Fl4-2-Var/forFOLDERFutureRestoration/AzotKO_ubiEcadGFPEx1hetero_29_mov3/3DResults/%s_40x_bin1_05_5min_3_w2CSU-488_s5_t68.tif\n"
     ]
    },
    {
     "name": "stderr",
     "output_type": "stream",
     "text": [
      "100%|██████████| 64/64 [03:22<00:00,  2.66s/it]  \n"
     ]
    },
    {
     "name": "stdout",
     "output_type": "stream",
     "text": [
      "Saving file/data/u934/service_imagerie/v_kapoor/Fl4-2-Var/forFOLDERFutureRestoration/AzotKO_ubiEcadGFPEx1hetero_29_mov3/3DResults/%s_40x_bin1_05_5min_3_w2CSU-488_s4_t177.tif\n"
     ]
    },
    {
     "name": "stderr",
     "output_type": "stream",
     "text": [
      "100%|██████████| 64/64 [03:25<00:00,  2.67s/it]  \n"
     ]
    },
    {
     "name": "stdout",
     "output_type": "stream",
     "text": [
      "Saving file/data/u934/service_imagerie/v_kapoor/Fl4-2-Var/forFOLDERFutureRestoration/AzotKO_ubiEcadGFPEx1hetero_29_mov3/3DResults/%s_40x_bin1_05_5min_3_w2CSU-488_s3_t126.tif\n"
     ]
    },
    {
     "name": "stderr",
     "output_type": "stream",
     "text": [
      "100%|██████████| 64/64 [03:21<00:00,  2.63s/it]  \n"
     ]
    },
    {
     "name": "stdout",
     "output_type": "stream",
     "text": [
      "Saving file/data/u934/service_imagerie/v_kapoor/Fl4-2-Var/forFOLDERFutureRestoration/AzotKO_ubiEcadGFPEx1hetero_29_mov3/3DResults/%s_40x_bin1_05_5min_3_w2CSU-488_s2_t80.tif\n"
     ]
    },
    {
     "name": "stderr",
     "output_type": "stream",
     "text": [
      "100%|██████████| 64/64 [03:23<00:00,  2.65s/it]  \n"
     ]
    },
    {
     "name": "stdout",
     "output_type": "stream",
     "text": [
      "Saving file/data/u934/service_imagerie/v_kapoor/Fl4-2-Var/forFOLDERFutureRestoration/AzotKO_ubiEcadGFPEx1hetero_29_mov3/3DResults/%s_40x_bin1_05_5min_3_w2CSU-488_s5_t1.tif\n"
     ]
    },
    {
     "name": "stderr",
     "output_type": "stream",
     "text": [
      "100%|██████████| 64/64 [03:22<00:00,  2.65s/it]  \n"
     ]
    },
    {
     "name": "stdout",
     "output_type": "stream",
     "text": [
      "Saving file/data/u934/service_imagerie/v_kapoor/Fl4-2-Var/forFOLDERFutureRestoration/AzotKO_ubiEcadGFPEx1hetero_29_mov3/3DResults/%s_40x_bin1_05_5min_3_w2CSU-488_s2_t152.tif\n"
     ]
    },
    {
     "name": "stderr",
     "output_type": "stream",
     "text": [
      "100%|██████████| 64/64 [03:24<00:00,  2.67s/it]  \n"
     ]
    },
    {
     "name": "stdout",
     "output_type": "stream",
     "text": [
      "Saving file/data/u934/service_imagerie/v_kapoor/Fl4-2-Var/forFOLDERFutureRestoration/AzotKO_ubiEcadGFPEx1hetero_29_mov3/3DResults/%s_40x_bin1_05_5min_3_w2CSU-488_s5_t103.tif\n"
     ]
    },
    {
     "name": "stderr",
     "output_type": "stream",
     "text": [
      "100%|██████████| 64/64 [03:22<00:00,  2.64s/it]  \n"
     ]
    },
    {
     "name": "stdout",
     "output_type": "stream",
     "text": [
      "Saving file/data/u934/service_imagerie/v_kapoor/Fl4-2-Var/forFOLDERFutureRestoration/AzotKO_ubiEcadGFPEx1hetero_29_mov3/3DResults/%s_40x_bin1_05_5min_3_w2CSU-488_s2_t183.tif\n"
     ]
    },
    {
     "name": "stderr",
     "output_type": "stream",
     "text": [
      "100%|██████████| 64/64 [03:25<00:00,  2.67s/it]  \n"
     ]
    },
    {
     "name": "stdout",
     "output_type": "stream",
     "text": [
      "Saving file/data/u934/service_imagerie/v_kapoor/Fl4-2-Var/forFOLDERFutureRestoration/AzotKO_ubiEcadGFPEx1hetero_29_mov3/3DResults/%s_40x_bin1_05_5min_3_w2CSU-488_s1_t13.tif\n"
     ]
    },
    {
     "name": "stderr",
     "output_type": "stream",
     "text": [
      "100%|██████████| 64/64 [03:23<00:00,  2.63s/it]  \n"
     ]
    },
    {
     "name": "stdout",
     "output_type": "stream",
     "text": [
      "Saving file/data/u934/service_imagerie/v_kapoor/Fl4-2-Var/forFOLDERFutureRestoration/AzotKO_ubiEcadGFPEx1hetero_29_mov3/3DResults/%s_40x_bin1_05_5min_3_w2CSU-488_s5_t214.tif\n"
     ]
    },
    {
     "name": "stderr",
     "output_type": "stream",
     "text": [
      "100%|██████████| 64/64 [03:23<00:00,  2.65s/it]  \n"
     ]
    },
    {
     "name": "stdout",
     "output_type": "stream",
     "text": [
      "Saving file/data/u934/service_imagerie/v_kapoor/Fl4-2-Var/forFOLDERFutureRestoration/AzotKO_ubiEcadGFPEx1hetero_29_mov3/3DResults/%s_40x_bin1_05_5min_3_w2CSU-488_s2_t51.tif\n"
     ]
    },
    {
     "name": "stderr",
     "output_type": "stream",
     "text": [
      "100%|██████████| 64/64 [03:22<00:00,  2.63s/it]  \n"
     ]
    },
    {
     "name": "stdout",
     "output_type": "stream",
     "text": [
      "Saving file/data/u934/service_imagerie/v_kapoor/Fl4-2-Var/forFOLDERFutureRestoration/AzotKO_ubiEcadGFPEx1hetero_29_mov3/3DResults/%s_40x_bin1_05_5min_3_w2CSU-488_s3_t121.tif\n"
     ]
    },
    {
     "name": "stderr",
     "output_type": "stream",
     "text": [
      "100%|██████████| 64/64 [03:24<00:00,  2.65s/it]  \n"
     ]
    },
    {
     "name": "stdout",
     "output_type": "stream",
     "text": [
      "Saving file/data/u934/service_imagerie/v_kapoor/Fl4-2-Var/forFOLDERFutureRestoration/AzotKO_ubiEcadGFPEx1hetero_29_mov3/3DResults/%s_40x_bin1_05_5min_3_w2CSU-488_s4_t170.tif\n"
     ]
    },
    {
     "name": "stderr",
     "output_type": "stream",
     "text": [
      "100%|██████████| 64/64 [03:23<00:00,  2.64s/it]  \n"
     ]
    },
    {
     "name": "stdout",
     "output_type": "stream",
     "text": [
      "Saving file/data/u934/service_imagerie/v_kapoor/Fl4-2-Var/forFOLDERFutureRestoration/AzotKO_ubiEcadGFPEx1hetero_29_mov3/3DResults/%s_40x_bin1_05_5min_3_w2CSU-488_s6_t196.tif\n"
     ]
    },
    {
     "name": "stderr",
     "output_type": "stream",
     "text": [
      "100%|██████████| 64/64 [03:24<00:00,  2.66s/it]  \n"
     ]
    },
    {
     "name": "stdout",
     "output_type": "stream",
     "text": [
      "Saving file/data/u934/service_imagerie/v_kapoor/Fl4-2-Var/forFOLDERFutureRestoration/AzotKO_ubiEcadGFPEx1hetero_29_mov3/3DResults/%s_40x_bin1_05_5min_3_w2CSU-488_s1_t201.tif\n"
     ]
    },
    {
     "name": "stderr",
     "output_type": "stream",
     "text": [
      "100%|██████████| 64/64 [03:23<00:00,  2.64s/it]  \n"
     ]
    },
    {
     "name": "stdout",
     "output_type": "stream",
     "text": [
      "Saving file/data/u934/service_imagerie/v_kapoor/Fl4-2-Var/forFOLDERFutureRestoration/AzotKO_ubiEcadGFPEx1hetero_29_mov3/3DResults/%s_40x_bin1_05_5min_3_w2CSU-488_s4_t78.tif\n"
     ]
    },
    {
     "name": "stderr",
     "output_type": "stream",
     "text": [
      "100%|██████████| 64/64 [03:24<00:00,  2.66s/it]  \n"
     ]
    },
    {
     "name": "stdout",
     "output_type": "stream",
     "text": [
      "Saving file/data/u934/service_imagerie/v_kapoor/Fl4-2-Var/forFOLDERFutureRestoration/AzotKO_ubiEcadGFPEx1hetero_29_mov3/3DResults/%s_40x_bin1_05_5min_3_w2CSU-488_s6_t147.tif\n"
     ]
    },
    {
     "name": "stderr",
     "output_type": "stream",
     "text": [
      "100%|██████████| 64/64 [03:23<00:00,  2.63s/it]  \n"
     ]
    },
    {
     "name": "stdout",
     "output_type": "stream",
     "text": [
      "Saving file/data/u934/service_imagerie/v_kapoor/Fl4-2-Var/forFOLDERFutureRestoration/AzotKO_ubiEcadGFPEx1hetero_29_mov3/3DResults/%s_40x_bin1_05_5min_3_w2CSU-488_s1_t116.tif\n"
     ]
    },
    {
     "name": "stderr",
     "output_type": "stream",
     "text": [
      "100%|██████████| 64/64 [03:23<00:00,  2.65s/it]  \n"
     ]
    },
    {
     "name": "stdout",
     "output_type": "stream",
     "text": [
      "Saving file/data/u934/service_imagerie/v_kapoor/Fl4-2-Var/forFOLDERFutureRestoration/AzotKO_ubiEcadGFPEx1hetero_29_mov3/3DResults/%s_40x_bin1_05_5min_3_w2CSU-488_s3_t46.tif\n"
     ]
    },
    {
     "name": "stderr",
     "output_type": "stream",
     "text": [
      "100%|██████████| 64/64 [03:23<00:00,  2.66s/it]  \n"
     ]
    },
    {
     "name": "stdout",
     "output_type": "stream",
     "text": [
      "Saving file/data/u934/service_imagerie/v_kapoor/Fl4-2-Var/forFOLDERFutureRestoration/AzotKO_ubiEcadGFPEx1hetero_29_mov3/3DResults/%s_40x_bin1_05_5min_3_w2CSU-488_s6_t80.tif\n"
     ]
    },
    {
     "name": "stderr",
     "output_type": "stream",
     "text": [
      "100%|██████████| 64/64 [03:24<00:00,  2.67s/it]  \n"
     ]
    },
    {
     "name": "stdout",
     "output_type": "stream",
     "text": [
      "Saving file/data/u934/service_imagerie/v_kapoor/Fl4-2-Var/forFOLDERFutureRestoration/AzotKO_ubiEcadGFPEx1hetero_29_mov3/3DResults/%s_40x_bin1_05_5min_3_w2CSU-488_s6_t51.tif\n"
     ]
    },
    {
     "name": "stderr",
     "output_type": "stream",
     "text": [
      "100%|██████████| 64/64 [03:21<00:00,  2.63s/it]  \n"
     ]
    },
    {
     "name": "stdout",
     "output_type": "stream",
     "text": [
      "Saving file/data/u934/service_imagerie/v_kapoor/Fl4-2-Var/forFOLDERFutureRestoration/AzotKO_ubiEcadGFPEx1hetero_29_mov3/3DResults/%s_40x_bin1_05_5min_3_w2CSU-488_s5_t13.tif\n"
     ]
    },
    {
     "name": "stderr",
     "output_type": "stream",
     "text": [
      "100%|██████████| 64/64 [03:22<00:00,  2.65s/it]  \n"
     ]
    },
    {
     "name": "stdout",
     "output_type": "stream",
     "text": [
      "Saving file/data/u934/service_imagerie/v_kapoor/Fl4-2-Var/forFOLDERFutureRestoration/AzotKO_ubiEcadGFPEx1hetero_29_mov3/3DResults/%s_40x_bin1_05_5min_3_w2CSU-488_s3_t97.tif\n"
     ]
    },
    {
     "name": "stderr",
     "output_type": "stream",
     "text": [
      "100%|██████████| 64/64 [03:21<00:00,  2.63s/it]  \n"
     ]
    },
    {
     "name": "stdout",
     "output_type": "stream",
     "text": [
      "Saving file/data/u934/service_imagerie/v_kapoor/Fl4-2-Var/forFOLDERFutureRestoration/AzotKO_ubiEcadGFPEx1hetero_29_mov3/3DResults/%s_40x_bin1_05_5min_3_w2CSU-488_s5_t221.tif\n"
     ]
    },
    {
     "name": "stderr",
     "output_type": "stream",
     "text": [
      "100%|██████████| 64/64 [03:25<00:00,  2.67s/it]  \n"
     ]
    },
    {
     "name": "stdout",
     "output_type": "stream",
     "text": [
      "Saving file/data/u934/service_imagerie/v_kapoor/Fl4-2-Var/forFOLDERFutureRestoration/AzotKO_ubiEcadGFPEx1hetero_29_mov3/3DResults/%s_40x_bin1_05_5min_3_w2CSU-488_s1_t26.tif\n"
     ]
    },
    {
     "name": "stderr",
     "output_type": "stream",
     "text": [
      "100%|██████████| 64/64 [03:22<00:00,  2.65s/it]  \n"
     ]
    },
    {
     "name": "stdout",
     "output_type": "stream",
     "text": [
      "Saving file/data/u934/service_imagerie/v_kapoor/Fl4-2-Var/forFOLDERFutureRestoration/AzotKO_ubiEcadGFPEx1hetero_29_mov3/3DResults/%s_40x_bin1_05_5min_3_w2CSU-488_s2_t64.tif\n"
     ]
    },
    {
     "name": "stderr",
     "output_type": "stream",
     "text": [
      "100%|██████████| 64/64 [03:23<00:00,  2.65s/it]  \n"
     ]
    },
    {
     "name": "stdout",
     "output_type": "stream",
     "text": [
      "Saving file/data/u934/service_imagerie/v_kapoor/Fl4-2-Var/forFOLDERFutureRestoration/AzotKO_ubiEcadGFPEx1hetero_29_mov3/3DResults/%s_40x_bin1_05_5min_3_w2CSU-488_s4_t31.tif\n"
     ]
    },
    {
     "name": "stderr",
     "output_type": "stream",
     "text": [
      "100%|██████████| 64/64 [03:22<00:00,  2.64s/it]  \n"
     ]
    },
    {
     "name": "stdout",
     "output_type": "stream",
     "text": [
      "Saving file/data/u934/service_imagerie/v_kapoor/Fl4-2-Var/forFOLDERFutureRestoration/AzotKO_ubiEcadGFPEx1hetero_29_mov3/3DResults/%s_40x_bin1_05_5min_3_w2CSU-488_s5_t136.tif\n"
     ]
    },
    {
     "name": "stderr",
     "output_type": "stream",
     "text": [
      "100%|██████████| 64/64 [03:24<00:00,  2.67s/it]  \n"
     ]
    },
    {
     "name": "stdout",
     "output_type": "stream",
     "text": [
      "Saving file/data/u934/service_imagerie/v_kapoor/Fl4-2-Var/forFOLDERFutureRestoration/AzotKO_ubiEcadGFPEx1hetero_29_mov3/3DResults/%s_40x_bin1_05_5min_3_w2CSU-488_s2_t167.tif\n"
     ]
    },
    {
     "name": "stderr",
     "output_type": "stream",
     "text": [
      "100%|██████████| 64/64 [03:22<00:00,  2.63s/it]  \n"
     ]
    },
    {
     "name": "stdout",
     "output_type": "stream",
     "text": [
      "Saving file/data/u934/service_imagerie/v_kapoor/Fl4-2-Var/forFOLDERFutureRestoration/AzotKO_ubiEcadGFPEx1hetero_29_mov3/3DResults/%s_40x_bin1_05_5min_3_w2CSU-488_s6_t219.tif\n"
     ]
    },
    {
     "name": "stderr",
     "output_type": "stream",
     "text": [
      "100%|██████████| 64/64 [03:23<00:00,  2.67s/it]  \n"
     ]
    },
    {
     "name": "stdout",
     "output_type": "stream",
     "text": [
      "Saving file/data/u934/service_imagerie/v_kapoor/Fl4-2-Var/forFOLDERFutureRestoration/AzotKO_ubiEcadGFPEx1hetero_29_mov3/3DResults/%s_40x_bin1_05_5min_3_w2CSU-488_s6_t18.tif\n"
     ]
    },
    {
     "name": "stderr",
     "output_type": "stream",
     "text": [
      "100%|██████████| 64/64 [03:22<00:00,  2.63s/it]  \n"
     ]
    },
    {
     "name": "stdout",
     "output_type": "stream",
     "text": [
      "Saving file/data/u934/service_imagerie/v_kapoor/Fl4-2-Var/forFOLDERFutureRestoration/AzotKO_ubiEcadGFPEx1hetero_29_mov3/3DResults/%s_40x_bin1_05_5min_3_w2CSU-488_s4_t145.tif\n"
     ]
    },
    {
     "name": "stderr",
     "output_type": "stream",
     "text": [
      "100%|██████████| 64/64 [03:24<00:00,  2.67s/it]  \n"
     ]
    },
    {
     "name": "stdout",
     "output_type": "stream",
     "text": [
      "Saving file/data/u934/service_imagerie/v_kapoor/Fl4-2-Var/forFOLDERFutureRestoration/AzotKO_ubiEcadGFPEx1hetero_29_mov3/3DResults/%s_40x_bin1_05_5min_3_w2CSU-488_s3_t114.tif\n"
     ]
    },
    {
     "name": "stderr",
     "output_type": "stream",
     "text": [
      "100%|██████████| 64/64 [03:22<00:00,  2.65s/it]  \n"
     ]
    },
    {
     "name": "stdout",
     "output_type": "stream",
     "text": [
      "Saving file/data/u934/service_imagerie/v_kapoor/Fl4-2-Var/forFOLDERFutureRestoration/AzotKO_ubiEcadGFPEx1hetero_29_mov3/3DResults/%s_40x_bin1_05_5min_3_w2CSU-488_s4_t194.tif\n"
     ]
    },
    {
     "name": "stderr",
     "output_type": "stream",
     "text": [
      "100%|██████████| 64/64 [03:23<00:00,  2.65s/it]  \n"
     ]
    },
    {
     "name": "stdout",
     "output_type": "stream",
     "text": [
      "Saving file/data/u934/service_imagerie/v_kapoor/Fl4-2-Var/forFOLDERFutureRestoration/AzotKO_ubiEcadGFPEx1hetero_29_mov3/3DResults/%s_40x_bin1_05_5min_3_w2CSU-488_s3_t203.tif\n"
     ]
    },
    {
     "name": "stderr",
     "output_type": "stream",
     "text": [
      "100%|██████████| 64/64 [03:21<00:00,  2.62s/it]  \n"
     ]
    },
    {
     "name": "stdout",
     "output_type": "stream",
     "text": [
      "Saving file/data/u934/service_imagerie/v_kapoor/Fl4-2-Var/forFOLDERFutureRestoration/AzotKO_ubiEcadGFPEx1hetero_29_mov3/3DResults/%s_40x_bin1_05_5min_3_w2CSU-488_s2_t18.tif\n"
     ]
    },
    {
     "name": "stderr",
     "output_type": "stream",
     "text": [
      "100%|██████████| 64/64 [03:23<00:00,  2.69s/it]  \n"
     ]
    },
    {
     "name": "stdout",
     "output_type": "stream",
     "text": [
      "Saving file/data/u934/service_imagerie/v_kapoor/Fl4-2-Var/forFOLDERFutureRestoration/AzotKO_ubiEcadGFPEx1hetero_29_mov3/3DResults/%s_40x_bin1_05_5min_3_w2CSU-488_s1_t123.tif\n"
     ]
    },
    {
     "name": "stderr",
     "output_type": "stream",
     "text": [
      "100%|██████████| 64/64 [03:21<00:00,  2.63s/it]  \n"
     ]
    },
    {
     "name": "stdout",
     "output_type": "stream",
     "text": [
      "Saving file/data/u934/service_imagerie/v_kapoor/Fl4-2-Var/forFOLDERFutureRestoration/AzotKO_ubiEcadGFPEx1hetero_29_mov3/3DResults/%s_40x_bin1_05_5min_3_w2CSU-488_s6_t172.tif\n"
     ]
    },
    {
     "name": "stderr",
     "output_type": "stream",
     "text": [
      "100%|██████████| 64/64 [03:23<00:00,  2.67s/it]  \n"
     ]
    },
    {
     "name": "stdout",
     "output_type": "stream",
     "text": [
      "Saving file/data/u934/service_imagerie/v_kapoor/Fl4-2-Var/forFOLDERFutureRestoration/AzotKO_ubiEcadGFPEx1hetero_29_mov3/3DResults/%s_40x_bin1_05_5min_3_w2CSU-488_s6_t64.tif\n"
     ]
    },
    {
     "name": "stderr",
     "output_type": "stream",
     "text": [
      "100%|██████████| 64/64 [03:22<00:00,  2.65s/it]  \n"
     ]
    },
    {
     "name": "stdout",
     "output_type": "stream",
     "text": [
      "Saving file/data/u934/service_imagerie/v_kapoor/Fl4-2-Var/forFOLDERFutureRestoration/AzotKO_ubiEcadGFPEx1hetero_29_mov3/3DResults/%s_40x_bin1_05_5min_3_w2CSU-488_s3_t168.tif\n"
     ]
    },
    {
     "name": "stderr",
     "output_type": "stream",
     "text": [
      "100%|██████████| 64/64 [03:24<00:00,  2.66s/it]  \n"
     ]
    },
    {
     "name": "stdout",
     "output_type": "stream",
     "text": [
      "Saving file/data/u934/service_imagerie/v_kapoor/Fl4-2-Var/forFOLDERFutureRestoration/AzotKO_ubiEcadGFPEx1hetero_29_mov3/3DResults/%s_40x_bin1_05_5min_3_w2CSU-488_s6_t5.tif\n"
     ]
    },
    {
     "name": "stderr",
     "output_type": "stream",
     "text": [
      "100%|██████████| 64/64 [03:21<00:00,  2.62s/it]  \n"
     ]
    },
    {
     "name": "stdout",
     "output_type": "stream",
     "text": [
      "Saving file/data/u934/service_imagerie/v_kapoor/Fl4-2-Var/forFOLDERFutureRestoration/AzotKO_ubiEcadGFPEx1hetero_29_mov3/3DResults/%s_40x_bin1_05_5min_3_w2CSU-488_s4_t139.tif\n"
     ]
    },
    {
     "name": "stderr",
     "output_type": "stream",
     "text": [
      "100%|██████████| 64/64 [03:23<00:00,  2.66s/it]  \n"
     ]
    },
    {
     "name": "stdout",
     "output_type": "stream",
     "text": [
      "Saving file/data/u934/service_imagerie/v_kapoor/Fl4-2-Var/forFOLDERFutureRestoration/AzotKO_ubiEcadGFPEx1hetero_29_mov3/3DResults/%s_40x_bin1_05_5min_3_w2CSU-488_s5_t26.tif\n"
     ]
    },
    {
     "name": "stderr",
     "output_type": "stream",
     "text": [
      "100%|██████████| 64/64 [03:22<00:00,  2.65s/it]  \n"
     ]
    },
    {
     "name": "stdout",
     "output_type": "stream",
     "text": [
      "Saving file/data/u934/service_imagerie/v_kapoor/Fl4-2-Var/forFOLDERFutureRestoration/AzotKO_ubiEcadGFPEx1hetero_29_mov3/3DResults/%s_40x_bin1_05_5min_3_w2CSU-488_s3_t73.tif\n"
     ]
    },
    {
     "name": "stderr",
     "output_type": "stream",
     "text": [
      "100%|██████████| 64/64 [03:23<00:00,  2.66s/it]  \n"
     ]
    },
    {
     "name": "stdout",
     "output_type": "stream",
     "text": [
      "Saving file/data/u934/service_imagerie/v_kapoor/Fl4-2-Var/forFOLDERFutureRestoration/AzotKO_ubiEcadGFPEx1hetero_29_mov3/3DResults/%s_40x_bin1_05_5min_3_w2CSU-488_s6_t175.tif\n"
     ]
    },
    {
     "name": "stderr",
     "output_type": "stream",
     "text": [
      "100%|██████████| 64/64 [03:22<00:00,  2.63s/it]  \n"
     ]
    },
    {
     "name": "stdout",
     "output_type": "stream",
     "text": [
      "Saving file/data/u934/service_imagerie/v_kapoor/Fl4-2-Var/forFOLDERFutureRestoration/AzotKO_ubiEcadGFPEx1hetero_29_mov3/3DResults/%s_40x_bin1_05_5min_3_w2CSU-488_s1_t124.tif\n"
     ]
    },
    {
     "name": "stderr",
     "output_type": "stream",
     "text": [
      "100%|██████████| 64/64 [03:24<00:00,  2.68s/it]  \n"
     ]
    },
    {
     "name": "stdout",
     "output_type": "stream",
     "text": [
      "Saving file/data/u934/service_imagerie/v_kapoor/Fl4-2-Var/forFOLDERFutureRestoration/AzotKO_ubiEcadGFPEx1hetero_29_mov3/3DResults/%s_40x_bin1_05_5min_3_w2CSU-488_s6_t2.tif\n"
     ]
    },
    {
     "name": "stderr",
     "output_type": "stream",
     "text": [
      "100%|██████████| 64/64 [03:22<00:00,  2.64s/it]  \n"
     ]
    },
    {
     "name": "stdout",
     "output_type": "stream",
     "text": [
      "Saving file/data/u934/service_imagerie/v_kapoor/Fl4-2-Var/forFOLDERFutureRestoration/AzotKO_ubiEcadGFPEx1hetero_29_mov3/3DResults/%s_40x_bin1_05_5min_3_w2CSU-488_s6_t63.tif\n"
     ]
    },
    {
     "name": "stderr",
     "output_type": "stream",
     "text": [
      "100%|██████████| 64/64 [03:24<00:00,  2.67s/it]  \n"
     ]
    },
    {
     "name": "stdout",
     "output_type": "stream",
     "text": [
      "Saving file/data/u934/service_imagerie/v_kapoor/Fl4-2-Var/forFOLDERFutureRestoration/AzotKO_ubiEcadGFPEx1hetero_29_mov3/3DResults/%s_40x_bin1_05_5min_3_w2CSU-488_s1_t9.tif\n"
     ]
    },
    {
     "name": "stderr",
     "output_type": "stream",
     "text": [
      "100%|██████████| 64/64 [03:22<00:00,  2.64s/it]  \n"
     ]
    },
    {
     "name": "stdout",
     "output_type": "stream",
     "text": [
      "Saving file/data/u934/service_imagerie/v_kapoor/Fl4-2-Var/forFOLDERFutureRestoration/AzotKO_ubiEcadGFPEx1hetero_29_mov3/3DResults/%s_40x_bin1_05_5min_3_w2CSU-488_s5_t21.tif\n"
     ]
    },
    {
     "name": "stderr",
     "output_type": "stream",
     "text": [
      "100%|██████████| 64/64 [03:24<00:00,  2.66s/it]  \n"
     ]
    },
    {
     "name": "stdout",
     "output_type": "stream",
     "text": [
      "Saving file/data/u934/service_imagerie/v_kapoor/Fl4-2-Var/forFOLDERFutureRestoration/AzotKO_ubiEcadGFPEx1hetero_29_mov3/3DResults/%s_40x_bin1_05_5min_3_w2CSU-488_s3_t74.tif\n"
     ]
    },
    {
     "name": "stderr",
     "output_type": "stream",
     "text": [
      "100%|██████████| 64/64 [03:21<00:00,  2.63s/it]  \n"
     ]
    },
    {
     "name": "stdout",
     "output_type": "stream",
     "text": [
      "Saving file/data/u934/service_imagerie/v_kapoor/Fl4-2-Var/forFOLDERFutureRestoration/AzotKO_ubiEcadGFPEx1hetero_29_mov3/3DResults/%s_40x_bin1_05_5min_3_w2CSU-488_s5_t226.tif\n"
     ]
    },
    {
     "name": "stderr",
     "output_type": "stream",
     "text": [
      "100%|██████████| 64/64 [03:24<00:00,  2.65s/it]  \n"
     ]
    },
    {
     "name": "stdout",
     "output_type": "stream",
     "text": [
      "Saving file/data/u934/service_imagerie/v_kapoor/Fl4-2-Var/forFOLDERFutureRestoration/AzotKO_ubiEcadGFPEx1hetero_29_mov3/3DResults/%s_40x_bin1_05_5min_3_w2CSU-488_s1_t21.tif\n"
     ]
    },
    {
     "name": "stderr",
     "output_type": "stream",
     "text": [
      "100%|██████████| 64/64 [03:23<00:00,  2.64s/it]  \n"
     ]
    },
    {
     "name": "stdout",
     "output_type": "stream",
     "text": [
      "Saving file/data/u934/service_imagerie/v_kapoor/Fl4-2-Var/forFOLDERFutureRestoration/AzotKO_ubiEcadGFPEx1hetero_29_mov3/3DResults/%s_40x_bin1_05_5min_3_w2CSU-488_s1_t158.tif\n"
     ]
    },
    {
     "name": "stderr",
     "output_type": "stream",
     "text": [
      "100%|██████████| 64/64 [03:24<00:00,  2.67s/it]  \n"
     ]
    },
    {
     "name": "stdout",
     "output_type": "stream",
     "text": [
      "Saving file/data/u934/service_imagerie/v_kapoor/Fl4-2-Var/forFOLDERFutureRestoration/AzotKO_ubiEcadGFPEx1hetero_29_mov3/3DResults/%s_40x_bin1_05_5min_3_w2CSU-488_s6_t109.tif\n"
     ]
    },
    {
     "name": "stderr",
     "output_type": "stream",
     "text": [
      "100%|██████████| 64/64 [03:22<00:00,  2.63s/it]  \n"
     ]
    },
    {
     "name": "stdout",
     "output_type": "stream",
     "text": [
      "Saving file/data/u934/service_imagerie/v_kapoor/Fl4-2-Var/forFOLDERFutureRestoration/AzotKO_ubiEcadGFPEx1hetero_29_mov3/3DResults/%s_40x_bin1_05_5min_3_w2CSU-488_s2_t63.tif\n"
     ]
    },
    {
     "name": "stderr",
     "output_type": "stream",
     "text": [
      "100%|██████████| 64/64 [03:23<00:00,  2.65s/it]  \n"
     ]
    },
    {
     "name": "stdout",
     "output_type": "stream",
     "text": [
      "Saving file/data/u934/service_imagerie/v_kapoor/Fl4-2-Var/forFOLDERFutureRestoration/AzotKO_ubiEcadGFPEx1hetero_29_mov3/3DResults/%s_40x_bin1_05_5min_3_w2CSU-488_s4_t36.tif\n"
     ]
    },
    {
     "name": "stderr",
     "output_type": "stream",
     "text": [
      "100%|██████████| 64/64 [03:21<00:00,  2.63s/it]  \n"
     ]
    },
    {
     "name": "stdout",
     "output_type": "stream",
     "text": [
      "Saving file/data/u934/service_imagerie/v_kapoor/Fl4-2-Var/forFOLDERFutureRestoration/AzotKO_ubiEcadGFPEx1hetero_29_mov3/3DResults/%s_40x_bin1_05_5min_3_w2CSU-488_s2_t160.tif\n"
     ]
    },
    {
     "name": "stderr",
     "output_type": "stream",
     "text": [
      "100%|██████████| 64/64 [03:24<00:00,  2.67s/it]  \n"
     ]
    },
    {
     "name": "stdout",
     "output_type": "stream",
     "text": [
      "Saving file/data/u934/service_imagerie/v_kapoor/Fl4-2-Var/forFOLDERFutureRestoration/AzotKO_ubiEcadGFPEx1hetero_29_mov3/3DResults/%s_40x_bin1_05_5min_3_w2CSU-488_s5_t131.tif\n"
     ]
    },
    {
     "name": "stderr",
     "output_type": "stream",
     "text": [
      "100%|██████████| 64/64 [03:22<00:00,  2.64s/it]  \n"
     ]
    },
    {
     "name": "stdout",
     "output_type": "stream",
     "text": [
      "Saving file/data/u934/service_imagerie/v_kapoor/Fl4-2-Var/forFOLDERFutureRestoration/AzotKO_ubiEcadGFPEx1hetero_29_mov3/3DResults/%s_40x_bin1_05_5min_3_w2CSU-488_s1_t189.tif\n"
     ]
    },
    {
     "name": "stderr",
     "output_type": "stream",
     "text": [
      "100%|██████████| 64/64 [03:24<00:00,  2.66s/it]  \n"
     ]
    },
    {
     "name": "stdout",
     "output_type": "stream",
     "text": [
      "Saving file/data/u934/service_imagerie/v_kapoor/Fl4-2-Var/forFOLDERFutureRestoration/AzotKO_ubiEcadGFPEx1hetero_29_mov3/3DResults/%s_40x_bin1_05_5min_3_w2CSU-488_s3_t113.tif\n"
     ]
    },
    {
     "name": "stderr",
     "output_type": "stream",
     "text": [
      "100%|██████████| 64/64 [03:22<00:00,  2.66s/it]  \n"
     ]
    },
    {
     "name": "stdout",
     "output_type": "stream",
     "text": [
      "Saving file/data/u934/service_imagerie/v_kapoor/Fl4-2-Var/forFOLDERFutureRestoration/AzotKO_ubiEcadGFPEx1hetero_29_mov3/3DResults/%s_40x_bin1_05_5min_3_w2CSU-488_s4_t142.tif\n"
     ]
    },
    {
     "name": "stderr",
     "output_type": "stream",
     "text": [
      "100%|██████████| 64/64 [03:23<00:00,  2.65s/it]  \n"
     ]
    },
    {
     "name": "stdout",
     "output_type": "stream",
     "text": [
      "Saving file/data/u934/service_imagerie/v_kapoor/Fl4-2-Var/forFOLDERFutureRestoration/AzotKO_ubiEcadGFPEx1hetero_29_mov3/3DResults/%s_40x_bin1_05_5min_3_w2CSU-488_s4_t193.tif\n"
     ]
    },
    {
     "name": "stderr",
     "output_type": "stream",
     "text": [
      "100%|██████████| 64/64 [03:23<00:00,  2.68s/it]  \n"
     ]
    },
    {
     "name": "stdout",
     "output_type": "stream",
     "text": [
      "Saving file/data/u934/service_imagerie/v_kapoor/Fl4-2-Var/forFOLDERFutureRestoration/AzotKO_ubiEcadGFPEx1hetero_29_mov3/3DResults/%s_40x_bin1_05_5min_3_w2CSU-488_s3_t204.tif\n"
     ]
    },
    {
     "name": "stderr",
     "output_type": "stream",
     "text": [
      "100%|██████████| 64/64 [03:24<00:00,  2.68s/it]  \n"
     ]
    },
    {
     "name": "stdout",
     "output_type": "stream",
     "text": [
      "Saving file/data/u934/service_imagerie/v_kapoor/Fl4-2-Var/forFOLDERFutureRestoration/AzotKO_ubiEcadGFPEx1hetero_29_mov3/3DResults/%s_40x_bin1_05_5min_3_w2CSU-488_s2_t205.tif\n"
     ]
    },
    {
     "name": "stderr",
     "output_type": "stream",
     "text": [
      "100%|██████████| 64/64 [03:23<00:00,  2.64s/it]  \n"
     ]
    },
    {
     "name": "stdout",
     "output_type": "stream",
     "text": [
      "Saving file/data/u934/service_imagerie/v_kapoor/Fl4-2-Var/forFOLDERFutureRestoration/AzotKO_ubiEcadGFPEx1hetero_29_mov3/3DResults/%s_40x_bin1_05_5min_3_w2CSU-488_s1_t53.tif\n"
     ]
    },
    {
     "name": "stderr",
     "output_type": "stream",
     "text": [
      "100%|██████████| 64/64 [03:23<00:00,  2.65s/it]  \n"
     ]
    },
    {
     "name": "stdout",
     "output_type": "stream",
     "text": [
      "Saving file/data/u934/service_imagerie/v_kapoor/Fl4-2-Var/forFOLDERFutureRestoration/AzotKO_ubiEcadGFPEx1hetero_29_mov3/3DResults/%s_40x_bin1_05_5min_3_w2CSU-488_s2_t11.tif\n"
     ]
    },
    {
     "name": "stderr",
     "output_type": "stream",
     "text": [
      "100%|██████████| 64/64 [03:22<00:00,  2.65s/it]  \n"
     ]
    },
    {
     "name": "stdout",
     "output_type": "stream",
     "text": [
      "Saving file/data/u934/service_imagerie/v_kapoor/Fl4-2-Var/forFOLDERFutureRestoration/AzotKO_ubiEcadGFPEx1hetero_29_mov3/3DResults/%s_40x_bin1_05_5min_3_w2CSU-488_s5_t192.tif\n"
     ]
    },
    {
     "name": "stderr",
     "output_type": "stream",
     "text": [
      "100%|██████████| 64/64 [03:23<00:00,  2.66s/it]  \n"
     ]
    },
    {
     "name": "stdout",
     "output_type": "stream",
     "text": [
      "Saving file/data/u934/service_imagerie/v_kapoor/Fl4-2-Var/forFOLDERFutureRestoration/AzotKO_ubiEcadGFPEx1hetero_29_mov3/3DResults/%s_40x_bin1_05_5min_3_w2CSU-488_s4_t95.tif\n"
     ]
    },
    {
     "name": "stderr",
     "output_type": "stream",
     "text": [
      "100%|██████████| 64/64 [03:21<00:00,  2.62s/it]  \n"
     ]
    },
    {
     "name": "stdout",
     "output_type": "stream",
     "text": [
      "Saving file/data/u934/service_imagerie/v_kapoor/Fl4-2-Var/forFOLDERFutureRestoration/AzotKO_ubiEcadGFPEx1hetero_29_mov3/3DResults/%s_40x_bin1_05_5min_3_w2CSU-488_s4_t44.tif\n"
     ]
    },
    {
     "name": "stderr",
     "output_type": "stream",
     "text": [
      "100%|██████████| 64/64 [03:24<00:00,  2.66s/it]  \n"
     ]
    },
    {
     "name": "stdout",
     "output_type": "stream",
     "text": [
      "Saving file/data/u934/service_imagerie/v_kapoor/Fl4-2-Var/forFOLDERFutureRestoration/AzotKO_ubiEcadGFPEx1hetero_29_mov3/3DResults/%s_40x_bin1_05_5min_3_w2CSU-488_s5_t143.tif\n"
     ]
    },
    {
     "name": "stderr",
     "output_type": "stream",
     "text": [
      "100%|██████████| 64/64 [03:21<00:00,  2.63s/it]  \n"
     ]
    },
    {
     "name": "stdout",
     "output_type": "stream",
     "text": [
      "Saving file/data/u934/service_imagerie/v_kapoor/Fl4-2-Var/forFOLDERFutureRestoration/AzotKO_ubiEcadGFPEx1hetero_29_mov3/3DResults/%s_40x_bin1_05_5min_3_w2CSU-488_s2_t112.tif\n"
     ]
    },
    {
     "name": "stderr",
     "output_type": "stream",
     "text": [
      "100%|██████████| 64/64 [03:24<00:00,  2.66s/it]  \n"
     ]
    },
    {
     "name": "stdout",
     "output_type": "stream",
     "text": [
      "Saving file/data/u934/service_imagerie/v_kapoor/Fl4-2-Var/forFOLDERFutureRestoration/AzotKO_ubiEcadGFPEx1hetero_29_mov3/3DResults/%s_40x_bin1_05_5min_3_w2CSU-488_s1_t82.tif\n"
     ]
    },
    {
     "name": "stderr",
     "output_type": "stream",
     "text": [
      "100%|██████████| 64/64 [03:22<00:00,  2.62s/it]  \n"
     ]
    },
    {
     "name": "stdout",
     "output_type": "stream",
     "text": [
      "Saving file/data/u934/service_imagerie/v_kapoor/Fl4-2-Var/forFOLDERFutureRestoration/AzotKO_ubiEcadGFPEx1hetero_29_mov3/3DResults/%s_40x_bin1_05_5min_3_w2CSU-488_s1_t7.tif\n"
     ]
    },
    {
     "name": "stderr",
     "output_type": "stream",
     "text": [
      "100%|██████████| 64/64 [03:23<00:00,  2.66s/it]  \n"
     ]
    },
    {
     "name": "stdout",
     "output_type": "stream",
     "text": [
      "Saving file/data/u934/service_imagerie/v_kapoor/Fl4-2-Var/forFOLDERFutureRestoration/AzotKO_ubiEcadGFPEx1hetero_29_mov3/3DResults/%s_40x_bin1_05_5min_3_w2CSU-488_s4_t130.tif\n"
     ]
    },
    {
     "name": "stderr",
     "output_type": "stream",
     "text": [
      "100%|██████████| 64/64 [03:22<00:00,  2.67s/it]  \n"
     ]
    },
    {
     "name": "stdout",
     "output_type": "stream",
     "text": [
      "Saving file/data/u934/service_imagerie/v_kapoor/Fl4-2-Var/forFOLDERFutureRestoration/AzotKO_ubiEcadGFPEx1hetero_29_mov3/3DResults/%s_40x_bin1_05_5min_3_w2CSU-488_s3_t161.tif\n"
     ]
    },
    {
     "name": "stderr",
     "output_type": "stream",
     "text": [
      "100%|██████████| 64/64 [03:24<00:00,  2.67s/it]  \n"
     ]
    },
    {
     "name": "stdout",
     "output_type": "stream",
     "text": [
      "Saving file/data/u934/service_imagerie/v_kapoor/Fl4-2-Var/forFOLDERFutureRestoration/AzotKO_ubiEcadGFPEx1hetero_29_mov3/3DResults/%s_40x_bin1_05_5min_3_w2CSU-488_s1_t156.tif\n"
     ]
    },
    {
     "name": "stderr",
     "output_type": "stream",
     "text": [
      "100%|██████████| 64/64 [03:22<00:00,  2.63s/it]  \n"
     ]
    },
    {
     "name": "stdout",
     "output_type": "stream",
     "text": [
      "Saving file/data/u934/service_imagerie/v_kapoor/Fl4-2-Var/forFOLDERFutureRestoration/AzotKO_ubiEcadGFPEx1hetero_29_mov3/3DResults/%s_40x_bin1_05_5min_3_w2CSU-488_s6_t107.tif\n"
     ]
    },
    {
     "name": "stderr",
     "output_type": "stream",
     "text": [
      "100%|██████████| 64/64 [03:23<00:00,  2.65s/it]  \n"
     ]
    },
    {
     "name": "stdout",
     "output_type": "stream",
     "text": [
      "Saving file/data/u934/service_imagerie/v_kapoor/Fl4-2-Var/forFOLDERFutureRestoration/AzotKO_ubiEcadGFPEx1hetero_29_mov3/3DResults/%s_40x_bin1_05_5min_3_w2CSU-488_s6_t210.tif\n"
     ]
    },
    {
     "name": "stderr",
     "output_type": "stream",
     "text": [
      "100%|██████████| 64/64 [03:23<00:00,  2.66s/it]  \n"
     ]
    },
    {
     "name": "stdout",
     "output_type": "stream",
     "text": [
      "Saving file/data/u934/service_imagerie/v_kapoor/Fl4-2-Var/forFOLDERFutureRestoration/AzotKO_ubiEcadGFPEx1hetero_29_mov3/3DResults/%s_40x_bin1_05_5min_3_w2CSU-488_s4_t38.tif\n"
     ]
    },
    {
     "name": "stderr",
     "output_type": "stream",
     "text": [
      "100%|██████████| 64/64 [03:24<00:00,  2.68s/it]  \n"
     ]
    },
    {
     "name": "stdout",
     "output_type": "stream",
     "text": [
      "Saving file/data/u934/service_imagerie/v_kapoor/Fl4-2-Var/forFOLDERFutureRestoration/AzotKO_ubiEcadGFPEx1hetero_29_mov3/3DResults/%s_40x_bin1_05_5min_3_w2CSU-488_s1_t187.tif\n"
     ]
    },
    {
     "name": "stderr",
     "output_type": "stream",
     "text": [
      "100%|██████████| 64/64 [03:22<00:00,  2.63s/it]  \n"
     ]
    },
    {
     "name": "stdout",
     "output_type": "stream",
     "text": [
      "Saving file/data/u934/service_imagerie/v_kapoor/Fl4-2-Var/forFOLDERFutureRestoration/AzotKO_ubiEcadGFPEx1hetero_29_mov3/3DResults/%s_40x_bin1_05_5min_3_w2CSU-488_s6_t11.tif\n"
     ]
    },
    {
     "name": "stderr",
     "output_type": "stream",
     "text": [
      "100%|██████████| 64/64 [03:24<00:00,  2.66s/it]  \n"
     ]
    },
    {
     "name": "stdout",
     "output_type": "stream",
     "text": [
      "Saving file/data/u934/service_imagerie/v_kapoor/Fl4-2-Var/forFOLDERFutureRestoration/AzotKO_ubiEcadGFPEx1hetero_29_mov3/3DResults/%s_40x_bin1_05_5min_3_w2CSU-488_s5_t53.tif\n"
     ]
    },
    {
     "name": "stderr",
     "output_type": "stream",
     "text": [
      "100%|██████████| 64/64 [03:22<00:00,  2.63s/it]  \n"
     ]
    },
    {
     "name": "stdout",
     "output_type": "stream",
     "text": [
      "Saving file/data/u934/service_imagerie/v_kapoor/Fl4-2-Var/forFOLDERFutureRestoration/AzotKO_ubiEcadGFPEx1hetero_29_mov3/3DResults/%s_40x_bin1_05_5min_3_w2CSU-488_s5_t82.tif\n"
     ]
    },
    {
     "name": "stderr",
     "output_type": "stream",
     "text": [
      "100%|██████████| 64/64 [03:23<00:00,  2.66s/it]  \n"
     ]
    },
    {
     "name": "stdout",
     "output_type": "stream",
     "text": [
      "Saving file/data/u934/service_imagerie/v_kapoor/Fl4-2-Var/forFOLDERFutureRestoration/AzotKO_ubiEcadGFPEx1hetero_29_mov3/3DResults/%s_40x_bin1_05_5min_3_w2CSU-488_s6_t100.tif\n"
     ]
    },
    {
     "name": "stderr",
     "output_type": "stream",
     "text": [
      "100%|██████████| 64/64 [03:22<00:00,  2.64s/it]  \n"
     ]
    },
    {
     "name": "stdout",
     "output_type": "stream",
     "text": [
      "Saving file/data/u934/service_imagerie/v_kapoor/Fl4-2-Var/forFOLDERFutureRestoration/AzotKO_ubiEcadGFPEx1hetero_29_mov3/3DResults/%s_40x_bin1_05_5min_3_w2CSU-488_s1_t151.tif\n"
     ]
    },
    {
     "name": "stderr",
     "output_type": "stream",
     "text": [
      "100%|██████████| 64/64 [03:23<00:00,  2.66s/it] \n"
     ]
    },
    {
     "name": "stdout",
     "output_type": "stream",
     "text": [
      "Saving file/data/u934/service_imagerie/v_kapoor/Fl4-2-Var/forFOLDERFutureRestoration/AzotKO_ubiEcadGFPEx1hetero_29_mov3/3DResults/%s_40x_bin1_05_5min_3_w2CSU-488_s1_t28.tif\n"
     ]
    },
    {
     "name": "stderr",
     "output_type": "stream",
     "text": [
      "100%|██████████| 64/64 [03:23<00:00,  2.65s/it]  \n"
     ]
    },
    {
     "name": "stdout",
     "output_type": "stream",
     "text": [
      "Saving file/data/u934/service_imagerie/v_kapoor/Fl4-2-Var/forFOLDERFutureRestoration/AzotKO_ubiEcadGFPEx1hetero_29_mov3/3DResults/%s_40x_bin1_05_5min_3_w2CSU-488_s5_t138.tif\n"
     ]
    },
    {
     "name": "stderr",
     "output_type": "stream",
     "text": [
      "100%|██████████| 64/64 [03:24<00:00,  2.67s/it]  \n"
     ]
    },
    {
     "name": "stdout",
     "output_type": "stream",
     "text": [
      "Saving file/data/u934/service_imagerie/v_kapoor/Fl4-2-Var/forFOLDERFutureRestoration/AzotKO_ubiEcadGFPEx1hetero_29_mov3/3DResults/%s_40x_bin1_05_5min_3_w2CSU-488_s6_t217.tif\n"
     ]
    },
    {
     "name": "stderr",
     "output_type": "stream",
     "text": [
      "100%|██████████| 64/64 [03:22<00:00,  2.67s/it]  \n"
     ]
    },
    {
     "name": "stdout",
     "output_type": "stream",
     "text": [
      "Saving file/data/u934/service_imagerie/v_kapoor/Fl4-2-Var/forFOLDERFutureRestoration/AzotKO_ubiEcadGFPEx1hetero_29_mov3/3DResults/%s_40x_bin1_05_5min_3_w2CSU-488_s2_t169.tif\n"
     ]
    },
    {
     "name": "stderr",
     "output_type": "stream",
     "text": [
      "100%|██████████| 64/64 [03:23<00:00,  2.65s/it]  \n"
     ]
    },
    {
     "name": "stdout",
     "output_type": "stream",
     "text": [
      "Saving file/data/u934/service_imagerie/v_kapoor/Fl4-2-Var/forFOLDERFutureRestoration/AzotKO_ubiEcadGFPEx1hetero_29_mov3/3DResults/%s_40x_bin1_05_5min_3_w2CSU-488_s1_t180.tif\n"
     ]
    },
    {
     "name": "stderr",
     "output_type": "stream",
     "text": [
      "100%|██████████| 64/64 [03:22<00:00,  2.66s/it]  \n"
     ]
    },
    {
     "name": "stdout",
     "output_type": "stream",
     "text": [
      "Saving file/data/u934/service_imagerie/v_kapoor/Fl4-2-Var/forFOLDERFutureRestoration/AzotKO_ubiEcadGFPEx1hetero_29_mov3/3DResults/%s_40x_bin1_05_5min_3_w2CSU-488_s6_t16.tif\n"
     ]
    },
    {
     "name": "stderr",
     "output_type": "stream",
     "text": [
      "100%|██████████| 64/64 [03:24<00:00,  2.66s/it]  \n"
     ]
    },
    {
     "name": "stdout",
     "output_type": "stream",
     "text": [
      "Saving file/data/u934/service_imagerie/v_kapoor/Fl4-2-Var/forFOLDERFutureRestoration/AzotKO_ubiEcadGFPEx1hetero_29_mov3/3DResults/%s_40x_bin1_05_5min_3_w2CSU-488_s5_t54.tif\n"
     ]
    },
    {
     "name": "stderr",
     "output_type": "stream",
     "text": [
      "100%|██████████| 64/64 [03:21<00:00,  2.65s/it]  \n"
     ]
    },
    {
     "name": "stdout",
     "output_type": "stream",
     "text": [
      "Saving file/data/u934/service_imagerie/v_kapoor/Fl4-2-Var/forFOLDERFutureRestoration/AzotKO_ubiEcadGFPEx1hetero_29_mov3/3DResults/%s_40x_bin1_05_5min_3_w2CSU-488_s5_t85.tif\n"
     ]
    },
    {
     "name": "stderr",
     "output_type": "stream",
     "text": [
      "100%|██████████| 64/64 [03:24<00:00,  2.65s/it]  \n"
     ]
    },
    {
     "name": "stdout",
     "output_type": "stream",
     "text": [
      "Saving file/data/u934/service_imagerie/v_kapoor/Fl4-2-Var/forFOLDERFutureRestoration/AzotKO_ubiEcadGFPEx1hetero_29_mov3/3DResults/%s_40x_bin1_05_5min_3_w2CSU-488_s1_t54.tif\n"
     ]
    },
    {
     "name": "stderr",
     "output_type": "stream",
     "text": [
      "100%|██████████| 64/64 [03:21<00:00,  2.63s/it]  \n"
     ]
    },
    {
     "name": "stdout",
     "output_type": "stream",
     "text": [
      "Saving file/data/u934/service_imagerie/v_kapoor/Fl4-2-Var/forFOLDERFutureRestoration/AzotKO_ubiEcadGFPEx1hetero_29_mov3/3DResults/%s_40x_bin1_05_5min_3_w2CSU-488_s2_t202.tif\n"
     ]
    },
    {
     "name": "stderr",
     "output_type": "stream",
     "text": [
      "100%|██████████| 64/64 [03:24<00:00,  2.66s/it]  \n"
     ]
    },
    {
     "name": "stdout",
     "output_type": "stream",
     "text": [
      "Saving file/data/u934/service_imagerie/v_kapoor/Fl4-2-Var/forFOLDERFutureRestoration/AzotKO_ubiEcadGFPEx1hetero_29_mov3/3DResults/%s_40x_bin1_05_5min_3_w2CSU-488_s2_t16.tif\n"
     ]
    },
    {
     "name": "stderr",
     "output_type": "stream",
     "text": [
      "100%|██████████| 64/64 [03:23<00:00,  2.64s/it]  \n"
     ]
    },
    {
     "name": "stdout",
     "output_type": "stream",
     "text": [
      "Saving file/data/u934/service_imagerie/v_kapoor/Fl4-2-Var/forFOLDERFutureRestoration/AzotKO_ubiEcadGFPEx1hetero_29_mov3/3DResults/%s_40x_bin1_05_5min_3_w2CSU-488_s5_t195.tif\n"
     ]
    },
    {
     "name": "stderr",
     "output_type": "stream",
     "text": [
      "100%|██████████| 64/64 [03:23<00:00,  2.65s/it]  \n"
     ]
    },
    {
     "name": "stdout",
     "output_type": "stream",
     "text": [
      "Saving file/data/u934/service_imagerie/v_kapoor/Fl4-2-Var/forFOLDERFutureRestoration/AzotKO_ubiEcadGFPEx1hetero_29_mov3/3DResults/%s_40x_bin1_05_5min_3_w2CSU-488_s4_t92.tif\n"
     ]
    },
    {
     "name": "stderr",
     "output_type": "stream",
     "text": [
      "100%|██████████| 64/64 [03:22<00:00,  2.64s/it]  \n"
     ]
    },
    {
     "name": "stdout",
     "output_type": "stream",
     "text": [
      "Saving file/data/u934/service_imagerie/v_kapoor/Fl4-2-Var/forFOLDERFutureRestoration/AzotKO_ubiEcadGFPEx1hetero_29_mov3/3DResults/%s_40x_bin1_05_5min_3_w2CSU-488_s4_t43.tif\n"
     ]
    },
    {
     "name": "stderr",
     "output_type": "stream",
     "text": [
      "100%|██████████| 64/64 [03:25<00:00,  2.67s/it]  \n"
     ]
    },
    {
     "name": "stdout",
     "output_type": "stream",
     "text": [
      "Saving file/data/u934/service_imagerie/v_kapoor/Fl4-2-Var/forFOLDERFutureRestoration/AzotKO_ubiEcadGFPEx1hetero_29_mov3/3DResults/%s_40x_bin1_05_5min_3_w2CSU-488_s2_t115.tif\n"
     ]
    },
    {
     "name": "stderr",
     "output_type": "stream",
     "text": [
      "100%|██████████| 64/64 [03:23<00:00,  2.66s/it]  \n"
     ]
    },
    {
     "name": "stdout",
     "output_type": "stream",
     "text": [
      "Saving file/data/u934/service_imagerie/v_kapoor/Fl4-2-Var/forFOLDERFutureRestoration/AzotKO_ubiEcadGFPEx1hetero_29_mov3/3DResults/%s_40x_bin1_05_5min_3_w2CSU-488_s5_t144.tif\n"
     ]
    },
    {
     "name": "stderr",
     "output_type": "stream",
     "text": [
      "100%|██████████| 64/64 [03:23<00:00,  2.65s/it]  \n"
     ]
    },
    {
     "name": "stdout",
     "output_type": "stream",
     "text": [
      "Saving file/data/u934/service_imagerie/v_kapoor/Fl4-2-Var/forFOLDERFutureRestoration/AzotKO_ubiEcadGFPEx1hetero_29_mov3/3DResults/%s_40x_bin1_05_5min_3_w2CSU-488_s1_t85.tif\n"
     ]
    },
    {
     "name": "stderr",
     "output_type": "stream",
     "text": [
      "100%|██████████| 64/64 [03:23<00:00,  2.67s/it]  \n"
     ]
    },
    {
     "name": "stdout",
     "output_type": "stream",
     "text": [
      "Saving file/data/u934/service_imagerie/v_kapoor/Fl4-2-Var/forFOLDERFutureRestoration/AzotKO_ubiEcadGFPEx1hetero_29_mov3/3DResults/%s_40x_bin1_05_5min_3_w2CSU-488_s5_t28.tif\n"
     ]
    },
    {
     "name": "stderr",
     "output_type": "stream",
     "text": [
      "100%|██████████| 64/64 [03:24<00:00,  2.66s/it]  \n"
     ]
    },
    {
     "name": "stdout",
     "output_type": "stream",
     "text": [
      "Saving file/data/u934/service_imagerie/v_kapoor/Fl4-2-Var/forFOLDERFutureRestoration/AzotKO_ubiEcadGFPEx1hetero_29_mov3/3DResults/%s_40x_bin1_05_5min_3_w2CSU-488_s3_t166.tif\n"
     ]
    },
    {
     "name": "stderr",
     "output_type": "stream",
     "text": [
      "100%|██████████| 64/64 [03:22<00:00,  2.63s/it]  \n"
     ]
    },
    {
     "name": "stdout",
     "output_type": "stream",
     "text": [
      "Saving file/data/u934/service_imagerie/v_kapoor/Fl4-2-Var/forFOLDERFutureRestoration/AzotKO_ubiEcadGFPEx1hetero_29_mov3/3DResults/%s_40x_bin1_05_5min_3_w2CSU-488_s4_t137.tif\n"
     ]
    },
    {
     "name": "stderr",
     "output_type": "stream",
     "text": [
      "100%|██████████| 64/64 [03:24<00:00,  2.66s/it]  \n"
     ]
    },
    {
     "name": "stdout",
     "output_type": "stream",
     "text": [
      "Saving file/data/u934/service_imagerie/v_kapoor/Fl4-2-Var/forFOLDERFutureRestoration/AzotKO_ubiEcadGFPEx1hetero_29_mov3/3DResults/%s_40x_bin1_05_5min_3_w2CSU-488_s4_t220.tif\n"
     ]
    },
    {
     "name": "stderr",
     "output_type": "stream",
     "text": [
      "100%|██████████| 64/64 [03:22<00:00,  2.65s/it]  \n"
     ]
    },
    {
     "name": "stdout",
     "output_type": "stream",
     "text": [
      "Saving file/data/u934/service_imagerie/v_kapoor/Fl4-2-Var/forFOLDERFutureRestoration/AzotKO_ubiEcadGFPEx1hetero_29_mov3/3DResults/%s_40x_bin1_05_5min_3_w2CSU-488_s5_t94.tif\n"
     ]
    },
    {
     "name": "stderr",
     "output_type": "stream",
     "text": [
      "100%|██████████| 64/64 [03:24<00:00,  2.69s/it]  \n"
     ]
    },
    {
     "name": "stdout",
     "output_type": "stream",
     "text": [
      "Saving file/data/u934/service_imagerie/v_kapoor/Fl4-2-Var/forFOLDERFutureRestoration/AzotKO_ubiEcadGFPEx1hetero_29_mov3/3DResults/%s_40x_bin1_05_5min_3_w2CSU-488_s3_t10.tif\n"
     ]
    },
    {
     "name": "stderr",
     "output_type": "stream",
     "text": [
      "100%|██████████| 64/64 [03:23<00:00,  2.66s/it]  \n"
     ]
    },
    {
     "name": "stdout",
     "output_type": "stream",
     "text": [
      "Saving file/data/u934/service_imagerie/v_kapoor/Fl4-2-Var/forFOLDERFutureRestoration/AzotKO_ubiEcadGFPEx1hetero_29_mov3/3DResults/%s_40x_bin1_05_5min_3_w2CSU-488_s5_t45.tif\n"
     ]
    },
    {
     "name": "stderr",
     "output_type": "stream",
     "text": [
      "100%|██████████| 64/64 [03:24<00:00,  2.65s/it]  \n"
     ]
    },
    {
     "name": "stdout",
     "output_type": "stream",
     "text": [
      "Saving file/data/u934/service_imagerie/v_kapoor/Fl4-2-Var/forFOLDERFutureRestoration/AzotKO_ubiEcadGFPEx1hetero_29_mov3/3DResults/%s_40x_bin1_05_5min_3_w2CSU-488_s6_t206.tif\n"
     ]
    },
    {
     "name": "stderr",
     "output_type": "stream",
     "text": [
      "100%|██████████| 64/64 [03:22<00:00,  2.63s/it]  \n"
     ]
    },
    {
     "name": "stdout",
     "output_type": "stream",
     "text": [
      "Saving file/data/u934/service_imagerie/v_kapoor/Fl4-2-Var/forFOLDERFutureRestoration/AzotKO_ubiEcadGFPEx1hetero_29_mov3/3DResults/%s_40x_bin1_05_5min_3_w2CSU-488_s2_t178.tif\n"
     ]
    },
    {
     "name": "stderr",
     "output_type": "stream",
     "text": [
      "100%|██████████| 64/64 [03:24<00:00,  2.67s/it]  \n"
     ]
    },
    {
     "name": "stdout",
     "output_type": "stream",
     "text": [
      "Saving file/data/u934/service_imagerie/v_kapoor/Fl4-2-Var/forFOLDERFutureRestoration/AzotKO_ubiEcadGFPEx1hetero_29_mov3/3DResults/%s_40x_bin1_05_5min_3_w2CSU-488_s5_t129.tif\n"
     ]
    },
    {
     "name": "stderr",
     "output_type": "stream",
     "text": [
      "100%|██████████| 64/64 [03:21<00:00,  2.63s/it]  \n"
     ]
    },
    {
     "name": "stdout",
     "output_type": "stream",
     "text": [
      "Saving file/data/u934/service_imagerie/v_kapoor/Fl4-2-Var/forFOLDERFutureRestoration/AzotKO_ubiEcadGFPEx1hetero_29_mov3/3DResults/%s_40x_bin1_05_5min_3_w2CSU-488_s1_t191.tif\n"
     ]
    },
    {
     "name": "stderr",
     "output_type": "stream",
     "text": [
      "100%|██████████| 64/64 [03:23<00:00,  2.65s/it]  \n"
     ]
    },
    {
     "name": "stdout",
     "output_type": "stream",
     "text": [
      "Saving file/data/u934/service_imagerie/v_kapoor/Fl4-2-Var/forFOLDERFutureRestoration/AzotKO_ubiEcadGFPEx1hetero_29_mov3/3DResults/%s_40x_bin1_05_5min_3_w2CSU-488_s1_t140.tif\n"
     ]
    },
    {
     "name": "stderr",
     "output_type": "stream",
     "text": [
      "100%|██████████| 64/64 [03:22<00:00,  2.64s/it]  \n"
     ]
    },
    {
     "name": "stdout",
     "output_type": "stream",
     "text": [
      "Saving file/data/u934/service_imagerie/v_kapoor/Fl4-2-Var/forFOLDERFutureRestoration/AzotKO_ubiEcadGFPEx1hetero_29_mov3/3DResults/%s_40x_bin1_05_5min_3_w2CSU-488_s1_t39.tif\n"
     ]
    },
    {
     "name": "stderr",
     "output_type": "stream",
     "text": [
      "100%|██████████| 64/64 [03:26<00:00,  2.70s/it]  \n"
     ]
    },
    {
     "name": "stdout",
     "output_type": "stream",
     "text": [
      "Saving file/data/u934/service_imagerie/v_kapoor/Fl4-2-Var/forFOLDERFutureRestoration/AzotKO_ubiEcadGFPEx1hetero_29_mov3/3DResults/%s_40x_bin1_05_5min_3_w2CSU-488_s6_t111.tif\n"
     ]
    },
    {
     "name": "stderr",
     "output_type": "stream",
     "text": [
      "100%|██████████| 64/64 [03:21<00:00,  2.63s/it]  \n"
     ]
    },
    {
     "name": "stdout",
     "output_type": "stream",
     "text": [
      "Saving file/data/u934/service_imagerie/v_kapoor/Fl4-2-Var/forFOLDERFutureRestoration/AzotKO_ubiEcadGFPEx1hetero_29_mov3/3DResults/%s_40x_bin1_05_5min_3_w2CSU-488_s4_t126.tif\n"
     ]
    },
    {
     "name": "stderr",
     "output_type": "stream",
     "text": [
      "100%|██████████| 64/64 [03:23<00:00,  2.65s/it]  \n"
     ]
    },
    {
     "name": "stdout",
     "output_type": "stream",
     "text": [
      "Saving file/data/u934/service_imagerie/v_kapoor/Fl4-2-Var/forFOLDERFutureRestoration/AzotKO_ubiEcadGFPEx1hetero_29_mov3/3DResults/%s_40x_bin1_05_5min_3_w2CSU-488_s3_t177.tif\n"
     ]
    },
    {
     "name": "stderr",
     "output_type": "stream",
     "text": [
      "100%|██████████| 64/64 [03:22<00:00,  2.63s/it]  \n"
     ]
    },
    {
     "name": "stdout",
     "output_type": "stream",
     "text": [
      "Saving file/data/u934/service_imagerie/v_kapoor/Fl4-2-Var/forFOLDERFutureRestoration/AzotKO_ubiEcadGFPEx1hetero_29_mov3/3DResults/%s_40x_bin1_05_5min_3_w2CSU-488_s5_t39.tif\n"
     ]
    },
    {
     "name": "stderr",
     "output_type": "stream",
     "text": [
      "100%|██████████| 64/64 [03:23<00:00,  2.66s/it]  \n"
     ]
    },
    {
     "name": "stdout",
     "output_type": "stream",
     "text": [
      "Saving file/data/u934/service_imagerie/v_kapoor/Fl4-2-Var/forFOLDERFutureRestoration/AzotKO_ubiEcadGFPEx1hetero_29_mov3/3DResults/%s_40x_bin1_05_5min_3_w2CSU-488_s5_t155.tif\n"
     ]
    },
    {
     "name": "stderr",
     "output_type": "stream",
     "text": [
      "100%|██████████| 64/64 [03:22<00:00,  2.65s/it]  \n"
     ]
    },
    {
     "name": "stdout",
     "output_type": "stream",
     "text": [
      "Saving file/data/u934/service_imagerie/v_kapoor/Fl4-2-Var/forFOLDERFutureRestoration/AzotKO_ubiEcadGFPEx1hetero_29_mov3/3DResults/%s_40x_bin1_05_5min_3_w2CSU-488_s2_t104.tif\n"
     ]
    },
    {
     "name": "stderr",
     "output_type": "stream",
     "text": [
      "100%|██████████| 64/64 [03:24<00:00,  2.66s/it]  \n"
     ]
    },
    {
     "name": "stdout",
     "output_type": "stream",
     "text": [
      "Saving file/data/u934/service_imagerie/v_kapoor/Fl4-2-Var/forFOLDERFutureRestoration/AzotKO_ubiEcadGFPEx1hetero_29_mov3/3DResults/%s_40x_bin1_05_5min_3_w2CSU-488_s4_t52.tif\n"
     ]
    },
    {
     "name": "stderr",
     "output_type": "stream",
     "text": [
      "100%|██████████| 64/64 [03:22<00:00,  2.63s/it]  \n"
     ]
    },
    {
     "name": "stdout",
     "output_type": "stream",
     "text": [
      "Saving file/data/u934/service_imagerie/v_kapoor/Fl4-2-Var/forFOLDERFutureRestoration/AzotKO_ubiEcadGFPEx1hetero_29_mov3/3DResults/%s_40x_bin1_05_5min_3_w2CSU-488_s1_t94.tif\n"
     ]
    },
    {
     "name": "stderr",
     "output_type": "stream",
     "text": [
      "100%|██████████| 64/64 [03:25<00:00,  2.67s/it]  \n"
     ]
    },
    {
     "name": "stdout",
     "output_type": "stream",
     "text": [
      "Saving file/data/u934/service_imagerie/v_kapoor/Fl4-2-Var/forFOLDERFutureRestoration/AzotKO_ubiEcadGFPEx1hetero_29_mov3/3DResults/%s_40x_bin1_05_5min_3_w2CSU-488_s2_t213.tif\n"
     ]
    },
    {
     "name": "stderr",
     "output_type": "stream",
     "text": [
      "100%|██████████| 64/64 [03:21<00:00,  2.62s/it]  \n"
     ]
    },
    {
     "name": "stdout",
     "output_type": "stream",
     "text": [
      "Saving file/data/u934/service_imagerie/v_kapoor/Fl4-2-Var/forFOLDERFutureRestoration/AzotKO_ubiEcadGFPEx1hetero_29_mov3/3DResults/%s_40x_bin1_05_5min_3_w2CSU-488_s1_t45.tif\n"
     ]
    },
    {
     "name": "stderr",
     "output_type": "stream",
     "text": [
      "100%|██████████| 64/64 [03:22<00:00,  2.66s/it]  \n"
     ]
    },
    {
     "name": "stdout",
     "output_type": "stream",
     "text": [
      "Saving file/data/u934/service_imagerie/v_kapoor/Fl4-2-Var/forFOLDERFutureRestoration/AzotKO_ubiEcadGFPEx1hetero_29_mov3/3DResults/%s_40x_bin1_05_5min_3_w2CSU-488_s4_t83.tif\n"
     ]
    },
    {
     "name": "stderr",
     "output_type": "stream",
     "text": [
      "100%|██████████| 64/64 [03:22<00:00,  2.63s/it]  \n"
     ]
    },
    {
     "name": "stdout",
     "output_type": "stream",
     "text": [
      "Saving file/data/u934/service_imagerie/v_kapoor/Fl4-2-Var/forFOLDERFutureRestoration/AzotKO_ubiEcadGFPEx1hetero_29_mov3/3DResults/%s_40x_bin1_05_5min_3_w2CSU-488_s5_t184.tif\n"
     ]
    },
    {
     "name": "stderr",
     "output_type": "stream",
     "text": [
      "100%|██████████| 64/64 [03:24<00:00,  2.70s/it]  \n"
     ]
    },
    {
     "name": "stdout",
     "output_type": "stream",
     "text": [
      "Saving file/data/u934/service_imagerie/v_kapoor/Fl4-2-Var/forFOLDERFutureRestoration/AzotKO_ubiEcadGFPEx1hetero_29_mov3/3DResults/%s_40x_bin1_05_5min_3_w2CSU-488_s3_t170.tif\n"
     ]
    },
    {
     "name": "stderr",
     "output_type": "stream",
     "text": [
      "100%|██████████| 64/64 [03:22<00:00,  2.65s/it]  \n"
     ]
    },
    {
     "name": "stdout",
     "output_type": "stream",
     "text": [
      "Saving file/data/u934/service_imagerie/v_kapoor/Fl4-2-Var/forFOLDERFutureRestoration/AzotKO_ubiEcadGFPEx1hetero_29_mov3/3DResults/%s_40x_bin1_05_5min_3_w2CSU-488_s4_t121.tif\n"
     ]
    },
    {
     "name": "stderr",
     "output_type": "stream",
     "text": [
      "100%|██████████| 64/64 [03:24<00:00,  2.66s/it]  \n"
     ]
    },
    {
     "name": "stdout",
     "output_type": "stream",
     "text": [
      "Saving file/data/u934/service_imagerie/v_kapoor/Fl4-2-Var/forFOLDERFutureRestoration/AzotKO_ubiEcadGFPEx1hetero_29_mov3/3DResults/%s_40x_bin1_05_5min_3_w2CSU-488_s2_t103.tif\n"
     ]
    },
    {
     "name": "stderr",
     "output_type": "stream",
     "text": [
      "100%|██████████| 64/64 [03:22<00:00,  2.63s/it]  \n"
     ]
    },
    {
     "name": "stdout",
     "output_type": "stream",
     "text": [
      "Saving file/data/u934/service_imagerie/v_kapoor/Fl4-2-Var/forFOLDERFutureRestoration/AzotKO_ubiEcadGFPEx1hetero_29_mov3/3DResults/%s_40x_bin1_05_5min_3_w2CSU-488_s5_t152.tif\n"
     ]
    },
    {
     "name": "stderr",
     "output_type": "stream",
     "text": [
      "100%|██████████| 64/64 [03:23<00:00,  2.65s/it]  \n"
     ]
    },
    {
     "name": "stdout",
     "output_type": "stream",
     "text": [
      "Saving file/data/u934/service_imagerie/v_kapoor/Fl4-2-Var/forFOLDERFutureRestoration/AzotKO_ubiEcadGFPEx1hetero_29_mov3/3DResults/%s_40x_bin1_05_5min_3_w2CSU-488_s4_t55.tif\n"
     ]
    },
    {
     "name": "stderr",
     "output_type": "stream",
     "text": [
      "100%|██████████| 64/64 [03:22<00:00,  2.64s/it]  \n"
     ]
    },
    {
     "name": "stdout",
     "output_type": "stream",
     "text": [
      "Saving file/data/u934/service_imagerie/v_kapoor/Fl4-2-Var/forFOLDERFutureRestoration/AzotKO_ubiEcadGFPEx1hetero_29_mov3/3DResults/%s_40x_bin1_05_5min_3_w2CSU-488_s1_t93.tif\n"
     ]
    },
    {
     "name": "stderr",
     "output_type": "stream",
     "text": [
      "100%|██████████| 64/64 [03:24<00:00,  2.71s/it]  \n"
     ]
    },
    {
     "name": "stdout",
     "output_type": "stream",
     "text": [
      "Saving file/data/u934/service_imagerie/v_kapoor/Fl4-2-Var/forFOLDERFutureRestoration/AzotKO_ubiEcadGFPEx1hetero_29_mov3/3DResults/%s_40x_bin1_05_5min_3_w2CSU-488_s1_t42.tif\n"
     ]
    },
    {
     "name": "stderr",
     "output_type": "stream",
     "text": [
      "100%|██████████| 64/64 [03:22<00:00,  2.63s/it]  \n"
     ]
    },
    {
     "name": "stdout",
     "output_type": "stream",
     "text": [
      "Saving file/data/u934/service_imagerie/v_kapoor/Fl4-2-Var/forFOLDERFutureRestoration/AzotKO_ubiEcadGFPEx1hetero_29_mov3/3DResults/%s_40x_bin1_05_5min_3_w2CSU-488_s2_t214.tif\n"
     ]
    },
    {
     "name": "stderr",
     "output_type": "stream",
     "text": [
      "100%|██████████| 64/64 [03:24<00:00,  2.66s/it]  \n"
     ]
    },
    {
     "name": "stdout",
     "output_type": "stream",
     "text": [
      "Saving file/data/u934/service_imagerie/v_kapoor/Fl4-2-Var/forFOLDERFutureRestoration/AzotKO_ubiEcadGFPEx1hetero_29_mov3/3DResults/%s_40x_bin1_05_5min_3_w2CSU-488_s4_t84.tif\n"
     ]
    },
    {
     "name": "stderr",
     "output_type": "stream",
     "text": [
      "100%|██████████| 64/64 [03:22<00:00,  2.63s/it]  \n"
     ]
    },
    {
     "name": "stdout",
     "output_type": "stream",
     "text": [
      "Saving file/data/u934/service_imagerie/v_kapoor/Fl4-2-Var/forFOLDERFutureRestoration/AzotKO_ubiEcadGFPEx1hetero_29_mov3/3DResults/%s_40x_bin1_05_5min_3_w2CSU-488_s5_t183.tif\n"
     ]
    },
    {
     "name": "stderr",
     "output_type": "stream",
     "text": [
      "100%|██████████| 64/64 [03:24<00:00,  2.69s/it]  \n"
     ]
    },
    {
     "name": "stdout",
     "output_type": "stream",
     "text": [
      "Saving file/data/u934/service_imagerie/v_kapoor/Fl4-2-Var/forFOLDERFutureRestoration/AzotKO_ubiEcadGFPEx1hetero_29_mov3/3DResults/%s_40x_bin1_05_5min_3_w2CSU-488_s5_t93.tif\n"
     ]
    },
    {
     "name": "stderr",
     "output_type": "stream",
     "text": [
      "100%|██████████| 64/64 [03:22<00:00,  2.64s/it]  \n"
     ]
    },
    {
     "name": "stdout",
     "output_type": "stream",
     "text": [
      "Saving file/data/u934/service_imagerie/v_kapoor/Fl4-2-Var/forFOLDERFutureRestoration/AzotKO_ubiEcadGFPEx1hetero_29_mov3/3DResults/%s_40x_bin1_05_5min_3_w2CSU-488_s3_t17.tif\n"
     ]
    },
    {
     "name": "stderr",
     "output_type": "stream",
     "text": [
      "100%|██████████| 64/64 [03:23<00:00,  2.65s/it]  \n"
     ]
    },
    {
     "name": "stdout",
     "output_type": "stream",
     "text": [
      "Saving file/data/u934/service_imagerie/v_kapoor/Fl4-2-Var/forFOLDERFutureRestoration/AzotKO_ubiEcadGFPEx1hetero_29_mov3/3DResults/%s_40x_bin1_05_5min_3_w2CSU-488_s5_t42.tif\n"
     ]
    },
    {
     "name": "stderr",
     "output_type": "stream",
     "text": [
      "100%|██████████| 64/64 [03:22<00:00,  2.63s/it]  \n"
     ]
    },
    {
     "name": "stdout",
     "output_type": "stream",
     "text": [
      "Saving file/data/u934/service_imagerie/v_kapoor/Fl4-2-Var/forFOLDERFutureRestoration/AzotKO_ubiEcadGFPEx1hetero_29_mov3/3DResults/%s_40x_bin1_05_5min_3_w2CSU-488_s4_t29.tif\n"
     ]
    },
    {
     "name": "stderr",
     "output_type": "stream",
     "text": [
      "100%|██████████| 64/64 [03:23<00:00,  2.66s/it]  \n"
     ]
    },
    {
     "name": "stdout",
     "output_type": "stream",
     "text": [
      "Saving file/data/u934/service_imagerie/v_kapoor/Fl4-2-Var/forFOLDERFutureRestoration/AzotKO_ubiEcadGFPEx1hetero_29_mov3/3DResults/%s_40x_bin1_05_5min_3_w2CSU-488_s6_t201.tif\n"
     ]
    },
    {
     "name": "stderr",
     "output_type": "stream",
     "text": [
      "100%|██████████| 64/64 [03:22<00:00,  2.64s/it]  \n"
     ]
    },
    {
     "name": "stdout",
     "output_type": "stream",
     "text": [
      "Saving file/data/u934/service_imagerie/v_kapoor/Fl4-2-Var/forFOLDERFutureRestoration/AzotKO_ubiEcadGFPEx1hetero_29_mov3/3DResults/%s_40x_bin1_05_5min_3_w2CSU-488_s1_t196.tif\n"
     ]
    },
    {
     "name": "stderr",
     "output_type": "stream",
     "text": [
      "100%|██████████| 64/64 [03:24<00:00,  2.69s/it]  \n"
     ]
    },
    {
     "name": "stdout",
     "output_type": "stream",
     "text": [
      "Saving file/data/u934/service_imagerie/v_kapoor/Fl4-2-Var/forFOLDERFutureRestoration/AzotKO_ubiEcadGFPEx1hetero_29_mov3/3DResults/%s_40x_bin1_05_5min_3_w2CSU-488_s6_t116.tif\n"
     ]
    },
    {
     "name": "stderr",
     "output_type": "stream",
     "text": [
      "100%|██████████| 64/64 [03:22<00:00,  2.63s/it]  \n"
     ]
    },
    {
     "name": "stdout",
     "output_type": "stream",
     "text": [
      "Saving file/data/u934/service_imagerie/v_kapoor/Fl4-2-Var/forFOLDERFutureRestoration/AzotKO_ubiEcadGFPEx1hetero_29_mov3/3DResults/%s_40x_bin1_05_5min_3_w2CSU-488_s1_t147.tif\n"
     ]
    },
    {
     "name": "stderr",
     "output_type": "stream",
     "text": [
      "100%|██████████| 64/64 [03:23<00:00,  2.65s/it]  \n"
     ]
    },
    {
     "name": "stdout",
     "output_type": "stream",
     "text": [
      "Saving file/data/u934/service_imagerie/v_kapoor/Fl4-2-Var/forFOLDERFutureRestoration/AzotKO_ubiEcadGFPEx1hetero_29_mov3/3DResults/%s_40x_bin1_05_5min_3_w2CSU-488_s3_t65.tif\n"
     ]
    },
    {
     "name": "stderr",
     "output_type": "stream",
     "text": [
      "100%|██████████| 64/64 [03:23<00:00,  2.65s/it]  \n"
     ]
    },
    {
     "name": "stdout",
     "output_type": "stream",
     "text": [
      "Saving file/data/u934/service_imagerie/v_kapoor/Fl4-2-Var/forFOLDERFutureRestoration/AzotKO_ubiEcadGFPEx1hetero_29_mov3/3DResults/%s_40x_bin1_05_5min_3_w2CSU-488_s5_t30.tif\n"
     ]
    },
    {
     "name": "stderr",
     "output_type": "stream",
     "text": [
      "100%|██████████| 64/64 [03:24<00:00,  2.69s/it]  \n"
     ]
    },
    {
     "name": "stdout",
     "output_type": "stream",
     "text": [
      "Saving file/data/u934/service_imagerie/v_kapoor/Fl4-2-Var/forFOLDERFutureRestoration/AzotKO_ubiEcadGFPEx1hetero_29_mov3/3DResults/%s_40x_bin1_05_5min_3_w2CSU-488_s6_t72.tif\n"
     ]
    },
    {
     "name": "stderr",
     "output_type": "stream",
     "text": [
      "100%|██████████| 64/64 [03:21<00:00,  2.63s/it]  \n"
     ]
    },
    {
     "name": "stdout",
     "output_type": "stream",
     "text": [
      "Saving file/data/u934/service_imagerie/v_kapoor/Fl4-2-Var/forFOLDERFutureRestoration/AzotKO_ubiEcadGFPEx1hetero_29_mov3/3DResults/%s_40x_bin1_05_5min_3_w2CSU-488_s1_t222.tif\n"
     ]
    },
    {
     "name": "stderr",
     "output_type": "stream",
     "text": [
      "100%|██████████| 64/64 [03:23<00:00,  2.67s/it]  \n"
     ]
    },
    {
     "name": "stdout",
     "output_type": "stream",
     "text": [
      "Saving file/data/u934/service_imagerie/v_kapoor/Fl4-2-Var/forFOLDERFutureRestoration/AzotKO_ubiEcadGFPEx1hetero_29_mov3/3DResults/%s_40x_bin1_05_5min_3_w2CSU-488_s1_t135.tif\n"
     ]
    },
    {
     "name": "stderr",
     "output_type": "stream",
     "text": [
      "100%|██████████| 64/64 [03:21<00:00,  2.62s/it]  \n"
     ]
    },
    {
     "name": "stdout",
     "output_type": "stream",
     "text": [
      "Saving file/data/u934/service_imagerie/v_kapoor/Fl4-2-Var/forFOLDERFutureRestoration/AzotKO_ubiEcadGFPEx1hetero_29_mov3/3DResults/%s_40x_bin1_05_5min_3_w2CSU-488_s6_t164.tif\n"
     ]
    },
    {
     "name": "stderr",
     "output_type": "stream",
     "text": [
      "100%|██████████| 64/64 [03:23<00:00,  2.64s/it]  \n"
     ]
    },
    {
     "name": "stdout",
     "output_type": "stream",
     "text": [
      "Saving file/data/u934/service_imagerie/v_kapoor/Fl4-2-Var/forFOLDERFutureRestoration/AzotKO_ubiEcadGFPEx1hetero_29_mov3/3DResults/%s_40x_bin1_05_5min_3_w2CSU-488_s4_t182.tif\n"
     ]
    },
    {
     "name": "stderr",
     "output_type": "stream",
     "text": [
      "100%|██████████| 64/64 [03:22<00:00,  2.63s/it]  \n"
     ]
    },
    {
     "name": "stdout",
     "output_type": "stream",
     "text": [
      "Saving file/data/u934/service_imagerie/v_kapoor/Fl4-2-Var/forFOLDERFutureRestoration/AzotKO_ubiEcadGFPEx1hetero_29_mov3/3DResults/%s_40x_bin1_05_5min_3_w2CSU-488_s3_t19.tif\n"
     ]
    },
    {
     "name": "stderr",
     "output_type": "stream",
     "text": [
      "100%|██████████| 64/64 [03:24<00:00,  2.66s/it]  \n"
     ]
    },
    {
     "name": "stdout",
     "output_type": "stream",
     "text": [
      "Saving file/data/u934/service_imagerie/v_kapoor/Fl4-2-Var/forFOLDERFutureRestoration/AzotKO_ubiEcadGFPEx1hetero_29_mov3/3DResults/%s_40x_bin1_05_5min_3_w2CSU-488_s3_t215.tif\n"
     ]
    },
    {
     "name": "stderr",
     "output_type": "stream",
     "text": [
      "100%|██████████| 64/64 [03:22<00:00,  2.64s/it]  \n"
     ]
    },
    {
     "name": "stdout",
     "output_type": "stream",
     "text": [
      "Saving file/data/u934/service_imagerie/v_kapoor/Fl4-2-Var/forFOLDERFutureRestoration/AzotKO_ubiEcadGFPEx1hetero_29_mov3/3DResults/%s_40x_bin1_05_5min_3_w2CSU-488_s4_t153.tif\n"
     ]
    },
    {
     "name": "stderr",
     "output_type": "stream",
     "text": [
      "100%|██████████| 64/64 [03:24<00:00,  2.69s/it]  \n"
     ]
    },
    {
     "name": "stdout",
     "output_type": "stream",
     "text": [
      "Saving file/data/u934/service_imagerie/v_kapoor/Fl4-2-Var/forFOLDERFutureRestoration/AzotKO_ubiEcadGFPEx1hetero_29_mov3/3DResults/%s_40x_bin1_05_5min_3_w2CSU-488_s3_t102.tif\n"
     ]
    },
    {
     "name": "stderr",
     "output_type": "stream",
     "text": [
      "100%|██████████| 64/64 [03:22<00:00,  2.63s/it]  \n"
     ]
    },
    {
     "name": "stdout",
     "output_type": "stream",
     "text": [
      "Saving file/data/u934/service_imagerie/v_kapoor/Fl4-2-Var/forFOLDERFutureRestoration/AzotKO_ubiEcadGFPEx1hetero_29_mov3/3DResults/%s_40x_bin1_05_5min_3_w2CSU-488_s5_t120.tif\n"
     ]
    },
    {
     "name": "stderr",
     "output_type": "stream",
     "text": [
      "100%|██████████| 64/64 [03:25<00:00,  2.67s/it]  \n"
     ]
    },
    {
     "name": "stdout",
     "output_type": "stream",
     "text": [
      "Saving file/data/u934/service_imagerie/v_kapoor/Fl4-2-Var/forFOLDERFutureRestoration/AzotKO_ubiEcadGFPEx1hetero_29_mov3/3DResults/%s_40x_bin1_05_5min_3_w2CSU-488_s2_t171.tif\n"
     ]
    },
    {
     "name": "stderr",
     "output_type": "stream",
     "text": [
      "100%|██████████| 64/64 [03:22<00:00,  2.62s/it]  \n"
     ]
    },
    {
     "name": "stdout",
     "output_type": "stream",
     "text": [
      "Saving file/data/u934/service_imagerie/v_kapoor/Fl4-2-Var/forFOLDERFutureRestoration/AzotKO_ubiEcadGFPEx1hetero_29_mov3/3DResults/%s_40x_bin1_05_5min_3_w2CSU-488_s4_t27.tif\n"
     ]
    },
    {
     "name": "stderr",
     "output_type": "stream",
     "text": [
      "100%|██████████| 64/64 [03:24<00:00,  2.69s/it]  \n"
     ]
    },
    {
     "name": "stdout",
     "output_type": "stream",
     "text": [
      "Saving file/data/u934/service_imagerie/v_kapoor/Fl4-2-Var/forFOLDERFutureRestoration/AzotKO_ubiEcadGFPEx1hetero_29_mov3/3DResults/%s_40x_bin1_05_5min_3_w2CSU-488_s1_t198.tif\n"
     ]
    },
    {
     "name": "stderr",
     "output_type": "stream",
     "text": [
      "100%|██████████| 64/64 [03:23<00:00,  2.65s/it]  \n"
     ]
    },
    {
     "name": "stdout",
     "output_type": "stream",
     "text": [
      "Saving file/data/u934/service_imagerie/v_kapoor/Fl4-2-Var/forFOLDERFutureRestoration/AzotKO_ubiEcadGFPEx1hetero_29_mov3/3DResults/%s_40x_bin1_05_5min_3_w2CSU-488_s2_t72.tif\n"
     ]
    },
    {
     "name": "stderr",
     "output_type": "stream",
     "text": [
      "100%|██████████| 64/64 [03:24<00:00,  2.68s/it]  \n"
     ]
    },
    {
     "name": "stdout",
     "output_type": "stream",
     "text": [
      "Saving file/data/u934/service_imagerie/v_kapoor/Fl4-2-Var/forFOLDERFutureRestoration/AzotKO_ubiEcadGFPEx1hetero_29_mov3/3DResults/%s_40x_bin1_05_5min_3_w2CSU-488_s6_t118.tif\n"
     ]
    },
    {
     "name": "stderr",
     "output_type": "stream",
     "text": [
      "100%|██████████| 64/64 [03:22<00:00,  2.63s/it]  \n"
     ]
    },
    {
     "name": "stdout",
     "output_type": "stream",
     "text": [
      "Saving file/data/u934/service_imagerie/v_kapoor/Fl4-2-Var/forFOLDERFutureRestoration/AzotKO_ubiEcadGFPEx1hetero_29_mov3/3DResults/%s_40x_bin1_05_5min_3_w2CSU-488_s1_t30.tif\n"
     ]
    },
    {
     "name": "stderr",
     "output_type": "stream",
     "text": [
      "100%|██████████| 64/64 [03:24<00:00,  2.69s/it]  \n"
     ]
    },
    {
     "name": "stdout",
     "output_type": "stream",
     "text": [
      "Saving file/data/u934/service_imagerie/v_kapoor/Fl4-2-Var/forFOLDERFutureRestoration/AzotKO_ubiEcadGFPEx1hetero_29_mov3/3DResults/%s_40x_bin1_05_5min_3_w2CSU-488_s1_t149.tif\n"
     ]
    },
    {
     "name": "stderr",
     "output_type": "stream",
     "text": [
      "100%|██████████| 64/64 [03:23<00:00,  2.65s/it]  \n"
     ]
    },
    {
     "name": "stdout",
     "output_type": "stream",
     "text": [
      "Saving file/data/u934/service_imagerie/v_kapoor/Fl4-2-Var/forFOLDERFutureRestoration/AzotKO_ubiEcadGFPEx1hetero_29_mov3/3DResults/%s_40x_bin1_05_5min_3_w2CSU-488_s4_t185.tif\n"
     ]
    },
    {
     "name": "stderr",
     "output_type": "stream",
     "text": [
      "100%|██████████| 64/64 [03:25<00:00,  2.69s/it]  \n"
     ]
    },
    {
     "name": "stdout",
     "output_type": "stream",
     "text": [
      "Saving file/data/u934/service_imagerie/v_kapoor/Fl4-2-Var/forFOLDERFutureRestoration/AzotKO_ubiEcadGFPEx1hetero_29_mov3/3DResults/%s_40x_bin1_05_5min_3_w2CSU-488_s3_t212.tif\n"
     ]
    },
    {
     "name": "stderr",
     "output_type": "stream",
     "text": [
      "100%|██████████| 64/64 [03:23<00:00,  2.63s/it]  \n"
     ]
    },
    {
     "name": "stdout",
     "output_type": "stream",
     "text": [
      "Saving file/data/u934/service_imagerie/v_kapoor/Fl4-2-Var/forFOLDERFutureRestoration/AzotKO_ubiEcadGFPEx1hetero_29_mov3/3DResults/%s_40x_bin1_05_5min_3_w2CSU-488_s3_t105.tif\n"
     ]
    },
    {
     "name": "stderr",
     "output_type": "stream",
     "text": [
      "100%|██████████| 64/64 [03:24<00:00,  2.68s/it]  \n"
     ]
    },
    {
     "name": "stdout",
     "output_type": "stream",
     "text": [
      "Saving file/data/u934/service_imagerie/v_kapoor/Fl4-2-Var/forFOLDERFutureRestoration/AzotKO_ubiEcadGFPEx1hetero_29_mov3/3DResults/%s_40x_bin1_05_5min_3_w2CSU-488_s4_t154.tif\n"
     ]
    },
    {
     "name": "stderr",
     "output_type": "stream",
     "text": [
      "100%|██████████| 64/64 [03:22<00:00,  2.63s/it]  \n"
     ]
    },
    {
     "name": "stdout",
     "output_type": "stream",
     "text": [
      "Saving file/data/u934/service_imagerie/v_kapoor/Fl4-2-Var/forFOLDERFutureRestoration/AzotKO_ubiEcadGFPEx1hetero_29_mov3/3DResults/%s_40x_bin1_05_5min_3_w2CSU-488_s2_t176.tif\n"
     ]
    },
    {
     "name": "stderr",
     "output_type": "stream",
     "text": [
      "100%|██████████| 64/64 [03:24<00:00,  2.67s/it]  \n"
     ]
    },
    {
     "name": "stdout",
     "output_type": "stream",
     "text": [
      "Saving file/data/u934/service_imagerie/v_kapoor/Fl4-2-Var/forFOLDERFutureRestoration/AzotKO_ubiEcadGFPEx1hetero_29_mov3/3DResults/%s_40x_bin1_05_5min_3_w2CSU-488_s6_t208.tif\n"
     ]
    },
    {
     "name": "stderr",
     "output_type": "stream",
     "text": [
      "100%|██████████| 64/64 [03:21<00:00,  2.64s/it]  \n"
     ]
    },
    {
     "name": "stdout",
     "output_type": "stream",
     "text": [
      "Saving file/data/u934/service_imagerie/v_kapoor/Fl4-2-Var/forFOLDERFutureRestoration/AzotKO_ubiEcadGFPEx1hetero_29_mov3/3DResults/%s_40x_bin1_05_5min_3_w2CSU-488_s5_t127.tif\n"
     ]
    },
    {
     "name": "stderr",
     "output_type": "stream",
     "text": [
      "100%|██████████| 64/64 [03:23<00:00,  2.65s/it]  \n"
     ]
    },
    {
     "name": "stdout",
     "output_type": "stream",
     "text": [
      "Saving file/data/u934/service_imagerie/v_kapoor/Fl4-2-Var/forFOLDERFutureRestoration/AzotKO_ubiEcadGFPEx1hetero_29_mov3/3DResults/%s_40x_bin1_05_5min_3_w2CSU-488_s4_t20.tif\n"
     ]
    },
    {
     "name": "stderr",
     "output_type": "stream",
     "text": [
      "100%|██████████| 64/64 [03:21<00:00,  2.63s/it]  \n"
     ]
    },
    {
     "name": "stdout",
     "output_type": "stream",
     "text": [
      "Saving file/data/u934/service_imagerie/v_kapoor/Fl4-2-Var/forFOLDERFutureRestoration/AzotKO_ubiEcadGFPEx1hetero_29_mov3/3DResults/%s_40x_bin1_05_5min_3_w2CSU-488_s2_t75.tif\n"
     ]
    },
    {
     "name": "stderr",
     "output_type": "stream",
     "text": [
      "100%|██████████| 64/64 [03:23<00:00,  2.67s/it]  \n"
     ]
    },
    {
     "name": "stdout",
     "output_type": "stream",
     "text": [
      "Saving file/data/u934/service_imagerie/v_kapoor/Fl4-2-Var/forFOLDERFutureRestoration/AzotKO_ubiEcadGFPEx1hetero_29_mov3/3DResults/%s_40x_bin1_05_5min_3_w2CSU-488_s1_t37.tif\n"
     ]
    },
    {
     "name": "stderr",
     "output_type": "stream",
     "text": [
      "100%|██████████| 64/64 [03:23<00:00,  2.63s/it]  \n"
     ]
    },
    {
     "name": "stdout",
     "output_type": "stream",
     "text": [
      "Saving file/data/u934/service_imagerie/v_kapoor/Fl4-2-Var/forFOLDERFutureRestoration/AzotKO_ubiEcadGFPEx1hetero_29_mov3/3DResults/%s_40x_bin1_05_5min_3_w2CSU-488_s3_t62.tif\n"
     ]
    },
    {
     "name": "stderr",
     "output_type": "stream",
     "text": [
      "100%|██████████| 64/64 [03:24<00:00,  2.68s/it]  \n"
     ]
    },
    {
     "name": "stdout",
     "output_type": "stream",
     "text": [
      "Saving file/data/u934/service_imagerie/v_kapoor/Fl4-2-Var/forFOLDERFutureRestoration/AzotKO_ubiEcadGFPEx1hetero_29_mov3/3DResults/%s_40x_bin1_05_5min_3_w2CSU-488_s5_t37.tif\n"
     ]
    },
    {
     "name": "stderr",
     "output_type": "stream",
     "text": [
      "100%|██████████| 64/64 [03:23<00:00,  2.64s/it]  \n"
     ]
    },
    {
     "name": "stdout",
     "output_type": "stream",
     "text": [
      "Saving file/data/u934/service_imagerie/v_kapoor/Fl4-2-Var/forFOLDERFutureRestoration/AzotKO_ubiEcadGFPEx1hetero_29_mov3/3DResults/%s_40x_bin1_05_5min_3_w2CSU-488_s6_t75.tif\n"
     ]
    },
    {
     "name": "stderr",
     "output_type": "stream",
     "text": [
      "100%|██████████| 64/64 [03:24<00:00,  2.68s/it]  \n"
     ]
    },
    {
     "name": "stdout",
     "output_type": "stream",
     "text": [
      "Saving file/data/u934/service_imagerie/v_kapoor/Fl4-2-Var/forFOLDERFutureRestoration/AzotKO_ubiEcadGFPEx1hetero_29_mov3/3DResults/%s_40x_bin1_05_5min_3_w2CSU-488_s4_t128.tif\n"
     ]
    },
    {
     "name": "stderr",
     "output_type": "stream",
     "text": [
      "100%|██████████| 64/64 [03:23<00:00,  2.65s/it]  \n"
     ]
    },
    {
     "name": "stdout",
     "output_type": "stream",
     "text": [
      "Saving file/data/u934/service_imagerie/v_kapoor/Fl4-2-Var/forFOLDERFutureRestoration/AzotKO_ubiEcadGFPEx1hetero_29_mov3/3DResults/%s_40x_bin1_05_5min_3_w2CSU-488_s3_t179.tif\n"
     ]
    },
    {
     "name": "stderr",
     "output_type": "stream",
     "text": [
      "100%|██████████| 64/64 [03:24<00:00,  2.68s/it]  \n"
     ]
    },
    {
     "name": "stdout",
     "output_type": "stream",
     "text": [
      "Saving file/data/u934/service_imagerie/v_kapoor/Fl4-2-Var/forFOLDERFutureRestoration/AzotKO_ubiEcadGFPEx1hetero_29_mov3/3DResults/%s_40x_bin1_05_5min_3_w2CSU-488_s1_t225.tif\n"
     ]
    },
    {
     "name": "stderr",
     "output_type": "stream",
     "text": [
      "100%|██████████| 64/64 [03:22<00:00,  2.65s/it]  \n"
     ]
    },
    {
     "name": "stdout",
     "output_type": "stream",
     "text": [
      "Saving file/data/u934/service_imagerie/v_kapoor/Fl4-2-Var/forFOLDERFutureRestoration/AzotKO_ubiEcadGFPEx1hetero_29_mov3/3DResults/%s_40x_bin1_05_5min_3_w2CSU-488_s6_t163.tif\n"
     ]
    },
    {
     "name": "stderr",
     "output_type": "stream",
     "text": [
      "100%|██████████| 64/64 [03:24<00:00,  2.69s/it]  \n"
     ]
    },
    {
     "name": "stdout",
     "output_type": "stream",
     "text": [
      "Saving file/data/u934/service_imagerie/v_kapoor/Fl4-2-Var/forFOLDERFutureRestoration/AzotKO_ubiEcadGFPEx1hetero_29_mov3/3DResults/%s_40x_bin1_05_5min_3_w2CSU-488_s1_t132.tif\n"
     ]
    },
    {
     "name": "stderr",
     "output_type": "stream",
     "text": [
      "100%|██████████| 64/64 [03:22<00:00,  2.63s/it]  \n"
     ]
    },
    {
     "name": "stdout",
     "output_type": "stream",
     "text": [
      "Saving file/data/u934/service_imagerie/v_kapoor/Fl4-2-Var/forFOLDERFutureRestoration/AzotKO_ubiEcadGFPEx1hetero_29_mov3/3DResults/%s_40x_bin1_05_5min_3_w2CSU-488_s4_t161.tif\n"
     ]
    },
    {
     "name": "stderr",
     "output_type": "stream",
     "text": [
      "100%|██████████| 64/64 [03:23<00:00,  2.66s/it]  \n"
     ]
    },
    {
     "name": "stdout",
     "output_type": "stream",
     "text": [
      "Saving file/data/u934/service_imagerie/v_kapoor/Fl4-2-Var/forFOLDERFutureRestoration/AzotKO_ubiEcadGFPEx1hetero_29_mov3/3DResults/%s_40x_bin1_05_5min_3_w2CSU-488_s3_t130.tif\n"
     ]
    },
    {
     "name": "stderr",
     "output_type": "stream",
     "text": [
      "100%|██████████| 64/64 [03:22<00:00,  2.63s/it]  \n"
     ]
    },
    {
     "name": "stdout",
     "output_type": "stream",
     "text": [
      "Saving file/data/u934/service_imagerie/v_kapoor/Fl4-2-Var/forFOLDERFutureRestoration/AzotKO_ubiEcadGFPEx1hetero_29_mov3/3DResults/%s_40x_bin1_05_5min_3_w2CSU-488_s2_t192.tif\n"
     ]
    },
    {
     "name": "stderr",
     "output_type": "stream",
     "text": [
      "100%|██████████| 64/64 [03:24<00:00,  2.66s/it]  \n"
     ]
    },
    {
     "name": "stdout",
     "output_type": "stream",
     "text": [
      "Saving file/data/u934/service_imagerie/v_kapoor/Fl4-2-Var/forFOLDERFutureRestoration/AzotKO_ubiEcadGFPEx1hetero_29_mov3/3DResults/%s_40x_bin1_05_5min_3_w2CSU-488_s2_t40.tif\n"
     ]
    },
    {
     "name": "stderr",
     "output_type": "stream",
     "text": [
      "100%|██████████| 64/64 [03:22<00:00,  2.64s/it]  \n"
     ]
    },
    {
     "name": "stdout",
     "output_type": "stream",
     "text": [
      "Saving file/data/u934/service_imagerie/v_kapoor/Fl4-2-Var/forFOLDERFutureRestoration/AzotKO_ubiEcadGFPEx1hetero_29_mov3/3DResults/%s_40x_bin1_05_5min_3_w2CSU-488_s5_t205.tif\n"
     ]
    },
    {
     "name": "stderr",
     "output_type": "stream",
     "text": [
      "100%|██████████| 64/64 [03:23<00:00,  2.67s/it]  \n"
     ]
    },
    {
     "name": "stdout",
     "output_type": "stream",
     "text": [
      "Saving file/data/u934/service_imagerie/v_kapoor/Fl4-2-Var/forFOLDERFutureRestoration/AzotKO_ubiEcadGFPEx1hetero_29_mov3/3DResults/%s_40x_bin1_05_5min_3_w2CSU-488_s2_t91.tif\n"
     ]
    },
    {
     "name": "stderr",
     "output_type": "stream",
     "text": [
      "100%|██████████| 64/64 [03:21<00:00,  2.64s/it]  \n"
     ]
    },
    {
     "name": "stdout",
     "output_type": "stream",
     "text": [
      "Saving file/data/u934/service_imagerie/v_kapoor/Fl4-2-Var/forFOLDERFutureRestoration/AzotKO_ubiEcadGFPEx1hetero_29_mov3/3DResults/%s_40x_bin1_05_5min_3_w2CSU-488_s5_t112.tif\n"
     ]
    },
    {
     "name": "stderr",
     "output_type": "stream",
     "text": [
      "100%|██████████| 64/64 [03:24<00:00,  2.66s/it]  \n"
     ]
    },
    {
     "name": "stdout",
     "output_type": "stream",
     "text": [
      "Saving file/data/u934/service_imagerie/v_kapoor/Fl4-2-Var/forFOLDERFutureRestoration/AzotKO_ubiEcadGFPEx1hetero_29_mov3/3DResults/%s_40x_bin1_05_5min_3_w2CSU-488_s2_t143.tif\n"
     ]
    },
    {
     "name": "stderr",
     "output_type": "stream",
     "text": [
      "100%|██████████| 64/64 [03:23<00:00,  2.63s/it]  \n"
     ]
    },
    {
     "name": "stdout",
     "output_type": "stream",
     "text": [
      "Saving file/data/u934/service_imagerie/v_kapoor/Fl4-2-Var/forFOLDERFutureRestoration/AzotKO_ubiEcadGFPEx1hetero_29_mov3/3DResults/%s_40x_bin1_05_5min_3_w2CSU-488_s4_t15.tif\n"
     ]
    },
    {
     "name": "stderr",
     "output_type": "stream",
     "text": [
      "100%|██████████| 64/64 [03:24<00:00,  2.67s/it]  \n"
     ]
    },
    {
     "name": "stdout",
     "output_type": "stream",
     "text": [
      "Saving file/data/u934/service_imagerie/v_kapoor/Fl4-2-Var/forFOLDERFutureRestoration/AzotKO_ubiEcadGFPEx1hetero_29_mov3/3DResults/%s_40x_bin1_05_5min_3_w2CSU-488_s6_t40.tif\n"
     ]
    },
    {
     "name": "stderr",
     "output_type": "stream",
     "text": [
      "100%|██████████| 64/64 [03:21<00:00,  2.63s/it]  \n"
     ]
    },
    {
     "name": "stdout",
     "output_type": "stream",
     "text": [
      "Saving file/data/u934/service_imagerie/v_kapoor/Fl4-2-Var/forFOLDERFutureRestoration/AzotKO_ubiEcadGFPEx1hetero_29_mov3/3DResults/%s_40x_bin1_05_5min_3_w2CSU-488_s3_t86.tif\n"
     ]
    },
    {
     "name": "stderr",
     "output_type": "stream",
     "text": [
      "100%|██████████| 64/64 [03:25<00:00,  2.68s/it]  \n"
     ]
    },
    {
     "name": "stdout",
     "output_type": "stream",
     "text": [
      "Saving file/data/u934/service_imagerie/v_kapoor/Fl4-2-Var/forFOLDERFutureRestoration/AzotKO_ubiEcadGFPEx1hetero_29_mov3/3DResults/%s_40x_bin1_05_5min_3_w2CSU-488_s3_t57.tif\n"
     ]
    },
    {
     "name": "stderr",
     "output_type": "stream",
     "text": [
      "100%|██████████| 64/64 [03:23<00:00,  2.63s/it]  \n"
     ]
    },
    {
     "name": "stdout",
     "output_type": "stream",
     "text": [
      "Saving file/data/u934/service_imagerie/v_kapoor/Fl4-2-Var/forFOLDERFutureRestoration/AzotKO_ubiEcadGFPEx1hetero_29_mov3/3DResults/%s_40x_bin1_05_5min_3_w2CSU-488_s3_t9.tif\n"
     ]
    },
    {
     "name": "stderr",
     "output_type": "stream",
     "text": [
      "100%|██████████| 64/64 [03:25<00:00,  2.68s/it]  \n"
     ]
    },
    {
     "name": "stdout",
     "output_type": "stream",
     "text": [
      "Saving file/data/u934/service_imagerie/v_kapoor/Fl4-2-Var/forFOLDERFutureRestoration/AzotKO_ubiEcadGFPEx1hetero_29_mov3/3DResults/%s_40x_bin1_05_5min_3_w2CSU-488_s6_t91.tif\n"
     ]
    },
    {
     "name": "stderr",
     "output_type": "stream",
     "text": [
      "100%|██████████| 64/64 [03:22<00:00,  2.68s/it]  \n"
     ]
    },
    {
     "name": "stdout",
     "output_type": "stream",
     "text": [
      "Saving file/data/u934/service_imagerie/v_kapoor/Fl4-2-Var/forFOLDERFutureRestoration/AzotKO_ubiEcadGFPEx1hetero_29_mov3/3DResults/%s_40x_bin1_05_5min_3_w2CSU-488_s4_t2.tif\n"
     ]
    },
    {
     "name": "stderr",
     "output_type": "stream",
     "text": [
      "100%|██████████| 64/64 [03:25<00:00,  2.67s/it]  \n"
     ]
    },
    {
     "name": "stdout",
     "output_type": "stream",
     "text": [
      "Saving file/data/u934/service_imagerie/v_kapoor/Fl4-2-Var/forFOLDERFutureRestoration/AzotKO_ubiEcadGFPEx1hetero_29_mov3/3DResults/%s_40x_bin1_05_5min_3_w2CSU-488_s1_t107.tif\n"
     ]
    },
    {
     "name": "stderr",
     "output_type": "stream",
     "text": [
      "100%|██████████| 64/64 [03:22<00:00,  2.61s/it]  \n"
     ]
    },
    {
     "name": "stdout",
     "output_type": "stream",
     "text": [
      "Saving file/data/u934/service_imagerie/v_kapoor/Fl4-2-Var/forFOLDERFutureRestoration/AzotKO_ubiEcadGFPEx1hetero_29_mov3/3DResults/%s_40x_bin1_05_5min_3_w2CSU-488_s6_t156.tif\n"
     ]
    },
    {
     "name": "stderr",
     "output_type": "stream",
     "text": [
      "100%|██████████| 64/64 [03:23<00:00,  2.65s/it]  \n"
     ]
    },
    {
     "name": "stdout",
     "output_type": "stream",
     "text": [
      "Saving file/data/u934/service_imagerie/v_kapoor/Fl4-2-Var/forFOLDERFutureRestoration/AzotKO_ubiEcadGFPEx1hetero_29_mov3/3DResults/%s_40x_bin1_05_5min_3_w2CSU-488_s6_t187.tif\n"
     ]
    },
    {
     "name": "stderr",
     "output_type": "stream",
     "text": [
      "100%|██████████| 64/64 [03:21<00:00,  2.64s/it]  \n"
     ]
    },
    {
     "name": "stdout",
     "output_type": "stream",
     "text": [
      "Saving file/data/u934/service_imagerie/v_kapoor/Fl4-2-Var/forFOLDERFutureRestoration/AzotKO_ubiEcadGFPEx1hetero_29_mov3/3DResults/%s_40x_bin1_05_5min_3_w2CSU-488_s4_t69.tif\n"
     ]
    },
    {
     "name": "stderr",
     "output_type": "stream",
     "text": [
      "100%|██████████| 64/64 [03:24<00:00,  2.67s/it]  \n"
     ]
    },
    {
     "name": "stdout",
     "output_type": "stream",
     "text": [
      "Saving file/data/u934/service_imagerie/v_kapoor/Fl4-2-Var/forFOLDERFutureRestoration/AzotKO_ubiEcadGFPEx1hetero_29_mov3/3DResults/%s_40x_bin1_05_5min_3_w2CSU-488_s1_t210.tif\n"
     ]
    },
    {
     "name": "stderr",
     "output_type": "stream",
     "text": [
      "100%|██████████| 64/64 [03:23<00:00,  2.64s/it]  \n"
     ]
    },
    {
     "name": "stdout",
     "output_type": "stream",
     "text": [
      "Saving file/data/u934/service_imagerie/v_kapoor/Fl4-2-Var/forFOLDERFutureRestoration/AzotKO_ubiEcadGFPEx1hetero_29_mov3/3DResults/%s_40x_bin1_05_5min_3_w2CSU-488_s6_t47.tif\n"
     ]
    },
    {
     "name": "stderr",
     "output_type": "stream",
     "text": [
      "100%|██████████| 64/64 [03:24<00:00,  2.67s/it]  \n"
     ]
    },
    {
     "name": "stdout",
     "output_type": "stream",
     "text": [
      "Saving file/data/u934/service_imagerie/v_kapoor/Fl4-2-Var/forFOLDERFutureRestoration/AzotKO_ubiEcadGFPEx1hetero_29_mov3/3DResults/%s_40x_bin1_05_5min_3_w2CSU-488_s3_t81.tif\n"
     ]
    },
    {
     "name": "stderr",
     "output_type": "stream",
     "text": [
      "100%|██████████| 64/64 [03:22<00:00,  2.66s/it]  \n"
     ]
    },
    {
     "name": "stdout",
     "output_type": "stream",
     "text": [
      "Saving file/data/u934/service_imagerie/v_kapoor/Fl4-2-Var/forFOLDERFutureRestoration/AzotKO_ubiEcadGFPEx1hetero_29_mov3/3DResults/%s_40x_bin1_05_5min_3_w2CSU-488_s3_t50.tif\n"
     ]
    },
    {
     "name": "stderr",
     "output_type": "stream",
     "text": [
      "100%|██████████| 64/64 [03:23<00:00,  2.66s/it]  \n"
     ]
    },
    {
     "name": "stdout",
     "output_type": "stream",
     "text": [
      "Saving file/data/u934/service_imagerie/v_kapoor/Fl4-2-Var/forFOLDERFutureRestoration/AzotKO_ubiEcadGFPEx1hetero_29_mov3/3DResults/%s_40x_bin1_05_5min_3_w2CSU-488_s6_t96.tif\n"
     ]
    },
    {
     "name": "stderr",
     "output_type": "stream",
     "text": [
      "100%|██████████| 64/64 [03:22<00:00,  2.65s/it]  \n"
     ]
    },
    {
     "name": "stdout",
     "output_type": "stream",
     "text": [
      "Saving file/data/u934/service_imagerie/v_kapoor/Fl4-2-Var/forFOLDERFutureRestoration/AzotKO_ubiEcadGFPEx1hetero_29_mov3/3DResults/%s_40x_bin1_05_5min_3_w2CSU-488_s4_t5.tif\n"
     ]
    },
    {
     "name": "stderr",
     "output_type": "stream",
     "text": [
      "100%|██████████| 64/64 [03:24<00:00,  2.65s/it]  \n"
     ]
    },
    {
     "name": "stdout",
     "output_type": "stream",
     "text": [
      "Saving file/data/u934/service_imagerie/v_kapoor/Fl4-2-Var/forFOLDERFutureRestoration/AzotKO_ubiEcadGFPEx1hetero_29_mov3/3DResults/%s_40x_bin1_05_5min_3_w2CSU-488_s6_t151.tif\n"
     ]
    },
    {
     "name": "stderr",
     "output_type": "stream",
     "text": [
      "100%|██████████| 64/64 [03:21<00:00,  2.64s/it]  \n"
     ]
    },
    {
     "name": "stdout",
     "output_type": "stream",
     "text": [
      "Saving file/data/u934/service_imagerie/v_kapoor/Fl4-2-Var/forFOLDERFutureRestoration/AzotKO_ubiEcadGFPEx1hetero_29_mov3/3DResults/%s_40x_bin1_05_5min_3_w2CSU-488_s1_t79.tif\n"
     ]
    },
    {
     "name": "stderr",
     "output_type": "stream",
     "text": [
      "100%|██████████| 64/64 [03:23<00:00,  2.65s/it]  \n"
     ]
    },
    {
     "name": "stdout",
     "output_type": "stream",
     "text": [
      "Saving file/data/u934/service_imagerie/v_kapoor/Fl4-2-Var/forFOLDERFutureRestoration/AzotKO_ubiEcadGFPEx1hetero_29_mov3/3DResults/%s_40x_bin1_05_5min_3_w2CSU-488_s1_t100.tif\n"
     ]
    },
    {
     "name": "stderr",
     "output_type": "stream",
     "text": [
      "100%|██████████| 64/64 [03:21<00:00,  2.62s/it]  \n"
     ]
    },
    {
     "name": "stdout",
     "output_type": "stream",
     "text": [
      "Saving file/data/u934/service_imagerie/v_kapoor/Fl4-2-Var/forFOLDERFutureRestoration/AzotKO_ubiEcadGFPEx1hetero_29_mov3/3DResults/%s_40x_bin1_05_5min_3_w2CSU-488_s6_t180.tif\n"
     ]
    },
    {
     "name": "stderr",
     "output_type": "stream",
     "text": [
      "100%|██████████| 64/64 [03:25<00:00,  2.68s/it]  \n"
     ]
    },
    {
     "name": "stdout",
     "output_type": "stream",
     "text": [
      "Saving file/data/u934/service_imagerie/v_kapoor/Fl4-2-Var/forFOLDERFutureRestoration/AzotKO_ubiEcadGFPEx1hetero_29_mov3/3DResults/%s_40x_bin1_05_5min_3_w2CSU-488_s5_t169.tif\n"
     ]
    },
    {
     "name": "stderr",
     "output_type": "stream",
     "text": [
      "100%|██████████| 64/64 [03:22<00:00,  2.63s/it]  \n"
     ]
    },
    {
     "name": "stdout",
     "output_type": "stream",
     "text": [
      "Saving file/data/u934/service_imagerie/v_kapoor/Fl4-2-Var/forFOLDERFutureRestoration/AzotKO_ubiEcadGFPEx1hetero_29_mov3/3DResults/%s_40x_bin1_05_5min_3_w2CSU-488_s1_t217.tif\n"
     ]
    },
    {
     "name": "stderr",
     "output_type": "stream",
     "text": [
      "100%|██████████| 64/64 [03:23<00:00,  2.65s/it]  \n"
     ]
    },
    {
     "name": "stdout",
     "output_type": "stream",
     "text": [
      "Saving file/data/u934/service_imagerie/v_kapoor/Fl4-2-Var/forFOLDERFutureRestoration/AzotKO_ubiEcadGFPEx1hetero_29_mov3/3DResults/%s_40x_bin1_05_5min_3_w2CSU-488_s2_t138.tif\n"
     ]
    },
    {
     "name": "stderr",
     "output_type": "stream",
     "text": [
      "100%|██████████| 64/64 [03:22<00:00,  2.66s/it]  \n"
     ]
    },
    {
     "name": "stdout",
     "output_type": "stream",
     "text": [
      "Saving file/data/u934/service_imagerie/v_kapoor/Fl4-2-Var/forFOLDERFutureRestoration/AzotKO_ubiEcadGFPEx1hetero_29_mov3/3DResults/%s_40x_bin1_05_5min_3_w2CSU-488_s3_t137.tif\n"
     ]
    },
    {
     "name": "stderr",
     "output_type": "stream",
     "text": [
      "100%|██████████| 64/64 [03:23<00:00,  2.66s/it]  \n"
     ]
    },
    {
     "name": "stdout",
     "output_type": "stream",
     "text": [
      "Saving file/data/u934/service_imagerie/v_kapoor/Fl4-2-Var/forFOLDERFutureRestoration/AzotKO_ubiEcadGFPEx1hetero_29_mov3/3DResults/%s_40x_bin1_05_5min_3_w2CSU-488_s4_t166.tif\n"
     ]
    },
    {
     "name": "stderr",
     "output_type": "stream",
     "text": [
      "100%|██████████| 64/64 [03:22<00:00,  2.63s/it]  \n"
     ]
    },
    {
     "name": "stdout",
     "output_type": "stream",
     "text": [
      "Saving file/data/u934/service_imagerie/v_kapoor/Fl4-2-Var/forFOLDERFutureRestoration/AzotKO_ubiEcadGFPEx1hetero_29_mov3/3DResults/%s_40x_bin1_05_5min_3_w2CSU-488_s5_t79.tif\n"
     ]
    },
    {
     "name": "stderr",
     "output_type": "stream",
     "text": [
      "100%|██████████| 64/64 [03:24<00:00,  2.69s/it]  \n"
     ]
    },
    {
     "name": "stdout",
     "output_type": "stream",
     "text": [
      "Saving file/data/u934/service_imagerie/v_kapoor/Fl4-2-Var/forFOLDERFutureRestoration/AzotKO_ubiEcadGFPEx1hetero_29_mov3/3DResults/%s_40x_bin1_05_5min_3_w2CSU-488_s3_t220.tif\n"
     ]
    },
    {
     "name": "stderr",
     "output_type": "stream",
     "text": [
      "100%|██████████| 64/64 [03:22<00:00,  2.65s/it]  \n"
     ]
    },
    {
     "name": "stdout",
     "output_type": "stream",
     "text": [
      "Saving file/data/u934/service_imagerie/v_kapoor/Fl4-2-Var/forFOLDERFutureRestoration/AzotKO_ubiEcadGFPEx1hetero_29_mov3/3DResults/%s_40x_bin1_05_5min_3_w2CSU-488_s2_t195.tif\n"
     ]
    },
    {
     "name": "stderr",
     "output_type": "stream",
     "text": [
      "100%|██████████| 64/64 [03:23<00:00,  2.66s/it]  \n"
     ]
    },
    {
     "name": "stdout",
     "output_type": "stream",
     "text": [
      "Saving file/data/u934/service_imagerie/v_kapoor/Fl4-2-Var/forFOLDERFutureRestoration/AzotKO_ubiEcadGFPEx1hetero_29_mov3/3DResults/%s_40x_bin1_05_5min_3_w2CSU-488_s2_t47.tif\n"
     ]
    },
    {
     "name": "stderr",
     "output_type": "stream",
     "text": [
      "100%|██████████| 64/64 [03:21<00:00,  2.63s/it]  \n"
     ]
    },
    {
     "name": "stdout",
     "output_type": "stream",
     "text": [
      "Saving file/data/u934/service_imagerie/v_kapoor/Fl4-2-Var/forFOLDERFutureRestoration/AzotKO_ubiEcadGFPEx1hetero_29_mov3/3DResults/%s_40x_bin1_05_5min_3_w2CSU-488_s5_t202.tif\n"
     ]
    },
    {
     "name": "stderr",
     "output_type": "stream",
     "text": [
      "100%|██████████| 64/64 [03:25<00:00,  2.68s/it]  \n"
     ]
    },
    {
     "name": "stdout",
     "output_type": "stream",
     "text": [
      "Saving file/data/u934/service_imagerie/v_kapoor/Fl4-2-Var/forFOLDERFutureRestoration/AzotKO_ubiEcadGFPEx1hetero_29_mov3/3DResults/%s_40x_bin1_05_5min_3_w2CSU-488_s2_t96.tif\n"
     ]
    },
    {
     "name": "stderr",
     "output_type": "stream",
     "text": [
      "100%|██████████| 64/64 [03:21<00:00,  2.65s/it]  \n"
     ]
    },
    {
     "name": "stdout",
     "output_type": "stream",
     "text": [
      "Saving file/data/u934/service_imagerie/v_kapoor/Fl4-2-Var/forFOLDERFutureRestoration/AzotKO_ubiEcadGFPEx1hetero_29_mov3/3DResults/%s_40x_bin1_05_5min_3_w2CSU-488_s2_t144.tif\n"
     ]
    },
    {
     "name": "stderr",
     "output_type": "stream",
     "text": [
      "100%|██████████| 64/64 [03:23<00:00,  2.66s/it]  \n"
     ]
    },
    {
     "name": "stdout",
     "output_type": "stream",
     "text": [
      "Saving file/data/u934/service_imagerie/v_kapoor/Fl4-2-Var/forFOLDERFutureRestoration/AzotKO_ubiEcadGFPEx1hetero_29_mov3/3DResults/%s_40x_bin1_05_5min_3_w2CSU-488_s5_t115.tif\n"
     ]
    },
    {
     "name": "stderr",
     "output_type": "stream",
     "text": [
      "100%|██████████| 64/64 [03:22<00:00,  2.66s/it]  \n"
     ]
    },
    {
     "name": "stdout",
     "output_type": "stream",
     "text": [
      "Saving file/data/u934/service_imagerie/v_kapoor/Fl4-2-Var/forFOLDERFutureRestoration/AzotKO_ubiEcadGFPEx1hetero_29_mov3/3DResults/%s_40x_bin1_05_5min_3_w2CSU-488_s4_t12.tif\n"
     ]
    },
    {
     "name": "stderr",
     "output_type": "stream",
     "text": [
      "100%|██████████| 64/64 [03:24<00:00,  2.66s/it]  \n"
     ]
    },
    {
     "name": "stdout",
     "output_type": "stream",
     "text": [
      "Saving file/data/u934/service_imagerie/v_kapoor/Fl4-2-Var/forFOLDERFutureRestoration/AzotKO_ubiEcadGFPEx1hetero_29_mov3/3DResults/%s_40x_bin1_05_5min_3_w2CSU-488_s6_t49.tif\n"
     ]
    },
    {
     "name": "stderr",
     "output_type": "stream",
     "text": [
      "100%|██████████| 64/64 [03:23<00:00,  2.64s/it]  \n"
     ]
    },
    {
     "name": "stdout",
     "output_type": "stream",
     "text": [
      "Saving file/data/u934/service_imagerie/v_kapoor/Fl4-2-Var/forFOLDERFutureRestoration/AzotKO_ubiEcadGFPEx1hetero_29_mov3/3DResults/%s_40x_bin1_05_5min_3_w2CSU-488_s4_t114.tif\n"
     ]
    },
    {
     "name": "stderr",
     "output_type": "stream",
     "text": [
      "100%|██████████| 64/64 [03:25<00:00,  2.67s/it]  \n"
     ]
    },
    {
     "name": "stdout",
     "output_type": "stream",
     "text": [
      "Saving file/data/u934/service_imagerie/v_kapoor/Fl4-2-Var/forFOLDERFutureRestoration/AzotKO_ubiEcadGFPEx1hetero_29_mov3/3DResults/%s_40x_bin1_05_5min_3_w2CSU-488_s3_t145.tif\n"
     ]
    },
    {
     "name": "stderr",
     "output_type": "stream",
     "text": [
      "100%|██████████| 64/64 [03:22<00:00,  2.63s/it]  \n"
     ]
    },
    {
     "name": "stdout",
     "output_type": "stream",
     "text": [
      "Saving file/data/u934/service_imagerie/v_kapoor/Fl4-2-Var/forFOLDERFutureRestoration/AzotKO_ubiEcadGFPEx1hetero_29_mov3/3DResults/%s_40x_bin1_05_5min_3_w2CSU-488_s4_t203.tif\n"
     ]
    },
    {
     "name": "stderr",
     "output_type": "stream",
     "text": [
      "100%|██████████| 64/64 [03:24<00:00,  2.66s/it]  \n"
     ]
    },
    {
     "name": "stdout",
     "output_type": "stream",
     "text": [
      "Saving file/data/u934/service_imagerie/v_kapoor/Fl4-2-Var/forFOLDERFutureRestoration/AzotKO_ubiEcadGFPEx1hetero_29_mov3/3DResults/%s_40x_bin1_05_5min_3_w2CSU-488_s3_t194.tif\n"
     ]
    },
    {
     "name": "stderr",
     "output_type": "stream",
     "text": [
      "100%|██████████| 64/64 [03:22<00:00,  2.66s/it]  \n"
     ]
    },
    {
     "name": "stdout",
     "output_type": "stream",
     "text": [
      "Saving file/data/u934/service_imagerie/v_kapoor/Fl4-2-Var/forFOLDERFutureRestoration/AzotKO_ubiEcadGFPEx1hetero_29_mov3/3DResults/%s_40x_bin1_05_5min_3_w2CSU-488_s6_t98.tif\n"
     ]
    },
    {
     "name": "stderr",
     "output_type": "stream",
     "text": [
      "100%|██████████| 64/64 [03:24<00:00,  2.66s/it]  \n"
     ]
    },
    {
     "name": "stdout",
     "output_type": "stream",
     "text": [
      "Saving file/data/u934/service_imagerie/v_kapoor/Fl4-2-Var/forFOLDERFutureRestoration/AzotKO_ubiEcadGFPEx1hetero_29_mov3/3DResults/%s_40x_bin1_05_5min_3_w2CSU-488_s2_t35.tif\n"
     ]
    },
    {
     "name": "stderr",
     "output_type": "stream",
     "text": [
      "100%|██████████| 64/64 [03:23<00:00,  2.67s/it]  \n"
     ]
    },
    {
     "name": "stdout",
     "output_type": "stream",
     "text": [
      "Saving file/data/u934/service_imagerie/v_kapoor/Fl4-2-Var/forFOLDERFutureRestoration/AzotKO_ubiEcadGFPEx1hetero_29_mov3/3DResults/%s_40x_bin1_05_5min_3_w2CSU-488_s2_t221.tif\n"
     ]
    },
    {
     "name": "stderr",
     "output_type": "stream",
     "text": [
      "100%|██████████| 64/64 [03:25<00:00,  2.69s/it]  \n"
     ]
    },
    {
     "name": "stdout",
     "output_type": "stream",
     "text": [
      "Saving file/data/u934/service_imagerie/v_kapoor/Fl4-2-Var/forFOLDERFutureRestoration/AzotKO_ubiEcadGFPEx1hetero_29_mov3/3DResults/%s_40x_bin1_05_5min_3_w2CSU-488_s1_t77.tif\n"
     ]
    },
    {
     "name": "stderr",
     "output_type": "stream",
     "text": [
      "100%|██████████| 64/64 [03:22<00:00,  2.63s/it]  \n"
     ]
    },
    {
     "name": "stdout",
     "output_type": "stream",
     "text": [
      "Saving file/data/u934/service_imagerie/v_kapoor/Fl4-2-Var/forFOLDERFutureRestoration/AzotKO_ubiEcadGFPEx1hetero_29_mov3/3DResults/%s_40x_bin1_05_5min_3_w2CSU-488_s1_t219.tif\n"
     ]
    },
    {
     "name": "stderr",
     "output_type": "stream",
     "text": [
      "100%|██████████| 64/64 [03:26<00:00,  2.66s/it]  \n"
     ]
    },
    {
     "name": "stdout",
     "output_type": "stream",
     "text": [
      "Saving file/data/u934/service_imagerie/v_kapoor/Fl4-2-Var/forFOLDERFutureRestoration/AzotKO_ubiEcadGFPEx1hetero_29_mov3/3DResults/%s_40x_bin1_05_5min_3_w2CSU-488_s5_t167.tif\n"
     ]
    },
    {
     "name": "stderr",
     "output_type": "stream",
     "text": [
      "100%|██████████| 64/64 [03:21<00:00,  2.64s/it]  \n"
     ]
    },
    {
     "name": "stdout",
     "output_type": "stream",
     "text": [
      "Saving file/data/u934/service_imagerie/v_kapoor/Fl4-2-Var/forFOLDERFutureRestoration/AzotKO_ubiEcadGFPEx1hetero_29_mov3/3DResults/%s_40x_bin1_05_5min_3_w2CSU-488_s2_t136.tif\n"
     ]
    },
    {
     "name": "stderr",
     "output_type": "stream",
     "text": [
      "100%|██████████| 64/64 [03:24<00:00,  2.67s/it]  \n"
     ]
    },
    {
     "name": "stdout",
     "output_type": "stream",
     "text": [
      "Saving file/data/u934/service_imagerie/v_kapoor/Fl4-2-Var/forFOLDERFutureRestoration/AzotKO_ubiEcadGFPEx1hetero_29_mov3/3DResults/%s_40x_bin1_05_5min_3_w2CSU-488_s4_t60.tif\n"
     ]
    },
    {
     "name": "stderr",
     "output_type": "stream",
     "text": [
      "100%|██████████| 64/64 [03:22<00:00,  2.64s/it]  \n"
     ]
    },
    {
     "name": "stdout",
     "output_type": "stream",
     "text": [
      "Saving file/data/u934/service_imagerie/v_kapoor/Fl4-2-Var/forFOLDERFutureRestoration/AzotKO_ubiEcadGFPEx1hetero_29_mov3/3DResults/%s_40x_bin1_05_5min_3_w2CSU-488_s5_t77.tif\n"
     ]
    },
    {
     "name": "stderr",
     "output_type": "stream",
     "text": [
      "100%|██████████| 64/64 [03:24<00:00,  2.66s/it]  \n"
     ]
    },
    {
     "name": "stdout",
     "output_type": "stream",
     "text": [
      "Saving file/data/u934/service_imagerie/v_kapoor/Fl4-2-Var/forFOLDERFutureRestoration/AzotKO_ubiEcadGFPEx1hetero_29_mov3/3DResults/%s_40x_bin1_05_5min_3_w2CSU-488_s6_t35.tif\n"
     ]
    },
    {
     "name": "stderr",
     "output_type": "stream",
     "text": [
      "100%|██████████| 64/64 [03:22<00:00,  2.64s/it]  \n"
     ]
    },
    {
     "name": "stdout",
     "output_type": "stream",
     "text": [
      "Saving file/data/u934/service_imagerie/v_kapoor/Fl4-2-Var/forFOLDERFutureRestoration/AzotKO_ubiEcadGFPEx1hetero_29_mov3/3DResults/%s_40x_bin1_05_5min_3_w2CSU-488_s3_t139.tif\n"
     ]
    },
    {
     "name": "stderr",
     "output_type": "stream",
     "text": [
      "100%|██████████| 64/64 [03:24<00:00,  2.69s/it]  \n"
     ]
    },
    {
     "name": "stdout",
     "output_type": "stream",
     "text": [
      "Saving file/data/u934/service_imagerie/v_kapoor/Fl4-2-Var/forFOLDERFutureRestoration/AzotKO_ubiEcadGFPEx1hetero_29_mov3/3DResults/%s_40x_bin1_05_5min_3_w2CSU-488_s4_t168.tif\n"
     ]
    },
    {
     "name": "stderr",
     "output_type": "stream",
     "text": [
      "100%|██████████| 64/64 [03:22<00:00,  2.64s/it]  \n"
     ]
    },
    {
     "name": "stdout",
     "output_type": "stream",
     "text": [
      "Saving file/data/u934/service_imagerie/v_kapoor/Fl4-2-Var/forFOLDERFutureRestoration/AzotKO_ubiEcadGFPEx1hetero_29_mov3/3DResults/%s_40x_bin1_05_5min_3_w2CSU-488_s3_t22.tif\n"
     ]
    },
    {
     "name": "stderr",
     "output_type": "stream",
     "text": [
      "100%|██████████| 64/64 [03:23<00:00,  2.66s/it]  \n"
     ]
    },
    {
     "name": "stdout",
     "output_type": "stream",
     "text": [
      "Saving file/data/u934/service_imagerie/v_kapoor/Fl4-2-Var/forFOLDERFutureRestoration/AzotKO_ubiEcadGFPEx1hetero_29_mov3/3DResults/%s_40x_bin1_05_5min_3_w2CSU-488_s1_t172.tif\n"
     ]
    },
    {
     "name": "stderr",
     "output_type": "stream",
     "text": [
      "100%|██████████| 64/64 [03:21<00:00,  2.63s/it]  \n"
     ]
    },
    {
     "name": "stdout",
     "output_type": "stream",
     "text": [
      "Saving file/data/u934/service_imagerie/v_kapoor/Fl4-2-Var/forFOLDERFutureRestoration/AzotKO_ubiEcadGFPEx1hetero_29_mov3/3DResults/%s_40x_bin1_05_5min_3_w2CSU-488_s6_t123.tif\n"
     ]
    },
    {
     "name": "stderr",
     "output_type": "stream",
     "text": [
      "100%|██████████| 64/64 [03:23<00:00,  2.69s/it]  \n"
     ]
    },
    {
     "name": "stdout",
     "output_type": "stream",
     "text": [
      "Saving file/data/u934/service_imagerie/v_kapoor/Fl4-2-Var/forFOLDERFutureRestoration/AzotKO_ubiEcadGFPEx1hetero_29_mov3/3DResults/%s_40x_bin1_05_5min_3_w2CSU-488_s2_t49.tif\n"
     ]
    },
    {
     "name": "stderr",
     "output_type": "stream",
     "text": [
      "100%|██████████| 64/64 [03:22<00:00,  2.63s/it]  \n"
     ]
    },
    {
     "name": "stdout",
     "output_type": "stream",
     "text": [
      "Saving file/data/u934/service_imagerie/v_kapoor/Fl4-2-Var/forFOLDERFutureRestoration/AzotKO_ubiEcadGFPEx1hetero_29_mov3/3DResults/%s_40x_bin1_05_5min_3_w2CSU-488_s2_t98.tif\n"
     ]
    },
    {
     "name": "stderr",
     "output_type": "stream",
     "text": [
      "100%|██████████| 64/64 [03:24<00:00,  2.66s/it]  \n"
     ]
    },
    {
     "name": "stdout",
     "output_type": "stream",
     "text": [
      "Saving file/data/u934/service_imagerie/v_kapoor/Fl4-2-Var/forFOLDERFutureRestoration/AzotKO_ubiEcadGFPEx1hetero_29_mov3/3DResults/%s_40x_bin1_05_5min_3_w2CSU-488_s5_t70.tif\n"
     ]
    },
    {
     "name": "stderr",
     "output_type": "stream",
     "text": [
      "100%|██████████| 64/64 [03:22<00:00,  2.65s/it]  \n"
     ]
    },
    {
     "name": "stdout",
     "output_type": "stream",
     "text": [
      "Saving file/data/u934/service_imagerie/v_kapoor/Fl4-2-Var/forFOLDERFutureRestoration/AzotKO_ubiEcadGFPEx1hetero_29_mov3/3DResults/%s_40x_bin1_05_5min_3_w2CSU-488_s6_t32.tif\n"
     ]
    },
    {
     "name": "stderr",
     "output_type": "stream",
     "text": [
      "100%|██████████| 64/64 [03:24<00:00,  2.66s/it]  \n"
     ]
    },
    {
     "name": "stdout",
     "output_type": "stream",
     "text": [
      "Saving file/data/u934/service_imagerie/v_kapoor/Fl4-2-Var/forFOLDERFutureRestoration/AzotKO_ubiEcadGFPEx1hetero_29_mov3/3DResults/%s_40x_bin1_05_5min_3_w2CSU-488_s3_t25.tif\n"
     ]
    },
    {
     "name": "stderr",
     "output_type": "stream",
     "text": [
      "100%|██████████| 64/64 [03:22<00:00,  2.65s/it]  \n"
     ]
    },
    {
     "name": "stdout",
     "output_type": "stream",
     "text": [
      "Saving file/data/u934/service_imagerie/v_kapoor/Fl4-2-Var/forFOLDERFutureRestoration/AzotKO_ubiEcadGFPEx1hetero_29_mov3/3DResults/%s_40x_bin1_05_5min_3_w2CSU-488_s6_t124.tif\n"
     ]
    },
    {
     "name": "stderr",
     "output_type": "stream",
     "text": [
      "100%|██████████| 64/64 [03:23<00:00,  2.66s/it]  \n"
     ]
    },
    {
     "name": "stdout",
     "output_type": "stream",
     "text": [
      "Saving file/data/u934/service_imagerie/v_kapoor/Fl4-2-Var/forFOLDERFutureRestoration/AzotKO_ubiEcadGFPEx1hetero_29_mov3/3DResults/%s_40x_bin1_05_5min_3_w2CSU-488_s1_t175.tif\n"
     ]
    },
    {
     "name": "stderr",
     "output_type": "stream",
     "text": [
      "100%|██████████| 64/64 [03:21<00:00,  2.63s/it]  \n"
     ]
    },
    {
     "name": "stdout",
     "output_type": "stream",
     "text": [
      "Saving file/data/u934/service_imagerie/v_kapoor/Fl4-2-Var/forFOLDERFutureRestoration/AzotKO_ubiEcadGFPEx1hetero_29_mov3/3DResults/%s_40x_bin1_05_5min_3_w2CSU-488_s3_t142.tif\n"
     ]
    },
    {
     "name": "stderr",
     "output_type": "stream",
     "text": [
      "100%|██████████| 64/64 [03:23<00:00,  2.66s/it]  \n"
     ]
    },
    {
     "name": "stdout",
     "output_type": "stream",
     "text": [
      "Saving file/data/u934/service_imagerie/v_kapoor/Fl4-2-Var/forFOLDERFutureRestoration/AzotKO_ubiEcadGFPEx1hetero_29_mov3/3DResults/%s_40x_bin1_05_5min_3_w2CSU-488_s4_t113.tif\n"
     ]
    },
    {
     "name": "stderr",
     "output_type": "stream",
     "text": [
      "100%|██████████| 64/64 [03:22<00:00,  2.66s/it]  \n"
     ]
    },
    {
     "name": "stdout",
     "output_type": "stream",
     "text": [
      "Saving file/data/u934/service_imagerie/v_kapoor/Fl4-2-Var/forFOLDERFutureRestoration/AzotKO_ubiEcadGFPEx1hetero_29_mov3/3DResults/%s_40x_bin1_05_5min_3_w2CSU-488_s3_t88.tif\n"
     ]
    },
    {
     "name": "stderr",
     "output_type": "stream",
     "text": [
      "100%|██████████| 64/64 [03:25<00:00,  2.68s/it]  \n"
     ]
    },
    {
     "name": "stdout",
     "output_type": "stream",
     "text": [
      "Saving file/data/u934/service_imagerie/v_kapoor/Fl4-2-Var/forFOLDERFutureRestoration/AzotKO_ubiEcadGFPEx1hetero_29_mov3/3DResults/%s_40x_bin1_05_5min_3_w2CSU-488_s3_t59.tif\n"
     ]
    },
    {
     "name": "stderr",
     "output_type": "stream",
     "text": [
      "100%|██████████| 64/64 [03:22<00:00,  2.64s/it]  \n"
     ]
    },
    {
     "name": "stdout",
     "output_type": "stream",
     "text": [
      "Saving file/data/u934/service_imagerie/v_kapoor/Fl4-2-Var/forFOLDERFutureRestoration/AzotKO_ubiEcadGFPEx1hetero_29_mov3/3DResults/%s_40x_bin1_05_5min_3_w2CSU-488_s4_t204.tif\n"
     ]
    },
    {
     "name": "stderr",
     "output_type": "stream",
     "text": [
      "100%|██████████| 64/64 [03:23<00:00,  2.65s/it]  \n"
     ]
    },
    {
     "name": "stdout",
     "output_type": "stream",
     "text": [
      "Saving file/data/u934/service_imagerie/v_kapoor/Fl4-2-Var/forFOLDERFutureRestoration/AzotKO_ubiEcadGFPEx1hetero_29_mov3/3DResults/%s_40x_bin1_05_5min_3_w2CSU-488_s3_t193.tif\n"
     ]
    },
    {
     "name": "stderr",
     "output_type": "stream",
     "text": [
      "100%|██████████| 64/64 [03:21<00:00,  2.64s/it]  \n"
     ]
    },
    {
     "name": "stdout",
     "output_type": "stream",
     "text": [
      "Saving file/data/u934/service_imagerie/v_kapoor/Fl4-2-Var/forFOLDERFutureRestoration/AzotKO_ubiEcadGFPEx1hetero_29_mov3/3DResults/%s_40x_bin1_05_5min_3_w2CSU-488_s3_t7.tif\n"
     ]
    },
    {
     "name": "stderr",
     "output_type": "stream",
     "text": [
      "100%|██████████| 64/64 [03:24<00:00,  2.66s/it]  \n"
     ]
    },
    {
     "name": "stdout",
     "output_type": "stream",
     "text": [
      "Saving file/data/u934/service_imagerie/v_kapoor/Fl4-2-Var/forFOLDERFutureRestoration/AzotKO_ubiEcadGFPEx1hetero_29_mov3/3DResults/%s_40x_bin1_05_5min_3_w2CSU-488_s2_t32.tif\n"
     ]
    },
    {
     "name": "stderr",
     "output_type": "stream",
     "text": [
      "100%|██████████| 64/64 [03:21<00:00,  2.62s/it]  \n"
     ]
    },
    {
     "name": "stdout",
     "output_type": "stream",
     "text": [
      "Saving file/data/u934/service_imagerie/v_kapoor/Fl4-2-Var/forFOLDERFutureRestoration/AzotKO_ubiEcadGFPEx1hetero_29_mov3/3DResults/%s_40x_bin1_05_5min_3_w2CSU-488_s1_t109.tif\n"
     ]
    },
    {
     "name": "stderr",
     "output_type": "stream",
     "text": [
      "100%|██████████| 64/64 [03:23<00:00,  2.67s/it]  \n"
     ]
    },
    {
     "name": "stdout",
     "output_type": "stream",
     "text": [
      "Saving file/data/u934/service_imagerie/v_kapoor/Fl4-2-Var/forFOLDERFutureRestoration/AzotKO_ubiEcadGFPEx1hetero_29_mov3/3DResults/%s_40x_bin1_05_5min_3_w2CSU-488_s1_t70.tif\n"
     ]
    },
    {
     "name": "stderr",
     "output_type": "stream",
     "text": [
      "100%|██████████| 64/64 [03:22<00:00,  2.64s/it]  \n"
     ]
    },
    {
     "name": "stdout",
     "output_type": "stream",
     "text": [
      "Saving file/data/u934/service_imagerie/v_kapoor/Fl4-2-Var/forFOLDERFutureRestoration/AzotKO_ubiEcadGFPEx1hetero_29_mov3/3DResults/%s_40x_bin1_05_5min_3_w2CSU-488_s6_t158.tif\n"
     ]
    },
    {
     "name": "stderr",
     "output_type": "stream",
     "text": [
      "100%|██████████| 64/64 [03:24<00:00,  2.68s/it]  \n"
     ]
    },
    {
     "name": "stdout",
     "output_type": "stream",
     "text": [
      "Saving file/data/u934/service_imagerie/v_kapoor/Fl4-2-Var/forFOLDERFutureRestoration/AzotKO_ubiEcadGFPEx1hetero_29_mov3/3DResults/%s_40x_bin1_05_5min_3_w2CSU-488_s2_t226.tif\n"
     ]
    },
    {
     "name": "stderr",
     "output_type": "stream",
     "text": [
      "100%|██████████| 64/64 [03:22<00:00,  2.64s/it]  \n"
     ]
    },
    {
     "name": "stdout",
     "output_type": "stream",
     "text": [
      "Saving file/data/u934/service_imagerie/v_kapoor/Fl4-2-Var/forFOLDERFutureRestoration/AzotKO_ubiEcadGFPEx1hetero_29_mov3/3DResults/%s_40x_bin1_05_5min_3_w2CSU-488_s6_t189.tif\n"
     ]
    },
    {
     "name": "stderr",
     "output_type": "stream",
     "text": [
      "100%|██████████| 64/64 [03:23<00:00,  2.66s/it]  \n"
     ]
    },
    {
     "name": "stdout",
     "output_type": "stream",
     "text": [
      "Saving file/data/u934/service_imagerie/v_kapoor/Fl4-2-Var/forFOLDERFutureRestoration/AzotKO_ubiEcadGFPEx1hetero_29_mov3/3DResults/%s_40x_bin1_05_5min_3_w2CSU-488_s2_t131.tif\n"
     ]
    },
    {
     "name": "stderr",
     "output_type": "stream",
     "text": [
      "100%|██████████| 64/64 [03:22<00:00,  2.65s/it]  \n"
     ]
    },
    {
     "name": "stdout",
     "output_type": "stream",
     "text": [
      "Saving file/data/u934/service_imagerie/v_kapoor/Fl4-2-Var/forFOLDERFutureRestoration/AzotKO_ubiEcadGFPEx1hetero_29_mov3/3DResults/%s_40x_bin1_05_5min_3_w2CSU-488_s5_t160.tif\n"
     ]
    },
    {
     "name": "stderr",
     "output_type": "stream",
     "text": [
      "100%|██████████| 64/64 [03:24<00:00,  2.68s/it]  \n"
     ]
    },
    {
     "name": "stdout",
     "output_type": "stream",
     "text": [
      "Saving file/data/u934/service_imagerie/v_kapoor/Fl4-2-Var/forFOLDERFutureRestoration/AzotKO_ubiEcadGFPEx1hetero_29_mov3/3DResults/%s_40x_bin1_05_5min_3_w2CSU-488_s4_t67.tif\n"
     ]
    },
    {
     "name": "stderr",
     "output_type": "stream",
     "text": [
      "100%|██████████| 64/64 [03:22<00:00,  2.64s/it]  \n"
     ]
    },
    {
     "name": "stdout",
     "output_type": "stream",
     "text": [
      "Saving file/data/u934/service_imagerie/v_kapoor/Fl4-2-Var/forFOLDERFutureRestoration/AzotKO_ubiEcadGFPEx1hetero_29_mov3/3DResults/%s_40x_bin1_05_5min_3_w2CSU-488_s1_t150.tif\n"
     ]
    },
    {
     "name": "stderr",
     "output_type": "stream",
     "text": [
      "100%|██████████| 64/64 [03:23<00:00,  2.65s/it]  \n"
     ]
    },
    {
     "name": "stdout",
     "output_type": "stream",
     "text": [
      "Saving file/data/u934/service_imagerie/v_kapoor/Fl4-2-Var/forFOLDERFutureRestoration/AzotKO_ubiEcadGFPEx1hetero_29_mov3/3DResults/%s_40x_bin1_05_5min_3_w2CSU-488_s1_t29.tif\n"
     ]
    },
    {
     "name": "stderr",
     "output_type": "stream",
     "text": [
      "100%|██████████| 64/64 [03:22<00:00,  2.67s/it]  \n"
     ]
    },
    {
     "name": "stdout",
     "output_type": "stream",
     "text": [
      "Saving file/data/u934/service_imagerie/v_kapoor/Fl4-2-Var/forFOLDERFutureRestoration/AzotKO_ubiEcadGFPEx1hetero_29_mov3/3DResults/%s_40x_bin1_05_5min_3_w2CSU-488_s6_t101.tif\n"
     ]
    },
    {
     "name": "stderr",
     "output_type": "stream",
     "text": [
      "100%|██████████| 64/64 [03:23<00:00,  2.66s/it]  \n"
     ]
    },
    {
     "name": "stdout",
     "output_type": "stream",
     "text": [
      "Saving file/data/u934/service_imagerie/v_kapoor/Fl4-2-Var/forFOLDERFutureRestoration/AzotKO_ubiEcadGFPEx1hetero_29_mov3/3DResults/%s_40x_bin1_05_5min_3_w2CSU-488_s2_t168.tif\n"
     ]
    },
    {
     "name": "stderr",
     "output_type": "stream",
     "text": [
      "100%|██████████| 64/64 [03:22<00:00,  2.65s/it]  \n"
     ]
    },
    {
     "name": "stdout",
     "output_type": "stream",
     "text": [
      "Saving file/data/u934/service_imagerie/v_kapoor/Fl4-2-Var/forFOLDERFutureRestoration/AzotKO_ubiEcadGFPEx1hetero_29_mov3/3DResults/%s_40x_bin1_05_5min_3_w2CSU-488_s6_t216.tif\n"
     ]
    },
    {
     "name": "stderr",
     "output_type": "stream",
     "text": [
      "100%|██████████| 64/64 [03:23<00:00,  2.65s/it]  \n"
     ]
    },
    {
     "name": "stdout",
     "output_type": "stream",
     "text": [
      "Saving file/data/u934/service_imagerie/v_kapoor/Fl4-2-Var/forFOLDERFutureRestoration/AzotKO_ubiEcadGFPEx1hetero_29_mov3/3DResults/%s_40x_bin1_05_5min_3_w2CSU-488_s5_t139.tif\n"
     ]
    },
    {
     "name": "stderr",
     "output_type": "stream",
     "text": [
      "100%|██████████| 64/64 [03:21<00:00,  2.62s/it]  \n"
     ]
    },
    {
     "name": "stdout",
     "output_type": "stream",
     "text": [
      "Saving file/data/u934/service_imagerie/v_kapoor/Fl4-2-Var/forFOLDERFutureRestoration/AzotKO_ubiEcadGFPEx1hetero_29_mov3/3DResults/%s_40x_bin1_05_5min_3_w2CSU-488_s1_t181.tif\n"
     ]
    },
    {
     "name": "stderr",
     "output_type": "stream",
     "text": [
      "100%|██████████| 64/64 [03:23<00:00,  2.66s/it]  \n"
     ]
    },
    {
     "name": "stdout",
     "output_type": "stream",
     "text": [
      "Saving file/data/u934/service_imagerie/v_kapoor/Fl4-2-Var/forFOLDERFutureRestoration/AzotKO_ubiEcadGFPEx1hetero_29_mov3/3DResults/%s_40x_bin1_05_5min_3_w2CSU-488_s5_t55.tif\n"
     ]
    },
    {
     "name": "stderr",
     "output_type": "stream",
     "text": [
      "100%|██████████| 64/64 [03:21<00:00,  2.64s/it]  \n"
     ]
    },
    {
     "name": "stdout",
     "output_type": "stream",
     "text": [
      "Saving file/data/u934/service_imagerie/v_kapoor/Fl4-2-Var/forFOLDERFutureRestoration/AzotKO_ubiEcadGFPEx1hetero_29_mov3/3DResults/%s_40x_bin1_05_5min_3_w2CSU-488_s6_t17.tif\n"
     ]
    },
    {
     "name": "stderr",
     "output_type": "stream",
     "text": [
      "100%|██████████| 64/64 [03:23<00:00,  2.67s/it]  \n"
     ]
    },
    {
     "name": "stdout",
     "output_type": "stream",
     "text": [
      "Saving file/data/u934/service_imagerie/v_kapoor/Fl4-2-Var/forFOLDERFutureRestoration/AzotKO_ubiEcadGFPEx1hetero_29_mov3/3DResults/%s_40x_bin1_05_5min_3_w2CSU-488_s5_t84.tif\n"
     ]
    },
    {
     "name": "stderr",
     "output_type": "stream",
     "text": [
      "100%|██████████| 64/64 [03:23<00:00,  2.65s/it]  \n"
     ]
    },
    {
     "name": "stdout",
     "output_type": "stream",
     "text": [
      "Saving file/data/u934/service_imagerie/v_kapoor/Fl4-2-Var/forFOLDERFutureRestoration/AzotKO_ubiEcadGFPEx1hetero_29_mov3/3DResults/%s_40x_bin1_05_5min_3_w2CSU-488_s2_t17.tif\n"
     ]
    },
    {
     "name": "stderr",
     "output_type": "stream",
     "text": [
      "100%|██████████| 64/64 [03:24<00:00,  2.68s/it]  \n"
     ]
    },
    {
     "name": "stdout",
     "output_type": "stream",
     "text": [
      "Saving file/data/u934/service_imagerie/v_kapoor/Fl4-2-Var/forFOLDERFutureRestoration/AzotKO_ubiEcadGFPEx1hetero_29_mov3/3DResults/%s_40x_bin1_05_5min_3_w2CSU-488_s2_t203.tif\n"
     ]
    },
    {
     "name": "stderr",
     "output_type": "stream",
     "text": [
      "100%|██████████| 64/64 [03:22<00:00,  2.64s/it]  \n"
     ]
    },
    {
     "name": "stdout",
     "output_type": "stream",
     "text": [
      "Saving file/data/u934/service_imagerie/v_kapoor/Fl4-2-Var/forFOLDERFutureRestoration/AzotKO_ubiEcadGFPEx1hetero_29_mov3/3DResults/%s_40x_bin1_05_5min_3_w2CSU-488_s1_t55.tif\n"
     ]
    },
    {
     "name": "stderr",
     "output_type": "stream",
     "text": [
      "100%|██████████| 64/64 [03:25<00:00,  2.68s/it]  \n"
     ]
    },
    {
     "name": "stdout",
     "output_type": "stream",
     "text": [
      "Saving file/data/u934/service_imagerie/v_kapoor/Fl4-2-Var/forFOLDERFutureRestoration/AzotKO_ubiEcadGFPEx1hetero_29_mov3/3DResults/%s_40x_bin1_05_5min_3_w2CSU-488_s4_t93.tif\n"
     ]
    },
    {
     "name": "stderr",
     "output_type": "stream",
     "text": [
      "100%|██████████| 64/64 [03:22<00:00,  2.66s/it]  \n"
     ]
    },
    {
     "name": "stdout",
     "output_type": "stream",
     "text": [
      "Saving file/data/u934/service_imagerie/v_kapoor/Fl4-2-Var/forFOLDERFutureRestoration/AzotKO_ubiEcadGFPEx1hetero_29_mov3/3DResults/%s_40x_bin1_05_5min_3_w2CSU-488_s5_t194.tif\n"
     ]
    },
    {
     "name": "stderr",
     "output_type": "stream",
     "text": [
      "100%|██████████| 64/64 [03:24<00:00,  2.67s/it]  \n"
     ]
    },
    {
     "name": "stdout",
     "output_type": "stream",
     "text": [
      "Saving file/data/u934/service_imagerie/v_kapoor/Fl4-2-Var/forFOLDERFutureRestoration/AzotKO_ubiEcadGFPEx1hetero_29_mov3/3DResults/%s_40x_bin1_05_5min_3_w2CSU-488_s5_t145.tif\n"
     ]
    },
    {
     "name": "stderr",
     "output_type": "stream",
     "text": [
      "100%|██████████| 64/64 [03:23<00:00,  2.66s/it]  \n"
     ]
    },
    {
     "name": "stdout",
     "output_type": "stream",
     "text": [
      "Saving file/data/u934/service_imagerie/v_kapoor/Fl4-2-Var/forFOLDERFutureRestoration/AzotKO_ubiEcadGFPEx1hetero_29_mov3/3DResults/%s_40x_bin1_05_5min_3_w2CSU-488_s2_t114.tif\n"
     ]
    },
    {
     "name": "stderr",
     "output_type": "stream",
     "text": [
      "100%|██████████| 64/64 [03:24<00:00,  2.66s/it]  \n"
     ]
    },
    {
     "name": "stdout",
     "output_type": "stream",
     "text": [
      "Saving file/data/u934/service_imagerie/v_kapoor/Fl4-2-Var/forFOLDERFutureRestoration/AzotKO_ubiEcadGFPEx1hetero_29_mov3/3DResults/%s_40x_bin1_05_5min_3_w2CSU-488_s4_t42.tif\n"
     ]
    },
    {
     "name": "stderr",
     "output_type": "stream",
     "text": [
      "100%|██████████| 64/64 [03:22<00:00,  2.64s/it]  \n"
     ]
    },
    {
     "name": "stdout",
     "output_type": "stream",
     "text": [
      "Saving file/data/u934/service_imagerie/v_kapoor/Fl4-2-Var/forFOLDERFutureRestoration/AzotKO_ubiEcadGFPEx1hetero_29_mov3/3DResults/%s_40x_bin1_05_5min_3_w2CSU-488_s1_t84.tif\n"
     ]
    },
    {
     "name": "stderr",
     "output_type": "stream",
     "text": [
      "100%|██████████| 64/64 [03:24<00:00,  2.69s/it]  \n"
     ]
    },
    {
     "name": "stdout",
     "output_type": "stream",
     "text": [
      "Saving file/data/u934/service_imagerie/v_kapoor/Fl4-2-Var/forFOLDERFutureRestoration/AzotKO_ubiEcadGFPEx1hetero_29_mov3/3DResults/%s_40x_bin1_05_5min_3_w2CSU-488_s4_t136.tif\n"
     ]
    },
    {
     "name": "stderr",
     "output_type": "stream",
     "text": [
      "100%|██████████| 64/64 [03:22<00:00,  2.66s/it]  \n"
     ]
    },
    {
     "name": "stdout",
     "output_type": "stream",
     "text": [
      "Saving file/data/u934/service_imagerie/v_kapoor/Fl4-2-Var/forFOLDERFutureRestoration/AzotKO_ubiEcadGFPEx1hetero_29_mov3/3DResults/%s_40x_bin1_05_5min_3_w2CSU-488_s3_t167.tif\n"
     ]
    },
    {
     "name": "stderr",
     "output_type": "stream",
     "text": [
      "100%|██████████| 64/64 [03:23<00:00,  2.65s/it]  \n"
     ]
    },
    {
     "name": "stdout",
     "output_type": "stream",
     "text": [
      "Saving file/data/u934/service_imagerie/v_kapoor/Fl4-2-Var/forFOLDERFutureRestoration/AzotKO_ubiEcadGFPEx1hetero_29_mov3/3DResults/%s_40x_bin1_05_5min_3_w2CSU-488_s1_t1.tif\n"
     ]
    },
    {
     "name": "stderr",
     "output_type": "stream",
     "text": [
      "100%|██████████| 64/64 [03:22<00:00,  2.67s/it]  \n"
     ]
    },
    {
     "name": "stdout",
     "output_type": "stream",
     "text": [
      "Saving file/data/u934/service_imagerie/v_kapoor/Fl4-2-Var/forFOLDERFutureRestoration/AzotKO_ubiEcadGFPEx1hetero_29_mov3/3DResults/%s_40x_bin1_05_5min_3_w2CSU-488_s5_t29.tif\n"
     ]
    },
    {
     "name": "stderr",
     "output_type": "stream",
     "text": [
      "100%|██████████| 64/64 [03:25<00:00,  2.68s/it]  \n"
     ]
    },
    {
     "name": "stdout",
     "output_type": "stream",
     "text": [
      "Saving file/data/u934/service_imagerie/v_kapoor/Fl4-2-Var/forFOLDERFutureRestoration/AzotKO_ubiEcadGFPEx1hetero_29_mov3/3DResults/%s_40x_bin1_05_5min_3_w2CSU-488_s4_t221.tif\n"
     ]
    },
    {
     "name": "stderr",
     "output_type": "stream",
     "text": [
      "100%|██████████| 64/64 [03:22<00:00,  2.65s/it]  \n"
     ]
    },
    {
     "name": "stdout",
     "output_type": "stream",
     "text": [
      "Saving file/data/u934/service_imagerie/v_kapoor/Fl4-2-Var/forFOLDERFutureRestoration/AzotKO_ubiEcadGFPEx1hetero_29_mov3/3DResults/%s_40x_bin1_05_5min_3_w2CSU-488_s2_t10.tif\n"
     ]
    },
    {
     "name": "stderr",
     "output_type": "stream",
     "text": [
      "100%|██████████| 64/64 [03:24<00:00,  2.68s/it]  \n"
     ]
    },
    {
     "name": "stdout",
     "output_type": "stream",
     "text": [
      "Saving file/data/u934/service_imagerie/v_kapoor/Fl4-2-Var/forFOLDERFutureRestoration/AzotKO_ubiEcadGFPEx1hetero_29_mov3/3DResults/%s_40x_bin1_05_5min_3_w2CSU-488_s1_t52.tif\n"
     ]
    },
    {
     "name": "stderr",
     "output_type": "stream",
     "text": [
      "100%|██████████| 64/64 [03:22<00:00,  2.64s/it]  \n"
     ]
    },
    {
     "name": "stdout",
     "output_type": "stream",
     "text": [
      "Saving file/data/u934/service_imagerie/v_kapoor/Fl4-2-Var/forFOLDERFutureRestoration/AzotKO_ubiEcadGFPEx1hetero_29_mov3/3DResults/%s_40x_bin1_05_5min_3_w2CSU-488_s2_t204.tif\n"
     ]
    },
    {
     "name": "stderr",
     "output_type": "stream",
     "text": [
      "100%|██████████| 64/64 [03:23<00:00,  2.64s/it]  \n"
     ]
    },
    {
     "name": "stdout",
     "output_type": "stream",
     "text": [
      "Saving file/data/u934/service_imagerie/v_kapoor/Fl4-2-Var/forFOLDERFutureRestoration/AzotKO_ubiEcadGFPEx1hetero_29_mov3/3DResults/%s_40x_bin1_05_5min_3_w2CSU-488_s4_t94.tif\n"
     ]
    },
    {
     "name": "stderr",
     "output_type": "stream",
     "text": [
      "100%|██████████| 64/64 [03:21<00:00,  2.62s/it]  \n"
     ]
    },
    {
     "name": "stdout",
     "output_type": "stream",
     "text": [
      "Saving file/data/u934/service_imagerie/v_kapoor/Fl4-2-Var/forFOLDERFutureRestoration/AzotKO_ubiEcadGFPEx1hetero_29_mov3/3DResults/%s_40x_bin1_05_5min_3_w2CSU-488_s5_t193.tif\n"
     ]
    },
    {
     "name": "stderr",
     "output_type": "stream",
     "text": [
      "100%|██████████| 64/64 [03:23<00:00,  2.65s/it]  \n"
     ]
    },
    {
     "name": "stdout",
     "output_type": "stream",
     "text": [
      "Saving file/data/u934/service_imagerie/v_kapoor/Fl4-2-Var/forFOLDERFutureRestoration/AzotKO_ubiEcadGFPEx1hetero_29_mov3/3DResults/%s_40x_bin1_05_5min_3_w2CSU-488_s2_t113.tif\n"
     ]
    },
    {
     "name": "stderr",
     "output_type": "stream",
     "text": [
      "100%|██████████| 64/64 [03:22<00:00,  2.62s/it]  \n"
     ]
    },
    {
     "name": "stdout",
     "output_type": "stream",
     "text": [
      "Saving file/data/u934/service_imagerie/v_kapoor/Fl4-2-Var/forFOLDERFutureRestoration/AzotKO_ubiEcadGFPEx1hetero_29_mov3/3DResults/%s_40x_bin1_05_5min_3_w2CSU-488_s5_t142.tif\n"
     ]
    },
    {
     "name": "stderr",
     "output_type": "stream",
     "text": [
      "100%|██████████| 64/64 [03:25<00:00,  2.67s/it]  \n"
     ]
    },
    {
     "name": "stdout",
     "output_type": "stream",
     "text": [
      "Saving file/data/u934/service_imagerie/v_kapoor/Fl4-2-Var/forFOLDERFutureRestoration/AzotKO_ubiEcadGFPEx1hetero_29_mov3/3DResults/%s_40x_bin1_05_5min_3_w2CSU-488_s4_t45.tif\n"
     ]
    },
    {
     "name": "stderr",
     "output_type": "stream",
     "text": [
      "100%|██████████| 64/64 [03:22<00:00,  2.64s/it]  \n"
     ]
    },
    {
     "name": "stdout",
     "output_type": "stream",
     "text": [
      "Saving file/data/u934/service_imagerie/v_kapoor/Fl4-2-Var/forFOLDERFutureRestoration/AzotKO_ubiEcadGFPEx1hetero_29_mov3/3DResults/%s_40x_bin1_05_5min_3_w2CSU-488_s1_t83.tif\n"
     ]
    },
    {
     "name": "stderr",
     "output_type": "stream",
     "text": [
      "100%|██████████| 64/64 [03:23<00:00,  2.70s/it]  \n"
     ]
    },
    {
     "name": "stdout",
     "output_type": "stream",
     "text": [
      "Saving file/data/u934/service_imagerie/v_kapoor/Fl4-2-Var/forFOLDERFutureRestoration/AzotKO_ubiEcadGFPEx1hetero_29_mov3/3DResults/%s_40x_bin1_05_5min_3_w2CSU-488_s3_t160.tif\n"
     ]
    },
    {
     "name": "stderr",
     "output_type": "stream",
     "text": [
      "100%|██████████| 64/64 [03:23<00:00,  2.63s/it]  \n"
     ]
    },
    {
     "name": "stdout",
     "output_type": "stream",
     "text": [
      "Saving file/data/u934/service_imagerie/v_kapoor/Fl4-2-Var/forFOLDERFutureRestoration/AzotKO_ubiEcadGFPEx1hetero_29_mov3/3DResults/%s_40x_bin1_05_5min_3_w2CSU-488_s4_t131.tif\n"
     ]
    },
    {
     "name": "stderr",
     "output_type": "stream",
     "text": [
      "100%|██████████| 64/64 [03:23<00:00,  2.66s/it]  \n"
     ]
    },
    {
     "name": "stdout",
     "output_type": "stream",
     "text": [
      "Saving file/data/u934/service_imagerie/v_kapoor/Fl4-2-Var/forFOLDERFutureRestoration/AzotKO_ubiEcadGFPEx1hetero_29_mov3/3DResults/%s_40x_bin1_05_5min_3_w2CSU-488_s1_t6.tif\n"
     ]
    },
    {
     "name": "stderr",
     "output_type": "stream",
     "text": [
      "100%|██████████| 64/64 [03:21<00:00,  2.63s/it]  \n"
     ]
    },
    {
     "name": "stdout",
     "output_type": "stream",
     "text": [
      "Saving file/data/u934/service_imagerie/v_kapoor/Fl4-2-Var/forFOLDERFutureRestoration/AzotKO_ubiEcadGFPEx1hetero_29_mov3/3DResults/%s_40x_bin1_05_5min_3_w2CSU-488_s4_t226.tif\n"
     ]
    },
    {
     "name": "stderr",
     "output_type": "stream",
     "text": [
      "100%|██████████| 64/64 [03:24<00:00,  2.68s/it]  \n"
     ]
    },
    {
     "name": "stdout",
     "output_type": "stream",
     "text": [
      "Saving file/data/u934/service_imagerie/v_kapoor/Fl4-2-Var/forFOLDERFutureRestoration/AzotKO_ubiEcadGFPEx1hetero_29_mov3/3DResults/%s_40x_bin1_05_5min_3_w2CSU-488_s6_t106.tif\n"
     ]
    },
    {
     "name": "stderr",
     "output_type": "stream",
     "text": [
      "100%|██████████| 64/64 [03:22<00:00,  2.64s/it]  \n"
     ]
    },
    {
     "name": "stdout",
     "output_type": "stream",
     "text": [
      "Saving file/data/u934/service_imagerie/v_kapoor/Fl4-2-Var/forFOLDERFutureRestoration/AzotKO_ubiEcadGFPEx1hetero_29_mov3/3DResults/%s_40x_bin1_05_5min_3_w2CSU-488_s1_t157.tif\n"
     ]
    },
    {
     "name": "stderr",
     "output_type": "stream",
     "text": [
      "100%|██████████| 64/64 [03:24<00:00,  2.67s/it]  \n"
     ]
    },
    {
     "name": "stdout",
     "output_type": "stream",
     "text": [
      "Saving file/data/u934/service_imagerie/v_kapoor/Fl4-2-Var/forFOLDERFutureRestoration/AzotKO_ubiEcadGFPEx1hetero_29_mov3/3DResults/%s_40x_bin1_05_5min_3_w2CSU-488_s4_t39.tif\n"
     ]
    },
    {
     "name": "stderr",
     "output_type": "stream",
     "text": [
      "100%|██████████| 64/64 [03:22<00:00,  2.67s/it]  \n"
     ]
    },
    {
     "name": "stdout",
     "output_type": "stream",
     "text": [
      "Saving file/data/u934/service_imagerie/v_kapoor/Fl4-2-Var/forFOLDERFutureRestoration/AzotKO_ubiEcadGFPEx1hetero_29_mov3/3DResults/%s_40x_bin1_05_5min_3_w2CSU-488_s6_t211.tif\n"
     ]
    },
    {
     "name": "stderr",
     "output_type": "stream",
     "text": [
      "100%|██████████| 64/64 [03:24<00:00,  2.64s/it]  \n"
     ]
    },
    {
     "name": "stdout",
     "output_type": "stream",
     "text": [
      "Saving file/data/u934/service_imagerie/v_kapoor/Fl4-2-Var/forFOLDERFutureRestoration/AzotKO_ubiEcadGFPEx1hetero_29_mov3/3DResults/%s_40x_bin1_05_5min_3_w2CSU-488_s1_t186.tif\n"
     ]
    },
    {
     "name": "stderr",
     "output_type": "stream",
     "text": [
      "100%|██████████| 64/64 [03:21<00:00,  2.63s/it]  \n"
     ]
    },
    {
     "name": "stdout",
     "output_type": "stream",
     "text": [
      "Saving file/data/u934/service_imagerie/v_kapoor/Fl4-2-Var/forFOLDERFutureRestoration/AzotKO_ubiEcadGFPEx1hetero_29_mov3/3DResults/%s_40x_bin1_05_5min_3_w2CSU-488_s5_t52.tif\n"
     ]
    },
    {
     "name": "stderr",
     "output_type": "stream",
     "text": [
      "100%|██████████| 64/64 [03:24<00:00,  2.67s/it]  \n"
     ]
    },
    {
     "name": "stdout",
     "output_type": "stream",
     "text": [
      "Saving file/data/u934/service_imagerie/v_kapoor/Fl4-2-Var/forFOLDERFutureRestoration/AzotKO_ubiEcadGFPEx1hetero_29_mov3/3DResults/%s_40x_bin1_05_5min_3_w2CSU-488_s6_t10.tif\n"
     ]
    },
    {
     "name": "stderr",
     "output_type": "stream",
     "text": [
      "100%|██████████| 64/64 [03:23<00:00,  2.64s/it]  \n"
     ]
    },
    {
     "name": "stdout",
     "output_type": "stream",
     "text": [
      "Saving file/data/u934/service_imagerie/v_kapoor/Fl4-2-Var/forFOLDERFutureRestoration/AzotKO_ubiEcadGFPEx1hetero_29_mov3/3DResults/%s_40x_bin1_05_5min_3_w2CSU-488_s5_t83.tif\n"
     ]
    },
    {
     "name": "stderr",
     "output_type": "stream",
     "text": [
      "100%|██████████| 64/64 [03:24<00:00,  2.69s/it]  \n"
     ]
    },
    {
     "name": "stdout",
     "output_type": "stream",
     "text": [
      "Saving file/data/u934/service_imagerie/v_kapoor/Fl4-2-Var/forFOLDERFutureRestoration/AzotKO_ubiEcadGFPEx1hetero_29_mov3/3DResults/%s_40x_bin1_05_5min_3_w2CSU-488_s1_t125.tif\n"
     ]
    },
    {
     "name": "stderr",
     "output_type": "stream",
     "text": [
      "100%|██████████| 64/64 [03:21<00:00,  2.64s/it]  \n"
     ]
    },
    {
     "name": "stdout",
     "output_type": "stream",
     "text": [
      "Saving file/data/u934/service_imagerie/v_kapoor/Fl4-2-Var/forFOLDERFutureRestoration/AzotKO_ubiEcadGFPEx1hetero_29_mov3/3DResults/%s_40x_bin1_05_5min_3_w2CSU-488_s6_t174.tif\n"
     ]
    },
    {
     "name": "stderr",
     "output_type": "stream",
     "text": [
      "100%|██████████| 64/64 [03:23<00:00,  2.66s/it]  \n"
     ]
    },
    {
     "name": "stdout",
     "output_type": "stream",
     "text": [
      "Saving file/data/u934/service_imagerie/v_kapoor/Fl4-2-Var/forFOLDERFutureRestoration/AzotKO_ubiEcadGFPEx1hetero_29_mov3/3DResults/%s_40x_bin1_05_5min_3_w2CSU-488_s1_t8.tif\n"
     ]
    },
    {
     "name": "stderr",
     "output_type": "stream",
     "text": [
      "100%|██████████| 64/64 [03:22<00:00,  2.63s/it]  \n"
     ]
    },
    {
     "name": "stdout",
     "output_type": "stream",
     "text": [
      "Saving file/data/u934/service_imagerie/v_kapoor/Fl4-2-Var/forFOLDERFutureRestoration/AzotKO_ubiEcadGFPEx1hetero_29_mov3/3DResults/%s_40x_bin1_05_5min_3_w2CSU-488_s5_t20.tif\n"
     ]
    },
    {
     "name": "stderr",
     "output_type": "stream",
     "text": [
      "100%|██████████| 64/64 [03:25<00:00,  2.66s/it]  \n"
     ]
    },
    {
     "name": "stdout",
     "output_type": "stream",
     "text": [
      "Saving file/data/u934/service_imagerie/v_kapoor/Fl4-2-Var/forFOLDERFutureRestoration/AzotKO_ubiEcadGFPEx1hetero_29_mov3/3DResults/%s_40x_bin1_05_5min_3_w2CSU-488_s6_t3.tif\n"
     ]
    },
    {
     "name": "stderr",
     "output_type": "stream",
     "text": [
      "100%|██████████| 64/64 [03:22<00:00,  2.63s/it]  \n"
     ]
    },
    {
     "name": "stdout",
     "output_type": "stream",
     "text": [
      "Saving file/data/u934/service_imagerie/v_kapoor/Fl4-2-Var/forFOLDERFutureRestoration/AzotKO_ubiEcadGFPEx1hetero_29_mov3/3DResults/%s_40x_bin1_05_5min_3_w2CSU-488_s6_t62.tif\n"
     ]
    },
    {
     "name": "stderr",
     "output_type": "stream",
     "text": [
      "100%|██████████| 64/64 [03:23<00:00,  2.66s/it]  \n"
     ]
    },
    {
     "name": "stdout",
     "output_type": "stream",
     "text": [
      "Saving file/data/u934/service_imagerie/v_kapoor/Fl4-2-Var/forFOLDERFutureRestoration/AzotKO_ubiEcadGFPEx1hetero_29_mov3/3DResults/%s_40x_bin1_05_5min_3_w2CSU-488_s3_t75.tif\n"
     ]
    },
    {
     "name": "stderr",
     "output_type": "stream",
     "text": [
      "100%|██████████| 64/64 [03:22<00:00,  2.64s/it]  \n"
     ]
    },
    {
     "name": "stdout",
     "output_type": "stream",
     "text": [
      "Saving file/data/u934/service_imagerie/v_kapoor/Fl4-2-Var/forFOLDERFutureRestoration/AzotKO_ubiEcadGFPEx1hetero_29_mov3/3DResults/%s_40x_bin1_05_5min_3_w2CSU-488_s2_t62.tif\n"
     ]
    },
    {
     "name": "stderr",
     "output_type": "stream",
     "text": [
      "100%|██████████| 64/64 [03:24<00:00,  2.67s/it]  \n"
     ]
    },
    {
     "name": "stdout",
     "output_type": "stream",
     "text": [
      "Saving file/data/u934/service_imagerie/v_kapoor/Fl4-2-Var/forFOLDERFutureRestoration/AzotKO_ubiEcadGFPEx1hetero_29_mov3/3DResults/%s_40x_bin1_05_5min_3_w2CSU-488_s6_t108.tif\n"
     ]
    },
    {
     "name": "stderr",
     "output_type": "stream",
     "text": [
      "100%|██████████| 64/64 [03:21<00:00,  2.63s/it]  \n"
     ]
    },
    {
     "name": "stdout",
     "output_type": "stream",
     "text": [
      "Saving file/data/u934/service_imagerie/v_kapoor/Fl4-2-Var/forFOLDERFutureRestoration/AzotKO_ubiEcadGFPEx1hetero_29_mov3/3DResults/%s_40x_bin1_05_5min_3_w2CSU-488_s1_t20.tif\n"
     ]
    },
    {
     "name": "stderr",
     "output_type": "stream",
     "text": [
      "100%|██████████| 64/64 [03:24<00:00,  2.65s/it]  \n"
     ]
    },
    {
     "name": "stdout",
     "output_type": "stream",
     "text": [
      "Saving file/data/u934/service_imagerie/v_kapoor/Fl4-2-Var/forFOLDERFutureRestoration/AzotKO_ubiEcadGFPEx1hetero_29_mov3/3DResults/%s_40x_bin1_05_5min_3_w2CSU-488_s1_t159.tif\n"
     ]
    },
    {
     "name": "stderr",
     "output_type": "stream",
     "text": [
      "100%|██████████| 64/64 [03:23<00:00,  2.66s/it]  \n"
     ]
    },
    {
     "name": "stdout",
     "output_type": "stream",
     "text": [
      "Saving file/data/u934/service_imagerie/v_kapoor/Fl4-2-Var/forFOLDERFutureRestoration/AzotKO_ubiEcadGFPEx1hetero_29_mov3/3DResults/%s_40x_bin1_05_5min_3_w2CSU-488_s5_t130.tif\n"
     ]
    },
    {
     "name": "stderr",
     "output_type": "stream",
     "text": [
      "100%|██████████| 64/64 [03:24<00:00,  2.68s/it]  \n"
     ]
    },
    {
     "name": "stdout",
     "output_type": "stream",
     "text": [
      "Saving file/data/u934/service_imagerie/v_kapoor/Fl4-2-Var/forFOLDERFutureRestoration/AzotKO_ubiEcadGFPEx1hetero_29_mov3/3DResults/%s_40x_bin1_05_5min_3_w2CSU-488_s2_t161.tif\n"
     ]
    },
    {
     "name": "stderr",
     "output_type": "stream",
     "text": [
      "100%|██████████| 64/64 [03:23<00:00,  2.64s/it]  \n"
     ]
    },
    {
     "name": "stdout",
     "output_type": "stream",
     "text": [
      "Saving file/data/u934/service_imagerie/v_kapoor/Fl4-2-Var/forFOLDERFutureRestoration/AzotKO_ubiEcadGFPEx1hetero_29_mov3/3DResults/%s_40x_bin1_05_5min_3_w2CSU-488_s4_t37.tif\n"
     ]
    },
    {
     "name": "stderr",
     "output_type": "stream",
     "text": [
      "100%|██████████| 64/64 [03:23<00:00,  2.66s/it]  \n"
     ]
    },
    {
     "name": "stdout",
     "output_type": "stream",
     "text": [
      "Saving file/data/u934/service_imagerie/v_kapoor/Fl4-2-Var/forFOLDERFutureRestoration/AzotKO_ubiEcadGFPEx1hetero_29_mov3/3DResults/%s_40x_bin1_05_5min_3_w2CSU-488_s1_t188.tif\n"
     ]
    },
    {
     "name": "stderr",
     "output_type": "stream",
     "text": [
      "100%|██████████| 64/64 [03:21<00:00,  2.63s/it]  \n"
     ]
    },
    {
     "name": "stdout",
     "output_type": "stream",
     "text": [
      "Saving file/data/u934/service_imagerie/v_kapoor/Fl4-2-Var/forFOLDERFutureRestoration/AzotKO_ubiEcadGFPEx1hetero_29_mov3/3DResults/%s_40x_bin1_05_5min_3_w2CSU-488_s4_t143.tif\n"
     ]
    },
    {
     "name": "stderr",
     "output_type": "stream",
     "text": [
      "100%|██████████| 64/64 [03:23<00:00,  2.65s/it]  \n"
     ]
    },
    {
     "name": "stdout",
     "output_type": "stream",
     "text": [
      "Saving file/data/u934/service_imagerie/v_kapoor/Fl4-2-Var/forFOLDERFutureRestoration/AzotKO_ubiEcadGFPEx1hetero_29_mov3/3DResults/%s_40x_bin1_05_5min_3_w2CSU-488_s3_t112.tif\n"
     ]
    },
    {
     "name": "stderr",
     "output_type": "stream",
     "text": [
      "100%|██████████| 64/64 [03:21<00:00,  2.63s/it]  \n"
     ]
    },
    {
     "name": "stdout",
     "output_type": "stream",
     "text": [
      "Saving file/data/u934/service_imagerie/v_kapoor/Fl4-2-Var/forFOLDERFutureRestoration/AzotKO_ubiEcadGFPEx1hetero_29_mov3/3DResults/%s_40x_bin1_05_5min_3_w2CSU-488_s4_t192.tif\n"
     ]
    },
    {
     "name": "stderr",
     "output_type": "stream",
     "text": [
      "100%|██████████| 64/64 [03:24<00:00,  2.68s/it]  \n"
     ]
    },
    {
     "name": "stdout",
     "output_type": "stream",
     "text": [
      "Saving file/data/u934/service_imagerie/v_kapoor/Fl4-2-Var/forFOLDERFutureRestoration/AzotKO_ubiEcadGFPEx1hetero_29_mov3/3DResults/%s_40x_bin1_05_5min_3_w2CSU-488_s3_t205.tif\n"
     ]
    },
    {
     "name": "stderr",
     "output_type": "stream",
     "text": [
      "100%|██████████| 64/64 [03:23<00:00,  2.66s/it]  \n"
     ]
    },
    {
     "name": "stdout",
     "output_type": "stream",
     "text": [
      "Saving file/data/u934/service_imagerie/v_kapoor/Fl4-2-Var/forFOLDERFutureRestoration/AzotKO_ubiEcadGFPEx1hetero_29_mov3/3DResults/%s_40x_bin1_05_5min_3_w2CSU-488_s2_t65.tif\n"
     ]
    },
    {
     "name": "stderr",
     "output_type": "stream",
     "text": [
      "100%|██████████| 64/64 [03:24<00:00,  2.71s/it]  \n"
     ]
    },
    {
     "name": "stdout",
     "output_type": "stream",
     "text": [
      "Saving file/data/u934/service_imagerie/v_kapoor/Fl4-2-Var/forFOLDERFutureRestoration/AzotKO_ubiEcadGFPEx1hetero_29_mov3/3DResults/%s_40x_bin1_05_5min_3_w2CSU-488_s1_t27.tif\n"
     ]
    },
    {
     "name": "stderr",
     "output_type": "stream",
     "text": [
      "100%|██████████| 64/64 [03:22<00:00,  2.63s/it]  \n"
     ]
    },
    {
     "name": "stdout",
     "output_type": "stream",
     "text": [
      "Saving file/data/u934/service_imagerie/v_kapoor/Fl4-2-Var/forFOLDERFutureRestoration/AzotKO_ubiEcadGFPEx1hetero_29_mov3/3DResults/%s_40x_bin1_05_5min_3_w2CSU-488_s5_t220.tif\n"
     ]
    },
    {
     "name": "stderr",
     "output_type": "stream",
     "text": [
      "100%|██████████| 64/64 [03:23<00:00,  2.64s/it]  \n"
     ]
    },
    {
     "name": "stdout",
     "output_type": "stream",
     "text": [
      "Saving file/data/u934/service_imagerie/v_kapoor/Fl4-2-Var/forFOLDERFutureRestoration/AzotKO_ubiEcadGFPEx1hetero_29_mov3/3DResults/%s_40x_bin1_05_5min_3_w2CSU-488_s6_t218.tif\n"
     ]
    },
    {
     "name": "stderr",
     "output_type": "stream",
     "text": [
      "100%|██████████| 64/64 [03:21<00:00,  2.69s/it]  \n"
     ]
    },
    {
     "name": "stdout",
     "output_type": "stream",
     "text": [
      "Saving file/data/u934/service_imagerie/v_kapoor/Fl4-2-Var/forFOLDERFutureRestoration/AzotKO_ubiEcadGFPEx1hetero_29_mov3/3DResults/%s_40x_bin1_05_5min_3_w2CSU-488_s2_t166.tif\n"
     ]
    },
    {
     "name": "stderr",
     "output_type": "stream",
     "text": [
      "100%|██████████| 64/64 [03:24<00:00,  2.71s/it]  \n"
     ]
    },
    {
     "name": "stdout",
     "output_type": "stream",
     "text": [
      "Saving file/data/u934/service_imagerie/v_kapoor/Fl4-2-Var/forFOLDERFutureRestoration/AzotKO_ubiEcadGFPEx1hetero_29_mov3/3DResults/%s_40x_bin1_05_5min_3_w2CSU-488_s5_t137.tif\n"
     ]
    },
    {
     "name": "stderr",
     "output_type": "stream",
     "text": [
      "100%|██████████| 64/64 [03:21<00:00,  2.63s/it]  \n"
     ]
    },
    {
     "name": "stdout",
     "output_type": "stream",
     "text": [
      "Saving file/data/u934/service_imagerie/v_kapoor/Fl4-2-Var/forFOLDERFutureRestoration/AzotKO_ubiEcadGFPEx1hetero_29_mov3/3DResults/%s_40x_bin1_05_5min_3_w2CSU-488_s4_t30.tif\n"
     ]
    },
    {
     "name": "stderr",
     "output_type": "stream",
     "text": [
      "100%|██████████| 64/64 [03:24<00:00,  2.69s/it]  \n"
     ]
    },
    {
     "name": "stdout",
     "output_type": "stream",
     "text": [
      "Saving file/data/u934/service_imagerie/v_kapoor/Fl4-2-Var/forFOLDERFutureRestoration/AzotKO_ubiEcadGFPEx1hetero_29_mov3/3DResults/%s_40x_bin1_05_5min_3_w2CSU-488_s6_t19.tif\n"
     ]
    },
    {
     "name": "stderr",
     "output_type": "stream",
     "text": [
      "100%|██████████| 64/64 [03:22<00:00,  2.63s/it]  \n"
     ]
    },
    {
     "name": "stdout",
     "output_type": "stream",
     "text": [
      "Saving file/data/u934/service_imagerie/v_kapoor/Fl4-2-Var/forFOLDERFutureRestoration/AzotKO_ubiEcadGFPEx1hetero_29_mov3/3DResults/%s_40x_bin1_05_5min_3_w2CSU-488_s3_t115.tif\n"
     ]
    },
    {
     "name": "stderr",
     "output_type": "stream",
     "text": [
      "100%|██████████| 64/64 [03:24<00:00,  2.68s/it]  \n"
     ]
    },
    {
     "name": "stdout",
     "output_type": "stream",
     "text": [
      "Saving file/data/u934/service_imagerie/v_kapoor/Fl4-2-Var/forFOLDERFutureRestoration/AzotKO_ubiEcadGFPEx1hetero_29_mov3/3DResults/%s_40x_bin1_05_5min_3_w2CSU-488_s4_t144.tif\n"
     ]
    },
    {
     "name": "stderr",
     "output_type": "stream",
     "text": [
      "100%|██████████| 64/64 [03:22<00:00,  2.67s/it]  \n"
     ]
    },
    {
     "name": "stdout",
     "output_type": "stream",
     "text": [
      "Saving file/data/u934/service_imagerie/v_kapoor/Fl4-2-Var/forFOLDERFutureRestoration/AzotKO_ubiEcadGFPEx1hetero_29_mov3/3DResults/%s_40x_bin1_05_5min_3_w2CSU-488_s4_t195.tif\n"
     ]
    },
    {
     "name": "stderr",
     "output_type": "stream",
     "text": [
      "100%|██████████| 64/64 [03:23<00:00,  2.65s/it]  \n"
     ]
    },
    {
     "name": "stdout",
     "output_type": "stream",
     "text": [
      "Saving file/data/u934/service_imagerie/v_kapoor/Fl4-2-Var/forFOLDERFutureRestoration/AzotKO_ubiEcadGFPEx1hetero_29_mov3/3DResults/%s_40x_bin1_05_5min_3_w2CSU-488_s3_t202.tif\n"
     ]
    },
    {
     "name": "stderr",
     "output_type": "stream",
     "text": [
      "100%|██████████| 64/64 [03:21<00:00,  2.64s/it]  \n"
     ]
    },
    {
     "name": "stdout",
     "output_type": "stream",
     "text": [
      "Saving file/data/u934/service_imagerie/v_kapoor/Fl4-2-Var/forFOLDERFutureRestoration/AzotKO_ubiEcadGFPEx1hetero_29_mov3/3DResults/%s_40x_bin1_05_5min_3_w2CSU-488_s6_t173.tif\n"
     ]
    },
    {
     "name": "stderr",
     "output_type": "stream",
     "text": [
      "100%|██████████| 64/64 [03:23<00:00,  2.69s/it]  \n"
     ]
    },
    {
     "name": "stdout",
     "output_type": "stream",
     "text": [
      "Saving file/data/u934/service_imagerie/v_kapoor/Fl4-2-Var/forFOLDERFutureRestoration/AzotKO_ubiEcadGFPEx1hetero_29_mov3/3DResults/%s_40x_bin1_05_5min_3_w2CSU-488_s1_t122.tif\n"
     ]
    },
    {
     "name": "stderr",
     "output_type": "stream",
     "text": [
      "100%|██████████| 64/64 [03:22<00:00,  2.63s/it]  \n"
     ]
    },
    {
     "name": "stdout",
     "output_type": "stream",
     "text": [
      "Saving file/data/u934/service_imagerie/v_kapoor/Fl4-2-Var/forFOLDERFutureRestoration/AzotKO_ubiEcadGFPEx1hetero_29_mov3/3DResults/%s_40x_bin1_05_5min_3_w2CSU-488_s2_t19.tif\n"
     ]
    },
    {
     "name": "stderr",
     "output_type": "stream",
     "text": [
      "100%|██████████| 64/64 [03:23<00:00,  2.66s/it]  \n"
     ]
    },
    {
     "name": "stdout",
     "output_type": "stream",
     "text": [
      "Saving file/data/u934/service_imagerie/v_kapoor/Fl4-2-Var/forFOLDERFutureRestoration/AzotKO_ubiEcadGFPEx1hetero_29_mov3/3DResults/%s_40x_bin1_05_5min_3_w2CSU-488_s5_t27.tif\n"
     ]
    },
    {
     "name": "stderr",
     "output_type": "stream",
     "text": [
      "100%|██████████| 64/64 [03:22<00:00,  2.63s/it]  \n"
     ]
    },
    {
     "name": "stdout",
     "output_type": "stream",
     "text": [
      "Saving file/data/u934/service_imagerie/v_kapoor/Fl4-2-Var/forFOLDERFutureRestoration/AzotKO_ubiEcadGFPEx1hetero_29_mov3/3DResults/%s_40x_bin1_05_5min_3_w2CSU-488_s6_t65.tif\n"
     ]
    },
    {
     "name": "stderr",
     "output_type": "stream",
     "text": [
      "100%|██████████| 64/64 [03:22<00:00,  2.63s/it]  \n"
     ]
    },
    {
     "name": "stdout",
     "output_type": "stream",
     "text": [
      "Saving file/data/u934/service_imagerie/v_kapoor/Fl4-2-Var/forFOLDERFutureRestoration/AzotKO_ubiEcadGFPEx1hetero_29_mov3/3DResults/%s_40x_bin1_05_5min_3_w2CSU-488_s4_t138.tif\n"
     ]
    },
    {
     "name": "stderr",
     "output_type": "stream",
     "text": [
      "100%|██████████| 64/64 [03:22<00:00,  2.64s/it]  \n"
     ]
    },
    {
     "name": "stdout",
     "output_type": "stream",
     "text": [
      "Saving file/data/u934/service_imagerie/v_kapoor/Fl4-2-Var/forFOLDERFutureRestoration/AzotKO_ubiEcadGFPEx1hetero_29_mov3/3DResults/%s_40x_bin1_05_5min_3_w2CSU-488_s6_t4.tif\n"
     ]
    },
    {
     "name": "stderr",
     "output_type": "stream",
     "text": [
      "100%|██████████| 64/64 [03:24<00:00,  2.65s/it]  \n"
     ]
    },
    {
     "name": "stdout",
     "output_type": "stream",
     "text": [
      "Saving file/data/u934/service_imagerie/v_kapoor/Fl4-2-Var/forFOLDERFutureRestoration/AzotKO_ubiEcadGFPEx1hetero_29_mov3/3DResults/%s_40x_bin1_05_5min_3_w2CSU-488_s3_t169.tif\n"
     ]
    },
    {
     "name": "stderr",
     "output_type": "stream",
     "text": [
      "100%|██████████| 64/64 [03:23<00:00,  2.65s/it]  \n"
     ]
    },
    {
     "name": "stdout",
     "output_type": "stream",
     "text": [
      "Saving file/data/u934/service_imagerie/v_kapoor/Fl4-2-Var/forFOLDERFutureRestoration/AzotKO_ubiEcadGFPEx1hetero_29_mov3/3DResults/%s_40x_bin1_05_5min_3_w2CSU-488_s3_t72.tif\n"
     ]
    },
    {
     "name": "stderr",
     "output_type": "stream",
     "text": [
      "100%|██████████| 64/64 [03:23<00:00,  2.65s/it]  \n"
     ]
    },
    {
     "name": "stdout",
     "output_type": "stream",
     "text": [
      "Saving file/data/u934/service_imagerie/v_kapoor/Fl4-2-Var/forFOLDERFutureRestoration/AzotKO_ubiEcadGFPEx1hetero_29_mov3/3DResults/%s_40x_bin1_05_5min_3_w2CSU-488_s2_t81.tif\n"
     ]
    },
    {
     "name": "stderr",
     "output_type": "stream",
     "text": [
      "100%|██████████| 64/64 [03:21<00:00,  2.64s/it]  \n"
     ]
    },
    {
     "name": "stdout",
     "output_type": "stream",
     "text": [
      "Saving file/data/u934/service_imagerie/v_kapoor/Fl4-2-Var/forFOLDERFutureRestoration/AzotKO_ubiEcadGFPEx1hetero_29_mov3/3DResults/%s_40x_bin1_05_5min_3_w2CSU-488_s5_t102.tif\n"
     ]
    },
    {
     "name": "stderr",
     "output_type": "stream",
     "text": [
      "100%|██████████| 64/64 [03:25<00:00,  2.66s/it]  \n"
     ]
    },
    {
     "name": "stdout",
     "output_type": "stream",
     "text": [
      "Saving file/data/u934/service_imagerie/v_kapoor/Fl4-2-Var/forFOLDERFutureRestoration/AzotKO_ubiEcadGFPEx1hetero_29_mov3/3DResults/%s_40x_bin1_05_5min_3_w2CSU-488_s2_t153.tif\n"
     ]
    },
    {
     "name": "stderr",
     "output_type": "stream",
     "text": [
      "100%|██████████| 64/64 [03:22<00:00,  2.65s/it]  \n"
     ]
    },
    {
     "name": "stdout",
     "output_type": "stream",
     "text": [
      "Saving file/data/u934/service_imagerie/v_kapoor/Fl4-2-Var/forFOLDERFutureRestoration/AzotKO_ubiEcadGFPEx1hetero_29_mov3/3DResults/%s_40x_bin1_05_5min_3_w2CSU-488_s2_t182.tif\n"
     ]
    },
    {
     "name": "stderr",
     "output_type": "stream",
     "text": [
      "100%|██████████| 64/64 [03:24<00:00,  2.65s/it]  \n"
     ]
    },
    {
     "name": "stdout",
     "output_type": "stream",
     "text": [
      "Saving file/data/u934/service_imagerie/v_kapoor/Fl4-2-Var/forFOLDERFutureRestoration/AzotKO_ubiEcadGFPEx1hetero_29_mov3/3DResults/%s_40x_bin1_05_5min_3_w2CSU-488_s2_t50.tif\n"
     ]
    },
    {
     "name": "stderr",
     "output_type": "stream",
     "text": [
      "100%|██████████| 64/64 [03:22<00:00,  2.63s/it]  \n"
     ]
    },
    {
     "name": "stdout",
     "output_type": "stream",
     "text": [
      "Saving file/data/u934/service_imagerie/v_kapoor/Fl4-2-Var/forFOLDERFutureRestoration/AzotKO_ubiEcadGFPEx1hetero_29_mov3/3DResults/%s_40x_bin1_05_5min_3_w2CSU-488_s5_t215.tif\n"
     ]
    },
    {
     "name": "stderr",
     "output_type": "stream",
     "text": [
      "100%|██████████| 64/64 [03:25<00:00,  2.68s/it]  \n"
     ]
    },
    {
     "name": "stdout",
     "output_type": "stream",
     "text": [
      "Saving file/data/u934/service_imagerie/v_kapoor/Fl4-2-Var/forFOLDERFutureRestoration/AzotKO_ubiEcadGFPEx1hetero_29_mov3/3DResults/%s_40x_bin1_05_5min_3_w2CSU-488_s1_t12.tif\n"
     ]
    },
    {
     "name": "stderr",
     "output_type": "stream",
     "text": [
      "100%|██████████| 64/64 [03:22<00:00,  2.64s/it]  \n"
     ]
    },
    {
     "name": "stdout",
     "output_type": "stream",
     "text": [
      "Saving file/data/u934/service_imagerie/v_kapoor/Fl4-2-Var/forFOLDERFutureRestoration/AzotKO_ubiEcadGFPEx1hetero_29_mov3/3DResults/%s_40x_bin1_05_5min_3_w2CSU-488_s4_t171.tif\n"
     ]
    },
    {
     "name": "stderr",
     "output_type": "stream",
     "text": [
      "100%|██████████| 64/64 [03:23<00:00,  2.65s/it]  \n"
     ]
    },
    {
     "name": "stdout",
     "output_type": "stream",
     "text": [
      "Saving file/data/u934/service_imagerie/v_kapoor/Fl4-2-Var/forFOLDERFutureRestoration/AzotKO_ubiEcadGFPEx1hetero_29_mov3/3DResults/%s_40x_bin1_05_5min_3_w2CSU-488_s3_t120.tif\n"
     ]
    },
    {
     "name": "stderr",
     "output_type": "stream",
     "text": [
      "100%|██████████| 64/64 [03:22<00:00,  2.67s/it]  \n"
     ]
    },
    {
     "name": "stdout",
     "output_type": "stream",
     "text": [
      "Saving file/data/u934/service_imagerie/v_kapoor/Fl4-2-Var/forFOLDERFutureRestoration/AzotKO_ubiEcadGFPEx1hetero_29_mov3/3DResults/%s_40x_bin1_05_5min_3_w2CSU-488_s6_t197.tif\n"
     ]
    },
    {
     "name": "stderr",
     "output_type": "stream",
     "text": [
      "100%|██████████| 64/64 [03:23<00:00,  2.65s/it]  \n"
     ]
    },
    {
     "name": "stdout",
     "output_type": "stream",
     "text": [
      "Saving file/data/u934/service_imagerie/v_kapoor/Fl4-2-Var/forFOLDERFutureRestoration/AzotKO_ubiEcadGFPEx1hetero_29_mov3/3DResults/%s_40x_bin1_05_5min_3_w2CSU-488_s4_t79.tif\n"
     ]
    },
    {
     "name": "stderr",
     "output_type": "stream",
     "text": [
      "100%|██████████| 64/64 [03:21<00:00,  2.63s/it]  \n"
     ]
    },
    {
     "name": "stdout",
     "output_type": "stream",
     "text": [
      "Saving file/data/u934/service_imagerie/v_kapoor/Fl4-2-Var/forFOLDERFutureRestoration/AzotKO_ubiEcadGFPEx1hetero_29_mov3/3DResults/%s_40x_bin1_05_5min_3_w2CSU-488_s1_t200.tif\n"
     ]
    },
    {
     "name": "stderr",
     "output_type": "stream",
     "text": [
      "100%|██████████| 64/64 [03:24<00:00,  2.67s/it]  \n"
     ]
    },
    {
     "name": "stdout",
     "output_type": "stream",
     "text": [
      "Saving file/data/u934/service_imagerie/v_kapoor/Fl4-2-Var/forFOLDERFutureRestoration/AzotKO_ubiEcadGFPEx1hetero_29_mov3/3DResults/%s_40x_bin1_05_5min_3_w2CSU-488_s1_t117.tif\n"
     ]
    },
    {
     "name": "stderr",
     "output_type": "stream",
     "text": [
      "100%|██████████| 64/64 [03:23<00:00,  2.66s/it]  \n"
     ]
    },
    {
     "name": "stdout",
     "output_type": "stream",
     "text": [
      "Saving file/data/u934/service_imagerie/v_kapoor/Fl4-2-Var/forFOLDERFutureRestoration/AzotKO_ubiEcadGFPEx1hetero_29_mov3/3DResults/%s_40x_bin1_05_5min_3_w2CSU-488_s6_t146.tif\n"
     ]
    },
    {
     "name": "stderr",
     "output_type": "stream",
     "text": [
      "100%|██████████| 64/64 [03:24<00:00,  2.69s/it]  \n"
     ]
    },
    {
     "name": "stdout",
     "output_type": "stream",
     "text": [
      "Saving file/data/u934/service_imagerie/v_kapoor/Fl4-2-Var/forFOLDERFutureRestoration/AzotKO_ubiEcadGFPEx1hetero_29_mov3/3DResults/%s_40x_bin1_05_5min_3_w2CSU-488_s3_t47.tif\n"
     ]
    },
    {
     "name": "stderr",
     "output_type": "stream",
     "text": [
      "100%|██████████| 64/64 [03:22<00:00,  2.64s/it]  \n"
     ]
    },
    {
     "name": "stdout",
     "output_type": "stream",
     "text": [
      "Saving file/data/u934/service_imagerie/v_kapoor/Fl4-2-Var/forFOLDERFutureRestoration/AzotKO_ubiEcadGFPEx1hetero_29_mov3/3DResults/%s_40x_bin1_05_5min_3_w2CSU-488_s6_t81.tif\n"
     ]
    },
    {
     "name": "stderr",
     "output_type": "stream",
     "text": [
      "100%|██████████| 64/64 [03:24<00:00,  2.68s/it]  \n"
     ]
    },
    {
     "name": "stdout",
     "output_type": "stream",
     "text": [
      "Saving file/data/u934/service_imagerie/v_kapoor/Fl4-2-Var/forFOLDERFutureRestoration/AzotKO_ubiEcadGFPEx1hetero_29_mov3/3DResults/%s_40x_bin1_05_5min_3_w2CSU-488_s5_t12.tif\n"
     ]
    },
    {
     "name": "stderr",
     "output_type": "stream",
     "text": [
      "100%|██████████| 64/64 [03:22<00:00,  2.63s/it]  \n"
     ]
    },
    {
     "name": "stdout",
     "output_type": "stream",
     "text": [
      "Saving file/data/u934/service_imagerie/v_kapoor/Fl4-2-Var/forFOLDERFutureRestoration/AzotKO_ubiEcadGFPEx1hetero_29_mov3/3DResults/%s_40x_bin1_05_5min_3_w2CSU-488_s6_t50.tif\n"
     ]
    },
    {
     "name": "stderr",
     "output_type": "stream",
     "text": [
      "100%|██████████| 64/64 [03:23<00:00,  2.66s/it]  \n"
     ]
    },
    {
     "name": "stdout",
     "output_type": "stream",
     "text": [
      "Saving file/data/u934/service_imagerie/v_kapoor/Fl4-2-Var/forFOLDERFutureRestoration/AzotKO_ubiEcadGFPEx1hetero_29_mov3/3DResults/%s_40x_bin1_05_5min_3_w2CSU-488_s3_t96.tif\n"
     ]
    },
    {
     "name": "stderr",
     "output_type": "stream",
     "text": [
      "100%|██████████| 64/64 [03:22<00:00,  2.65s/it]  \n"
     ]
    },
    {
     "name": "stdout",
     "output_type": "stream",
     "text": [
      "Saving file/data/u934/service_imagerie/v_kapoor/Fl4-2-Var/forFOLDERFutureRestoration/AzotKO_ubiEcadGFPEx1hetero_29_mov3/3DResults/%s_40x_bin1_05_5min_3_w2CSU-488_s6_t190.tif\n"
     ]
    },
    {
     "name": "stderr",
     "output_type": "stream",
     "text": [
      "100%|██████████| 64/64 [03:25<00:00,  2.66s/it]  \n"
     ]
    },
    {
     "name": "stdout",
     "output_type": "stream",
     "text": [
      "Saving file/data/u934/service_imagerie/v_kapoor/Fl4-2-Var/forFOLDERFutureRestoration/AzotKO_ubiEcadGFPEx1hetero_29_mov3/3DResults/%s_40x_bin1_05_5min_3_w2CSU-488_s1_t207.tif\n"
     ]
    },
    {
     "name": "stderr",
     "output_type": "stream",
     "text": [
      "100%|██████████| 64/64 [03:21<00:00,  2.63s/it]  \n"
     ]
    },
    {
     "name": "stdout",
     "output_type": "stream",
     "text": [
      "Saving file/data/u934/service_imagerie/v_kapoor/Fl4-2-Var/forFOLDERFutureRestoration/AzotKO_ubiEcadGFPEx1hetero_29_mov3/3DResults/%s_40x_bin1_05_5min_3_w2CSU-488_s5_t179.tif\n"
     ]
    },
    {
     "name": "stderr",
     "output_type": "stream",
     "text": [
      "100%|██████████| 64/64 [03:24<00:00,  2.66s/it]  \n"
     ]
    },
    {
     "name": "stdout",
     "output_type": "stream",
     "text": [
      "Saving file/data/u934/service_imagerie/v_kapoor/Fl4-2-Var/forFOLDERFutureRestoration/AzotKO_ubiEcadGFPEx1hetero_29_mov3/3DResults/%s_40x_bin1_05_5min_3_w2CSU-488_s2_t128.tif\n"
     ]
    },
    {
     "name": "stderr",
     "output_type": "stream",
     "text": [
      "100%|██████████| 64/64 [03:22<00:00,  2.69s/it]  \n"
     ]
    },
    {
     "name": "stdout",
     "output_type": "stream",
     "text": [
      "Saving file/data/u934/service_imagerie/v_kapoor/Fl4-2-Var/forFOLDERFutureRestoration/AzotKO_ubiEcadGFPEx1hetero_29_mov3/3DResults/%s_40x_bin1_05_5min_3_w2CSU-488_s6_t141.tif\n"
     ]
    },
    {
     "name": "stderr",
     "output_type": "stream",
     "text": [
      "100%|██████████| 64/64 [03:24<00:00,  2.66s/it]  \n"
     ]
    },
    {
     "name": "stdout",
     "output_type": "stream",
     "text": [
      "Saving file/data/u934/service_imagerie/v_kapoor/Fl4-2-Var/forFOLDERFutureRestoration/AzotKO_ubiEcadGFPEx1hetero_29_mov3/3DResults/%s_40x_bin1_05_5min_3_w2CSU-488_s1_t69.tif\n"
     ]
    },
    {
     "name": "stderr",
     "output_type": "stream",
     "text": [
      "100%|██████████| 64/64 [03:22<00:00,  2.65s/it]  \n"
     ]
    },
    {
     "name": "stdout",
     "output_type": "stream",
     "text": [
      "Saving file/data/u934/service_imagerie/v_kapoor/Fl4-2-Var/forFOLDERFutureRestoration/AzotKO_ubiEcadGFPEx1hetero_29_mov3/3DResults/%s_40x_bin1_05_5min_3_w2CSU-488_s1_t110.tif\n"
     ]
    },
    {
     "name": "stderr",
     "output_type": "stream",
     "text": [
      "100%|██████████| 64/64 [03:23<00:00,  2.66s/it]  \n"
     ]
    },
    {
     "name": "stdout",
     "output_type": "stream",
     "text": [
      "Saving file/data/u934/service_imagerie/v_kapoor/Fl4-2-Var/forFOLDERFutureRestoration/AzotKO_ubiEcadGFPEx1hetero_29_mov3/3DResults/%s_40x_bin1_05_5min_3_w2CSU-488_s3_t40.tif\n"
     ]
    },
    {
     "name": "stderr",
     "output_type": "stream",
     "text": [
      "100%|██████████| 64/64 [03:22<00:00,  2.64s/it]  \n"
     ]
    },
    {
     "name": "stdout",
     "output_type": "stream",
     "text": [
      "Saving file/data/u934/service_imagerie/v_kapoor/Fl4-2-Var/forFOLDERFutureRestoration/AzotKO_ubiEcadGFPEx1hetero_29_mov3/3DResults/%s_40x_bin1_05_5min_3_w2CSU-488_s6_t86.tif\n"
     ]
    },
    {
     "name": "stderr",
     "output_type": "stream",
     "text": [
      "100%|██████████| 64/64 [03:23<00:00,  2.66s/it]  \n"
     ]
    },
    {
     "name": "stdout",
     "output_type": "stream",
     "text": [
      "Saving file/data/u934/service_imagerie/v_kapoor/Fl4-2-Var/forFOLDERFutureRestoration/AzotKO_ubiEcadGFPEx1hetero_29_mov3/3DResults/%s_40x_bin1_05_5min_3_w2CSU-488_s5_t15.tif\n"
     ]
    },
    {
     "name": "stderr",
     "output_type": "stream",
     "text": [
      "100%|██████████| 64/64 [03:21<00:00,  2.63s/it]  \n"
     ]
    },
    {
     "name": "stdout",
     "output_type": "stream",
     "text": [
      "Saving file/data/u934/service_imagerie/v_kapoor/Fl4-2-Var/forFOLDERFutureRestoration/AzotKO_ubiEcadGFPEx1hetero_29_mov3/3DResults/%s_40x_bin1_05_5min_3_w2CSU-488_s6_t57.tif\n"
     ]
    },
    {
     "name": "stderr",
     "output_type": "stream",
     "text": [
      "100%|██████████| 64/64 [03:25<00:00,  2.68s/it]  \n"
     ]
    },
    {
     "name": "stdout",
     "output_type": "stream",
     "text": [
      "Saving file/data/u934/service_imagerie/v_kapoor/Fl4-2-Var/forFOLDERFutureRestoration/AzotKO_ubiEcadGFPEx1hetero_29_mov3/3DResults/%s_40x_bin1_05_5min_3_w2CSU-488_s3_t91.tif\n"
     ]
    },
    {
     "name": "stderr",
     "output_type": "stream",
     "text": [
      "100%|██████████| 64/64 [03:23<00:00,  2.66s/it]  \n"
     ]
    },
    {
     "name": "stdout",
     "output_type": "stream",
     "text": [
      "Saving file/data/u934/service_imagerie/v_kapoor/Fl4-2-Var/forFOLDERFutureRestoration/AzotKO_ubiEcadGFPEx1hetero_29_mov3/3DResults/%s_40x_bin1_05_5min_3_w2CSU-488_s5_t7.tif\n"
     ]
    },
    {
     "name": "stderr",
     "output_type": "stream",
     "text": [
      "100%|██████████| 64/64 [03:24<00:00,  2.67s/it]  \n"
     ]
    },
    {
     "name": "stdout",
     "output_type": "stream",
     "text": [
      "Saving file/data/u934/service_imagerie/v_kapoor/Fl4-2-Var/forFOLDERFutureRestoration/AzotKO_ubiEcadGFPEx1hetero_29_mov3/3DResults/%s_40x_bin1_05_5min_3_w2CSU-488_s2_t86.tif\n"
     ]
    },
    {
     "name": "stderr",
     "output_type": "stream",
     "text": [
      "100%|██████████| 64/64 [03:23<00:00,  2.65s/it]  \n"
     ]
    },
    {
     "name": "stdout",
     "output_type": "stream",
     "text": [
      "Saving file/data/u934/service_imagerie/v_kapoor/Fl4-2-Var/forFOLDERFutureRestoration/AzotKO_ubiEcadGFPEx1hetero_29_mov3/3DResults/%s_40x_bin1_05_5min_3_w2CSU-488_s2_t154.tif\n"
     ]
    },
    {
     "name": "stderr",
     "output_type": "stream",
     "text": [
      "100%|██████████| 64/64 [03:24<00:00,  2.65s/it]  \n"
     ]
    },
    {
     "name": "stdout",
     "output_type": "stream",
     "text": [
      "Saving file/data/u934/service_imagerie/v_kapoor/Fl4-2-Var/forFOLDERFutureRestoration/AzotKO_ubiEcadGFPEx1hetero_29_mov3/3DResults/%s_40x_bin1_05_5min_3_w2CSU-488_s5_t105.tif\n"
     ]
    },
    {
     "name": "stderr",
     "output_type": "stream",
     "text": [
      "100%|██████████| 64/64 [03:22<00:00,  2.65s/it]  \n"
     ]
    },
    {
     "name": "stdout",
     "output_type": "stream",
     "text": [
      "Saving file/data/u934/service_imagerie/v_kapoor/Fl4-2-Var/forFOLDERFutureRestoration/AzotKO_ubiEcadGFPEx1hetero_29_mov3/3DResults/%s_40x_bin1_05_5min_3_w2CSU-488_s2_t185.tif\n"
     ]
    },
    {
     "name": "stderr",
     "output_type": "stream",
     "text": [
      "100%|██████████| 64/64 [03:23<00:00,  2.65s/it]  \n"
     ]
    },
    {
     "name": "stdout",
     "output_type": "stream",
     "text": [
      "Saving file/data/u934/service_imagerie/v_kapoor/Fl4-2-Var/forFOLDERFutureRestoration/AzotKO_ubiEcadGFPEx1hetero_29_mov3/3DResults/%s_40x_bin1_05_5min_3_w2CSU-488_s2_t57.tif\n"
     ]
    },
    {
     "name": "stderr",
     "output_type": "stream",
     "text": [
      "100%|██████████| 64/64 [03:22<00:00,  2.69s/it]  \n"
     ]
    },
    {
     "name": "stdout",
     "output_type": "stream",
     "text": [
      "Saving file/data/u934/service_imagerie/v_kapoor/Fl4-2-Var/forFOLDERFutureRestoration/AzotKO_ubiEcadGFPEx1hetero_29_mov3/3DResults/%s_40x_bin1_05_5min_3_w2CSU-488_s5_t212.tif\n"
     ]
    },
    {
     "name": "stderr",
     "output_type": "stream",
     "text": [
      "100%|██████████| 64/64 [03:24<00:00,  2.65s/it]  \n"
     ]
    },
    {
     "name": "stdout",
     "output_type": "stream",
     "text": [
      "Saving file/data/u934/service_imagerie/v_kapoor/Fl4-2-Var/forFOLDERFutureRestoration/AzotKO_ubiEcadGFPEx1hetero_29_mov3/3DResults/%s_40x_bin1_05_5min_3_w2CSU-488_s1_t15.tif\n"
     ]
    },
    {
     "name": "stderr",
     "output_type": "stream",
     "text": [
      "100%|██████████| 64/64 [03:21<00:00,  2.62s/it]  \n"
     ]
    },
    {
     "name": "stdout",
     "output_type": "stream",
     "text": [
      "Saving file/data/u934/service_imagerie/v_kapoor/Fl4-2-Var/forFOLDERFutureRestoration/AzotKO_ubiEcadGFPEx1hetero_29_mov3/3DResults/%s_40x_bin1_05_5min_3_w2CSU-488_s3_t127.tif\n"
     ]
    },
    {
     "name": "stderr",
     "output_type": "stream",
     "text": [
      "100%|██████████| 64/64 [03:23<00:00,  2.66s/it]  \n"
     ]
    },
    {
     "name": "stdout",
     "output_type": "stream",
     "text": [
      "Saving file/data/u934/service_imagerie/v_kapoor/Fl4-2-Var/forFOLDERFutureRestoration/AzotKO_ubiEcadGFPEx1hetero_29_mov3/3DResults/%s_40x_bin1_05_5min_3_w2CSU-488_s4_t176.tif\n"
     ]
    },
    {
     "name": "stderr",
     "output_type": "stream",
     "text": [
      "100%|██████████| 64/64 [03:23<00:00,  2.66s/it]  \n"
     ]
    },
    {
     "name": "stdout",
     "output_type": "stream",
     "text": [
      "Saving file/data/u934/service_imagerie/v_kapoor/Fl4-2-Var/forFOLDERFutureRestoration/AzotKO_ubiEcadGFPEx1hetero_29_mov3/3DResults/%s_40x_bin1_05_5min_3_w2CSU-488_s5_t69.tif\n"
     ]
    },
    {
     "name": "stderr",
     "output_type": "stream",
     "text": [
      "100%|██████████| 64/64 [03:23<00:00,  2.65s/it]  \n"
     ]
    },
    {
     "name": "stdout",
     "output_type": "stream",
     "text": [
      "Saving file/data/u934/service_imagerie/v_kapoor/Fl4-2-Var/forFOLDERFutureRestoration/AzotKO_ubiEcadGFPEx1hetero_29_mov3/3DResults/%s_40x_bin1_05_5min_3_w2CSU-488_s5_t177.tif\n"
     ]
    },
    {
     "name": "stderr",
     "output_type": "stream",
     "text": [
      "100%|██████████| 64/64 [03:21<00:00,  2.63s/it]  \n"
     ]
    },
    {
     "name": "stdout",
     "output_type": "stream",
     "text": [
      "Saving file/data/u934/service_imagerie/v_kapoor/Fl4-2-Var/forFOLDERFutureRestoration/AzotKO_ubiEcadGFPEx1hetero_29_mov3/3DResults/%s_40x_bin1_05_5min_3_w2CSU-488_s1_t209.tif\n"
     ]
    },
    {
     "name": "stderr",
     "output_type": "stream",
     "text": [
      "100%|██████████| 64/64 [03:23<00:00,  2.65s/it]  \n"
     ]
    },
    {
     "name": "stdout",
     "output_type": "stream",
     "text": [
      "Saving file/data/u934/service_imagerie/v_kapoor/Fl4-2-Var/forFOLDERFutureRestoration/AzotKO_ubiEcadGFPEx1hetero_29_mov3/3DResults/%s_40x_bin1_05_5min_3_w2CSU-488_s2_t126.tif\n"
     ]
    },
    {
     "name": "stderr",
     "output_type": "stream",
     "text": [
      "100%|██████████| 64/64 [03:21<00:00,  2.63s/it]  \n"
     ]
    },
    {
     "name": "stdout",
     "output_type": "stream",
     "text": [
      "Saving file/data/u934/service_imagerie/v_kapoor/Fl4-2-Var/forFOLDERFutureRestoration/AzotKO_ubiEcadGFPEx1hetero_29_mov3/3DResults/%s_40x_bin1_05_5min_3_w2CSU-488_s4_t70.tif\n"
     ]
    },
    {
     "name": "stderr",
     "output_type": "stream",
     "text": [
      "100%|██████████| 64/64 [03:24<00:00,  2.67s/it]  \n"
     ]
    },
    {
     "name": "stdout",
     "output_type": "stream",
     "text": [
      "Saving file/data/u934/service_imagerie/v_kapoor/Fl4-2-Var/forFOLDERFutureRestoration/AzotKO_ubiEcadGFPEx1hetero_29_mov3/3DResults/%s_40x_bin1_05_5min_3_w2CSU-488_s2_t25.tif\n"
     ]
    },
    {
     "name": "stderr",
     "output_type": "stream",
     "text": [
      "100%|██████████| 64/64 [03:22<00:00,  2.63s/it]  \n"
     ]
    },
    {
     "name": "stdout",
     "output_type": "stream",
     "text": [
      "Saving file/data/u934/service_imagerie/v_kapoor/Fl4-2-Var/forFOLDERFutureRestoration/AzotKO_ubiEcadGFPEx1hetero_29_mov3/3DResults/%s_40x_bin1_05_5min_3_w2CSU-488_s1_t67.tif\n"
     ]
    },
    {
     "name": "stderr",
     "output_type": "stream",
     "text": [
      "100%|██████████| 64/64 [03:24<00:00,  2.68s/it]  \n"
     ]
    },
    {
     "name": "stdout",
     "output_type": "stream",
     "text": [
      "Saving file/data/u934/service_imagerie/v_kapoor/Fl4-2-Var/forFOLDERFutureRestoration/AzotKO_ubiEcadGFPEx1hetero_29_mov3/3DResults/%s_40x_bin1_05_5min_3_w2CSU-488_s4_t213.tif\n"
     ]
    },
    {
     "name": "stderr",
     "output_type": "stream",
     "text": [
      "100%|██████████| 64/64 [03:23<00:00,  2.64s/it]  \n"
     ]
    },
    {
     "name": "stdout",
     "output_type": "stream",
     "text": [
      "Saving file/data/u934/service_imagerie/v_kapoor/Fl4-2-Var/forFOLDERFutureRestoration/AzotKO_ubiEcadGFPEx1hetero_29_mov3/3DResults/%s_40x_bin1_05_5min_3_w2CSU-488_s3_t184.tif\n"
     ]
    },
    {
     "name": "stderr",
     "output_type": "stream",
     "text": [
      "100%|██████████| 64/64 [03:23<00:00,  2.66s/it]  \n"
     ]
    },
    {
     "name": "stdout",
     "output_type": "stream",
     "text": [
      "Saving file/data/u934/service_imagerie/v_kapoor/Fl4-2-Var/forFOLDERFutureRestoration/AzotKO_ubiEcadGFPEx1hetero_29_mov3/3DResults/%s_40x_bin1_05_5min_3_w2CSU-488_s6_t88.tif\n"
     ]
    },
    {
     "name": "stderr",
     "output_type": "stream",
     "text": [
      "100%|██████████| 64/64 [03:21<00:00,  2.67s/it]  \n"
     ]
    },
    {
     "name": "stdout",
     "output_type": "stream",
     "text": [
      "Saving file/data/u934/service_imagerie/v_kapoor/Fl4-2-Var/forFOLDERFutureRestoration/AzotKO_ubiEcadGFPEx1hetero_29_mov3/3DResults/%s_40x_bin1_05_5min_3_w2CSU-488_s6_t59.tif\n"
     ]
    },
    {
     "name": "stderr",
     "output_type": "stream",
     "text": [
      "100%|██████████| 64/64 [03:23<00:00,  2.66s/it]  \n"
     ]
    },
    {
     "name": "stdout",
     "output_type": "stream",
     "text": [
      "Saving file/data/u934/service_imagerie/v_kapoor/Fl4-2-Var/forFOLDERFutureRestoration/AzotKO_ubiEcadGFPEx1hetero_29_mov3/3DResults/%s_40x_bin1_05_5min_3_w2CSU-488_s4_t104.tif\n"
     ]
    },
    {
     "name": "stderr",
     "output_type": "stream",
     "text": [
      "100%|██████████| 64/64 [03:22<00:00,  2.64s/it]  \n"
     ]
    },
    {
     "name": "stdout",
     "output_type": "stream",
     "text": [
      "Saving file/data/u934/service_imagerie/v_kapoor/Fl4-2-Var/forFOLDERFutureRestoration/AzotKO_ubiEcadGFPEx1hetero_29_mov3/3DResults/%s_40x_bin1_05_5min_3_w2CSU-488_s3_t155.tif\n"
     ]
    },
    {
     "name": "stderr",
     "output_type": "stream",
     "text": [
      "100%|██████████| 64/64 [03:24<00:00,  2.66s/it]  \n"
     ]
    },
    {
     "name": "stdout",
     "output_type": "stream",
     "text": [
      "Saving file/data/u934/service_imagerie/v_kapoor/Fl4-2-Var/forFOLDERFutureRestoration/AzotKO_ubiEcadGFPEx1hetero_29_mov3/3DResults/%s_40x_bin1_05_5min_3_w2CSU-488_s2_t2.tif\n"
     ]
    },
    {
     "name": "stderr",
     "output_type": "stream",
     "text": [
      "100%|██████████| 64/64 [03:22<00:00,  2.63s/it]  \n"
     ]
    },
    {
     "name": "stdout",
     "output_type": "stream",
     "text": [
      "Saving file/data/u934/service_imagerie/v_kapoor/Fl4-2-Var/forFOLDERFutureRestoration/AzotKO_ubiEcadGFPEx1hetero_29_mov3/3DResults/%s_40x_bin1_05_5min_3_w2CSU-488_s2_t88.tif\n"
     ]
    },
    {
     "name": "stderr",
     "output_type": "stream",
     "text": [
      "100%|██████████| 64/64 [03:23<00:00,  2.67s/it]  \n"
     ]
    },
    {
     "name": "stdout",
     "output_type": "stream",
     "text": [
      "Saving file/data/u934/service_imagerie/v_kapoor/Fl4-2-Var/forFOLDERFutureRestoration/AzotKO_ubiEcadGFPEx1hetero_29_mov3/3DResults/%s_40x_bin1_05_5min_3_w2CSU-488_s5_t9.tif\n"
     ]
    },
    {
     "name": "stderr",
     "output_type": "stream",
     "text": [
      "100%|██████████| 64/64 [03:22<00:00,  2.64s/it]  \n"
     ]
    },
    {
     "name": "stdout",
     "output_type": "stream",
     "text": [
      "Saving file/data/u934/service_imagerie/v_kapoor/Fl4-2-Var/forFOLDERFutureRestoration/AzotKO_ubiEcadGFPEx1hetero_29_mov3/3DResults/%s_40x_bin1_05_5min_3_w2CSU-488_s6_t224.tif\n"
     ]
    },
    {
     "name": "stderr",
     "output_type": "stream",
     "text": [
      "100%|██████████| 64/64 [03:24<00:00,  2.69s/it]  \n"
     ]
    },
    {
     "name": "stdout",
     "output_type": "stream",
     "text": [
      "Saving file/data/u934/service_imagerie/v_kapoor/Fl4-2-Var/forFOLDERFutureRestoration/AzotKO_ubiEcadGFPEx1hetero_29_mov3/3DResults/%s_40x_bin1_05_5min_3_w2CSU-488_s1_t162.tif\n"
     ]
    },
    {
     "name": "stderr",
     "output_type": "stream",
     "text": [
      "100%|██████████| 64/64 [03:21<00:00,  2.63s/it]  \n"
     ]
    },
    {
     "name": "stdout",
     "output_type": "stream",
     "text": [
      "Saving file/data/u934/service_imagerie/v_kapoor/Fl4-2-Var/forFOLDERFutureRestoration/AzotKO_ubiEcadGFPEx1hetero_29_mov3/3DResults/%s_40x_bin1_05_5min_3_w2CSU-488_s6_t133.tif\n"
     ]
    },
    {
     "name": "stderr",
     "output_type": "stream",
     "text": [
      "100%|██████████| 64/64 [03:23<00:00,  2.66s/it]  \n"
     ]
    },
    {
     "name": "stdout",
     "output_type": "stream",
     "text": [
      "Saving file/data/u934/service_imagerie/v_kapoor/Fl4-2-Var/forFOLDERFutureRestoration/AzotKO_ubiEcadGFPEx1hetero_29_mov3/3DResults/%s_40x_bin1_05_5min_3_w2CSU-488_s2_t59.tif\n"
     ]
    },
    {
     "name": "stderr",
     "output_type": "stream",
     "text": [
      "100%|██████████| 64/64 [03:21<00:00,  2.63s/it]  \n"
     ]
    },
    {
     "name": "stdout",
     "output_type": "stream",
     "text": [
      "Saving file/data/u934/service_imagerie/v_kapoor/Fl4-2-Var/forFOLDERFutureRestoration/AzotKO_ubiEcadGFPEx1hetero_29_mov3/3DResults/%s_40x_bin1_05_5min_3_w2CSU-488_s3_t32.tif\n"
     ]
    },
    {
     "name": "stderr",
     "output_type": "stream",
     "text": [
      "100%|██████████| 64/64 [03:23<00:00,  2.65s/it]  \n"
     ]
    },
    {
     "name": "stdout",
     "output_type": "stream",
     "text": [
      "Saving file/data/u934/service_imagerie/v_kapoor/Fl4-2-Var/forFOLDERFutureRestoration/AzotKO_ubiEcadGFPEx1hetero_29_mov3/3DResults/%s_40x_bin1_05_5min_3_w2CSU-488_s5_t67.tif\n"
     ]
    },
    {
     "name": "stderr",
     "output_type": "stream",
     "text": [
      "100%|██████████| 64/64 [03:21<00:00,  2.63s/it]  \n"
     ]
    },
    {
     "name": "stdout",
     "output_type": "stream",
     "text": [
      "Saving file/data/u934/service_imagerie/v_kapoor/Fl4-2-Var/forFOLDERFutureRestoration/AzotKO_ubiEcadGFPEx1hetero_29_mov3/3DResults/%s_40x_bin1_05_5min_3_w2CSU-488_s6_t25.tif\n"
     ]
    },
    {
     "name": "stderr",
     "output_type": "stream",
     "text": [
      "100%|██████████| 64/64 [03:23<00:00,  2.65s/it]  \n"
     ]
    },
    {
     "name": "stdout",
     "output_type": "stream",
     "text": [
      "Saving file/data/u934/service_imagerie/v_kapoor/Fl4-2-Var/forFOLDERFutureRestoration/AzotKO_ubiEcadGFPEx1hetero_29_mov3/3DResults/%s_40x_bin1_05_5min_3_w2CSU-488_s3_t129.tif\n"
     ]
    },
    {
     "name": "stderr",
     "output_type": "stream",
     "text": [
      "100%|██████████| 64/64 [03:21<00:00,  2.63s/it]  \n"
     ]
    },
    {
     "name": "stdout",
     "output_type": "stream",
     "text": [
      "Saving file/data/u934/service_imagerie/v_kapoor/Fl4-2-Var/forFOLDERFutureRestoration/AzotKO_ubiEcadGFPEx1hetero_29_mov3/3DResults/%s_40x_bin1_05_5min_3_w2CSU-488_s4_t178.tif\n"
     ]
    },
    {
     "name": "stderr",
     "output_type": "stream",
     "text": [
      "100%|██████████| 64/64 [03:23<00:00,  2.66s/it]  \n"
     ]
    },
    {
     "name": "stdout",
     "output_type": "stream",
     "text": [
      "Saving file/data/u934/service_imagerie/v_kapoor/Fl4-2-Var/forFOLDERFutureRestoration/AzotKO_ubiEcadGFPEx1hetero_29_mov3/3DResults/%s_40x_bin1_05_5min_3_w2CSU-488_s2_t5.tif\n"
     ]
    },
    {
     "name": "stderr",
     "output_type": "stream",
     "text": [
      "100%|██████████| 64/64 [03:21<00:00,  2.63s/it]  \n"
     ]
    },
    {
     "name": "stdout",
     "output_type": "stream",
     "text": [
      "Saving file/data/u934/service_imagerie/v_kapoor/Fl4-2-Var/forFOLDERFutureRestoration/AzotKO_ubiEcadGFPEx1hetero_29_mov3/3DResults/%s_40x_bin1_05_5min_3_w2CSU-488_s6_t223.tif\n"
     ]
    },
    {
     "name": "stderr",
     "output_type": "stream",
     "text": [
      "100%|██████████| 64/64 [03:25<00:00,  2.70s/it]  \n"
     ]
    },
    {
     "name": "stdout",
     "output_type": "stream",
     "text": [
      "Saving file/data/u934/service_imagerie/v_kapoor/Fl4-2-Var/forFOLDERFutureRestoration/AzotKO_ubiEcadGFPEx1hetero_29_mov3/3DResults/%s_40x_bin1_05_5min_3_w2CSU-488_s6_t134.tif\n"
     ]
    },
    {
     "name": "stderr",
     "output_type": "stream",
     "text": [
      "100%|██████████| 64/64 [03:23<00:00,  2.63s/it]  \n"
     ]
    },
    {
     "name": "stdout",
     "output_type": "stream",
     "text": [
      "Saving file/data/u934/service_imagerie/v_kapoor/Fl4-2-Var/forFOLDERFutureRestoration/AzotKO_ubiEcadGFPEx1hetero_29_mov3/3DResults/%s_40x_bin1_05_5min_3_w2CSU-488_s1_t165.tif\n"
     ]
    },
    {
     "name": "stderr",
     "output_type": "stream",
     "text": [
      "100%|██████████| 64/64 [03:23<00:00,  2.65s/it]  \n"
     ]
    },
    {
     "name": "stdout",
     "output_type": "stream",
     "text": [
      "Saving file/data/u934/service_imagerie/v_kapoor/Fl4-2-Var/forFOLDERFutureRestoration/AzotKO_ubiEcadGFPEx1hetero_29_mov3/3DResults/%s_40x_bin1_05_5min_3_w2CSU-488_s3_t35.tif\n"
     ]
    },
    {
     "name": "stderr",
     "output_type": "stream",
     "text": [
      "100%|██████████| 64/64 [03:22<00:00,  2.63s/it]  \n"
     ]
    },
    {
     "name": "stdout",
     "output_type": "stream",
     "text": [
      "Saving file/data/u934/service_imagerie/v_kapoor/Fl4-2-Var/forFOLDERFutureRestoration/AzotKO_ubiEcadGFPEx1hetero_29_mov3/3DResults/%s_40x_bin1_05_5min_3_w2CSU-488_s5_t60.tif\n"
     ]
    },
    {
     "name": "stderr",
     "output_type": "stream",
     "text": [
      "100%|██████████| 64/64 [03:23<00:00,  2.66s/it]  \n"
     ]
    },
    {
     "name": "stdout",
     "output_type": "stream",
     "text": [
      "Saving file/data/u934/service_imagerie/v_kapoor/Fl4-2-Var/forFOLDERFutureRestoration/AzotKO_ubiEcadGFPEx1hetero_29_mov3/3DResults/%s_40x_bin1_05_5min_3_w2CSU-488_s6_t22.tif\n"
     ]
    },
    {
     "name": "stderr",
     "output_type": "stream",
     "text": [
      "100%|██████████| 64/64 [03:22<00:00,  2.65s/it]  \n"
     ]
    },
    {
     "name": "stdout",
     "output_type": "stream",
     "text": [
      "Saving file/data/u934/service_imagerie/v_kapoor/Fl4-2-Var/forFOLDERFutureRestoration/AzotKO_ubiEcadGFPEx1hetero_29_mov3/3DResults/%s_40x_bin1_05_5min_3_w2CSU-488_s6_t199.tif\n"
     ]
    },
    {
     "name": "stderr",
     "output_type": "stream",
     "text": [
      "100%|██████████| 64/64 [03:24<00:00,  2.66s/it]  \n"
     ]
    },
    {
     "name": "stdout",
     "output_type": "stream",
     "text": [
      "Saving file/data/u934/service_imagerie/v_kapoor/Fl4-2-Var/forFOLDERFutureRestoration/AzotKO_ubiEcadGFPEx1hetero_29_mov3/3DResults/%s_40x_bin1_05_5min_3_w2CSU-488_s2_t121.tif\n"
     ]
    },
    {
     "name": "stderr",
     "output_type": "stream",
     "text": [
      "100%|██████████| 64/64 [03:21<00:00,  2.63s/it]  \n"
     ]
    },
    {
     "name": "stdout",
     "output_type": "stream",
     "text": [
      "Saving file/data/u934/service_imagerie/v_kapoor/Fl4-2-Var/forFOLDERFutureRestoration/AzotKO_ubiEcadGFPEx1hetero_29_mov3/3DResults/%s_40x_bin1_05_5min_3_w2CSU-488_s5_t170.tif\n"
     ]
    },
    {
     "name": "stderr",
     "output_type": "stream",
     "text": [
      "100%|██████████| 64/64 [03:23<00:00,  2.66s/it]  \n"
     ]
    },
    {
     "name": "stdout",
     "output_type": "stream",
     "text": [
      "Saving file/data/u934/service_imagerie/v_kapoor/Fl4-2-Var/forFOLDERFutureRestoration/AzotKO_ubiEcadGFPEx1hetero_29_mov3/3DResults/%s_40x_bin1_05_5min_3_w2CSU-488_s4_t77.tif\n"
     ]
    },
    {
     "name": "stderr",
     "output_type": "stream",
     "text": [
      "100%|██████████| 64/64 [03:22<00:00,  2.64s/it]  \n"
     ]
    },
    {
     "name": "stdout",
     "output_type": "stream",
     "text": [
      "Saving file/data/u934/service_imagerie/v_kapoor/Fl4-2-Var/forFOLDERFutureRestoration/AzotKO_ubiEcadGFPEx1hetero_29_mov3/3DResults/%s_40x_bin1_05_5min_3_w2CSU-488_s2_t22.tif\n"
     ]
    },
    {
     "name": "stderr",
     "output_type": "stream",
     "text": [
      "100%|██████████| 64/64 [03:24<00:00,  2.65s/it]  \n"
     ]
    },
    {
     "name": "stdout",
     "output_type": "stream",
     "text": [
      "Saving file/data/u934/service_imagerie/v_kapoor/Fl4-2-Var/forFOLDERFutureRestoration/AzotKO_ubiEcadGFPEx1hetero_29_mov3/3DResults/%s_40x_bin1_05_5min_3_w2CSU-488_s1_t119.tif\n"
     ]
    },
    {
     "name": "stderr",
     "output_type": "stream",
     "text": [
      "100%|██████████| 64/64 [03:22<00:00,  2.64s/it]  \n"
     ]
    },
    {
     "name": "stdout",
     "output_type": "stream",
     "text": [
      "Saving file/data/u934/service_imagerie/v_kapoor/Fl4-2-Var/forFOLDERFutureRestoration/AzotKO_ubiEcadGFPEx1hetero_29_mov3/3DResults/%s_40x_bin1_05_5min_3_w2CSU-488_s1_t60.tif\n"
     ]
    },
    {
     "name": "stderr",
     "output_type": "stream",
     "text": [
      "100%|██████████| 64/64 [03:25<00:00,  2.65s/it]  \n"
     ]
    },
    {
     "name": "stdout",
     "output_type": "stream",
     "text": [
      "Saving file/data/u934/service_imagerie/v_kapoor/Fl4-2-Var/forFOLDERFutureRestoration/AzotKO_ubiEcadGFPEx1hetero_29_mov3/3DResults/%s_40x_bin1_05_5min_3_w2CSU-488_s6_t148.tif\n"
     ]
    },
    {
     "name": "stderr",
     "output_type": "stream",
     "text": [
      "100%|██████████| 64/64 [03:22<00:00,  2.63s/it]  \n"
     ]
    },
    {
     "name": "stdout",
     "output_type": "stream",
     "text": [
      "Saving file/data/u934/service_imagerie/v_kapoor/Fl4-2-Var/forFOLDERFutureRestoration/AzotKO_ubiEcadGFPEx1hetero_29_mov3/3DResults/%s_40x_bin1_05_5min_3_w2CSU-488_s3_t49.tif\n"
     ]
    },
    {
     "name": "stderr",
     "output_type": "stream",
     "text": [
      "100%|██████████| 64/64 [03:24<00:00,  2.69s/it]  \n"
     ]
    },
    {
     "name": "stdout",
     "output_type": "stream",
     "text": [
      "Saving file/data/u934/service_imagerie/v_kapoor/Fl4-2-Var/forFOLDERFutureRestoration/AzotKO_ubiEcadGFPEx1hetero_29_mov3/3DResults/%s_40x_bin1_05_5min_3_w2CSU-488_s4_t214.tif\n"
     ]
    },
    {
     "name": "stderr",
     "output_type": "stream",
     "text": [
      "100%|██████████| 64/64 [03:22<00:00,  2.63s/it]  \n"
     ]
    },
    {
     "name": "stdout",
     "output_type": "stream",
     "text": [
      "Saving file/data/u934/service_imagerie/v_kapoor/Fl4-2-Var/forFOLDERFutureRestoration/AzotKO_ubiEcadGFPEx1hetero_29_mov3/3DResults/%s_40x_bin1_05_5min_3_w2CSU-488_s3_t183.tif\n"
     ]
    },
    {
     "name": "stderr",
     "output_type": "stream",
     "text": [
      "100%|██████████| 64/64 [03:24<00:00,  2.66s/it]  \n"
     ]
    },
    {
     "name": "stdout",
     "output_type": "stream",
     "text": [
      "Saving file/data/u934/service_imagerie/v_kapoor/Fl4-2-Var/forFOLDERFutureRestoration/AzotKO_ubiEcadGFPEx1hetero_29_mov3/3DResults/%s_40x_bin1_05_5min_3_w2CSU-488_s3_t152.tif\n"
     ]
    },
    {
     "name": "stderr",
     "output_type": "stream",
     "text": [
      "100%|██████████| 64/64 [03:22<00:00,  2.66s/it]  \n"
     ]
    },
    {
     "name": "stdout",
     "output_type": "stream",
     "text": [
      "Saving file/data/u934/service_imagerie/v_kapoor/Fl4-2-Var/forFOLDERFutureRestoration/AzotKO_ubiEcadGFPEx1hetero_29_mov3/3DResults/%s_40x_bin1_05_5min_3_w2CSU-488_s4_t103.tif\n"
     ]
    },
    {
     "name": "stderr",
     "output_type": "stream",
     "text": [
      "100%|██████████| 64/64 [03:24<00:00,  2.66s/it]  \n"
     ]
    },
    {
     "name": "stdout",
     "output_type": "stream",
     "text": [
      "Saving file/data/u934/service_imagerie/v_kapoor/Fl4-2-Var/forFOLDERFutureRestoration/AzotKO_ubiEcadGFPEx1hetero_29_mov3/3DResults/%s_40x_bin1_05_5min_3_w2CSU-488_s3_t98.tif\n"
     ]
    },
    {
     "name": "stderr",
     "output_type": "stream",
     "text": [
      "100%|██████████| 64/64 [03:23<00:00,  2.62s/it]  \n"
     ]
    },
    {
     "name": "stdout",
     "output_type": "stream",
     "text": [
      "Saving file/data/u934/service_imagerie/v_kapoor/Fl4-2-Var/forFOLDERFutureRestoration/AzotKO_ubiEcadGFPEx1hetero_29_mov3/3DResults/%s_40x_bin1_05_5min_3_w2CSU-488_s6_t33.tif\n"
     ]
    },
    {
     "name": "stderr",
     "output_type": "stream",
     "text": [
      "100%|██████████| 64/64 [03:24<00:00,  2.66s/it]  \n"
     ]
    },
    {
     "name": "stdout",
     "output_type": "stream",
     "text": [
      "Saving file/data/u934/service_imagerie/v_kapoor/Fl4-2-Var/forFOLDERFutureRestoration/AzotKO_ubiEcadGFPEx1hetero_29_mov3/3DResults/%s_40x_bin1_05_5min_3_w2CSU-488_s5_t71.tif\n"
     ]
    },
    {
     "name": "stderr",
     "output_type": "stream",
     "text": [
      "100%|██████████| 64/64 [03:22<00:00,  2.64s/it]  \n"
     ]
    },
    {
     "name": "stdout",
     "output_type": "stream",
     "text": [
      "Saving file/data/u934/service_imagerie/v_kapoor/Fl4-2-Var/forFOLDERFutureRestoration/AzotKO_ubiEcadGFPEx1hetero_29_mov3/3DResults/%s_40x_bin1_05_5min_3_w2CSU-488_s3_t24.tif\n"
     ]
    },
    {
     "name": "stderr",
     "output_type": "stream",
     "text": [
      "100%|██████████| 64/64 [03:24<00:00,  2.69s/it]  \n"
     ]
    },
    {
     "name": "stdout",
     "output_type": "stream",
     "text": [
      "Saving file/data/u934/service_imagerie/v_kapoor/Fl4-2-Var/forFOLDERFutureRestoration/AzotKO_ubiEcadGFPEx1hetero_29_mov3/3DResults/%s_40x_bin1_05_5min_3_w2CSU-488_s1_t174.tif\n"
     ]
    },
    {
     "name": "stderr",
     "output_type": "stream",
     "text": [
      "100%|██████████| 64/64 [03:22<00:00,  2.64s/it]  \n"
     ]
    },
    {
     "name": "stdout",
     "output_type": "stream",
     "text": [
      "Saving file/data/u934/service_imagerie/v_kapoor/Fl4-2-Var/forFOLDERFutureRestoration/AzotKO_ubiEcadGFPEx1hetero_29_mov3/3DResults/%s_40x_bin1_05_5min_3_w2CSU-488_s6_t125.tif\n"
     ]
    },
    {
     "name": "stderr",
     "output_type": "stream",
     "text": [
      "100%|██████████| 64/64 [03:23<00:00,  2.65s/it]  \n"
     ]
    },
    {
     "name": "stdout",
     "output_type": "stream",
     "text": [
      "Saving file/data/u934/service_imagerie/v_kapoor/Fl4-2-Var/forFOLDERFutureRestoration/AzotKO_ubiEcadGFPEx1hetero_29_mov3/3DResults/%s_40x_bin1_05_5min_3_w2CSU-488_s4_t112.tif\n"
     ]
    },
    {
     "name": "stderr",
     "output_type": "stream",
     "text": [
      "100%|██████████| 64/64 [03:21<00:00,  2.65s/it]  \n"
     ]
    },
    {
     "name": "stdout",
     "output_type": "stream",
     "text": [
      "Saving file/data/u934/service_imagerie/v_kapoor/Fl4-2-Var/forFOLDERFutureRestoration/AzotKO_ubiEcadGFPEx1hetero_29_mov3/3DResults/%s_40x_bin1_05_5min_3_w2CSU-488_s3_t143.tif\n"
     ]
    },
    {
     "name": "stderr",
     "output_type": "stream",
     "text": [
      "100%|██████████| 64/64 [03:23<00:00,  2.66s/it]  \n"
     ]
    },
    {
     "name": "stdout",
     "output_type": "stream",
     "text": [
      "Saving file/data/u934/service_imagerie/v_kapoor/Fl4-2-Var/forFOLDERFutureRestoration/AzotKO_ubiEcadGFPEx1hetero_29_mov3/3DResults/%s_40x_bin1_05_5min_3_w2CSU-488_s3_t89.tif\n"
     ]
    },
    {
     "name": "stderr",
     "output_type": "stream",
     "text": [
      "100%|██████████| 64/64 [03:21<00:00,  2.62s/it]  \n"
     ]
    },
    {
     "name": "stdout",
     "output_type": "stream",
     "text": [
      "Saving file/data/u934/service_imagerie/v_kapoor/Fl4-2-Var/forFOLDERFutureRestoration/AzotKO_ubiEcadGFPEx1hetero_29_mov3/3DResults/%s_40x_bin1_05_5min_3_w2CSU-488_s4_t205.tif\n"
     ]
    },
    {
     "name": "stderr",
     "output_type": "stream",
     "text": [
      "100%|██████████| 64/64 [03:24<00:00,  2.68s/it]  \n"
     ]
    },
    {
     "name": "stdout",
     "output_type": "stream",
     "text": [
      "Saving file/data/u934/service_imagerie/v_kapoor/Fl4-2-Var/forFOLDERFutureRestoration/AzotKO_ubiEcadGFPEx1hetero_29_mov3/3DResults/%s_40x_bin1_05_5min_3_w2CSU-488_s3_t58.tif\n"
     ]
    },
    {
     "name": "stderr",
     "output_type": "stream",
     "text": [
      "100%|██████████| 64/64 [03:22<00:00,  2.63s/it]  \n"
     ]
    },
    {
     "name": "stdout",
     "output_type": "stream",
     "text": [
      "Saving file/data/u934/service_imagerie/v_kapoor/Fl4-2-Var/forFOLDERFutureRestoration/AzotKO_ubiEcadGFPEx1hetero_29_mov3/3DResults/%s_40x_bin1_05_5min_3_w2CSU-488_s3_t6.tif\n"
     ]
    },
    {
     "name": "stderr",
     "output_type": "stream",
     "text": [
      "100%|██████████| 64/64 [03:24<00:00,  2.69s/it]  \n"
     ]
    },
    {
     "name": "stdout",
     "output_type": "stream",
     "text": [
      "Saving file/data/u934/service_imagerie/v_kapoor/Fl4-2-Var/forFOLDERFutureRestoration/AzotKO_ubiEcadGFPEx1hetero_29_mov3/3DResults/%s_40x_bin1_05_5min_3_w2CSU-488_s3_t192.tif\n"
     ]
    },
    {
     "name": "stderr",
     "output_type": "stream",
     "text": [
      "100%|██████████| 64/64 [03:22<00:00,  2.65s/it]  \n"
     ]
    },
    {
     "name": "stdout",
     "output_type": "stream",
     "text": [
      "Saving file/data/u934/service_imagerie/v_kapoor/Fl4-2-Var/forFOLDERFutureRestoration/AzotKO_ubiEcadGFPEx1hetero_29_mov3/3DResults/%s_40x_bin1_05_5min_3_w2CSU-488_s6_t159.tif\n"
     ]
    },
    {
     "name": "stderr",
     "output_type": "stream",
     "text": [
      "100%|██████████| 64/64 [03:24<00:00,  2.64s/it]  \n"
     ]
    },
    {
     "name": "stdout",
     "output_type": "stream",
     "text": [
      "Saving file/data/u934/service_imagerie/v_kapoor/Fl4-2-Var/forFOLDERFutureRestoration/AzotKO_ubiEcadGFPEx1hetero_29_mov3/3DResults/%s_40x_bin1_05_5min_3_w2CSU-488_s1_t108.tif\n"
     ]
    },
    {
     "name": "stderr",
     "output_type": "stream",
     "text": [
      "100%|██████████| 64/64 [03:23<00:00,  2.67s/it]  \n"
     ]
    },
    {
     "name": "stdout",
     "output_type": "stream",
     "text": [
      "Saving file/data/u934/service_imagerie/v_kapoor/Fl4-2-Var/forFOLDERFutureRestoration/AzotKO_ubiEcadGFPEx1hetero_29_mov3/3DResults/%s_40x_bin1_05_5min_3_w2CSU-488_s1_t71.tif\n"
     ]
    },
    {
     "name": "stderr",
     "output_type": "stream",
     "text": [
      "100%|██████████| 64/64 [03:25<00:00,  2.67s/it]  \n"
     ]
    },
    {
     "name": "stdout",
     "output_type": "stream",
     "text": [
      "Saving file/data/u934/service_imagerie/v_kapoor/Fl4-2-Var/forFOLDERFutureRestoration/AzotKO_ubiEcadGFPEx1hetero_29_mov3/3DResults/%s_40x_bin1_05_5min_3_w2CSU-488_s2_t33.tif\n"
     ]
    },
    {
     "name": "stderr",
     "output_type": "stream",
     "text": [
      "100%|██████████| 64/64 [03:22<00:00,  2.64s/it]  \n"
     ]
    },
    {
     "name": "stdout",
     "output_type": "stream",
     "text": [
      "Saving file/data/u934/service_imagerie/v_kapoor/Fl4-2-Var/forFOLDERFutureRestoration/AzotKO_ubiEcadGFPEx1hetero_29_mov3/3DResults/%s_40x_bin1_05_5min_3_w2CSU-488_s6_t188.tif\n"
     ]
    },
    {
     "name": "stderr",
     "output_type": "stream",
     "text": [
      "100%|██████████| 64/64 [03:24<00:00,  2.66s/it]  \n"
     ]
    },
    {
     "name": "stdout",
     "output_type": "stream",
     "text": [
      "Saving file/data/u934/service_imagerie/v_kapoor/Fl4-2-Var/forFOLDERFutureRestoration/AzotKO_ubiEcadGFPEx1hetero_29_mov3/3DResults/%s_40x_bin1_05_5min_3_w2CSU-488_s4_t66.tif\n"
     ]
    },
    {
     "name": "stderr",
     "output_type": "stream",
     "text": [
      "100%|██████████| 64/64 [03:23<00:00,  2.68s/it]  \n"
     ]
    },
    {
     "name": "stdout",
     "output_type": "stream",
     "text": [
      "Saving file/data/u934/service_imagerie/v_kapoor/Fl4-2-Var/forFOLDERFutureRestoration/AzotKO_ubiEcadGFPEx1hetero_29_mov3/3DResults/%s_40x_bin1_05_5min_3_w2CSU-488_s5_t161.tif\n"
     ]
    },
    {
     "name": "stderr",
     "output_type": "stream",
     "text": [
      "100%|██████████| 64/64 [03:24<00:00,  2.66s/it]  \n"
     ]
    },
    {
     "name": "stdout",
     "output_type": "stream",
     "text": [
      "Saving file/data/u934/service_imagerie/v_kapoor/Fl4-2-Var/forFOLDERFutureRestoration/AzotKO_ubiEcadGFPEx1hetero_29_mov3/3DResults/%s_40x_bin1_05_5min_3_w2CSU-488_s2_t130.tif\n"
     ]
    },
    {
     "name": "stderr",
     "output_type": "stream",
     "text": [
      "100%|██████████| 64/64 [03:22<00:00,  2.66s/it]  \n"
     ]
    },
    {
     "name": "stdout",
     "output_type": "stream",
     "text": [
      "Saving file/data/u934/service_imagerie/v_kapoor/Fl4-2-Var/forFOLDERFutureRestoration/AzotKO_ubiEcadGFPEx1hetero_29_mov3/3DResults/%s_40x_bin1_05_5min_3_w2CSU-488_s6_t48.tif\n"
     ]
    },
    {
     "name": "stderr",
     "output_type": "stream",
     "text": [
      "100%|██████████| 64/64 [03:23<00:00,  2.65s/it]  \n"
     ]
    },
    {
     "name": "stdout",
     "output_type": "stream",
     "text": [
      "Saving file/data/u934/service_imagerie/v_kapoor/Fl4-2-Var/forFOLDERFutureRestoration/AzotKO_ubiEcadGFPEx1hetero_29_mov3/3DResults/%s_40x_bin1_05_5min_3_w2CSU-488_s3_t144.tif\n"
     ]
    },
    {
     "name": "stderr",
     "output_type": "stream",
     "text": [
      "100%|██████████| 64/64 [03:22<00:00,  2.64s/it]  \n"
     ]
    },
    {
     "name": "stdout",
     "output_type": "stream",
     "text": [
      "Saving file/data/u934/service_imagerie/v_kapoor/Fl4-2-Var/forFOLDERFutureRestoration/AzotKO_ubiEcadGFPEx1hetero_29_mov3/3DResults/%s_40x_bin1_05_5min_3_w2CSU-488_s4_t115.tif\n"
     ]
    },
    {
     "name": "stderr",
     "output_type": "stream",
     "text": [
      "100%|██████████| 64/64 [03:25<00:00,  2.73s/it]  \n"
     ]
    },
    {
     "name": "stdout",
     "output_type": "stream",
     "text": [
      "Saving file/data/u934/service_imagerie/v_kapoor/Fl4-2-Var/forFOLDERFutureRestoration/AzotKO_ubiEcadGFPEx1hetero_29_mov3/3DResults/%s_40x_bin1_05_5min_3_w2CSU-488_s4_t202.tif\n"
     ]
    },
    {
     "name": "stderr",
     "output_type": "stream",
     "text": [
      "100%|██████████| 64/64 [03:23<00:00,  2.65s/it]  \n"
     ]
    },
    {
     "name": "stdout",
     "output_type": "stream",
     "text": [
      "Saving file/data/u934/service_imagerie/v_kapoor/Fl4-2-Var/forFOLDERFutureRestoration/AzotKO_ubiEcadGFPEx1hetero_29_mov3/3DResults/%s_40x_bin1_05_5min_3_w2CSU-488_s3_t1.tif\n"
     ]
    },
    {
     "name": "stderr",
     "output_type": "stream",
     "text": [
      "100%|██████████| 64/64 [03:23<00:00,  2.65s/it]  \n"
     ]
    },
    {
     "name": "stdout",
     "output_type": "stream",
     "text": [
      "Saving file/data/u934/service_imagerie/v_kapoor/Fl4-2-Var/forFOLDERFutureRestoration/AzotKO_ubiEcadGFPEx1hetero_29_mov3/3DResults/%s_40x_bin1_05_5min_3_w2CSU-488_s3_t195.tif\n"
     ]
    },
    {
     "name": "stderr",
     "output_type": "stream",
     "text": [
      "100%|██████████| 64/64 [03:21<00:00,  2.63s/it]  \n"
     ]
    },
    {
     "name": "stdout",
     "output_type": "stream",
     "text": [
      "Saving file/data/u934/service_imagerie/v_kapoor/Fl4-2-Var/forFOLDERFutureRestoration/AzotKO_ubiEcadGFPEx1hetero_29_mov3/3DResults/%s_40x_bin1_05_5min_3_w2CSU-488_s6_t99.tif\n"
     ]
    },
    {
     "name": "stderr",
     "output_type": "stream",
     "text": [
      "100%|██████████| 64/64 [03:23<00:00,  2.67s/it]  \n"
     ]
    },
    {
     "name": "stdout",
     "output_type": "stream",
     "text": [
      "Saving file/data/u934/service_imagerie/v_kapoor/Fl4-2-Var/forFOLDERFutureRestoration/AzotKO_ubiEcadGFPEx1hetero_29_mov3/3DResults/%s_40x_bin1_05_5min_3_w2CSU-488_s1_t76.tif\n"
     ]
    },
    {
     "name": "stderr",
     "output_type": "stream",
     "text": [
      "100%|██████████| 64/64 [03:21<00:00,  2.63s/it]  \n"
     ]
    },
    {
     "name": "stdout",
     "output_type": "stream",
     "text": [
      "Saving file/data/u934/service_imagerie/v_kapoor/Fl4-2-Var/forFOLDERFutureRestoration/AzotKO_ubiEcadGFPEx1hetero_29_mov3/3DResults/%s_40x_bin1_05_5min_3_w2CSU-488_s2_t220.tif\n"
     ]
    },
    {
     "name": "stderr",
     "output_type": "stream",
     "text": [
      "100%|██████████| 64/64 [03:24<00:00,  2.67s/it]  \n"
     ]
    },
    {
     "name": "stdout",
     "output_type": "stream",
     "text": [
      "Saving file/data/u934/service_imagerie/v_kapoor/Fl4-2-Var/forFOLDERFutureRestoration/AzotKO_ubiEcadGFPEx1hetero_29_mov3/3DResults/%s_40x_bin1_05_5min_3_w2CSU-488_s2_t34.tif\n"
     ]
    },
    {
     "name": "stderr",
     "output_type": "stream",
     "text": [
      "100%|██████████| 64/64 [03:22<00:00,  2.65s/it]  \n"
     ]
    },
    {
     "name": "stdout",
     "output_type": "stream",
     "text": [
      "Saving file/data/u934/service_imagerie/v_kapoor/Fl4-2-Var/forFOLDERFutureRestoration/AzotKO_ubiEcadGFPEx1hetero_29_mov3/3DResults/%s_40x_bin1_05_5min_3_w2CSU-488_s4_t61.tif\n"
     ]
    },
    {
     "name": "stderr",
     "output_type": "stream",
     "text": [
      "100%|██████████| 64/64 [03:24<00:00,  2.66s/it]  \n"
     ]
    },
    {
     "name": "stdout",
     "output_type": "stream",
     "text": [
      "Saving file/data/u934/service_imagerie/v_kapoor/Fl4-2-Var/forFOLDERFutureRestoration/AzotKO_ubiEcadGFPEx1hetero_29_mov3/3DResults/%s_40x_bin1_05_5min_3_w2CSU-488_s2_t137.tif\n"
     ]
    },
    {
     "name": "stderr",
     "output_type": "stream",
     "text": [
      "100%|██████████| 64/64 [03:22<00:00,  2.64s/it]  \n"
     ]
    },
    {
     "name": "stdout",
     "output_type": "stream",
     "text": [
      "Saving file/data/u934/service_imagerie/v_kapoor/Fl4-2-Var/forFOLDERFutureRestoration/AzotKO_ubiEcadGFPEx1hetero_29_mov3/3DResults/%s_40x_bin1_05_5min_3_w2CSU-488_s5_t166.tif\n"
     ]
    },
    {
     "name": "stderr",
     "output_type": "stream",
     "text": [
      "100%|██████████| 64/64 [03:24<00:00,  2.67s/it]  \n"
     ]
    },
    {
     "name": "stdout",
     "output_type": "stream",
     "text": [
      "Saving file/data/u934/service_imagerie/v_kapoor/Fl4-2-Var/forFOLDERFutureRestoration/AzotKO_ubiEcadGFPEx1hetero_29_mov3/3DResults/%s_40x_bin1_05_5min_3_w2CSU-488_s1_t218.tif\n"
     ]
    },
    {
     "name": "stderr",
     "output_type": "stream",
     "text": [
      "100%|██████████| 64/64 [03:20<00:00,  2.63s/it]  \n"
     ]
    },
    {
     "name": "stdout",
     "output_type": "stream",
     "text": [
      "Saving file/data/u934/service_imagerie/v_kapoor/Fl4-2-Var/forFOLDERFutureRestoration/AzotKO_ubiEcadGFPEx1hetero_29_mov3/3DResults/%s_40x_bin1_05_5min_3_w2CSU-488_s6_t34.tif\n"
     ]
    },
    {
     "name": "stderr",
     "output_type": "stream",
     "text": [
      "100%|██████████| 64/64 [03:23<00:00,  2.68s/it]  \n"
     ]
    },
    {
     "name": "stdout",
     "output_type": "stream",
     "text": [
      "Saving file/data/u934/service_imagerie/v_kapoor/Fl4-2-Var/forFOLDERFutureRestoration/AzotKO_ubiEcadGFPEx1hetero_29_mov3/3DResults/%s_40x_bin1_05_5min_3_w2CSU-488_s4_t169.tif\n"
     ]
    },
    {
     "name": "stderr",
     "output_type": "stream",
     "text": [
      "100%|██████████| 64/64 [03:22<00:00,  2.67s/it]  \n"
     ]
    },
    {
     "name": "stdout",
     "output_type": "stream",
     "text": [
      "Saving file/data/u934/service_imagerie/v_kapoor/Fl4-2-Var/forFOLDERFutureRestoration/AzotKO_ubiEcadGFPEx1hetero_29_mov3/3DResults/%s_40x_bin1_05_5min_3_w2CSU-488_s3_t138.tif\n"
     ]
    },
    {
     "name": "stderr",
     "output_type": "stream",
     "text": [
      "100%|██████████| 64/64 [03:24<00:00,  2.64s/it]  \n"
     ]
    },
    {
     "name": "stdout",
     "output_type": "stream",
     "text": [
      "Saving file/data/u934/service_imagerie/v_kapoor/Fl4-2-Var/forFOLDERFutureRestoration/AzotKO_ubiEcadGFPEx1hetero_29_mov3/3DResults/%s_40x_bin1_05_5min_3_w2CSU-488_s5_t76.tif\n"
     ]
    },
    {
     "name": "stderr",
     "output_type": "stream",
     "text": [
      "100%|██████████| 64/64 [03:22<00:00,  2.63s/it]  \n"
     ]
    },
    {
     "name": "stdout",
     "output_type": "stream",
     "text": [
      "Saving file/data/u934/service_imagerie/v_kapoor/Fl4-2-Var/forFOLDERFutureRestoration/AzotKO_ubiEcadGFPEx1hetero_29_mov3/3DResults/%s_40x_bin1_05_5min_3_w2CSU-488_s3_t23.tif\n"
     ]
    },
    {
     "name": "stderr",
     "output_type": "stream",
     "text": [
      "100%|██████████| 64/64 [03:24<00:00,  2.67s/it] \n"
     ]
    },
    {
     "name": "stdout",
     "output_type": "stream",
     "text": [
      "Saving file/data/u934/service_imagerie/v_kapoor/Fl4-2-Var/forFOLDERFutureRestoration/AzotKO_ubiEcadGFPEx1hetero_29_mov3/3DResults/%s_40x_bin1_05_5min_3_w2CSU-488_s2_t48.tif\n"
     ]
    },
    {
     "name": "stderr",
     "output_type": "stream",
     "text": [
      "100%|██████████| 64/64 [03:22<00:00,  2.63s/it]  \n"
     ]
    },
    {
     "name": "stdout",
     "output_type": "stream",
     "text": [
      "Saving file/data/u934/service_imagerie/v_kapoor/Fl4-2-Var/forFOLDERFutureRestoration/AzotKO_ubiEcadGFPEx1hetero_29_mov3/3DResults/%s_40x_bin1_05_5min_3_w2CSU-488_s6_t122.tif\n"
     ]
    },
    {
     "name": "stderr",
     "output_type": "stream",
     "text": [
      "100%|██████████| 64/64 [03:24<00:00,  2.67s/it]  \n"
     ]
    },
    {
     "name": "stdout",
     "output_type": "stream",
     "text": [
      "Saving file/data/u934/service_imagerie/v_kapoor/Fl4-2-Var/forFOLDERFutureRestoration/AzotKO_ubiEcadGFPEx1hetero_29_mov3/3DResults/%s_40x_bin1_05_5min_3_w2CSU-488_s1_t173.tif\n"
     ]
    },
    {
     "name": "stderr",
     "output_type": "stream",
     "text": [
      "100%|██████████| 64/64 [03:22<00:00,  2.66s/it]  \n"
     ]
    },
    {
     "name": "stdout",
     "output_type": "stream",
     "text": [
      "Saving file/data/u934/service_imagerie/v_kapoor/Fl4-2-Var/forFOLDERFutureRestoration/AzotKO_ubiEcadGFPEx1hetero_29_mov3/3DResults/%s_40x_bin1_05_5min_3_w2CSU-488_s2_t99.tif\n"
     ]
    },
    {
     "name": "stderr",
     "output_type": "stream",
     "text": [
      "100%|██████████| 64/64 [03:24<00:00,  2.67s/it]  \n"
     ]
    },
    {
     "name": "stdout",
     "output_type": "stream",
     "text": [
      "Saving file/data/u934/service_imagerie/v_kapoor/Fl4-2-Var/forFOLDERFutureRestoration/AzotKO_ubiEcadGFPEx1hetero_29_mov3/3DResults/%s_40x_bin1_05_5min_3_w2CSU-488_s6_t46.tif\n"
     ]
    },
    {
     "name": "stderr",
     "output_type": "stream",
     "text": [
      "100%|██████████| 64/64 [03:23<00:00,  2.68s/it]  \n"
     ]
    },
    {
     "name": "stdout",
     "output_type": "stream",
     "text": [
      "Saving file/data/u934/service_imagerie/v_kapoor/Fl4-2-Var/forFOLDERFutureRestoration/AzotKO_ubiEcadGFPEx1hetero_29_mov3/3DResults/%s_40x_bin1_05_5min_3_w2CSU-488_s3_t80.tif\n"
     ]
    },
    {
     "name": "stderr",
     "output_type": "stream",
     "text": [
      "100%|██████████| 64/64 [03:24<00:00,  2.65s/it]  \n"
     ]
    },
    {
     "name": "stdout",
     "output_type": "stream",
     "text": [
      "Saving file/data/u934/service_imagerie/v_kapoor/Fl4-2-Var/forFOLDERFutureRestoration/AzotKO_ubiEcadGFPEx1hetero_29_mov3/3DResults/%s_40x_bin1_05_5min_3_w2CSU-488_s3_t51.tif\n"
     ]
    },
    {
     "name": "stderr",
     "output_type": "stream",
     "text": [
      "100%|██████████| 64/64 [03:22<00:00,  2.63s/it]  \n"
     ]
    },
    {
     "name": "stdout",
     "output_type": "stream",
     "text": [
      "Saving file/data/u934/service_imagerie/v_kapoor/Fl4-2-Var/forFOLDERFutureRestoration/AzotKO_ubiEcadGFPEx1hetero_29_mov3/3DResults/%s_40x_bin1_05_5min_3_w2CSU-488_s4_t4.tif\n"
     ]
    },
    {
     "name": "stderr",
     "output_type": "stream",
     "text": [
      "100%|██████████| 64/64 [03:25<00:00,  2.69s/it]  \n"
     ]
    },
    {
     "name": "stdout",
     "output_type": "stream",
     "text": [
      "Saving file/data/u934/service_imagerie/v_kapoor/Fl4-2-Var/forFOLDERFutureRestoration/AzotKO_ubiEcadGFPEx1hetero_29_mov3/3DResults/%s_40x_bin1_05_5min_3_w2CSU-488_s6_t97.tif\n"
     ]
    },
    {
     "name": "stderr",
     "output_type": "stream",
     "text": [
      "100%|██████████| 64/64 [03:22<00:00,  2.63s/it]  \n"
     ]
    },
    {
     "name": "stdout",
     "output_type": "stream",
     "text": [
      "Saving file/data/u934/service_imagerie/v_kapoor/Fl4-2-Var/forFOLDERFutureRestoration/AzotKO_ubiEcadGFPEx1hetero_29_mov3/3DResults/%s_40x_bin1_05_5min_3_w2CSU-488_s1_t78.tif\n"
     ]
    },
    {
     "name": "stderr",
     "output_type": "stream",
     "text": [
      "100%|██████████| 64/64 [03:24<00:00,  2.70s/it]  \n"
     ]
    },
    {
     "name": "stdout",
     "output_type": "stream",
     "text": [
      "Saving file/data/u934/service_imagerie/v_kapoor/Fl4-2-Var/forFOLDERFutureRestoration/AzotKO_ubiEcadGFPEx1hetero_29_mov3/3DResults/%s_40x_bin1_05_5min_3_w2CSU-488_s1_t101.tif\n"
     ]
    },
    {
     "name": "stderr",
     "output_type": "stream",
     "text": [
      "100%|██████████| 64/64 [03:22<00:00,  2.63s/it]  \n"
     ]
    },
    {
     "name": "stdout",
     "output_type": "stream",
     "text": [
      "Saving file/data/u934/service_imagerie/v_kapoor/Fl4-2-Var/forFOLDERFutureRestoration/AzotKO_ubiEcadGFPEx1hetero_29_mov3/3DResults/%s_40x_bin1_05_5min_3_w2CSU-488_s6_t150.tif\n"
     ]
    },
    {
     "name": "stderr",
     "output_type": "stream",
     "text": [
      "100%|██████████| 64/64 [03:25<00:00,  2.68s/it]  \n"
     ]
    },
    {
     "name": "stdout",
     "output_type": "stream",
     "text": [
      "Saving file/data/u934/service_imagerie/v_kapoor/Fl4-2-Var/forFOLDERFutureRestoration/AzotKO_ubiEcadGFPEx1hetero_29_mov3/3DResults/%s_40x_bin1_05_5min_3_w2CSU-488_s6_t181.tif\n"
     ]
    },
    {
     "name": "stderr",
     "output_type": "stream",
     "text": [
      "100%|██████████| 64/64 [03:22<00:00,  2.63s/it]  \n"
     ]
    },
    {
     "name": "stdout",
     "output_type": "stream",
     "text": [
      "Saving file/data/u934/service_imagerie/v_kapoor/Fl4-2-Var/forFOLDERFutureRestoration/AzotKO_ubiEcadGFPEx1hetero_29_mov3/3DResults/%s_40x_bin1_05_5min_3_w2CSU-488_s2_t139.tif\n"
     ]
    },
    {
     "name": "stderr",
     "output_type": "stream",
     "text": [
      "100%|██████████| 64/64 [03:23<00:00,  2.67s/it]  \n"
     ]
    },
    {
     "name": "stdout",
     "output_type": "stream",
     "text": [
      "Saving file/data/u934/service_imagerie/v_kapoor/Fl4-2-Var/forFOLDERFutureRestoration/AzotKO_ubiEcadGFPEx1hetero_29_mov3/3DResults/%s_40x_bin1_05_5min_3_w2CSU-488_s1_t216.tif\n"
     ]
    },
    {
     "name": "stderr",
     "output_type": "stream",
     "text": [
      "100%|██████████| 64/64 [03:22<00:00,  2.63s/it]  \n"
     ]
    },
    {
     "name": "stdout",
     "output_type": "stream",
     "text": [
      "Saving file/data/u934/service_imagerie/v_kapoor/Fl4-2-Var/forFOLDERFutureRestoration/AzotKO_ubiEcadGFPEx1hetero_29_mov3/3DResults/%s_40x_bin1_05_5min_3_w2CSU-488_s5_t168.tif\n"
     ]
    },
    {
     "name": "stderr",
     "output_type": "stream",
     "text": [
      "100%|██████████| 64/64 [03:23<00:00,  2.66s/it]  \n"
     ]
    },
    {
     "name": "stdout",
     "output_type": "stream",
     "text": [
      "Saving file/data/u934/service_imagerie/v_kapoor/Fl4-2-Var/forFOLDERFutureRestoration/AzotKO_ubiEcadGFPEx1hetero_29_mov3/3DResults/%s_40x_bin1_05_5min_3_w2CSU-488_s5_t78.tif\n"
     ]
    },
    {
     "name": "stderr",
     "output_type": "stream",
     "text": [
      "100%|██████████| 64/64 [03:21<00:00,  2.64s/it]  \n"
     ]
    },
    {
     "name": "stdout",
     "output_type": "stream",
     "text": [
      "Saving file/data/u934/service_imagerie/v_kapoor/Fl4-2-Var/forFOLDERFutureRestoration/AzotKO_ubiEcadGFPEx1hetero_29_mov3/3DResults/%s_40x_bin1_05_5min_3_w2CSU-488_s4_t167.tif\n"
     ]
    },
    {
     "name": "stderr",
     "output_type": "stream",
     "text": [
      "100%|██████████| 64/64 [03:24<00:00,  2.66s/it]  \n"
     ]
    },
    {
     "name": "stdout",
     "output_type": "stream",
     "text": [
      "Saving file/data/u934/service_imagerie/v_kapoor/Fl4-2-Var/forFOLDERFutureRestoration/AzotKO_ubiEcadGFPEx1hetero_29_mov3/3DResults/%s_40x_bin1_05_5min_3_w2CSU-488_s3_t136.tif\n"
     ]
    },
    {
     "name": "stderr",
     "output_type": "stream",
     "text": [
      "100%|██████████| 64/64 [03:23<00:00,  2.66s/it]  \n"
     ]
    },
    {
     "name": "stdout",
     "output_type": "stream",
     "text": [
      "Saving file/data/u934/service_imagerie/v_kapoor/Fl4-2-Var/forFOLDERFutureRestoration/AzotKO_ubiEcadGFPEx1hetero_29_mov3/3DResults/%s_40x_bin1_05_5min_3_w2CSU-488_s3_t221.tif\n"
     ]
    },
    {
     "name": "stderr",
     "output_type": "stream",
     "text": [
      "100%|██████████| 64/64 [03:24<00:00,  2.65s/it]  \n"
     ]
    },
    {
     "name": "stdout",
     "output_type": "stream",
     "text": [
      "Saving file/data/u934/service_imagerie/v_kapoor/Fl4-2-Var/forFOLDERFutureRestoration/AzotKO_ubiEcadGFPEx1hetero_29_mov3/3DResults/%s_40x_bin1_05_5min_3_w2CSU-488_s2_t194.tif\n"
     ]
    },
    {
     "name": "stderr",
     "output_type": "stream",
     "text": [
      "100%|██████████| 64/64 [03:22<00:00,  2.63s/it]  \n"
     ]
    },
    {
     "name": "stdout",
     "output_type": "stream",
     "text": [
      "Saving file/data/u934/service_imagerie/v_kapoor/Fl4-2-Var/forFOLDERFutureRestoration/AzotKO_ubiEcadGFPEx1hetero_29_mov3/3DResults/%s_40x_bin1_05_5min_3_w2CSU-488_s5_t203.tif\n"
     ]
    },
    {
     "name": "stderr",
     "output_type": "stream",
     "text": [
      "100%|██████████| 64/64 [03:23<00:00,  2.65s/it]  \n"
     ]
    },
    {
     "name": "stdout",
     "output_type": "stream",
     "text": [
      "Saving file/data/u934/service_imagerie/v_kapoor/Fl4-2-Var/forFOLDERFutureRestoration/AzotKO_ubiEcadGFPEx1hetero_29_mov3/3DResults/%s_40x_bin1_05_5min_3_w2CSU-488_s2_t46.tif\n"
     ]
    },
    {
     "name": "stderr",
     "output_type": "stream",
     "text": [
      "100%|██████████| 64/64 [03:22<00:00,  2.67s/it]  \n"
     ]
    },
    {
     "name": "stdout",
     "output_type": "stream",
     "text": [
      "Saving file/data/u934/service_imagerie/v_kapoor/Fl4-2-Var/forFOLDERFutureRestoration/AzotKO_ubiEcadGFPEx1hetero_29_mov3/3DResults/%s_40x_bin1_05_5min_3_w2CSU-488_s2_t97.tif\n"
     ]
    },
    {
     "name": "stderr",
     "output_type": "stream",
     "text": [
      "100%|██████████| 64/64 [03:24<00:00,  2.65s/it]  \n"
     ]
    },
    {
     "name": "stdout",
     "output_type": "stream",
     "text": [
      "Saving file/data/u934/service_imagerie/v_kapoor/Fl4-2-Var/forFOLDERFutureRestoration/AzotKO_ubiEcadGFPEx1hetero_29_mov3/3DResults/%s_40x_bin1_05_5min_3_w2CSU-488_s4_t13.tif\n"
     ]
    },
    {
     "name": "stderr",
     "output_type": "stream",
     "text": [
      "100%|██████████| 64/64 [03:22<00:00,  2.63s/it]  \n"
     ]
    },
    {
     "name": "stdout",
     "output_type": "stream",
     "text": [
      "Saving file/data/u934/service_imagerie/v_kapoor/Fl4-2-Var/forFOLDERFutureRestoration/AzotKO_ubiEcadGFPEx1hetero_29_mov3/3DResults/%s_40x_bin1_05_5min_3_w2CSU-488_s5_t114.tif\n"
     ]
    },
    {
     "name": "stderr",
     "output_type": "stream",
     "text": [
      "100%|██████████| 64/64 [03:23<00:00,  2.65s/it]  \n"
     ]
    },
    {
     "name": "stdout",
     "output_type": "stream",
     "text": [
      "Saving file/data/u934/service_imagerie/v_kapoor/Fl4-2-Var/forFOLDERFutureRestoration/AzotKO_ubiEcadGFPEx1hetero_29_mov3/3DResults/%s_40x_bin1_05_5min_3_w2CSU-488_s2_t145.tif\n"
     ]
    },
    {
     "name": "stderr",
     "output_type": "stream",
     "text": [
      "100%|██████████| 64/64 [03:22<00:00,  2.64s/it]  \n"
     ]
    },
    {
     "name": "stdout",
     "output_type": "stream",
     "text": [
      "Saving file/data/u934/service_imagerie/v_kapoor/Fl4-2-Var/forFOLDERFutureRestoration/AzotKO_ubiEcadGFPEx1hetero_29_mov3/3DResults/%s_40x_bin1_05_5min_3_w2CSU-488_s3_t131.tif\n"
     ]
    },
    {
     "name": "stderr",
     "output_type": "stream",
     "text": [
      " 61%|██████    | 39/64 [02:05<01:28,  3.53s/it]  "
     ]
    }
   ],
   "source": [
    "for x in subdir[1]:\n",
    "    currentdir = masterdirLow + x\n",
    "    \n",
    "    basedirResults3D = currentdir + '/3DResults/'\n",
    "    basedirResults2D = currentdir + '/MaxProjectionResults/'\n",
    "    Path(basedirResults3D).mkdir(exist_ok = True)\n",
    "    Path(basedirResults2D).mkdir(exist_ok = True)\n",
    "    \n",
    "\n",
    "\n",
    "    Raw_path = os.path.join(currentdir, '*tif')\n",
    "\n",
    "\n",
    "\n",
    "    filesRaw = glob.glob(Raw_path)\n",
    "\n",
    "\n",
    "\n",
    "    for fname in filesRaw:\n",
    " \n",
    "        y = imread(fname)\n",
    "      \n",
    "        print('Saving file' +  basedirResults3D + '%s_' + os.path.basename(fname))\n",
    "        restored = model.predict(y, axes, n_tiles = (1, 8, 8)) \n",
    "        projected = np.max(restored, axis = 0)\n",
    "        save_tiff_imagej_compatible((basedirResults2D + '%s_' + 'MAXProjected' +  os.path.basename(fname)) %  model.name , projected, smallaxes)\n",
    "\n",
    "        save_tiff_imagej_compatible((basedirResults3D + '%s_' + os.path.basename(fname)) % model.name, restored, axes)\n",
    "\n",
    "\n",
    "    \n",
    "    \n",
    "   "
   ]
  },
  {
   "cell_type": "code",
   "execution_count": null,
   "metadata": {},
   "outputs": [],
   "source": []
  }
 ],
 "metadata": {
  "kernelspec": {
   "display_name": "Python [conda env:tensorflowLOW]",
   "language": "python",
   "name": "conda-env-tensorflowLOW-py"
  },
  "language_info": {
   "codemirror_mode": {
    "name": "ipython",
    "version": 3
   },
   "file_extension": ".py",
   "mimetype": "text/x-python",
   "name": "python",
   "nbconvert_exporter": "python",
   "pygments_lexer": "ipython3",
   "version": "3.5.6"
  }
 },
 "nbformat": 4,
 "nbformat_minor": 2
}
