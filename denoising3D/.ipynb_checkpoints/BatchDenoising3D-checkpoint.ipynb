{
 "cells": [
  {
   "cell_type": "code",
   "execution_count": 1,
   "metadata": {},
   "outputs": [
    {
     "name": "stderr",
     "output_type": "stream",
     "text": [
      "Using TensorFlow backend.\n"
     ]
    }
   ],
   "source": [
    "from __future__ import print_function, unicode_literals, absolute_import, division\n",
    "import numpy as np\n",
    "import matplotlib.pyplot as plt\n",
    "%matplotlib inline\n",
    "%config InlineBackend.figure_format = 'retina'\n",
    "import os\n",
    "import glob\n",
    "\n",
    "from tifffile import imread\n",
    "from csbdeep.utils import Path, download_and_extract_zip_file, plot_some\n",
    "from csbdeep.io import save_tiff_imagej_compatible\n",
    "from csbdeep.models import CARE"
   ]
  },
  {
   "cell_type": "code",
   "execution_count": 2,
   "metadata": {},
   "outputs": [],
   "source": [
    "\n",
    "\n",
    "basedirLow = '/data/u934/service_imagerie/v_kapoor/From_olivier/Care_dataset/Test/Lowest/TestSetB/'\n",
    "basedirResults = '/data/u934/service_imagerie/v_kapoor/From_olivier/Care_dataset/Test/Results/TestSetB/'\n",
    "ModelName = 'DrosophilaLowestNoisemodel'\n",
    "BaseDir = '/data/u934/service_imagerie/v_kapoor/CurieDeepLearningModels/'"
   ]
  },
  {
   "cell_type": "code",
   "execution_count": 3,
   "metadata": {},
   "outputs": [
    {
     "name": "stdout",
     "output_type": "stream",
     "text": [
      "total number of images to be restored =  9\n",
      "image size = (101, 2048, 2048)\n",
      "image axes = ZYX\n"
     ]
    }
   ],
   "source": [
    "Raw_path = os.path.join(basedirLow, '*tif')\n",
    "Rawfiles = []\n",
    "Names = []\n",
    "filesRaw = glob.glob(Raw_path)\n",
    "for fname in filesRaw:\n",
    "        x = imread(fname)\n",
    "        Names.append(fname)\n",
    "        \n",
    "        Rawfiles.append(x)\n",
    "Rawfiles.sort\n",
    "Names.sort\n",
    "axes = 'ZYX'\n",
    "print('total number of images to be restored = ', len(Rawfiles))\n",
    "print('image size =', x.shape)\n",
    "print('image axes =', axes)\n"
   ]
  },
  {
   "cell_type": "code",
   "execution_count": 4,
   "metadata": {},
   "outputs": [
    {
     "name": "stdout",
     "output_type": "stream",
     "text": [
      "Loading network weights from 'weights_best.h5'.\n"
     ]
    }
   ],
   "source": [
    "model = CARE(config = None, name = ModelName, basedir = BaseDir)"
   ]
  },
  {
   "cell_type": "code",
   "execution_count": null,
   "metadata": {},
   "outputs": [],
   "source": [
    "%%time\n",
    "Restoredfiles = []\n",
    "for x in Rawfiles:\n",
    "    print(x)\n",
    "    restored = model.predict(x, axes, n_tiles = (32, 4))\n",
    "    Restoredfiles.append(restored)\n",
    "    "
   ]
  },
  {
   "cell_type": "code",
   "execution_count": null,
   "metadata": {},
   "outputs": [],
   "source": [
    "Path(basedirResults).mkdir(exist_ok = True)\n",
    "for i in range(0, len(Names)):\n",
    "   print('Saving file' +  basedirResults + '%s_' + os.path.basename(Names[i]))\n",
    "   save_tiff_imagej_compatible((basedirResults + '%s_' + os.path.basename(Names[i])) % model.name, Restoredfiles[i], axes)"
   ]
  },
  {
   "cell_type": "code",
   "execution_count": null,
   "metadata": {},
   "outputs": [],
   "source": [
    "#Plot some restored files\n",
    "for  i  in  range(0,  count):\n",
    "      plt.figure(figsize=(16,10))\n",
    "      plot_some(np.stack([Restoredfiles[i]]),\n",
    "          title_list=[['CARE (maximum projection)']], \n",
    "          pmin=2,pmax=99.8);\n",
    "      print('Filename = ', Names[i])"
   ]
  },
  {
   "cell_type": "code",
   "execution_count": null,
   "metadata": {},
   "outputs": [],
   "source": []
  }
 ],
 "metadata": {
  "kernelspec": {
   "display_name": "Python [conda env:tensorflowpy3pt5]",
   "language": "python",
   "name": "conda-env-tensorflowpy3pt5-py"
  },
  "language_info": {
   "codemirror_mode": {
    "name": "ipython",
    "version": 3
   },
   "file_extension": ".py",
   "mimetype": "text/x-python",
   "name": "python",
   "nbconvert_exporter": "python",
   "pygments_lexer": "ipython3",
   "version": "3.5.5"
  }
 },
 "nbformat": 4,
 "nbformat_minor": 2
}
