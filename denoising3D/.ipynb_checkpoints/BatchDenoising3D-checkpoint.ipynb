{
 "cells": [
  {
   "cell_type": "code",
   "execution_count": 1,
   "metadata": {},
   "outputs": [
    {
     "name": "stderr",
     "output_type": "stream",
     "text": [
      "Using TensorFlow backend.\n"
     ]
    }
   ],
   "source": [
    "from __future__ import print_function, unicode_literals, absolute_import, division\n",
    "import numpy as np\n",
    "import matplotlib.pyplot as plt\n",
    "%matplotlib inline\n",
    "%config InlineBackend.figure_format = 'retina'\n",
    "import os\n",
    "import glob\n",
    "from csbdeep.utils.tf import limit_gpu_memory\n",
    "\n",
    "from tifffile import imread\n",
    "from csbdeep.utils import Path, download_and_extract_zip_file, plot_some\n",
    "from csbdeep.io import save_tiff_imagej_compatible\n",
    "from csbdeep.models import CARE\n",
    "\n"
   ]
  },
  {
   "cell_type": "code",
   "execution_count": 2,
   "metadata": {},
   "outputs": [],
   "source": [
    "\n",
    "\n",
    "basedirLow = '/data/u934/service_imagerie/v_kapoor/Fl4-2-Var/dysRNAi_ECadGFPki-hetero_32pre29_bin140x_mov5/'\n",
    "basedirResults = '/data/u934/service_imagerie/v_kapoor/Fl4-2-Var/dysRNAi_ECadGFPki-hetero_32pre29_bin140x_mov5/Results/'\n",
    "ModelName = 'BorialisS1S2FlorisMidNoiseModel'\n",
    "BaseDir = '/data/u934/service_imagerie/v_kapoor/CurieDeepLearningModels/'"
   ]
  },
  {
   "cell_type": "code",
   "execution_count": 3,
   "metadata": {},
   "outputs": [
    {
     "name": "stdout",
     "output_type": "stream",
     "text": [
      "Loading network weights from 'weights_best.h5'.\n"
     ]
    }
   ],
   "source": [
    "model = CARE(config = None, name = ModelName, basedir = BaseDir)"
   ]
  },
  {
   "cell_type": "code",
   "execution_count": 4,
   "metadata": {},
   "outputs": [
    {
     "name": "stdout",
     "output_type": "stream",
     "text": [
      "Saving file/data/u934/service_imagerie/v_kapoor/Fl4-2-Var/dysRNAi_ECadGFPki-hetero_32pre29_bin140x_mov10/Results/%s_40x_bin1_05_5min_1_w2CSU-488_s7_t39.tif\n",
      "Saving file/data/u934/service_imagerie/v_kapoor/Fl4-2-Var/dysRNAi_ECadGFPki-hetero_32pre29_bin140x_mov10/Results/%s_40x_bin1_05_5min_1_w2CSU-488_s7_t45.tif\n",
      "Saving file/data/u934/service_imagerie/v_kapoor/Fl4-2-Var/dysRNAi_ECadGFPki-hetero_32pre29_bin140x_mov10/Results/%s_40x_bin1_05_5min_1_w2CSU-488_s7_t94.tif\n",
      "Saving file/data/u934/service_imagerie/v_kapoor/Fl4-2-Var/dysRNAi_ECadGFPki-hetero_32pre29_bin140x_mov10/Results/%s_40x_bin1_05_5min_1_w2CSU-488_s7_t163.tif\n",
      "Saving file/data/u934/service_imagerie/v_kapoor/Fl4-2-Var/dysRNAi_ECadGFPki-hetero_32pre29_bin140x_mov10/Results/%s_40x_bin1_05_5min_1_w2CSU-488_s7_t3.tif\n",
      "Saving file/data/u934/service_imagerie/v_kapoor/Fl4-2-Var/dysRNAi_ECadGFPki-hetero_32pre29_bin140x_mov10/Results/%s_40x_bin1_05_5min_1_w2CSU-488_s7_t42.tif\n",
      "Saving file/data/u934/service_imagerie/v_kapoor/Fl4-2-Var/dysRNAi_ECadGFPki-hetero_32pre29_bin140x_mov10/Results/%s_40x_bin1_05_5min_1_w2CSU-488_s7_t93.tif\n",
      "Saving file/data/u934/service_imagerie/v_kapoor/Fl4-2-Var/dysRNAi_ECadGFPki-hetero_32pre29_bin140x_mov10/Results/%s_40x_bin1_05_5min_1_w2CSU-488_s7_t164.tif\n",
      "Saving file/data/u934/service_imagerie/v_kapoor/Fl4-2-Var/dysRNAi_ECadGFPki-hetero_32pre29_bin140x_mov10/Results/%s_40x_bin1_05_5min_1_w2CSU-488_s7_t4.tif\n",
      "Saving file/data/u934/service_imagerie/v_kapoor/Fl4-2-Var/dysRNAi_ECadGFPki-hetero_32pre29_bin140x_mov10/Results/%s_40x_bin1_05_5min_1_w2CSU-488_s7_t118.tif\n",
      "Saving file/data/u934/service_imagerie/v_kapoor/Fl4-2-Var/dysRNAi_ECadGFPki-hetero_32pre29_bin140x_mov10/Results/%s_40x_bin1_05_5min_1_w2CSU-488_s7_t201.tif\n",
      "Saving file/data/u934/service_imagerie/v_kapoor/Fl4-2-Var/dysRNAi_ECadGFPki-hetero_32pre29_bin140x_mov10/Results/%s_40x_bin1_05_5min_1_w2CSU-488_s7_t30.tif\n",
      "Saving file/data/u934/service_imagerie/v_kapoor/Fl4-2-Var/dysRNAi_ECadGFPki-hetero_32pre29_bin140x_mov10/Results/%s_40x_bin1_05_5min_1_w2CSU-488_s7_t116.tif\n",
      "Saving file/data/u934/service_imagerie/v_kapoor/Fl4-2-Var/dysRNAi_ECadGFPki-hetero_32pre29_bin140x_mov10/Results/%s_40x_bin1_05_5min_1_w2CSU-488_s7_t37.tif\n",
      "Saving file/data/u934/service_imagerie/v_kapoor/Fl4-2-Var/dysRNAi_ECadGFPki-hetero_32pre29_bin140x_mov10/Results/%s_40x_bin1_05_5min_1_w2CSU-488_s7_t111.tif\n",
      "Saving file/data/u934/service_imagerie/v_kapoor/Fl4-2-Var/dysRNAi_ECadGFPki-hetero_32pre29_bin140x_mov10/Results/%s_40x_bin1_05_5min_1_w2CSU-488_s7_t124.tif\n",
      "Saving file/data/u934/service_imagerie/v_kapoor/Fl4-2-Var/dysRNAi_ECadGFPki-hetero_32pre29_bin140x_mov10/Results/%s_40x_bin1_05_5min_1_w2CSU-488_s7_t158.tif\n",
      "Saving file/data/u934/service_imagerie/v_kapoor/Fl4-2-Var/dysRNAi_ECadGFPki-hetero_32pre29_bin140x_mov10/Results/%s_40x_bin1_05_5min_1_w2CSU-488_s7_t189.tif\n",
      "Saving file/data/u934/service_imagerie/v_kapoor/Fl4-2-Var/dysRNAi_ECadGFPki-hetero_32pre29_bin140x_mov10/Results/%s_40x_bin1_05_5min_1_w2CSU-488_s7_t79.tif\n",
      "Saving file/data/u934/service_imagerie/v_kapoor/Fl4-2-Var/dysRNAi_ECadGFPki-hetero_32pre29_bin140x_mov10/Results/%s_40x_bin1_05_5min_1_w2CSU-488_s7_t123.tif\n",
      "Saving file/data/u934/service_imagerie/v_kapoor/Fl4-2-Var/dysRNAi_ECadGFPki-hetero_32pre29_bin140x_mov10/Results/%s_40x_bin1_05_5min_1_w2CSU-488_s7_t151.tif\n",
      "Saving file/data/u934/service_imagerie/v_kapoor/Fl4-2-Var/dysRNAi_ECadGFPki-hetero_32pre29_bin140x_mov10/Results/%s_40x_bin1_05_5min_1_w2CSU-488_s7_t180.tif\n",
      "Saving file/data/u934/service_imagerie/v_kapoor/Fl4-2-Var/dysRNAi_ECadGFPki-hetero_32pre29_bin140x_mov10/Results/%s_40x_bin1_05_5min_1_w2CSU-488_s7_t77.tif\n",
      "Saving file/data/u934/service_imagerie/v_kapoor/Fl4-2-Var/dysRNAi_ECadGFPki-hetero_32pre29_bin140x_mov10/Results/%s_40x_bin1_05_5min_1_w2CSU-488_s7_t156.tif\n",
      "Saving file/data/u934/service_imagerie/v_kapoor/Fl4-2-Var/dysRNAi_ECadGFPki-hetero_32pre29_bin140x_mov10/Results/%s_40x_bin1_05_5min_1_w2CSU-488_s7_t187.tif\n",
      "Saving file/data/u934/service_imagerie/v_kapoor/Fl4-2-Var/dysRNAi_ECadGFPki-hetero_32pre29_bin140x_mov10/Results/%s_40x_bin1_05_5min_1_w2CSU-488_s7_t70.tif\n",
      "Saving file/data/u934/service_imagerie/v_kapoor/Fl4-2-Var/dysRNAi_ECadGFPki-hetero_32pre29_bin140x_mov10/Results/%s_40x_bin1_05_5min_1_w2CSU-488_s7_t61.tif\n",
      "Saving file/data/u934/service_imagerie/v_kapoor/Fl4-2-Var/dysRNAi_ECadGFPki-hetero_32pre29_bin140x_mov10/Results/%s_40x_bin1_05_5min_1_w2CSU-488_s7_t196.tif\n",
      "Saving file/data/u934/service_imagerie/v_kapoor/Fl4-2-Var/dysRNAi_ECadGFPki-hetero_32pre29_bin140x_mov10/Results/%s_40x_bin1_05_5min_1_w2CSU-488_s7_t147.tif\n",
      "Saving file/data/u934/service_imagerie/v_kapoor/Fl4-2-Var/dysRNAi_ECadGFPki-hetero_32pre29_bin140x_mov10/Results/%s_40x_bin1_05_5min_1_w2CSU-488_s7_t66.tif\n",
      "Saving file/data/u934/service_imagerie/v_kapoor/Fl4-2-Var/dysRNAi_ECadGFPki-hetero_32pre29_bin140x_mov10/Results/%s_40x_bin1_05_5min_1_w2CSU-488_s7_t191.tif\n",
      "Saving file/data/u934/service_imagerie/v_kapoor/Fl4-2-Var/dysRNAi_ECadGFPki-hetero_32pre29_bin140x_mov10/Results/%s_40x_bin1_05_5min_1_w2CSU-488_s7_t140.tif\n",
      "Saving file/data/u934/service_imagerie/v_kapoor/Fl4-2-Var/dysRNAi_ECadGFPki-hetero_32pre29_bin140x_mov10/Results/%s_40x_bin1_05_5min_1_w2CSU-488_s7_t68.tif\n",
      "Saving file/data/u934/service_imagerie/v_kapoor/Fl4-2-Var/dysRNAi_ECadGFPki-hetero_32pre29_bin140x_mov10/Results/%s_40x_bin1_05_5min_1_w2CSU-488_s7_t14.tif\n",
      "Saving file/data/u934/service_imagerie/v_kapoor/Fl4-2-Var/dysRNAi_ECadGFPki-hetero_32pre29_bin140x_mov10/Results/%s_40x_bin1_05_5min_1_w2CSU-488_s7_t132.tif\n",
      "Saving file/data/u934/service_imagerie/v_kapoor/Fl4-2-Var/dysRNAi_ECadGFPki-hetero_32pre29_bin140x_mov10/Results/%s_40x_bin1_05_5min_1_w2CSU-488_s7_t13.tif\n",
      "Saving file/data/u934/service_imagerie/v_kapoor/Fl4-2-Var/dysRNAi_ECadGFPki-hetero_32pre29_bin140x_mov10/Results/%s_40x_bin1_05_5min_1_w2CSU-488_s7_t135.tif\n",
      "Saving file/data/u934/service_imagerie/v_kapoor/Fl4-2-Var/dysRNAi_ECadGFPki-hetero_32pre29_bin140x_mov10/Results/%s_40x_bin1_05_5min_1_w2CSU-488_s7_t198.tif\n",
      "Saving file/data/u934/service_imagerie/v_kapoor/Fl4-2-Var/dysRNAi_ECadGFPki-hetero_32pre29_bin140x_mov10/Results/%s_40x_bin1_05_5min_1_w2CSU-488_s7_t149.tif\n",
      "Saving file/data/u934/service_imagerie/v_kapoor/Fl4-2-Var/dysRNAi_ECadGFPki-hetero_32pre29_bin140x_mov10/Results/%s_40x_bin1_05_5min_1_w2CSU-488_s7_t100.tif\n",
      "Saving file/data/u934/service_imagerie/v_kapoor/Fl4-2-Var/dysRNAi_ECadGFPki-hetero_32pre29_bin140x_mov10/Results/%s_40x_bin1_05_5min_1_w2CSU-488_s7_t26.tif\n",
      "Saving file/data/u934/service_imagerie/v_kapoor/Fl4-2-Var/dysRNAi_ECadGFPki-hetero_32pre29_bin140x_mov10/Results/%s_40x_bin1_05_5min_1_w2CSU-488_s7_t107.tif\n",
      "Saving file/data/u934/service_imagerie/v_kapoor/Fl4-2-Var/dysRNAi_ECadGFPki-hetero_32pre29_bin140x_mov10/Results/%s_40x_bin1_05_5min_1_w2CSU-488_s7_t21.tif\n",
      "Saving file/data/u934/service_imagerie/v_kapoor/Fl4-2-Var/dysRNAi_ECadGFPki-hetero_32pre29_bin140x_mov10/Results/%s_40x_bin1_05_5min_1_w2CSU-488_s7_t175.tif\n",
      "Saving file/data/u934/service_imagerie/v_kapoor/Fl4-2-Var/dysRNAi_ECadGFPki-hetero_32pre29_bin140x_mov10/Results/%s_40x_bin1_05_5min_1_w2CSU-488_s7_t82.tif\n",
      "Saving file/data/u934/service_imagerie/v_kapoor/Fl4-2-Var/dysRNAi_ECadGFPki-hetero_32pre29_bin140x_mov10/Results/%s_40x_bin1_05_5min_1_w2CSU-488_s7_t53.tif\n",
      "Saving file/data/u934/service_imagerie/v_kapoor/Fl4-2-Var/dysRNAi_ECadGFPki-hetero_32pre29_bin140x_mov10/Results/%s_40x_bin1_05_5min_1_w2CSU-488_s7_t109.tif\n",
      "Saving file/data/u934/service_imagerie/v_kapoor/Fl4-2-Var/dysRNAi_ECadGFPki-hetero_32pre29_bin140x_mov10/Results/%s_40x_bin1_05_5min_1_w2CSU-488_s7_t28.tif\n",
      "Saving file/data/u934/service_imagerie/v_kapoor/Fl4-2-Var/dysRNAi_ECadGFPki-hetero_32pre29_bin140x_mov10/Results/%s_40x_bin1_05_5min_1_w2CSU-488_s7_t172.tif\n",
      "Saving file/data/u934/service_imagerie/v_kapoor/Fl4-2-Var/dysRNAi_ECadGFPki-hetero_32pre29_bin140x_mov10/Results/%s_40x_bin1_05_5min_1_w2CSU-488_s7_t85.tif\n",
      "Saving file/data/u934/service_imagerie/v_kapoor/Fl4-2-Var/dysRNAi_ECadGFPki-hetero_32pre29_bin140x_mov10/Results/%s_40x_bin1_05_5min_1_w2CSU-488_s7_t54.tif\n",
      "Saving file/data/u934/service_imagerie/v_kapoor/Fl4-2-Var/dysRNAi_ECadGFPki-hetero_32pre29_bin140x_mov10/Results/%s_40x_bin1_05_5min_1_w2CSU-488_s7_t157.tif\n",
      "Saving file/data/u934/service_imagerie/v_kapoor/Fl4-2-Var/dysRNAi_ECadGFPki-hetero_32pre29_bin140x_mov10/Results/%s_40x_bin1_05_5min_1_w2CSU-488_s7_t71.tif\n"
     ]
    },
    {
     "name": "stdout",
     "output_type": "stream",
     "text": [
      "Saving file/data/u934/service_imagerie/v_kapoor/Fl4-2-Var/dysRNAi_ECadGFPki-hetero_32pre29_bin140x_mov10/Results/%s_40x_bin1_05_5min_1_w2CSU-488_s7_t186.tif\n",
      "Saving file/data/u934/service_imagerie/v_kapoor/Fl4-2-Var/dysRNAi_ECadGFPki-hetero_32pre29_bin140x_mov10/Results/%s_40x_bin1_05_5min_1_w2CSU-488_s7_t150.tif\n",
      "Saving file/data/u934/service_imagerie/v_kapoor/Fl4-2-Var/dysRNAi_ECadGFPki-hetero_32pre29_bin140x_mov10/Results/%s_40x_bin1_05_5min_1_w2CSU-488_s7_t76.tif\n",
      "Saving file/data/u934/service_imagerie/v_kapoor/Fl4-2-Var/dysRNAi_ECadGFPki-hetero_32pre29_bin140x_mov10/Results/%s_40x_bin1_05_5min_1_w2CSU-488_s7_t181.tif\n",
      "Saving file/data/u934/service_imagerie/v_kapoor/Fl4-2-Var/dysRNAi_ECadGFPki-hetero_32pre29_bin140x_mov10/Results/%s_40x_bin1_05_5min_1_w2CSU-488_s7_t78.tif\n"
     ]
    },
    {
     "ename": "TypeError",
     "evalue": "unorderable types: tuple() > int()",
     "output_type": "error",
     "traceback": [
      "\u001b[0;31m---------------------------------------------------------------------------\u001b[0m",
      "\u001b[0;31mResourceExhaustedError\u001b[0m                    Traceback (most recent call last)",
      "\u001b[0;32m/data/u934/service_imagerie/v_kapoor/anaconda2/envs/tensorflowpy3pt5/lib/python3.5/site-packages/csbdeep/models/care_standard.py\u001b[0m in \u001b[0;36m_predict_mean_and_scale\u001b[0;34m(self, img, axes, normalizer, resizer, n_tiles)\u001b[0m\n\u001b[1;32m    353\u001b[0m                     x = predict_tiled(self.keras_model,x,channel_in=channel,channel_out=channel,\n\u001b[0;32m--> 354\u001b[0;31m                                       n_tiles=n_tiles,block_size=div_n,tile_overlap=overlap)\n\u001b[0m\u001b[1;32m    355\u001b[0m                 \u001b[0mdone\u001b[0m \u001b[0;34m=\u001b[0m \u001b[0;32mTrue\u001b[0m\u001b[0;34m\u001b[0m\u001b[0m\n",
      "\u001b[0;32m/data/u934/service_imagerie/v_kapoor/anaconda2/envs/tensorflowpy3pt5/lib/python3.5/site-packages/csbdeep/internals/predict.py\u001b[0m in \u001b[0;36mpredict_tiled\u001b[0;34m(keras_model, x, n_tiles, block_size, tile_overlap, channel_in, channel_out, **kwargs)\u001b[0m\n\u001b[1;32m     73\u001b[0m         \u001b[0;32melse\u001b[0m\u001b[0;34m:\u001b[0m\u001b[0;34m\u001b[0m\u001b[0m\n\u001b[0;32m---> 74\u001b[0;31m             \u001b[0mpred\u001b[0m \u001b[0;34m=\u001b[0m \u001b[0mpredict_tiled\u001b[0m\u001b[0;34m(\u001b[0m\u001b[0mkeras_model\u001b[0m\u001b[0;34m,\u001b[0m\u001b[0mtile\u001b[0m\u001b[0;34m,\u001b[0m\u001b[0mn_tiles_remaining\u001b[0m\u001b[0;34m,\u001b[0m\u001b[0mblock_size\u001b[0m\u001b[0;34m,\u001b[0m\u001b[0mtile_overlap\u001b[0m\u001b[0;34m,\u001b[0m\u001b[0mchannel_in\u001b[0m\u001b[0;34m=\u001b[0m\u001b[0mchannel_in\u001b[0m\u001b[0;34m,\u001b[0m\u001b[0mchannel_out\u001b[0m\u001b[0;34m=\u001b[0m\u001b[0mchannel_out\u001b[0m\u001b[0;34m,\u001b[0m\u001b[0;34m**\u001b[0m\u001b[0mkwargs\u001b[0m\u001b[0;34m)\u001b[0m\u001b[0;34m\u001b[0m\u001b[0m\n\u001b[0m\u001b[1;32m     75\u001b[0m \u001b[0;34m\u001b[0m\u001b[0m\n",
      "\u001b[0;32m/data/u934/service_imagerie/v_kapoor/anaconda2/envs/tensorflowpy3pt5/lib/python3.5/site-packages/csbdeep/internals/predict.py\u001b[0m in \u001b[0;36mpredict_tiled\u001b[0;34m(keras_model, x, n_tiles, block_size, tile_overlap, channel_in, channel_out, **kwargs)\u001b[0m\n\u001b[1;32m     71\u001b[0m         \u001b[0;32mif\u001b[0m \u001b[0mlen\u001b[0m\u001b[0;34m(\u001b[0m\u001b[0mn_tiles_remaining\u001b[0m\u001b[0;34m)\u001b[0m \u001b[0;34m==\u001b[0m \u001b[0;36m0\u001b[0m\u001b[0;34m:\u001b[0m\u001b[0;34m\u001b[0m\u001b[0m\n\u001b[0;32m---> 72\u001b[0;31m             \u001b[0mpred\u001b[0m \u001b[0;34m=\u001b[0m \u001b[0mpredict_direct\u001b[0m\u001b[0;34m(\u001b[0m\u001b[0mkeras_model\u001b[0m\u001b[0;34m,\u001b[0m\u001b[0mtile\u001b[0m\u001b[0;34m,\u001b[0m\u001b[0mchannel_in\u001b[0m\u001b[0;34m=\u001b[0m\u001b[0mchannel_in\u001b[0m\u001b[0;34m,\u001b[0m\u001b[0mchannel_out\u001b[0m\u001b[0;34m=\u001b[0m\u001b[0mchannel_out\u001b[0m\u001b[0;34m,\u001b[0m\u001b[0;34m**\u001b[0m\u001b[0mkwargs\u001b[0m\u001b[0;34m)\u001b[0m\u001b[0;34m\u001b[0m\u001b[0m\n\u001b[0m\u001b[1;32m     73\u001b[0m         \u001b[0;32melse\u001b[0m\u001b[0;34m:\u001b[0m\u001b[0;34m\u001b[0m\u001b[0m\n",
      "\u001b[0;32m/data/u934/service_imagerie/v_kapoor/anaconda2/envs/tensorflowpy3pt5/lib/python3.5/site-packages/csbdeep/internals/predict.py\u001b[0m in \u001b[0;36mpredict_direct\u001b[0;34m(keras_model, x, channel_in, channel_out, single_sample, **kwargs)\u001b[0m\n\u001b[1;32m     33\u001b[0m     \u001b[0;34m\"\"\"TODO.\"\"\"\u001b[0m\u001b[0;34m\u001b[0m\u001b[0m\n\u001b[0;32m---> 34\u001b[0;31m     return from_tensor(keras_model.predict(to_tensor(x,channel=channel_in,single_sample=single_sample),**kwargs),\n\u001b[0m\u001b[1;32m     35\u001b[0m                        channel=channel_out,single_sample=single_sample)\n",
      "\u001b[0;32m/data/u934/service_imagerie/v_kapoor/anaconda2/envs/tensorflowpy3pt5/lib/python3.5/site-packages/keras/engine/training.py\u001b[0m in \u001b[0;36mpredict\u001b[0;34m(self, x, batch_size, verbose, steps)\u001b[0m\n\u001b[1;32m   1171\u001b[0m                                             \u001b[0mverbose\u001b[0m\u001b[0;34m=\u001b[0m\u001b[0mverbose\u001b[0m\u001b[0;34m,\u001b[0m\u001b[0;34m\u001b[0m\u001b[0m\n\u001b[0;32m-> 1172\u001b[0;31m                                             steps=steps)\n\u001b[0m\u001b[1;32m   1173\u001b[0m \u001b[0;34m\u001b[0m\u001b[0m\n",
      "\u001b[0;32m/data/u934/service_imagerie/v_kapoor/anaconda2/envs/tensorflowpy3pt5/lib/python3.5/site-packages/keras/engine/training_arrays.py\u001b[0m in \u001b[0;36mpredict_loop\u001b[0;34m(model, f, ins, batch_size, verbose, steps)\u001b[0m\n\u001b[1;32m    296\u001b[0m \u001b[0;34m\u001b[0m\u001b[0m\n\u001b[0;32m--> 297\u001b[0;31m             \u001b[0mbatch_outs\u001b[0m \u001b[0;34m=\u001b[0m \u001b[0mf\u001b[0m\u001b[0;34m(\u001b[0m\u001b[0mins_batch\u001b[0m\u001b[0;34m)\u001b[0m\u001b[0;34m\u001b[0m\u001b[0m\n\u001b[0m\u001b[1;32m    298\u001b[0m             \u001b[0;32mif\u001b[0m \u001b[0;32mnot\u001b[0m \u001b[0misinstance\u001b[0m\u001b[0;34m(\u001b[0m\u001b[0mbatch_outs\u001b[0m\u001b[0;34m,\u001b[0m \u001b[0mlist\u001b[0m\u001b[0;34m)\u001b[0m\u001b[0;34m:\u001b[0m\u001b[0;34m\u001b[0m\u001b[0m\n",
      "\u001b[0;32m/data/u934/service_imagerie/v_kapoor/anaconda2/envs/tensorflowpy3pt5/lib/python3.5/site-packages/keras/backend/tensorflow_backend.py\u001b[0m in \u001b[0;36m__call__\u001b[0;34m(self, inputs)\u001b[0m\n\u001b[1;32m   2660\u001b[0m \u001b[0;34m\u001b[0m\u001b[0m\n\u001b[0;32m-> 2661\u001b[0;31m             \u001b[0;32mreturn\u001b[0m \u001b[0mself\u001b[0m\u001b[0;34m.\u001b[0m\u001b[0m_call\u001b[0m\u001b[0;34m(\u001b[0m\u001b[0minputs\u001b[0m\u001b[0;34m)\u001b[0m\u001b[0;34m\u001b[0m\u001b[0m\n\u001b[0m\u001b[1;32m   2662\u001b[0m         \u001b[0;32melse\u001b[0m\u001b[0;34m:\u001b[0m\u001b[0;34m\u001b[0m\u001b[0m\n",
      "\u001b[0;32m/data/u934/service_imagerie/v_kapoor/anaconda2/envs/tensorflowpy3pt5/lib/python3.5/site-packages/keras/backend/tensorflow_backend.py\u001b[0m in \u001b[0;36m_call\u001b[0;34m(self, inputs)\u001b[0m\n\u001b[1;32m   2630\u001b[0m                                 session)\n\u001b[0;32m-> 2631\u001b[0;31m         \u001b[0mfetched\u001b[0m \u001b[0;34m=\u001b[0m \u001b[0mself\u001b[0m\u001b[0;34m.\u001b[0m\u001b[0m_callable_fn\u001b[0m\u001b[0;34m(\u001b[0m\u001b[0;34m*\u001b[0m\u001b[0marray_vals\u001b[0m\u001b[0;34m)\u001b[0m\u001b[0;34m\u001b[0m\u001b[0m\n\u001b[0m\u001b[1;32m   2632\u001b[0m         \u001b[0;32mreturn\u001b[0m \u001b[0mfetched\u001b[0m\u001b[0;34m[\u001b[0m\u001b[0;34m:\u001b[0m\u001b[0mlen\u001b[0m\u001b[0;34m(\u001b[0m\u001b[0mself\u001b[0m\u001b[0;34m.\u001b[0m\u001b[0moutputs\u001b[0m\u001b[0;34m)\u001b[0m\u001b[0;34m]\u001b[0m\u001b[0;34m\u001b[0m\u001b[0m\n",
      "\u001b[0;32m/data/u934/service_imagerie/v_kapoor/anaconda2/envs/tensorflowpy3pt5/lib/python3.5/site-packages/tensorflow/python/client/session.py\u001b[0m in \u001b[0;36m__call__\u001b[0;34m(self, *args)\u001b[0m\n\u001b[1;32m   1453\u001b[0m           return tf_session.TF_DeprecatedSessionRunCallable(\n\u001b[0;32m-> 1454\u001b[0;31m               self._session._session, self._handle, args, status, None)\n\u001b[0m\u001b[1;32m   1455\u001b[0m \u001b[0;34m\u001b[0m\u001b[0m\n",
      "\u001b[0;32m/data/u934/service_imagerie/v_kapoor/anaconda2/envs/tensorflowpy3pt5/lib/python3.5/site-packages/tensorflow/python/framework/errors_impl.py\u001b[0m in \u001b[0;36m__exit__\u001b[0;34m(self, type_arg, value_arg, traceback_arg)\u001b[0m\n\u001b[1;32m    518\u001b[0m             \u001b[0mcompat\u001b[0m\u001b[0;34m.\u001b[0m\u001b[0mas_text\u001b[0m\u001b[0;34m(\u001b[0m\u001b[0mc_api\u001b[0m\u001b[0;34m.\u001b[0m\u001b[0mTF_Message\u001b[0m\u001b[0;34m(\u001b[0m\u001b[0mself\u001b[0m\u001b[0;34m.\u001b[0m\u001b[0mstatus\u001b[0m\u001b[0;34m.\u001b[0m\u001b[0mstatus\u001b[0m\u001b[0;34m)\u001b[0m\u001b[0;34m)\u001b[0m\u001b[0;34m,\u001b[0m\u001b[0;34m\u001b[0m\u001b[0m\n\u001b[0;32m--> 519\u001b[0;31m             c_api.TF_GetCode(self.status.status))\n\u001b[0m\u001b[1;32m    520\u001b[0m     \u001b[0;31m# Delete the underlying status object from memory otherwise it stays alive\u001b[0m\u001b[0;34m\u001b[0m\u001b[0;34m\u001b[0m\u001b[0m\n",
      "\u001b[0;31mResourceExhaustedError\u001b[0m: OOM when allocating tensor with shape[1,32,208,224,352] and type float on /job:localhost/replica:0/task:0/device:GPU:0 by allocator GPU_0_bfc\n\t [[Node: up_level_0_no_0/convolution = Conv3D[T=DT_FLOAT, data_format=\"NDHWC\", dilations=[1, 1, 1, 1, 1], padding=\"SAME\", strides=[1, 1, 1, 1, 1], _device=\"/job:localhost/replica:0/task:0/device:GPU:0\"](concatenate_4/concat, up_level_0_no_0/kernel/read)]]\nHint: If you want to see a list of allocated tensors when OOM happens, add report_tensor_allocations_upon_oom to RunOptions for current allocation info.\n\n\t [[Node: activation_1/Identity/_231 = _Recv[client_terminated=false, recv_device=\"/job:localhost/replica:0/task:0/device:CPU:0\", send_device=\"/job:localhost/replica:0/task:0/device:GPU:0\", send_device_incarnation=1, tensor_name=\"edge_355_activation_1/Identity\", tensor_type=DT_FLOAT, _device=\"/job:localhost/replica:0/task:0/device:CPU:0\"]()]]\nHint: If you want to see a list of allocated tensors when OOM happens, add report_tensor_allocations_upon_oom to RunOptions for current allocation info.\n",
      "\nDuring handling of the above exception, another exception occurred:\n",
      "\u001b[0;31mTypeError\u001b[0m                                 Traceback (most recent call last)",
      "\u001b[0;32m<timed exec>\u001b[0m in \u001b[0;36m<module>\u001b[0;34m()\u001b[0m\n",
      "\u001b[0;32m/data/u934/service_imagerie/v_kapoor/anaconda2/envs/tensorflowpy3pt5/lib/python3.5/site-packages/csbdeep/models/care_standard.py\u001b[0m in \u001b[0;36mpredict\u001b[0;34m(self, img, axes, normalizer, resizer, n_tiles)\u001b[0m\n\u001b[1;32m    293\u001b[0m \u001b[0;34m\u001b[0m\u001b[0m\n\u001b[1;32m    294\u001b[0m         \"\"\"\n\u001b[0;32m--> 295\u001b[0;31m         \u001b[0;32mreturn\u001b[0m \u001b[0mself\u001b[0m\u001b[0;34m.\u001b[0m\u001b[0m_predict_mean_and_scale\u001b[0m\u001b[0;34m(\u001b[0m\u001b[0mimg\u001b[0m\u001b[0;34m,\u001b[0m \u001b[0maxes\u001b[0m\u001b[0;34m,\u001b[0m \u001b[0mnormalizer\u001b[0m\u001b[0;34m,\u001b[0m \u001b[0mresizer\u001b[0m\u001b[0;34m,\u001b[0m \u001b[0mn_tiles\u001b[0m\u001b[0;34m)\u001b[0m\u001b[0;34m[\u001b[0m\u001b[0;36m0\u001b[0m\u001b[0;34m]\u001b[0m\u001b[0;34m\u001b[0m\u001b[0m\n\u001b[0m\u001b[1;32m    296\u001b[0m \u001b[0;34m\u001b[0m\u001b[0m\n\u001b[1;32m    297\u001b[0m \u001b[0;34m\u001b[0m\u001b[0m\n",
      "\u001b[0;32m/data/u934/service_imagerie/v_kapoor/anaconda2/envs/tensorflowpy3pt5/lib/python3.5/site-packages/csbdeep/models/care_standard.py\u001b[0m in \u001b[0;36m_predict_mean_and_scale\u001b[0;34m(self, img, axes, normalizer, resizer, n_tiles)\u001b[0m\n\u001b[1;32m    355\u001b[0m                 \u001b[0mdone\u001b[0m \u001b[0;34m=\u001b[0m \u001b[0;32mTrue\u001b[0m\u001b[0;34m\u001b[0m\u001b[0m\n\u001b[1;32m    356\u001b[0m             \u001b[0;32mexcept\u001b[0m \u001b[0mtf\u001b[0m\u001b[0;34m.\u001b[0m\u001b[0merrors\u001b[0m\u001b[0;34m.\u001b[0m\u001b[0mResourceExhaustedError\u001b[0m\u001b[0;34m:\u001b[0m\u001b[0;34m\u001b[0m\u001b[0m\n\u001b[0;32m--> 357\u001b[0;31m                 \u001b[0mn_tiles\u001b[0m \u001b[0;34m=\u001b[0m \u001b[0mmax\u001b[0m\u001b[0;34m(\u001b[0m\u001b[0;36m4\u001b[0m\u001b[0;34m,\u001b[0m \u001b[0;36m2\u001b[0m\u001b[0;34m*\u001b[0m\u001b[0mn_tiles\u001b[0m\u001b[0;34m)\u001b[0m\u001b[0;34m\u001b[0m\u001b[0m\n\u001b[0m\u001b[1;32m    358\u001b[0m                 \u001b[0mprint\u001b[0m\u001b[0;34m(\u001b[0m\u001b[0;34m'Out of memory, retrying with n_tiles = %d'\u001b[0m \u001b[0;34m%\u001b[0m \u001b[0mn_tiles\u001b[0m\u001b[0;34m)\u001b[0m\u001b[0;34m\u001b[0m\u001b[0m\n\u001b[1;32m    359\u001b[0m \u001b[0;34m\u001b[0m\u001b[0m\n",
      "\u001b[0;31mTypeError\u001b[0m: unorderable types: tuple() > int()"
     ]
    }
   ],
   "source": [
    "%%time\n",
    "\n",
    "Raw_path = os.path.join(basedirLow, '*tif')\n",
    "Path(basedirResults).mkdir(exist_ok = True)\n",
    "axes = 'ZYX'\n",
    "filesRaw = glob.glob(Raw_path)\n",
    "for fname in filesRaw:\n",
    "        x = imread(fname)\n",
    "        restored = model.predict(x, axes, n_tiles = (8,16)) \n",
    "        print('Saving file' +  basedirResults + '%s_' + os.path.basename(fname))\n",
    "        save_tiff_imagej_compatible((basedirResults + '%s_' + os.path.basename(fname)) % model.name, restored, axes)\n",
    "\n"
   ]
  },
  {
   "cell_type": "code",
   "execution_count": null,
   "metadata": {},
   "outputs": [],
   "source": []
  },
  {
   "cell_type": "code",
   "execution_count": null,
   "metadata": {},
   "outputs": [],
   "source": [
    "\n",
    "\n",
    "    "
   ]
  },
  {
   "cell_type": "code",
   "execution_count": null,
   "metadata": {},
   "outputs": [],
   "source": []
  },
  {
   "cell_type": "code",
   "execution_count": null,
   "metadata": {},
   "outputs": [],
   "source": []
  },
  {
   "cell_type": "code",
   "execution_count": null,
   "metadata": {},
   "outputs": [],
   "source": []
  }
 ],
 "metadata": {
  "kernelspec": {
   "display_name": "Python [conda env:tensorflowpy3pt5]",
   "language": "python",
   "name": "conda-env-tensorflowpy3pt5-py"
  },
  "language_info": {
   "codemirror_mode": {
    "name": "ipython",
    "version": 3
   },
   "file_extension": ".py",
   "mimetype": "text/x-python",
   "name": "python",
   "nbconvert_exporter": "python",
   "pygments_lexer": "ipython3",
   "version": "3.5.5"
  }
 },
 "nbformat": 4,
 "nbformat_minor": 2
}
