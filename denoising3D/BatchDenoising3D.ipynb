{
 "cells": [
  {
   "cell_type": "code",
   "execution_count": 1,
   "metadata": {},
   "outputs": [
    {
     "name": "stderr",
     "output_type": "stream",
     "text": [
      "Using TensorFlow backend.\n"
     ]
    }
   ],
   "source": [
    "from __future__ import print_function, unicode_literals, absolute_import, division\n",
    "import numpy as np\n",
    "import matplotlib.pyplot as plt\n",
    "%matplotlib inline\n",
    "%config InlineBackend.figure_format = 'retina'\n",
    "import os\n",
    "import glob\n",
    "from csbdeep.utils.tf import limit_gpu_memory\n",
    "\n",
    "from tifffile import imread\n",
    "from csbdeep.utils import Path, download_and_extract_zip_file, plot_some\n",
    "from csbdeep.io import save_tiff_imagej_compatible\n",
    "from csbdeep.models import CARE\n",
    "\n"
   ]
  },
  {
   "cell_type": "code",
   "execution_count": 2,
   "metadata": {},
   "outputs": [],
   "source": [
    "\n",
    "\n",
    "basedirLow = '/data/u934/service_imagerie/v_kapoor/Fl4-2-Var/dysRNAi_ECadGFPki-hetero_32pre29_bin140x_mov5/'\n",
    "basedirResults = '/data/u934/service_imagerie/v_kapoor/Fl4-2-Var/dysRNAi_ECadGFPki-hetero_32pre29_bin140x_mov5/Results/'\n",
    "ModelName = 'BorialisS1S2FlorisMidNoiseModel'\n",
    "BaseDir = '/data/u934/service_imagerie/v_kapoor/CurieDeepLearningModels/'"
   ]
  },
  {
   "cell_type": "code",
   "execution_count": 3,
   "metadata": {},
   "outputs": [
    {
     "name": "stdout",
     "output_type": "stream",
     "text": [
      "Loading network weights from 'weights_best.h5'.\n"
     ]
    }
   ],
   "source": [
    "model = CARE(config = None, name = ModelName, basedir = BaseDir)"
   ]
  },
  {
   "cell_type": "code",
   "execution_count": null,
   "metadata": {
    "scrolled": true
   },
   "outputs": [
    {
     "name": "stdout",
     "output_type": "stream",
     "text": [
      "Saving file/data/u934/service_imagerie/v_kapoor/Fl4-2-Var/dysRNAi_ECadGFPki-hetero_32pre29_bin140x_mov5/Results/%s_40x_bin1_05_5min_1_w2CSU-488_s1_t73.tif\n"
     ]
    },
    {
     "name": "stderr",
     "output_type": "stream",
     "text": [
      "100%|██████████| 128/128 [05:09<00:00,  1.85s/it]\n"
     ]
    },
    {
     "name": "stdout",
     "output_type": "stream",
     "text": [
      "Saving file/data/u934/service_imagerie/v_kapoor/Fl4-2-Var/dysRNAi_ECadGFPki-hetero_32pre29_bin140x_mov5/Results/%s_40x_bin1_05_5min_1_w2CSU-488_s1_t171.tif\n"
     ]
    },
    {
     "name": "stderr",
     "output_type": "stream",
     "text": [
      "100%|██████████| 128/128 [05:00<00:00,  1.87s/it]\n"
     ]
    },
    {
     "name": "stdout",
     "output_type": "stream",
     "text": [
      "Saving file/data/u934/service_imagerie/v_kapoor/Fl4-2-Var/dysRNAi_ECadGFPki-hetero_32pre29_bin140x_mov5/Results/%s_40x_bin1_05_5min_1_w2CSU-488_s1_t176.tif\n"
     ]
    },
    {
     "name": "stderr",
     "output_type": "stream",
     "text": [
      "100%|██████████| 128/128 [05:00<00:00,  1.92s/it]\n"
     ]
    },
    {
     "name": "stdout",
     "output_type": "stream",
     "text": [
      "Saving file/data/u934/service_imagerie/v_kapoor/Fl4-2-Var/dysRNAi_ECadGFPki-hetero_32pre29_bin140x_mov5/Results/%s_40x_bin1_05_5min_1_w2CSU-488_s1_t74.tif\n"
     ]
    },
    {
     "name": "stderr",
     "output_type": "stream",
     "text": [
      "100%|██████████| 128/128 [04:59<00:00,  1.86s/it]\n"
     ]
    },
    {
     "name": "stdout",
     "output_type": "stream",
     "text": [
      "Saving file/data/u934/service_imagerie/v_kapoor/Fl4-2-Var/dysRNAi_ECadGFPki-hetero_32pre29_bin140x_mov5/Results/%s_40x_bin1_05_5min_1_w2CSU-488_s1_t178.tif\n"
     ]
    },
    {
     "name": "stderr",
     "output_type": "stream",
     "text": [
      "100%|██████████| 128/128 [04:58<00:00,  1.86s/it]\n"
     ]
    },
    {
     "name": "stdout",
     "output_type": "stream",
     "text": [
      "Saving file/data/u934/service_imagerie/v_kapoor/Fl4-2-Var/dysRNAi_ECadGFPki-hetero_32pre29_bin140x_mov5/Results/%s_40x_bin1_05_5min_1_w2CSU-488_s1_t104.tif\n"
     ]
    },
    {
     "name": "stderr",
     "output_type": "stream",
     "text": [
      "100%|██████████| 128/128 [04:58<00:00,  1.84s/it]\n"
     ]
    },
    {
     "name": "stdout",
     "output_type": "stream",
     "text": [
      "Saving file/data/u934/service_imagerie/v_kapoor/Fl4-2-Var/dysRNAi_ECadGFPki-hetero_32pre29_bin140x_mov5/Results/%s_40x_bin1_05_5min_1_w2CSU-488_s1_t103.tif\n"
     ]
    },
    {
     "name": "stderr",
     "output_type": "stream",
     "text": [
      " 14%|█▍        | 18/128 [00:34<03:47,  2.07s/it] "
     ]
    }
   ],
   "source": [
    "%%time\n",
    "\n",
    "Raw_path = os.path.join(basedirLow, '*tif')\n",
    "Path(basedirResults).mkdir(exist_ok = True)\n",
    "axes = 'ZYX'\n",
    "filesRaw = glob.glob(Raw_path)\n",
    "filesRaw.sort\n",
    "for fname in filesRaw:\n",
    "        x = imread(fname)\n",
    "        print('Saving file' +  basedirResults + '%s_' + os.path.basename(fname))\n",
    "        restored = model.predict(x, axes, n_tiles = (1, 8, 16)) \n",
    "        save_tiff_imagej_compatible((basedirResults + '%s_' + os.path.basename(fname)) % model.name, restored, axes)\n",
    "\n"
   ]
  },
  {
   "cell_type": "code",
   "execution_count": null,
   "metadata": {},
   "outputs": [],
   "source": []
  },
  {
   "cell_type": "code",
   "execution_count": null,
   "metadata": {},
   "outputs": [],
   "source": [
    "\n",
    "\n",
    "    "
   ]
  },
  {
   "cell_type": "code",
   "execution_count": null,
   "metadata": {},
   "outputs": [],
   "source": []
  },
  {
   "cell_type": "code",
   "execution_count": null,
   "metadata": {},
   "outputs": [],
   "source": []
  },
  {
   "cell_type": "code",
   "execution_count": null,
   "metadata": {},
   "outputs": [],
   "source": []
  }
 ],
 "metadata": {
  "kernelspec": {
   "display_name": "Python [conda env:tensorflowpy3pt5]",
   "language": "python",
   "name": "conda-env-tensorflowpy3pt5-py"
  },
  "language_info": {
   "codemirror_mode": {
    "name": "ipython",
    "version": 3
   },
   "file_extension": ".py",
   "mimetype": "text/x-python",
   "name": "python",
   "nbconvert_exporter": "python",
   "pygments_lexer": "ipython3",
   "version": "3.5.5"
  }
 },
 "nbformat": 4,
 "nbformat_minor": 2
}
