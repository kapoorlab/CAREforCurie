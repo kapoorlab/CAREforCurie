{
 "cells": [
  {
   "cell_type": "code",
   "execution_count": 1,
   "metadata": {},
   "outputs": [
    {
     "name": "stderr",
     "output_type": "stream",
     "text": [
      "Using TensorFlow backend.\n"
     ]
    }
   ],
   "source": [
    "from __future__ import print_function, unicode_literals, absolute_import, division\n",
    "import numpy as np\n",
    "import matplotlib.pyplot as plt\n",
    "%matplotlib inline\n",
    "%config InlineBackend.figure_format = 'retina'\n",
    "import os\n",
    "import glob\n",
    "from csbdeep.utils.tf import limit_gpu_memory\n",
    "\n",
    "from tifffile import imread\n",
    "from csbdeep.utils import Path, download_and_extract_zip_file, plot_some\n",
    "from csbdeep.io import save_tiff_imagej_compatible\n",
    "from csbdeep.models import CARE\n",
    "\n"
   ]
  },
  {
   "cell_type": "code",
   "execution_count": 5,
   "metadata": {},
   "outputs": [],
   "source": [
    "\n",
    "\n",
    "basedirLow = '/data/u934/service_imagerie/v_kapoor/Fl4-2-Var/1-wtsRNAi_ECadGFPkihetero_40x-bin1_27pre-29_VARUN/TestD/'\n",
    "basedirResults = '/data/u934/service_imagerie/v_kapoor/Fl4-2-Var/1-wtsRNAi_ECadGFPkihetero_40x-bin1_27pre-29_VARUN/Results/'\n",
    "ModelName = 'BorialisS1S2FlorisMidNoiseModel'\n",
    "BaseDir = '/data/u934/service_imagerie/v_kapoor/CurieDeepLearningModels/'"
   ]
  },
  {
   "cell_type": "code",
   "execution_count": 6,
   "metadata": {},
   "outputs": [
    {
     "name": "stdout",
     "output_type": "stream",
     "text": [
      "Loading network weights from 'weights_best.h5'.\n"
     ]
    }
   ],
   "source": [
    "model = CARE(config = None, name = ModelName, basedir = BaseDir)"
   ]
  },
  {
   "cell_type": "code",
   "execution_count": 7,
   "metadata": {},
   "outputs": [
    {
     "name": "stdout",
     "output_type": "stream",
     "text": [
      "Saving file/data/u934/service_imagerie/v_kapoor/Fl4-2-Var/1-wtsRNAi_ECadGFPkihetero_40x-bin1_27pre-29_VARUN/Results/%s_40x_bin1_05_5min_1_w2CSU-488_s1_t218.tif\n",
      "Saving file/data/u934/service_imagerie/v_kapoor/Fl4-2-Var/1-wtsRNAi_ECadGFPkihetero_40x-bin1_27pre-29_VARUN/Results/%s_40x_bin1_05_5min_1_w2CSU-488_s1_t24.tif\n",
      "Saving file/data/u934/service_imagerie/v_kapoor/Fl4-2-Var/1-wtsRNAi_ECadGFPkihetero_40x-bin1_27pre-29_VARUN/Results/%s_40x_bin1_05_5min_1_w2CSU-488_s1_t211.tif\n",
      "Saving file/data/u934/service_imagerie/v_kapoor/Fl4-2-Var/1-wtsRNAi_ECadGFPkihetero_40x-bin1_27pre-29_VARUN/Results/%s_40x_bin1_05_5min_1_w2CSU-488_s1_t216.tif\n",
      "Saving file/data/u934/service_imagerie/v_kapoor/Fl4-2-Var/1-wtsRNAi_ECadGFPkihetero_40x-bin1_27pre-29_VARUN/Results/%s_40x_bin1_05_5min_1_w2CSU-488_s1_t23.tif\n",
      "Saving file/data/u934/service_imagerie/v_kapoor/Fl4-2-Var/1-wtsRNAi_ECadGFPkihetero_40x-bin1_27pre-29_VARUN/Results/%s_40x_bin1_05_5min_1_w2CSU-488_s1_t207.tif\n",
      "Saving file/data/u934/service_imagerie/v_kapoor/Fl4-2-Var/1-wtsRNAi_ECadGFPkihetero_40x-bin1_27pre-29_VARUN/Results/%s_40x_bin1_05_5min_1_w2CSU-488_s1_t200.tif\n",
      "Saving file/data/u934/service_imagerie/v_kapoor/Fl4-2-Var/1-wtsRNAi_ECadGFPkihetero_40x-bin1_27pre-29_VARUN/Results/%s_40x_bin1_05_5min_1_w2CSU-488_s1_t209.tif\n",
      "Saving file/data/u934/service_imagerie/v_kapoor/Fl4-2-Var/1-wtsRNAi_ECadGFPkihetero_40x-bin1_27pre-29_VARUN/Results/%s_40x_bin1_05_5min_1_w2CSU-488_s1_t217.tif\n",
      "Saving file/data/u934/service_imagerie/v_kapoor/Fl4-2-Var/1-wtsRNAi_ECadGFPkihetero_40x-bin1_27pre-29_VARUN/Results/%s_40x_bin1_05_5min_1_w2CSU-488_s1_t22.tif\n",
      "Saving file/data/u934/service_imagerie/v_kapoor/Fl4-2-Var/1-wtsRNAi_ECadGFPkihetero_40x-bin1_27pre-29_VARUN/Results/%s_40x_bin1_05_5min_1_w2CSU-488_s1_t25.tif\n",
      "Saving file/data/u934/service_imagerie/v_kapoor/Fl4-2-Var/1-wtsRNAi_ECadGFPkihetero_40x-bin1_27pre-29_VARUN/Results/%s_40x_bin1_05_5min_1_w2CSU-488_s1_t210.tif\n",
      "Saving file/data/u934/service_imagerie/v_kapoor/Fl4-2-Var/1-wtsRNAi_ECadGFPkihetero_40x-bin1_27pre-29_VARUN/Results/%s_40x_bin1_05_5min_1_w2CSU-488_s1_t219.tif\n",
      "Saving file/data/u934/service_imagerie/v_kapoor/Fl4-2-Var/1-wtsRNAi_ECadGFPkihetero_40x-bin1_27pre-29_VARUN/Results/%s_40x_bin1_05_5min_1_w2CSU-488_s1_t208.tif\n",
      "Saving file/data/u934/service_imagerie/v_kapoor/Fl4-2-Var/1-wtsRNAi_ECadGFPkihetero_40x-bin1_27pre-29_VARUN/Results/%s_40x_bin1_05_5min_1_w2CSU-488_s1_t201.tif\n",
      "Saving file/data/u934/service_imagerie/v_kapoor/Fl4-2-Var/1-wtsRNAi_ECadGFPkihetero_40x-bin1_27pre-29_VARUN/Results/%s_40x_bin1_05_5min_1_w2CSU-488_s1_t206.tif\n",
      "Saving file/data/u934/service_imagerie/v_kapoor/Fl4-2-Var/1-wtsRNAi_ECadGFPkihetero_40x-bin1_27pre-29_VARUN/Results/%s_40x_bin1_05_5min_1_w2CSU-488_s1_t205.tif\n",
      "Saving file/data/u934/service_imagerie/v_kapoor/Fl4-2-Var/1-wtsRNAi_ECadGFPkihetero_40x-bin1_27pre-29_VARUN/Results/%s_40x_bin1_05_5min_1_w2CSU-488_s1_t202.tif\n",
      "Saving file/data/u934/service_imagerie/v_kapoor/Fl4-2-Var/1-wtsRNAi_ECadGFPkihetero_40x-bin1_27pre-29_VARUN/Results/%s_40x_bin1_05_5min_1_w2CSU-488_s1_t26.tif\n",
      "Saving file/data/u934/service_imagerie/v_kapoor/Fl4-2-Var/1-wtsRNAi_ECadGFPkihetero_40x-bin1_27pre-29_VARUN/Results/%s_40x_bin1_05_5min_1_w2CSU-488_s1_t213.tif\n",
      "Saving file/data/u934/service_imagerie/v_kapoor/Fl4-2-Var/1-wtsRNAi_ECadGFPkihetero_40x-bin1_27pre-29_VARUN/Results/%s_40x_bin1_05_5min_1_w2CSU-488_s1_t214.tif\n",
      "Saving file/data/u934/service_imagerie/v_kapoor/Fl4-2-Var/1-wtsRNAi_ECadGFPkihetero_40x-bin1_27pre-29_VARUN/Results/%s_40x_bin1_05_5min_1_w2CSU-488_s1_t21.tif\n",
      "Saving file/data/u934/service_imagerie/v_kapoor/Fl4-2-Var/1-wtsRNAi_ECadGFPkihetero_40x-bin1_27pre-29_VARUN/Results/%s_40x_bin1_05_5min_1_w2CSU-488_s1_t28.tif\n",
      "Saving file/data/u934/service_imagerie/v_kapoor/Fl4-2-Var/1-wtsRNAi_ECadGFPkihetero_40x-bin1_27pre-29_VARUN/Results/%s_40x_bin1_05_5min_1_w2CSU-488_s1_t203.tif\n",
      "Saving file/data/u934/service_imagerie/v_kapoor/Fl4-2-Var/1-wtsRNAi_ECadGFPkihetero_40x-bin1_27pre-29_VARUN/Results/%s_40x_bin1_05_5min_1_w2CSU-488_s1_t204.tif\n",
      "Saving file/data/u934/service_imagerie/v_kapoor/Fl4-2-Var/1-wtsRNAi_ECadGFPkihetero_40x-bin1_27pre-29_VARUN/Results/%s_40x_bin1_05_5min_1_w2CSU-488_s1_t2.tif\n",
      "Saving file/data/u934/service_imagerie/v_kapoor/Fl4-2-Var/1-wtsRNAi_ECadGFPkihetero_40x-bin1_27pre-29_VARUN/Results/%s_40x_bin1_05_5min_1_w2CSU-488_s1_t29.tif\n",
      "Saving file/data/u934/service_imagerie/v_kapoor/Fl4-2-Var/1-wtsRNAi_ECadGFPkihetero_40x-bin1_27pre-29_VARUN/Results/%s_40x_bin1_05_5min_1_w2CSU-488_s1_t215.tif\n",
      "Saving file/data/u934/service_imagerie/v_kapoor/Fl4-2-Var/1-wtsRNAi_ECadGFPkihetero_40x-bin1_27pre-29_VARUN/Results/%s_40x_bin1_05_5min_1_w2CSU-488_s1_t20.tif\n",
      "Saving file/data/u934/service_imagerie/v_kapoor/Fl4-2-Var/1-wtsRNAi_ECadGFPkihetero_40x-bin1_27pre-29_VARUN/Results/%s_40x_bin1_05_5min_1_w2CSU-488_s1_t27.tif\n",
      "Saving file/data/u934/service_imagerie/v_kapoor/Fl4-2-Var/1-wtsRNAi_ECadGFPkihetero_40x-bin1_27pre-29_VARUN/Results/%s_40x_bin1_05_5min_1_w2CSU-488_s1_t212.tif\n",
      "CPU times: user 5h 36min 15s, sys: 1h 12min 18s, total: 6h 48min 33s\n",
      "Wall time: 2h 39min 10s\n"
     ]
    }
   ],
   "source": [
    "%%time\n",
    "\n",
    "Raw_path = os.path.join(basedirLow, '*tif')\n",
    "Path(basedirResults).mkdir(exist_ok = True)\n",
    "axes = 'ZYX'\n",
    "filesRaw = glob.glob(Raw_path)\n",
    "for fname in filesRaw:\n",
    "        x = imread(fname)\n",
    "        restored = model.predict(x, axes, n_tiles = (8, 16)) \n",
    "        print('Saving file' +  basedirResults + '%s_' + os.path.basename(fname))\n",
    "        save_tiff_imagej_compatible((basedirResults + '%s_' + os.path.basename(fname)) % model.name, restored, axes)\n",
    "\n"
   ]
  },
  {
   "cell_type": "code",
   "execution_count": null,
   "metadata": {},
   "outputs": [],
   "source": []
  },
  {
   "cell_type": "code",
   "execution_count": null,
   "metadata": {},
   "outputs": [],
   "source": [
    "\n",
    "\n",
    "    "
   ]
  },
  {
   "cell_type": "code",
   "execution_count": null,
   "metadata": {},
   "outputs": [],
   "source": []
  },
  {
   "cell_type": "code",
   "execution_count": null,
   "metadata": {},
   "outputs": [],
   "source": []
  },
  {
   "cell_type": "code",
   "execution_count": null,
   "metadata": {},
   "outputs": [],
   "source": []
  }
 ],
 "metadata": {
  "kernelspec": {
   "display_name": "Python [conda env:tensorflowpy3pt5]",
   "language": "python",
   "name": "conda-env-tensorflowpy3pt5-py"
  },
  "language_info": {
   "codemirror_mode": {
    "name": "ipython",
    "version": 3
   },
   "file_extension": ".py",
   "mimetype": "text/x-python",
   "name": "python",
   "nbconvert_exporter": "python",
   "pygments_lexer": "ipython3",
   "version": "3.5.5"
  }
 },
 "nbformat": 4,
 "nbformat_minor": 2
}
