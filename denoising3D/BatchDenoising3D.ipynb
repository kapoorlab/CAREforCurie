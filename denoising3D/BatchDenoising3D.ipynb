{
 "cells": [
  {
   "cell_type": "code",
   "execution_count": 1,
   "metadata": {},
   "outputs": [
    {
     "name": "stderr",
     "output_type": "stream",
     "text": [
      "Using TensorFlow backend.\n"
     ]
    }
   ],
   "source": [
    "from __future__ import print_function, unicode_literals, absolute_import, division\n",
    "import numpy as np\n",
    "import matplotlib.pyplot as plt\n",
    "%matplotlib inline\n",
    "%config InlineBackend.figure_format = 'retina'\n",
    "import os\n",
    "import glob\n",
    "\n",
    "from tifffile import imread\n",
    "from csbdeep.utils import Path, download_and_extract_zip_file, plot_some\n",
    "from csbdeep.io import save_tiff_imagej_compatible\n",
    "from csbdeep.models import CARE"
   ]
  },
  {
   "cell_type": "code",
   "execution_count": 2,
   "metadata": {},
   "outputs": [],
   "source": [
    "\n",
    "\n",
    "basedirLow = '/data/u934/service_imagerie/v_kapoor/Fl4-2-Var/1-wtsRNAi_ECadGFPkihetero_40x-bin1_27pre-29_VARUN/TestC/'\n",
    "basedirResults = '/data/u934/service_imagerie/v_kapoor/Fl4-2-Var/1-wtsRNAi_ECadGFPkihetero_40x-bin1_27pre-29_VARUN/Results/'\n",
    "ModelName = 'BorialisS1S2FlorisMidNoiseModel'\n",
    "BaseDir = '/data/u934/service_imagerie/v_kapoor/CurieDeepLearningModels/'"
   ]
  },
  {
   "cell_type": "code",
   "execution_count": 3,
   "metadata": {},
   "outputs": [
    {
     "name": "stdout",
     "output_type": "stream",
     "text": [
      "Loading network weights from 'weights_best.h5'.\n"
     ]
    }
   ],
   "source": [
    "model = CARE(config = None, name = ModelName, basedir = BaseDir)"
   ]
  },
  {
   "cell_type": "code",
   "execution_count": 9,
   "metadata": {},
   "outputs": [
    {
     "name": "stdout",
     "output_type": "stream",
     "text": [
      "Saving file/data/u934/service_imagerie/v_kapoor/Fl4-2-Var/1-wtsRNAi_ECadGFPkihetero_40x-bin1_27pre-29_VARUN/Results/%s_40x_bin1_05_5min_1_w2CSU-488_s1_t122.tif\n",
      "Saving file/data/u934/service_imagerie/v_kapoor/Fl4-2-Var/1-wtsRNAi_ECadGFPkihetero_40x-bin1_27pre-29_VARUN/Results/%s_40x_bin1_05_5min_1_w2CSU-488_s1_t125.tif\n",
      "Saving file/data/u934/service_imagerie/v_kapoor/Fl4-2-Var/1-wtsRNAi_ECadGFPkihetero_40x-bin1_27pre-29_VARUN/Results/%s_40x_bin1_05_5min_1_w2CSU-488_s1_t159.tif\n",
      "Saving file/data/u934/service_imagerie/v_kapoor/Fl4-2-Var/1-wtsRNAi_ECadGFPkihetero_40x-bin1_27pre-29_VARUN/Results/%s_40x_bin1_05_5min_1_w2CSU-488_s1_t188.tif\n",
      "Saving file/data/u934/service_imagerie/v_kapoor/Fl4-2-Var/1-wtsRNAi_ECadGFPkihetero_40x-bin1_27pre-29_VARUN/Results/%s_40x_bin1_05_5min_1_w2CSU-488_s1_t157.tif\n",
      "Saving file/data/u934/service_imagerie/v_kapoor/Fl4-2-Var/1-wtsRNAi_ECadGFPkihetero_40x-bin1_27pre-29_VARUN/Results/%s_40x_bin1_05_5min_1_w2CSU-488_s1_t186.tif\n",
      "Saving file/data/u934/service_imagerie/v_kapoor/Fl4-2-Var/1-wtsRNAi_ECadGFPkihetero_40x-bin1_27pre-29_VARUN/Results/%s_40x_bin1_05_5min_1_w2CSU-488_s1_t150.tif\n",
      "Saving file/data/u934/service_imagerie/v_kapoor/Fl4-2-Var/1-wtsRNAi_ECadGFPkihetero_40x-bin1_27pre-29_VARUN/Results/%s_40x_bin1_05_5min_1_w2CSU-488_s1_t181.tif\n",
      "Saving file/data/u934/service_imagerie/v_kapoor/Fl4-2-Var/1-wtsRNAi_ECadGFPkihetero_40x-bin1_27pre-29_VARUN/Results/%s_40x_bin1_05_5min_1_w2CSU-488_s1_t165.tif\n",
      "Saving file/data/u934/service_imagerie/v_kapoor/Fl4-2-Var/1-wtsRNAi_ECadGFPkihetero_40x-bin1_27pre-29_VARUN/Results/%s_40x_bin1_05_5min_1_w2CSU-488_s1_t119.tif\n",
      "Saving file/data/u934/service_imagerie/v_kapoor/Fl4-2-Var/1-wtsRNAi_ECadGFPkihetero_40x-bin1_27pre-29_VARUN/Results/%s_40x_bin1_05_5min_1_w2CSU-488_s1_t19.tif\n",
      "Saving file/data/u934/service_imagerie/v_kapoor/Fl4-2-Var/1-wtsRNAi_ECadGFPkihetero_40x-bin1_27pre-29_VARUN/Results/%s_40x_bin1_05_5min_1_w2CSU-488_s1_t162.tif\n",
      "Saving file/data/u934/service_imagerie/v_kapoor/Fl4-2-Var/1-wtsRNAi_ECadGFPkihetero_40x-bin1_27pre-29_VARUN/Results/%s_40x_bin1_05_5min_1_w2CSU-488_s1_t110.tif\n",
      "Saving file/data/u934/service_imagerie/v_kapoor/Fl4-2-Var/1-wtsRNAi_ECadGFPkihetero_40x-bin1_27pre-29_VARUN/Results/%s_40x_bin1_05_5min_1_w2CSU-488_s1_t17.tif\n",
      "Saving file/data/u934/service_imagerie/v_kapoor/Fl4-2-Var/1-wtsRNAi_ECadGFPkihetero_40x-bin1_27pre-29_VARUN/Results/%s_40x_bin1_05_5min_1_w2CSU-488_s1_t117.tif\n",
      "Saving file/data/u934/service_imagerie/v_kapoor/Fl4-2-Var/1-wtsRNAi_ECadGFPkihetero_40x-bin1_27pre-29_VARUN/Results/%s_40x_bin1_05_5min_1_w2CSU-488_s1_t10.tif\n",
      "Saving file/data/u934/service_imagerie/v_kapoor/Fl4-2-Var/1-wtsRNAi_ECadGFPkihetero_40x-bin1_27pre-29_VARUN/Results/%s_40x_bin1_05_5min_1_w2CSU-488_s1_t106.tif\n",
      "Saving file/data/u934/service_imagerie/v_kapoor/Fl4-2-Var/1-wtsRNAi_ECadGFPkihetero_40x-bin1_27pre-29_VARUN/Results/%s_40x_bin1_05_5min_1_w2CSU-488_s1_t101.tif\n",
      "Saving file/data/u934/service_imagerie/v_kapoor/Fl4-2-Var/1-wtsRNAi_ECadGFPkihetero_40x-bin1_27pre-29_VARUN/Results/%s_40x_bin1_05_5min_1_w2CSU-488_s1_t173.tif\n",
      "Saving file/data/u934/service_imagerie/v_kapoor/Fl4-2-Var/1-wtsRNAi_ECadGFPkihetero_40x-bin1_27pre-29_VARUN/Results/%s_40x_bin1_05_5min_1_w2CSU-488_s1_t174.tif\n",
      "Saving file/data/u934/service_imagerie/v_kapoor/Fl4-2-Var/1-wtsRNAi_ECadGFPkihetero_40x-bin1_27pre-29_VARUN/Results/%s_40x_bin1_05_5min_1_w2CSU-488_s1_t108.tif\n",
      "Saving file/data/u934/service_imagerie/v_kapoor/Fl4-2-Var/1-wtsRNAi_ECadGFPkihetero_40x-bin1_27pre-29_VARUN/Results/%s_40x_bin1_05_5min_1_w2CSU-488_s1_t1.tif\n",
      "Saving file/data/u934/service_imagerie/v_kapoor/Fl4-2-Var/1-wtsRNAi_ECadGFPkihetero_40x-bin1_27pre-29_VARUN/Results/%s_40x_bin1_05_5min_1_w2CSU-488_s1_t190.tif\n",
      "Saving file/data/u934/service_imagerie/v_kapoor/Fl4-2-Var/1-wtsRNAi_ECadGFPkihetero_40x-bin1_27pre-29_VARUN/Results/%s_40x_bin1_05_5min_1_w2CSU-488_s1_t141.tif\n",
      "Saving file/data/u934/service_imagerie/v_kapoor/Fl4-2-Var/1-wtsRNAi_ECadGFPkihetero_40x-bin1_27pre-29_VARUN/Results/%s_40x_bin1_05_5min_1_w2CSU-488_s1_t197.tif\n",
      "Saving file/data/u934/service_imagerie/v_kapoor/Fl4-2-Var/1-wtsRNAi_ECadGFPkihetero_40x-bin1_27pre-29_VARUN/Results/%s_40x_bin1_05_5min_1_w2CSU-488_s1_t146.tif\n",
      "Saving file/data/u934/service_imagerie/v_kapoor/Fl4-2-Var/1-wtsRNAi_ECadGFPkihetero_40x-bin1_27pre-29_VARUN/Results/%s_40x_bin1_05_5min_1_w2CSU-488_s1_t134.tif\n",
      "Saving file/data/u934/service_imagerie/v_kapoor/Fl4-2-Var/1-wtsRNAi_ECadGFPkihetero_40x-bin1_27pre-29_VARUN/Results/%s_40x_bin1_05_5min_1_w2CSU-488_s1_t199.tif\n",
      "Saving file/data/u934/service_imagerie/v_kapoor/Fl4-2-Var/1-wtsRNAi_ECadGFPkihetero_40x-bin1_27pre-29_VARUN/Results/%s_40x_bin1_05_5min_1_w2CSU-488_s1_t148.tif\n",
      "Saving file/data/u934/service_imagerie/v_kapoor/Fl4-2-Var/1-wtsRNAi_ECadGFPkihetero_40x-bin1_27pre-29_VARUN/Results/%s_40x_bin1_05_5min_1_w2CSU-488_s1_t133.tif\n",
      "Saving file/data/u934/service_imagerie/v_kapoor/Fl4-2-Var/1-wtsRNAi_ECadGFPkihetero_40x-bin1_27pre-29_VARUN/Results/%s_40x_bin1_05_5min_1_w2CSU-488_s1_t11.tif\n",
      "Saving file/data/u934/service_imagerie/v_kapoor/Fl4-2-Var/1-wtsRNAi_ECadGFPkihetero_40x-bin1_27pre-29_VARUN/Results/%s_40x_bin1_05_5min_1_w2CSU-488_s1_t116.tif\n",
      "Saving file/data/u934/service_imagerie/v_kapoor/Fl4-2-Var/1-wtsRNAi_ECadGFPkihetero_40x-bin1_27pre-29_VARUN/Results/%s_40x_bin1_05_5min_1_w2CSU-488_s1_t16.tif\n",
      "Saving file/data/u934/service_imagerie/v_kapoor/Fl4-2-Var/1-wtsRNAi_ECadGFPkihetero_40x-bin1_27pre-29_VARUN/Results/%s_40x_bin1_05_5min_1_w2CSU-488_s1_t111.tif\n",
      "Saving file/data/u934/service_imagerie/v_kapoor/Fl4-2-Var/1-wtsRNAi_ECadGFPkihetero_40x-bin1_27pre-29_VARUN/Results/%s_40x_bin1_05_5min_1_w2CSU-488_s1_t18.tif\n",
      "Saving file/data/u934/service_imagerie/v_kapoor/Fl4-2-Var/1-wtsRNAi_ECadGFPkihetero_40x-bin1_27pre-29_VARUN/Results/%s_40x_bin1_05_5min_1_w2CSU-488_s1_t163.tif\n",
      "Saving file/data/u934/service_imagerie/v_kapoor/Fl4-2-Var/1-wtsRNAi_ECadGFPkihetero_40x-bin1_27pre-29_VARUN/Results/%s_40x_bin1_05_5min_1_w2CSU-488_s1_t164.tif\n",
      "Saving file/data/u934/service_imagerie/v_kapoor/Fl4-2-Var/1-wtsRNAi_ECadGFPkihetero_40x-bin1_27pre-29_VARUN/Results/%s_40x_bin1_05_5min_1_w2CSU-488_s1_t118.tif\n",
      "Saving file/data/u934/service_imagerie/v_kapoor/Fl4-2-Var/1-wtsRNAi_ECadGFPkihetero_40x-bin1_27pre-29_VARUN/Results/%s_40x_bin1_05_5min_1_w2CSU-488_s1_t151.tif\n",
      "Saving file/data/u934/service_imagerie/v_kapoor/Fl4-2-Var/1-wtsRNAi_ECadGFPkihetero_40x-bin1_27pre-29_VARUN/Results/%s_40x_bin1_05_5min_1_w2CSU-488_s1_t180.tif\n",
      "Saving file/data/u934/service_imagerie/v_kapoor/Fl4-2-Var/1-wtsRNAi_ECadGFPkihetero_40x-bin1_27pre-29_VARUN/Results/%s_40x_bin1_05_5min_1_w2CSU-488_s1_t156.tif\n",
      "Saving file/data/u934/service_imagerie/v_kapoor/Fl4-2-Var/1-wtsRNAi_ECadGFPkihetero_40x-bin1_27pre-29_VARUN/Results/%s_40x_bin1_05_5min_1_w2CSU-488_s1_t187.tif\n",
      "Saving file/data/u934/service_imagerie/v_kapoor/Fl4-2-Var/1-wtsRNAi_ECadGFPkihetero_40x-bin1_27pre-29_VARUN/Results/%s_40x_bin1_05_5min_1_w2CSU-488_s1_t124.tif\n",
      "Saving file/data/u934/service_imagerie/v_kapoor/Fl4-2-Var/1-wtsRNAi_ECadGFPkihetero_40x-bin1_27pre-29_VARUN/Results/%s_40x_bin1_05_5min_1_w2CSU-488_s1_t158.tif\n",
      "Saving file/data/u934/service_imagerie/v_kapoor/Fl4-2-Var/1-wtsRNAi_ECadGFPkihetero_40x-bin1_27pre-29_VARUN/Results/%s_40x_bin1_05_5min_1_w2CSU-488_s1_t189.tif\n",
      "Saving file/data/u934/service_imagerie/v_kapoor/Fl4-2-Var/1-wtsRNAi_ECadGFPkihetero_40x-bin1_27pre-29_VARUN/Results/%s_40x_bin1_05_5min_1_w2CSU-488_s1_t123.tif\n",
      "Saving file/data/u934/service_imagerie/v_kapoor/Fl4-2-Var/1-wtsRNAi_ECadGFPkihetero_40x-bin1_27pre-29_VARUN/Results/%s_40x_bin1_05_5min_1_w2CSU-488_s1_t132.tif\n",
      "Saving file/data/u934/service_imagerie/v_kapoor/Fl4-2-Var/1-wtsRNAi_ECadGFPkihetero_40x-bin1_27pre-29_VARUN/Results/%s_40x_bin1_05_5min_1_w2CSU-488_s1_t135.tif\n",
      "Saving file/data/u934/service_imagerie/v_kapoor/Fl4-2-Var/1-wtsRNAi_ECadGFPkihetero_40x-bin1_27pre-29_VARUN/Results/%s_40x_bin1_05_5min_1_w2CSU-488_s1_t198.tif\n",
      "Saving file/data/u934/service_imagerie/v_kapoor/Fl4-2-Var/1-wtsRNAi_ECadGFPkihetero_40x-bin1_27pre-29_VARUN/Results/%s_40x_bin1_05_5min_1_w2CSU-488_s1_t149.tif\n",
      "Saving file/data/u934/service_imagerie/v_kapoor/Fl4-2-Var/1-wtsRNAi_ECadGFPkihetero_40x-bin1_27pre-29_VARUN/Results/%s_40x_bin1_05_5min_1_w2CSU-488_s1_t196.tif\n",
      "Saving file/data/u934/service_imagerie/v_kapoor/Fl4-2-Var/1-wtsRNAi_ECadGFPkihetero_40x-bin1_27pre-29_VARUN/Results/%s_40x_bin1_05_5min_1_w2CSU-488_s1_t147.tif\n"
     ]
    },
    {
     "name": "stdout",
     "output_type": "stream",
     "text": [
      "Saving file/data/u934/service_imagerie/v_kapoor/Fl4-2-Var/1-wtsRNAi_ECadGFPkihetero_40x-bin1_27pre-29_VARUN/Results/%s_40x_bin1_05_5min_1_w2CSU-488_s1_t191.tif\n",
      "Saving file/data/u934/service_imagerie/v_kapoor/Fl4-2-Var/1-wtsRNAi_ECadGFPkihetero_40x-bin1_27pre-29_VARUN/Results/%s_40x_bin1_05_5min_1_w2CSU-488_s1_t140.tif\n",
      "Saving file/data/u934/service_imagerie/v_kapoor/Fl4-2-Var/1-wtsRNAi_ECadGFPkihetero_40x-bin1_27pre-29_VARUN/Results/%s_40x_bin1_05_5min_1_w2CSU-488_s1_t175.tif\n",
      "Saving file/data/u934/service_imagerie/v_kapoor/Fl4-2-Var/1-wtsRNAi_ECadGFPkihetero_40x-bin1_27pre-29_VARUN/Results/%s_40x_bin1_05_5min_1_w2CSU-488_s1_t109.tif\n",
      "Saving file/data/u934/service_imagerie/v_kapoor/Fl4-2-Var/1-wtsRNAi_ECadGFPkihetero_40x-bin1_27pre-29_VARUN/Results/%s_40x_bin1_05_5min_1_w2CSU-488_s1_t172.tif\n",
      "Saving file/data/u934/service_imagerie/v_kapoor/Fl4-2-Var/1-wtsRNAi_ECadGFPkihetero_40x-bin1_27pre-29_VARUN/Results/%s_40x_bin1_05_5min_1_w2CSU-488_s1_t100.tif\n",
      "Saving file/data/u934/service_imagerie/v_kapoor/Fl4-2-Var/1-wtsRNAi_ECadGFPkihetero_40x-bin1_27pre-29_VARUN/Results/%s_40x_bin1_05_5min_1_w2CSU-488_s1_t107.tif\n",
      "Saving file/data/u934/service_imagerie/v_kapoor/Fl4-2-Var/1-wtsRNAi_ECadGFPkihetero_40x-bin1_27pre-29_VARUN/Results/%s_40x_bin1_05_5min_1_w2CSU-488_s1_t136.tif\n",
      "Saving file/data/u934/service_imagerie/v_kapoor/Fl4-2-Var/1-wtsRNAi_ECadGFPkihetero_40x-bin1_27pre-29_VARUN/Results/%s_40x_bin1_05_5min_1_w2CSU-488_s1_t131.tif\n",
      "Saving file/data/u934/service_imagerie/v_kapoor/Fl4-2-Var/1-wtsRNAi_ECadGFPkihetero_40x-bin1_27pre-29_VARUN/Results/%s_40x_bin1_05_5min_1_w2CSU-488_s1_t192.tif\n",
      "Saving file/data/u934/service_imagerie/v_kapoor/Fl4-2-Var/1-wtsRNAi_ECadGFPkihetero_40x-bin1_27pre-29_VARUN/Results/%s_40x_bin1_05_5min_1_w2CSU-488_s1_t143.tif\n",
      "Saving file/data/u934/service_imagerie/v_kapoor/Fl4-2-Var/1-wtsRNAi_ECadGFPkihetero_40x-bin1_27pre-29_VARUN/Results/%s_40x_bin1_05_5min_1_w2CSU-488_s1_t138.tif\n",
      "Saving file/data/u934/service_imagerie/v_kapoor/Fl4-2-Var/1-wtsRNAi_ECadGFPkihetero_40x-bin1_27pre-29_VARUN/Results/%s_40x_bin1_05_5min_1_w2CSU-488_s1_t195.tif\n",
      "Saving file/data/u934/service_imagerie/v_kapoor/Fl4-2-Var/1-wtsRNAi_ECadGFPkihetero_40x-bin1_27pre-29_VARUN/Results/%s_40x_bin1_05_5min_1_w2CSU-488_s1_t144.tif\n",
      "Saving file/data/u934/service_imagerie/v_kapoor/Fl4-2-Var/1-wtsRNAi_ECadGFPkihetero_40x-bin1_27pre-29_VARUN/Results/%s_40x_bin1_05_5min_1_w2CSU-488_s1_t171.tif\n",
      "Saving file/data/u934/service_imagerie/v_kapoor/Fl4-2-Var/1-wtsRNAi_ECadGFPkihetero_40x-bin1_27pre-29_VARUN/Results/%s_40x_bin1_05_5min_1_w2CSU-488_s1_t176.tif\n",
      "Saving file/data/u934/service_imagerie/v_kapoor/Fl4-2-Var/1-wtsRNAi_ECadGFPkihetero_40x-bin1_27pre-29_VARUN/Results/%s_40x_bin1_05_5min_1_w2CSU-488_s1_t178.tif\n",
      "Saving file/data/u934/service_imagerie/v_kapoor/Fl4-2-Var/1-wtsRNAi_ECadGFPkihetero_40x-bin1_27pre-29_VARUN/Results/%s_40x_bin1_05_5min_1_w2CSU-488_s1_t104.tif\n",
      "Saving file/data/u934/service_imagerie/v_kapoor/Fl4-2-Var/1-wtsRNAi_ECadGFPkihetero_40x-bin1_27pre-29_VARUN/Results/%s_40x_bin1_05_5min_1_w2CSU-488_s1_t103.tif\n",
      "Saving file/data/u934/service_imagerie/v_kapoor/Fl4-2-Var/1-wtsRNAi_ECadGFPkihetero_40x-bin1_27pre-29_VARUN/Results/%s_40x_bin1_05_5min_1_w2CSU-488_s1_t112.tif\n",
      "Saving file/data/u934/service_imagerie/v_kapoor/Fl4-2-Var/1-wtsRNAi_ECadGFPkihetero_40x-bin1_27pre-29_VARUN/Results/%s_40x_bin1_05_5min_1_w2CSU-488_s1_t15.tif\n",
      "Saving file/data/u934/service_imagerie/v_kapoor/Fl4-2-Var/1-wtsRNAi_ECadGFPkihetero_40x-bin1_27pre-29_VARUN/Results/%s_40x_bin1_05_5min_1_w2CSU-488_s1_t169.tif\n",
      "Saving file/data/u934/service_imagerie/v_kapoor/Fl4-2-Var/1-wtsRNAi_ECadGFPkihetero_40x-bin1_27pre-29_VARUN/Results/%s_40x_bin1_05_5min_1_w2CSU-488_s1_t115.tif\n",
      "Saving file/data/u934/service_imagerie/v_kapoor/Fl4-2-Var/1-wtsRNAi_ECadGFPkihetero_40x-bin1_27pre-29_VARUN/Results/%s_40x_bin1_05_5min_1_w2CSU-488_s1_t12.tif\n",
      "Saving file/data/u934/service_imagerie/v_kapoor/Fl4-2-Var/1-wtsRNAi_ECadGFPkihetero_40x-bin1_27pre-29_VARUN/Results/%s_40x_bin1_05_5min_1_w2CSU-488_s1_t167.tif\n",
      "Saving file/data/u934/service_imagerie/v_kapoor/Fl4-2-Var/1-wtsRNAi_ECadGFPkihetero_40x-bin1_27pre-29_VARUN/Results/%s_40x_bin1_05_5min_1_w2CSU-488_s1_t160.tif\n",
      "Saving file/data/u934/service_imagerie/v_kapoor/Fl4-2-Var/1-wtsRNAi_ECadGFPkihetero_40x-bin1_27pre-29_VARUN/Results/%s_40x_bin1_05_5min_1_w2CSU-488_s1_t129.tif\n",
      "Saving file/data/u934/service_imagerie/v_kapoor/Fl4-2-Var/1-wtsRNAi_ECadGFPkihetero_40x-bin1_27pre-29_VARUN/Results/%s_40x_bin1_05_5min_1_w2CSU-488_s1_t155.tif\n",
      "Saving file/data/u934/service_imagerie/v_kapoor/Fl4-2-Var/1-wtsRNAi_ECadGFPkihetero_40x-bin1_27pre-29_VARUN/Results/%s_40x_bin1_05_5min_1_w2CSU-488_s1_t184.tif\n",
      "Saving file/data/u934/service_imagerie/v_kapoor/Fl4-2-Var/1-wtsRNAi_ECadGFPkihetero_40x-bin1_27pre-29_VARUN/Results/%s_40x_bin1_05_5min_1_w2CSU-488_s1_t152.tif\n",
      "Saving file/data/u934/service_imagerie/v_kapoor/Fl4-2-Var/1-wtsRNAi_ECadGFPkihetero_40x-bin1_27pre-29_VARUN/Results/%s_40x_bin1_05_5min_1_w2CSU-488_s1_t183.tif\n",
      "Saving file/data/u934/service_imagerie/v_kapoor/Fl4-2-Var/1-wtsRNAi_ECadGFPkihetero_40x-bin1_27pre-29_VARUN/Results/%s_40x_bin1_05_5min_1_w2CSU-488_s1_t120.tif\n",
      "Saving file/data/u934/service_imagerie/v_kapoor/Fl4-2-Var/1-wtsRNAi_ECadGFPkihetero_40x-bin1_27pre-29_VARUN/Results/%s_40x_bin1_05_5min_1_w2CSU-488_s1_t127.tif\n",
      "Saving file/data/u934/service_imagerie/v_kapoor/Fl4-2-Var/1-wtsRNAi_ECadGFPkihetero_40x-bin1_27pre-29_VARUN/Results/%s_40x_bin1_05_5min_1_w2CSU-488_s1_t102.tif\n",
      "Saving file/data/u934/service_imagerie/v_kapoor/Fl4-2-Var/1-wtsRNAi_ECadGFPkihetero_40x-bin1_27pre-29_VARUN/Results/%s_40x_bin1_05_5min_1_w2CSU-488_s1_t179.tif\n",
      "Saving file/data/u934/service_imagerie/v_kapoor/Fl4-2-Var/1-wtsRNAi_ECadGFPkihetero_40x-bin1_27pre-29_VARUN/Results/%s_40x_bin1_05_5min_1_w2CSU-488_s1_t105.tif\n",
      "Saving file/data/u934/service_imagerie/v_kapoor/Fl4-2-Var/1-wtsRNAi_ECadGFPkihetero_40x-bin1_27pre-29_VARUN/Results/%s_40x_bin1_05_5min_1_w2CSU-488_s1_t177.tif\n",
      "Saving file/data/u934/service_imagerie/v_kapoor/Fl4-2-Var/1-wtsRNAi_ECadGFPkihetero_40x-bin1_27pre-29_VARUN/Results/%s_40x_bin1_05_5min_1_w2CSU-488_s1_t170.tif\n",
      "Saving file/data/u934/service_imagerie/v_kapoor/Fl4-2-Var/1-wtsRNAi_ECadGFPkihetero_40x-bin1_27pre-29_VARUN/Results/%s_40x_bin1_05_5min_1_w2CSU-488_s1_t139.tif\n",
      "Saving file/data/u934/service_imagerie/v_kapoor/Fl4-2-Var/1-wtsRNAi_ECadGFPkihetero_40x-bin1_27pre-29_VARUN/Results/%s_40x_bin1_05_5min_1_w2CSU-488_s1_t194.tif\n",
      "Saving file/data/u934/service_imagerie/v_kapoor/Fl4-2-Var/1-wtsRNAi_ECadGFPkihetero_40x-bin1_27pre-29_VARUN/Results/%s_40x_bin1_05_5min_1_w2CSU-488_s1_t145.tif\n",
      "Saving file/data/u934/service_imagerie/v_kapoor/Fl4-2-Var/1-wtsRNAi_ECadGFPkihetero_40x-bin1_27pre-29_VARUN/Results/%s_40x_bin1_05_5min_1_w2CSU-488_s1_t193.tif\n",
      "Saving file/data/u934/service_imagerie/v_kapoor/Fl4-2-Var/1-wtsRNAi_ECadGFPkihetero_40x-bin1_27pre-29_VARUN/Results/%s_40x_bin1_05_5min_1_w2CSU-488_s1_t142.tif\n",
      "Saving file/data/u934/service_imagerie/v_kapoor/Fl4-2-Var/1-wtsRNAi_ECadGFPkihetero_40x-bin1_27pre-29_VARUN/Results/%s_40x_bin1_05_5min_1_w2CSU-488_s1_t130.tif\n",
      "Saving file/data/u934/service_imagerie/v_kapoor/Fl4-2-Var/1-wtsRNAi_ECadGFPkihetero_40x-bin1_27pre-29_VARUN/Results/%s_40x_bin1_05_5min_1_w2CSU-488_s1_t137.tif\n",
      "Saving file/data/u934/service_imagerie/v_kapoor/Fl4-2-Var/1-wtsRNAi_ECadGFPkihetero_40x-bin1_27pre-29_VARUN/Results/%s_40x_bin1_05_5min_1_w2CSU-488_s1_t126.tif\n",
      "Saving file/data/u934/service_imagerie/v_kapoor/Fl4-2-Var/1-wtsRNAi_ECadGFPkihetero_40x-bin1_27pre-29_VARUN/Results/%s_40x_bin1_05_5min_1_w2CSU-488_s1_t121.tif\n",
      "Saving file/data/u934/service_imagerie/v_kapoor/Fl4-2-Var/1-wtsRNAi_ECadGFPkihetero_40x-bin1_27pre-29_VARUN/Results/%s_40x_bin1_05_5min_1_w2CSU-488_s1_t153.tif\n",
      "Saving file/data/u934/service_imagerie/v_kapoor/Fl4-2-Var/1-wtsRNAi_ECadGFPkihetero_40x-bin1_27pre-29_VARUN/Results/%s_40x_bin1_05_5min_1_w2CSU-488_s1_t182.tif\n",
      "Saving file/data/u934/service_imagerie/v_kapoor/Fl4-2-Var/1-wtsRNAi_ECadGFPkihetero_40x-bin1_27pre-29_VARUN/Results/%s_40x_bin1_05_5min_1_w2CSU-488_s1_t128.tif\n",
      "Saving file/data/u934/service_imagerie/v_kapoor/Fl4-2-Var/1-wtsRNAi_ECadGFPkihetero_40x-bin1_27pre-29_VARUN/Results/%s_40x_bin1_05_5min_1_w2CSU-488_s1_t154.tif\n",
      "Saving file/data/u934/service_imagerie/v_kapoor/Fl4-2-Var/1-wtsRNAi_ECadGFPkihetero_40x-bin1_27pre-29_VARUN/Results/%s_40x_bin1_05_5min_1_w2CSU-488_s1_t185.tif\n"
     ]
    },
    {
     "name": "stdout",
     "output_type": "stream",
     "text": [
      "Saving file/data/u934/service_imagerie/v_kapoor/Fl4-2-Var/1-wtsRNAi_ECadGFPkihetero_40x-bin1_27pre-29_VARUN/Results/%s_40x_bin1_05_5min_1_w2CSU-488_s1_t161.tif\n",
      "Saving file/data/u934/service_imagerie/v_kapoor/Fl4-2-Var/1-wtsRNAi_ECadGFPkihetero_40x-bin1_27pre-29_VARUN/Results/%s_40x_bin1_05_5min_1_w2CSU-488_s1_t166.tif\n",
      "Saving file/data/u934/service_imagerie/v_kapoor/Fl4-2-Var/1-wtsRNAi_ECadGFPkihetero_40x-bin1_27pre-29_VARUN/Results/%s_40x_bin1_05_5min_1_w2CSU-488_s1_t168.tif\n",
      "Saving file/data/u934/service_imagerie/v_kapoor/Fl4-2-Var/1-wtsRNAi_ECadGFPkihetero_40x-bin1_27pre-29_VARUN/Results/%s_40x_bin1_05_5min_1_w2CSU-488_s1_t13.tif\n",
      "Saving file/data/u934/service_imagerie/v_kapoor/Fl4-2-Var/1-wtsRNAi_ECadGFPkihetero_40x-bin1_27pre-29_VARUN/Results/%s_40x_bin1_05_5min_1_w2CSU-488_s1_t114.tif\n",
      "Saving file/data/u934/service_imagerie/v_kapoor/Fl4-2-Var/1-wtsRNAi_ECadGFPkihetero_40x-bin1_27pre-29_VARUN/Results/%s_40x_bin1_05_5min_1_w2CSU-488_s1_t14.tif\n",
      "Saving file/data/u934/service_imagerie/v_kapoor/Fl4-2-Var/1-wtsRNAi_ECadGFPkihetero_40x-bin1_27pre-29_VARUN/Results/%s_40x_bin1_05_5min_1_w2CSU-488_s1_t113.tif\n",
      "CPU times: user 20h 59s, sys: 4h 11min 10s, total: 1d 12min 9s\n",
      "Wall time: 9h 21min 29s\n"
     ]
    }
   ],
   "source": [
    "%%time\n",
    "Raw_path = os.path.join(basedirLow, '*tif')\n",
    "Path(basedirResults).mkdir(exist_ok = True)\n",
    "axes = 'ZYX'\n",
    "filesRaw = glob.glob(Raw_path)\n",
    "for fname in filesRaw:\n",
    "        x = imread(fname)\n",
    "        restored = model.predict(x, axes, n_tiles = (8, 16)) \n",
    "        print('Saving file' +  basedirResults + '%s_' + os.path.basename(fname))\n",
    "        save_tiff_imagej_compatible((basedirResults + '%s_' + os.path.basename(fname)) % model.name, restored, axes)\n",
    "\n"
   ]
  },
  {
   "cell_type": "code",
   "execution_count": null,
   "metadata": {},
   "outputs": [],
   "source": []
  },
  {
   "cell_type": "code",
   "execution_count": null,
   "metadata": {},
   "outputs": [],
   "source": [
    "\n",
    "\n",
    "    "
   ]
  },
  {
   "cell_type": "code",
   "execution_count": null,
   "metadata": {},
   "outputs": [],
   "source": []
  },
  {
   "cell_type": "code",
   "execution_count": null,
   "metadata": {},
   "outputs": [],
   "source": []
  },
  {
   "cell_type": "code",
   "execution_count": null,
   "metadata": {},
   "outputs": [],
   "source": []
  }
 ],
 "metadata": {
  "kernelspec": {
   "display_name": "Python [conda env:tensorflowpy3pt5]",
   "language": "python",
   "name": "conda-env-tensorflowpy3pt5-py"
  },
  "language_info": {
   "codemirror_mode": {
    "name": "ipython",
    "version": 3
   },
   "file_extension": ".py",
   "mimetype": "text/x-python",
   "name": "python",
   "nbconvert_exporter": "python",
   "pygments_lexer": "ipython3",
   "version": "3.5.5"
  }
 },
 "nbformat": 4,
 "nbformat_minor": 2
}
