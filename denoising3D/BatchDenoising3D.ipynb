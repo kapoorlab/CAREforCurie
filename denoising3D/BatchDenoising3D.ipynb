{
 "cells": [
  {
   "cell_type": "code",
   "execution_count": 9,
   "metadata": {},
   "outputs": [],
   "source": [
    "from __future__ import print_function, unicode_literals, absolute_import, division\n",
    "import numpy as np\n",
    "import matplotlib.pyplot as plt\n",
    "%matplotlib inline\n",
    "%config InlineBackend.figure_format = 'retina'\n",
    "import os\n",
    "import glob\n",
    "from csbdeep.utils.tf import limit_gpu_memory\n",
    "\n",
    "from tifffile import imread\n",
    "from csbdeep.utils import Path, download_and_extract_zip_file, plot_some\n",
    "from csbdeep.io import save_tiff_imagej_compatible\n",
    "from csbdeep.models import CARE\n",
    "\n"
   ]
  },
  {
   "cell_type": "code",
   "execution_count": 10,
   "metadata": {},
   "outputs": [],
   "source": [
    "\n",
    "\n",
    "basedirLow = '/data/u934/service_imagerie/v_kapoor/Fl4-2-Var/dysRNAi_ECadGFPki-hetero_32pre29_bin140x_mov5/'\n",
    "basedirResults = '/data/u934/service_imagerie/v_kapoor/Fl4-2-Var/dysRNAi_ECadGFPki-hetero_32pre29_bin140x_mov5/Results/'\n",
    "ModelName = 'BorialisS1S2FlorisMidNoiseModel'\n",
    "BaseDir = '/data/u934/service_imagerie/v_kapoor/CurieDeepLearningModels/'"
   ]
  },
  {
   "cell_type": "code",
   "execution_count": 11,
   "metadata": {},
   "outputs": [
    {
     "name": "stdout",
     "output_type": "stream",
     "text": [
      "Loading network weights from 'weights_best.h5'.\n"
     ]
    }
   ],
   "source": [
    "model = CARE(config = None, name = ModelName, basedir = BaseDir)"
   ]
  },
  {
   "cell_type": "code",
   "execution_count": null,
   "metadata": {},
   "outputs": [
    {
     "name": "stdout",
     "output_type": "stream",
     "text": [
      "Saving file/data/u934/service_imagerie/v_kapoor/Fl4-2-Var/dysRNAi_ECadGFPki-hetero_32pre29_bin140x_mov5/Results/%s_40x_bin1_05_5min_1_w2CSU-488_s1_t73.tif\n",
      "Saving file/data/u934/service_imagerie/v_kapoor/Fl4-2-Var/dysRNAi_ECadGFPki-hetero_32pre29_bin140x_mov5/Results/%s_40x_bin1_05_5min_1_w2CSU-488_s1_t171.tif\n",
      "Saving file/data/u934/service_imagerie/v_kapoor/Fl4-2-Var/dysRNAi_ECadGFPki-hetero_32pre29_bin140x_mov5/Results/%s_40x_bin1_05_5min_1_w2CSU-488_s1_t176.tif\n",
      "Saving file/data/u934/service_imagerie/v_kapoor/Fl4-2-Var/dysRNAi_ECadGFPki-hetero_32pre29_bin140x_mov5/Results/%s_40x_bin1_05_5min_1_w2CSU-488_s1_t74.tif\n",
      "Saving file/data/u934/service_imagerie/v_kapoor/Fl4-2-Var/dysRNAi_ECadGFPki-hetero_32pre29_bin140x_mov5/Results/%s_40x_bin1_05_5min_1_w2CSU-488_s1_t178.tif\n",
      "Saving file/data/u934/service_imagerie/v_kapoor/Fl4-2-Var/dysRNAi_ECadGFPki-hetero_32pre29_bin140x_mov5/Results/%s_40x_bin1_05_5min_1_w2CSU-488_s1_t104.tif\n",
      "Saving file/data/u934/service_imagerie/v_kapoor/Fl4-2-Var/dysRNAi_ECadGFPki-hetero_32pre29_bin140x_mov5/Results/%s_40x_bin1_05_5min_1_w2CSU-488_s1_t103.tif\n",
      "Saving file/data/u934/service_imagerie/v_kapoor/Fl4-2-Var/dysRNAi_ECadGFPki-hetero_32pre29_bin140x_mov5/Results/%s_40x_bin1_05_5min_1_w2CSU-488_s1_t99.tif\n",
      "Saving file/data/u934/service_imagerie/v_kapoor/Fl4-2-Var/dysRNAi_ECadGFPki-hetero_32pre29_bin140x_mov5/Results/%s_40x_bin1_05_5min_1_w2CSU-488_s1_t48.tif\n",
      "Saving file/data/u934/service_imagerie/v_kapoor/Fl4-2-Var/dysRNAi_ECadGFPki-hetero_32pre29_bin140x_mov5/Results/%s_40x_bin1_05_5min_1_w2CSU-488_s1_t136.tif\n",
      "Saving file/data/u934/service_imagerie/v_kapoor/Fl4-2-Var/dysRNAi_ECadGFPki-hetero_32pre29_bin140x_mov5/Results/%s_40x_bin1_05_5min_1_w2CSU-488_s1_t34.tif\n",
      "Saving file/data/u934/service_imagerie/v_kapoor/Fl4-2-Var/dysRNAi_ECadGFPki-hetero_32pre29_bin140x_mov5/Results/%s_40x_bin1_05_5min_1_w2CSU-488_s1_t33.tif\n",
      "Saving file/data/u934/service_imagerie/v_kapoor/Fl4-2-Var/dysRNAi_ECadGFPki-hetero_32pre29_bin140x_mov5/Results/%s_40x_bin1_05_5min_1_w2CSU-488_s1_t131.tif\n",
      "Saving file/data/u934/service_imagerie/v_kapoor/Fl4-2-Var/dysRNAi_ECadGFPki-hetero_32pre29_bin140x_mov5/Results/%s_40x_bin1_05_5min_1_w2CSU-488_s1_t192.tif\n",
      "Saving file/data/u934/service_imagerie/v_kapoor/Fl4-2-Var/dysRNAi_ECadGFPki-hetero_32pre29_bin140x_mov5/Results/%s_40x_bin1_05_5min_1_w2CSU-488_s1_t143.tif\n",
      "Saving file/data/u934/service_imagerie/v_kapoor/Fl4-2-Var/dysRNAi_ECadGFPki-hetero_32pre29_bin140x_mov5/Results/%s_40x_bin1_05_5min_1_w2CSU-488_s1_t90.tif\n",
      "Saving file/data/u934/service_imagerie/v_kapoor/Fl4-2-Var/dysRNAi_ECadGFPki-hetero_32pre29_bin140x_mov5/Results/%s_40x_bin1_05_5min_1_w2CSU-488_s1_t41.tif\n",
      "Saving file/data/u934/service_imagerie/v_kapoor/Fl4-2-Var/dysRNAi_ECadGFPki-hetero_32pre29_bin140x_mov5/Results/%s_40x_bin1_05_5min_1_w2CSU-488_s1_t97.tif\n",
      "Saving file/data/u934/service_imagerie/v_kapoor/Fl4-2-Var/dysRNAi_ECadGFPki-hetero_32pre29_bin140x_mov5/Results/%s_40x_bin1_05_5min_1_w2CSU-488_s1_t46.tif\n",
      "Saving file/data/u934/service_imagerie/v_kapoor/Fl4-2-Var/dysRNAi_ECadGFPki-hetero_32pre29_bin140x_mov5/Results/%s_40x_bin1_05_5min_1_w2CSU-488_s1_t138.tif\n",
      "Saving file/data/u934/service_imagerie/v_kapoor/Fl4-2-Var/dysRNAi_ECadGFPki-hetero_32pre29_bin140x_mov5/Results/%s_40x_bin1_05_5min_1_w2CSU-488_s1_t195.tif\n",
      "Saving file/data/u934/service_imagerie/v_kapoor/Fl4-2-Var/dysRNAi_ECadGFPki-hetero_32pre29_bin140x_mov5/Results/%s_40x_bin1_05_5min_1_w2CSU-488_s1_t144.tif\n",
      "Saving file/data/u934/service_imagerie/v_kapoor/Fl4-2-Var/dysRNAi_ECadGFPki-hetero_32pre29_bin140x_mov5/Results/%s_40x_bin1_05_5min_1_w2CSU-488_s1_t129.tif\n",
      "Saving file/data/u934/service_imagerie/v_kapoor/Fl4-2-Var/dysRNAi_ECadGFPki-hetero_32pre29_bin140x_mov5/Results/%s_40x_bin1_05_5min_1_w2CSU-488_s1_t57.tif\n",
      "Saving file/data/u934/service_imagerie/v_kapoor/Fl4-2-Var/dysRNAi_ECadGFPki-hetero_32pre29_bin140x_mov5/Results/%s_40x_bin1_05_5min_1_w2CSU-488_s1_t86.tif\n",
      "Saving file/data/u934/service_imagerie/v_kapoor/Fl4-2-Var/dysRNAi_ECadGFPki-hetero_32pre29_bin140x_mov5/Results/%s_40x_bin1_05_5min_1_w2CSU-488_s1_t155.tif\n",
      "Saving file/data/u934/service_imagerie/v_kapoor/Fl4-2-Var/dysRNAi_ECadGFPki-hetero_32pre29_bin140x_mov5/Results/%s_40x_bin1_05_5min_1_w2CSU-488_s1_t184.tif\n",
      "Saving file/data/u934/service_imagerie/v_kapoor/Fl4-2-Var/dysRNAi_ECadGFPki-hetero_32pre29_bin140x_mov5/Results/%s_40x_bin1_05_5min_1_w2CSU-488_s1_t7.tif\n",
      "Saving file/data/u934/service_imagerie/v_kapoor/Fl4-2-Var/dysRNAi_ECadGFPki-hetero_32pre29_bin140x_mov5/Results/%s_40x_bin1_05_5min_1_w2CSU-488_s1_t152.tif\n",
      "Saving file/data/u934/service_imagerie/v_kapoor/Fl4-2-Var/dysRNAi_ECadGFPki-hetero_32pre29_bin140x_mov5/Results/%s_40x_bin1_05_5min_1_w2CSU-488_s1_t183.tif\n",
      "Saving file/data/u934/service_imagerie/v_kapoor/Fl4-2-Var/dysRNAi_ECadGFPki-hetero_32pre29_bin140x_mov5/Results/%s_40x_bin1_05_5min_1_w2CSU-488_s1_t50.tif\n",
      "Saving file/data/u934/service_imagerie/v_kapoor/Fl4-2-Var/dysRNAi_ECadGFPki-hetero_32pre29_bin140x_mov5/Results/%s_40x_bin1_05_5min_1_w2CSU-488_s1_t81.tif\n",
      "Saving file/data/u934/service_imagerie/v_kapoor/Fl4-2-Var/dysRNAi_ECadGFPki-hetero_32pre29_bin140x_mov5/Results/%s_40x_bin1_05_5min_1_w2CSU-488_s1_t22.tif\n",
      "Saving file/data/u934/service_imagerie/v_kapoor/Fl4-2-Var/dysRNAi_ECadGFPki-hetero_32pre29_bin140x_mov5/Results/%s_40x_bin1_05_5min_1_w2CSU-488_s1_t120.tif\n",
      "Saving file/data/u934/service_imagerie/v_kapoor/Fl4-2-Var/dysRNAi_ECadGFPki-hetero_32pre29_bin140x_mov5/Results/%s_40x_bin1_05_5min_1_w2CSU-488_s1_t127.tif\n",
      "Saving file/data/u934/service_imagerie/v_kapoor/Fl4-2-Var/dysRNAi_ECadGFPki-hetero_32pre29_bin140x_mov5/Results/%s_40x_bin1_05_5min_1_w2CSU-488_s1_t59.tif\n",
      "Saving file/data/u934/service_imagerie/v_kapoor/Fl4-2-Var/dysRNAi_ECadGFPki-hetero_32pre29_bin140x_mov5/Results/%s_40x_bin1_05_5min_1_w2CSU-488_s1_t88.tif\n",
      "Saving file/data/u934/service_imagerie/v_kapoor/Fl4-2-Var/dysRNAi_ECadGFPki-hetero_32pre29_bin140x_mov5/Results/%s_40x_bin1_05_5min_1_w2CSU-488_s1_t25.tif\n",
      "Saving file/data/u934/service_imagerie/v_kapoor/Fl4-2-Var/dysRNAi_ECadGFPki-hetero_32pre29_bin140x_mov5/Results/%s_40x_bin1_05_5min_1_w2CSU-488_s1_t9.tif\n",
      "Saving file/data/u934/service_imagerie/v_kapoor/Fl4-2-Var/dysRNAi_ECadGFPki-hetero_32pre29_bin140x_mov5/Results/%s_40x_bin1_05_5min_1_w2CSU-488_s1_t112.tif\n",
      "Saving file/data/u934/service_imagerie/v_kapoor/Fl4-2-Var/dysRNAi_ECadGFPki-hetero_32pre29_bin140x_mov5/Results/%s_40x_bin1_05_5min_1_w2CSU-488_s1_t10.tif\n",
      "Saving file/data/u934/service_imagerie/v_kapoor/Fl4-2-Var/dysRNAi_ECadGFPki-hetero_32pre29_bin140x_mov5/Results/%s_40x_bin1_05_5min_1_w2CSU-488_s1_t169.tif\n",
      "Saving file/data/u934/service_imagerie/v_kapoor/Fl4-2-Var/dysRNAi_ECadGFPki-hetero_32pre29_bin140x_mov5/Results/%s_40x_bin1_05_5min_1_w2CSU-488_s1_t17.tif\n",
      "Saving file/data/u934/service_imagerie/v_kapoor/Fl4-2-Var/dysRNAi_ECadGFPki-hetero_32pre29_bin140x_mov5/Results/%s_40x_bin1_05_5min_1_w2CSU-488_s1_t202.tif\n",
      "Saving file/data/u934/service_imagerie/v_kapoor/Fl4-2-Var/dysRNAi_ECadGFPki-hetero_32pre29_bin140x_mov5/Results/%s_40x_bin1_05_5min_1_w2CSU-488_s1_t115.tif\n",
      "Saving file/data/u934/service_imagerie/v_kapoor/Fl4-2-Var/dysRNAi_ECadGFPki-hetero_32pre29_bin140x_mov5/Results/%s_40x_bin1_05_5min_1_w2CSU-488_s1_t167.tif\n",
      "Saving file/data/u934/service_imagerie/v_kapoor/Fl4-2-Var/dysRNAi_ECadGFPki-hetero_32pre29_bin140x_mov5/Results/%s_40x_bin1_05_5min_1_w2CSU-488_s1_t19.tif\n",
      "Saving file/data/u934/service_imagerie/v_kapoor/Fl4-2-Var/dysRNAi_ECadGFPki-hetero_32pre29_bin140x_mov5/Results/%s_40x_bin1_05_5min_1_w2CSU-488_s1_t65.tif\n",
      "Saving file/data/u934/service_imagerie/v_kapoor/Fl4-2-Var/dysRNAi_ECadGFPki-hetero_32pre29_bin140x_mov5/Results/%s_40x_bin1_05_5min_1_w2CSU-488_s1_t62.tif\n",
      "Saving file/data/u934/service_imagerie/v_kapoor/Fl4-2-Var/dysRNAi_ECadGFPki-hetero_32pre29_bin140x_mov5/Results/%s_40x_bin1_05_5min_1_w2CSU-488_s1_t160.tif\n",
      "Saving file/data/u934/service_imagerie/v_kapoor/Fl4-2-Var/dysRNAi_ECadGFPki-hetero_32pre29_bin140x_mov5/Results/%s_40x_bin1_05_5min_1_w2CSU-488_s1_t96.tif\n",
      "Saving file/data/u934/service_imagerie/v_kapoor/Fl4-2-Var/dysRNAi_ECadGFPki-hetero_32pre29_bin140x_mov5/Results/%s_40x_bin1_05_5min_1_w2CSU-488_s1_t47.tif\n",
      "Saving file/data/u934/service_imagerie/v_kapoor/Fl4-2-Var/dysRNAi_ECadGFPki-hetero_32pre29_bin140x_mov5/Results/%s_40x_bin1_05_5min_1_w2CSU-488_s1_t139.tif\n"
     ]
    },
    {
     "name": "stdout",
     "output_type": "stream",
     "text": [
      "Saving file/data/u934/service_imagerie/v_kapoor/Fl4-2-Var/dysRNAi_ECadGFPki-hetero_32pre29_bin140x_mov5/Results/%s_40x_bin1_05_5min_1_w2CSU-488_s1_t194.tif\n",
      "Saving file/data/u934/service_imagerie/v_kapoor/Fl4-2-Var/dysRNAi_ECadGFPki-hetero_32pre29_bin140x_mov5/Results/%s_40x_bin1_05_5min_1_w2CSU-488_s1_t145.tif\n"
     ]
    }
   ],
   "source": [
    "%%time\n",
    "\n",
    "Raw_path = os.path.join(basedirLow, '*tif')\n",
    "Path(basedirResults).mkdir(exist_ok = True)\n",
    "axes = 'ZYX'\n",
    "filesRaw = glob.glob(Raw_path)\n",
    "for fname in filesRaw:\n",
    "        x = imread(fname)\n",
    "        restored = model.predict(x, axes, n_tiles = (8,16)) \n",
    "        print('Saving file' +  basedirResults + '%s_' + os.path.basename(fname))\n",
    "        save_tiff_imagej_compatible((basedirResults + '%s_' + os.path.basename(fname)) % model.name, restored, axes)\n",
    "\n"
   ]
  },
  {
   "cell_type": "code",
   "execution_count": null,
   "metadata": {},
   "outputs": [],
   "source": []
  },
  {
   "cell_type": "code",
   "execution_count": null,
   "metadata": {},
   "outputs": [],
   "source": [
    "\n",
    "\n",
    "    "
   ]
  },
  {
   "cell_type": "code",
   "execution_count": null,
   "metadata": {},
   "outputs": [],
   "source": []
  },
  {
   "cell_type": "code",
   "execution_count": null,
   "metadata": {},
   "outputs": [],
   "source": []
  },
  {
   "cell_type": "code",
   "execution_count": null,
   "metadata": {},
   "outputs": [],
   "source": []
  }
 ],
 "metadata": {
  "kernelspec": {
   "display_name": "Python [conda env:tensorflowpy3pt5]",
   "language": "python",
   "name": "conda-env-tensorflowpy3pt5-py"
  },
  "language_info": {
   "codemirror_mode": {
    "name": "ipython",
    "version": 3
   },
   "file_extension": ".py",
   "mimetype": "text/x-python",
   "name": "python",
   "nbconvert_exporter": "python",
   "pygments_lexer": "ipython3",
   "version": "3.5.5"
  }
 },
 "nbformat": 4,
 "nbformat_minor": 2
}
