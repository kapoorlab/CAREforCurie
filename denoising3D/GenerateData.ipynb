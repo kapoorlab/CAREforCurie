{
 "cells": [
  {
   "cell_type": "code",
   "execution_count": 2,
   "metadata": {},
   "outputs": [
    {
     "name": "stderr",
     "output_type": "stream",
     "text": [
      "Using TensorFlow backend.\n"
     ]
    }
   ],
   "source": [
    "import sys\n",
    "sys.path.append(\"../HelperFunctions\")\n",
    "from __future__ import print_function, unicode_literals, absolute_import, division\n",
    "import numpy as np\n",
    "import matplotlib.pyplot as plt\n",
    "%matplotlib inline\n",
    "%config InlineBackend.figure_format = 'retina'\n",
    "import cv2\n",
    "from tifffile import imread\n",
    "from csbdeep.utils import download_and_extract_zip_file, plot_some\n",
    "from csbdeep.data import RawData, create_patches\n",
    "from selectrawdata import SelectRawData\n"
   ]
  },
  {
   "cell_type": "code",
   "execution_count": null,
   "metadata": {},
   "outputs": [
    {
     "name": "stdout",
     "output_type": "stream",
     "text": [
      "/data/u934/service_imagerie/v_kapoor/CurieTrainingDatasets/Raw_Datasets/BorialisS1S2/ModelT300/GTbintwo\n",
      "/data/u934/service_imagerie/v_kapoor/CurieTrainingDatasets/Raw_Datasets/BorialisS1S2/ModelT300/Lowbintwo\n"
     ]
    }
   ],
   "source": [
    "#Downsample data\n",
    "GTdir = '/data/u934/service_imagerie/v_kapoor/CurieTrainingDatasets/Raw_Datasets/BorialisS1S2/ModelT300/GT/'\n",
    "Lowdir =  '/data/u934/service_imagerie/v_kapoor/CurieTrainingDatasets/Raw_Datasets/BorialisS1S2/ModelT300/Low/'\n",
    "SaveGTdir =  '/data/u934/service_imagerie/v_kapoor/CurieTrainingDatasets/Raw_Datasets/BorialisS1S2/ModelT300/GTbintwo/'\n",
    "SaveLowdir = '/data/u934/service_imagerie/v_kapoor/CurieTrainingDatasets/Raw_Datasets/BorialisS1S2/ModelT300/Lowbintwo/'\n",
    "\n",
    "\n",
    "SelectRawData.downsample_data(GTdir, Lowdir, SaveGTdir, SaveLowdir,pattern = '*.tif', axes = 'ZYX', downsamplefactor = 0.5, interpolationscheme = cv2.INTER_CUBIC )\n"
   ]
  },
  {
   "cell_type": "code",
   "execution_count": null,
   "metadata": {},
   "outputs": [],
   "source": [
    "raw_data = SelectRawData.Shuffle_from_folder(\n",
    "    basepath    = '/data/u934/service_imagerie/v_kapoor/CurieTrainingDatasets/Raw_Datasets/BorialisS1S2/ModelT300/',\n",
    "    source_dirs = ['Lowbintwo'],\n",
    "    target_dir  = 'GTbintwo',\n",
    "    axes        = 'ZYX'\n",
    ")"
   ]
  },
  {
   "cell_type": "code",
   "execution_count": null,
   "metadata": {
    "scrolled": false
   },
   "outputs": [],
   "source": [
    "X, Y, XY_axes = create_patches (\n",
    "    raw_data            = raw_data,\n",
    "    patch_size          = (16,64,64),\n",
    "    n_patches_per_image = 128,\n",
    "    save_file           = '/data/u934/service_imagerie/v_kapoor/CurieTrainingDatasets/Drosophilla/BorialisS1S2Bin2FlorisMidNoiseModel.npz',\n",
    ")"
   ]
  },
  {
   "cell_type": "code",
   "execution_count": null,
   "metadata": {},
   "outputs": [],
   "source": [
    "assert X.shape == Y.shape\n",
    "print(\"shape of X,Y =\", X.shape)\n",
    "print(\"axes  of X,Y =\", XY_axes)"
   ]
  },
  {
   "cell_type": "code",
   "execution_count": null,
   "metadata": {
    "scrolled": true
   },
   "outputs": [],
   "source": [
    "for i in range(4):\n",
    "    plt.figure(figsize=(16,4))\n",
    "    sl = slice(8*i, 8*(i+1)), 0\n",
    "    plot_some(X[sl],Y[sl],title_list=[np.arange(sl[0].start,sl[0].stop)])\n",
    "    plt.show()\n",
    "None;"
   ]
  },
  {
   "cell_type": "code",
   "execution_count": null,
   "metadata": {},
   "outputs": [],
   "source": []
  },
  {
   "cell_type": "code",
   "execution_count": null,
   "metadata": {},
   "outputs": [],
   "source": []
  }
 ],
 "metadata": {
  "kernelspec": {
   "display_name": "Python [conda env:tensorflowEXP]",
   "language": "python",
   "name": "conda-env-tensorflowEXP-py"
  },
  "language_info": {
   "codemirror_mode": {
    "name": "ipython",
    "version": 3
   },
   "file_extension": ".py",
   "mimetype": "text/x-python",
   "name": "python",
   "nbconvert_exporter": "python",
   "pygments_lexer": "ipython3",
   "version": "3.5.6"
  }
 },
 "nbformat": 4,
 "nbformat_minor": 2
}
