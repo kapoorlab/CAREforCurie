{
 "cells": [
  {
   "cell_type": "code",
   "execution_count": 7,
   "metadata": {},
   "outputs": [],
   "source": [
    "from __future__ import print_function, unicode_literals, absolute_import, division\n",
    "import numpy as np\n",
    "import sys\n",
    "sys.path.append(\"../HelperFunctions\")\n",
    "import matplotlib.pyplot as plt\n",
    "%matplotlib inline\n",
    "%config InlineBackend.figure_format = 'retina'\n",
    "import os\n",
    "import glob\n",
    "from csbdeep.utils.tf import limit_gpu_memory\n",
    "from utils import MakeBinary, WatershedBinary\n",
    "from tifffile import imread\n",
    "from csbdeep.utils import Path, download_and_extract_zip_file, plot_some\n",
    "from csbdeep.io import save_tiff_imagej_compatible\n",
    "from csbdeep.models import CARE\n"
   ]
  },
  {
   "cell_type": "code",
   "execution_count": null,
   "metadata": {},
   "outputs": [],
   "source": [
    "basedirProjection = '/data/u934/service_imagerie/v_kapoor/Fl4-2-Var/ProjectedResults/'\n",
    "basedirResultsBinary = '/data/u934/service_imagerie/v_kapoor/Fl4-2-Var/ProjectedResults/BinaryResults/'\n",
    "basedirResultsInteger = '/data/u934/service_imagerie/v_kapoor/Fl4-2-Var/ProjectedResults/WatershedResults/'\n",
    "\n",
    "ModelName = 'BorialisFlorisSegmentation'\n",
    "BaseDir = '/data/u934/service_imagerie/v_kapoor/CurieDeepLearningModels/'\n",
    "Path(basedirResultsBinary).mkdir(exist_ok = True)\n",
    "Path(basedirResultsInteger).mkdir(exist_ok = True)"
   ]
  },
  {
   "cell_type": "code",
   "execution_count": null,
   "metadata": {},
   "outputs": [],
   "source": [
    "model = CARE(config = None, name = ModelName, basedir = BaseDir)"
   ]
  },
  {
   "cell_type": "code",
   "execution_count": null,
   "metadata": {},
   "outputs": [],
   "source": [
    "%%time\n",
    "\n",
    "Raw_path = os.path.join(basedirLow, '*tif')\n",
    "\n",
    "\n",
    "axes = 'TYX'\n",
    "filesRaw = glob.glob(Raw_path)\n",
    "\n",
    "filesRaw.sort\n",
    "print(len(filesRaw))\n",
    "for fname in filesRaw:\n",
    " \n",
    "        x = imread(fname)\n",
    "        time = x.shape[0]\n",
    "        Binary = np.zeros([time, x.shape[1], x.shape[2]])\n",
    "        Integer = np.zeros([time, x.shape[1], x.shape[2]])\n",
    "        for i in range(0, time):\n",
    "            \n",
    "            image = x[i,:,:]\n",
    "        \n",
    "            segmented = model.predict(image, axes, n_tiles = (8, 8)) \n",
    "            #Make binary\n",
    "            binary = MakeBinary(segmented)\n",
    "            #Watershed\n",
    "            integer = WatershedBinary(binary)\n",
    "            Binary[i,:,:] = binary\n",
    "            Integer[i,:,:] = integer\n",
    "    \n",
    "        print('Saving file' +  basedirResultsBinary + '%s_' + os.path.basename(fname))\n",
    "        save_tiff_imagej_compatible((basedirResultsBinary + '%s_' + 'Binary' +  os.path.basename(fname)) %  model.name , Binary, axes)\n",
    "\n",
    "        save_tiff_imagej_compatible((basedirResultsInteger + '%s_' + 'Integer' + os.path.basename(fname)) % model.name, Integer, axes)\n"
   ]
  }
 ],
 "metadata": {
  "kernelspec": {
   "display_name": "Python [conda env:tensorflowLOW]",
   "language": "python",
   "name": "conda-env-tensorflowLOW-py"
  },
  "language_info": {
   "codemirror_mode": {
    "name": "ipython",
    "version": 3
   },
   "file_extension": ".py",
   "mimetype": "text/x-python",
   "name": "python",
   "nbconvert_exporter": "python",
   "pygments_lexer": "ipython3",
   "version": "3.5.6"
  }
 },
 "nbformat": 4,
 "nbformat_minor": 2
}
