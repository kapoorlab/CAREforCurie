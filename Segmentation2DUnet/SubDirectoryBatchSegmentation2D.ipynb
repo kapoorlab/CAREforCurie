{
 "cells": [
  {
   "cell_type": "code",
   "execution_count": null,
   "metadata": {},
   "outputs": [],
   "source": [
    "from __future__ import print_function, unicode_literals, absolute_import, division\n",
    "import numpy as np\n",
    "import sys\n",
    "sys.path.append(\"../HelperFunctions\")\n",
    "import matplotlib.pyplot as plt\n",
    "%matplotlib inline\n",
    "%config InlineBackend.figure_format = 'retina'\n",
    "import os\n",
    "import glob\n",
    "from utils import MakeBinary, WatershedBinary\n",
    "\n",
    "from tifffile import imread\n",
    "from csbdeep.utils import Path, download_and_extract_zip_file, plot_some\n",
    "from csbdeep.io import save_tiff_imagej_compatible\n",
    "from csbdeep.models import CARE"
   ]
  },
  {
   "cell_type": "code",
   "execution_count": null,
   "metadata": {},
   "outputs": [],
   "source": [
    "masterdirProjection = '/data/u934/service_imagerie/v_kapoor/Fl4-2-Var/AllProjections/'\n",
    "\n",
    "subdir = next(os.walk(masterdirLow))\n",
    "ModelName = 'BorialisFlorisSegmentation'\n",
    "\n",
    "BaseDir = '/data/u934/service_imagerie/v_kapoor/CurieDeepLearningModels/'\n",
    "model = CARE(config = None, name = ModelName, basedir = BaseDir)\n",
    "axes = 'TYX'\n"
   ]
  },
  {
   "cell_type": "code",
   "execution_count": null,
   "metadata": {},
   "outputs": [],
   "source": [
    "for x in subdir[1]:\n",
    "    currentdir = masterdirLow + x\n",
    "    \n",
    "    basedirResultsBinary = currentdir + '/BinaryResults/'\n",
    "    basedirResultsInteger = currentdir + '/WatershedResults/'\n",
    "    Path(basedirResultsBinary).mkdir(exist_ok = True)\n",
    "    Path(basedirResultsInteger).mkdir(exist_ok = True)\n",
    "    \n",
    "\n",
    "\n",
    "    Raw_path = os.path.join(currentdir, '*tif')\n",
    "\n",
    "\n",
    "\n",
    "    filesRaw = glob.glob(Raw_path)\n",
    "\n",
    "\n",
    "\n",
    "    for fname in filesRaw:\n",
    " \n",
    "        x = imread(fname)\n",
    "        time = x.shape[0]\n",
    "        Binary = np.zeros([time, x.shape[1], x.shape[2]])\n",
    "        Integer = np.zeros([time, x.shape[1], x.shape[2]])\n",
    "        for i in range(0, time):\n",
    "            \n",
    "            image = x[i,:,:]\n",
    "        \n",
    "            segmented = model.predict(image, axes, n_tiles = (8, 8)) \n",
    "            #Make binary\n",
    "            binary = MakeBinary(segmented)\n",
    "            #Watershed\n",
    "            integer = WatershedBinary(binary)\n",
    "            Binary[i,:,:] = binary\n",
    "            Integer[i,:,:] = integer\n",
    "    \n",
    "        print('Saving file' +  basedirResultsBinary + '%s_' + os.path.basename(fname))\n",
    "        save_tiff_imagej_compatible((basedirResultsBinary + '%s_' + 'Binary' +  os.path.basename(fname)) %  model.name , Binary, axes)\n",
    "\n",
    "        save_tiff_imagej_compatible((basedirResultsInteger + '%s_' + 'Integer' + os.path.basename(fname)) % model.name, Integer, axes)\n"
   ]
  }
 ],
 "metadata": {
  "kernelspec": {
   "display_name": "Python [conda env:tensorflowLOW]",
   "language": "python",
   "name": "conda-env-tensorflowLOW-py"
  },
  "language_info": {
   "codemirror_mode": {
    "name": "ipython",
    "version": 3
   },
   "file_extension": ".py",
   "mimetype": "text/x-python",
   "name": "python",
   "nbconvert_exporter": "python",
   "pygments_lexer": "ipython3",
   "version": "3.5.6"
  }
 },
 "nbformat": 4,
 "nbformat_minor": 2
}
